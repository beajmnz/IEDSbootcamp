{
 "cells": [
  {
   "cell_type": "markdown",
   "id": "98044c31",
   "metadata": {},
   "source": [
    "# References"
   ]
  },
  {
   "cell_type": "markdown",
   "id": "fd73e048",
   "metadata": {},
   "source": [
    "## References"
   ]
  },
  {
   "cell_type": "markdown",
   "id": "f5816df6",
   "metadata": {},
   "source": [
    "* The official [Python Tutorial](https://docs.python.org/3/tutorial/index.html)\n",
    "* [Dive into Python 3](https://diveinto.org/python3/table-of-contents.html), by Mark Pilgrim, 2011\n",
    "* [Think Python](https://greenteapress.com/wp/think-python-2e/), by Allen B. Downey, 2015\n",
    "* [Automate the Boring Stuff with Python](https://automatetheboringstuff.com/#toc), by Al Sweigart, 2019\n",
    "* [Automate the Boring Stuff with Python](https://www.youtube.com/watch?v=1F_OgqRuSdI&list=PL0-84-yl1fUnRuXGFe_F7qSH1LEnn9LkW), 15 preview videos (out of 50 videos available on Udemy)\n",
    "* [PEP 8, unofficial](https://pep8.org/)\n",
    "* [PyFormat](https://pyformat.info)"
   ]
  },
  {
   "cell_type": "markdown",
   "id": "4d699f2e",
   "metadata": {},
   "source": [
    "## Pitfalls"
   ]
  },
  {
   "cell_type": "markdown",
   "id": "6b142332",
   "metadata": {},
   "source": [
    "* [10 Python mistakes](https://www.toptal.com/python/top-10-mistakes-that-python-programmers-make)"
   ]
  },
  {
   "cell_type": "markdown",
   "id": "8852ed75",
   "metadata": {},
   "source": [
    "## Cheat sheets"
   ]
  },
  {
   "cell_type": "markdown",
   "id": "a9d6bcd4",
   "metadata": {},
   "source": [
    "* https://towardsdatascience.com/collecting-data-science-cheat-sheets-d2cdff092855\n",
    "* https://www.datacamp.com/community/data-science-cheatsheets\n",
    "* https://ehmatthes.github.io/pcc_2e/cheat_sheets/cheat_sheets/"
   ]
  },
  {
   "cell_type": "markdown",
   "id": "72da1757",
   "metadata": {},
   "source": [
    "## Interview questions"
   ]
  },
  {
   "cell_type": "markdown",
   "id": "5de940d0",
   "metadata": {},
   "source": [
    "* [Hard questions!](https://www.toptal.com/python#hiring-guide)"
   ]
  }
 ],
 "metadata": {
  "kernelspec": {
   "display_name": "Python 3",
   "language": "python",
   "name": "python3"
  },
  "language_info": {
   "codemirror_mode": {
    "name": "ipython",
    "version": 3
   },
   "file_extension": ".py",
   "mimetype": "text/x-python",
   "name": "python",
   "nbconvert_exporter": "python",
   "pygments_lexer": "ipython3",
   "version": "3.9.2"
  }
 },
 "nbformat": 4,
 "nbformat_minor": 5
}
