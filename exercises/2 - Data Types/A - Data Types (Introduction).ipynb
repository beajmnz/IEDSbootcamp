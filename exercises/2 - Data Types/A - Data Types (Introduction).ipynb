{
 "cells": [
  {
   "cell_type": "markdown",
   "id": "caroline-transmission",
   "metadata": {},
   "source": [
    "# Data Types"
   ]
  },
  {
   "cell_type": "markdown",
   "id": "grave-armor",
   "metadata": {},
   "source": [
    "Main data types in Python:\n",
    "- numbers can be:\n",
    "    - **integers** (`0`, `1`, and `2`)\n",
    "    - **floats** (`1.0`, `1.1`, and `1.2`)\n",
    "    - fractions (1/2 and 2/3)\n",
    "    - complex numbers\n",
    "- **strings** are sequences of Unicode characters (e.g. a text document)\n",
    "- **booleans** are either `True` or `False`\n",
    "- **None** is a null value\n",
    "- bytes and byte arrays (e.g. a jpeg image file)"
   ]
  }
 ],
 "metadata": {
  "kernelspec": {
   "display_name": "Python 3",
   "language": "python",
   "name": "python3"
  },
  "language_info": {
   "codemirror_mode": {
    "name": "ipython",
    "version": 3
   },
   "file_extension": ".py",
   "mimetype": "text/x-python",
   "name": "python",
   "nbconvert_exporter": "python",
   "pygments_lexer": "ipython3",
   "version": "3.9.2"
  }
 },
 "nbformat": 4,
 "nbformat_minor": 5
}
