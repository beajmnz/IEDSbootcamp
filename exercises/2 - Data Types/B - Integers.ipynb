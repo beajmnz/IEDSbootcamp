{
 "cells": [
  {
   "cell_type": "markdown",
   "id": "focal-funds",
   "metadata": {},
   "source": [
    "# Data Type: Integers"
   ]
  },
  {
   "cell_type": "markdown",
   "id": "intermediate-water",
   "metadata": {},
   "source": [
    "## Creation"
   ]
  },
  {
   "cell_type": "markdown",
   "id": "weird-senator",
   "metadata": {},
   "source": [
    "Create a variable called `age` containing an integer:"
   ]
  },
  {
   "cell_type": "code",
   "execution_count": 1,
   "id": "million-research",
   "metadata": {},
   "outputs": [],
   "source": [
    "age = 41"
   ]
  },
  {
   "cell_type": "markdown",
   "id": "dutch-muscle",
   "metadata": {},
   "source": [
    "## Type"
   ]
  },
  {
   "cell_type": "code",
   "execution_count": 2,
   "id": "portable-reform",
   "metadata": {},
   "outputs": [
    {
     "data": {
      "text/plain": [
       "int"
      ]
     },
     "execution_count": 2,
     "metadata": {},
     "output_type": "execute_result"
    }
   ],
   "source": [
    "type(age)"
   ]
  },
  {
   "cell_type": "markdown",
   "id": "corresponding-aaron",
   "metadata": {},
   "source": [
    "## Conversion"
   ]
  },
  {
   "cell_type": "markdown",
   "id": "realistic-literacy",
   "metadata": {},
   "source": [
    "### From strings"
   ]
  },
  {
   "cell_type": "markdown",
   "id": "special-arkansas",
   "metadata": {},
   "source": [
    "Turn a string into an integer:"
   ]
  },
  {
   "cell_type": "code",
   "execution_count": 3,
   "id": "swedish-bridges",
   "metadata": {},
   "outputs": [],
   "source": [
    "age_as_string = \"41\""
   ]
  },
  {
   "cell_type": "code",
   "execution_count": 4,
   "id": "defined-disaster",
   "metadata": {},
   "outputs": [
    {
     "data": {
      "text/plain": [
       "str"
      ]
     },
     "execution_count": 4,
     "metadata": {},
     "output_type": "execute_result"
    }
   ],
   "source": [
    "type(age_as_string)"
   ]
  },
  {
   "cell_type": "code",
   "execution_count": 5,
   "id": "stopped-contrary",
   "metadata": {},
   "outputs": [
    {
     "data": {
      "text/plain": [
       "41"
      ]
     },
     "execution_count": 5,
     "metadata": {},
     "output_type": "execute_result"
    }
   ],
   "source": [
    "int(age_as_string)"
   ]
  },
  {
   "cell_type": "code",
   "execution_count": 6,
   "id": "alternate-rover",
   "metadata": {},
   "outputs": [],
   "source": [
    "age = int(age_as_string)"
   ]
  },
  {
   "cell_type": "code",
   "execution_count": 7,
   "id": "functioning-scholarship",
   "metadata": {},
   "outputs": [
    {
     "data": {
      "text/plain": [
       "int"
      ]
     },
     "execution_count": 7,
     "metadata": {},
     "output_type": "execute_result"
    }
   ],
   "source": [
    "type(age)"
   ]
  },
  {
   "cell_type": "markdown",
   "id": "wired-shuttle",
   "metadata": {},
   "source": [
    "### From floats"
   ]
  },
  {
   "cell_type": "markdown",
   "id": "close-luxembourg",
   "metadata": {},
   "source": [
    "Turn a float into an integer:"
   ]
  },
  {
   "cell_type": "code",
   "execution_count": 8,
   "id": "comparative-companion",
   "metadata": {},
   "outputs": [
    {
     "data": {
      "text/plain": [
       "3"
      ]
     },
     "execution_count": 8,
     "metadata": {},
     "output_type": "execute_result"
    }
   ],
   "source": [
    "int(3.0)"
   ]
  },
  {
   "cell_type": "code",
   "execution_count": 9,
   "id": "narrow-settle",
   "metadata": {},
   "outputs": [
    {
     "data": {
      "text/plain": [
       "3"
      ]
     },
     "execution_count": 9,
     "metadata": {},
     "output_type": "execute_result"
    }
   ],
   "source": [
    "int(3.2)"
   ]
  },
  {
   "cell_type": "code",
   "execution_count": 10,
   "id": "every-helmet",
   "metadata": {},
   "outputs": [
    {
     "data": {
      "text/plain": [
       "3"
      ]
     },
     "execution_count": 10,
     "metadata": {},
     "output_type": "execute_result"
    }
   ],
   "source": [
    "int(3.99)"
   ]
  },
  {
   "cell_type": "markdown",
   "id": "essential-forestry",
   "metadata": {},
   "source": [
    "<div class=\"alert alert-warning\">\n",
    "\n",
    "<b>Beware:</b> The conversion from float to integer **truncates** the float!\n",
    "\n",
    "</div>"
   ]
  },
  {
   "cell_type": "markdown",
   "id": "aggregate-football",
   "metadata": {},
   "source": [
    "## Demo 1: Mathematics (`+`, `-`, `*`)"
   ]
  },
  {
   "cell_type": "code",
   "execution_count": 11,
   "id": "advance-caribbean",
   "metadata": {},
   "outputs": [],
   "source": [
    "x = 2"
   ]
  },
  {
   "cell_type": "code",
   "execution_count": 12,
   "id": "spread-bidding",
   "metadata": {},
   "outputs": [],
   "source": [
    "y = 3"
   ]
  },
  {
   "cell_type": "code",
   "execution_count": 13,
   "id": "bearing-ethiopia",
   "metadata": {},
   "outputs": [],
   "source": [
    "z = 5"
   ]
  },
  {
   "cell_type": "markdown",
   "id": "planned-confusion",
   "metadata": {},
   "source": [
    "### Addition"
   ]
  },
  {
   "cell_type": "markdown",
   "id": "numerous-battlefield",
   "metadata": {},
   "source": [
    "Add `x` and `y`:"
   ]
  },
  {
   "cell_type": "code",
   "execution_count": 14,
   "id": "industrial-korea",
   "metadata": {},
   "outputs": [
    {
     "data": {
      "text/plain": [
       "5"
      ]
     },
     "execution_count": 14,
     "metadata": {},
     "output_type": "execute_result"
    }
   ],
   "source": [
    "x + y"
   ]
  },
  {
   "cell_type": "markdown",
   "id": "established-visit",
   "metadata": {},
   "source": [
    "Add `x` and `y`, and store the result in `result`:"
   ]
  },
  {
   "cell_type": "code",
   "execution_count": 15,
   "id": "completed-theater",
   "metadata": {},
   "outputs": [],
   "source": [
    "result = x + y"
   ]
  },
  {
   "cell_type": "code",
   "execution_count": 16,
   "id": "moral-flooring",
   "metadata": {},
   "outputs": [
    {
     "data": {
      "text/plain": [
       "5"
      ]
     },
     "execution_count": 16,
     "metadata": {},
     "output_type": "execute_result"
    }
   ],
   "source": [
    "result"
   ]
  },
  {
   "cell_type": "code",
   "execution_count": 17,
   "id": "resistant-merit",
   "metadata": {},
   "outputs": [
    {
     "data": {
      "text/plain": [
       "int"
      ]
     },
     "execution_count": 17,
     "metadata": {},
     "output_type": "execute_result"
    }
   ],
   "source": [
    "type(result)"
   ]
  },
  {
   "cell_type": "markdown",
   "id": "august-australian",
   "metadata": {},
   "source": [
    "### Subtraction"
   ]
  },
  {
   "cell_type": "code",
   "execution_count": 18,
   "id": "a27c22ac",
   "metadata": {},
   "outputs": [
    {
     "data": {
      "text/plain": [
       "2"
      ]
     },
     "execution_count": 18,
     "metadata": {},
     "output_type": "execute_result"
    }
   ],
   "source": [
    "x"
   ]
  },
  {
   "cell_type": "code",
   "execution_count": 19,
   "id": "2f6c5488",
   "metadata": {},
   "outputs": [
    {
     "data": {
      "text/plain": [
       "3"
      ]
     },
     "execution_count": 19,
     "metadata": {},
     "output_type": "execute_result"
    }
   ],
   "source": [
    "y"
   ]
  },
  {
   "cell_type": "markdown",
   "id": "cultural-round",
   "metadata": {},
   "source": [
    "Subtract `x` from `y`, and store the result in `result`:"
   ]
  },
  {
   "cell_type": "code",
   "execution_count": 20,
   "id": "sorted-horizontal",
   "metadata": {},
   "outputs": [],
   "source": [
    "result = y - x"
   ]
  },
  {
   "cell_type": "code",
   "execution_count": 21,
   "id": "alien-feedback",
   "metadata": {},
   "outputs": [
    {
     "data": {
      "text/plain": [
       "1"
      ]
     },
     "execution_count": 21,
     "metadata": {},
     "output_type": "execute_result"
    }
   ],
   "source": [
    "result"
   ]
  },
  {
   "cell_type": "code",
   "execution_count": 22,
   "id": "level-victim",
   "metadata": {},
   "outputs": [
    {
     "data": {
      "text/plain": [
       "int"
      ]
     },
     "execution_count": 22,
     "metadata": {},
     "output_type": "execute_result"
    }
   ],
   "source": [
    "type(result)"
   ]
  },
  {
   "cell_type": "markdown",
   "id": "amazing-browse",
   "metadata": {},
   "source": [
    "### Multiplication"
   ]
  },
  {
   "cell_type": "code",
   "execution_count": 23,
   "id": "edc96d94",
   "metadata": {},
   "outputs": [
    {
     "data": {
      "text/plain": [
       "2"
      ]
     },
     "execution_count": 23,
     "metadata": {},
     "output_type": "execute_result"
    }
   ],
   "source": [
    "x"
   ]
  },
  {
   "cell_type": "code",
   "execution_count": 24,
   "id": "28656323",
   "metadata": {},
   "outputs": [
    {
     "data": {
      "text/plain": [
       "3"
      ]
     },
     "execution_count": 24,
     "metadata": {},
     "output_type": "execute_result"
    }
   ],
   "source": [
    "y"
   ]
  },
  {
   "cell_type": "markdown",
   "id": "referenced-haiti",
   "metadata": {},
   "source": [
    "Multiply `x` by `y`, and store the result in `result`:"
   ]
  },
  {
   "cell_type": "code",
   "execution_count": 25,
   "id": "intellectual-buffer",
   "metadata": {},
   "outputs": [],
   "source": [
    "result = x * y"
   ]
  },
  {
   "cell_type": "code",
   "execution_count": 26,
   "id": "broadband-conservation",
   "metadata": {},
   "outputs": [
    {
     "data": {
      "text/plain": [
       "6"
      ]
     },
     "execution_count": 26,
     "metadata": {},
     "output_type": "execute_result"
    }
   ],
   "source": [
    "result"
   ]
  },
  {
   "cell_type": "code",
   "execution_count": 27,
   "id": "combined-harmony",
   "metadata": {},
   "outputs": [
    {
     "data": {
      "text/plain": [
       "int"
      ]
     },
     "execution_count": 27,
     "metadata": {},
     "output_type": "execute_result"
    }
   ],
   "source": [
    "type(result)"
   ]
  },
  {
   "cell_type": "markdown",
   "id": "illegal-scanner",
   "metadata": {},
   "source": [
    "## Exercise 1"
   ]
  },
  {
   "cell_type": "markdown",
   "id": "peripheral-aging",
   "metadata": {},
   "source": [
    "### Skeleton"
   ]
  },
  {
   "cell_type": "code",
   "execution_count": 28,
   "id": "environmental-textbook",
   "metadata": {
    "tags": [
     "no-replacement"
    ]
   },
   "outputs": [],
   "source": [
    "a = 22"
   ]
  },
  {
   "cell_type": "code",
   "execution_count": 29,
   "id": "acquired-burton",
   "metadata": {
    "tags": [
     "no-replacement"
    ]
   },
   "outputs": [],
   "source": [
    "b = 33"
   ]
  },
  {
   "cell_type": "code",
   "execution_count": 30,
   "id": "alien-president",
   "metadata": {
    "tags": [
     "no-replacement"
    ]
   },
   "outputs": [],
   "source": [
    "c = 99"
   ]
  },
  {
   "cell_type": "markdown",
   "id": "available-continuity",
   "metadata": {},
   "source": [
    "Add `a` and `b`:"
   ]
  },
  {
   "cell_type": "code",
   "execution_count": 31,
   "id": "developed-racing",
   "metadata": {},
   "outputs": [
    {
     "data": {
      "text/plain": [
       "55"
      ]
     },
     "execution_count": 31,
     "metadata": {},
     "output_type": "execute_result"
    }
   ],
   "source": [
    "a + b"
   ]
  },
  {
   "cell_type": "markdown",
   "id": "concerned-johnson",
   "metadata": {},
   "source": [
    "Subtract `b` and `c`:"
   ]
  },
  {
   "cell_type": "code",
   "execution_count": 32,
   "id": "graduate-ballet",
   "metadata": {},
   "outputs": [
    {
     "data": {
      "text/plain": [
       "66"
      ]
     },
     "execution_count": 32,
     "metadata": {},
     "output_type": "execute_result"
    }
   ],
   "source": [
    "c - b"
   ]
  },
  {
   "cell_type": "markdown",
   "id": "textile-superior",
   "metadata": {},
   "source": [
    "Multiply `a` by `c`:"
   ]
  },
  {
   "cell_type": "code",
   "execution_count": 33,
   "id": "geographic-assurance",
   "metadata": {},
   "outputs": [
    {
     "data": {
      "text/plain": [
       "2178"
      ]
     },
     "execution_count": 33,
     "metadata": {},
     "output_type": "execute_result"
    }
   ],
   "source": [
    "a * c"
   ]
  },
  {
   "cell_type": "markdown",
   "id": "educational-forum",
   "metadata": {},
   "source": [
    "## Demo 2: Mathematics (`/`, `**`, `//`, `%`, precedence)"
   ]
  },
  {
   "cell_type": "code",
   "execution_count": 34,
   "id": "6a54b87d",
   "metadata": {},
   "outputs": [],
   "source": [
    "x = 2"
   ]
  },
  {
   "cell_type": "code",
   "execution_count": 35,
   "id": "b227bc79",
   "metadata": {},
   "outputs": [],
   "source": [
    "y = 4"
   ]
  },
  {
   "cell_type": "code",
   "execution_count": 36,
   "id": "b3423b14",
   "metadata": {},
   "outputs": [],
   "source": [
    "z = 5"
   ]
  },
  {
   "cell_type": "markdown",
   "id": "looking-establishment",
   "metadata": {},
   "source": [
    "### Division"
   ]
  },
  {
   "cell_type": "markdown",
   "id": "fossil-monitor",
   "metadata": {},
   "source": [
    "Divide `y` by `x`, and store the result in `result`:"
   ]
  },
  {
   "cell_type": "code",
   "execution_count": 37,
   "id": "vocational-property",
   "metadata": {},
   "outputs": [],
   "source": [
    "result = y / x"
   ]
  },
  {
   "cell_type": "code",
   "execution_count": 38,
   "id": "charged-entity",
   "metadata": {},
   "outputs": [
    {
     "data": {
      "text/plain": [
       "2.0"
      ]
     },
     "execution_count": 38,
     "metadata": {},
     "output_type": "execute_result"
    }
   ],
   "source": [
    "result"
   ]
  },
  {
   "cell_type": "markdown",
   "id": "mineral-absence",
   "metadata": {},
   "source": [
    "Note that a division, even between integers, always returns a float:"
   ]
  },
  {
   "cell_type": "code",
   "execution_count": 39,
   "id": "bored-plane",
   "metadata": {},
   "outputs": [
    {
     "data": {
      "text/plain": [
       "float"
      ]
     },
     "execution_count": 39,
     "metadata": {},
     "output_type": "execute_result"
    }
   ],
   "source": [
    "type(result)"
   ]
  },
  {
   "cell_type": "markdown",
   "id": "a743ac26",
   "metadata": {},
   "source": [
    "<div class=\"alert alert-warning\">\n",
    "\n",
    "<b>Beware:</b> A division, even between integers, always returns a float.\n",
    "\n",
    "</div>"
   ]
  },
  {
   "cell_type": "markdown",
   "id": "fitted-workshop",
   "metadata": {},
   "source": [
    "### Exponents"
   ]
  },
  {
   "cell_type": "markdown",
   "id": "mechanical-inventory",
   "metadata": {},
   "source": [
    "Calculate the square of `y`, and store the result in `result`:"
   ]
  },
  {
   "cell_type": "code",
   "execution_count": 40,
   "id": "atlantic-summer",
   "metadata": {},
   "outputs": [],
   "source": [
    "result = y ** 2"
   ]
  },
  {
   "cell_type": "code",
   "execution_count": 41,
   "id": "industrial-richards",
   "metadata": {},
   "outputs": [
    {
     "data": {
      "text/plain": [
       "16"
      ]
     },
     "execution_count": 41,
     "metadata": {},
     "output_type": "execute_result"
    }
   ],
   "source": [
    "result"
   ]
  },
  {
   "cell_type": "code",
   "execution_count": 42,
   "id": "binding-bahrain",
   "metadata": {},
   "outputs": [
    {
     "data": {
      "text/plain": [
       "int"
      ]
     },
     "execution_count": 42,
     "metadata": {},
     "output_type": "execute_result"
    }
   ],
   "source": [
    "type(result)"
   ]
  },
  {
   "cell_type": "markdown",
   "id": "ff28db7e",
   "metadata": {},
   "source": [
    "Alternatively, the `pow()` function can be used:"
   ]
  },
  {
   "cell_type": "code",
   "execution_count": 43,
   "id": "d66b8be5",
   "metadata": {},
   "outputs": [],
   "source": [
    "result = pow(y, 2)"
   ]
  },
  {
   "cell_type": "code",
   "execution_count": 44,
   "id": "efb28892",
   "metadata": {},
   "outputs": [
    {
     "data": {
      "text/plain": [
       "16"
      ]
     },
     "execution_count": 44,
     "metadata": {},
     "output_type": "execute_result"
    }
   ],
   "source": [
    "result"
   ]
  },
  {
   "cell_type": "markdown",
   "id": "burning-force",
   "metadata": {},
   "source": [
    "### Integer division"
   ]
  },
  {
   "cell_type": "code",
   "execution_count": 45,
   "id": "english-declaration",
   "metadata": {},
   "outputs": [
    {
     "data": {
      "text/plain": [
       "5"
      ]
     },
     "execution_count": 45,
     "metadata": {},
     "output_type": "execute_result"
    }
   ],
   "source": [
    "z"
   ]
  },
  {
   "cell_type": "code",
   "execution_count": 46,
   "id": "super-completion",
   "metadata": {},
   "outputs": [
    {
     "data": {
      "text/plain": [
       "2"
      ]
     },
     "execution_count": 46,
     "metadata": {},
     "output_type": "execute_result"
    }
   ],
   "source": [
    "x"
   ]
  },
  {
   "cell_type": "code",
   "execution_count": 47,
   "id": "english-circuit",
   "metadata": {},
   "outputs": [
    {
     "data": {
      "text/plain": [
       "2.5"
      ]
     },
     "execution_count": 47,
     "metadata": {},
     "output_type": "execute_result"
    }
   ],
   "source": [
    "z / x"
   ]
  },
  {
   "cell_type": "markdown",
   "id": "8cf7d0c0",
   "metadata": {},
   "source": [
    "Calculate how many times `y` enters completely in `z` (i.e. the integer division of `z` by `y`):"
   ]
  },
  {
   "cell_type": "code",
   "execution_count": 48,
   "id": "4f3af8be",
   "metadata": {},
   "outputs": [
    {
     "data": {
      "text/plain": [
       "2"
      ]
     },
     "execution_count": 48,
     "metadata": {},
     "output_type": "execute_result"
    }
   ],
   "source": [
    "z // x"
   ]
  },
  {
   "cell_type": "markdown",
   "id": "cacd29a7",
   "metadata": {},
   "source": [
    "### Modulo"
   ]
  },
  {
   "cell_type": "code",
   "execution_count": 49,
   "id": "4574e7f5",
   "metadata": {},
   "outputs": [
    {
     "data": {
      "text/plain": [
       "5"
      ]
     },
     "execution_count": 49,
     "metadata": {},
     "output_type": "execute_result"
    }
   ],
   "source": [
    "z"
   ]
  },
  {
   "cell_type": "code",
   "execution_count": 50,
   "id": "97e35a7d",
   "metadata": {},
   "outputs": [
    {
     "data": {
      "text/plain": [
       "2"
      ]
     },
     "execution_count": 50,
     "metadata": {},
     "output_type": "execute_result"
    }
   ],
   "source": [
    "x"
   ]
  },
  {
   "cell_type": "code",
   "execution_count": 51,
   "id": "bf0a823e",
   "metadata": {},
   "outputs": [
    {
     "data": {
      "text/plain": [
       "2.5"
      ]
     },
     "execution_count": 51,
     "metadata": {},
     "output_type": "execute_result"
    }
   ],
   "source": [
    "z / x"
   ]
  },
  {
   "cell_type": "markdown",
   "id": "imported-wilderness",
   "metadata": {},
   "source": [
    "Calculate the rest of the division of `z` by `y`:"
   ]
  },
  {
   "cell_type": "code",
   "execution_count": 52,
   "id": "legendary-payroll",
   "metadata": {},
   "outputs": [
    {
     "data": {
      "text/plain": [
       "1"
      ]
     },
     "execution_count": 52,
     "metadata": {},
     "output_type": "execute_result"
    }
   ],
   "source": [
    "z % x"
   ]
  },
  {
   "cell_type": "markdown",
   "id": "pointed-panic",
   "metadata": {},
   "source": [
    "Calculate the rest of the division of `z` by 2:"
   ]
  },
  {
   "cell_type": "code",
   "execution_count": 53,
   "id": "declared-bottom",
   "metadata": {},
   "outputs": [
    {
     "data": {
      "text/plain": [
       "1"
      ]
     },
     "execution_count": 53,
     "metadata": {},
     "output_type": "execute_result"
    }
   ],
   "source": [
    "z % 2"
   ]
  },
  {
   "cell_type": "markdown",
   "id": "through-parcel",
   "metadata": {},
   "source": [
    "Calculate the rest of the division of `y` by 2:"
   ]
  },
  {
   "cell_type": "code",
   "execution_count": 54,
   "id": "sound-three",
   "metadata": {},
   "outputs": [
    {
     "data": {
      "text/plain": [
       "0"
      ]
     },
     "execution_count": 54,
     "metadata": {},
     "output_type": "execute_result"
    }
   ],
   "source": [
    "y % 2"
   ]
  },
  {
   "cell_type": "markdown",
   "id": "7743a902",
   "metadata": {},
   "source": [
    "Note that combining the integer division and the modulo give the number back:"
   ]
  },
  {
   "cell_type": "code",
   "execution_count": 55,
   "id": "d87afa02",
   "metadata": {},
   "outputs": [
    {
     "data": {
      "text/plain": [
       "5"
      ]
     },
     "execution_count": 55,
     "metadata": {},
     "output_type": "execute_result"
    }
   ],
   "source": [
    "z"
   ]
  },
  {
   "cell_type": "code",
   "execution_count": 56,
   "id": "ae15f9ba",
   "metadata": {},
   "outputs": [
    {
     "data": {
      "text/plain": [
       "2"
      ]
     },
     "execution_count": 56,
     "metadata": {},
     "output_type": "execute_result"
    }
   ],
   "source": [
    "x"
   ]
  },
  {
   "cell_type": "code",
   "execution_count": 57,
   "id": "304e07b8",
   "metadata": {},
   "outputs": [
    {
     "data": {
      "text/plain": [
       "2"
      ]
     },
     "execution_count": 57,
     "metadata": {},
     "output_type": "execute_result"
    }
   ],
   "source": [
    "z // x"
   ]
  },
  {
   "cell_type": "code",
   "execution_count": 58,
   "id": "154d7bab",
   "metadata": {},
   "outputs": [
    {
     "data": {
      "text/plain": [
       "1"
      ]
     },
     "execution_count": 58,
     "metadata": {},
     "output_type": "execute_result"
    }
   ],
   "source": [
    "z % x"
   ]
  },
  {
   "cell_type": "code",
   "execution_count": 59,
   "id": "91951325",
   "metadata": {},
   "outputs": [
    {
     "data": {
      "text/plain": [
       "5"
      ]
     },
     "execution_count": 59,
     "metadata": {},
     "output_type": "execute_result"
    }
   ],
   "source": [
    "((z // x) * x) + (z % x)"
   ]
  },
  {
   "cell_type": "markdown",
   "id": "complex-meeting",
   "metadata": {},
   "source": [
    "### Precedence of operators"
   ]
  },
  {
   "cell_type": "markdown",
   "id": "accurate-edinburgh",
   "metadata": {},
   "source": [
    "To specify the precedence of operators (i.e. the priorities), use parentheses.  \n",
    "For instance, to calculate the square of the sum of `x` and `y`:"
   ]
  },
  {
   "cell_type": "code",
   "execution_count": 60,
   "id": "matched-framework",
   "metadata": {},
   "outputs": [
    {
     "data": {
      "text/plain": [
       "36"
      ]
     },
     "execution_count": 60,
     "metadata": {},
     "output_type": "execute_result"
    }
   ],
   "source": [
    "(x + y) ** 2"
   ]
  },
  {
   "cell_type": "markdown",
   "id": "incomplete-consolidation",
   "metadata": {},
   "source": [
    "Without parentheses, the result would be incorrect (`x` added to the square of `y`):"
   ]
  },
  {
   "cell_type": "code",
   "execution_count": 61,
   "id": "israeli-recycling",
   "metadata": {},
   "outputs": [
    {
     "data": {
      "text/plain": [
       "18"
      ]
     },
     "execution_count": 61,
     "metadata": {},
     "output_type": "execute_result"
    }
   ],
   "source": [
    "x + y ** 2"
   ]
  },
  {
   "cell_type": "markdown",
   "id": "worth-crown",
   "metadata": {},
   "source": [
    "## Exercise 2"
   ]
  },
  {
   "cell_type": "markdown",
   "id": "italian-delight",
   "metadata": {},
   "source": [
    "### Skeleton"
   ]
  },
  {
   "cell_type": "code",
   "execution_count": 62,
   "id": "3d51ec54",
   "metadata": {
    "tags": [
     "no-replacement"
    ]
   },
   "outputs": [],
   "source": [
    "a = 22"
   ]
  },
  {
   "cell_type": "code",
   "execution_count": 63,
   "id": "d7508c1e",
   "metadata": {
    "tags": [
     "no-replacement"
    ]
   },
   "outputs": [],
   "source": [
    "b = 33"
   ]
  },
  {
   "cell_type": "code",
   "execution_count": 64,
   "id": "97e3d710",
   "metadata": {
    "tags": [
     "no-replacement"
    ]
   },
   "outputs": [],
   "source": [
    "c = 99"
   ]
  },
  {
   "cell_type": "markdown",
   "id": "defined-bouquet",
   "metadata": {},
   "source": [
    "Divide `c` by `b`:"
   ]
  },
  {
   "cell_type": "code",
   "execution_count": 65,
   "id": "sensitive-contents",
   "metadata": {},
   "outputs": [
    {
     "data": {
      "text/plain": [
       "3.0"
      ]
     },
     "execution_count": 65,
     "metadata": {},
     "output_type": "execute_result"
    }
   ],
   "source": [
    "c / b"
   ]
  },
  {
   "cell_type": "markdown",
   "id": "typical-ultimate",
   "metadata": {},
   "source": [
    "Calculate the cube of `a`:"
   ]
  },
  {
   "cell_type": "code",
   "execution_count": 66,
   "id": "documented-label",
   "metadata": {},
   "outputs": [
    {
     "data": {
      "text/plain": [
       "10648"
      ]
     },
     "execution_count": 66,
     "metadata": {},
     "output_type": "execute_result"
    }
   ],
   "source": [
    "a ** 3"
   ]
  },
  {
   "cell_type": "markdown",
   "id": "interpreted-cause",
   "metadata": {},
   "source": [
    "Calculate the integer division of `c` by `a`:"
   ]
  },
  {
   "cell_type": "code",
   "execution_count": 67,
   "id": "legal-triumph",
   "metadata": {},
   "outputs": [
    {
     "data": {
      "text/plain": [
       "4"
      ]
     },
     "execution_count": 67,
     "metadata": {},
     "output_type": "execute_result"
    }
   ],
   "source": [
    "c // a"
   ]
  },
  {
   "cell_type": "markdown",
   "id": "4dc713d4",
   "metadata": {},
   "source": [
    "Calculate the rest of the division of `c` by `a`:"
   ]
  },
  {
   "cell_type": "code",
   "execution_count": 68,
   "id": "4d9dfeb8",
   "metadata": {},
   "outputs": [
    {
     "data": {
      "text/plain": [
       "11"
      ]
     },
     "execution_count": 68,
     "metadata": {},
     "output_type": "execute_result"
    }
   ],
   "source": [
    "c % a"
   ]
  },
  {
   "cell_type": "markdown",
   "id": "after-worse",
   "metadata": {},
   "source": [
    "Divide the square of the sum of `b` and `c` by `a`:"
   ]
  },
  {
   "cell_type": "code",
   "execution_count": 74,
   "id": "compliant-nebraska",
   "metadata": {},
   "outputs": [
    {
     "data": {
      "text/plain": [
       "792.0"
      ]
     },
     "execution_count": 74,
     "metadata": {},
     "output_type": "execute_result"
    }
   ],
   "source": [
    "((b + c) ** 2 ) / a"
   ]
  },
  {
   "cell_type": "markdown",
   "id": "conceptual-undergraduate",
   "metadata": {},
   "source": [
    "## Bonus: Creation of large numbers"
   ]
  },
  {
   "cell_type": "markdown",
   "id": "persistent-celebration",
   "metadata": {},
   "source": [
    "Create a variable called `population` containing a large integer:"
   ]
  },
  {
   "cell_type": "code",
   "execution_count": 70,
   "id": "correct-injection",
   "metadata": {},
   "outputs": [],
   "source": [
    "population = 47450795"
   ]
  },
  {
   "cell_type": "code",
   "execution_count": 71,
   "id": "south-closing",
   "metadata": {},
   "outputs": [
    {
     "name": "stdout",
     "output_type": "stream",
     "text": [
      "47450795\n"
     ]
    }
   ],
   "source": [
    "print(population)"
   ]
  },
  {
   "cell_type": "code",
   "execution_count": 76,
   "id": "experienced-subscriber",
   "metadata": {},
   "outputs": [],
   "source": [
    "population = 47_450_795"
   ]
  },
  {
   "cell_type": "code",
   "execution_count": 73,
   "id": "invisible-ready",
   "metadata": {},
   "outputs": [
    {
     "name": "stdout",
     "output_type": "stream",
     "text": [
      "47450795\n"
     ]
    }
   ],
   "source": [
    "print(population)"
   ]
  },
  {
   "cell_type": "code",
   "execution_count": null,
   "id": "powerful-location",
   "metadata": {},
   "outputs": [],
   "source": []
  }
 ],
 "metadata": {
  "kernelspec": {
   "display_name": "Python 3",
   "language": "python",
   "name": "python3"
  },
  "language_info": {
   "codemirror_mode": {
    "name": "ipython",
    "version": 3
   },
   "file_extension": ".py",
   "mimetype": "text/x-python",
   "name": "python",
   "nbconvert_exporter": "python",
   "pygments_lexer": "ipython3",
   "version": "3.8.5"
  }
 },
 "nbformat": 4,
 "nbformat_minor": 5
}
