{
 "cells": [
  {
   "cell_type": "markdown",
   "id": "miniature-importance",
   "metadata": {},
   "source": [
    "# Indexing & Slicing"
   ]
  },
  {
   "cell_type": "markdown",
   "id": "middle-ranch",
   "metadata": {},
   "source": [
    "## Setup"
   ]
  },
  {
   "cell_type": "code",
   "execution_count": 1,
   "id": "great-census",
   "metadata": {},
   "outputs": [],
   "source": [
    "empty_string = \"\""
   ]
  },
  {
   "cell_type": "code",
   "execution_count": 2,
   "id": "dangerous-latvia",
   "metadata": {},
   "outputs": [],
   "source": [
    "teacher = \"JC\""
   ]
  },
  {
   "cell_type": "code",
   "execution_count": 3,
   "id": "desirable-tonight",
   "metadata": {},
   "outputs": [],
   "source": [
    "language = \"Python\""
   ]
  },
  {
   "cell_type": "code",
   "execution_count": 14,
   "id": "separate-office",
   "metadata": {},
   "outputs": [],
   "source": [
    "name = \"Bea\""
   ]
  },
  {
   "cell_type": "markdown",
   "id": "systematic-quantum",
   "metadata": {},
   "source": [
    "## Demo 1: length"
   ]
  },
  {
   "cell_type": "markdown",
   "id": "center-battery",
   "metadata": {},
   "source": [
    "Get the length of a string:"
   ]
  },
  {
   "cell_type": "code",
   "execution_count": 5,
   "id": "tropical-symposium",
   "metadata": {},
   "outputs": [
    {
     "data": {
      "text/plain": [
       "2"
      ]
     },
     "execution_count": 5,
     "metadata": {},
     "output_type": "execute_result"
    }
   ],
   "source": [
    "len(teacher)"
   ]
  },
  {
   "cell_type": "code",
   "execution_count": 6,
   "id": "complex-comparative",
   "metadata": {},
   "outputs": [
    {
     "data": {
      "text/plain": [
       "6"
      ]
     },
     "execution_count": 6,
     "metadata": {},
     "output_type": "execute_result"
    }
   ],
   "source": [
    "len(language)"
   ]
  },
  {
   "cell_type": "code",
   "execution_count": 7,
   "id": "worst-entry",
   "metadata": {},
   "outputs": [
    {
     "data": {
      "text/plain": [
       "0"
      ]
     },
     "execution_count": 7,
     "metadata": {},
     "output_type": "execute_result"
    }
   ],
   "source": [
    "len(empty_string)"
   ]
  },
  {
   "cell_type": "code",
   "execution_count": 15,
   "id": "recognized-impression",
   "metadata": {},
   "outputs": [
    {
     "data": {
      "text/plain": [
       "3"
      ]
     },
     "execution_count": 15,
     "metadata": {},
     "output_type": "execute_result"
    }
   ],
   "source": [
    "len(name)"
   ]
  },
  {
   "cell_type": "markdown",
   "id": "satisfactory-friday",
   "metadata": {},
   "source": [
    "## Exercise 1"
   ]
  },
  {
   "cell_type": "markdown",
   "id": "applied-personal",
   "metadata": {},
   "source": [
    "### Skeleton"
   ]
  },
  {
   "cell_type": "code",
   "execution_count": 16,
   "id": "fantastic-manual",
   "metadata": {
    "tags": [
     "no-replacement"
    ]
   },
   "outputs": [
    {
     "data": {
      "text/plain": [
       "'Bea'"
      ]
     },
     "execution_count": 16,
     "metadata": {},
     "output_type": "execute_result"
    }
   ],
   "source": [
    "name"
   ]
  },
  {
   "cell_type": "markdown",
   "id": "confirmed-plasma",
   "metadata": {},
   "source": [
    "Get the length of the `name` variable:"
   ]
  },
  {
   "cell_type": "code",
   "execution_count": 17,
   "id": "immune-junior",
   "metadata": {},
   "outputs": [
    {
     "data": {
      "text/plain": [
       "3"
      ]
     },
     "execution_count": 17,
     "metadata": {},
     "output_type": "execute_result"
    }
   ],
   "source": [
    "len(name)"
   ]
  },
  {
   "cell_type": "markdown",
   "id": "common-baker",
   "metadata": {},
   "source": [
    "Store the length into a new variable called `name_length`:"
   ]
  },
  {
   "cell_type": "code",
   "execution_count": 18,
   "id": "interpreted-cigarette",
   "metadata": {},
   "outputs": [
    {
     "data": {
      "text/plain": [
       "3"
      ]
     },
     "execution_count": 18,
     "metadata": {},
     "output_type": "execute_result"
    }
   ],
   "source": [
    "name_length = len(name)\n",
    "name_length"
   ]
  },
  {
   "cell_type": "markdown",
   "id": "killing-moscow",
   "metadata": {},
   "source": [
    "## Demo 2: Get a single character"
   ]
  },
  {
   "cell_type": "markdown",
   "id": "independent-falls",
   "metadata": {},
   "source": [
    "Get the first character of the `language` variable:"
   ]
  },
  {
   "cell_type": "code",
   "execution_count": 19,
   "id": "narrative-final",
   "metadata": {},
   "outputs": [
    {
     "data": {
      "text/plain": [
       "'P'"
      ]
     },
     "execution_count": 19,
     "metadata": {},
     "output_type": "execute_result"
    }
   ],
   "source": [
    "language[0]"
   ]
  },
  {
   "cell_type": "markdown",
   "id": "adverse-maximum",
   "metadata": {},
   "source": [
    "Get the second character of the `language` variable:"
   ]
  },
  {
   "cell_type": "code",
   "execution_count": 20,
   "id": "dominican-pierre",
   "metadata": {},
   "outputs": [
    {
     "data": {
      "text/plain": [
       "'y'"
      ]
     },
     "execution_count": 20,
     "metadata": {},
     "output_type": "execute_result"
    }
   ],
   "source": [
    "language[1]"
   ]
  },
  {
   "cell_type": "markdown",
   "id": "fantastic-things",
   "metadata": {},
   "source": [
    "Get the sixth character of the `language` variable:"
   ]
  },
  {
   "cell_type": "code",
   "execution_count": 21,
   "id": "olympic-feature",
   "metadata": {},
   "outputs": [
    {
     "data": {
      "text/plain": [
       "'n'"
      ]
     },
     "execution_count": 21,
     "metadata": {},
     "output_type": "execute_result"
    }
   ],
   "source": [
    "language[5]"
   ]
  },
  {
   "cell_type": "markdown",
   "id": "stretch-cassette",
   "metadata": {},
   "source": [
    "Get the seventh character of the `language` variable:"
   ]
  },
  {
   "cell_type": "code",
   "execution_count": 22,
   "id": "floating-lemon",
   "metadata": {
    "tags": [
     "raises-error"
    ]
   },
   "outputs": [
    {
     "ename": "IndexError",
     "evalue": "string index out of range",
     "output_type": "error",
     "traceback": [
      "\u001b[1;31m---------------------------------------------------------------------------\u001b[0m",
      "\u001b[1;31mIndexError\u001b[0m                                Traceback (most recent call last)",
      "\u001b[1;32m<ipython-input-22-10d9e9b54ff5>\u001b[0m in \u001b[0;36m<module>\u001b[1;34m\u001b[0m\n\u001b[0;32m      1\u001b[0m \u001b[1;31m# Raises an error, because the index is too large:\u001b[0m\u001b[1;33m\u001b[0m\u001b[1;33m\u001b[0m\u001b[1;33m\u001b[0m\u001b[0m\n\u001b[1;32m----> 2\u001b[1;33m \u001b[0mlanguage\u001b[0m\u001b[1;33m[\u001b[0m\u001b[1;36m6\u001b[0m\u001b[1;33m]\u001b[0m\u001b[1;33m\u001b[0m\u001b[1;33m\u001b[0m\u001b[0m\n\u001b[0m",
      "\u001b[1;31mIndexError\u001b[0m: string index out of range"
     ]
    }
   ],
   "source": [
    "# Raises an error, because the index is too large:\n",
    "language[6]"
   ]
  },
  {
   "cell_type": "markdown",
   "id": "current-citizenship",
   "metadata": {},
   "source": [
    "## Exercise 2"
   ]
  },
  {
   "cell_type": "markdown",
   "id": "baking-chicken",
   "metadata": {},
   "source": [
    "### Skeleton"
   ]
  },
  {
   "cell_type": "code",
   "execution_count": 23,
   "id": "c607d8a2",
   "metadata": {
    "tags": [
     "no-replacement"
    ]
   },
   "outputs": [
    {
     "data": {
      "text/plain": [
       "'Bea'"
      ]
     },
     "execution_count": 23,
     "metadata": {},
     "output_type": "execute_result"
    }
   ],
   "source": [
    "name"
   ]
  },
  {
   "cell_type": "markdown",
   "id": "canadian-soundtrack",
   "metadata": {},
   "source": [
    "Get the first character of the `name` variable:"
   ]
  },
  {
   "cell_type": "code",
   "execution_count": 24,
   "id": "comparative-coordinate",
   "metadata": {},
   "outputs": [
    {
     "data": {
      "text/plain": [
       "'B'"
      ]
     },
     "execution_count": 24,
     "metadata": {},
     "output_type": "execute_result"
    }
   ],
   "source": [
    "name[0]"
   ]
  },
  {
   "cell_type": "markdown",
   "id": "southern-creator",
   "metadata": {},
   "source": [
    "Get the fourth character of the `name` variable:"
   ]
  },
  {
   "cell_type": "code",
   "execution_count": 26,
   "id": "normal-stress",
   "metadata": {},
   "outputs": [
    {
     "data": {
      "text/plain": [
       "'a'"
      ]
     },
     "execution_count": 26,
     "metadata": {},
     "output_type": "execute_result"
    }
   ],
   "source": [
    "name[2]"
   ]
  },
  {
   "cell_type": "markdown",
   "id": "alive-diamond",
   "metadata": {},
   "source": [
    "## Demo 3: Get a single character, counting from the end"
   ]
  },
  {
   "cell_type": "markdown",
   "id": "cloudy-crest",
   "metadata": {},
   "source": [
    "Get the last character of the `language` variable:"
   ]
  },
  {
   "cell_type": "code",
   "execution_count": 27,
   "id": "surprised-russian",
   "metadata": {},
   "outputs": [
    {
     "data": {
      "text/plain": [
       "'n'"
      ]
     },
     "execution_count": 27,
     "metadata": {},
     "output_type": "execute_result"
    }
   ],
   "source": [
    "language[-1]"
   ]
  },
  {
   "cell_type": "markdown",
   "id": "military-jenny",
   "metadata": {},
   "source": [
    "Note that it is equivalent to:"
   ]
  },
  {
   "cell_type": "code",
   "execution_count": 28,
   "id": "broadband-ministry",
   "metadata": {},
   "outputs": [
    {
     "data": {
      "text/plain": [
       "'n'"
      ]
     },
     "execution_count": 28,
     "metadata": {},
     "output_type": "execute_result"
    }
   ],
   "source": [
    "language[len(language) - 1]"
   ]
  },
  {
   "cell_type": "markdown",
   "id": "powerful-veteran",
   "metadata": {},
   "source": [
    "Get the second to last character of the `language` variable:"
   ]
  },
  {
   "cell_type": "code",
   "execution_count": 29,
   "id": "colored-applicant",
   "metadata": {},
   "outputs": [
    {
     "data": {
      "text/plain": [
       "'o'"
      ]
     },
     "execution_count": 29,
     "metadata": {},
     "output_type": "execute_result"
    }
   ],
   "source": [
    "language[-2]"
   ]
  },
  {
   "cell_type": "markdown",
   "id": "hungarian-april",
   "metadata": {},
   "source": [
    "## Exercise 3"
   ]
  },
  {
   "cell_type": "markdown",
   "id": "hindu-syracuse",
   "metadata": {},
   "source": [
    "### Skeleton"
   ]
  },
  {
   "cell_type": "code",
   "execution_count": 30,
   "id": "d0bba0e1",
   "metadata": {
    "tags": [
     "no-replacement"
    ]
   },
   "outputs": [
    {
     "data": {
      "text/plain": [
       "'Bea'"
      ]
     },
     "execution_count": 30,
     "metadata": {},
     "output_type": "execute_result"
    }
   ],
   "source": [
    "name"
   ]
  },
  {
   "cell_type": "markdown",
   "id": "norwegian-livestock",
   "metadata": {},
   "source": [
    "Get the last character of the `name` variable:"
   ]
  },
  {
   "cell_type": "code",
   "execution_count": 31,
   "id": "designed-convergence",
   "metadata": {},
   "outputs": [
    {
     "data": {
      "text/plain": [
       "'a'"
      ]
     },
     "execution_count": 31,
     "metadata": {},
     "output_type": "execute_result"
    }
   ],
   "source": [
    "name[-1]"
   ]
  },
  {
   "cell_type": "markdown",
   "id": "future-thesis",
   "metadata": {},
   "source": [
    "Get the third character starting from the end of the `name` variable:"
   ]
  },
  {
   "cell_type": "code",
   "execution_count": 32,
   "id": "demanding-solution",
   "metadata": {},
   "outputs": [
    {
     "data": {
      "text/plain": [
       "'B'"
      ]
     },
     "execution_count": 32,
     "metadata": {},
     "output_type": "execute_result"
    }
   ],
   "source": [
    "name[-3]"
   ]
  },
  {
   "cell_type": "markdown",
   "id": "polish-drilling",
   "metadata": {},
   "source": [
    "## Demo 4: Get a slice of characters"
   ]
  },
  {
   "cell_type": "markdown",
   "id": "confirmed-breathing",
   "metadata": {},
   "source": [
    "Get the first 3 characters of the `language` variable:"
   ]
  },
  {
   "cell_type": "code",
   "execution_count": 33,
   "id": "unlimited-pathology",
   "metadata": {},
   "outputs": [
    {
     "data": {
      "text/plain": [
       "'Pyt'"
      ]
     },
     "execution_count": 33,
     "metadata": {},
     "output_type": "execute_result"
    }
   ],
   "source": [
    "language[0:3]"
   ]
  },
  {
   "cell_type": "markdown",
   "id": "forbidden-preservation",
   "metadata": {},
   "source": [
    "Note that the start index is included, but **the stop index is excluded**:"
   ]
  },
  {
   "cell_type": "code",
   "execution_count": 34,
   "id": "cosmetic-facility",
   "metadata": {},
   "outputs": [
    {
     "data": {
      "text/plain": [
       "'P'"
      ]
     },
     "execution_count": 34,
     "metadata": {},
     "output_type": "execute_result"
    }
   ],
   "source": [
    "language[0]"
   ]
  },
  {
   "cell_type": "code",
   "execution_count": 35,
   "id": "continued-hello",
   "metadata": {},
   "outputs": [
    {
     "data": {
      "text/plain": [
       "'y'"
      ]
     },
     "execution_count": 35,
     "metadata": {},
     "output_type": "execute_result"
    }
   ],
   "source": [
    "language[1]"
   ]
  },
  {
   "cell_type": "code",
   "execution_count": 36,
   "id": "straight-philadelphia",
   "metadata": {},
   "outputs": [
    {
     "data": {
      "text/plain": [
       "'t'"
      ]
     },
     "execution_count": 36,
     "metadata": {},
     "output_type": "execute_result"
    }
   ],
   "source": [
    "language[2]"
   ]
  },
  {
   "cell_type": "code",
   "execution_count": 37,
   "id": "backed-facial",
   "metadata": {},
   "outputs": [
    {
     "data": {
      "text/plain": [
       "'h'"
      ]
     },
     "execution_count": 37,
     "metadata": {},
     "output_type": "execute_result"
    }
   ],
   "source": [
    "language[3]"
   ]
  },
  {
   "cell_type": "markdown",
   "id": "returning-stability",
   "metadata": {},
   "source": [
    "This means that the difference between the stop index and the start index gives the number of elements:"
   ]
  },
  {
   "cell_type": "code",
   "execution_count": 38,
   "id": "elect-actress",
   "metadata": {},
   "outputs": [
    {
     "data": {
      "text/plain": [
       "3"
      ]
     },
     "execution_count": 38,
     "metadata": {},
     "output_type": "execute_result"
    }
   ],
   "source": [
    "3 - 0"
   ]
  },
  {
   "cell_type": "code",
   "execution_count": 39,
   "id": "challenging-thong",
   "metadata": {},
   "outputs": [
    {
     "data": {
      "text/plain": [
       "3"
      ]
     },
     "execution_count": 39,
     "metadata": {},
     "output_type": "execute_result"
    }
   ],
   "source": [
    "len(language[0:3])"
   ]
  },
  {
   "cell_type": "markdown",
   "id": "interesting-librarian",
   "metadata": {},
   "source": [
    "When starting from the beginning, the start index can be omitted:"
   ]
  },
  {
   "cell_type": "code",
   "execution_count": 40,
   "id": "beneficial-reminder",
   "metadata": {},
   "outputs": [
    {
     "data": {
      "text/plain": [
       "'Pyt'"
      ]
     },
     "execution_count": 40,
     "metadata": {},
     "output_type": "execute_result"
    }
   ],
   "source": [
    "language[0:3]"
   ]
  },
  {
   "cell_type": "code",
   "execution_count": 41,
   "id": "raised-allocation",
   "metadata": {},
   "outputs": [
    {
     "data": {
      "text/plain": [
       "'Pyt'"
      ]
     },
     "execution_count": 41,
     "metadata": {},
     "output_type": "execute_result"
    }
   ],
   "source": [
    "language[:3]"
   ]
  },
  {
   "cell_type": "markdown",
   "id": "removed-database",
   "metadata": {},
   "source": [
    "<div class=\"alert alert-success\">\n",
    "\n",
    "<b>Best Practice:</b> Do not specify the start index if it is not necessary\n",
    "\n",
    "</div>"
   ]
  },
  {
   "cell_type": "markdown",
   "id": "supreme-quantum",
   "metadata": {},
   "source": [
    "### Extra: "
   ]
  },
  {
   "cell_type": "markdown",
   "id": "spectacular-verification",
   "metadata": {},
   "source": [
    "Get all characters of the `language` variable:"
   ]
  },
  {
   "cell_type": "code",
   "execution_count": 42,
   "id": "colonial-skirt",
   "metadata": {},
   "outputs": [
    {
     "data": {
      "text/plain": [
       "'Python'"
      ]
     },
     "execution_count": 42,
     "metadata": {},
     "output_type": "execute_result"
    }
   ],
   "source": [
    "language[0:6]"
   ]
  },
  {
   "cell_type": "code",
   "execution_count": 43,
   "id": "viral-confidence",
   "metadata": {},
   "outputs": [
    {
     "data": {
      "text/plain": [
       "'Python'"
      ]
     },
     "execution_count": 43,
     "metadata": {},
     "output_type": "execute_result"
    }
   ],
   "source": [
    "# Does NOT raise an error, even though the index is too large:\n",
    "language[0:100]"
   ]
  },
  {
   "cell_type": "markdown",
   "id": "swiss-invalid",
   "metadata": {},
   "source": [
    "## Exercise 4"
   ]
  },
  {
   "cell_type": "markdown",
   "id": "atlantic-kinase",
   "metadata": {},
   "source": [
    "### Skeleton"
   ]
  },
  {
   "cell_type": "code",
   "execution_count": 44,
   "id": "a87b0561",
   "metadata": {
    "tags": [
     "no-replacement"
    ]
   },
   "outputs": [],
   "source": [
    "name = \"Bea Jimenez\""
   ]
  },
  {
   "cell_type": "markdown",
   "id": "likely-library",
   "metadata": {},
   "source": [
    "Get the first 4 characters of the `name` variable:"
   ]
  },
  {
   "cell_type": "code",
   "execution_count": 46,
   "id": "affiliated-neighborhood",
   "metadata": {},
   "outputs": [],
   "source": [
    "first4c = name[:4]"
   ]
  },
  {
   "cell_type": "code",
   "execution_count": 47,
   "id": "pretty-tokyo",
   "metadata": {},
   "outputs": [
    {
     "data": {
      "text/plain": [
       "'Bea '"
      ]
     },
     "execution_count": 47,
     "metadata": {},
     "output_type": "execute_result"
    }
   ],
   "source": [
    "first4c"
   ]
  },
  {
   "cell_type": "markdown",
   "id": "surrounded-french",
   "metadata": {},
   "source": [
    "Check that 4 characters are selected:"
   ]
  },
  {
   "cell_type": "code",
   "execution_count": 48,
   "id": "prerequisite-treasurer",
   "metadata": {},
   "outputs": [
    {
     "data": {
      "text/plain": [
       "4"
      ]
     },
     "execution_count": 48,
     "metadata": {},
     "output_type": "execute_result"
    }
   ],
   "source": [
    "len(first4c)"
   ]
  },
  {
   "cell_type": "markdown",
   "id": "major-extra",
   "metadata": {},
   "source": [
    "## Demo 5: Get a slice of characters"
   ]
  },
  {
   "cell_type": "markdown",
   "id": "limited-roman",
   "metadata": {},
   "source": [
    "Get the third to fifth characters of the `language` variable:"
   ]
  },
  {
   "cell_type": "code",
   "execution_count": 49,
   "id": "broad-document",
   "metadata": {},
   "outputs": [
    {
     "data": {
      "text/plain": [
       "'tho'"
      ]
     },
     "execution_count": 49,
     "metadata": {},
     "output_type": "execute_result"
    }
   ],
   "source": [
    "language[2:5]"
   ]
  },
  {
   "cell_type": "code",
   "execution_count": 50,
   "id": "plain-insider",
   "metadata": {},
   "outputs": [
    {
     "data": {
      "text/plain": [
       "3"
      ]
     },
     "execution_count": 50,
     "metadata": {},
     "output_type": "execute_result"
    }
   ],
   "source": [
    "5 - 2"
   ]
  },
  {
   "cell_type": "code",
   "execution_count": 51,
   "id": "governing-authentication",
   "metadata": {},
   "outputs": [
    {
     "data": {
      "text/plain": [
       "3"
      ]
     },
     "execution_count": 51,
     "metadata": {},
     "output_type": "execute_result"
    }
   ],
   "source": [
    "len(language[2:5])"
   ]
  },
  {
   "cell_type": "markdown",
   "id": "optical-spoke",
   "metadata": {},
   "source": [
    "## Exercise 5"
   ]
  },
  {
   "cell_type": "markdown",
   "id": "roman-residence",
   "metadata": {},
   "source": [
    "### Skeleton"
   ]
  },
  {
   "cell_type": "code",
   "execution_count": 52,
   "id": "cf771c28",
   "metadata": {
    "tags": [
     "no-replacement"
    ]
   },
   "outputs": [
    {
     "data": {
      "text/plain": [
       "'Bea Jimenez'"
      ]
     },
     "execution_count": 52,
     "metadata": {},
     "output_type": "execute_result"
    }
   ],
   "source": [
    "name"
   ]
  },
  {
   "cell_type": "markdown",
   "id": "popular-discretion",
   "metadata": {},
   "source": [
    "Get the second to fourth characters of the `name` variable:"
   ]
  },
  {
   "cell_type": "code",
   "execution_count": 55,
   "id": "frequent-midnight",
   "metadata": {},
   "outputs": [
    {
     "data": {
      "text/plain": [
       "'ea '"
      ]
     },
     "execution_count": 55,
     "metadata": {},
     "output_type": "execute_result"
    }
   ],
   "source": [
    "name[1:4]"
   ]
  },
  {
   "cell_type": "markdown",
   "id": "anonymous-convergence",
   "metadata": {},
   "source": [
    "Check that 3 characters are selected:"
   ]
  },
  {
   "cell_type": "code",
   "execution_count": 57,
   "id": "suited-guatemala",
   "metadata": {},
   "outputs": [
    {
     "data": {
      "text/plain": [
       "3"
      ]
     },
     "execution_count": 57,
     "metadata": {},
     "output_type": "execute_result"
    }
   ],
   "source": [
    "len(name[1:4])"
   ]
  },
  {
   "cell_type": "markdown",
   "id": "revised-martial",
   "metadata": {},
   "source": [
    "## Demo 6: Get a slice of characters, counting from the end"
   ]
  },
  {
   "cell_type": "markdown",
   "id": "aboriginal-modem",
   "metadata": {},
   "source": [
    "Get the last 3 characters of the `language` variable:"
   ]
  },
  {
   "cell_type": "code",
   "execution_count": 58,
   "id": "matched-arena",
   "metadata": {},
   "outputs": [
    {
     "data": {
      "text/plain": [
       "'hon'"
      ]
     },
     "execution_count": 58,
     "metadata": {},
     "output_type": "execute_result"
    }
   ],
   "source": [
    "language[-3:]"
   ]
  },
  {
   "cell_type": "code",
   "execution_count": 59,
   "id": "clear-illness",
   "metadata": {},
   "outputs": [
    {
     "data": {
      "text/plain": [
       "'n'"
      ]
     },
     "execution_count": 59,
     "metadata": {},
     "output_type": "execute_result"
    }
   ],
   "source": [
    "language[5]"
   ]
  },
  {
   "cell_type": "code",
   "execution_count": 60,
   "id": "differential-thirty",
   "metadata": {},
   "outputs": [
    {
     "data": {
      "text/plain": [
       "6"
      ]
     },
     "execution_count": 60,
     "metadata": {},
     "output_type": "execute_result"
    }
   ],
   "source": [
    "len(language)"
   ]
  },
  {
   "cell_type": "markdown",
   "id": "variable-semiconductor",
   "metadata": {},
   "source": [
    "This means that the difference between the stop index and the start index gives the number of elements:"
   ]
  },
  {
   "cell_type": "markdown",
   "id": "fifty-probability",
   "metadata": {},
   "source": [
    "There are indeed 3 characters selected:"
   ]
  },
  {
   "cell_type": "code",
   "execution_count": 61,
   "id": "reliable-chester",
   "metadata": {},
   "outputs": [
    {
     "data": {
      "text/plain": [
       "3"
      ]
     },
     "execution_count": 61,
     "metadata": {},
     "output_type": "execute_result"
    }
   ],
   "source": [
    "len(language[-3:])"
   ]
  },
  {
   "cell_type": "markdown",
   "id": "sustained-wilson",
   "metadata": {},
   "source": [
    "## Exercise 6"
   ]
  },
  {
   "cell_type": "markdown",
   "id": "administrative-distinction",
   "metadata": {},
   "source": [
    "### Skeleton"
   ]
  },
  {
   "cell_type": "code",
   "execution_count": 62,
   "id": "a56ef2e1",
   "metadata": {
    "tags": [
     "no-replacement"
    ]
   },
   "outputs": [
    {
     "data": {
      "text/plain": [
       "'Bea Jimenez'"
      ]
     },
     "execution_count": 62,
     "metadata": {},
     "output_type": "execute_result"
    }
   ],
   "source": [
    "name"
   ]
  },
  {
   "cell_type": "markdown",
   "id": "minor-encyclopedia",
   "metadata": {},
   "source": [
    "Get the last 4 characters of the `name` variable:"
   ]
  },
  {
   "cell_type": "code",
   "execution_count": 63,
   "id": "extended-documentation",
   "metadata": {},
   "outputs": [
    {
     "data": {
      "text/plain": [
       "'enez'"
      ]
     },
     "execution_count": 63,
     "metadata": {},
     "output_type": "execute_result"
    }
   ],
   "source": [
    "name[-4:]"
   ]
  },
  {
   "cell_type": "markdown",
   "id": "collected-peter",
   "metadata": {},
   "source": [
    "Check that 4 characters are selected:"
   ]
  },
  {
   "cell_type": "code",
   "execution_count": 64,
   "id": "unavailable-wrist",
   "metadata": {},
   "outputs": [
    {
     "data": {
      "text/plain": [
       "4"
      ]
     },
     "execution_count": 64,
     "metadata": {},
     "output_type": "execute_result"
    }
   ],
   "source": [
    "len(name[-4:])"
   ]
  },
  {
   "cell_type": "markdown",
   "id": "virgin-postcard",
   "metadata": {},
   "source": [
    "## Demo 7: Get a slice of characters, counting from the end"
   ]
  },
  {
   "cell_type": "markdown",
   "id": "fresh-pastor",
   "metadata": {},
   "source": [
    "Get 3 characters, starting 2 characters from the end, of the `language` variable:"
   ]
  },
  {
   "cell_type": "code",
   "execution_count": 65,
   "id": "funky-birmingham",
   "metadata": {},
   "outputs": [
    {
     "data": {
      "text/plain": [
       "'yth'"
      ]
     },
     "execution_count": 65,
     "metadata": {},
     "output_type": "execute_result"
    }
   ],
   "source": [
    "language[-5:-2]"
   ]
  },
  {
   "cell_type": "markdown",
   "id": "vertical-liberty",
   "metadata": {},
   "source": [
    "There are indeed 3 characters selected:"
   ]
  },
  {
   "cell_type": "code",
   "execution_count": 66,
   "id": "alike-language",
   "metadata": {},
   "outputs": [
    {
     "data": {
      "text/plain": [
       "3"
      ]
     },
     "execution_count": 66,
     "metadata": {},
     "output_type": "execute_result"
    }
   ],
   "source": [
    "len(language[-5:-2])"
   ]
  },
  {
   "cell_type": "markdown",
   "id": "coastal-advisory",
   "metadata": {},
   "source": [
    "This means that the difference between the stop index and the start index gives the number of elements:"
   ]
  },
  {
   "cell_type": "code",
   "execution_count": 67,
   "id": "median-pennsylvania",
   "metadata": {},
   "outputs": [
    {
     "data": {
      "text/plain": [
       "3"
      ]
     },
     "execution_count": 67,
     "metadata": {},
     "output_type": "execute_result"
    }
   ],
   "source": [
    "(-2) - (-5)"
   ]
  },
  {
   "cell_type": "markdown",
   "id": "heavy-connecticut",
   "metadata": {},
   "source": [
    "## Exercise 7"
   ]
  },
  {
   "cell_type": "markdown",
   "id": "balanced-fight",
   "metadata": {},
   "source": [
    "### Skeleton"
   ]
  },
  {
   "cell_type": "code",
   "execution_count": 68,
   "id": "2f689da7",
   "metadata": {
    "tags": [
     "no-replacement"
    ]
   },
   "outputs": [
    {
     "data": {
      "text/plain": [
       "'Bea Jimenez'"
      ]
     },
     "execution_count": 68,
     "metadata": {},
     "output_type": "execute_result"
    }
   ],
   "source": [
    "name"
   ]
  },
  {
   "cell_type": "markdown",
   "id": "selective-innocent",
   "metadata": {},
   "source": [
    "Get 4 characters, starting from the last character from the end but not including it, of the `name` variable:"
   ]
  },
  {
   "cell_type": "code",
   "execution_count": 69,
   "id": "silver-color",
   "metadata": {},
   "outputs": [
    {
     "data": {
      "text/plain": [
       "'mene'"
      ]
     },
     "execution_count": 69,
     "metadata": {},
     "output_type": "execute_result"
    }
   ],
   "source": [
    "name[-5:-1]"
   ]
  },
  {
   "cell_type": "markdown",
   "id": "contemporary-bunch",
   "metadata": {},
   "source": [
    "Check that 4 characters are selected:"
   ]
  },
  {
   "cell_type": "code",
   "execution_count": 71,
   "id": "coordinate-knight",
   "metadata": {},
   "outputs": [
    {
     "data": {
      "text/plain": [
       "4"
      ]
     },
     "execution_count": 71,
     "metadata": {},
     "output_type": "execute_result"
    }
   ],
   "source": [
    "len(name[-5:-1])"
   ]
  },
  {
   "cell_type": "code",
   "execution_count": 72,
   "id": "automated-floor",
   "metadata": {},
   "outputs": [
    {
     "data": {
      "text/plain": [
       "4"
      ]
     },
     "execution_count": 72,
     "metadata": {},
     "output_type": "execute_result"
    }
   ],
   "source": [
    "(-1) - (-5)"
   ]
  },
  {
   "cell_type": "markdown",
   "id": "turkish-blackberry",
   "metadata": {},
   "source": [
    "## Bonus: Get all the characters"
   ]
  },
  {
   "cell_type": "markdown",
   "id": "novel-combination",
   "metadata": {},
   "source": [
    "Get all characters of the `language` variable:"
   ]
  },
  {
   "cell_type": "code",
   "execution_count": 73,
   "id": "conservative-affair",
   "metadata": {},
   "outputs": [
    {
     "data": {
      "text/plain": [
       "'Python'"
      ]
     },
     "execution_count": 73,
     "metadata": {},
     "output_type": "execute_result"
    }
   ],
   "source": [
    "language[0:6]"
   ]
  },
  {
   "cell_type": "code",
   "execution_count": 74,
   "id": "linear-baltimore",
   "metadata": {},
   "outputs": [
    {
     "data": {
      "text/plain": [
       "'Python'"
      ]
     },
     "execution_count": 74,
     "metadata": {},
     "output_type": "execute_result"
    }
   ],
   "source": [
    "language[:]"
   ]
  },
  {
   "cell_type": "code",
   "execution_count": 75,
   "id": "liked-feeling",
   "metadata": {},
   "outputs": [
    {
     "data": {
      "text/plain": [
       "'Python'"
      ]
     },
     "execution_count": 75,
     "metadata": {},
     "output_type": "execute_result"
    }
   ],
   "source": [
    "# Does NOT raise an error, even though the index is too large:\n",
    "language[:100]"
   ]
  },
  {
   "cell_type": "markdown",
   "id": "heard-venice",
   "metadata": {},
   "source": [
    "## Bonus: Get one out of X characters"
   ]
  },
  {
   "cell_type": "code",
   "execution_count": 76,
   "id": "stylish-mother",
   "metadata": {},
   "outputs": [
    {
     "data": {
      "text/plain": [
       "'Python'"
      ]
     },
     "execution_count": 76,
     "metadata": {},
     "output_type": "execute_result"
    }
   ],
   "source": [
    "language[:]"
   ]
  },
  {
   "cell_type": "markdown",
   "id": "large-disaster",
   "metadata": {},
   "source": [
    "Get every characters of the `language` variable:"
   ]
  },
  {
   "cell_type": "code",
   "execution_count": 77,
   "id": "prescribed-disease",
   "metadata": {},
   "outputs": [
    {
     "data": {
      "text/plain": [
       "'Python'"
      ]
     },
     "execution_count": 77,
     "metadata": {},
     "output_type": "execute_result"
    }
   ],
   "source": [
    "language[::1]"
   ]
  },
  {
   "cell_type": "markdown",
   "id": "elect-representative",
   "metadata": {},
   "source": [
    "Get one out of two characters of the `language` variable:"
   ]
  },
  {
   "cell_type": "code",
   "execution_count": 78,
   "id": "obvious-shoot",
   "metadata": {},
   "outputs": [
    {
     "data": {
      "text/plain": [
       "'Pto'"
      ]
     },
     "execution_count": 78,
     "metadata": {},
     "output_type": "execute_result"
    }
   ],
   "source": [
    "language[::2]"
   ]
  },
  {
   "cell_type": "markdown",
   "id": "unlike-litigation",
   "metadata": {},
   "source": [
    "Get one out of three characters of the `name` variable:"
   ]
  },
  {
   "cell_type": "code",
   "execution_count": 79,
   "id": "figured-lunch",
   "metadata": {},
   "outputs": [
    {
     "data": {
      "text/plain": [
       "'B me'"
      ]
     },
     "execution_count": 79,
     "metadata": {},
     "output_type": "execute_result"
    }
   ],
   "source": [
    "name[::3]"
   ]
  },
  {
   "cell_type": "markdown",
   "id": "humanitarian-poultry",
   "metadata": {},
   "source": [
    "Get every characters of the `language` variable, starting from the end:"
   ]
  },
  {
   "cell_type": "code",
   "execution_count": 80,
   "id": "incomplete-contractor",
   "metadata": {},
   "outputs": [
    {
     "data": {
      "text/plain": [
       "'nohtyP'"
      ]
     },
     "execution_count": 80,
     "metadata": {},
     "output_type": "execute_result"
    }
   ],
   "source": [
    "language[::-1]"
   ]
  },
  {
   "cell_type": "markdown",
   "id": "renewable-endorsement",
   "metadata": {},
   "source": [
    "Get one out of two characters of the `language` variable, starting from the end:"
   ]
  },
  {
   "cell_type": "code",
   "execution_count": 81,
   "id": "stock-sight",
   "metadata": {},
   "outputs": [
    {
     "data": {
      "text/plain": [
       "'nhy'"
      ]
     },
     "execution_count": 81,
     "metadata": {},
     "output_type": "execute_result"
    }
   ],
   "source": [
    "language[::-2]"
   ]
  }
 ],
 "metadata": {
  "kernelspec": {
   "display_name": "Python 3",
   "language": "python",
   "name": "python3"
  },
  "language_info": {
   "codemirror_mode": {
    "name": "ipython",
    "version": 3
   },
   "file_extension": ".py",
   "mimetype": "text/x-python",
   "name": "python",
   "nbconvert_exporter": "python",
   "pygments_lexer": "ipython3",
   "version": "3.8.5"
  }
 },
 "nbformat": 4,
 "nbformat_minor": 5
}
