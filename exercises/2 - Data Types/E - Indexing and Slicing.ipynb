{
 "cells": [
  {
   "cell_type": "markdown",
   "id": "miniature-importance",
   "metadata": {},
   "source": [
    "# Indexing & Slicing"
   ]
  },
  {
   "cell_type": "markdown",
   "id": "middle-ranch",
   "metadata": {},
   "source": [
    "## Setup"
   ]
  },
  {
   "cell_type": "code",
   "execution_count": null,
   "id": "great-census",
   "metadata": {},
   "outputs": [],
   "source": [
    "empty_string = \"\""
   ]
  },
  {
   "cell_type": "code",
   "execution_count": null,
   "id": "dangerous-latvia",
   "metadata": {},
   "outputs": [],
   "source": [
    "teacher = \"JC\""
   ]
  },
  {
   "cell_type": "code",
   "execution_count": null,
   "id": "desirable-tonight",
   "metadata": {},
   "outputs": [],
   "source": [
    "language = \"Python\""
   ]
  },
  {
   "cell_type": "code",
   "execution_count": null,
   "id": "separate-office",
   "metadata": {},
   "outputs": [],
   "source": [
    "name = \"Jean-Christophe\""
   ]
  },
  {
   "cell_type": "markdown",
   "id": "systematic-quantum",
   "metadata": {},
   "source": [
    "## Demo 1: length"
   ]
  },
  {
   "cell_type": "markdown",
   "id": "center-battery",
   "metadata": {},
   "source": [
    "Get the length of a string:"
   ]
  },
  {
   "cell_type": "code",
   "execution_count": null,
   "id": "tropical-symposium",
   "metadata": {},
   "outputs": [],
   "source": [
    "len(teacher)"
   ]
  },
  {
   "cell_type": "code",
   "execution_count": null,
   "id": "complex-comparative",
   "metadata": {},
   "outputs": [],
   "source": [
    "len(language)"
   ]
  },
  {
   "cell_type": "code",
   "execution_count": null,
   "id": "worst-entry",
   "metadata": {},
   "outputs": [],
   "source": [
    "len(empty_string)"
   ]
  },
  {
   "cell_type": "code",
   "execution_count": null,
   "id": "recognized-impression",
   "metadata": {},
   "outputs": [],
   "source": [
    "len(name)"
   ]
  },
  {
   "cell_type": "markdown",
   "id": "satisfactory-friday",
   "metadata": {},
   "source": [
    "## Exercise 1"
   ]
  },
  {
   "cell_type": "markdown",
   "id": "applied-personal",
   "metadata": {},
   "source": [
    "### Skeleton"
   ]
  },
  {
   "cell_type": "code",
   "execution_count": null,
   "id": "fantastic-manual",
   "metadata": {
    "tags": [
     "no-replacement"
    ]
   },
   "outputs": [],
   "source": [
    "name"
   ]
  },
  {
   "cell_type": "markdown",
   "id": "confirmed-plasma",
   "metadata": {},
   "source": [
    "Get the length of the `name` variable:"
   ]
  },
  {
   "cell_type": "code",
   "execution_count": null,
   "id": "immune-junior",
   "metadata": {},
   "outputs": [],
   "source": []
  },
  {
   "cell_type": "markdown",
   "id": "common-baker",
   "metadata": {},
   "source": [
    "Store the length into a new variable called `name_length`:"
   ]
  },
  {
   "cell_type": "code",
   "execution_count": null,
   "id": "interpreted-cigarette",
   "metadata": {},
   "outputs": [],
   "source": []
  },
  {
   "cell_type": "markdown",
   "id": "killing-moscow",
   "metadata": {},
   "source": [
    "## Demo 2: Get a single character"
   ]
  },
  {
   "cell_type": "markdown",
   "id": "independent-falls",
   "metadata": {},
   "source": [
    "Get the first character of the `language` variable:"
   ]
  },
  {
   "cell_type": "code",
   "execution_count": null,
   "id": "narrative-final",
   "metadata": {},
   "outputs": [],
   "source": [
    "language[0]"
   ]
  },
  {
   "cell_type": "markdown",
   "id": "adverse-maximum",
   "metadata": {},
   "source": [
    "Get the second character of the `language` variable:"
   ]
  },
  {
   "cell_type": "code",
   "execution_count": null,
   "id": "dominican-pierre",
   "metadata": {},
   "outputs": [],
   "source": [
    "language[1]"
   ]
  },
  {
   "cell_type": "markdown",
   "id": "fantastic-things",
   "metadata": {},
   "source": [
    "Get the sixth character of the `language` variable:"
   ]
  },
  {
   "cell_type": "code",
   "execution_count": null,
   "id": "olympic-feature",
   "metadata": {},
   "outputs": [],
   "source": [
    "language[5]"
   ]
  },
  {
   "cell_type": "markdown",
   "id": "stretch-cassette",
   "metadata": {},
   "source": [
    "Get the seventh character of the `language` variable:"
   ]
  },
  {
   "cell_type": "code",
   "execution_count": null,
   "id": "floating-lemon",
   "metadata": {
    "tags": [
     "raises-error"
    ]
   },
   "outputs": [],
   "source": [
    "# Raises an error, because the index is too large:\n",
    "language[6]"
   ]
  },
  {
   "cell_type": "markdown",
   "id": "current-citizenship",
   "metadata": {},
   "source": [
    "## Exercise 2"
   ]
  },
  {
   "cell_type": "markdown",
   "id": "baking-chicken",
   "metadata": {},
   "source": [
    "### Skeleton"
   ]
  },
  {
   "cell_type": "code",
   "execution_count": null,
   "id": "c607d8a2",
   "metadata": {
    "tags": [
     "no-replacement"
    ]
   },
   "outputs": [],
   "source": [
    "name"
   ]
  },
  {
   "cell_type": "markdown",
   "id": "canadian-soundtrack",
   "metadata": {},
   "source": [
    "Get the first character of the `name` variable:"
   ]
  },
  {
   "cell_type": "code",
   "execution_count": null,
   "id": "comparative-coordinate",
   "metadata": {},
   "outputs": [],
   "source": []
  },
  {
   "cell_type": "markdown",
   "id": "southern-creator",
   "metadata": {},
   "source": [
    "Get the fourth character of the `name` variable:"
   ]
  },
  {
   "cell_type": "code",
   "execution_count": null,
   "id": "normal-stress",
   "metadata": {},
   "outputs": [],
   "source": []
  },
  {
   "cell_type": "markdown",
   "id": "alive-diamond",
   "metadata": {},
   "source": [
    "## Demo 3: Get a single character, counting from the end"
   ]
  },
  {
   "cell_type": "markdown",
   "id": "cloudy-crest",
   "metadata": {},
   "source": [
    "Get the last character of the `language` variable:"
   ]
  },
  {
   "cell_type": "code",
   "execution_count": null,
   "id": "surprised-russian",
   "metadata": {},
   "outputs": [],
   "source": [
    "language[-1]"
   ]
  },
  {
   "cell_type": "markdown",
   "id": "military-jenny",
   "metadata": {},
   "source": [
    "Note that it is equivalent to:"
   ]
  },
  {
   "cell_type": "code",
   "execution_count": null,
   "id": "broadband-ministry",
   "metadata": {},
   "outputs": [],
   "source": [
    "language[len(language) - 1]"
   ]
  },
  {
   "cell_type": "markdown",
   "id": "powerful-veteran",
   "metadata": {},
   "source": [
    "Get the second to last character of the `language` variable:"
   ]
  },
  {
   "cell_type": "code",
   "execution_count": null,
   "id": "colored-applicant",
   "metadata": {},
   "outputs": [],
   "source": [
    "language[-2]"
   ]
  },
  {
   "cell_type": "markdown",
   "id": "hungarian-april",
   "metadata": {},
   "source": [
    "## Exercise 3"
   ]
  },
  {
   "cell_type": "markdown",
   "id": "hindu-syracuse",
   "metadata": {},
   "source": [
    "### Skeleton"
   ]
  },
  {
   "cell_type": "code",
   "execution_count": null,
   "id": "d0bba0e1",
   "metadata": {
    "tags": [
     "no-replacement"
    ]
   },
   "outputs": [],
   "source": [
    "name"
   ]
  },
  {
   "cell_type": "markdown",
   "id": "norwegian-livestock",
   "metadata": {},
   "source": [
    "Get the last character of the `name` variable:"
   ]
  },
  {
   "cell_type": "code",
   "execution_count": null,
   "id": "designed-convergence",
   "metadata": {},
   "outputs": [],
   "source": []
  },
  {
   "cell_type": "markdown",
   "id": "future-thesis",
   "metadata": {},
   "source": [
    "Get the third character starting from the end of the `name` variable:"
   ]
  },
  {
   "cell_type": "code",
   "execution_count": null,
   "id": "demanding-solution",
   "metadata": {},
   "outputs": [],
   "source": []
  },
  {
   "cell_type": "markdown",
   "id": "polish-drilling",
   "metadata": {},
   "source": [
    "## Demo 4: Get a slice of characters"
   ]
  },
  {
   "cell_type": "markdown",
   "id": "confirmed-breathing",
   "metadata": {},
   "source": [
    "Get the first 3 characters of the `language` variable:"
   ]
  },
  {
   "cell_type": "code",
   "execution_count": null,
   "id": "unlimited-pathology",
   "metadata": {},
   "outputs": [],
   "source": [
    "language[0:3]"
   ]
  },
  {
   "cell_type": "markdown",
   "id": "forbidden-preservation",
   "metadata": {},
   "source": [
    "Note that the start index is included, but **the stop index is excluded**:"
   ]
  },
  {
   "cell_type": "code",
   "execution_count": null,
   "id": "cosmetic-facility",
   "metadata": {},
   "outputs": [],
   "source": [
    "language[0]"
   ]
  },
  {
   "cell_type": "code",
   "execution_count": null,
   "id": "continued-hello",
   "metadata": {},
   "outputs": [],
   "source": [
    "language[1]"
   ]
  },
  {
   "cell_type": "code",
   "execution_count": null,
   "id": "straight-philadelphia",
   "metadata": {},
   "outputs": [],
   "source": [
    "language[2]"
   ]
  },
  {
   "cell_type": "code",
   "execution_count": null,
   "id": "backed-facial",
   "metadata": {},
   "outputs": [],
   "source": [
    "language[3]"
   ]
  },
  {
   "cell_type": "markdown",
   "id": "returning-stability",
   "metadata": {},
   "source": [
    "This means that the difference between the stop index and the start index gives the number of elements:"
   ]
  },
  {
   "cell_type": "code",
   "execution_count": null,
   "id": "elect-actress",
   "metadata": {},
   "outputs": [],
   "source": [
    "3 - 0"
   ]
  },
  {
   "cell_type": "code",
   "execution_count": null,
   "id": "challenging-thong",
   "metadata": {},
   "outputs": [],
   "source": [
    "len(language[0:3])"
   ]
  },
  {
   "cell_type": "markdown",
   "id": "interesting-librarian",
   "metadata": {},
   "source": [
    "When starting from the beginning, the start index can be omitted:"
   ]
  },
  {
   "cell_type": "code",
   "execution_count": null,
   "id": "beneficial-reminder",
   "metadata": {},
   "outputs": [],
   "source": [
    "language[0:3]"
   ]
  },
  {
   "cell_type": "code",
   "execution_count": null,
   "id": "raised-allocation",
   "metadata": {},
   "outputs": [],
   "source": [
    "language[:3]"
   ]
  },
  {
   "cell_type": "markdown",
   "id": "removed-database",
   "metadata": {},
   "source": [
    "<div class=\"alert alert-success\">\n",
    "\n",
    "<b>Best Practice:</b> Do not specify the start index if it is not necessary\n",
    "\n",
    "</div>"
   ]
  },
  {
   "cell_type": "markdown",
   "id": "supreme-quantum",
   "metadata": {},
   "source": [
    "### Extra: "
   ]
  },
  {
   "cell_type": "markdown",
   "id": "spectacular-verification",
   "metadata": {},
   "source": [
    "Get all characters of the `language` variable:"
   ]
  },
  {
   "cell_type": "code",
   "execution_count": null,
   "id": "colonial-skirt",
   "metadata": {},
   "outputs": [],
   "source": [
    "language[0:6]"
   ]
  },
  {
   "cell_type": "code",
   "execution_count": null,
   "id": "viral-confidence",
   "metadata": {},
   "outputs": [],
   "source": [
    "# Does NOT raise an error, even though the index is too large:\n",
    "language[0:100]"
   ]
  },
  {
   "cell_type": "markdown",
   "id": "swiss-invalid",
   "metadata": {},
   "source": [
    "## Exercise 4"
   ]
  },
  {
   "cell_type": "markdown",
   "id": "atlantic-kinase",
   "metadata": {},
   "source": [
    "### Skeleton"
   ]
  },
  {
   "cell_type": "code",
   "execution_count": null,
   "id": "a87b0561",
   "metadata": {
    "tags": [
     "no-replacement"
    ]
   },
   "outputs": [],
   "source": [
    "name"
   ]
  },
  {
   "cell_type": "markdown",
   "id": "likely-library",
   "metadata": {},
   "source": [
    "Get the first 4 characters of the `name` variable:"
   ]
  },
  {
   "cell_type": "code",
   "execution_count": null,
   "id": "affiliated-neighborhood",
   "metadata": {},
   "outputs": [],
   "source": []
  },
  {
   "cell_type": "code",
   "execution_count": null,
   "id": "pretty-tokyo",
   "metadata": {},
   "outputs": [],
   "source": []
  },
  {
   "cell_type": "markdown",
   "id": "surrounded-french",
   "metadata": {},
   "source": [
    "Check that 4 characters are selected:"
   ]
  },
  {
   "cell_type": "code",
   "execution_count": null,
   "id": "prerequisite-treasurer",
   "metadata": {},
   "outputs": [],
   "source": []
  },
  {
   "cell_type": "markdown",
   "id": "major-extra",
   "metadata": {},
   "source": [
    "## Demo 5: Get a slice of characters"
   ]
  },
  {
   "cell_type": "markdown",
   "id": "limited-roman",
   "metadata": {},
   "source": [
    "Get the third to fifth characters of the `language` variable:"
   ]
  },
  {
   "cell_type": "code",
   "execution_count": null,
   "id": "broad-document",
   "metadata": {},
   "outputs": [],
   "source": [
    "language[2:5]"
   ]
  },
  {
   "cell_type": "code",
   "execution_count": null,
   "id": "plain-insider",
   "metadata": {},
   "outputs": [],
   "source": [
    "5 - 2"
   ]
  },
  {
   "cell_type": "code",
   "execution_count": null,
   "id": "governing-authentication",
   "metadata": {},
   "outputs": [],
   "source": [
    "len(language[2:5])"
   ]
  },
  {
   "cell_type": "markdown",
   "id": "optical-spoke",
   "metadata": {},
   "source": [
    "## Exercise 5"
   ]
  },
  {
   "cell_type": "markdown",
   "id": "roman-residence",
   "metadata": {},
   "source": [
    "### Skeleton"
   ]
  },
  {
   "cell_type": "code",
   "execution_count": null,
   "id": "cf771c28",
   "metadata": {
    "tags": [
     "no-replacement"
    ]
   },
   "outputs": [],
   "source": [
    "name"
   ]
  },
  {
   "cell_type": "markdown",
   "id": "popular-discretion",
   "metadata": {},
   "source": [
    "Get the second to fourth characters of the `name` variable:"
   ]
  },
  {
   "cell_type": "code",
   "execution_count": null,
   "id": "frequent-midnight",
   "metadata": {},
   "outputs": [],
   "source": []
  },
  {
   "cell_type": "markdown",
   "id": "anonymous-convergence",
   "metadata": {},
   "source": [
    "Check that 3 characters are selected:"
   ]
  },
  {
   "cell_type": "code",
   "execution_count": null,
   "id": "suited-guatemala",
   "metadata": {},
   "outputs": [],
   "source": []
  },
  {
   "cell_type": "markdown",
   "id": "revised-martial",
   "metadata": {},
   "source": [
    "## Demo 6: Get a slice of characters, counting from the end"
   ]
  },
  {
   "cell_type": "markdown",
   "id": "aboriginal-modem",
   "metadata": {},
   "source": [
    "Get the last 3 characters of the `language` variable:"
   ]
  },
  {
   "cell_type": "code",
   "execution_count": null,
   "id": "matched-arena",
   "metadata": {},
   "outputs": [],
   "source": [
    "language[-3:]"
   ]
  },
  {
   "cell_type": "code",
   "execution_count": null,
   "id": "clear-illness",
   "metadata": {},
   "outputs": [],
   "source": [
    "language[5]"
   ]
  },
  {
   "cell_type": "code",
   "execution_count": null,
   "id": "differential-thirty",
   "metadata": {},
   "outputs": [],
   "source": [
    "len(language)"
   ]
  },
  {
   "cell_type": "markdown",
   "id": "variable-semiconductor",
   "metadata": {},
   "source": [
    "This means that the difference between the stop index and the start index gives the number of elements:"
   ]
  },
  {
   "cell_type": "markdown",
   "id": "fifty-probability",
   "metadata": {},
   "source": [
    "There are indeed 3 characters selected:"
   ]
  },
  {
   "cell_type": "code",
   "execution_count": null,
   "id": "reliable-chester",
   "metadata": {},
   "outputs": [],
   "source": [
    "len(language[-3:])"
   ]
  },
  {
   "cell_type": "markdown",
   "id": "sustained-wilson",
   "metadata": {},
   "source": [
    "## Exercise 6"
   ]
  },
  {
   "cell_type": "markdown",
   "id": "administrative-distinction",
   "metadata": {},
   "source": [
    "### Skeleton"
   ]
  },
  {
   "cell_type": "code",
   "execution_count": null,
   "id": "a56ef2e1",
   "metadata": {
    "tags": [
     "no-replacement"
    ]
   },
   "outputs": [],
   "source": [
    "name"
   ]
  },
  {
   "cell_type": "markdown",
   "id": "minor-encyclopedia",
   "metadata": {},
   "source": [
    "Get the last 4 characters of the `name` variable:"
   ]
  },
  {
   "cell_type": "code",
   "execution_count": null,
   "id": "extended-documentation",
   "metadata": {},
   "outputs": [],
   "source": []
  },
  {
   "cell_type": "markdown",
   "id": "collected-peter",
   "metadata": {},
   "source": [
    "Check that 4 characters are selected:"
   ]
  },
  {
   "cell_type": "code",
   "execution_count": null,
   "id": "dried-globe",
   "metadata": {},
   "outputs": [],
   "source": []
  },
  {
   "cell_type": "markdown",
   "id": "virgin-postcard",
   "metadata": {},
   "source": [
    "## Demo 7: Get a slice of characters, counting from the end"
   ]
  },
  {
   "cell_type": "markdown",
   "id": "fresh-pastor",
   "metadata": {},
   "source": [
    "Get 3 characters, starting 2 characters from the end, of the `language` variable:"
   ]
  },
  {
   "cell_type": "code",
   "execution_count": null,
   "id": "funky-birmingham",
   "metadata": {},
   "outputs": [],
   "source": [
    "language[-5:-2]"
   ]
  },
  {
   "cell_type": "markdown",
   "id": "vertical-liberty",
   "metadata": {},
   "source": [
    "There are indeed 3 characters selected:"
   ]
  },
  {
   "cell_type": "code",
   "execution_count": null,
   "id": "alike-language",
   "metadata": {},
   "outputs": [],
   "source": [
    "len(language[-5:-2])"
   ]
  },
  {
   "cell_type": "markdown",
   "id": "coastal-advisory",
   "metadata": {},
   "source": [
    "This means that the difference between the stop index and the start index gives the number of elements:"
   ]
  },
  {
   "cell_type": "code",
   "execution_count": null,
   "id": "median-pennsylvania",
   "metadata": {},
   "outputs": [],
   "source": [
    "(-2) - (-5)"
   ]
  },
  {
   "cell_type": "markdown",
   "id": "heavy-connecticut",
   "metadata": {},
   "source": [
    "## Exercise 7"
   ]
  },
  {
   "cell_type": "markdown",
   "id": "balanced-fight",
   "metadata": {},
   "source": [
    "### Skeleton"
   ]
  },
  {
   "cell_type": "code",
   "execution_count": null,
   "id": "2f689da7",
   "metadata": {
    "tags": [
     "no-replacement"
    ]
   },
   "outputs": [],
   "source": [
    "name"
   ]
  },
  {
   "cell_type": "markdown",
   "id": "selective-innocent",
   "metadata": {},
   "source": [
    "Get 4 characters, starting the last character from the end, of the `name` variable:"
   ]
  },
  {
   "cell_type": "code",
   "execution_count": null,
   "id": "silver-color",
   "metadata": {},
   "outputs": [],
   "source": []
  },
  {
   "cell_type": "markdown",
   "id": "contemporary-bunch",
   "metadata": {},
   "source": [
    "Check that 4 characters are selected:"
   ]
  },
  {
   "cell_type": "code",
   "execution_count": null,
   "id": "coordinate-knight",
   "metadata": {},
   "outputs": [],
   "source": []
  },
  {
   "cell_type": "code",
   "execution_count": null,
   "id": "finnish-event",
   "metadata": {},
   "outputs": [],
   "source": []
  },
  {
   "cell_type": "markdown",
   "id": "turkish-blackberry",
   "metadata": {},
   "source": [
    "## Bonus: Get all the characters"
   ]
  },
  {
   "cell_type": "markdown",
   "id": "novel-combination",
   "metadata": {},
   "source": [
    "Get all characters of the `language` variable:"
   ]
  },
  {
   "cell_type": "code",
   "execution_count": null,
   "id": "conservative-affair",
   "metadata": {},
   "outputs": [],
   "source": [
    "language[0:6]"
   ]
  },
  {
   "cell_type": "code",
   "execution_count": null,
   "id": "linear-baltimore",
   "metadata": {},
   "outputs": [],
   "source": [
    "language[:]"
   ]
  },
  {
   "cell_type": "code",
   "execution_count": null,
   "id": "liked-feeling",
   "metadata": {},
   "outputs": [],
   "source": [
    "# Does NOT raise an error, even though the index is too large:\n",
    "language[:100]"
   ]
  },
  {
   "cell_type": "markdown",
   "id": "heard-venice",
   "metadata": {},
   "source": [
    "## Bonus: Get one out of X characters"
   ]
  },
  {
   "cell_type": "code",
   "execution_count": null,
   "id": "stylish-mother",
   "metadata": {},
   "outputs": [],
   "source": [
    "language[:]"
   ]
  },
  {
   "cell_type": "markdown",
   "id": "large-disaster",
   "metadata": {},
   "source": [
    "Get every characters of the `language` variable:"
   ]
  },
  {
   "cell_type": "code",
   "execution_count": null,
   "id": "prescribed-disease",
   "metadata": {},
   "outputs": [],
   "source": [
    "language[::1]"
   ]
  },
  {
   "cell_type": "markdown",
   "id": "elect-representative",
   "metadata": {},
   "source": [
    "Get one out of two characters of the `language` variable:"
   ]
  },
  {
   "cell_type": "code",
   "execution_count": null,
   "id": "obvious-shoot",
   "metadata": {},
   "outputs": [],
   "source": [
    "language[::2]"
   ]
  },
  {
   "cell_type": "markdown",
   "id": "unlike-litigation",
   "metadata": {},
   "source": [
    "Get one out of three characters of the `name` variable:"
   ]
  },
  {
   "cell_type": "code",
   "execution_count": null,
   "id": "figured-lunch",
   "metadata": {},
   "outputs": [],
   "source": [
    "name[::3]"
   ]
  },
  {
   "cell_type": "markdown",
   "id": "humanitarian-poultry",
   "metadata": {},
   "source": [
    "Get every characters of the `language` variable, starting from the end:"
   ]
  },
  {
   "cell_type": "code",
   "execution_count": null,
   "id": "incomplete-contractor",
   "metadata": {},
   "outputs": [],
   "source": [
    "language[::-1]"
   ]
  },
  {
   "cell_type": "markdown",
   "id": "renewable-endorsement",
   "metadata": {},
   "source": [
    "Get one out of two characters of the `language` variable, starting from the end:"
   ]
  },
  {
   "cell_type": "code",
   "execution_count": null,
   "id": "stock-sight",
   "metadata": {},
   "outputs": [],
   "source": [
    "language[::-2]"
   ]
  }
 ],
 "metadata": {
  "kernelspec": {
   "display_name": "Python 3",
   "language": "python",
   "name": "python3"
  },
  "language_info": {
   "codemirror_mode": {
    "name": "ipython",
    "version": 3
   },
   "file_extension": ".py",
   "mimetype": "text/x-python",
   "name": "python",
   "nbconvert_exporter": "python",
   "pygments_lexer": "ipython3",
   "version": "3.9.2"
  }
 },
 "nbformat": 4,
 "nbformat_minor": 5
}
