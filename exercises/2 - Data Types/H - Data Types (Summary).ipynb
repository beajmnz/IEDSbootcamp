{
 "cells": [
  {
   "cell_type": "markdown",
   "id": "caroline-transmission",
   "metadata": {},
   "source": [
    "# Data Types"
   ]
  },
  {
   "cell_type": "markdown",
   "id": "grave-armor",
   "metadata": {},
   "source": [
    "Main data types in Python:\n",
    "- numbers can be:\n",
    "    - **integers** (`0`, `1`, and `2`)\n",
    "    - **floats** (`1.0`, `1.1`, and `1.2`)\n",
    "    - fractions (1/2 and 2/3)\n",
    "    - complex numbers\n",
    "- **strings** are sequences of Unicode characters (e.g. a text document)\n",
    "- **booleans** are either `True` or `False`\n",
    "- **None** is a null value\n",
    "- bytes and byte arrays (e.g. a jpeg image file)"
   ]
  },
  {
   "cell_type": "markdown",
   "id": "excited-reality",
   "metadata": {},
   "source": [
    "## Correct data types"
   ]
  },
  {
   "cell_type": "code",
   "execution_count": null,
   "id": "hired-savannah",
   "metadata": {},
   "outputs": [],
   "source": [
    "2 + 3"
   ]
  },
  {
   "cell_type": "code",
   "execution_count": null,
   "id": "apparent-ending",
   "metadata": {},
   "outputs": [],
   "source": [
    "\"2\" + \"3\""
   ]
  },
  {
   "cell_type": "code",
   "execution_count": null,
   "id": "comparative-bench",
   "metadata": {},
   "outputs": [],
   "source": [
    "int(\"2\") + int(\"3\")"
   ]
  },
  {
   "cell_type": "code",
   "execution_count": null,
   "id": "ongoing-scientist",
   "metadata": {
    "tags": [
     "raises-error"
    ]
   },
   "outputs": [],
   "source": [
    "\"2\" + 3"
   ]
  },
  {
   "cell_type": "code",
   "execution_count": null,
   "id": "b0abafc3",
   "metadata": {},
   "outputs": [],
   "source": [
    "\"2\" * 3"
   ]
  },
  {
   "cell_type": "markdown",
   "id": "interior-cameroon",
   "metadata": {},
   "source": [
    "<div class=\"alert alert-warning\">\n",
    "\n",
    "<b>Beware:</b> Different types support different operations, so always use the relevant type!\n",
    "\n",
    "</div>"
   ]
  },
  {
   "cell_type": "markdown",
   "id": "5a28e6be",
   "metadata": {},
   "source": [
    "## Summary"
   ]
  },
  {
   "cell_type": "markdown",
   "id": "f1590885",
   "metadata": {},
   "source": [
    "Data Type    | `type(...)` |  Mutable?\n",
    ":------------|:------------|:---------\n",
    "**Integers** | `int`       | No\n",
    "**Floats**   | `float`     | No\n",
    "**Strings**  | `str`       | No\n",
    "**Booleans** | `bool`      | No\n",
    "**None**     | `NoneType`  | No"
   ]
  }
 ],
 "metadata": {
  "kernelspec": {
   "display_name": "Python 3",
   "language": "python",
   "name": "python3"
  },
  "language_info": {
   "codemirror_mode": {
    "name": "ipython",
    "version": 3
   },
   "file_extension": ".py",
   "mimetype": "text/x-python",
   "name": "python",
   "nbconvert_exporter": "python",
   "pygments_lexer": "ipython3",
   "version": "3.8.5"
  }
 },
 "nbformat": 4,
 "nbformat_minor": 5
}
