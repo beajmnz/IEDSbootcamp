{
 "cells": [
  {
   "cell_type": "markdown",
   "id": "burning-values",
   "metadata": {},
   "source": [
    "# Strings"
   ]
  },
  {
   "cell_type": "markdown",
   "id": "organizational-gentleman",
   "metadata": {},
   "source": [
    "## Creation"
   ]
  },
  {
   "cell_type": "markdown",
   "id": "impressed-madonna",
   "metadata": {},
   "source": [
    "Create a variable called `name` containing a string:"
   ]
  },
  {
   "cell_type": "code",
   "execution_count": 1,
   "id": "confidential-reception",
   "metadata": {},
   "outputs": [],
   "source": [
    "name = \"Bea\""
   ]
  },
  {
   "cell_type": "code",
   "execution_count": 2,
   "id": "painted-dayton",
   "metadata": {},
   "outputs": [
    {
     "data": {
      "text/plain": [
       "'Bea'"
      ]
     },
     "execution_count": 2,
     "metadata": {},
     "output_type": "execute_result"
    }
   ],
   "source": [
    "name"
   ]
  },
  {
   "cell_type": "markdown",
   "id": "owned-marks",
   "metadata": {},
   "source": [
    "Create a variable called `motto` containing another string:"
   ]
  },
  {
   "cell_type": "code",
   "execution_count": 3,
   "id": "ceramic-worker",
   "metadata": {},
   "outputs": [],
   "source": [
    "motto = \"Failure is not an option!\""
   ]
  },
  {
   "cell_type": "code",
   "execution_count": 4,
   "id": "composite-tyler",
   "metadata": {},
   "outputs": [
    {
     "data": {
      "text/plain": [
       "'Failure is not an option!'"
      ]
     },
     "execution_count": 4,
     "metadata": {},
     "output_type": "execute_result"
    }
   ],
   "source": [
    "motto"
   ]
  },
  {
   "cell_type": "markdown",
   "id": "industrial-trial",
   "metadata": {},
   "source": [
    "<div class=\"alert alert-success\">\n",
    "\n",
    "<b>Best Practice:</b> Use double quotes for strings\n",
    "\n",
    "</div>"
   ]
  },
  {
   "cell_type": "markdown",
   "id": "musical-prison",
   "metadata": {},
   "source": [
    "Create a variable called `empty_string` containing an empty string:"
   ]
  },
  {
   "cell_type": "code",
   "execution_count": 5,
   "id": "pediatric-toolbox",
   "metadata": {},
   "outputs": [],
   "source": [
    "empty_string = \"\""
   ]
  },
  {
   "cell_type": "code",
   "execution_count": 6,
   "id": "increased-attribute",
   "metadata": {},
   "outputs": [
    {
     "data": {
      "text/plain": [
       "''"
      ]
     },
     "execution_count": 6,
     "metadata": {},
     "output_type": "execute_result"
    }
   ],
   "source": [
    "empty_string"
   ]
  },
  {
   "cell_type": "markdown",
   "id": "gothic-optimum",
   "metadata": {},
   "source": [
    "### Bonus: Single quotes versus Double quotes"
   ]
  },
  {
   "cell_type": "markdown",
   "id": "frank-reward",
   "metadata": {},
   "source": [
    "Strings can be created with either single or double quotes, and contain the other:"
   ]
  },
  {
   "cell_type": "code",
   "execution_count": 7,
   "id": "acoustic-fusion",
   "metadata": {},
   "outputs": [
    {
     "data": {
      "text/plain": [
       "'Failure is not an option'"
      ]
     },
     "execution_count": 7,
     "metadata": {},
     "output_type": "execute_result"
    }
   ],
   "source": [
    "\"Failure is not an option\""
   ]
  },
  {
   "cell_type": "code",
   "execution_count": 8,
   "id": "wired-hayes",
   "metadata": {},
   "outputs": [
    {
     "data": {
      "text/plain": [
       "'Failure is not an option'"
      ]
     },
     "execution_count": 8,
     "metadata": {},
     "output_type": "execute_result"
    }
   ],
   "source": [
    "'Failure is not an option'"
   ]
  },
  {
   "cell_type": "code",
   "execution_count": 9,
   "id": "underlying-thing",
   "metadata": {},
   "outputs": [
    {
     "data": {
      "text/plain": [
       "'I will be there when you fall. --Floor'"
      ]
     },
     "execution_count": 9,
     "metadata": {},
     "output_type": "execute_result"
    }
   ],
   "source": [
    "\"I will be there when you fall. --Floor\""
   ]
  },
  {
   "cell_type": "code",
   "execution_count": 10,
   "id": "sunset-marks",
   "metadata": {},
   "outputs": [
    {
     "data": {
      "text/plain": [
       "\"I'll be there when you fall. --Floor\""
      ]
     },
     "execution_count": 10,
     "metadata": {},
     "output_type": "execute_result"
    }
   ],
   "source": [
    "\"I'll be there when you fall. --Floor\""
   ]
  },
  {
   "cell_type": "code",
   "execution_count": 11,
   "id": "accepted-virginia",
   "metadata": {},
   "outputs": [
    {
     "data": {
      "text/plain": [
       "'I will be there when you fall. --Floor'"
      ]
     },
     "execution_count": 11,
     "metadata": {},
     "output_type": "execute_result"
    }
   ],
   "source": [
    "\"I will be there when you fall. --Floor\""
   ]
  },
  {
   "cell_type": "code",
   "execution_count": 13,
   "id": "boring-weekly",
   "metadata": {
    "tags": [
     "raises-error"
    ]
   },
   "outputs": [
    {
     "data": {
      "text/plain": [
       "\"I'll be there when you fall. --Floor\""
      ]
     },
     "execution_count": 13,
     "metadata": {},
     "output_type": "execute_result"
    }
   ],
   "source": [
    "# Raises an error:\n",
    "'I\\'ll be there when you fall. --Floor'"
   ]
  },
  {
   "cell_type": "code",
   "execution_count": 14,
   "id": "nutritional-plastic",
   "metadata": {},
   "outputs": [
    {
     "data": {
      "text/plain": [
       "'Floor said: \"I will be there when you fall\"'"
      ]
     },
     "execution_count": 14,
     "metadata": {},
     "output_type": "execute_result"
    }
   ],
   "source": [
    "'Floor said: \"I will be there when you fall\"'"
   ]
  },
  {
   "cell_type": "markdown",
   "id": "sunrise-florida",
   "metadata": {},
   "source": [
    "Strings can also span multiple lines:"
   ]
  },
  {
   "cell_type": "markdown",
   "id": "attended-turtle",
   "metadata": {},
   "source": [
    "### Bonus: Multiline strings"
   ]
  },
  {
   "cell_type": "code",
   "execution_count": 15,
   "id": "emerging-tulsa",
   "metadata": {},
   "outputs": [
    {
     "data": {
      "text/plain": [
       "'\\nA multiline string can contain new lines, as well as both single quotes and double quotes...\\n\"That\\'s pretty cool!\", said the reader.\\n'"
      ]
     },
     "execution_count": 15,
     "metadata": {},
     "output_type": "execute_result"
    }
   ],
   "source": [
    "\"\"\"\n",
    "A multiline string can contain new lines, as well as both single quotes and double quotes...\n",
    "\"That's pretty cool!\", said the reader.\n",
    "\"\"\""
   ]
  },
  {
   "cell_type": "markdown",
   "id": "smooth-burning",
   "metadata": {},
   "source": [
    "## Type"
   ]
  },
  {
   "cell_type": "code",
   "execution_count": 16,
   "id": "standard-bermuda",
   "metadata": {},
   "outputs": [
    {
     "data": {
      "text/plain": [
       "str"
      ]
     },
     "execution_count": 16,
     "metadata": {},
     "output_type": "execute_result"
    }
   ],
   "source": [
    "type(name)"
   ]
  },
  {
   "cell_type": "markdown",
   "id": "sonic-jacob",
   "metadata": {},
   "source": [
    "## Conversion"
   ]
  },
  {
   "cell_type": "markdown",
   "id": "christian-vessel",
   "metadata": {},
   "source": [
    "### From integers/floats"
   ]
  },
  {
   "cell_type": "markdown",
   "id": "accepting-melissa",
   "metadata": {},
   "source": [
    "Turn a number into a string:"
   ]
  },
  {
   "cell_type": "code",
   "execution_count": 17,
   "id": "homeless-methodology",
   "metadata": {},
   "outputs": [],
   "source": [
    "age = 99"
   ]
  },
  {
   "cell_type": "code",
   "execution_count": 18,
   "id": "lightweight-coalition",
   "metadata": {},
   "outputs": [
    {
     "data": {
      "text/plain": [
       "99"
      ]
     },
     "execution_count": 18,
     "metadata": {},
     "output_type": "execute_result"
    }
   ],
   "source": [
    "age"
   ]
  },
  {
   "cell_type": "code",
   "execution_count": 19,
   "id": "bridal-judges",
   "metadata": {},
   "outputs": [
    {
     "data": {
      "text/plain": [
       "int"
      ]
     },
     "execution_count": 19,
     "metadata": {},
     "output_type": "execute_result"
    }
   ],
   "source": [
    "type(age)"
   ]
  },
  {
   "cell_type": "code",
   "execution_count": 20,
   "id": "marked-judge",
   "metadata": {},
   "outputs": [
    {
     "data": {
      "text/plain": [
       "'99'"
      ]
     },
     "execution_count": 20,
     "metadata": {},
     "output_type": "execute_result"
    }
   ],
   "source": [
    "str(99)"
   ]
  },
  {
   "cell_type": "code",
   "execution_count": 21,
   "id": "greenhouse-period",
   "metadata": {},
   "outputs": [],
   "source": [
    "age_as_string = str(99)"
   ]
  },
  {
   "cell_type": "code",
   "execution_count": 22,
   "id": "spatial-genius",
   "metadata": {},
   "outputs": [
    {
     "data": {
      "text/plain": [
       "'99'"
      ]
     },
     "execution_count": 22,
     "metadata": {},
     "output_type": "execute_result"
    }
   ],
   "source": [
    "age_as_string"
   ]
  },
  {
   "cell_type": "code",
   "execution_count": 23,
   "id": "liquid-proposal",
   "metadata": {},
   "outputs": [
    {
     "data": {
      "text/plain": [
       "str"
      ]
     },
     "execution_count": 23,
     "metadata": {},
     "output_type": "execute_result"
    }
   ],
   "source": [
    "type(age_as_string)"
   ]
  },
  {
   "cell_type": "markdown",
   "id": "noted-lithuania",
   "metadata": {},
   "source": [
    "## Demo 1: `upper()`"
   ]
  },
  {
   "cell_type": "markdown",
   "id": "ordinary-injection",
   "metadata": {},
   "source": [
    "Turn a string into uppercase:"
   ]
  },
  {
   "cell_type": "code",
   "execution_count": 24,
   "id": "passive-thumbnail",
   "metadata": {},
   "outputs": [
    {
     "data": {
      "text/plain": [
       "'Bea'"
      ]
     },
     "execution_count": 24,
     "metadata": {},
     "output_type": "execute_result"
    }
   ],
   "source": [
    "name"
   ]
  },
  {
   "cell_type": "code",
   "execution_count": 25,
   "id": "dutch-equity",
   "metadata": {},
   "outputs": [
    {
     "data": {
      "text/plain": [
       "'BEA'"
      ]
     },
     "execution_count": 25,
     "metadata": {},
     "output_type": "execute_result"
    }
   ],
   "source": [
    "name.upper()"
   ]
  },
  {
   "cell_type": "markdown",
   "id": "exact-corner",
   "metadata": {},
   "source": [
    "Save the new string into a variable called `name_uppercase`:"
   ]
  },
  {
   "cell_type": "code",
   "execution_count": 26,
   "id": "warming-today",
   "metadata": {},
   "outputs": [],
   "source": [
    "name_uppercase = name.upper()"
   ]
  },
  {
   "cell_type": "code",
   "execution_count": 27,
   "id": "stock-salvation",
   "metadata": {},
   "outputs": [
    {
     "data": {
      "text/plain": [
       "'BEA'"
      ]
     },
     "execution_count": 27,
     "metadata": {},
     "output_type": "execute_result"
    }
   ],
   "source": [
    "name_uppercase"
   ]
  },
  {
   "cell_type": "markdown",
   "id": "architectural-northwest",
   "metadata": {},
   "source": [
    "## Exercise 1"
   ]
  },
  {
   "cell_type": "markdown",
   "id": "nominated-procedure",
   "metadata": {},
   "source": [
    "### Skeleton"
   ]
  },
  {
   "cell_type": "markdown",
   "id": "australian-convertible",
   "metadata": {},
   "source": [
    "Turn the `motto` string variable into uppercase:"
   ]
  },
  {
   "cell_type": "code",
   "execution_count": 28,
   "id": "handmade-sugar",
   "metadata": {},
   "outputs": [
    {
     "data": {
      "text/plain": [
       "'FAILURE IS NOT AN OPTION!'"
      ]
     },
     "execution_count": 28,
     "metadata": {},
     "output_type": "execute_result"
    }
   ],
   "source": [
    "motto.upper()"
   ]
  },
  {
   "cell_type": "markdown",
   "id": "republican-celebration",
   "metadata": {},
   "source": [
    "Save the new string into a variable called `motto_uppercase`:"
   ]
  },
  {
   "cell_type": "code",
   "execution_count": 29,
   "id": "central-diploma",
   "metadata": {},
   "outputs": [],
   "source": [
    "motto_uppercase = motto.upper()"
   ]
  },
  {
   "cell_type": "markdown",
   "id": "accepted-defendant",
   "metadata": {},
   "source": [
    "## Demo 2: `lower()`"
   ]
  },
  {
   "cell_type": "markdown",
   "id": "textile-diagram",
   "metadata": {},
   "source": [
    "Turn a string into lowercase:"
   ]
  },
  {
   "cell_type": "code",
   "execution_count": 30,
   "id": "optional-rally",
   "metadata": {},
   "outputs": [
    {
     "data": {
      "text/plain": [
       "'Bea'"
      ]
     },
     "execution_count": 30,
     "metadata": {},
     "output_type": "execute_result"
    }
   ],
   "source": [
    "name"
   ]
  },
  {
   "cell_type": "code",
   "execution_count": 31,
   "id": "cutting-example",
   "metadata": {},
   "outputs": [
    {
     "data": {
      "text/plain": [
       "'bea'"
      ]
     },
     "execution_count": 31,
     "metadata": {},
     "output_type": "execute_result"
    }
   ],
   "source": [
    "name.lower()"
   ]
  },
  {
   "cell_type": "markdown",
   "id": "regulation-convertible",
   "metadata": {},
   "source": [
    "Save the new string into a variable called `name_lowercase`:"
   ]
  },
  {
   "cell_type": "code",
   "execution_count": 32,
   "id": "certain-commerce",
   "metadata": {},
   "outputs": [],
   "source": [
    "name_lowercase = name.lower()"
   ]
  },
  {
   "cell_type": "code",
   "execution_count": 33,
   "id": "measured-flush",
   "metadata": {},
   "outputs": [
    {
     "data": {
      "text/plain": [
       "'bea'"
      ]
     },
     "execution_count": 33,
     "metadata": {},
     "output_type": "execute_result"
    }
   ],
   "source": [
    "name_lowercase"
   ]
  },
  {
   "cell_type": "markdown",
   "id": "crude-irish",
   "metadata": {},
   "source": [
    "## Exercise 2"
   ]
  },
  {
   "cell_type": "markdown",
   "id": "packed-coaching",
   "metadata": {},
   "source": [
    "### Skeleton"
   ]
  },
  {
   "cell_type": "markdown",
   "id": "forced-sucking",
   "metadata": {},
   "source": [
    "Turn the `motto` string variable into lowercase:"
   ]
  },
  {
   "cell_type": "code",
   "execution_count": 34,
   "id": "right-anatomy",
   "metadata": {},
   "outputs": [
    {
     "data": {
      "text/plain": [
       "'failure is not an option!'"
      ]
     },
     "execution_count": 34,
     "metadata": {},
     "output_type": "execute_result"
    }
   ],
   "source": [
    "motto.lower()"
   ]
  },
  {
   "cell_type": "markdown",
   "id": "toxic-appearance",
   "metadata": {},
   "source": [
    "Save the new string into a variable called `motto_lowercase`:"
   ]
  },
  {
   "cell_type": "code",
   "execution_count": 35,
   "id": "greatest-chapel",
   "metadata": {},
   "outputs": [],
   "source": [
    "motto_lowercase = motto.lower()"
   ]
  },
  {
   "cell_type": "code",
   "execution_count": 36,
   "id": "better-halifax",
   "metadata": {},
   "outputs": [
    {
     "data": {
      "text/plain": [
       "'failure is not an option!'"
      ]
     },
     "execution_count": 36,
     "metadata": {},
     "output_type": "execute_result"
    }
   ],
   "source": [
    "motto_lowercase"
   ]
  },
  {
   "cell_type": "markdown",
   "id": "balanced-comparative",
   "metadata": {},
   "source": [
    "## Demo 3: `strip()`"
   ]
  },
  {
   "cell_type": "markdown",
   "id": "african-miniature",
   "metadata": {},
   "source": [
    "Create a variable called `alias` containing a string with extra spaces:"
   ]
  },
  {
   "cell_type": "code",
   "execution_count": 37,
   "id": "olympic-present",
   "metadata": {},
   "outputs": [],
   "source": [
    "alias = \"   JC      \""
   ]
  },
  {
   "cell_type": "code",
   "execution_count": 38,
   "id": "internal-experiment",
   "metadata": {},
   "outputs": [
    {
     "data": {
      "text/plain": [
       "'   JC      '"
      ]
     },
     "execution_count": 38,
     "metadata": {},
     "output_type": "execute_result"
    }
   ],
   "source": [
    "alias"
   ]
  },
  {
   "cell_type": "code",
   "execution_count": 39,
   "id": "front-devil",
   "metadata": {},
   "outputs": [
    {
     "name": "stdout",
     "output_type": "stream",
     "text": [
      "My alias is    JC      .\n"
     ]
    }
   ],
   "source": [
    "print(f\"My alias is {alias}.\")"
   ]
  },
  {
   "cell_type": "markdown",
   "id": "drawn-parking",
   "metadata": {},
   "source": [
    "Remove empty spaces from the beginning and/or the end of a string:"
   ]
  },
  {
   "cell_type": "code",
   "execution_count": 40,
   "id": "significant-progress",
   "metadata": {},
   "outputs": [
    {
     "data": {
      "text/plain": [
       "'JC'"
      ]
     },
     "execution_count": 40,
     "metadata": {},
     "output_type": "execute_result"
    }
   ],
   "source": [
    "alias.strip()"
   ]
  },
  {
   "cell_type": "markdown",
   "id": "separate-topic",
   "metadata": {},
   "source": [
    "Remove empty spaces from the beginning (i.e. left) of a string:"
   ]
  },
  {
   "cell_type": "code",
   "execution_count": 41,
   "id": "humanitarian-cambridge",
   "metadata": {},
   "outputs": [
    {
     "data": {
      "text/plain": [
       "'JC      '"
      ]
     },
     "execution_count": 41,
     "metadata": {},
     "output_type": "execute_result"
    }
   ],
   "source": [
    "alias.lstrip()"
   ]
  },
  {
   "cell_type": "markdown",
   "id": "sticky-niagara",
   "metadata": {},
   "source": [
    "Remove empty spaces from the end (i.e. right) of a string:"
   ]
  },
  {
   "cell_type": "code",
   "execution_count": 42,
   "id": "reflected-sheriff",
   "metadata": {},
   "outputs": [
    {
     "data": {
      "text/plain": [
       "'   JC'"
      ]
     },
     "execution_count": 42,
     "metadata": {},
     "output_type": "execute_result"
    }
   ],
   "source": [
    "alias.rstrip()"
   ]
  },
  {
   "cell_type": "markdown",
   "id": "roman-pressing",
   "metadata": {},
   "source": [
    "Replace `alias` with the corrected version:"
   ]
  },
  {
   "cell_type": "code",
   "execution_count": 43,
   "id": "respiratory-question",
   "metadata": {},
   "outputs": [
    {
     "data": {
      "text/plain": [
       "'   JC      '"
      ]
     },
     "execution_count": 43,
     "metadata": {},
     "output_type": "execute_result"
    }
   ],
   "source": [
    "alias"
   ]
  },
  {
   "cell_type": "code",
   "execution_count": 44,
   "id": "atomic-animal",
   "metadata": {},
   "outputs": [],
   "source": [
    "alias = alias.strip()"
   ]
  },
  {
   "cell_type": "code",
   "execution_count": 45,
   "id": "controlling-constitution",
   "metadata": {},
   "outputs": [
    {
     "data": {
      "text/plain": [
       "'JC'"
      ]
     },
     "execution_count": 45,
     "metadata": {},
     "output_type": "execute_result"
    }
   ],
   "source": [
    "alias"
   ]
  },
  {
   "cell_type": "markdown",
   "id": "loving-birmingham",
   "metadata": {},
   "source": [
    "## Exercise 3"
   ]
  },
  {
   "cell_type": "markdown",
   "id": "stuffed-ridge",
   "metadata": {},
   "source": [
    "### Skeleton"
   ]
  },
  {
   "cell_type": "code",
   "execution_count": 46,
   "id": "beneficial-demographic",
   "metadata": {
    "tags": [
     "no-replacement"
    ]
   },
   "outputs": [],
   "source": [
    "mark_twain = \"     Facts are stubborn things, but statistics are pliable.     \""
   ]
  },
  {
   "cell_type": "markdown",
   "id": "liked-sodium",
   "metadata": {},
   "source": [
    "Remove empty spaces from the beginning and/or the end of the `mark_twain` variable:"
   ]
  },
  {
   "cell_type": "code",
   "execution_count": 47,
   "id": "biological-world",
   "metadata": {},
   "outputs": [
    {
     "data": {
      "text/plain": [
       "'Facts are stubborn things, but statistics are pliable.'"
      ]
     },
     "execution_count": 47,
     "metadata": {},
     "output_type": "execute_result"
    }
   ],
   "source": [
    "mark_twain.strip()"
   ]
  },
  {
   "cell_type": "markdown",
   "id": "wicked-blake",
   "metadata": {},
   "source": [
    "Save the new string into the same variable (erasing the version with extraneous spaces):"
   ]
  },
  {
   "cell_type": "code",
   "execution_count": 48,
   "id": "coral-syracuse",
   "metadata": {},
   "outputs": [],
   "source": [
    "mark_twain = mark_twain.strip()"
   ]
  },
  {
   "cell_type": "code",
   "execution_count": 49,
   "id": "organizational-doctrine",
   "metadata": {},
   "outputs": [
    {
     "data": {
      "text/plain": [
       "'Facts are stubborn things, but statistics are pliable.'"
      ]
     },
     "execution_count": 49,
     "metadata": {},
     "output_type": "execute_result"
    }
   ],
   "source": [
    "mark_twain"
   ]
  },
  {
   "cell_type": "markdown",
   "id": "fatty-allocation",
   "metadata": {},
   "source": [
    "## Demo 4: `strip()` with an argument"
   ]
  },
  {
   "cell_type": "code",
   "execution_count": 52,
   "id": "czech-comparison",
   "metadata": {},
   "outputs": [
    {
     "data": {
      "text/plain": [
       "'Failure is not an option!'"
      ]
     },
     "execution_count": 52,
     "metadata": {},
     "output_type": "execute_result"
    }
   ],
   "source": [
    "motto"
   ]
  },
  {
   "cell_type": "markdown",
   "id": "executive-module",
   "metadata": {},
   "source": [
    "Remove a specific character from the beginning and/or the end of a string:"
   ]
  },
  {
   "cell_type": "code",
   "execution_count": 53,
   "id": "neural-shoot",
   "metadata": {},
   "outputs": [
    {
     "data": {
      "text/plain": [
       "'Failure is not an option'"
      ]
     },
     "execution_count": 53,
     "metadata": {},
     "output_type": "execute_result"
    }
   ],
   "source": [
    "motto.strip(\"!\")"
   ]
  },
  {
   "cell_type": "markdown",
   "id": "adolescent-continent",
   "metadata": {},
   "source": [
    "## Exercise 4"
   ]
  },
  {
   "cell_type": "markdown",
   "id": "australian-sewing",
   "metadata": {},
   "source": [
    "### Skeleton"
   ]
  },
  {
   "cell_type": "code",
   "execution_count": 54,
   "id": "completed-banking",
   "metadata": {
    "tags": [
     "no-replacement"
    ]
   },
   "outputs": [],
   "source": [
    "alice = \"It's no use going back to yesterday, because I was a different person then.\""
   ]
  },
  {
   "cell_type": "markdown",
   "id": "floating-south",
   "metadata": {},
   "source": [
    "Remove the dot from the end of the `alice` variable:"
   ]
  },
  {
   "cell_type": "code",
   "execution_count": 55,
   "id": "enabling-sleeve",
   "metadata": {},
   "outputs": [
    {
     "data": {
      "text/plain": [
       "\"It's no use going back to yesterday, because I was a different person then\""
      ]
     },
     "execution_count": 55,
     "metadata": {},
     "output_type": "execute_result"
    }
   ],
   "source": [
    "alice.strip(\".\")"
   ]
  },
  {
   "cell_type": "markdown",
   "id": "billion-exclusive",
   "metadata": {},
   "source": [
    "Save the new string into a variable called `alice_strip`:"
   ]
  },
  {
   "cell_type": "code",
   "execution_count": 56,
   "id": "violent-thirty",
   "metadata": {},
   "outputs": [],
   "source": [
    "alice_strip = alice.strip()"
   ]
  },
  {
   "cell_type": "code",
   "execution_count": 57,
   "id": "sitting-advantage",
   "metadata": {},
   "outputs": [
    {
     "data": {
      "text/plain": [
       "\"It's no use going back to yesterday, because I was a different person then.\""
      ]
     },
     "execution_count": 57,
     "metadata": {},
     "output_type": "execute_result"
    }
   ],
   "source": [
    "alice_strip"
   ]
  },
  {
   "cell_type": "markdown",
   "id": "frozen-bracelet",
   "metadata": {},
   "source": [
    "## Demo 5: `startswith()` & `endswith()`"
   ]
  },
  {
   "cell_type": "markdown",
   "id": "ignored-shape",
   "metadata": {},
   "source": [
    "Check if a string starts with a specific sub-string:"
   ]
  },
  {
   "cell_type": "code",
   "execution_count": 58,
   "id": "ordered-editor",
   "metadata": {},
   "outputs": [
    {
     "data": {
      "text/plain": [
       "'Failure is not an option!'"
      ]
     },
     "execution_count": 58,
     "metadata": {},
     "output_type": "execute_result"
    }
   ],
   "source": [
    "motto"
   ]
  },
  {
   "cell_type": "code",
   "execution_count": 59,
   "id": "neither-recommendation",
   "metadata": {},
   "outputs": [
    {
     "data": {
      "text/plain": [
       "True"
      ]
     },
     "execution_count": 59,
     "metadata": {},
     "output_type": "execute_result"
    }
   ],
   "source": [
    "motto.startswith(\"Fail\")"
   ]
  },
  {
   "cell_type": "markdown",
   "id": "designed-findings",
   "metadata": {},
   "source": [
    "Check if a string end with a specific sub-string:"
   ]
  },
  {
   "cell_type": "code",
   "execution_count": 60,
   "id": "magnetic-operations",
   "metadata": {},
   "outputs": [
    {
     "data": {
      "text/plain": [
       "False"
      ]
     },
     "execution_count": 60,
     "metadata": {},
     "output_type": "execute_result"
    }
   ],
   "source": [
    "motto.endswith(\"option\")"
   ]
  },
  {
   "cell_type": "markdown",
   "id": "naval-ensemble",
   "metadata": {},
   "source": [
    "## Exercise 5"
   ]
  },
  {
   "cell_type": "markdown",
   "id": "worst-expert",
   "metadata": {},
   "source": [
    "### Skeleton"
   ]
  },
  {
   "cell_type": "code",
   "execution_count": 61,
   "id": "toxic-anger",
   "metadata": {
    "tags": [
     "no-replacement"
    ]
   },
   "outputs": [],
   "source": [
    "tolkien = \"Not all those who wander are lost.\""
   ]
  },
  {
   "cell_type": "markdown",
   "id": "ece7c941",
   "metadata": {},
   "source": [
    "Check if the `tolkien` variable starts with the word \"Not\":"
   ]
  },
  {
   "cell_type": "code",
   "execution_count": 62,
   "id": "36e3faa2",
   "metadata": {},
   "outputs": [
    {
     "data": {
      "text/plain": [
       "True"
      ]
     },
     "execution_count": 62,
     "metadata": {},
     "output_type": "execute_result"
    }
   ],
   "source": [
    "tolkien.startswith(\"Not\")"
   ]
  },
  {
   "cell_type": "markdown",
   "id": "3b9ab3d7",
   "metadata": {},
   "source": [
    "Check if the `tolkien` variable starts with the word \"not\":"
   ]
  },
  {
   "cell_type": "code",
   "execution_count": 63,
   "id": "8fdb9ca8",
   "metadata": {},
   "outputs": [
    {
     "data": {
      "text/plain": [
       "False"
      ]
     },
     "execution_count": 63,
     "metadata": {},
     "output_type": "execute_result"
    }
   ],
   "source": [
    "tolkien.startswith(\"not\")"
   ]
  },
  {
   "cell_type": "markdown",
   "id": "f364a8c5",
   "metadata": {},
   "source": [
    "Check if the `tolkien` variable ends with the word \"lost\":"
   ]
  },
  {
   "cell_type": "code",
   "execution_count": 64,
   "id": "ff5c1351",
   "metadata": {},
   "outputs": [
    {
     "data": {
      "text/plain": [
       "False"
      ]
     },
     "execution_count": 64,
     "metadata": {},
     "output_type": "execute_result"
    }
   ],
   "source": [
    "tolkien.endswith(\"lost\")"
   ]
  },
  {
   "cell_type": "markdown",
   "id": "million-algebra",
   "metadata": {},
   "source": [
    "## Demo 6: `split()`"
   ]
  },
  {
   "cell_type": "markdown",
   "id": "thick-franklin",
   "metadata": {},
   "source": [
    "Split a string on spaces:"
   ]
  },
  {
   "cell_type": "code",
   "execution_count": 65,
   "id": "accepting-texas",
   "metadata": {},
   "outputs": [
    {
     "data": {
      "text/plain": [
       "'Failure is not an option!'"
      ]
     },
     "execution_count": 65,
     "metadata": {},
     "output_type": "execute_result"
    }
   ],
   "source": [
    "motto"
   ]
  },
  {
   "cell_type": "code",
   "execution_count": 66,
   "id": "authentic-graham",
   "metadata": {},
   "outputs": [
    {
     "data": {
      "text/plain": [
       "['Failure', 'is', 'not', 'an', 'option!']"
      ]
     },
     "execution_count": 66,
     "metadata": {},
     "output_type": "execute_result"
    }
   ],
   "source": [
    "motto.split()"
   ]
  },
  {
   "cell_type": "markdown",
   "id": "selective-margin",
   "metadata": {},
   "source": [
    "Split a string on a specific character:"
   ]
  },
  {
   "cell_type": "code",
   "execution_count": 67,
   "id": "extended-belief",
   "metadata": {},
   "outputs": [
    {
     "data": {
      "text/plain": [
       "'Bea'"
      ]
     },
     "execution_count": 67,
     "metadata": {},
     "output_type": "execute_result"
    }
   ],
   "source": [
    "name"
   ]
  },
  {
   "cell_type": "code",
   "execution_count": 68,
   "id": "answering-jersey",
   "metadata": {},
   "outputs": [
    {
     "data": {
      "text/plain": [
       "['Bea']"
      ]
     },
     "execution_count": 68,
     "metadata": {},
     "output_type": "execute_result"
    }
   ],
   "source": [
    "name.split(\"-\")"
   ]
  },
  {
   "cell_type": "markdown",
   "id": "expired-times",
   "metadata": {},
   "source": [
    "## Exercise 6"
   ]
  },
  {
   "cell_type": "markdown",
   "id": "according-shower",
   "metadata": {},
   "source": [
    "### Skeleton"
   ]
  },
  {
   "cell_type": "code",
   "execution_count": 69,
   "id": "approved-judgment",
   "metadata": {
    "tags": [
     "no-replacement"
    ]
   },
   "outputs": [],
   "source": [
    "gilbert = \"Eat, Pray, Love\""
   ]
  },
  {
   "cell_type": "markdown",
   "id": "greenhouse-military",
   "metadata": {},
   "source": [
    "Split the `gilbert` variable on the `,` character:"
   ]
  },
  {
   "cell_type": "code",
   "execution_count": 70,
   "id": "medieval-litigation",
   "metadata": {},
   "outputs": [
    {
     "data": {
      "text/plain": [
       "['Eat', ' Pray', ' Love']"
      ]
     },
     "execution_count": 70,
     "metadata": {},
     "output_type": "execute_result"
    }
   ],
   "source": [
    "gilbert.split(\",\")"
   ]
  },
  {
   "cell_type": "markdown",
   "id": "bigger-margin",
   "metadata": {},
   "source": [
    "## References"
   ]
  },
  {
   "cell_type": "markdown",
   "id": "brutal-brighton",
   "metadata": {},
   "source": [
    "* [Complete list of string methods](https://docs.python.org/3/library/stdtypes.html#string-methods) in the Python documentation"
   ]
  }
 ],
 "metadata": {
  "kernelspec": {
   "display_name": "Python 3",
   "language": "python",
   "name": "python3"
  },
  "language_info": {
   "codemirror_mode": {
    "name": "ipython",
    "version": 3
   },
   "file_extension": ".py",
   "mimetype": "text/x-python",
   "name": "python",
   "nbconvert_exporter": "python",
   "pygments_lexer": "ipython3",
   "version": "3.8.5"
  }
 },
 "nbformat": 4,
 "nbformat_minor": 5
}
