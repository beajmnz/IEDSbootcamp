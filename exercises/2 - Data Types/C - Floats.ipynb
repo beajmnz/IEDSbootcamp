{
 "cells": [
  {
   "cell_type": "markdown",
   "id": "meaningful-brooklyn",
   "metadata": {},
   "source": [
    "# Data Type: Floats"
   ]
  },
  {
   "cell_type": "markdown",
   "id": "going-remove",
   "metadata": {},
   "source": [
    "## Creation"
   ]
  },
  {
   "cell_type": "markdown",
   "id": "directed-prayer",
   "metadata": {},
   "source": [
    "Create a variable called `price` containing a float:"
   ]
  },
  {
   "cell_type": "code",
   "execution_count": 1,
   "id": "clinical-translation",
   "metadata": {},
   "outputs": [],
   "source": [
    "price = 5.99"
   ]
  },
  {
   "cell_type": "markdown",
   "id": "secure-offset",
   "metadata": {},
   "source": [
    "## Type"
   ]
  },
  {
   "cell_type": "code",
   "execution_count": 2,
   "id": "sacred-career",
   "metadata": {},
   "outputs": [
    {
     "data": {
      "text/plain": [
       "float"
      ]
     },
     "execution_count": 2,
     "metadata": {},
     "output_type": "execute_result"
    }
   ],
   "source": [
    "type(price)"
   ]
  },
  {
   "cell_type": "markdown",
   "id": "chicken-negotiation",
   "metadata": {},
   "source": [
    "## Conversion"
   ]
  },
  {
   "cell_type": "markdown",
   "id": "temporal-easter",
   "metadata": {},
   "source": [
    "### From integers"
   ]
  },
  {
   "cell_type": "markdown",
   "id": "facial-minority",
   "metadata": {},
   "source": [
    "Turn an integer into a float:"
   ]
  },
  {
   "cell_type": "code",
   "execution_count": 3,
   "id": "composed-glory",
   "metadata": {},
   "outputs": [],
   "source": [
    "age_as_integer = 99"
   ]
  },
  {
   "cell_type": "code",
   "execution_count": 4,
   "id": "thick-tourism",
   "metadata": {},
   "outputs": [
    {
     "data": {
      "text/plain": [
       "int"
      ]
     },
     "execution_count": 4,
     "metadata": {},
     "output_type": "execute_result"
    }
   ],
   "source": [
    "type(age_as_integer)"
   ]
  },
  {
   "cell_type": "code",
   "execution_count": 5,
   "id": "incredible-backup",
   "metadata": {},
   "outputs": [
    {
     "data": {
      "text/plain": [
       "99.0"
      ]
     },
     "execution_count": 5,
     "metadata": {},
     "output_type": "execute_result"
    }
   ],
   "source": [
    "float(age_as_integer)"
   ]
  },
  {
   "cell_type": "code",
   "execution_count": 6,
   "id": "corresponding-cheat",
   "metadata": {},
   "outputs": [],
   "source": [
    "age_as_float = float(age_as_integer)"
   ]
  },
  {
   "cell_type": "code",
   "execution_count": 7,
   "id": "parallel-actress",
   "metadata": {},
   "outputs": [
    {
     "data": {
      "text/plain": [
       "float"
      ]
     },
     "execution_count": 7,
     "metadata": {},
     "output_type": "execute_result"
    }
   ],
   "source": [
    "type(age_as_float)"
   ]
  },
  {
   "cell_type": "markdown",
   "id": "dental-bubble",
   "metadata": {},
   "source": [
    "### From strings"
   ]
  },
  {
   "cell_type": "markdown",
   "id": "southwest-diagnosis",
   "metadata": {},
   "source": [
    "Turn a string into a float:"
   ]
  },
  {
   "cell_type": "code",
   "execution_count": 8,
   "id": "organized-tyler",
   "metadata": {},
   "outputs": [
    {
     "data": {
      "text/plain": [
       "56.78"
      ]
     },
     "execution_count": 8,
     "metadata": {},
     "output_type": "execute_result"
    }
   ],
   "source": [
    "float(\"56.78\")"
   ]
  },
  {
   "cell_type": "markdown",
   "id": "coupled-enterprise",
   "metadata": {},
   "source": [
    "## Demo 1: Mathematics"
   ]
  },
  {
   "cell_type": "code",
   "execution_count": 9,
   "id": "married-exploration",
   "metadata": {},
   "outputs": [],
   "source": [
    "x = 2.1"
   ]
  },
  {
   "cell_type": "code",
   "execution_count": 10,
   "id": "latin-communication",
   "metadata": {},
   "outputs": [],
   "source": [
    "y = 3.6"
   ]
  },
  {
   "cell_type": "code",
   "execution_count": 11,
   "id": "prepared-detroit",
   "metadata": {},
   "outputs": [],
   "source": [
    "z = 4.9"
   ]
  },
  {
   "cell_type": "markdown",
   "id": "separate-fashion",
   "metadata": {},
   "source": [
    "### Addition"
   ]
  },
  {
   "cell_type": "markdown",
   "id": "caroline-providence",
   "metadata": {},
   "source": [
    "Add `x` and `y`:"
   ]
  },
  {
   "cell_type": "code",
   "execution_count": 12,
   "id": "sudden-packet",
   "metadata": {},
   "outputs": [
    {
     "data": {
      "text/plain": [
       "5.7"
      ]
     },
     "execution_count": 12,
     "metadata": {},
     "output_type": "execute_result"
    }
   ],
   "source": [
    "x + y"
   ]
  },
  {
   "cell_type": "markdown",
   "id": "incident-marathon",
   "metadata": {},
   "source": [
    "Add `x` and `y`, and store the result in `result`:"
   ]
  },
  {
   "cell_type": "code",
   "execution_count": 13,
   "id": "portable-elevation",
   "metadata": {},
   "outputs": [],
   "source": [
    "result = x + y"
   ]
  },
  {
   "cell_type": "code",
   "execution_count": 14,
   "id": "transsexual-intention",
   "metadata": {},
   "outputs": [
    {
     "data": {
      "text/plain": [
       "5.7"
      ]
     },
     "execution_count": 14,
     "metadata": {},
     "output_type": "execute_result"
    }
   ],
   "source": [
    "result"
   ]
  },
  {
   "cell_type": "code",
   "execution_count": 15,
   "id": "correct-simpson",
   "metadata": {},
   "outputs": [
    {
     "data": {
      "text/plain": [
       "float"
      ]
     },
     "execution_count": 15,
     "metadata": {},
     "output_type": "execute_result"
    }
   ],
   "source": [
    "type(result)"
   ]
  },
  {
   "cell_type": "markdown",
   "id": "floral-exploration",
   "metadata": {},
   "source": [
    "### Subtraction"
   ]
  },
  {
   "cell_type": "markdown",
   "id": "pressing-deficit",
   "metadata": {},
   "source": [
    "Subtract `x` from `y`, and store the result in `result`:"
   ]
  },
  {
   "cell_type": "code",
   "execution_count": 16,
   "id": "sought-simon",
   "metadata": {},
   "outputs": [],
   "source": [
    "result = y - x"
   ]
  },
  {
   "cell_type": "code",
   "execution_count": 17,
   "id": "ignored-executive",
   "metadata": {},
   "outputs": [
    {
     "data": {
      "text/plain": [
       "1.5"
      ]
     },
     "execution_count": 17,
     "metadata": {},
     "output_type": "execute_result"
    }
   ],
   "source": [
    "result"
   ]
  },
  {
   "cell_type": "code",
   "execution_count": 18,
   "id": "increased-logan",
   "metadata": {},
   "outputs": [
    {
     "data": {
      "text/plain": [
       "float"
      ]
     },
     "execution_count": 18,
     "metadata": {},
     "output_type": "execute_result"
    }
   ],
   "source": [
    "type(result)"
   ]
  },
  {
   "cell_type": "markdown",
   "id": "suburban-friendship",
   "metadata": {},
   "source": [
    "### Multiplication"
   ]
  },
  {
   "cell_type": "markdown",
   "id": "noted-representative",
   "metadata": {},
   "source": [
    "Multiply `x` by `y`, and store the result in `result`:"
   ]
  },
  {
   "cell_type": "code",
   "execution_count": 19,
   "id": "brutal-brother",
   "metadata": {},
   "outputs": [],
   "source": [
    "result = x * y"
   ]
  },
  {
   "cell_type": "code",
   "execution_count": 20,
   "id": "related-disco",
   "metadata": {},
   "outputs": [
    {
     "data": {
      "text/plain": [
       "7.5600000000000005"
      ]
     },
     "execution_count": 20,
     "metadata": {},
     "output_type": "execute_result"
    }
   ],
   "source": [
    "result"
   ]
  },
  {
   "cell_type": "code",
   "execution_count": 21,
   "id": "separated-grass",
   "metadata": {},
   "outputs": [
    {
     "data": {
      "text/plain": [
       "float"
      ]
     },
     "execution_count": 21,
     "metadata": {},
     "output_type": "execute_result"
    }
   ],
   "source": [
    "type(result)"
   ]
  },
  {
   "cell_type": "markdown",
   "id": "conscious-shape",
   "metadata": {},
   "source": [
    "## Exercise 1"
   ]
  },
  {
   "cell_type": "markdown",
   "id": "appointed-thompson",
   "metadata": {},
   "source": [
    "### Skeleton"
   ]
  },
  {
   "cell_type": "code",
   "execution_count": 22,
   "id": "related-textbook",
   "metadata": {
    "tags": [
     "no-replacement"
    ]
   },
   "outputs": [],
   "source": [
    "a = 22.2"
   ]
  },
  {
   "cell_type": "code",
   "execution_count": 23,
   "id": "cooked-providence",
   "metadata": {
    "tags": [
     "no-replacement"
    ]
   },
   "outputs": [],
   "source": [
    "b = 33.3"
   ]
  },
  {
   "cell_type": "code",
   "execution_count": 24,
   "id": "smaller-durham",
   "metadata": {
    "tags": [
     "no-replacement"
    ]
   },
   "outputs": [],
   "source": [
    "c = 99.9"
   ]
  },
  {
   "cell_type": "markdown",
   "id": "incomplete-indie",
   "metadata": {},
   "source": [
    "Add `a` and `b`:"
   ]
  },
  {
   "cell_type": "code",
   "execution_count": 25,
   "id": "heard-equation",
   "metadata": {},
   "outputs": [
    {
     "data": {
      "text/plain": [
       "55.5"
      ]
     },
     "execution_count": 25,
     "metadata": {},
     "output_type": "execute_result"
    }
   ],
   "source": [
    "a + b"
   ]
  },
  {
   "cell_type": "markdown",
   "id": "dynamic-metadata",
   "metadata": {},
   "source": [
    "Subtract `b` and `c`:"
   ]
  },
  {
   "cell_type": "code",
   "execution_count": 26,
   "id": "appropriate-million",
   "metadata": {},
   "outputs": [
    {
     "data": {
      "text/plain": [
       "66.60000000000001"
      ]
     },
     "execution_count": 26,
     "metadata": {},
     "output_type": "execute_result"
    }
   ],
   "source": [
    "c - b"
   ]
  },
  {
   "cell_type": "markdown",
   "id": "confident-courtesy",
   "metadata": {},
   "source": [
    "Multiply `a` by `c`:"
   ]
  },
  {
   "cell_type": "code",
   "execution_count": 27,
   "id": "passing-depression",
   "metadata": {},
   "outputs": [
    {
     "data": {
      "text/plain": [
       "2217.78"
      ]
     },
     "execution_count": 27,
     "metadata": {},
     "output_type": "execute_result"
    }
   ],
   "source": [
    "a * c"
   ]
  },
  {
   "cell_type": "markdown",
   "id": "yellow-jesus",
   "metadata": {},
   "source": [
    "## Demo 2: Mathematics"
   ]
  },
  {
   "cell_type": "markdown",
   "id": "spanish-string",
   "metadata": {},
   "source": [
    "### Division"
   ]
  },
  {
   "cell_type": "markdown",
   "id": "labeled-acrylic",
   "metadata": {},
   "source": [
    "Divide `z` by `x`, and store the result in `result`:"
   ]
  },
  {
   "cell_type": "code",
   "execution_count": 28,
   "id": "intermediate-craps",
   "metadata": {},
   "outputs": [],
   "source": [
    "result = z / x"
   ]
  },
  {
   "cell_type": "code",
   "execution_count": 29,
   "id": "tropical-advocacy",
   "metadata": {},
   "outputs": [
    {
     "data": {
      "text/plain": [
       "2.3333333333333335"
      ]
     },
     "execution_count": 29,
     "metadata": {},
     "output_type": "execute_result"
    }
   ],
   "source": [
    "result"
   ]
  },
  {
   "cell_type": "code",
   "execution_count": 30,
   "id": "thrown-authorization",
   "metadata": {},
   "outputs": [
    {
     "data": {
      "text/plain": [
       "float"
      ]
     },
     "execution_count": 30,
     "metadata": {},
     "output_type": "execute_result"
    }
   ],
   "source": [
    "type(result)"
   ]
  },
  {
   "cell_type": "markdown",
   "id": "pending-tokyo",
   "metadata": {},
   "source": [
    "### Exponents"
   ]
  },
  {
   "cell_type": "markdown",
   "id": "quantitative-actor",
   "metadata": {},
   "source": [
    "Calculate the square of `y`, and store the result in `result`:"
   ]
  },
  {
   "cell_type": "code",
   "execution_count": 31,
   "id": "prescribed-dictionary",
   "metadata": {},
   "outputs": [],
   "source": [
    "result = y ** 2"
   ]
  },
  {
   "cell_type": "code",
   "execution_count": 32,
   "id": "instant-plastic",
   "metadata": {},
   "outputs": [
    {
     "data": {
      "text/plain": [
       "12.96"
      ]
     },
     "execution_count": 32,
     "metadata": {},
     "output_type": "execute_result"
    }
   ],
   "source": [
    "result"
   ]
  },
  {
   "cell_type": "code",
   "execution_count": 33,
   "id": "fallen-analyst",
   "metadata": {},
   "outputs": [
    {
     "data": {
      "text/plain": [
       "float"
      ]
     },
     "execution_count": 33,
     "metadata": {},
     "output_type": "execute_result"
    }
   ],
   "source": [
    "type(result)"
   ]
  },
  {
   "cell_type": "markdown",
   "id": "colored-drinking",
   "metadata": {},
   "source": [
    "### Priorities"
   ]
  },
  {
   "cell_type": "markdown",
   "id": "conceptual-messenger",
   "metadata": {},
   "source": [
    "To specify priorities, use parentheses. For instance, to calculate the square of the sum of `x` and `y`:"
   ]
  },
  {
   "cell_type": "code",
   "execution_count": 34,
   "id": "equipped-welding",
   "metadata": {},
   "outputs": [
    {
     "data": {
      "text/plain": [
       "32.49"
      ]
     },
     "execution_count": 34,
     "metadata": {},
     "output_type": "execute_result"
    }
   ],
   "source": [
    "(x + y) ** 2"
   ]
  },
  {
   "cell_type": "markdown",
   "id": "checked-complexity",
   "metadata": {},
   "source": [
    "Without parentheses, the result would be incorrect (`x` added to the square of `y`):"
   ]
  },
  {
   "cell_type": "code",
   "execution_count": 35,
   "id": "apparent-allowance",
   "metadata": {},
   "outputs": [
    {
     "data": {
      "text/plain": [
       "15.06"
      ]
     },
     "execution_count": 35,
     "metadata": {},
     "output_type": "execute_result"
    }
   ],
   "source": [
    "x + y ** 2"
   ]
  },
  {
   "cell_type": "markdown",
   "id": "interested-shield",
   "metadata": {},
   "source": [
    "## Exercise 2"
   ]
  },
  {
   "cell_type": "markdown",
   "id": "enabling-fantasy",
   "metadata": {},
   "source": [
    "### Skeleton"
   ]
  },
  {
   "cell_type": "code",
   "execution_count": 36,
   "id": "1cb75a2d",
   "metadata": {
    "tags": [
     "no-replacement"
    ]
   },
   "outputs": [],
   "source": [
    "a = 22.2"
   ]
  },
  {
   "cell_type": "code",
   "execution_count": 37,
   "id": "1e759536",
   "metadata": {
    "tags": [
     "no-replacement"
    ]
   },
   "outputs": [],
   "source": [
    "b = 33.3"
   ]
  },
  {
   "cell_type": "code",
   "execution_count": 38,
   "id": "f4729368",
   "metadata": {
    "tags": [
     "no-replacement"
    ]
   },
   "outputs": [],
   "source": [
    "c = 99.9"
   ]
  },
  {
   "cell_type": "markdown",
   "id": "frank-sucking",
   "metadata": {},
   "source": [
    "Divide `c` by `b`:"
   ]
  },
  {
   "cell_type": "code",
   "execution_count": 39,
   "id": "rough-lesbian",
   "metadata": {},
   "outputs": [
    {
     "data": {
      "text/plain": [
       "3.0000000000000004"
      ]
     },
     "execution_count": 39,
     "metadata": {},
     "output_type": "execute_result"
    }
   ],
   "source": [
    "c / b"
   ]
  },
  {
   "cell_type": "markdown",
   "id": "outstanding-pacific",
   "metadata": {},
   "source": [
    "Calculate the cube of `a`:"
   ]
  },
  {
   "cell_type": "code",
   "execution_count": 40,
   "id": "impressed-overall",
   "metadata": {},
   "outputs": [
    {
     "data": {
      "text/plain": [
       "10941.047999999999"
      ]
     },
     "execution_count": 40,
     "metadata": {},
     "output_type": "execute_result"
    }
   ],
   "source": [
    "a ** 3"
   ]
  },
  {
   "cell_type": "markdown",
   "id": "russian-classics",
   "metadata": {},
   "source": [
    "Divide the square of the sum of `b` and `c` by `a`:"
   ]
  },
  {
   "cell_type": "code",
   "execution_count": 41,
   "id": "sized-funds",
   "metadata": {},
   "outputs": [
    {
     "data": {
      "text/plain": [
       "799.1999999999999"
      ]
     },
     "execution_count": 41,
     "metadata": {},
     "output_type": "execute_result"
    }
   ],
   "source": [
    "((b + c) ** 2) / a"
   ]
  },
  {
   "cell_type": "markdown",
   "id": "variable-stamp",
   "metadata": {},
   "source": [
    "## Bonus: Floating-point errors"
   ]
  },
  {
   "cell_type": "markdown",
   "id": "swedish-judge",
   "metadata": {},
   "source": [
    "Floats cannot represent every number, so they will use the closest available value, which can generate small errors:"
   ]
  },
  {
   "cell_type": "code",
   "execution_count": 42,
   "id": "nutritional-statistics",
   "metadata": {},
   "outputs": [
    {
     "data": {
      "text/plain": [
       "0.5"
      ]
     },
     "execution_count": 42,
     "metadata": {},
     "output_type": "execute_result"
    }
   ],
   "source": [
    "1.5 - 1.0"
   ]
  },
  {
   "cell_type": "code",
   "execution_count": 45,
   "id": "previous-matrix",
   "metadata": {},
   "outputs": [
    {
     "data": {
      "text/plain": [
       "0.10000000000000009"
      ]
     },
     "execution_count": 45,
     "metadata": {},
     "output_type": "execute_result"
    }
   ],
   "source": [
    "1.1 - 1.0"
   ]
  },
  {
   "cell_type": "markdown",
   "id": "neural-sessions",
   "metadata": {},
   "source": [
    "<div class=\"alert alert-warning\">\n",
    "\n",
    "<b>Beware:</b> Calculations with floats often involve [errors](https://docs.python.org/3/tutorial/floatingpoint.html)!\n",
    "\n",
    "</div>"
   ]
  },
  {
   "cell_type": "markdown",
   "id": "herbal-timeline",
   "metadata": {},
   "source": [
    "## Bonus: Infinity"
   ]
  },
  {
   "cell_type": "code",
   "execution_count": 46,
   "id": "after-anthony",
   "metadata": {},
   "outputs": [],
   "source": [
    "infinity = float(\"inf\")"
   ]
  },
  {
   "cell_type": "code",
   "execution_count": 47,
   "id": "devoted-coordinator",
   "metadata": {},
   "outputs": [
    {
     "data": {
      "text/plain": [
       "inf"
      ]
     },
     "execution_count": 47,
     "metadata": {},
     "output_type": "execute_result"
    }
   ],
   "source": [
    "infinity"
   ]
  },
  {
   "cell_type": "code",
   "execution_count": 48,
   "id": "forced-seafood",
   "metadata": {},
   "outputs": [
    {
     "data": {
      "text/plain": [
       "True"
      ]
     },
     "execution_count": 48,
     "metadata": {},
     "output_type": "execute_result"
    }
   ],
   "source": [
    "10 < infinity"
   ]
  },
  {
   "cell_type": "code",
   "execution_count": 49,
   "id": "russian-vertex",
   "metadata": {},
   "outputs": [
    {
     "data": {
      "text/plain": [
       "False"
      ]
     },
     "execution_count": 49,
     "metadata": {},
     "output_type": "execute_result"
    }
   ],
   "source": [
    "1_000_000_000_000_000_000 > infinity"
   ]
  },
  {
   "cell_type": "code",
   "execution_count": 50,
   "id": "frequent-ozone",
   "metadata": {},
   "outputs": [],
   "source": [
    "negative_infinity = float(\"-inf\")"
   ]
  },
  {
   "cell_type": "code",
   "execution_count": 51,
   "id": "binding-failing",
   "metadata": {},
   "outputs": [
    {
     "data": {
      "text/plain": [
       "-inf"
      ]
     },
     "execution_count": 51,
     "metadata": {},
     "output_type": "execute_result"
    }
   ],
   "source": [
    "negative_infinity"
   ]
  },
  {
   "cell_type": "code",
   "execution_count": 52,
   "id": "psychological-sodium",
   "metadata": {},
   "outputs": [
    {
     "data": {
      "text/plain": [
       "False"
      ]
     },
     "execution_count": 52,
     "metadata": {},
     "output_type": "execute_result"
    }
   ],
   "source": [
    "-1_000_000_000_000_000_000 < negative_infinity"
   ]
  },
  {
   "cell_type": "markdown",
   "id": "accessory-cocktail",
   "metadata": {},
   "source": [
    "## Bonus: Not a Number"
   ]
  },
  {
   "cell_type": "code",
   "execution_count": 55,
   "id": "finnish-communications",
   "metadata": {},
   "outputs": [],
   "source": [
    "not_a_number = float(\"NaN\")"
   ]
  },
  {
   "cell_type": "code",
   "execution_count": 56,
   "id": "lined-kelly",
   "metadata": {},
   "outputs": [
    {
     "data": {
      "text/plain": [
       "nan"
      ]
     },
     "execution_count": 56,
     "metadata": {},
     "output_type": "execute_result"
    }
   ],
   "source": [
    "not_a_number"
   ]
  },
  {
   "cell_type": "code",
   "execution_count": 57,
   "id": "allied-capacity",
   "metadata": {},
   "outputs": [
    {
     "data": {
      "text/plain": [
       "False"
      ]
     },
     "execution_count": 57,
     "metadata": {},
     "output_type": "execute_result"
    }
   ],
   "source": [
    "not_a_number < 0"
   ]
  },
  {
   "cell_type": "code",
   "execution_count": 58,
   "id": "bacterial-reservoir",
   "metadata": {},
   "outputs": [
    {
     "data": {
      "text/plain": [
       "False"
      ]
     },
     "execution_count": 58,
     "metadata": {},
     "output_type": "execute_result"
    }
   ],
   "source": [
    "not_a_number > 0"
   ]
  },
  {
   "cell_type": "code",
   "execution_count": null,
   "id": "particular-chinese",
   "metadata": {},
   "outputs": [],
   "source": []
  }
 ],
 "metadata": {
  "kernelspec": {
   "display_name": "Python 3",
   "language": "python",
   "name": "python3"
  },
  "language_info": {
   "codemirror_mode": {
    "name": "ipython",
    "version": 3
   },
   "file_extension": ".py",
   "mimetype": "text/x-python",
   "name": "python",
   "nbconvert_exporter": "python",
   "pygments_lexer": "ipython3",
   "version": "3.8.5"
  }
 },
 "nbformat": 4,
 "nbformat_minor": 5
}
