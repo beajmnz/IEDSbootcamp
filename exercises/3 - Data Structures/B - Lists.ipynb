{
 "cells": [
  {
   "cell_type": "markdown",
   "id": "purple-wales",
   "metadata": {},
   "source": [
    "# Data Structure: Lists"
   ]
  },
  {
   "cell_type": "markdown",
   "id": "b3a5b3f0",
   "metadata": {},
   "source": [
    "> A list is an ordered series of values that can be repeated."
   ]
  },
  {
   "cell_type": "markdown",
   "id": "dressed-devon",
   "metadata": {},
   "source": [
    "## Creation"
   ]
  },
  {
   "cell_type": "code",
   "execution_count": null,
   "id": "fifty-showcase",
   "metadata": {},
   "outputs": [],
   "source": [
    "students = [\"Alice\", \"Bob\", \"Carol\", \"Dennis\", \"Emily\", \"Francis\"]"
   ]
  },
  {
   "cell_type": "code",
   "execution_count": null,
   "id": "coastal-purple",
   "metadata": {},
   "outputs": [],
   "source": [
    "students"
   ]
  },
  {
   "cell_type": "code",
   "execution_count": null,
   "id": "widespread-milan",
   "metadata": {},
   "outputs": [],
   "source": [
    "teachers = [\"Pablo\", \"Ivan\", \"Ivan\", \"JC\"]"
   ]
  },
  {
   "cell_type": "code",
   "execution_count": null,
   "id": "laden-morrison",
   "metadata": {},
   "outputs": [],
   "source": [
    "teachers"
   ]
  },
  {
   "cell_type": "code",
   "execution_count": null,
   "id": "committed-brisbane",
   "metadata": {},
   "outputs": [],
   "source": [
    "empty_list = []"
   ]
  },
  {
   "cell_type": "code",
   "execution_count": null,
   "id": "several-compatibility",
   "metadata": {},
   "outputs": [],
   "source": [
    "empty_list"
   ]
  },
  {
   "cell_type": "markdown",
   "id": "63d96473",
   "metadata": {},
   "source": [
    "<div class=\"alert alert-info\">\n",
    "\n",
    "<b>Note:</b> Lists can contain arbitrary objects, including a mix of data types (e.g. strings and numbers), other lists, or any other data structures.\n",
    "\n",
    "</div>"
   ]
  },
  {
   "cell_type": "markdown",
   "id": "likely-walker",
   "metadata": {},
   "source": [
    "## Type"
   ]
  },
  {
   "cell_type": "code",
   "execution_count": null,
   "id": "studied-shape",
   "metadata": {},
   "outputs": [],
   "source": [
    "type(students)"
   ]
  },
  {
   "cell_type": "code",
   "execution_count": null,
   "id": "creative-pitch",
   "metadata": {},
   "outputs": [],
   "source": [
    "type(teachers)"
   ]
  },
  {
   "cell_type": "code",
   "execution_count": null,
   "id": "preceding-smart",
   "metadata": {},
   "outputs": [],
   "source": [
    "type(empty_list)"
   ]
  },
  {
   "cell_type": "markdown",
   "id": "residential-prompt",
   "metadata": {},
   "source": [
    "## Conversion"
   ]
  },
  {
   "cell_type": "markdown",
   "id": "tropical-album",
   "metadata": {},
   "source": [
    "### From strings"
   ]
  },
  {
   "cell_type": "code",
   "execution_count": null,
   "id": "modern-music",
   "metadata": {},
   "outputs": [],
   "source": [
    "list(\"Python\")"
   ]
  },
  {
   "cell_type": "markdown",
   "id": "brazilian-enzyme",
   "metadata": {},
   "source": [
    "### From tuples"
   ]
  },
  {
   "cell_type": "code",
   "execution_count": null,
   "id": "brief-combining",
   "metadata": {},
   "outputs": [],
   "source": [
    "# list(...)"
   ]
  },
  {
   "cell_type": "markdown",
   "id": "spare-liechtenstein",
   "metadata": {},
   "source": [
    "## Length"
   ]
  },
  {
   "cell_type": "code",
   "execution_count": null,
   "id": "upper-object",
   "metadata": {},
   "outputs": [],
   "source": [
    "len(students)"
   ]
  },
  {
   "cell_type": "code",
   "execution_count": null,
   "id": "oriental-profession",
   "metadata": {},
   "outputs": [],
   "source": [
    "len(teachers)"
   ]
  },
  {
   "cell_type": "code",
   "execution_count": null,
   "id": "interior-cocktail",
   "metadata": {},
   "outputs": [],
   "source": [
    "len(empty_list)"
   ]
  },
  {
   "cell_type": "markdown",
   "id": "collective-small",
   "metadata": {},
   "source": [
    "## Demo 1: Indexing"
   ]
  },
  {
   "cell_type": "code",
   "execution_count": null,
   "id": "logical-classification",
   "metadata": {},
   "outputs": [],
   "source": [
    "students"
   ]
  },
  {
   "cell_type": "code",
   "execution_count": null,
   "id": "intellectual-punishment",
   "metadata": {},
   "outputs": [],
   "source": [
    "students[0]"
   ]
  },
  {
   "cell_type": "code",
   "execution_count": null,
   "id": "spectacular-wagner",
   "metadata": {},
   "outputs": [],
   "source": [
    "teachers"
   ]
  },
  {
   "cell_type": "code",
   "execution_count": null,
   "id": "right-fourth",
   "metadata": {},
   "outputs": [],
   "source": [
    "teachers[-1]"
   ]
  },
  {
   "cell_type": "markdown",
   "id": "seeing-princeton",
   "metadata": {},
   "source": [
    "## Exercise 1"
   ]
  },
  {
   "cell_type": "markdown",
   "id": "victorian-plaintiff",
   "metadata": {},
   "source": [
    "### Skeleton"
   ]
  },
  {
   "cell_type": "code",
   "execution_count": null,
   "id": "liable-alloy",
   "metadata": {
    "tags": [
     "no-replacement"
    ]
   },
   "outputs": [],
   "source": [
    "countries = [\"Spain\", \"Belgium\", \"France\", \"Italy\", \"Germany\"]"
   ]
  },
  {
   "cell_type": "markdown",
   "id": "structural-freight",
   "metadata": {},
   "source": [
    "Get the first item of the list:"
   ]
  },
  {
   "cell_type": "code",
   "execution_count": null,
   "id": "bright-dispatch",
   "metadata": {},
   "outputs": [],
   "source": []
  },
  {
   "cell_type": "markdown",
   "id": "cooked-pharmacy",
   "metadata": {},
   "source": [
    "Get the third item of the list:"
   ]
  },
  {
   "cell_type": "code",
   "execution_count": null,
   "id": "motivated-mouth",
   "metadata": {},
   "outputs": [],
   "source": []
  },
  {
   "cell_type": "markdown",
   "id": "important-copper",
   "metadata": {},
   "source": [
    "Get the last item of the list:"
   ]
  },
  {
   "cell_type": "code",
   "execution_count": null,
   "id": "grave-survival",
   "metadata": {},
   "outputs": [],
   "source": []
  },
  {
   "cell_type": "code",
   "execution_count": null,
   "id": "great-artwork",
   "metadata": {},
   "outputs": [],
   "source": []
  },
  {
   "cell_type": "markdown",
   "id": "wound-lucas",
   "metadata": {},
   "source": [
    "Get the second to last item of the list:"
   ]
  },
  {
   "cell_type": "code",
   "execution_count": null,
   "id": "innovative-relay",
   "metadata": {},
   "outputs": [],
   "source": []
  },
  {
   "cell_type": "markdown",
   "id": "dated-amber",
   "metadata": {},
   "source": [
    "## Demo 2: Slicing"
   ]
  },
  {
   "cell_type": "code",
   "execution_count": null,
   "id": "ecological-concrete",
   "metadata": {},
   "outputs": [],
   "source": [
    "students"
   ]
  },
  {
   "cell_type": "code",
   "execution_count": null,
   "id": "legislative-carol",
   "metadata": {},
   "outputs": [],
   "source": [
    "students[2:4]"
   ]
  },
  {
   "cell_type": "code",
   "execution_count": null,
   "id": "fluid-toolbox",
   "metadata": {},
   "outputs": [],
   "source": [
    "4 - 2"
   ]
  },
  {
   "cell_type": "code",
   "execution_count": null,
   "id": "permanent-functionality",
   "metadata": {},
   "outputs": [],
   "source": [
    "students[:3]"
   ]
  },
  {
   "cell_type": "code",
   "execution_count": null,
   "id": "scenic-alignment",
   "metadata": {},
   "outputs": [],
   "source": [
    "# Equivalent to:\n",
    "# students[0:3]"
   ]
  },
  {
   "cell_type": "code",
   "execution_count": null,
   "id": "treated-christianity",
   "metadata": {},
   "outputs": [],
   "source": [
    "3 - 0"
   ]
  },
  {
   "cell_type": "code",
   "execution_count": null,
   "id": "sweet-bhutan",
   "metadata": {},
   "outputs": [],
   "source": [
    "students[2:]"
   ]
  },
  {
   "cell_type": "code",
   "execution_count": null,
   "id": "defined-woman",
   "metadata": {},
   "outputs": [],
   "source": [
    "# Equivalent to:\n",
    "# students[2:len(students)]"
   ]
  },
  {
   "cell_type": "code",
   "execution_count": null,
   "id": "worst-doctrine",
   "metadata": {},
   "outputs": [],
   "source": [
    "len(students) - 2"
   ]
  },
  {
   "cell_type": "code",
   "execution_count": null,
   "id": "associate-procedure",
   "metadata": {},
   "outputs": [],
   "source": [
    "students[:]"
   ]
  },
  {
   "cell_type": "code",
   "execution_count": null,
   "id": "conservative-offset",
   "metadata": {},
   "outputs": [],
   "source": [
    "# Equivalent to:\n",
    "# students[0:len(students)]"
   ]
  },
  {
   "cell_type": "markdown",
   "id": "alpha-norfolk",
   "metadata": {},
   "source": [
    "## Exercise 2"
   ]
  },
  {
   "cell_type": "markdown",
   "id": "proper-renewal",
   "metadata": {},
   "source": [
    "### Skeleton"
   ]
  },
  {
   "cell_type": "code",
   "execution_count": null,
   "id": "joint-turkish",
   "metadata": {
    "tags": [
     "no-replacement"
    ]
   },
   "outputs": [],
   "source": [
    "countries = [\"Spain\", \"Belgium\", \"France\", \"Italy\", \"Germany\"]"
   ]
  },
  {
   "cell_type": "markdown",
   "id": "different-ocean",
   "metadata": {},
   "source": [
    "Get the first three items of the list:"
   ]
  },
  {
   "cell_type": "code",
   "execution_count": null,
   "id": "seeing-responsibility",
   "metadata": {},
   "outputs": [],
   "source": []
  },
  {
   "cell_type": "markdown",
   "id": "recorded-romania",
   "metadata": {},
   "source": [
    "Get the third and fourth items of the list:"
   ]
  },
  {
   "cell_type": "code",
   "execution_count": null,
   "id": "naughty-lunch",
   "metadata": {},
   "outputs": [],
   "source": []
  },
  {
   "cell_type": "markdown",
   "id": "organized-highland",
   "metadata": {},
   "source": [
    "Get all items of the list, except the first two items:"
   ]
  },
  {
   "cell_type": "code",
   "execution_count": null,
   "id": "tough-catering",
   "metadata": {},
   "outputs": [],
   "source": []
  },
  {
   "cell_type": "markdown",
   "id": "hungarian-spoke",
   "metadata": {},
   "source": [
    "Get all items of the list:"
   ]
  },
  {
   "cell_type": "code",
   "execution_count": null,
   "id": "painted-windsor",
   "metadata": {},
   "outputs": [],
   "source": []
  },
  {
   "cell_type": "markdown",
   "id": "everyday-committee",
   "metadata": {},
   "source": [
    "## Demo 3: Slicing (backwards)"
   ]
  },
  {
   "cell_type": "code",
   "execution_count": null,
   "id": "associate-tsunami",
   "metadata": {},
   "outputs": [],
   "source": [
    "teachers"
   ]
  },
  {
   "cell_type": "code",
   "execution_count": null,
   "id": "monthly-solution",
   "metadata": {},
   "outputs": [],
   "source": [
    "teachers[-2:]"
   ]
  },
  {
   "cell_type": "code",
   "execution_count": null,
   "id": "accompanied-conclusion",
   "metadata": {},
   "outputs": [],
   "source": [
    "teachers[:-1]"
   ]
  },
  {
   "cell_type": "code",
   "execution_count": null,
   "id": "wooden-howard",
   "metadata": {},
   "outputs": [],
   "source": [
    "# Equivalent to:\n",
    "# teachers[0:-1]\n",
    "# teachers[0:len(teachers) - 1]"
   ]
  },
  {
   "cell_type": "code",
   "execution_count": null,
   "id": "lasting-spiritual",
   "metadata": {},
   "outputs": [],
   "source": [
    "# (len(teachers) - 1) - 0"
   ]
  },
  {
   "cell_type": "markdown",
   "id": "exciting-scholar",
   "metadata": {},
   "source": [
    "## Exercise 3"
   ]
  },
  {
   "cell_type": "markdown",
   "id": "global-profit",
   "metadata": {},
   "source": [
    "### Skeleton"
   ]
  },
  {
   "cell_type": "code",
   "execution_count": null,
   "id": "asian-tuition",
   "metadata": {
    "tags": [
     "no-replacement"
    ]
   },
   "outputs": [],
   "source": [
    "countries = [\"Spain\", \"Belgium\", \"France\", \"Italy\", \"Germany\"]"
   ]
  },
  {
   "cell_type": "markdown",
   "id": "complicated-software",
   "metadata": {},
   "source": [
    "Get the last three items of the list:"
   ]
  },
  {
   "cell_type": "code",
   "execution_count": null,
   "id": "fewer-prompt",
   "metadata": {},
   "outputs": [],
   "source": []
  },
  {
   "cell_type": "markdown",
   "id": "competitive-preference",
   "metadata": {},
   "source": [
    "Get the all items of the list, except the last two items:"
   ]
  },
  {
   "cell_type": "code",
   "execution_count": null,
   "id": "vanilla-marketing",
   "metadata": {},
   "outputs": [],
   "source": []
  },
  {
   "cell_type": "markdown",
   "id": "ceramic-lodging",
   "metadata": {},
   "source": [
    "## Bonus: Slicing (with steps)"
   ]
  },
  {
   "cell_type": "code",
   "execution_count": null,
   "id": "social-malaysia",
   "metadata": {},
   "outputs": [],
   "source": [
    "students"
   ]
  },
  {
   "cell_type": "code",
   "execution_count": null,
   "id": "eight-bhutan",
   "metadata": {},
   "outputs": [],
   "source": [
    "students[:]"
   ]
  },
  {
   "cell_type": "code",
   "execution_count": null,
   "id": "banner-evans",
   "metadata": {},
   "outputs": [],
   "source": [
    "students[::1]"
   ]
  },
  {
   "cell_type": "code",
   "execution_count": null,
   "id": "searching-protest",
   "metadata": {},
   "outputs": [],
   "source": [
    "students[::2]"
   ]
  },
  {
   "cell_type": "code",
   "execution_count": null,
   "id": "indian-license",
   "metadata": {},
   "outputs": [],
   "source": [
    "students[::3]"
   ]
  },
  {
   "cell_type": "code",
   "execution_count": null,
   "id": "signed-austin",
   "metadata": {},
   "outputs": [],
   "source": [
    "students[1:]"
   ]
  },
  {
   "cell_type": "code",
   "execution_count": null,
   "id": "unauthorized-frank",
   "metadata": {},
   "outputs": [],
   "source": [
    "students[1::2]"
   ]
  },
  {
   "cell_type": "code",
   "execution_count": null,
   "id": "facial-sunrise",
   "metadata": {},
   "outputs": [],
   "source": [
    "students[::-1]"
   ]
  },
  {
   "cell_type": "code",
   "execution_count": null,
   "id": "matched-joshua",
   "metadata": {},
   "outputs": [],
   "source": [
    "students[::-2]"
   ]
  },
  {
   "cell_type": "code",
   "execution_count": null,
   "id": "visible-yellow",
   "metadata": {},
   "outputs": [],
   "source": [
    "students[::-3]"
   ]
  },
  {
   "cell_type": "markdown",
   "id": "e0bb459a",
   "metadata": {},
   "source": [
    "## Demo 4: Searching for items"
   ]
  },
  {
   "cell_type": "code",
   "execution_count": null,
   "id": "e0054568",
   "metadata": {},
   "outputs": [],
   "source": [
    "teachers"
   ]
  },
  {
   "cell_type": "markdown",
   "id": "d019bbd4",
   "metadata": {},
   "source": [
    "To check if a single item exists in the list:"
   ]
  },
  {
   "cell_type": "code",
   "execution_count": null,
   "id": "3fcfa8bf",
   "metadata": {},
   "outputs": [],
   "source": [
    "\"JC\" in teachers"
   ]
  },
  {
   "cell_type": "code",
   "execution_count": null,
   "id": "f3177b43",
   "metadata": {},
   "outputs": [],
   "source": [
    "\"Annet\" in teachers"
   ]
  },
  {
   "cell_type": "code",
   "execution_count": null,
   "id": "65d923bf",
   "metadata": {},
   "outputs": [],
   "source": [
    "\"Ivan\" in teachers"
   ]
  },
  {
   "cell_type": "markdown",
   "id": "b26a3bd2",
   "metadata": {},
   "source": [
    "To count how many times an item appears in the list:"
   ]
  },
  {
   "cell_type": "code",
   "execution_count": null,
   "id": "6417b215",
   "metadata": {},
   "outputs": [],
   "source": [
    "teachers.count(\"Annet\")"
   ]
  },
  {
   "cell_type": "code",
   "execution_count": null,
   "id": "c6d0efb1",
   "metadata": {},
   "outputs": [],
   "source": [
    "teachers.count(\"JC\")"
   ]
  },
  {
   "cell_type": "code",
   "execution_count": null,
   "id": "657146de",
   "metadata": {},
   "outputs": [],
   "source": [
    "teachers.count(\"Ivan\")"
   ]
  },
  {
   "cell_type": "markdown",
   "id": "14873034",
   "metadata": {},
   "source": [
    "To identify the index of an item in the list:"
   ]
  },
  {
   "cell_type": "code",
   "execution_count": null,
   "id": "e0698708",
   "metadata": {},
   "outputs": [],
   "source": [
    "teachers.index(\"JC\")"
   ]
  },
  {
   "cell_type": "code",
   "execution_count": null,
   "id": "8b192267",
   "metadata": {
    "tags": [
     "raises-error"
    ]
   },
   "outputs": [],
   "source": [
    "# Raises an error, because the item is NOT in the list:\n",
    "teachers.index(\"Annet\")"
   ]
  },
  {
   "cell_type": "code",
   "execution_count": null,
   "id": "c8a6f142",
   "metadata": {},
   "outputs": [],
   "source": [
    "\"Annet\" in teachers"
   ]
  },
  {
   "cell_type": "code",
   "execution_count": null,
   "id": "5fa40833",
   "metadata": {},
   "outputs": [],
   "source": [
    "if \"Annet\" in teachers:\n",
    "    print(teachers.index(\"Annet\"))"
   ]
  },
  {
   "cell_type": "code",
   "execution_count": null,
   "id": "9fc5e4da",
   "metadata": {},
   "outputs": [],
   "source": [
    "if \"JC\" in teachers:\n",
    "    print(teachers.index(\"JC\"))"
   ]
  },
  {
   "cell_type": "code",
   "execution_count": null,
   "id": "d176fe5a",
   "metadata": {},
   "outputs": [],
   "source": [
    "# When something is repeated, create a variable:\n",
    "# teacher = \"JC\"\n",
    "# if teacher in teachers:\n",
    "#     print(teachers.index(teacher))"
   ]
  },
  {
   "cell_type": "code",
   "execution_count": null,
   "id": "03a73230",
   "metadata": {},
   "outputs": [],
   "source": [
    "teachers.index(\"Ivan\")"
   ]
  },
  {
   "cell_type": "markdown",
   "id": "4366e8d7",
   "metadata": {},
   "source": [
    "<div class=\"alert alert-warning\">\n",
    "\n",
    "<b>Beware:</b> If the item appears multiple times in the list, <b>only the first index is returned</b>!\n",
    "\n",
    "</div>"
   ]
  },
  {
   "cell_type": "markdown",
   "id": "3426772f",
   "metadata": {},
   "source": [
    "## Exercise 4"
   ]
  },
  {
   "cell_type": "markdown",
   "id": "53273c3e",
   "metadata": {},
   "source": [
    "### Skeleton"
   ]
  },
  {
   "cell_type": "code",
   "execution_count": null,
   "id": "6f8421c8",
   "metadata": {
    "tags": [
     "no-replacement"
    ]
   },
   "outputs": [],
   "source": [
    "habsburgs = [\"Philip\", \"Charles\", \"Philip\", \"Philip\", \"Philip\", \"Charles\"]"
   ]
  },
  {
   "cell_type": "markdown",
   "id": "e2fbbeed",
   "metadata": {},
   "source": [
    "Check if Charles is in the list:"
   ]
  },
  {
   "cell_type": "code",
   "execution_count": null,
   "id": "503fbd8b",
   "metadata": {},
   "outputs": [],
   "source": []
  },
  {
   "cell_type": "markdown",
   "id": "093f31a9",
   "metadata": {},
   "source": [
    "Check if Isabel is in the list:"
   ]
  },
  {
   "cell_type": "code",
   "execution_count": null,
   "id": "584da182",
   "metadata": {},
   "outputs": [],
   "source": []
  },
  {
   "cell_type": "markdown",
   "id": "c9d2ab73",
   "metadata": {},
   "source": [
    "Check how many times Charles appears in the list:"
   ]
  },
  {
   "cell_type": "code",
   "execution_count": null,
   "id": "67fa347c",
   "metadata": {},
   "outputs": [],
   "source": []
  },
  {
   "cell_type": "markdown",
   "id": "a303be09",
   "metadata": {},
   "source": [
    "Check how many times Isabel appears in the list:"
   ]
  },
  {
   "cell_type": "code",
   "execution_count": null,
   "id": "83522b4b",
   "metadata": {},
   "outputs": [],
   "source": []
  },
  {
   "cell_type": "markdown",
   "id": "9de3f5ad",
   "metadata": {},
   "source": [
    "Check the first index of Charles in the list:"
   ]
  },
  {
   "cell_type": "code",
   "execution_count": null,
   "id": "ff6dc9b5",
   "metadata": {},
   "outputs": [],
   "source": []
  },
  {
   "cell_type": "markdown",
   "id": "5b712a06",
   "metadata": {},
   "source": [
    "## Demo 5: Adding items"
   ]
  },
  {
   "cell_type": "code",
   "execution_count": null,
   "id": "0d89d585",
   "metadata": {},
   "outputs": [],
   "source": [
    "students"
   ]
  },
  {
   "cell_type": "markdown",
   "id": "dfcb7b73",
   "metadata": {},
   "source": [
    "To `append()` a single item to the list:"
   ]
  },
  {
   "cell_type": "code",
   "execution_count": null,
   "id": "be36d739",
   "metadata": {},
   "outputs": [],
   "source": [
    "students.append(\"Greta\")"
   ]
  },
  {
   "cell_type": "code",
   "execution_count": null,
   "id": "c4cccb56",
   "metadata": {},
   "outputs": [],
   "source": [
    "students"
   ]
  },
  {
   "cell_type": "markdown",
   "id": "8695d0ef",
   "metadata": {},
   "source": [
    "To `extend()` the list by multiple items:"
   ]
  },
  {
   "cell_type": "code",
   "execution_count": null,
   "id": "75e9c665",
   "metadata": {},
   "outputs": [],
   "source": [
    "students.extend([\"Isabel\", \"Jake\"])"
   ]
  },
  {
   "cell_type": "code",
   "execution_count": null,
   "id": "7346dfc9",
   "metadata": {},
   "outputs": [],
   "source": [
    "students"
   ]
  },
  {
   "cell_type": "markdown",
   "id": "6bfe2fcb",
   "metadata": {},
   "source": [
    "To `insert()` a single item at a specific index in the list:"
   ]
  },
  {
   "cell_type": "code",
   "execution_count": null,
   "id": "7977727c",
   "metadata": {},
   "outputs": [],
   "source": [
    "students.insert(7, \"Hector\")"
   ]
  },
  {
   "cell_type": "code",
   "execution_count": null,
   "id": "7eb9f457",
   "metadata": {},
   "outputs": [],
   "source": [
    "students"
   ]
  },
  {
   "cell_type": "markdown",
   "id": "b69d0406",
   "metadata": {},
   "source": [
    "<div class=\"alert alert-info\">\n",
    "\n",
    "<b>Note:</b> All these operations act directly on the list, i.e. they <b>modify the original list</b>.\n",
    "\n",
    "</div>"
   ]
  },
  {
   "cell_type": "markdown",
   "id": "8a1c1f44",
   "metadata": {},
   "source": [
    "## Exercise 5"
   ]
  },
  {
   "cell_type": "markdown",
   "id": "6c146944",
   "metadata": {},
   "source": [
    "### Skeleton"
   ]
  },
  {
   "cell_type": "code",
   "execution_count": null,
   "id": "b35a5131",
   "metadata": {
    "tags": [
     "no-replacement"
    ]
   },
   "outputs": [],
   "source": [
    "countries = [\"Spain\", \"Belgium\", \"France\", \"Italy\", \"Germany\"]"
   ]
  },
  {
   "cell_type": "markdown",
   "id": "cb9a88ed",
   "metadata": {},
   "source": [
    "Add Portugal to the list:"
   ]
  },
  {
   "cell_type": "code",
   "execution_count": null,
   "id": "ce71df5c",
   "metadata": {},
   "outputs": [],
   "source": []
  },
  {
   "cell_type": "code",
   "execution_count": null,
   "id": "24003d8b",
   "metadata": {},
   "outputs": [],
   "source": []
  },
  {
   "cell_type": "markdown",
   "id": "35e40f2d",
   "metadata": {},
   "source": [
    "Add both Luxemburg and Greece to the list:"
   ]
  },
  {
   "cell_type": "code",
   "execution_count": null,
   "id": "65ab4e36",
   "metadata": {},
   "outputs": [],
   "source": []
  },
  {
   "cell_type": "code",
   "execution_count": null,
   "id": "6af7e3cd",
   "metadata": {},
   "outputs": [],
   "source": []
  },
  {
   "cell_type": "markdown",
   "id": "4f913fa7",
   "metadata": {},
   "source": [
    "Add Austria to the list, at the very beginning:"
   ]
  },
  {
   "cell_type": "code",
   "execution_count": null,
   "id": "18d838c3",
   "metadata": {},
   "outputs": [],
   "source": []
  },
  {
   "cell_type": "code",
   "execution_count": null,
   "id": "f98044c1",
   "metadata": {},
   "outputs": [],
   "source": []
  },
  {
   "cell_type": "markdown",
   "id": "0624c43e",
   "metadata": {},
   "source": [
    "## Bonus: `extend()` vs `append()`"
   ]
  },
  {
   "cell_type": "code",
   "execution_count": null,
   "id": "5273906d",
   "metadata": {},
   "outputs": [],
   "source": [
    "capitals = [\"Madrid\", \"Brussels\", \"Paris\"]"
   ]
  },
  {
   "cell_type": "code",
   "execution_count": null,
   "id": "8e70ffc4",
   "metadata": {},
   "outputs": [],
   "source": [
    "capitals"
   ]
  },
  {
   "cell_type": "code",
   "execution_count": null,
   "id": "b026ba4f",
   "metadata": {},
   "outputs": [],
   "source": [
    "len(capitals)"
   ]
  },
  {
   "cell_type": "code",
   "execution_count": null,
   "id": "d32753fb",
   "metadata": {},
   "outputs": [],
   "source": [
    "capitals.extend([\"Roma\", \"Berlin\"])"
   ]
  },
  {
   "cell_type": "code",
   "execution_count": null,
   "id": "ca1ea8f4",
   "metadata": {},
   "outputs": [],
   "source": [
    "capitals"
   ]
  },
  {
   "cell_type": "code",
   "execution_count": null,
   "id": "0a6ac080",
   "metadata": {},
   "outputs": [],
   "source": [
    "len(capitals)"
   ]
  },
  {
   "cell_type": "code",
   "execution_count": null,
   "id": "64cea99f",
   "metadata": {},
   "outputs": [],
   "source": [
    "# Correct:\n",
    "# capitals.extend([\"Lisbon\", \"Luxemburg\", \"Athens\"])\n",
    "# Incorrect:\n",
    "capitals.append([\"Lisbon\", \"Luxemburg\", \"Athens\"])"
   ]
  },
  {
   "cell_type": "code",
   "execution_count": null,
   "id": "8eda1519",
   "metadata": {},
   "outputs": [],
   "source": [
    "len(capitals)"
   ]
  },
  {
   "cell_type": "code",
   "execution_count": null,
   "id": "c6367d51",
   "metadata": {},
   "outputs": [],
   "source": [
    "capitals"
   ]
  },
  {
   "cell_type": "markdown",
   "id": "9ed0fc96",
   "metadata": {},
   "source": [
    "To delete a variable:"
   ]
  },
  {
   "cell_type": "code",
   "execution_count": null,
   "id": "a9fa8c29",
   "metadata": {},
   "outputs": [],
   "source": [
    "del capitals"
   ]
  },
  {
   "cell_type": "code",
   "execution_count": null,
   "id": "1789a93b",
   "metadata": {
    "tags": [
     "raises-error"
    ]
   },
   "outputs": [],
   "source": [
    "# Raises an error, because the capitals variable no longer exists:\n",
    "capitals"
   ]
  },
  {
   "cell_type": "markdown",
   "id": "405573c2",
   "metadata": {},
   "source": [
    "## Demo 6: Removing items"
   ]
  },
  {
   "cell_type": "code",
   "execution_count": null,
   "id": "54f39d19",
   "metadata": {},
   "outputs": [],
   "source": [
    "students"
   ]
  },
  {
   "cell_type": "markdown",
   "id": "e1b65c57",
   "metadata": {},
   "source": [
    "To `remove()` an item from the list:"
   ]
  },
  {
   "cell_type": "code",
   "execution_count": null,
   "id": "34548329",
   "metadata": {},
   "outputs": [],
   "source": [
    "students.remove(\"Jake\")"
   ]
  },
  {
   "cell_type": "code",
   "execution_count": null,
   "id": "1d0937ab",
   "metadata": {},
   "outputs": [],
   "source": [
    "students"
   ]
  },
  {
   "cell_type": "code",
   "execution_count": null,
   "id": "3ea71d3a",
   "metadata": {
    "tags": [
     "raises-error"
    ]
   },
   "outputs": [],
   "source": [
    "# Raises an error, because the item does NOT exist anymore in the list:\n",
    "students.remove(\"Jake\")"
   ]
  },
  {
   "cell_type": "markdown",
   "id": "cf3bb0c0",
   "metadata": {},
   "source": [
    "To delete an item from a specific index in the list:"
   ]
  },
  {
   "cell_type": "code",
   "execution_count": null,
   "id": "490e25ac",
   "metadata": {},
   "outputs": [],
   "source": [
    "students[3]"
   ]
  },
  {
   "cell_type": "code",
   "execution_count": null,
   "id": "c6bafe34",
   "metadata": {},
   "outputs": [],
   "source": [
    "del students[3]"
   ]
  },
  {
   "cell_type": "code",
   "execution_count": null,
   "id": "61469004",
   "metadata": {},
   "outputs": [],
   "source": [
    "students"
   ]
  },
  {
   "cell_type": "markdown",
   "id": "6544e0d3",
   "metadata": {},
   "source": [
    "Note that there is never \"hole\" in the indices, all items following the deleted one have been reassigned a new index:"
   ]
  },
  {
   "cell_type": "code",
   "execution_count": null,
   "id": "f28895cb",
   "metadata": {},
   "outputs": [],
   "source": [
    "students[3]"
   ]
  },
  {
   "cell_type": "markdown",
   "id": "10871577",
   "metadata": {},
   "source": [
    "## Exercise 6"
   ]
  },
  {
   "cell_type": "markdown",
   "id": "e3a50bd6",
   "metadata": {},
   "source": [
    "### Skeleton"
   ]
  },
  {
   "cell_type": "code",
   "execution_count": null,
   "id": "e37e486c",
   "metadata": {
    "tags": [
     "no-replacement"
    ]
   },
   "outputs": [],
   "source": [
    "countries = [\"Spain\", \"Belgium\", \"France\", \"Italy\", \"Germany\"]"
   ]
  },
  {
   "cell_type": "markdown",
   "id": "f7c23e5a",
   "metadata": {},
   "source": [
    "Remove the second element from the list:"
   ]
  },
  {
   "cell_type": "code",
   "execution_count": null,
   "id": "4e6220e0",
   "metadata": {},
   "outputs": [],
   "source": []
  },
  {
   "cell_type": "code",
   "execution_count": null,
   "id": "d97b2785",
   "metadata": {},
   "outputs": [],
   "source": []
  },
  {
   "cell_type": "code",
   "execution_count": null,
   "id": "ed30367b",
   "metadata": {},
   "outputs": [],
   "source": []
  },
  {
   "cell_type": "markdown",
   "id": "425164db",
   "metadata": {},
   "source": [
    "Remove France from the list:"
   ]
  },
  {
   "cell_type": "code",
   "execution_count": null,
   "id": "76db77c1",
   "metadata": {},
   "outputs": [],
   "source": []
  },
  {
   "cell_type": "code",
   "execution_count": null,
   "id": "69f3915d",
   "metadata": {},
   "outputs": [],
   "source": []
  },
  {
   "cell_type": "markdown",
   "id": "b0910fa6",
   "metadata": {},
   "source": [
    "## Bonus: `sorted()` versus `.sort()`"
   ]
  },
  {
   "cell_type": "code",
   "execution_count": null,
   "id": "c2d9785f",
   "metadata": {},
   "outputs": [],
   "source": [
    "countries = [\"Spain\", \"Belgium\", \"France\", \"Italy\", \"Germany\"]"
   ]
  },
  {
   "cell_type": "code",
   "execution_count": null,
   "id": "bd3012c1",
   "metadata": {},
   "outputs": [],
   "source": [
    "countries"
   ]
  },
  {
   "cell_type": "code",
   "execution_count": null,
   "id": "efdc89b0",
   "metadata": {},
   "outputs": [],
   "source": [
    "sorted(countries)"
   ]
  },
  {
   "cell_type": "code",
   "execution_count": null,
   "id": "cef49f55",
   "metadata": {},
   "outputs": [],
   "source": [
    "sorted(countries, reverse=True)"
   ]
  },
  {
   "cell_type": "code",
   "execution_count": null,
   "id": "66e3308c",
   "metadata": {},
   "outputs": [],
   "source": [
    "countries"
   ]
  },
  {
   "cell_type": "code",
   "execution_count": null,
   "id": "4a397cb4",
   "metadata": {},
   "outputs": [],
   "source": [
    "countries.sort()"
   ]
  },
  {
   "cell_type": "code",
   "execution_count": null,
   "id": "e55332cc",
   "metadata": {},
   "outputs": [],
   "source": [
    "countries"
   ]
  },
  {
   "cell_type": "code",
   "execution_count": null,
   "id": "244ba45a",
   "metadata": {},
   "outputs": [],
   "source": [
    "countries.sort(reverse=True)"
   ]
  },
  {
   "cell_type": "code",
   "execution_count": null,
   "id": "b75be05c",
   "metadata": {},
   "outputs": [],
   "source": [
    "countries"
   ]
  },
  {
   "cell_type": "markdown",
   "id": "d9f0864d",
   "metadata": {},
   "source": [
    "## Bonus: Lists equality"
   ]
  },
  {
   "cell_type": "code",
   "execution_count": null,
   "id": "6b745d9c",
   "metadata": {},
   "outputs": [],
   "source": [
    "medals = [\"gold\", \"silver\", \"platinum\"]"
   ]
  },
  {
   "cell_type": "code",
   "execution_count": null,
   "id": "9cf6c39b",
   "metadata": {},
   "outputs": [],
   "source": [
    "metals = [\"gold\", \"platinum\", \"silver\"]"
   ]
  },
  {
   "cell_type": "code",
   "execution_count": null,
   "id": "90d1907e",
   "metadata": {},
   "outputs": [],
   "source": [
    "medals == metals"
   ]
  }
 ],
 "metadata": {
  "kernelspec": {
   "display_name": "Python 3",
   "language": "python",
   "name": "python3"
  },
  "language_info": {
   "codemirror_mode": {
    "name": "ipython",
    "version": 3
   },
   "file_extension": ".py",
   "mimetype": "text/x-python",
   "name": "python",
   "nbconvert_exporter": "python",
   "pygments_lexer": "ipython3",
   "version": "3.9.2"
  }
 },
 "nbformat": 4,
 "nbformat_minor": 5
}
