{
 "cells": [
  {
   "cell_type": "markdown",
   "id": "purple-wales",
   "metadata": {},
   "source": [
    "# Data Structure: Lists"
   ]
  },
  {
   "cell_type": "markdown",
   "id": "b3a5b3f0",
   "metadata": {},
   "source": [
    "> A list is an ordered series of values that can be repeated."
   ]
  },
  {
   "cell_type": "markdown",
   "id": "dressed-devon",
   "metadata": {},
   "source": [
    "## Creation"
   ]
  },
  {
   "cell_type": "code",
   "execution_count": 1,
   "id": "fifty-showcase",
   "metadata": {},
   "outputs": [],
   "source": [
    "students = [\"Alice\", \"Bob\", \"Carol\", \"Dennis\", \"Emily\", \"Francis\"]"
   ]
  },
  {
   "cell_type": "code",
   "execution_count": 2,
   "id": "coastal-purple",
   "metadata": {},
   "outputs": [
    {
     "data": {
      "text/plain": [
       "['Alice', 'Bob', 'Carol', 'Dennis', 'Emily', 'Francis']"
      ]
     },
     "execution_count": 2,
     "metadata": {},
     "output_type": "execute_result"
    }
   ],
   "source": [
    "students"
   ]
  },
  {
   "cell_type": "code",
   "execution_count": 3,
   "id": "widespread-milan",
   "metadata": {},
   "outputs": [],
   "source": [
    "teachers = [\"Pablo\", \"Ivan\", \"Ivan\", \"JC\"]"
   ]
  },
  {
   "cell_type": "code",
   "execution_count": 4,
   "id": "laden-morrison",
   "metadata": {},
   "outputs": [
    {
     "data": {
      "text/plain": [
       "['Pablo', 'Ivan', 'Ivan', 'JC']"
      ]
     },
     "execution_count": 4,
     "metadata": {},
     "output_type": "execute_result"
    }
   ],
   "source": [
    "teachers"
   ]
  },
  {
   "cell_type": "code",
   "execution_count": 5,
   "id": "committed-brisbane",
   "metadata": {},
   "outputs": [],
   "source": [
    "empty_list = []"
   ]
  },
  {
   "cell_type": "code",
   "execution_count": 6,
   "id": "several-compatibility",
   "metadata": {},
   "outputs": [
    {
     "data": {
      "text/plain": [
       "[]"
      ]
     },
     "execution_count": 6,
     "metadata": {},
     "output_type": "execute_result"
    }
   ],
   "source": [
    "empty_list"
   ]
  },
  {
   "cell_type": "markdown",
   "id": "63d96473",
   "metadata": {},
   "source": [
    "<div class=\"alert alert-info\">\n",
    "\n",
    "<b>Note:</b> Lists can contain arbitrary objects, including a mix of data types (e.g. strings and numbers), other lists, or any other data structures.\n",
    "\n",
    "</div>"
   ]
  },
  {
   "cell_type": "markdown",
   "id": "likely-walker",
   "metadata": {},
   "source": [
    "## Type"
   ]
  },
  {
   "cell_type": "code",
   "execution_count": 7,
   "id": "studied-shape",
   "metadata": {},
   "outputs": [
    {
     "data": {
      "text/plain": [
       "list"
      ]
     },
     "execution_count": 7,
     "metadata": {},
     "output_type": "execute_result"
    }
   ],
   "source": [
    "type(students)"
   ]
  },
  {
   "cell_type": "code",
   "execution_count": 8,
   "id": "creative-pitch",
   "metadata": {},
   "outputs": [
    {
     "data": {
      "text/plain": [
       "list"
      ]
     },
     "execution_count": 8,
     "metadata": {},
     "output_type": "execute_result"
    }
   ],
   "source": [
    "type(teachers)"
   ]
  },
  {
   "cell_type": "code",
   "execution_count": 9,
   "id": "preceding-smart",
   "metadata": {},
   "outputs": [
    {
     "data": {
      "text/plain": [
       "list"
      ]
     },
     "execution_count": 9,
     "metadata": {},
     "output_type": "execute_result"
    }
   ],
   "source": [
    "type(empty_list)"
   ]
  },
  {
   "cell_type": "markdown",
   "id": "residential-prompt",
   "metadata": {},
   "source": [
    "## Conversion"
   ]
  },
  {
   "cell_type": "markdown",
   "id": "tropical-album",
   "metadata": {},
   "source": [
    "### From strings"
   ]
  },
  {
   "cell_type": "code",
   "execution_count": 10,
   "id": "modern-music",
   "metadata": {},
   "outputs": [
    {
     "data": {
      "text/plain": [
       "['P', 'y', 't', 'h', 'o', 'n']"
      ]
     },
     "execution_count": 10,
     "metadata": {},
     "output_type": "execute_result"
    }
   ],
   "source": [
    "list(\"Python\")"
   ]
  },
  {
   "cell_type": "markdown",
   "id": "brazilian-enzyme",
   "metadata": {},
   "source": [
    "### From tuples"
   ]
  },
  {
   "cell_type": "code",
   "execution_count": null,
   "id": "brief-combining",
   "metadata": {},
   "outputs": [],
   "source": [
    "# list(...)"
   ]
  },
  {
   "cell_type": "markdown",
   "id": "spare-liechtenstein",
   "metadata": {},
   "source": [
    "## Length"
   ]
  },
  {
   "cell_type": "code",
   "execution_count": 11,
   "id": "upper-object",
   "metadata": {},
   "outputs": [
    {
     "data": {
      "text/plain": [
       "6"
      ]
     },
     "execution_count": 11,
     "metadata": {},
     "output_type": "execute_result"
    }
   ],
   "source": [
    "len(students)"
   ]
  },
  {
   "cell_type": "code",
   "execution_count": 12,
   "id": "oriental-profession",
   "metadata": {},
   "outputs": [
    {
     "data": {
      "text/plain": [
       "4"
      ]
     },
     "execution_count": 12,
     "metadata": {},
     "output_type": "execute_result"
    }
   ],
   "source": [
    "len(teachers)"
   ]
  },
  {
   "cell_type": "code",
   "execution_count": 13,
   "id": "interior-cocktail",
   "metadata": {},
   "outputs": [
    {
     "data": {
      "text/plain": [
       "0"
      ]
     },
     "execution_count": 13,
     "metadata": {},
     "output_type": "execute_result"
    }
   ],
   "source": [
    "len(empty_list)"
   ]
  },
  {
   "cell_type": "markdown",
   "id": "collective-small",
   "metadata": {},
   "source": [
    "## Demo 1: Indexing"
   ]
  },
  {
   "cell_type": "code",
   "execution_count": 14,
   "id": "logical-classification",
   "metadata": {},
   "outputs": [
    {
     "data": {
      "text/plain": [
       "['Alice', 'Bob', 'Carol', 'Dennis', 'Emily', 'Francis']"
      ]
     },
     "execution_count": 14,
     "metadata": {},
     "output_type": "execute_result"
    }
   ],
   "source": [
    "students"
   ]
  },
  {
   "cell_type": "code",
   "execution_count": 15,
   "id": "intellectual-punishment",
   "metadata": {},
   "outputs": [
    {
     "data": {
      "text/plain": [
       "'Alice'"
      ]
     },
     "execution_count": 15,
     "metadata": {},
     "output_type": "execute_result"
    }
   ],
   "source": [
    "students[0]"
   ]
  },
  {
   "cell_type": "code",
   "execution_count": 16,
   "id": "spectacular-wagner",
   "metadata": {},
   "outputs": [
    {
     "data": {
      "text/plain": [
       "['Pablo', 'Ivan', 'Ivan', 'JC']"
      ]
     },
     "execution_count": 16,
     "metadata": {},
     "output_type": "execute_result"
    }
   ],
   "source": [
    "teachers"
   ]
  },
  {
   "cell_type": "code",
   "execution_count": 17,
   "id": "right-fourth",
   "metadata": {},
   "outputs": [
    {
     "data": {
      "text/plain": [
       "'JC'"
      ]
     },
     "execution_count": 17,
     "metadata": {},
     "output_type": "execute_result"
    }
   ],
   "source": [
    "teachers[-1]"
   ]
  },
  {
   "cell_type": "markdown",
   "id": "seeing-princeton",
   "metadata": {},
   "source": [
    "## Exercise 1"
   ]
  },
  {
   "cell_type": "markdown",
   "id": "victorian-plaintiff",
   "metadata": {},
   "source": [
    "### Skeleton"
   ]
  },
  {
   "cell_type": "code",
   "execution_count": 18,
   "id": "liable-alloy",
   "metadata": {
    "tags": [
     "no-replacement"
    ]
   },
   "outputs": [],
   "source": [
    "countries = [\"Spain\", \"Belgium\", \"France\", \"Italy\", \"Germany\"]"
   ]
  },
  {
   "cell_type": "markdown",
   "id": "structural-freight",
   "metadata": {},
   "source": [
    "Get the first item of the list:"
   ]
  },
  {
   "cell_type": "code",
   "execution_count": 19,
   "id": "bright-dispatch",
   "metadata": {},
   "outputs": [
    {
     "data": {
      "text/plain": [
       "'Spain'"
      ]
     },
     "execution_count": 19,
     "metadata": {},
     "output_type": "execute_result"
    }
   ],
   "source": [
    "countries[0]"
   ]
  },
  {
   "cell_type": "markdown",
   "id": "cooked-pharmacy",
   "metadata": {},
   "source": [
    "Get the third item of the list:"
   ]
  },
  {
   "cell_type": "code",
   "execution_count": 21,
   "id": "motivated-mouth",
   "metadata": {},
   "outputs": [
    {
     "data": {
      "text/plain": [
       "'France'"
      ]
     },
     "execution_count": 21,
     "metadata": {},
     "output_type": "execute_result"
    }
   ],
   "source": [
    "countries[2]"
   ]
  },
  {
   "cell_type": "markdown",
   "id": "important-copper",
   "metadata": {},
   "source": [
    "Get the last item of the list:"
   ]
  },
  {
   "cell_type": "code",
   "execution_count": 22,
   "id": "grave-survival",
   "metadata": {},
   "outputs": [
    {
     "data": {
      "text/plain": [
       "'Germany'"
      ]
     },
     "execution_count": 22,
     "metadata": {},
     "output_type": "execute_result"
    }
   ],
   "source": [
    "countries[-1]"
   ]
  },
  {
   "cell_type": "code",
   "execution_count": 25,
   "id": "great-artwork",
   "metadata": {},
   "outputs": [
    {
     "data": {
      "text/plain": [
       "'Germany'"
      ]
     },
     "execution_count": 25,
     "metadata": {},
     "output_type": "execute_result"
    }
   ],
   "source": [
    "countries[len(countries)-1]"
   ]
  },
  {
   "cell_type": "markdown",
   "id": "wound-lucas",
   "metadata": {},
   "source": [
    "Get the second to last item of the list:"
   ]
  },
  {
   "cell_type": "code",
   "execution_count": 23,
   "id": "innovative-relay",
   "metadata": {},
   "outputs": [
    {
     "data": {
      "text/plain": [
       "'Italy'"
      ]
     },
     "execution_count": 23,
     "metadata": {},
     "output_type": "execute_result"
    }
   ],
   "source": [
    "countries[-2]"
   ]
  },
  {
   "cell_type": "markdown",
   "id": "dated-amber",
   "metadata": {},
   "source": [
    "## Demo 2: Slicing"
   ]
  },
  {
   "cell_type": "code",
   "execution_count": 26,
   "id": "ecological-concrete",
   "metadata": {},
   "outputs": [
    {
     "data": {
      "text/plain": [
       "['Alice', 'Bob', 'Carol', 'Dennis', 'Emily', 'Francis']"
      ]
     },
     "execution_count": 26,
     "metadata": {},
     "output_type": "execute_result"
    }
   ],
   "source": [
    "students"
   ]
  },
  {
   "cell_type": "code",
   "execution_count": 27,
   "id": "legislative-carol",
   "metadata": {},
   "outputs": [
    {
     "data": {
      "text/plain": [
       "['Carol', 'Dennis']"
      ]
     },
     "execution_count": 27,
     "metadata": {},
     "output_type": "execute_result"
    }
   ],
   "source": [
    "students[2:4]"
   ]
  },
  {
   "cell_type": "code",
   "execution_count": 28,
   "id": "fluid-toolbox",
   "metadata": {},
   "outputs": [
    {
     "data": {
      "text/plain": [
       "2"
      ]
     },
     "execution_count": 28,
     "metadata": {},
     "output_type": "execute_result"
    }
   ],
   "source": [
    "4 - 2"
   ]
  },
  {
   "cell_type": "code",
   "execution_count": 29,
   "id": "permanent-functionality",
   "metadata": {},
   "outputs": [
    {
     "data": {
      "text/plain": [
       "['Alice', 'Bob', 'Carol']"
      ]
     },
     "execution_count": 29,
     "metadata": {},
     "output_type": "execute_result"
    }
   ],
   "source": [
    "students[:3]"
   ]
  },
  {
   "cell_type": "code",
   "execution_count": 30,
   "id": "scenic-alignment",
   "metadata": {},
   "outputs": [],
   "source": [
    "# Equivalent to:\n",
    "# students[0:3]"
   ]
  },
  {
   "cell_type": "code",
   "execution_count": 31,
   "id": "treated-christianity",
   "metadata": {},
   "outputs": [
    {
     "data": {
      "text/plain": [
       "3"
      ]
     },
     "execution_count": 31,
     "metadata": {},
     "output_type": "execute_result"
    }
   ],
   "source": [
    "3 - 0"
   ]
  },
  {
   "cell_type": "code",
   "execution_count": 32,
   "id": "sweet-bhutan",
   "metadata": {},
   "outputs": [
    {
     "data": {
      "text/plain": [
       "['Carol', 'Dennis', 'Emily', 'Francis']"
      ]
     },
     "execution_count": 32,
     "metadata": {},
     "output_type": "execute_result"
    }
   ],
   "source": [
    "students[2:]"
   ]
  },
  {
   "cell_type": "code",
   "execution_count": 33,
   "id": "defined-woman",
   "metadata": {},
   "outputs": [],
   "source": [
    "# Equivalent to:\n",
    "# students[2:len(students)]"
   ]
  },
  {
   "cell_type": "code",
   "execution_count": 34,
   "id": "worst-doctrine",
   "metadata": {},
   "outputs": [
    {
     "data": {
      "text/plain": [
       "4"
      ]
     },
     "execution_count": 34,
     "metadata": {},
     "output_type": "execute_result"
    }
   ],
   "source": [
    "len(students) - 2"
   ]
  },
  {
   "cell_type": "code",
   "execution_count": 35,
   "id": "associate-procedure",
   "metadata": {},
   "outputs": [
    {
     "data": {
      "text/plain": [
       "['Alice', 'Bob', 'Carol', 'Dennis', 'Emily', 'Francis']"
      ]
     },
     "execution_count": 35,
     "metadata": {},
     "output_type": "execute_result"
    }
   ],
   "source": [
    "students[:]"
   ]
  },
  {
   "cell_type": "code",
   "execution_count": 36,
   "id": "conservative-offset",
   "metadata": {},
   "outputs": [],
   "source": [
    "# Equivalent to:\n",
    "# students[0:len(students)]"
   ]
  },
  {
   "cell_type": "markdown",
   "id": "alpha-norfolk",
   "metadata": {},
   "source": [
    "## Exercise 2"
   ]
  },
  {
   "cell_type": "markdown",
   "id": "proper-renewal",
   "metadata": {},
   "source": [
    "### Skeleton"
   ]
  },
  {
   "cell_type": "code",
   "execution_count": 37,
   "id": "joint-turkish",
   "metadata": {
    "tags": [
     "no-replacement"
    ]
   },
   "outputs": [],
   "source": [
    "countries = [\"Spain\", \"Belgium\", \"France\", \"Italy\", \"Germany\"]"
   ]
  },
  {
   "cell_type": "markdown",
   "id": "different-ocean",
   "metadata": {},
   "source": [
    "Get the first three items of the list:"
   ]
  },
  {
   "cell_type": "code",
   "execution_count": 38,
   "id": "seeing-responsibility",
   "metadata": {},
   "outputs": [
    {
     "data": {
      "text/plain": [
       "['Spain', 'Belgium', 'France']"
      ]
     },
     "execution_count": 38,
     "metadata": {},
     "output_type": "execute_result"
    }
   ],
   "source": [
    "countries[:3]"
   ]
  },
  {
   "cell_type": "markdown",
   "id": "recorded-romania",
   "metadata": {},
   "source": [
    "Get the third and fourth items of the list:"
   ]
  },
  {
   "cell_type": "code",
   "execution_count": 42,
   "id": "naughty-lunch",
   "metadata": {},
   "outputs": [
    {
     "data": {
      "text/plain": [
       "['France', 'Italy']"
      ]
     },
     "execution_count": 42,
     "metadata": {},
     "output_type": "execute_result"
    }
   ],
   "source": [
    "countries[2:4]"
   ]
  },
  {
   "cell_type": "markdown",
   "id": "organized-highland",
   "metadata": {},
   "source": [
    "Get all items of the list, except the first two items:"
   ]
  },
  {
   "cell_type": "code",
   "execution_count": 40,
   "id": "tough-catering",
   "metadata": {},
   "outputs": [
    {
     "data": {
      "text/plain": [
       "['France', 'Italy', 'Germany']"
      ]
     },
     "execution_count": 40,
     "metadata": {},
     "output_type": "execute_result"
    }
   ],
   "source": [
    "countries[2:]"
   ]
  },
  {
   "cell_type": "markdown",
   "id": "hungarian-spoke",
   "metadata": {},
   "source": [
    "Get all items of the list:"
   ]
  },
  {
   "cell_type": "code",
   "execution_count": 41,
   "id": "painted-windsor",
   "metadata": {},
   "outputs": [
    {
     "data": {
      "text/plain": [
       "['Spain', 'Belgium', 'France', 'Italy', 'Germany']"
      ]
     },
     "execution_count": 41,
     "metadata": {},
     "output_type": "execute_result"
    }
   ],
   "source": [
    "countries[:]"
   ]
  },
  {
   "cell_type": "markdown",
   "id": "everyday-committee",
   "metadata": {},
   "source": [
    "## Demo 3: Slicing (backwards)"
   ]
  },
  {
   "cell_type": "code",
   "execution_count": 43,
   "id": "associate-tsunami",
   "metadata": {},
   "outputs": [
    {
     "data": {
      "text/plain": [
       "['Pablo', 'Ivan', 'Ivan', 'JC']"
      ]
     },
     "execution_count": 43,
     "metadata": {},
     "output_type": "execute_result"
    }
   ],
   "source": [
    "teachers"
   ]
  },
  {
   "cell_type": "code",
   "execution_count": 44,
   "id": "monthly-solution",
   "metadata": {},
   "outputs": [
    {
     "data": {
      "text/plain": [
       "['Ivan', 'JC']"
      ]
     },
     "execution_count": 44,
     "metadata": {},
     "output_type": "execute_result"
    }
   ],
   "source": [
    "teachers[-2:]"
   ]
  },
  {
   "cell_type": "code",
   "execution_count": 45,
   "id": "accompanied-conclusion",
   "metadata": {},
   "outputs": [
    {
     "data": {
      "text/plain": [
       "['Pablo', 'Ivan', 'Ivan']"
      ]
     },
     "execution_count": 45,
     "metadata": {},
     "output_type": "execute_result"
    }
   ],
   "source": [
    "teachers[:-1]"
   ]
  },
  {
   "cell_type": "code",
   "execution_count": 46,
   "id": "wooden-howard",
   "metadata": {},
   "outputs": [],
   "source": [
    "# Equivalent to:\n",
    "# teachers[0:-1]\n",
    "# teachers[0:len(teachers) - 1]"
   ]
  },
  {
   "cell_type": "code",
   "execution_count": 47,
   "id": "lasting-spiritual",
   "metadata": {},
   "outputs": [],
   "source": [
    "# (len(teachers) - 1) - 0"
   ]
  },
  {
   "cell_type": "markdown",
   "id": "exciting-scholar",
   "metadata": {},
   "source": [
    "## Exercise 3"
   ]
  },
  {
   "cell_type": "markdown",
   "id": "global-profit",
   "metadata": {},
   "source": [
    "### Skeleton"
   ]
  },
  {
   "cell_type": "code",
   "execution_count": 48,
   "id": "asian-tuition",
   "metadata": {
    "tags": [
     "no-replacement"
    ]
   },
   "outputs": [],
   "source": [
    "countries = [\"Spain\", \"Belgium\", \"France\", \"Italy\", \"Germany\"]"
   ]
  },
  {
   "cell_type": "markdown",
   "id": "complicated-software",
   "metadata": {},
   "source": [
    "Get the last three items of the list:"
   ]
  },
  {
   "cell_type": "code",
   "execution_count": 50,
   "id": "fewer-prompt",
   "metadata": {},
   "outputs": [
    {
     "data": {
      "text/plain": [
       "['France', 'Italy', 'Germany']"
      ]
     },
     "execution_count": 50,
     "metadata": {},
     "output_type": "execute_result"
    }
   ],
   "source": [
    "countries[-3:]"
   ]
  },
  {
   "cell_type": "markdown",
   "id": "competitive-preference",
   "metadata": {},
   "source": [
    "Get the all items of the list, except the last two items:"
   ]
  },
  {
   "cell_type": "code",
   "execution_count": 51,
   "id": "vanilla-marketing",
   "metadata": {},
   "outputs": [
    {
     "data": {
      "text/plain": [
       "['Spain', 'Belgium', 'France']"
      ]
     },
     "execution_count": 51,
     "metadata": {},
     "output_type": "execute_result"
    }
   ],
   "source": [
    "countries[:-2]"
   ]
  },
  {
   "cell_type": "markdown",
   "id": "ceramic-lodging",
   "metadata": {},
   "source": [
    "## Bonus: Slicing (with steps)"
   ]
  },
  {
   "cell_type": "code",
   "execution_count": 52,
   "id": "social-malaysia",
   "metadata": {},
   "outputs": [
    {
     "data": {
      "text/plain": [
       "['Alice', 'Bob', 'Carol', 'Dennis', 'Emily', 'Francis']"
      ]
     },
     "execution_count": 52,
     "metadata": {},
     "output_type": "execute_result"
    }
   ],
   "source": [
    "students"
   ]
  },
  {
   "cell_type": "code",
   "execution_count": 53,
   "id": "eight-bhutan",
   "metadata": {},
   "outputs": [
    {
     "data": {
      "text/plain": [
       "['Alice', 'Bob', 'Carol', 'Dennis', 'Emily', 'Francis']"
      ]
     },
     "execution_count": 53,
     "metadata": {},
     "output_type": "execute_result"
    }
   ],
   "source": [
    "students[:]"
   ]
  },
  {
   "cell_type": "code",
   "execution_count": 54,
   "id": "banner-evans",
   "metadata": {},
   "outputs": [
    {
     "data": {
      "text/plain": [
       "['Alice', 'Bob', 'Carol', 'Dennis', 'Emily', 'Francis']"
      ]
     },
     "execution_count": 54,
     "metadata": {},
     "output_type": "execute_result"
    }
   ],
   "source": [
    "students[::1]"
   ]
  },
  {
   "cell_type": "code",
   "execution_count": 55,
   "id": "searching-protest",
   "metadata": {},
   "outputs": [
    {
     "data": {
      "text/plain": [
       "['Alice', 'Carol', 'Emily']"
      ]
     },
     "execution_count": 55,
     "metadata": {},
     "output_type": "execute_result"
    }
   ],
   "source": [
    "students[::2]"
   ]
  },
  {
   "cell_type": "code",
   "execution_count": 56,
   "id": "indian-license",
   "metadata": {},
   "outputs": [
    {
     "data": {
      "text/plain": [
       "['Alice', 'Dennis']"
      ]
     },
     "execution_count": 56,
     "metadata": {},
     "output_type": "execute_result"
    }
   ],
   "source": [
    "students[::3]"
   ]
  },
  {
   "cell_type": "code",
   "execution_count": 57,
   "id": "signed-austin",
   "metadata": {},
   "outputs": [
    {
     "data": {
      "text/plain": [
       "['Bob', 'Carol', 'Dennis', 'Emily', 'Francis']"
      ]
     },
     "execution_count": 57,
     "metadata": {},
     "output_type": "execute_result"
    }
   ],
   "source": [
    "students[1:]"
   ]
  },
  {
   "cell_type": "code",
   "execution_count": 58,
   "id": "unauthorized-frank",
   "metadata": {},
   "outputs": [
    {
     "data": {
      "text/plain": [
       "['Bob', 'Dennis', 'Francis']"
      ]
     },
     "execution_count": 58,
     "metadata": {},
     "output_type": "execute_result"
    }
   ],
   "source": [
    "students[1::2]"
   ]
  },
  {
   "cell_type": "code",
   "execution_count": 59,
   "id": "facial-sunrise",
   "metadata": {},
   "outputs": [
    {
     "data": {
      "text/plain": [
       "['Francis', 'Emily', 'Dennis', 'Carol', 'Bob', 'Alice']"
      ]
     },
     "execution_count": 59,
     "metadata": {},
     "output_type": "execute_result"
    }
   ],
   "source": [
    "students[::-1]"
   ]
  },
  {
   "cell_type": "code",
   "execution_count": 60,
   "id": "matched-joshua",
   "metadata": {},
   "outputs": [
    {
     "data": {
      "text/plain": [
       "['Francis', 'Dennis', 'Bob']"
      ]
     },
     "execution_count": 60,
     "metadata": {},
     "output_type": "execute_result"
    }
   ],
   "source": [
    "students[::-2]"
   ]
  },
  {
   "cell_type": "code",
   "execution_count": 61,
   "id": "visible-yellow",
   "metadata": {},
   "outputs": [
    {
     "data": {
      "text/plain": [
       "['Francis', 'Carol']"
      ]
     },
     "execution_count": 61,
     "metadata": {},
     "output_type": "execute_result"
    }
   ],
   "source": [
    "students[::-3]"
   ]
  },
  {
   "cell_type": "markdown",
   "id": "e0bb459a",
   "metadata": {},
   "source": [
    "## Demo 4: Searching for items"
   ]
  },
  {
   "cell_type": "code",
   "execution_count": 62,
   "id": "e0054568",
   "metadata": {},
   "outputs": [
    {
     "data": {
      "text/plain": [
       "['Pablo', 'Ivan', 'Ivan', 'JC']"
      ]
     },
     "execution_count": 62,
     "metadata": {},
     "output_type": "execute_result"
    }
   ],
   "source": [
    "teachers"
   ]
  },
  {
   "cell_type": "markdown",
   "id": "d019bbd4",
   "metadata": {},
   "source": [
    "To check if a single item exists in the list:"
   ]
  },
  {
   "cell_type": "code",
   "execution_count": 63,
   "id": "3fcfa8bf",
   "metadata": {},
   "outputs": [
    {
     "data": {
      "text/plain": [
       "True"
      ]
     },
     "execution_count": 63,
     "metadata": {},
     "output_type": "execute_result"
    }
   ],
   "source": [
    "\"JC\" in teachers"
   ]
  },
  {
   "cell_type": "code",
   "execution_count": 64,
   "id": "f3177b43",
   "metadata": {},
   "outputs": [
    {
     "data": {
      "text/plain": [
       "False"
      ]
     },
     "execution_count": 64,
     "metadata": {},
     "output_type": "execute_result"
    }
   ],
   "source": [
    "\"Annet\" in teachers"
   ]
  },
  {
   "cell_type": "code",
   "execution_count": 65,
   "id": "65d923bf",
   "metadata": {},
   "outputs": [
    {
     "data": {
      "text/plain": [
       "True"
      ]
     },
     "execution_count": 65,
     "metadata": {},
     "output_type": "execute_result"
    }
   ],
   "source": [
    "\"Ivan\" in teachers"
   ]
  },
  {
   "cell_type": "markdown",
   "id": "b26a3bd2",
   "metadata": {},
   "source": [
    "To count how many times an item appears in the list:"
   ]
  },
  {
   "cell_type": "code",
   "execution_count": 66,
   "id": "6417b215",
   "metadata": {},
   "outputs": [
    {
     "data": {
      "text/plain": [
       "0"
      ]
     },
     "execution_count": 66,
     "metadata": {},
     "output_type": "execute_result"
    }
   ],
   "source": [
    "teachers.count(\"Annet\")"
   ]
  },
  {
   "cell_type": "code",
   "execution_count": 67,
   "id": "c6d0efb1",
   "metadata": {},
   "outputs": [
    {
     "data": {
      "text/plain": [
       "1"
      ]
     },
     "execution_count": 67,
     "metadata": {},
     "output_type": "execute_result"
    }
   ],
   "source": [
    "teachers.count(\"JC\")"
   ]
  },
  {
   "cell_type": "code",
   "execution_count": 68,
   "id": "657146de",
   "metadata": {},
   "outputs": [
    {
     "data": {
      "text/plain": [
       "2"
      ]
     },
     "execution_count": 68,
     "metadata": {},
     "output_type": "execute_result"
    }
   ],
   "source": [
    "teachers.count(\"Ivan\")"
   ]
  },
  {
   "cell_type": "markdown",
   "id": "14873034",
   "metadata": {},
   "source": [
    "To identify the index of an item in the list:"
   ]
  },
  {
   "cell_type": "code",
   "execution_count": 69,
   "id": "e0698708",
   "metadata": {},
   "outputs": [
    {
     "data": {
      "text/plain": [
       "3"
      ]
     },
     "execution_count": 69,
     "metadata": {},
     "output_type": "execute_result"
    }
   ],
   "source": [
    "teachers.index(\"JC\")"
   ]
  },
  {
   "cell_type": "code",
   "execution_count": 70,
   "id": "8b192267",
   "metadata": {
    "tags": [
     "raises-error"
    ]
   },
   "outputs": [
    {
     "ename": "ValueError",
     "evalue": "'Annet' is not in list",
     "output_type": "error",
     "traceback": [
      "\u001b[1;31m---------------------------------------------------------------------------\u001b[0m",
      "\u001b[1;31mValueError\u001b[0m                                Traceback (most recent call last)",
      "\u001b[1;32m<ipython-input-70-d5d471f80f0b>\u001b[0m in \u001b[0;36m<module>\u001b[1;34m\u001b[0m\n\u001b[0;32m      1\u001b[0m \u001b[1;31m# Raises an error, because the item is NOT in the list:\u001b[0m\u001b[1;33m\u001b[0m\u001b[1;33m\u001b[0m\u001b[1;33m\u001b[0m\u001b[0m\n\u001b[1;32m----> 2\u001b[1;33m \u001b[0mteachers\u001b[0m\u001b[1;33m.\u001b[0m\u001b[0mindex\u001b[0m\u001b[1;33m(\u001b[0m\u001b[1;34m\"Annet\"\u001b[0m\u001b[1;33m)\u001b[0m\u001b[1;33m\u001b[0m\u001b[1;33m\u001b[0m\u001b[0m\n\u001b[0m",
      "\u001b[1;31mValueError\u001b[0m: 'Annet' is not in list"
     ]
    }
   ],
   "source": [
    "# Raises an error, because the item is NOT in the list:\n",
    "teachers.index(\"Annet\")"
   ]
  },
  {
   "cell_type": "code",
   "execution_count": 71,
   "id": "c8a6f142",
   "metadata": {},
   "outputs": [
    {
     "data": {
      "text/plain": [
       "False"
      ]
     },
     "execution_count": 71,
     "metadata": {},
     "output_type": "execute_result"
    }
   ],
   "source": [
    "\"Annet\" in teachers"
   ]
  },
  {
   "cell_type": "code",
   "execution_count": 72,
   "id": "5fa40833",
   "metadata": {},
   "outputs": [],
   "source": [
    "if \"Annet\" in teachers:\n",
    "    print(teachers.index(\"Annet\"))"
   ]
  },
  {
   "cell_type": "code",
   "execution_count": 73,
   "id": "9fc5e4da",
   "metadata": {},
   "outputs": [
    {
     "name": "stdout",
     "output_type": "stream",
     "text": [
      "3\n"
     ]
    }
   ],
   "source": [
    "if \"JC\" in teachers:\n",
    "    print(teachers.index(\"JC\"))"
   ]
  },
  {
   "cell_type": "code",
   "execution_count": 74,
   "id": "d176fe5a",
   "metadata": {},
   "outputs": [],
   "source": [
    "# When something is repeated, create a variable:\n",
    "# teacher = \"JC\"\n",
    "# if teacher in teachers:\n",
    "#     print(teachers.index(teacher))"
   ]
  },
  {
   "cell_type": "code",
   "execution_count": 75,
   "id": "03a73230",
   "metadata": {},
   "outputs": [
    {
     "data": {
      "text/plain": [
       "1"
      ]
     },
     "execution_count": 75,
     "metadata": {},
     "output_type": "execute_result"
    }
   ],
   "source": [
    "teachers.index(\"Ivan\")"
   ]
  },
  {
   "cell_type": "markdown",
   "id": "4366e8d7",
   "metadata": {},
   "source": [
    "<div class=\"alert alert-warning\">\n",
    "\n",
    "<b>Beware:</b> If the item appears multiple times in the list, <b>only the first index is returned</b>!\n",
    "\n",
    "</div>"
   ]
  },
  {
   "cell_type": "markdown",
   "id": "3426772f",
   "metadata": {},
   "source": [
    "## Exercise 4"
   ]
  },
  {
   "cell_type": "markdown",
   "id": "53273c3e",
   "metadata": {},
   "source": [
    "### Skeleton"
   ]
  },
  {
   "cell_type": "code",
   "execution_count": 76,
   "id": "6f8421c8",
   "metadata": {
    "tags": [
     "no-replacement"
    ]
   },
   "outputs": [],
   "source": [
    "habsburgs = [\"Philip\", \"Charles\", \"Philip\", \"Philip\", \"Philip\", \"Charles\"]"
   ]
  },
  {
   "cell_type": "markdown",
   "id": "e2fbbeed",
   "metadata": {},
   "source": [
    "Check if Charles is in the list:"
   ]
  },
  {
   "cell_type": "code",
   "execution_count": 77,
   "id": "503fbd8b",
   "metadata": {},
   "outputs": [
    {
     "data": {
      "text/plain": [
       "True"
      ]
     },
     "execution_count": 77,
     "metadata": {},
     "output_type": "execute_result"
    }
   ],
   "source": [
    "\"Charles\" in habsburgs"
   ]
  },
  {
   "cell_type": "markdown",
   "id": "093f31a9",
   "metadata": {},
   "source": [
    "Check if Isabel is in the list:"
   ]
  },
  {
   "cell_type": "code",
   "execution_count": 78,
   "id": "584da182",
   "metadata": {},
   "outputs": [
    {
     "data": {
      "text/plain": [
       "False"
      ]
     },
     "execution_count": 78,
     "metadata": {},
     "output_type": "execute_result"
    }
   ],
   "source": [
    "\"Isabel\" in habsburgs"
   ]
  },
  {
   "cell_type": "markdown",
   "id": "c9d2ab73",
   "metadata": {},
   "source": [
    "Check how many times Charles appears in the list:"
   ]
  },
  {
   "cell_type": "code",
   "execution_count": 79,
   "id": "67fa347c",
   "metadata": {},
   "outputs": [
    {
     "data": {
      "text/plain": [
       "2"
      ]
     },
     "execution_count": 79,
     "metadata": {},
     "output_type": "execute_result"
    }
   ],
   "source": [
    "habsburgs.count(\"Charles\")"
   ]
  },
  {
   "cell_type": "markdown",
   "id": "a303be09",
   "metadata": {},
   "source": [
    "Check how many times Isabel appears in the list:"
   ]
  },
  {
   "cell_type": "code",
   "execution_count": 80,
   "id": "83522b4b",
   "metadata": {},
   "outputs": [
    {
     "data": {
      "text/plain": [
       "0"
      ]
     },
     "execution_count": 80,
     "metadata": {},
     "output_type": "execute_result"
    }
   ],
   "source": [
    "habsburgs.count(\"Isabel\")"
   ]
  },
  {
   "cell_type": "markdown",
   "id": "9de3f5ad",
   "metadata": {},
   "source": [
    "Check the first index of Charles in the list:"
   ]
  },
  {
   "cell_type": "code",
   "execution_count": 81,
   "id": "ff6dc9b5",
   "metadata": {},
   "outputs": [
    {
     "data": {
      "text/plain": [
       "1"
      ]
     },
     "execution_count": 81,
     "metadata": {},
     "output_type": "execute_result"
    }
   ],
   "source": [
    "habsburgs.index(\"Charles\")"
   ]
  },
  {
   "cell_type": "markdown",
   "id": "5b712a06",
   "metadata": {},
   "source": [
    "## Demo 5: Adding items"
   ]
  },
  {
   "cell_type": "code",
   "execution_count": 82,
   "id": "0d89d585",
   "metadata": {},
   "outputs": [
    {
     "data": {
      "text/plain": [
       "['Alice', 'Bob', 'Carol', 'Dennis', 'Emily', 'Francis']"
      ]
     },
     "execution_count": 82,
     "metadata": {},
     "output_type": "execute_result"
    }
   ],
   "source": [
    "students"
   ]
  },
  {
   "cell_type": "markdown",
   "id": "dfcb7b73",
   "metadata": {},
   "source": [
    "To `append()` a single item to the list:"
   ]
  },
  {
   "cell_type": "code",
   "execution_count": 83,
   "id": "be36d739",
   "metadata": {},
   "outputs": [],
   "source": [
    "students.append(\"Greta\")"
   ]
  },
  {
   "cell_type": "code",
   "execution_count": 84,
   "id": "c4cccb56",
   "metadata": {},
   "outputs": [
    {
     "data": {
      "text/plain": [
       "['Alice', 'Bob', 'Carol', 'Dennis', 'Emily', 'Francis', 'Greta']"
      ]
     },
     "execution_count": 84,
     "metadata": {},
     "output_type": "execute_result"
    }
   ],
   "source": [
    "students"
   ]
  },
  {
   "cell_type": "markdown",
   "id": "8695d0ef",
   "metadata": {},
   "source": [
    "To `extend()` the list by multiple items:"
   ]
  },
  {
   "cell_type": "code",
   "execution_count": 85,
   "id": "75e9c665",
   "metadata": {},
   "outputs": [],
   "source": [
    "students.extend([\"Isabel\", \"Jake\"])"
   ]
  },
  {
   "cell_type": "code",
   "execution_count": 86,
   "id": "7346dfc9",
   "metadata": {},
   "outputs": [
    {
     "data": {
      "text/plain": [
       "['Alice',\n",
       " 'Bob',\n",
       " 'Carol',\n",
       " 'Dennis',\n",
       " 'Emily',\n",
       " 'Francis',\n",
       " 'Greta',\n",
       " 'Isabel',\n",
       " 'Jake']"
      ]
     },
     "execution_count": 86,
     "metadata": {},
     "output_type": "execute_result"
    }
   ],
   "source": [
    "students"
   ]
  },
  {
   "cell_type": "markdown",
   "id": "6bfe2fcb",
   "metadata": {},
   "source": [
    "To `insert()` a single item at a specific index in the list:"
   ]
  },
  {
   "cell_type": "code",
   "execution_count": 87,
   "id": "7977727c",
   "metadata": {},
   "outputs": [],
   "source": [
    "students.insert(7, \"Hector\")"
   ]
  },
  {
   "cell_type": "code",
   "execution_count": 88,
   "id": "7eb9f457",
   "metadata": {},
   "outputs": [
    {
     "data": {
      "text/plain": [
       "['Alice',\n",
       " 'Bob',\n",
       " 'Carol',\n",
       " 'Dennis',\n",
       " 'Emily',\n",
       " 'Francis',\n",
       " 'Greta',\n",
       " 'Hector',\n",
       " 'Isabel',\n",
       " 'Jake']"
      ]
     },
     "execution_count": 88,
     "metadata": {},
     "output_type": "execute_result"
    }
   ],
   "source": [
    "students"
   ]
  },
  {
   "cell_type": "markdown",
   "id": "b69d0406",
   "metadata": {},
   "source": [
    "<div class=\"alert alert-info\">\n",
    "\n",
    "<b>Note:</b> All these operations act directly on the list, i.e. they <b>modify the original list</b>.\n",
    "\n",
    "</div>"
   ]
  },
  {
   "cell_type": "markdown",
   "id": "8a1c1f44",
   "metadata": {},
   "source": [
    "## Exercise 5"
   ]
  },
  {
   "cell_type": "markdown",
   "id": "6c146944",
   "metadata": {},
   "source": [
    "### Skeleton"
   ]
  },
  {
   "cell_type": "code",
   "execution_count": 89,
   "id": "b35a5131",
   "metadata": {
    "tags": [
     "no-replacement"
    ]
   },
   "outputs": [],
   "source": [
    "countries = [\"Spain\", \"Belgium\", \"France\", \"Italy\", \"Germany\"]"
   ]
  },
  {
   "cell_type": "markdown",
   "id": "cb9a88ed",
   "metadata": {},
   "source": [
    "Add Portugal to the list:"
   ]
  },
  {
   "cell_type": "code",
   "execution_count": 91,
   "id": "ce71df5c",
   "metadata": {},
   "outputs": [],
   "source": [
    "countries.append(\"Portugal\")"
   ]
  },
  {
   "cell_type": "code",
   "execution_count": 92,
   "id": "24003d8b",
   "metadata": {},
   "outputs": [
    {
     "data": {
      "text/plain": [
       "['Spain', 'Belgium', 'France', 'Italy', 'Germany', 'Portugal']"
      ]
     },
     "execution_count": 92,
     "metadata": {},
     "output_type": "execute_result"
    }
   ],
   "source": [
    "countries"
   ]
  },
  {
   "cell_type": "markdown",
   "id": "35e40f2d",
   "metadata": {},
   "source": [
    "Add both Luxemburg and Greece to the list:"
   ]
  },
  {
   "cell_type": "code",
   "execution_count": 93,
   "id": "65ab4e36",
   "metadata": {},
   "outputs": [],
   "source": [
    "countries.extend([\"Luxembourg\",\"Greece\"])"
   ]
  },
  {
   "cell_type": "code",
   "execution_count": 94,
   "id": "6af7e3cd",
   "metadata": {},
   "outputs": [
    {
     "data": {
      "text/plain": [
       "['Spain',\n",
       " 'Belgium',\n",
       " 'France',\n",
       " 'Italy',\n",
       " 'Germany',\n",
       " 'Portugal',\n",
       " 'Luxembourg',\n",
       " 'Greece']"
      ]
     },
     "execution_count": 94,
     "metadata": {},
     "output_type": "execute_result"
    }
   ],
   "source": [
    "countries"
   ]
  },
  {
   "cell_type": "markdown",
   "id": "4f913fa7",
   "metadata": {},
   "source": [
    "Add Austria to the list, at the very beginning:"
   ]
  },
  {
   "cell_type": "code",
   "execution_count": 96,
   "id": "18d838c3",
   "metadata": {},
   "outputs": [],
   "source": [
    "countries.insert(0,\"Austria\")"
   ]
  },
  {
   "cell_type": "code",
   "execution_count": 97,
   "id": "f98044c1",
   "metadata": {},
   "outputs": [
    {
     "data": {
      "text/plain": [
       "['Austria',\n",
       " 'Spain',\n",
       " 'Belgium',\n",
       " 'France',\n",
       " 'Italy',\n",
       " 'Germany',\n",
       " 'Portugal',\n",
       " 'Luxembourg',\n",
       " 'Greece']"
      ]
     },
     "execution_count": 97,
     "metadata": {},
     "output_type": "execute_result"
    }
   ],
   "source": [
    "countries"
   ]
  },
  {
   "cell_type": "markdown",
   "id": "0624c43e",
   "metadata": {},
   "source": [
    "## Bonus: `extend()` vs `append()`"
   ]
  },
  {
   "cell_type": "code",
   "execution_count": 98,
   "id": "5273906d",
   "metadata": {},
   "outputs": [],
   "source": [
    "capitals = [\"Madrid\", \"Brussels\", \"Paris\"]"
   ]
  },
  {
   "cell_type": "code",
   "execution_count": 99,
   "id": "8e70ffc4",
   "metadata": {},
   "outputs": [
    {
     "data": {
      "text/plain": [
       "['Madrid', 'Brussels', 'Paris']"
      ]
     },
     "execution_count": 99,
     "metadata": {},
     "output_type": "execute_result"
    }
   ],
   "source": [
    "capitals"
   ]
  },
  {
   "cell_type": "code",
   "execution_count": 100,
   "id": "b026ba4f",
   "metadata": {},
   "outputs": [
    {
     "data": {
      "text/plain": [
       "3"
      ]
     },
     "execution_count": 100,
     "metadata": {},
     "output_type": "execute_result"
    }
   ],
   "source": [
    "len(capitals)"
   ]
  },
  {
   "cell_type": "code",
   "execution_count": 101,
   "id": "d32753fb",
   "metadata": {},
   "outputs": [],
   "source": [
    "capitals.extend([\"Roma\", \"Berlin\"])"
   ]
  },
  {
   "cell_type": "code",
   "execution_count": 102,
   "id": "ca1ea8f4",
   "metadata": {},
   "outputs": [
    {
     "data": {
      "text/plain": [
       "['Madrid', 'Brussels', 'Paris', 'Roma', 'Berlin']"
      ]
     },
     "execution_count": 102,
     "metadata": {},
     "output_type": "execute_result"
    }
   ],
   "source": [
    "capitals"
   ]
  },
  {
   "cell_type": "code",
   "execution_count": 103,
   "id": "0a6ac080",
   "metadata": {},
   "outputs": [
    {
     "data": {
      "text/plain": [
       "5"
      ]
     },
     "execution_count": 103,
     "metadata": {},
     "output_type": "execute_result"
    }
   ],
   "source": [
    "len(capitals)"
   ]
  },
  {
   "cell_type": "code",
   "execution_count": 104,
   "id": "64cea99f",
   "metadata": {},
   "outputs": [],
   "source": [
    "# Correct:\n",
    "# capitals.extend([\"Lisbon\", \"Luxemburg\", \"Athens\"])\n",
    "# Incorrect:\n",
    "capitals.append([\"Lisbon\", \"Luxemburg\", \"Athens\"])"
   ]
  },
  {
   "cell_type": "code",
   "execution_count": 105,
   "id": "8eda1519",
   "metadata": {},
   "outputs": [
    {
     "data": {
      "text/plain": [
       "6"
      ]
     },
     "execution_count": 105,
     "metadata": {},
     "output_type": "execute_result"
    }
   ],
   "source": [
    "len(capitals)"
   ]
  },
  {
   "cell_type": "code",
   "execution_count": 106,
   "id": "c6367d51",
   "metadata": {},
   "outputs": [
    {
     "data": {
      "text/plain": [
       "['Madrid',\n",
       " 'Brussels',\n",
       " 'Paris',\n",
       " 'Roma',\n",
       " 'Berlin',\n",
       " ['Lisbon', 'Luxemburg', 'Athens']]"
      ]
     },
     "execution_count": 106,
     "metadata": {},
     "output_type": "execute_result"
    }
   ],
   "source": [
    "capitals"
   ]
  },
  {
   "cell_type": "markdown",
   "id": "9ed0fc96",
   "metadata": {},
   "source": [
    "To delete a variable:"
   ]
  },
  {
   "cell_type": "code",
   "execution_count": null,
   "id": "a9fa8c29",
   "metadata": {},
   "outputs": [],
   "source": [
    "del capitals"
   ]
  },
  {
   "cell_type": "code",
   "execution_count": null,
   "id": "1789a93b",
   "metadata": {
    "tags": [
     "raises-error"
    ]
   },
   "outputs": [],
   "source": [
    "# Raises an error, because the capitals variable no longer exists:\n",
    "capitals"
   ]
  },
  {
   "cell_type": "markdown",
   "id": "405573c2",
   "metadata": {},
   "source": [
    "## Demo 6: Removing items"
   ]
  },
  {
   "cell_type": "code",
   "execution_count": 107,
   "id": "54f39d19",
   "metadata": {},
   "outputs": [
    {
     "data": {
      "text/plain": [
       "['Alice',\n",
       " 'Bob',\n",
       " 'Carol',\n",
       " 'Dennis',\n",
       " 'Emily',\n",
       " 'Francis',\n",
       " 'Greta',\n",
       " 'Hector',\n",
       " 'Isabel',\n",
       " 'Jake']"
      ]
     },
     "execution_count": 107,
     "metadata": {},
     "output_type": "execute_result"
    }
   ],
   "source": [
    "students"
   ]
  },
  {
   "cell_type": "markdown",
   "id": "e1b65c57",
   "metadata": {},
   "source": [
    "To `remove()` an item from the list:"
   ]
  },
  {
   "cell_type": "code",
   "execution_count": 108,
   "id": "34548329",
   "metadata": {},
   "outputs": [],
   "source": [
    "students.remove(\"Jake\")"
   ]
  },
  {
   "cell_type": "code",
   "execution_count": 109,
   "id": "1d0937ab",
   "metadata": {},
   "outputs": [
    {
     "data": {
      "text/plain": [
       "['Alice',\n",
       " 'Bob',\n",
       " 'Carol',\n",
       " 'Dennis',\n",
       " 'Emily',\n",
       " 'Francis',\n",
       " 'Greta',\n",
       " 'Hector',\n",
       " 'Isabel']"
      ]
     },
     "execution_count": 109,
     "metadata": {},
     "output_type": "execute_result"
    }
   ],
   "source": [
    "students"
   ]
  },
  {
   "cell_type": "code",
   "execution_count": 110,
   "id": "3ea71d3a",
   "metadata": {
    "tags": [
     "raises-error"
    ]
   },
   "outputs": [
    {
     "ename": "ValueError",
     "evalue": "list.remove(x): x not in list",
     "output_type": "error",
     "traceback": [
      "\u001b[1;31m---------------------------------------------------------------------------\u001b[0m",
      "\u001b[1;31mValueError\u001b[0m                                Traceback (most recent call last)",
      "\u001b[1;32m<ipython-input-110-888d9968c565>\u001b[0m in \u001b[0;36m<module>\u001b[1;34m\u001b[0m\n\u001b[0;32m      1\u001b[0m \u001b[1;31m# Raises an error, because the item does NOT exist anymore in the list:\u001b[0m\u001b[1;33m\u001b[0m\u001b[1;33m\u001b[0m\u001b[1;33m\u001b[0m\u001b[0m\n\u001b[1;32m----> 2\u001b[1;33m \u001b[0mstudents\u001b[0m\u001b[1;33m.\u001b[0m\u001b[0mremove\u001b[0m\u001b[1;33m(\u001b[0m\u001b[1;34m\"Jake\"\u001b[0m\u001b[1;33m)\u001b[0m\u001b[1;33m\u001b[0m\u001b[1;33m\u001b[0m\u001b[0m\n\u001b[0m",
      "\u001b[1;31mValueError\u001b[0m: list.remove(x): x not in list"
     ]
    }
   ],
   "source": [
    "# Raises an error, because the item does NOT exist anymore in the list:\n",
    "students.remove(\"Jake\")"
   ]
  },
  {
   "cell_type": "markdown",
   "id": "cf3bb0c0",
   "metadata": {},
   "source": [
    "To delete an item from a specific index in the list:"
   ]
  },
  {
   "cell_type": "code",
   "execution_count": 111,
   "id": "490e25ac",
   "metadata": {},
   "outputs": [
    {
     "data": {
      "text/plain": [
       "'Dennis'"
      ]
     },
     "execution_count": 111,
     "metadata": {},
     "output_type": "execute_result"
    }
   ],
   "source": [
    "students[3]"
   ]
  },
  {
   "cell_type": "code",
   "execution_count": 112,
   "id": "c6bafe34",
   "metadata": {},
   "outputs": [],
   "source": [
    "del students[3]"
   ]
  },
  {
   "cell_type": "code",
   "execution_count": 113,
   "id": "61469004",
   "metadata": {},
   "outputs": [
    {
     "data": {
      "text/plain": [
       "['Alice', 'Bob', 'Carol', 'Emily', 'Francis', 'Greta', 'Hector', 'Isabel']"
      ]
     },
     "execution_count": 113,
     "metadata": {},
     "output_type": "execute_result"
    }
   ],
   "source": [
    "students"
   ]
  },
  {
   "cell_type": "markdown",
   "id": "6544e0d3",
   "metadata": {},
   "source": [
    "Note that there is never \"hole\" in the indices, all items following the deleted one have been reassigned a new index:"
   ]
  },
  {
   "cell_type": "code",
   "execution_count": 114,
   "id": "f28895cb",
   "metadata": {},
   "outputs": [
    {
     "data": {
      "text/plain": [
       "'Emily'"
      ]
     },
     "execution_count": 114,
     "metadata": {},
     "output_type": "execute_result"
    }
   ],
   "source": [
    "students[3]"
   ]
  },
  {
   "cell_type": "markdown",
   "id": "10871577",
   "metadata": {},
   "source": [
    "## Exercise 6"
   ]
  },
  {
   "cell_type": "markdown",
   "id": "e3a50bd6",
   "metadata": {},
   "source": [
    "### Skeleton"
   ]
  },
  {
   "cell_type": "code",
   "execution_count": 115,
   "id": "e37e486c",
   "metadata": {
    "tags": [
     "no-replacement"
    ]
   },
   "outputs": [],
   "source": [
    "countries = [\"Spain\", \"Belgium\", \"France\", \"Italy\", \"Germany\"]"
   ]
  },
  {
   "cell_type": "markdown",
   "id": "f7c23e5a",
   "metadata": {},
   "source": [
    "Remove the second element from the list:"
   ]
  },
  {
   "cell_type": "code",
   "execution_count": 116,
   "id": "4e6220e0",
   "metadata": {},
   "outputs": [],
   "source": [
    "del countries[1]"
   ]
  },
  {
   "cell_type": "code",
   "execution_count": 117,
   "id": "d97b2785",
   "metadata": {},
   "outputs": [
    {
     "data": {
      "text/plain": [
       "['Spain', 'France', 'Italy', 'Germany']"
      ]
     },
     "execution_count": 117,
     "metadata": {},
     "output_type": "execute_result"
    }
   ],
   "source": [
    "countries"
   ]
  },
  {
   "cell_type": "markdown",
   "id": "425164db",
   "metadata": {},
   "source": [
    "Remove France from the list:"
   ]
  },
  {
   "cell_type": "code",
   "execution_count": 118,
   "id": "76db77c1",
   "metadata": {},
   "outputs": [],
   "source": [
    "countries.remove(\"France\")"
   ]
  },
  {
   "cell_type": "code",
   "execution_count": 119,
   "id": "69f3915d",
   "metadata": {},
   "outputs": [
    {
     "data": {
      "text/plain": [
       "['Spain', 'Italy', 'Germany']"
      ]
     },
     "execution_count": 119,
     "metadata": {},
     "output_type": "execute_result"
    }
   ],
   "source": [
    "countries"
   ]
  },
  {
   "cell_type": "markdown",
   "id": "b0910fa6",
   "metadata": {},
   "source": [
    "## Bonus: `sorted()` versus `.sort()`"
   ]
  },
  {
   "cell_type": "code",
   "execution_count": null,
   "id": "c2d9785f",
   "metadata": {},
   "outputs": [],
   "source": [
    "countries = [\"Spain\", \"Belgium\", \"France\", \"Italy\", \"Germany\"]"
   ]
  },
  {
   "cell_type": "code",
   "execution_count": null,
   "id": "bd3012c1",
   "metadata": {},
   "outputs": [],
   "source": [
    "countries"
   ]
  },
  {
   "cell_type": "code",
   "execution_count": null,
   "id": "efdc89b0",
   "metadata": {},
   "outputs": [],
   "source": [
    "sorted(countries)"
   ]
  },
  {
   "cell_type": "code",
   "execution_count": null,
   "id": "cef49f55",
   "metadata": {},
   "outputs": [],
   "source": [
    "sorted(countries, reverse=True)"
   ]
  },
  {
   "cell_type": "code",
   "execution_count": null,
   "id": "66e3308c",
   "metadata": {},
   "outputs": [],
   "source": [
    "countries"
   ]
  },
  {
   "cell_type": "code",
   "execution_count": null,
   "id": "4a397cb4",
   "metadata": {},
   "outputs": [],
   "source": [
    "countries.sort()"
   ]
  },
  {
   "cell_type": "code",
   "execution_count": null,
   "id": "e55332cc",
   "metadata": {},
   "outputs": [],
   "source": [
    "countries"
   ]
  },
  {
   "cell_type": "code",
   "execution_count": null,
   "id": "244ba45a",
   "metadata": {},
   "outputs": [],
   "source": [
    "countries.sort(reverse=True)"
   ]
  },
  {
   "cell_type": "code",
   "execution_count": null,
   "id": "b75be05c",
   "metadata": {},
   "outputs": [],
   "source": [
    "countries"
   ]
  },
  {
   "cell_type": "markdown",
   "id": "d9f0864d",
   "metadata": {},
   "source": [
    "## Bonus: Lists equality"
   ]
  },
  {
   "cell_type": "code",
   "execution_count": null,
   "id": "6b745d9c",
   "metadata": {},
   "outputs": [],
   "source": [
    "medals = [\"gold\", \"silver\", \"platinum\"]"
   ]
  },
  {
   "cell_type": "code",
   "execution_count": null,
   "id": "9cf6c39b",
   "metadata": {},
   "outputs": [],
   "source": [
    "metals = [\"gold\", \"platinum\", \"silver\"]"
   ]
  },
  {
   "cell_type": "code",
   "execution_count": null,
   "id": "90d1907e",
   "metadata": {},
   "outputs": [],
   "source": [
    "medals == metals"
   ]
  }
 ],
 "metadata": {
  "kernelspec": {
   "display_name": "Python 3",
   "language": "python",
   "name": "python3"
  },
  "language_info": {
   "codemirror_mode": {
    "name": "ipython",
    "version": 3
   },
   "file_extension": ".py",
   "mimetype": "text/x-python",
   "name": "python",
   "nbconvert_exporter": "python",
   "pygments_lexer": "ipython3",
   "version": "3.8.5"
  }
 },
 "nbformat": 4,
 "nbformat_minor": 5
}
