{
 "cells": [
  {
   "cell_type": "markdown",
   "id": "8ae4e35f",
   "metadata": {},
   "source": [
    "# Data Structures: Tuples"
   ]
  },
  {
   "cell_type": "markdown",
   "id": "f8d698ac",
   "metadata": {},
   "source": [
    "> A tuple is an immutable list."
   ]
  },
  {
   "cell_type": "markdown",
   "id": "deaac762",
   "metadata": {},
   "source": [
    "## Creation"
   ]
  },
  {
   "cell_type": "code",
   "execution_count": null,
   "id": "7168abf9",
   "metadata": {},
   "outputs": [],
   "source": [
    "comunidades_autonomas = (\n",
    "    \"Andalucía\",\n",
    "    \"Aragón\",\n",
    "    \"Principado de Asturias\",\n",
    "    \"Islas Baleares\",\n",
    "    \"Canarias\",\n",
    "    \"Cantabria\",\n",
    "    \"Castilla-La Mancha\",\n",
    "    \"Castilla y León\",\n",
    "    \"Cataluña\",\n",
    "    \"Comunidad Valenciana\",\n",
    "    \"Extremadura\",\n",
    "    \"Galicia\",\n",
    "    \"La Rioja\",\n",
    "    \"Comunidad de Madrid\",\n",
    "    \"Región de Murcia\",\n",
    "    \"Comunidad Foral de Navarra\",\n",
    "    \"País Vasco\",\n",
    ")"
   ]
  },
  {
   "cell_type": "code",
   "execution_count": null,
   "id": "2684b29c",
   "metadata": {},
   "outputs": [],
   "source": [
    "comunidades_autonomas"
   ]
  },
  {
   "cell_type": "code",
   "execution_count": null,
   "id": "7361d9af",
   "metadata": {},
   "outputs": [],
   "source": [
    "ciudades_autonomas = (\"Ceuta\", \"Melilla\")"
   ]
  },
  {
   "cell_type": "code",
   "execution_count": null,
   "id": "e5d8e78c",
   "metadata": {},
   "outputs": [],
   "source": [
    "ciudades_autonomas"
   ]
  },
  {
   "cell_type": "code",
   "execution_count": null,
   "id": "2838da36",
   "metadata": {},
   "outputs": [],
   "source": [
    "empty_tuple = ()"
   ]
  },
  {
   "cell_type": "code",
   "execution_count": null,
   "id": "b3d4715b",
   "metadata": {},
   "outputs": [],
   "source": [
    "empty_tuple"
   ]
  },
  {
   "cell_type": "markdown",
   "id": "d397c150",
   "metadata": {},
   "source": [
    "<div class=\"alert alert-info\">\n",
    "\n",
    "<b>Note:</b> Tuples can contain arbitrary objects, including a mix of data types (e.g. strings and numbers), other tuples, or any other data structures.\n",
    "\n",
    "</div>"
   ]
  },
  {
   "cell_type": "markdown",
   "id": "dd9e097d",
   "metadata": {},
   "source": [
    "## Type"
   ]
  },
  {
   "cell_type": "code",
   "execution_count": null,
   "id": "936aee7e",
   "metadata": {},
   "outputs": [],
   "source": [
    "type(comunidades_autonomas)"
   ]
  },
  {
   "cell_type": "code",
   "execution_count": null,
   "id": "420c8169",
   "metadata": {},
   "outputs": [],
   "source": [
    "type(ciudades_autonomas)"
   ]
  },
  {
   "cell_type": "code",
   "execution_count": null,
   "id": "fce88b85",
   "metadata": {},
   "outputs": [],
   "source": [
    "type(empty_tuple)"
   ]
  },
  {
   "cell_type": "markdown",
   "id": "e07c3c0d",
   "metadata": {},
   "source": [
    "## Conversion"
   ]
  },
  {
   "cell_type": "markdown",
   "id": "519282f1",
   "metadata": {},
   "source": [
    "### From lists"
   ]
  },
  {
   "cell_type": "code",
   "execution_count": null,
   "id": "3c7fe9a0",
   "metadata": {},
   "outputs": [],
   "source": [
    "ie_as_list = [\"Madrid\", \"Sevilla\"]"
   ]
  },
  {
   "cell_type": "code",
   "execution_count": null,
   "id": "9f567fc6",
   "metadata": {},
   "outputs": [],
   "source": [
    "ie_as_list"
   ]
  },
  {
   "cell_type": "code",
   "execution_count": null,
   "id": "0c8a3eb9",
   "metadata": {},
   "outputs": [],
   "source": [
    "type(ie_as_list)"
   ]
  },
  {
   "cell_type": "code",
   "execution_count": null,
   "id": "8ce9b7e0",
   "metadata": {},
   "outputs": [],
   "source": [
    "tuple(ie_as_list)"
   ]
  },
  {
   "cell_type": "code",
   "execution_count": null,
   "id": "7655c23b",
   "metadata": {},
   "outputs": [],
   "source": [
    "ie_as_tuple = tuple(ie_as_list)"
   ]
  },
  {
   "cell_type": "code",
   "execution_count": null,
   "id": "fcbc2c43",
   "metadata": {},
   "outputs": [],
   "source": [
    "ie_as_tuple"
   ]
  },
  {
   "cell_type": "code",
   "execution_count": null,
   "id": "e2845b84",
   "metadata": {},
   "outputs": [],
   "source": [
    "type(ie_as_tuple)"
   ]
  },
  {
   "cell_type": "markdown",
   "id": "04fcf937",
   "metadata": {},
   "source": [
    "## Length"
   ]
  },
  {
   "cell_type": "code",
   "execution_count": null,
   "id": "994bdc3c",
   "metadata": {},
   "outputs": [],
   "source": [
    "len(comunidades_autonomas)"
   ]
  },
  {
   "cell_type": "code",
   "execution_count": null,
   "id": "508c2acf",
   "metadata": {},
   "outputs": [],
   "source": [
    "len(ciudades_autonomas)"
   ]
  },
  {
   "cell_type": "code",
   "execution_count": null,
   "id": "4e601599",
   "metadata": {},
   "outputs": [],
   "source": [
    "len(empty_tuple)"
   ]
  },
  {
   "cell_type": "markdown",
   "id": "85c6276a",
   "metadata": {},
   "source": [
    "## Similarities & Differences between tuples and lists"
   ]
  },
  {
   "cell_type": "markdown",
   "id": "951d50ef",
   "metadata": {},
   "source": [
    "The following operations are done exactly the same way for tuples as they are done for lists:\n",
    "* Indexing\n",
    "* Slicing\n",
    "* Searching for items"
   ]
  },
  {
   "cell_type": "markdown",
   "id": "c00d7bea",
   "metadata": {},
   "source": [
    "The following operations are not allowed for tuples:\n",
    "* Adding items\n",
    "* Removing items"
   ]
  },
  {
   "cell_type": "code",
   "execution_count": null,
   "id": "f240b201",
   "metadata": {
    "tags": [
     "raises-error"
    ]
   },
   "outputs": [],
   "source": [
    "# Raises an error, because tuples cannot be modified:\n",
    "ciudades_autonomas.append(\"Gibraltar\")"
   ]
  },
  {
   "cell_type": "markdown",
   "id": "89e5f946",
   "metadata": {},
   "source": [
    "## Advantages of tuples"
   ]
  },
  {
   "cell_type": "markdown",
   "id": "87e19d1d",
   "metadata": {},
   "source": [
    "Main advantages of tuples:\n",
    "* Tuples are faster than lists\n",
    "* It makes code safer, because data that does not need to be changed is \"write-protected\""
   ]
  },
  {
   "cell_type": "markdown",
   "id": "9831e8fc",
   "metadata": {},
   "source": [
    "## Bonus: Multiple assignments"
   ]
  },
  {
   "cell_type": "code",
   "execution_count": null,
   "id": "ae8d23ca",
   "metadata": {},
   "outputs": [],
   "source": [
    "x = 10\n",
    "y = 20"
   ]
  },
  {
   "cell_type": "code",
   "execution_count": null,
   "id": "48f2eb7e",
   "metadata": {},
   "outputs": [],
   "source": [
    "x"
   ]
  },
  {
   "cell_type": "code",
   "execution_count": null,
   "id": "7381b460",
   "metadata": {},
   "outputs": [],
   "source": [
    "y"
   ]
  },
  {
   "cell_type": "code",
   "execution_count": null,
   "id": "8f9680a9",
   "metadata": {},
   "outputs": [],
   "source": [
    "(10, 20)"
   ]
  },
  {
   "cell_type": "code",
   "execution_count": null,
   "id": "3a31bce8",
   "metadata": {},
   "outputs": [],
   "source": [
    "(x, y) = (10, 20)"
   ]
  },
  {
   "cell_type": "code",
   "execution_count": null,
   "id": "6fdf4d70",
   "metadata": {},
   "outputs": [],
   "source": [
    "x"
   ]
  },
  {
   "cell_type": "code",
   "execution_count": null,
   "id": "8d68a764",
   "metadata": {},
   "outputs": [],
   "source": [
    "y"
   ]
  },
  {
   "cell_type": "markdown",
   "id": "c78cef7b",
   "metadata": {},
   "source": [
    "The parentheses are optional:"
   ]
  },
  {
   "cell_type": "code",
   "execution_count": null,
   "id": "27322d44",
   "metadata": {},
   "outputs": [],
   "source": [
    "x, y = 10, 20"
   ]
  },
  {
   "cell_type": "markdown",
   "id": "26498d12",
   "metadata": {},
   "source": [
    "<div class=\"alert alert-success\">\n",
    "\n",
    "<b>Best Practice:</b> Use multiple assignments only for variables that are strongly related together\n",
    "\n",
    "</div>"
   ]
  },
  {
   "cell_type": "code",
   "execution_count": null,
   "id": "3bc78420",
   "metadata": {},
   "outputs": [],
   "source": [
    "point = (10, 20, 30)"
   ]
  },
  {
   "cell_type": "code",
   "execution_count": null,
   "id": "7744b146",
   "metadata": {},
   "outputs": [],
   "source": [
    "point"
   ]
  },
  {
   "cell_type": "code",
   "execution_count": null,
   "id": "789e3ab7",
   "metadata": {},
   "outputs": [],
   "source": [
    "(x, y, z) = point"
   ]
  },
  {
   "cell_type": "code",
   "execution_count": null,
   "id": "90c0b60a",
   "metadata": {},
   "outputs": [],
   "source": [
    "x"
   ]
  },
  {
   "cell_type": "code",
   "execution_count": null,
   "id": "ed003597",
   "metadata": {},
   "outputs": [],
   "source": [
    "y"
   ]
  },
  {
   "cell_type": "code",
   "execution_count": null,
   "id": "0b973b5e",
   "metadata": {},
   "outputs": [],
   "source": [
    "z"
   ]
  },
  {
   "cell_type": "code",
   "execution_count": null,
   "id": "1310818d",
   "metadata": {},
   "outputs": [],
   "source": [
    "days = (\"Monday\", \"Tuesday\", \"Wednesday\", \"Thursday\", \"Friday\", \"Saturday\", \"Sunday\")"
   ]
  },
  {
   "cell_type": "code",
   "execution_count": null,
   "id": "20875ebe",
   "metadata": {},
   "outputs": [],
   "source": [
    "days"
   ]
  },
  {
   "cell_type": "code",
   "execution_count": null,
   "id": "38f61352",
   "metadata": {},
   "outputs": [],
   "source": [
    "first_day = days[0]"
   ]
  },
  {
   "cell_type": "code",
   "execution_count": null,
   "id": "28f54fb9",
   "metadata": {},
   "outputs": [],
   "source": [
    "last_day = days[-1]"
   ]
  },
  {
   "cell_type": "code",
   "execution_count": null,
   "id": "d2566bea",
   "metadata": {},
   "outputs": [],
   "source": [
    "days_in_between = days[1:-1]"
   ]
  },
  {
   "cell_type": "code",
   "execution_count": null,
   "id": "f1402078",
   "metadata": {},
   "outputs": [],
   "source": [
    "first_day"
   ]
  },
  {
   "cell_type": "code",
   "execution_count": null,
   "id": "196477f3",
   "metadata": {},
   "outputs": [],
   "source": [
    "days_in_between"
   ]
  },
  {
   "cell_type": "code",
   "execution_count": null,
   "id": "7e2cf107",
   "metadata": {},
   "outputs": [],
   "source": [
    "last_day"
   ]
  },
  {
   "cell_type": "code",
   "execution_count": null,
   "id": "a93bfe59",
   "metadata": {},
   "outputs": [],
   "source": [
    "first_day, *days_in_between, last_day = days"
   ]
  },
  {
   "cell_type": "code",
   "execution_count": null,
   "id": "590552d0",
   "metadata": {},
   "outputs": [],
   "source": [
    "first_day"
   ]
  },
  {
   "cell_type": "code",
   "execution_count": null,
   "id": "ced89360",
   "metadata": {},
   "outputs": [],
   "source": [
    "days_in_between"
   ]
  },
  {
   "cell_type": "code",
   "execution_count": null,
   "id": "43b0de44",
   "metadata": {},
   "outputs": [],
   "source": [
    "last_day"
   ]
  },
  {
   "cell_type": "markdown",
   "id": "b3c1f32e",
   "metadata": {},
   "source": [
    "Tuples will be incredibly useful with functions... stay tuned!"
   ]
  }
 ],
 "metadata": {
  "kernelspec": {
   "display_name": "Python 3",
   "language": "python",
   "name": "python3"
  },
  "language_info": {
   "codemirror_mode": {
    "name": "ipython",
    "version": 3
   },
   "file_extension": ".py",
   "mimetype": "text/x-python",
   "name": "python",
   "nbconvert_exporter": "python",
   "pygments_lexer": "ipython3",
   "version": "3.9.2"
  }
 },
 "nbformat": 4,
 "nbformat_minor": 5
}
