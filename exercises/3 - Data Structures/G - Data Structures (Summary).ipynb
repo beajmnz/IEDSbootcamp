{
 "cells": [
  {
   "cell_type": "markdown",
   "id": "caroline-transmission",
   "metadata": {},
   "source": [
    "# Data Structures"
   ]
  },
  {
   "cell_type": "markdown",
   "id": "grave-armor",
   "metadata": {},
   "source": [
    "Main data structures in Python:\n",
    "- **lists** are *ordered*, *mutable* collection of items (e.g. `[1, 2, 3, 1]`, `[\"JC\", \"Ivan\"]`)\n",
    "- **tuples** are *ordered*, *immutable* collection of items (e.g. `(1, 2, 3, 1)`, `(\"JC\", \"Ivan\")`)\n",
    "- **sets** are *unordered*, *mutable* collection of *single* items (e.g. `{1, 2, 3}`, `{\"JC\", \"Ivan\"}`)\n",
    "- **dictionaries** are *mutable* collection of *key-value pairs* (e.g. `{\"Spain\": \"Madrid\", \"France\": \"Paris}`)"
   ]
  },
  {
   "cell_type": "markdown",
   "id": "43b3a674",
   "metadata": {},
   "source": [
    "## Summary"
   ]
  },
  {
   "cell_type": "markdown",
   "id": "e8a27dda",
   "metadata": {},
   "source": [
    "Data Type        | `type(...)` | Ordered? |  Mutable?\n",
    ":----------------|:------------|:---------|:---------\n",
    "**Lists**        | `list`      | Yes      | Yes\n",
    "**Tuples**       | `tuple`     | Yes      | **No**\n",
    "**Sets**         | `set`       | **No**   | Yes\n",
    "**Dictionaries** | `dict`      | (*)      | Yes\n",
    "\n",
    "(*) No (usually); Yes (Python 3.7+)"
   ]
  }
 ],
 "metadata": {
  "kernelspec": {
   "display_name": "Python 3",
   "language": "python",
   "name": "python3"
  },
  "language_info": {
   "codemirror_mode": {
    "name": "ipython",
    "version": 3
   },
   "file_extension": ".py",
   "mimetype": "text/x-python",
   "name": "python",
   "nbconvert_exporter": "python",
   "pygments_lexer": "ipython3",
   "version": "3.8.5"
  }
 },
 "nbformat": 4,
 "nbformat_minor": 5
}
