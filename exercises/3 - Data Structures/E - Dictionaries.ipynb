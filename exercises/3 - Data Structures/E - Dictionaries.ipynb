{
 "cells": [
  {
   "cell_type": "markdown",
   "id": "4a35fd37",
   "metadata": {},
   "source": [
    "# Data Structure: Dictionaries"
   ]
  },
  {
   "cell_type": "markdown",
   "id": "3178a2be",
   "metadata": {},
   "source": [
    "> A dictionary is a \"bag\" of key-value pairs. "
   ]
  },
  {
   "cell_type": "markdown",
   "id": "b9ed914e",
   "metadata": {},
   "source": [
    "## Creation"
   ]
  },
  {
   "cell_type": "code",
   "execution_count": 2,
   "id": "09c926b4",
   "metadata": {},
   "outputs": [],
   "source": [
    "capitals = {\n",
    "    \"Spain\": \"Madrid\",\n",
    "    \"Belgium\": \"Brussels\",\n",
    "    \"France\": \"Paris\",\n",
    "    \"Italy\": \"Roma\",\n",
    "    \"Germany\": \"Berlin\",\n",
    "}"
   ]
  },
  {
   "cell_type": "code",
   "execution_count": 3,
   "id": "ca01e938",
   "metadata": {},
   "outputs": [
    {
     "data": {
      "text/plain": [
       "{'Spain': 'Madrid',\n",
       " 'Belgium': 'Brussels',\n",
       " 'France': 'Paris',\n",
       " 'Italy': 'Roma',\n",
       " 'Germany': 'Berlin'}"
      ]
     },
     "execution_count": 3,
     "metadata": {},
     "output_type": "execute_result"
    }
   ],
   "source": [
    "capitals"
   ]
  },
  {
   "cell_type": "code",
   "execution_count": 4,
   "id": "1db6b7b7",
   "metadata": {},
   "outputs": [],
   "source": [
    "spain = {\n",
    "    \"capital\": \"Madrid\",\n",
    "    \"population\": 46_733_038,\n",
    "    \"monarch\": \"Felipe VI\",\n",
    "    \"area\": 505_990,\n",
    "}"
   ]
  },
  {
   "cell_type": "code",
   "execution_count": 5,
   "id": "e6d6ba01",
   "metadata": {},
   "outputs": [
    {
     "data": {
      "text/plain": [
       "{'capital': 'Madrid',\n",
       " 'population': 46733038,\n",
       " 'monarch': 'Felipe VI',\n",
       " 'area': 505990}"
      ]
     },
     "execution_count": 5,
     "metadata": {},
     "output_type": "execute_result"
    }
   ],
   "source": [
    "spain"
   ]
  },
  {
   "cell_type": "code",
   "execution_count": 6,
   "id": "4147a537",
   "metadata": {},
   "outputs": [],
   "source": [
    "courses = {\"Pablo\": \"Theory\", \"JC\": \"Exercises\"}"
   ]
  },
  {
   "cell_type": "code",
   "execution_count": 7,
   "id": "a42002ec",
   "metadata": {},
   "outputs": [
    {
     "data": {
      "text/plain": [
       "{'Pablo': 'Theory', 'JC': 'Exercises'}"
      ]
     },
     "execution_count": 7,
     "metadata": {},
     "output_type": "execute_result"
    }
   ],
   "source": [
    "courses"
   ]
  },
  {
   "cell_type": "code",
   "execution_count": 8,
   "id": "c145af15",
   "metadata": {},
   "outputs": [],
   "source": [
    "empty_dictionary = {}"
   ]
  },
  {
   "cell_type": "markdown",
   "id": "974d563f",
   "metadata": {},
   "source": [
    "<div class=\"alert alert-warning\">\n",
    "\n",
    "<b>Beware:</b> Empty curly braces create an empty dictionary, and not an empty set\n",
    "\n",
    "</div>"
   ]
  },
  {
   "cell_type": "code",
   "execution_count": 9,
   "id": "acb434b7",
   "metadata": {},
   "outputs": [
    {
     "data": {
      "text/plain": [
       "{}"
      ]
     },
     "execution_count": 9,
     "metadata": {},
     "output_type": "execute_result"
    }
   ],
   "source": [
    "empty_dictionary"
   ]
  },
  {
   "cell_type": "markdown",
   "id": "4500b4d1",
   "metadata": {},
   "source": [
    "<div class=\"alert alert-warning\">\n",
    "\n",
    "<b>Beware:</b> Empty curly braces represent an empty dictionary, and not an empty set\n",
    "\n",
    "</div>"
   ]
  },
  {
   "cell_type": "markdown",
   "id": "e8d1c0c1",
   "metadata": {},
   "source": [
    "<div class=\"alert alert-info\">\n",
    "\n",
    "<b>Note:</b> Dictionaries can contain arbitrary objects as values, including other dictionaries, or any other data structures.\n",
    "\n",
    "</div>"
   ]
  },
  {
   "cell_type": "markdown",
   "id": "ae25d185",
   "metadata": {},
   "source": [
    "## Type"
   ]
  },
  {
   "cell_type": "code",
   "execution_count": 10,
   "id": "b2dcb044",
   "metadata": {},
   "outputs": [
    {
     "data": {
      "text/plain": [
       "dict"
      ]
     },
     "execution_count": 10,
     "metadata": {},
     "output_type": "execute_result"
    }
   ],
   "source": [
    "type(capitals)"
   ]
  },
  {
   "cell_type": "code",
   "execution_count": 11,
   "id": "9747b196",
   "metadata": {},
   "outputs": [
    {
     "data": {
      "text/plain": [
       "dict"
      ]
     },
     "execution_count": 11,
     "metadata": {},
     "output_type": "execute_result"
    }
   ],
   "source": [
    "type(courses)"
   ]
  },
  {
   "cell_type": "code",
   "execution_count": 12,
   "id": "ec3cd388",
   "metadata": {},
   "outputs": [
    {
     "data": {
      "text/plain": [
       "dict"
      ]
     },
     "execution_count": 12,
     "metadata": {},
     "output_type": "execute_result"
    }
   ],
   "source": [
    "type(empty_dictionary)"
   ]
  },
  {
   "cell_type": "markdown",
   "id": "d775a1b5",
   "metadata": {},
   "source": [
    "## Conversion"
   ]
  },
  {
   "cell_type": "markdown",
   "id": "f8f30e74",
   "metadata": {},
   "source": [
    "### From 2 lists"
   ]
  },
  {
   "cell_type": "code",
   "execution_count": 13,
   "id": "bb5761b9",
   "metadata": {},
   "outputs": [],
   "source": [
    "fruits = [\"Apple\", \"Banana\"]\n",
    "prices = [10, 20]"
   ]
  },
  {
   "cell_type": "code",
   "execution_count": 14,
   "id": "d490817e",
   "metadata": {},
   "outputs": [
    {
     "data": {
      "text/plain": [
       "{'Apple': 10, 'Banana': 20}"
      ]
     },
     "execution_count": 14,
     "metadata": {},
     "output_type": "execute_result"
    }
   ],
   "source": [
    "dict(zip(fruits, prices))"
   ]
  },
  {
   "cell_type": "markdown",
   "id": "096f54f3",
   "metadata": {},
   "source": [
    "## Length"
   ]
  },
  {
   "cell_type": "code",
   "execution_count": 15,
   "id": "295b7915",
   "metadata": {},
   "outputs": [
    {
     "data": {
      "text/plain": [
       "5"
      ]
     },
     "execution_count": 15,
     "metadata": {},
     "output_type": "execute_result"
    }
   ],
   "source": [
    "len(capitals)"
   ]
  },
  {
   "cell_type": "code",
   "execution_count": 16,
   "id": "60bff906",
   "metadata": {},
   "outputs": [
    {
     "data": {
      "text/plain": [
       "2"
      ]
     },
     "execution_count": 16,
     "metadata": {},
     "output_type": "execute_result"
    }
   ],
   "source": [
    "len(courses)"
   ]
  },
  {
   "cell_type": "code",
   "execution_count": 17,
   "id": "c3c52a7c",
   "metadata": {},
   "outputs": [
    {
     "data": {
      "text/plain": [
       "0"
      ]
     },
     "execution_count": 17,
     "metadata": {},
     "output_type": "execute_result"
    }
   ],
   "source": [
    "len(empty_dictionary)"
   ]
  },
  {
   "cell_type": "markdown",
   "id": "2cb345c0",
   "metadata": {},
   "source": [
    "## Demo 1: Getting values"
   ]
  },
  {
   "cell_type": "code",
   "execution_count": 18,
   "id": "8936bb5e",
   "metadata": {},
   "outputs": [
    {
     "data": {
      "text/plain": [
       "{'Spain': 'Madrid',\n",
       " 'Belgium': 'Brussels',\n",
       " 'France': 'Paris',\n",
       " 'Italy': 'Roma',\n",
       " 'Germany': 'Berlin'}"
      ]
     },
     "execution_count": 18,
     "metadata": {},
     "output_type": "execute_result"
    }
   ],
   "source": [
    "capitals"
   ]
  },
  {
   "cell_type": "markdown",
   "id": "c93eae8c",
   "metadata": {},
   "source": [
    "Get the value for the \"Spain\" key in the `capitals` dictionary:"
   ]
  },
  {
   "cell_type": "code",
   "execution_count": 19,
   "id": "89e721ff",
   "metadata": {},
   "outputs": [
    {
     "data": {
      "text/plain": [
       "'Madrid'"
      ]
     },
     "execution_count": 19,
     "metadata": {},
     "output_type": "execute_result"
    }
   ],
   "source": [
    "capitals[\"Spain\"]"
   ]
  },
  {
   "cell_type": "markdown",
   "id": "3400852d",
   "metadata": {},
   "source": [
    "Get the value for the \"Italy\" key in the `capitals` dictionary:"
   ]
  },
  {
   "cell_type": "code",
   "execution_count": 20,
   "id": "2da8e424",
   "metadata": {},
   "outputs": [
    {
     "data": {
      "text/plain": [
       "'Roma'"
      ]
     },
     "execution_count": 20,
     "metadata": {},
     "output_type": "execute_result"
    }
   ],
   "source": [
    "capitals[\"Italy\"]"
   ]
  },
  {
   "cell_type": "markdown",
   "id": "fe2c7e0c",
   "metadata": {},
   "source": [
    "It is not possible to get the value for the non-existent \"Greece\" key in the `capitals` dictionary:"
   ]
  },
  {
   "cell_type": "code",
   "execution_count": 21,
   "id": "0eb73028",
   "metadata": {
    "tags": [
     "raises-error"
    ]
   },
   "outputs": [
    {
     "ename": "KeyError",
     "evalue": "'Greece'",
     "output_type": "error",
     "traceback": [
      "\u001b[1;31m---------------------------------------------------------------------------\u001b[0m",
      "\u001b[1;31mKeyError\u001b[0m                                  Traceback (most recent call last)",
      "\u001b[1;32m<ipython-input-21-dede31e67660>\u001b[0m in \u001b[0;36m<module>\u001b[1;34m\u001b[0m\n\u001b[0;32m      1\u001b[0m \u001b[1;31m# Raises an error, because the \"Greece\" key does not exist in the dictionary:\u001b[0m\u001b[1;33m\u001b[0m\u001b[1;33m\u001b[0m\u001b[1;33m\u001b[0m\u001b[0m\n\u001b[1;32m----> 2\u001b[1;33m \u001b[0mcapitals\u001b[0m\u001b[1;33m[\u001b[0m\u001b[1;34m\"Greece\"\u001b[0m\u001b[1;33m]\u001b[0m\u001b[1;33m\u001b[0m\u001b[1;33m\u001b[0m\u001b[0m\n\u001b[0m",
      "\u001b[1;31mKeyError\u001b[0m: 'Greece'"
     ]
    }
   ],
   "source": [
    "# Raises an error, because the \"Greece\" key does not exist in the dictionary:\n",
    "capitals[\"Greece\"]"
   ]
  },
  {
   "cell_type": "markdown",
   "id": "22f4b58b",
   "metadata": {},
   "source": [
    "Similarly, it is not possible to get the key for \"Madrid\" value in the `capitals` dictionary:"
   ]
  },
  {
   "cell_type": "code",
   "execution_count": 22,
   "id": "22ff5c1a",
   "metadata": {
    "tags": [
     "raises-error"
    ]
   },
   "outputs": [
    {
     "ename": "KeyError",
     "evalue": "'Madrid'",
     "output_type": "error",
     "traceback": [
      "\u001b[1;31m---------------------------------------------------------------------------\u001b[0m",
      "\u001b[1;31mKeyError\u001b[0m                                  Traceback (most recent call last)",
      "\u001b[1;32m<ipython-input-22-509d264ca58e>\u001b[0m in \u001b[0;36m<module>\u001b[1;34m\u001b[0m\n\u001b[0;32m      1\u001b[0m \u001b[1;31m# Raises an error, because \"Madrid\" is not a key, but a value:\u001b[0m\u001b[1;33m\u001b[0m\u001b[1;33m\u001b[0m\u001b[1;33m\u001b[0m\u001b[0m\n\u001b[1;32m----> 2\u001b[1;33m \u001b[0mcapitals\u001b[0m\u001b[1;33m[\u001b[0m\u001b[1;34m\"Madrid\"\u001b[0m\u001b[1;33m]\u001b[0m\u001b[1;33m\u001b[0m\u001b[1;33m\u001b[0m\u001b[0m\n\u001b[0m",
      "\u001b[1;31mKeyError\u001b[0m: 'Madrid'"
     ]
    }
   ],
   "source": [
    "# Raises an error, because \"Madrid\" is not a key, but a value:\n",
    "capitals[\"Madrid\"]"
   ]
  },
  {
   "cell_type": "markdown",
   "id": "68012d74",
   "metadata": {},
   "source": [
    "<div class=\"alert alert-info\">\n",
    "\n",
    "<b>Note:</b> A dictionary can <b>only be accessed by keys</b>, never by values.\n",
    "\n",
    "</div>"
   ]
  },
  {
   "cell_type": "markdown",
   "id": "254e16cc",
   "metadata": {},
   "source": [
    "## Exercise 1"
   ]
  },
  {
   "cell_type": "markdown",
   "id": "ce6f4acf",
   "metadata": {},
   "source": [
    "### Skeleton"
   ]
  },
  {
   "cell_type": "markdown",
   "id": "b6765fc7",
   "metadata": {},
   "source": [
    "The `populations` dictionary contains the population of several European countries:"
   ]
  },
  {
   "cell_type": "code",
   "execution_count": 23,
   "id": "31794349",
   "metadata": {
    "tags": [
     "no-replacement"
    ]
   },
   "outputs": [],
   "source": [
    "populations = {\n",
    "    \"Spain\": 46_733_038,\n",
    "    \"Belgium\": 11_449_656,\n",
    "    \"France\": 67_076_000,\n",
    "    \"Italy\": 60_390_560,\n",
    "    \"Germany\": 83_122_889,\n",
    "}"
   ]
  },
  {
   "cell_type": "markdown",
   "id": "aa865d48",
   "metadata": {},
   "source": [
    "Get the population of Belgium:"
   ]
  },
  {
   "cell_type": "code",
   "execution_count": 24,
   "id": "4c189270",
   "metadata": {},
   "outputs": [
    {
     "data": {
      "text/plain": [
       "11449656"
      ]
     },
     "execution_count": 24,
     "metadata": {},
     "output_type": "execute_result"
    }
   ],
   "source": [
    "populations[\"Belgium\"]"
   ]
  },
  {
   "cell_type": "markdown",
   "id": "1a222dc4",
   "metadata": {},
   "source": [
    "Get the population of Germany:"
   ]
  },
  {
   "cell_type": "code",
   "execution_count": 25,
   "id": "1d1ec3bb",
   "metadata": {},
   "outputs": [
    {
     "data": {
      "text/plain": [
       "83122889"
      ]
     },
     "execution_count": 25,
     "metadata": {},
     "output_type": "execute_result"
    }
   ],
   "source": [
    "populations[\"Germany\"]"
   ]
  },
  {
   "cell_type": "markdown",
   "id": "c7384575",
   "metadata": {},
   "source": [
    "Try to get the population of Portugal:"
   ]
  },
  {
   "cell_type": "code",
   "execution_count": 26,
   "id": "38ed0721",
   "metadata": {
    "tags": [
     "raises-error"
    ]
   },
   "outputs": [
    {
     "ename": "KeyError",
     "evalue": "'Portugal'",
     "output_type": "error",
     "traceback": [
      "\u001b[1;31m---------------------------------------------------------------------------\u001b[0m",
      "\u001b[1;31mKeyError\u001b[0m                                  Traceback (most recent call last)",
      "\u001b[1;32m<ipython-input-26-98abc9b084a0>\u001b[0m in \u001b[0;36m<module>\u001b[1;34m\u001b[0m\n\u001b[1;32m----> 1\u001b[1;33m \u001b[0mpopulations\u001b[0m\u001b[1;33m[\u001b[0m\u001b[1;34m\"Portugal\"\u001b[0m\u001b[1;33m]\u001b[0m\u001b[1;33m\u001b[0m\u001b[1;33m\u001b[0m\u001b[0m\n\u001b[0m",
      "\u001b[1;31mKeyError\u001b[0m: 'Portugal'"
     ]
    }
   ],
   "source": [
    "populations[\"Portugal\"]"
   ]
  },
  {
   "cell_type": "markdown",
   "id": "1878719e",
   "metadata": {},
   "source": [
    "Try to get the country whose population is 67076000:"
   ]
  },
  {
   "cell_type": "code",
   "execution_count": 27,
   "id": "707ca1bc",
   "metadata": {
    "tags": [
     "raises-error"
    ]
   },
   "outputs": [
    {
     "ename": "KeyError",
     "evalue": "67076000",
     "output_type": "error",
     "traceback": [
      "\u001b[1;31m---------------------------------------------------------------------------\u001b[0m",
      "\u001b[1;31mKeyError\u001b[0m                                  Traceback (most recent call last)",
      "\u001b[1;32m<ipython-input-27-609faa093b67>\u001b[0m in \u001b[0;36m<module>\u001b[1;34m\u001b[0m\n\u001b[1;32m----> 1\u001b[1;33m \u001b[0mpopulations\u001b[0m\u001b[1;33m[\u001b[0m\u001b[1;36m67076000\u001b[0m\u001b[1;33m]\u001b[0m\u001b[1;33m\u001b[0m\u001b[1;33m\u001b[0m\u001b[0m\n\u001b[0m",
      "\u001b[1;31mKeyError\u001b[0m: 67076000"
     ]
    }
   ],
   "source": [
    "populations[67076000]"
   ]
  },
  {
   "cell_type": "markdown",
   "id": "4a1c9480",
   "metadata": {},
   "source": [
    "## Demo 2: Searching for items"
   ]
  },
  {
   "cell_type": "code",
   "execution_count": 28,
   "id": "54e03e9a",
   "metadata": {},
   "outputs": [
    {
     "data": {
      "text/plain": [
       "{'Spain': 'Madrid',\n",
       " 'Belgium': 'Brussels',\n",
       " 'France': 'Paris',\n",
       " 'Italy': 'Roma',\n",
       " 'Germany': 'Berlin'}"
      ]
     },
     "execution_count": 28,
     "metadata": {},
     "output_type": "execute_result"
    }
   ],
   "source": [
    "capitals"
   ]
  },
  {
   "cell_type": "markdown",
   "id": "c1c92dc2",
   "metadata": {},
   "source": [
    "Check if the \"Spain\" key exists in the `capitals` dictionary:"
   ]
  },
  {
   "cell_type": "code",
   "execution_count": 29,
   "id": "42937125",
   "metadata": {},
   "outputs": [
    {
     "data": {
      "text/plain": [
       "True"
      ]
     },
     "execution_count": 29,
     "metadata": {},
     "output_type": "execute_result"
    }
   ],
   "source": [
    "\"Spain\" in capitals"
   ]
  },
  {
   "cell_type": "markdown",
   "id": "f24e4a77",
   "metadata": {},
   "source": [
    "Check if the \"Portugal\" key exists in the `capitals` dictionary:"
   ]
  },
  {
   "cell_type": "code",
   "execution_count": 30,
   "id": "10c486c8",
   "metadata": {},
   "outputs": [
    {
     "data": {
      "text/plain": [
       "False"
      ]
     },
     "execution_count": 30,
     "metadata": {},
     "output_type": "execute_result"
    }
   ],
   "source": [
    "\"Portugal\" in capitals"
   ]
  },
  {
   "cell_type": "markdown",
   "id": "460050aa",
   "metadata": {},
   "source": [
    "Try to check if the \"Brussels\" value exists in the `capitals` dictionary:"
   ]
  },
  {
   "cell_type": "code",
   "execution_count": 31,
   "id": "38769f28",
   "metadata": {},
   "outputs": [
    {
     "data": {
      "text/plain": [
       "False"
      ]
     },
     "execution_count": 31,
     "metadata": {},
     "output_type": "execute_result"
    }
   ],
   "source": [
    "\"Brussels\" in capitals"
   ]
  },
  {
   "cell_type": "markdown",
   "id": "8fa69e39",
   "metadata": {},
   "source": [
    "<div class=\"alert alert-info\">\n",
    "\n",
    "<b>Note:</b> It is only possible to check if a <b>key exists in a dictionary</b>, and not if a value exists (at least, not in a quick and efficient manner).\n",
    "\n",
    "</div>"
   ]
  },
  {
   "cell_type": "markdown",
   "id": "b46772ca",
   "metadata": {},
   "source": [
    "## Exercise 2"
   ]
  },
  {
   "cell_type": "markdown",
   "id": "98f308ab",
   "metadata": {},
   "source": [
    "### Skeleton"
   ]
  },
  {
   "cell_type": "markdown",
   "id": "af6f77dd",
   "metadata": {},
   "source": [
    "The `populations` dictionary contains the population of several European countries:"
   ]
  },
  {
   "cell_type": "code",
   "execution_count": 32,
   "id": "1ff773de",
   "metadata": {
    "tags": [
     "no-replacement"
    ]
   },
   "outputs": [],
   "source": [
    "populations = {\n",
    "    \"Spain\": 46_733_038,\n",
    "    \"Belgium\": 11_449_656,\n",
    "    \"France\": 67_076_000,\n",
    "    \"Italy\": 60_390_560,\n",
    "    \"Germany\": 83_122_889,\n",
    "}"
   ]
  },
  {
   "cell_type": "markdown",
   "id": "e82b09b3",
   "metadata": {},
   "source": [
    "Check if the population of Belgium is available:"
   ]
  },
  {
   "cell_type": "code",
   "execution_count": 33,
   "id": "8d58dc97",
   "metadata": {},
   "outputs": [
    {
     "data": {
      "text/plain": [
       "True"
      ]
     },
     "execution_count": 33,
     "metadata": {},
     "output_type": "execute_result"
    }
   ],
   "source": [
    "\"Belgium\" in populations"
   ]
  },
  {
   "cell_type": "markdown",
   "id": "555e8249",
   "metadata": {},
   "source": [
    "Check if the population of Greece is available:"
   ]
  },
  {
   "cell_type": "code",
   "execution_count": 34,
   "id": "3b0bdb4f",
   "metadata": {},
   "outputs": [
    {
     "data": {
      "text/plain": [
       "False"
      ]
     },
     "execution_count": 34,
     "metadata": {},
     "output_type": "execute_result"
    }
   ],
   "source": [
    "\"Greece\" in populations"
   ]
  },
  {
   "cell_type": "markdown",
   "id": "16296321",
   "metadata": {},
   "source": [
    "Try to check if a country has a population of 11_449_656:"
   ]
  },
  {
   "cell_type": "code",
   "execution_count": 35,
   "id": "91c6c308",
   "metadata": {},
   "outputs": [
    {
     "ename": "NameError",
     "evalue": "name 'population' is not defined",
     "output_type": "error",
     "traceback": [
      "\u001b[1;31m---------------------------------------------------------------------------\u001b[0m",
      "\u001b[1;31mNameError\u001b[0m                                 Traceback (most recent call last)",
      "\u001b[1;32m<ipython-input-35-3d8adf658c1e>\u001b[0m in \u001b[0;36m<module>\u001b[1;34m\u001b[0m\n\u001b[1;32m----> 1\u001b[1;33m \u001b[1;36m11_449_656\u001b[0m \u001b[1;32min\u001b[0m \u001b[0mpopulation\u001b[0m\u001b[1;33m\u001b[0m\u001b[1;33m\u001b[0m\u001b[0m\n\u001b[0m",
      "\u001b[1;31mNameError\u001b[0m: name 'population' is not defined"
     ]
    }
   ],
   "source": [
    "11_449_656 in population"
   ]
  },
  {
   "cell_type": "markdown",
   "id": "1ccad0cf",
   "metadata": {},
   "source": [
    "## Demo 3: Adding, changing, and deleting items"
   ]
  },
  {
   "cell_type": "code",
   "execution_count": 36,
   "id": "6d4c1410",
   "metadata": {},
   "outputs": [
    {
     "data": {
      "text/plain": [
       "{'Spain': 'Madrid',\n",
       " 'Belgium': 'Brussels',\n",
       " 'France': 'Paris',\n",
       " 'Italy': 'Roma',\n",
       " 'Germany': 'Berlin'}"
      ]
     },
     "execution_count": 36,
     "metadata": {},
     "output_type": "execute_result"
    }
   ],
   "source": [
    "capitals"
   ]
  },
  {
   "cell_type": "markdown",
   "id": "eb94dc6b",
   "metadata": {},
   "source": [
    "Add the value \"Peking\" to the new key \"China\" in the `capitals` dictionary:"
   ]
  },
  {
   "cell_type": "code",
   "execution_count": 37,
   "id": "ec468693",
   "metadata": {},
   "outputs": [],
   "source": [
    "capitals[\"China\"] = \"Peking\""
   ]
  },
  {
   "cell_type": "code",
   "execution_count": 37,
   "id": "dce867d1",
   "metadata": {},
   "outputs": [
    {
     "data": {
      "text/plain": [
       "{'Spain': 'Madrid',\n",
       " 'Belgium': 'Brussels',\n",
       " 'France': 'Paris',\n",
       " 'Italy': 'Roma',\n",
       " 'Germany': 'Berlin',\n",
       " 'China': 'Peking'}"
      ]
     },
     "execution_count": 37,
     "metadata": {},
     "output_type": "execute_result"
    }
   ],
   "source": [
    "capitals"
   ]
  },
  {
   "cell_type": "markdown",
   "id": "5fe3526b",
   "metadata": {},
   "source": [
    "Change the value of the \"China\" key from \"Peking\" to \"Beijing\" in the `capitals` dictionary:"
   ]
  },
  {
   "cell_type": "code",
   "execution_count": 38,
   "id": "e9b8bff9",
   "metadata": {},
   "outputs": [],
   "source": [
    "capitals[\"China\"] = \"Beijing\""
   ]
  },
  {
   "cell_type": "code",
   "execution_count": 39,
   "id": "ffce4de7",
   "metadata": {},
   "outputs": [
    {
     "data": {
      "text/plain": [
       "{'Spain': 'Madrid',\n",
       " 'Belgium': 'Brussels',\n",
       " 'France': 'Paris',\n",
       " 'Italy': 'Roma',\n",
       " 'Germany': 'Berlin',\n",
       " 'China': 'Beijing'}"
      ]
     },
     "execution_count": 39,
     "metadata": {},
     "output_type": "execute_result"
    }
   ],
   "source": [
    "capitals"
   ]
  },
  {
   "cell_type": "markdown",
   "id": "b45c41b7",
   "metadata": {},
   "source": [
    "Remove the key-value pair defined for the \"China\" key in the `capitals` dictionary:"
   ]
  },
  {
   "cell_type": "code",
   "execution_count": 40,
   "id": "e4acabfc",
   "metadata": {},
   "outputs": [],
   "source": [
    "del capitals[\"China\"]"
   ]
  },
  {
   "cell_type": "code",
   "execution_count": 41,
   "id": "ce38d6b1",
   "metadata": {},
   "outputs": [
    {
     "data": {
      "text/plain": [
       "{'Spain': 'Madrid',\n",
       " 'Belgium': 'Brussels',\n",
       " 'France': 'Paris',\n",
       " 'Italy': 'Roma',\n",
       " 'Germany': 'Berlin'}"
      ]
     },
     "execution_count": 41,
     "metadata": {},
     "output_type": "execute_result"
    }
   ],
   "source": [
    "capitals"
   ]
  },
  {
   "cell_type": "markdown",
   "id": "3452f262",
   "metadata": {},
   "source": [
    "<div class=\"alert alert-info\">\n",
    "\n",
    "<b>Note:</b> A given key can only ever have a single value, thus <b>assigning a value to an existing key replaces the old value by the new one</b>.\n",
    "\n",
    "</div>"
   ]
  },
  {
   "cell_type": "markdown",
   "id": "ac41ea50",
   "metadata": {},
   "source": [
    "## Exercise 3"
   ]
  },
  {
   "cell_type": "markdown",
   "id": "a70ca692",
   "metadata": {},
   "source": [
    "### Skeleton"
   ]
  },
  {
   "cell_type": "markdown",
   "id": "f13ba561",
   "metadata": {},
   "source": [
    "The `monarchs` dictionary below has not been updated since 2010, and is very outdated!"
   ]
  },
  {
   "cell_type": "code",
   "execution_count": 42,
   "id": "df182556",
   "metadata": {
    "tags": [
     "no-replacement"
    ]
   },
   "outputs": [],
   "source": [
    "monarchs = {\n",
    "    \"Spain\": \"Juan Carlos I\",\n",
    "    \"Belgium\": \"Albert II\",\n",
    "    \"United Kingdom\": \"Elizabeth II\",\n",
    "    \"Vatican\": \"Benedict XVI\",\n",
    "    \"Sweden\": \"Carl XVI Gustaf\",\n",
    "}"
   ]
  },
  {
   "cell_type": "markdown",
   "id": "fae8c9ff",
   "metadata": {},
   "source": [
    "Update the `monarchs` dictionary, by correcting the monarchs of Spain (\"Felipe VI\"), Belgium (\"Philippe\"), and the Vatican (\"Francis\"):"
   ]
  },
  {
   "cell_type": "code",
   "execution_count": 43,
   "id": "5ae26eaa",
   "metadata": {},
   "outputs": [],
   "source": [
    "monarchs[\"Spain\"] = \"Felipe VI\""
   ]
  },
  {
   "cell_type": "code",
   "execution_count": 44,
   "id": "5f6685a3",
   "metadata": {},
   "outputs": [],
   "source": [
    "monarchs[\"Belgium\"] = \"Phillipe\""
   ]
  },
  {
   "cell_type": "code",
   "execution_count": 45,
   "id": "354405d3",
   "metadata": {},
   "outputs": [],
   "source": [
    "monarchs[\"Vatican\"] = \"Francis\""
   ]
  },
  {
   "cell_type": "code",
   "execution_count": 46,
   "id": "underlying-crisis",
   "metadata": {},
   "outputs": [
    {
     "data": {
      "text/plain": [
       "{'Spain': 'Felipe VI',\n",
       " 'Belgium': 'Phillipe',\n",
       " 'United Kingdom': 'Elizabeth II',\n",
       " 'Vatican': 'Francis',\n",
       " 'Sweden': 'Carl XVI Gustaf'}"
      ]
     },
     "execution_count": 46,
     "metadata": {},
     "output_type": "execute_result"
    }
   ],
   "source": [
    "monarchs"
   ]
  },
  {
   "cell_type": "markdown",
   "id": "a6bc5804",
   "metadata": {},
   "source": [
    "Add the Queen of Denmark (\"Margrethe II\") and the King of Swedemn (\"Carl XVI Gustaf\") to the `monarchs` dictionary:"
   ]
  },
  {
   "cell_type": "code",
   "execution_count": 47,
   "id": "9f125c91",
   "metadata": {},
   "outputs": [],
   "source": [
    "monarchs[\"Denmark\"] = \"Margrethe II\""
   ]
  },
  {
   "cell_type": "code",
   "execution_count": 48,
   "id": "supported-lounge",
   "metadata": {},
   "outputs": [],
   "source": [
    "monarchs[\"Sweden\"] = \"Carl XVI Gustaf\""
   ]
  },
  {
   "cell_type": "code",
   "execution_count": 49,
   "id": "bf8c0f01",
   "metadata": {},
   "outputs": [
    {
     "data": {
      "text/plain": [
       "{'Spain': 'Felipe VI',\n",
       " 'Belgium': 'Phillipe',\n",
       " 'United Kingdom': 'Elizabeth II',\n",
       " 'Vatican': 'Francis',\n",
       " 'Sweden': 'Carl XVI Gustaf',\n",
       " 'Denmark': 'Margrethe II'}"
      ]
     },
     "execution_count": 49,
     "metadata": {},
     "output_type": "execute_result"
    }
   ],
   "source": [
    "monarchs"
   ]
  },
  {
   "cell_type": "markdown",
   "id": "a206b2ff",
   "metadata": {},
   "source": [
    "Remove the Pope from the `monarchs` dictionary:"
   ]
  },
  {
   "cell_type": "code",
   "execution_count": 50,
   "id": "ac40bbe3",
   "metadata": {},
   "outputs": [],
   "source": [
    "del monarchs[\"Vatican\"]"
   ]
  },
  {
   "cell_type": "code",
   "execution_count": 51,
   "id": "solved-monthly",
   "metadata": {},
   "outputs": [
    {
     "data": {
      "text/plain": [
       "{'Spain': 'Felipe VI',\n",
       " 'Belgium': 'Phillipe',\n",
       " 'United Kingdom': 'Elizabeth II',\n",
       " 'Sweden': 'Carl XVI Gustaf',\n",
       " 'Denmark': 'Margrethe II'}"
      ]
     },
     "execution_count": 51,
     "metadata": {},
     "output_type": "execute_result"
    }
   ],
   "source": [
    "monarchs"
   ]
  },
  {
   "cell_type": "markdown",
   "id": "8296f69e",
   "metadata": {},
   "source": [
    "Check the number of key-value pairs in the `monarchs` dictionary:"
   ]
  },
  {
   "cell_type": "code",
   "execution_count": 52,
   "id": "ab6acb2b",
   "metadata": {},
   "outputs": [
    {
     "data": {
      "text/plain": [
       "5"
      ]
     },
     "execution_count": 52,
     "metadata": {},
     "output_type": "execute_result"
    }
   ],
   "source": [
    "len(monarchs)"
   ]
  },
  {
   "cell_type": "markdown",
   "id": "c3a19c5b",
   "metadata": {},
   "source": [
    "## Demo 4: Getting all keys, values, or key-value pairs"
   ]
  },
  {
   "cell_type": "code",
   "execution_count": 53,
   "id": "b85a1916",
   "metadata": {},
   "outputs": [
    {
     "data": {
      "text/plain": [
       "{'Spain': 'Madrid',\n",
       " 'Belgium': 'Brussels',\n",
       " 'France': 'Paris',\n",
       " 'Italy': 'Roma',\n",
       " 'Germany': 'Berlin'}"
      ]
     },
     "execution_count": 53,
     "metadata": {},
     "output_type": "execute_result"
    }
   ],
   "source": [
    "capitals"
   ]
  },
  {
   "cell_type": "markdown",
   "id": "ab1c0873",
   "metadata": {},
   "source": [
    "Get all the keys of the `capitals` dictionary:"
   ]
  },
  {
   "cell_type": "code",
   "execution_count": 54,
   "id": "aa61dba7",
   "metadata": {},
   "outputs": [
    {
     "data": {
      "text/plain": [
       "dict_keys(['Spain', 'Belgium', 'France', 'Italy', 'Germany'])"
      ]
     },
     "execution_count": 54,
     "metadata": {},
     "output_type": "execute_result"
    }
   ],
   "source": [
    "capitals.keys()"
   ]
  },
  {
   "cell_type": "markdown",
   "id": "73073edf",
   "metadata": {},
   "source": [
    "Get all the values of the `capitals` dictionary:"
   ]
  },
  {
   "cell_type": "code",
   "execution_count": 55,
   "id": "7e71c2b3",
   "metadata": {},
   "outputs": [
    {
     "data": {
      "text/plain": [
       "dict_values(['Madrid', 'Brussels', 'Paris', 'Roma', 'Berlin'])"
      ]
     },
     "execution_count": 55,
     "metadata": {},
     "output_type": "execute_result"
    }
   ],
   "source": [
    "capitals.values()"
   ]
  },
  {
   "cell_type": "markdown",
   "id": "486302f2",
   "metadata": {},
   "source": [
    "Get all the key-value pairs of the `capitals` dictionary:"
   ]
  },
  {
   "cell_type": "code",
   "execution_count": 56,
   "id": "1fed843f",
   "metadata": {},
   "outputs": [
    {
     "data": {
      "text/plain": [
       "dict_items([('Spain', 'Madrid'), ('Belgium', 'Brussels'), ('France', 'Paris'), ('Italy', 'Roma'), ('Germany', 'Berlin')])"
      ]
     },
     "execution_count": 56,
     "metadata": {},
     "output_type": "execute_result"
    }
   ],
   "source": [
    "capitals.items()"
   ]
  },
  {
   "cell_type": "markdown",
   "id": "a31db2b1",
   "metadata": {},
   "source": [
    "To manipulate the list-like objects returned, convert them to lists:"
   ]
  },
  {
   "cell_type": "code",
   "execution_count": 57,
   "id": "fad01b3e",
   "metadata": {},
   "outputs": [
    {
     "data": {
      "text/plain": [
       "'Madrid'"
      ]
     },
     "execution_count": 57,
     "metadata": {},
     "output_type": "execute_result"
    }
   ],
   "source": [
    "cities = list(capitals.values())\n",
    "cities[0]"
   ]
  },
  {
   "cell_type": "markdown",
   "id": "e747f0dc",
   "metadata": {},
   "source": [
    "## Exercise 4"
   ]
  },
  {
   "cell_type": "markdown",
   "id": "74495ef0",
   "metadata": {},
   "source": [
    "### Skeleton"
   ]
  },
  {
   "cell_type": "markdown",
   "id": "9aced878",
   "metadata": {
    "tags": [
     "no-replacement"
    ]
   },
   "source": [
    "The `spain` dictionary contains facts about the country:"
   ]
  },
  {
   "cell_type": "code",
   "execution_count": 58,
   "id": "466211b3",
   "metadata": {
    "tags": [
     "no-replacement"
    ]
   },
   "outputs": [
    {
     "data": {
      "text/plain": [
       "{'capital': 'Madrid',\n",
       " 'population': 46733038,\n",
       " 'monarch': 'Felipe VI',\n",
       " 'area': 505990}"
      ]
     },
     "execution_count": 58,
     "metadata": {},
     "output_type": "execute_result"
    }
   ],
   "source": [
    "spain"
   ]
  },
  {
   "cell_type": "markdown",
   "id": "2211537d",
   "metadata": {},
   "source": [
    "Get all the keys of the `spain` dictionary:"
   ]
  },
  {
   "cell_type": "code",
   "execution_count": 59,
   "id": "098cb529",
   "metadata": {},
   "outputs": [
    {
     "data": {
      "text/plain": [
       "dict_keys(['capital', 'population', 'monarch', 'area'])"
      ]
     },
     "execution_count": 59,
     "metadata": {},
     "output_type": "execute_result"
    }
   ],
   "source": [
    "spain.keys()"
   ]
  },
  {
   "cell_type": "markdown",
   "id": "c4773299",
   "metadata": {},
   "source": [
    "Get all the values of the `spain` dictionary:"
   ]
  },
  {
   "cell_type": "code",
   "execution_count": 60,
   "id": "3d6b9f02",
   "metadata": {},
   "outputs": [
    {
     "data": {
      "text/plain": [
       "dict_values(['Madrid', 46733038, 'Felipe VI', 505990])"
      ]
     },
     "execution_count": 60,
     "metadata": {},
     "output_type": "execute_result"
    }
   ],
   "source": [
    "spain.values()"
   ]
  },
  {
   "cell_type": "markdown",
   "id": "18a1f5e7",
   "metadata": {},
   "source": [
    "Get all the key-value pairs of the `spain` dictionary:"
   ]
  },
  {
   "cell_type": "code",
   "execution_count": 61,
   "id": "08af96bb",
   "metadata": {},
   "outputs": [
    {
     "data": {
      "text/plain": [
       "dict_items([('capital', 'Madrid'), ('population', 46733038), ('monarch', 'Felipe VI'), ('area', 505990)])"
      ]
     },
     "execution_count": 61,
     "metadata": {},
     "output_type": "execute_result"
    }
   ],
   "source": [
    "spain.items()"
   ]
  },
  {
   "cell_type": "markdown",
   "id": "89f63eab",
   "metadata": {},
   "source": [
    "## Demo 5: Merging dictionaries"
   ]
  },
  {
   "cell_type": "code",
   "execution_count": 62,
   "id": "fd8d57b4",
   "metadata": {},
   "outputs": [],
   "source": [
    "capitals_europe = {\n",
    "    \"Spain\": \"Madrid\",\n",
    "    \"Belgium\": \"Brussels\",\n",
    "    \"France\": \"Paris\",\n",
    "    \"Italy\": \"Roma\",\n",
    "    \"Germany\": \"Berlin\",\n",
    "}"
   ]
  },
  {
   "cell_type": "code",
   "execution_count": 63,
   "id": "d12a8474",
   "metadata": {},
   "outputs": [],
   "source": [
    "capitals_asia = {\n",
    "    \"Japan\": \"Tokyo\",\n",
    "    \"China\": \"Beijing\",\n",
    "    \"India\": \"New Delhi\",\n",
    "    \"Vietnam\": \"Hanoi\",\n",
    "}"
   ]
  },
  {
   "cell_type": "code",
   "execution_count": 64,
   "id": "4fdb68ab",
   "metadata": {},
   "outputs": [
    {
     "data": {
      "text/plain": [
       "{'Spain': 'Madrid',\n",
       " 'Belgium': 'Brussels',\n",
       " 'France': 'Paris',\n",
       " 'Italy': 'Roma',\n",
       " 'Germany': 'Berlin'}"
      ]
     },
     "execution_count": 64,
     "metadata": {},
     "output_type": "execute_result"
    }
   ],
   "source": [
    "capitals_europe"
   ]
  },
  {
   "cell_type": "code",
   "execution_count": 65,
   "id": "25c385ed",
   "metadata": {},
   "outputs": [
    {
     "data": {
      "text/plain": [
       "{'Japan': 'Tokyo',\n",
       " 'China': 'Beijing',\n",
       " 'India': 'New Delhi',\n",
       " 'Vietnam': 'Hanoi'}"
      ]
     },
     "execution_count": 65,
     "metadata": {},
     "output_type": "execute_result"
    }
   ],
   "source": [
    "capitals_asia"
   ]
  },
  {
   "cell_type": "markdown",
   "id": "72ea7bea",
   "metadata": {},
   "source": [
    "To merge 2 dictionaries, use the merge operator (`|`; available in Python 3.9+):"
   ]
  },
  {
   "cell_type": "code",
   "execution_count": 67,
   "id": "5af7ee1c",
   "metadata": {
    "scrolled": true
   },
   "outputs": [
    {
     "ename": "TypeError",
     "evalue": "unsupported operand type(s) for |: 'dict' and 'dict'",
     "output_type": "error",
     "traceback": [
      "\u001b[1;31m---------------------------------------------------------------------------\u001b[0m",
      "\u001b[1;31mTypeError\u001b[0m                                 Traceback (most recent call last)",
      "\u001b[1;32m<ipython-input-67-627c904dd686>\u001b[0m in \u001b[0;36m<module>\u001b[1;34m\u001b[0m\n\u001b[1;32m----> 1\u001b[1;33m \u001b[0mcapitals_europe\u001b[0m \u001b[1;33m|\u001b[0m \u001b[0mcapitals_asia\u001b[0m\u001b[1;33m\u001b[0m\u001b[1;33m\u001b[0m\u001b[0m\n\u001b[0m",
      "\u001b[1;31mTypeError\u001b[0m: unsupported operand type(s) for |: 'dict' and 'dict'"
     ]
    }
   ],
   "source": [
    "capitals_europe | capitals_asia"
   ]
  },
  {
   "cell_type": "code",
   "execution_count": 69,
   "id": "aggregate-stocks",
   "metadata": {},
   "outputs": [],
   "source": [
    "import sys"
   ]
  },
  {
   "cell_type": "code",
   "execution_count": 70,
   "id": "featured-thumbnail",
   "metadata": {},
   "outputs": [
    {
     "data": {
      "text/plain": [
       "'3.8.5 (default, Sep  3 2020, 21:29:08) [MSC v.1916 64 bit (AMD64)]'"
      ]
     },
     "execution_count": 70,
     "metadata": {},
     "output_type": "execute_result"
    }
   ],
   "source": [
    "sys.version"
   ]
  },
  {
   "cell_type": "markdown",
   "id": "558282fb",
   "metadata": {},
   "source": [
    "<div class=\"alert alert-info\">\n",
    "\n",
    "<b>Note:</b> In previous versions of Python, the <code>{**capitals_europe, **capitals_asia}</code> trick was often used.\n",
    "\n",
    "</div>"
   ]
  },
  {
   "cell_type": "code",
   "execution_count": 71,
   "id": "color-conference",
   "metadata": {},
   "outputs": [
    {
     "data": {
      "text/plain": [
       "{'Spain': 'Madrid',\n",
       " 'Belgium': 'Brussels',\n",
       " 'France': 'Paris',\n",
       " 'Italy': 'Roma',\n",
       " 'Germany': 'Berlin',\n",
       " 'Japan': 'Tokyo',\n",
       " 'China': 'Beijing',\n",
       " 'India': 'New Delhi',\n",
       " 'Vietnam': 'Hanoi'}"
      ]
     },
     "execution_count": 71,
     "metadata": {},
     "output_type": "execute_result"
    }
   ],
   "source": [
    "{**capitals_europe, **capitals_asia}"
   ]
  },
  {
   "cell_type": "markdown",
   "id": "81c6b217",
   "metadata": {},
   "source": [
    "## Exercise 5"
   ]
  },
  {
   "cell_type": "markdown",
   "id": "5c0e788f",
   "metadata": {},
   "source": [
    "### Skeleton"
   ]
  },
  {
   "cell_type": "markdown",
   "id": "30d39f65",
   "metadata": {},
   "source": [
    "The populations of several countries in America and Africa are provided in the following dictionaries:"
   ]
  },
  {
   "cell_type": "code",
   "execution_count": 38,
   "id": "a3fb6fa4",
   "metadata": {
    "tags": [
     "no-replacement"
    ]
   },
   "outputs": [],
   "source": [
    "populations_america = {\n",
    "    \"USA\": 331_449_281,\n",
    "    \"Canada\": 38_048_738,\n",
    "    \"Colombia\": 51_049_498,\n",
    "    \"Costa Rica\": 5_163_038,\n",
    "    \"Chile\": 19_678_363,\n",
    "}"
   ]
  },
  {
   "cell_type": "code",
   "execution_count": 39,
   "id": "572cdb2f",
   "metadata": {
    "tags": [
     "no-replacement"
    ]
   },
   "outputs": [],
   "source": [
    "populations_africa = {\n",
    "    \"South Africa\": 59_622_350,\n",
    "    \"Ethiopia\": 117_876_000,\n",
    "    \"Lesotho\": 2_007_201,\n",
    "}"
   ]
  },
  {
   "cell_type": "raw",
   "id": "730b4dd3",
   "metadata": {},
   "source": [
    "Create a dictionary named `populations` that combines the populations of America and Africa:"
   ]
  },
  {
   "cell_type": "code",
   "execution_count": 40,
   "id": "1cb01212",
   "metadata": {},
   "outputs": [],
   "source": [
    "populations = {**populations_america, **populations_africa}"
   ]
  },
  {
   "cell_type": "code",
   "execution_count": 41,
   "id": "86ddc94f",
   "metadata": {},
   "outputs": [
    {
     "data": {
      "text/plain": [
       "{'USA': 331449281,\n",
       " 'Canada': 38048738,\n",
       " 'Colombia': 51049498,\n",
       " 'Costa Rica': 5163038,\n",
       " 'Chile': 19678363,\n",
       " 'South Africa': 59622350,\n",
       " 'Ethiopia': 117876000,\n",
       " 'Lesotho': 2007201}"
      ]
     },
     "execution_count": 41,
     "metadata": {},
     "output_type": "execute_result"
    }
   ],
   "source": [
    "populations"
   ]
  },
  {
   "cell_type": "markdown",
   "id": "a01c5a67",
   "metadata": {},
   "source": [
    "## Demo 6: Getting values with `.get()`"
   ]
  },
  {
   "cell_type": "code",
   "execution_count": 42,
   "id": "92cd9e6a",
   "metadata": {},
   "outputs": [
    {
     "data": {
      "text/plain": [
       "{'Spain': 'Madrid',\n",
       " 'Belgium': 'Brussels',\n",
       " 'France': 'Paris',\n",
       " 'Italy': 'Roma',\n",
       " 'Germany': 'Berlin',\n",
       " 'China': 'Peking'}"
      ]
     },
     "execution_count": 42,
     "metadata": {},
     "output_type": "execute_result"
    }
   ],
   "source": [
    "capitals"
   ]
  },
  {
   "cell_type": "markdown",
   "id": "27b9e82d",
   "metadata": {},
   "source": [
    "Trying to access a non-existent key (e.g. \"Greece\") raises an error:"
   ]
  },
  {
   "cell_type": "code",
   "execution_count": 43,
   "id": "69798381",
   "metadata": {
    "tags": [
     "raises-error"
    ]
   },
   "outputs": [
    {
     "ename": "KeyError",
     "evalue": "'Greece'",
     "output_type": "error",
     "traceback": [
      "\u001b[1;31m---------------------------------------------------------------------------\u001b[0m",
      "\u001b[1;31mKeyError\u001b[0m                                  Traceback (most recent call last)",
      "\u001b[1;32m<ipython-input-43-dede31e67660>\u001b[0m in \u001b[0;36m<module>\u001b[1;34m\u001b[0m\n\u001b[0;32m      1\u001b[0m \u001b[1;31m# Raises an error, because the \"Greece\" key does not exist in the dictionary:\u001b[0m\u001b[1;33m\u001b[0m\u001b[1;33m\u001b[0m\u001b[1;33m\u001b[0m\u001b[0m\n\u001b[1;32m----> 2\u001b[1;33m \u001b[0mcapitals\u001b[0m\u001b[1;33m[\u001b[0m\u001b[1;34m\"Greece\"\u001b[0m\u001b[1;33m]\u001b[0m\u001b[1;33m\u001b[0m\u001b[1;33m\u001b[0m\u001b[0m\n\u001b[0m",
      "\u001b[1;31mKeyError\u001b[0m: 'Greece'"
     ]
    }
   ],
   "source": [
    "# Raises an error, because the \"Greece\" key does not exist in the dictionary:\n",
    "capitals[\"Greece\"]"
   ]
  },
  {
   "cell_type": "markdown",
   "id": "e1bac72f",
   "metadata": {},
   "source": [
    "However, the error can be avoided by first checking if the key exists:"
   ]
  },
  {
   "cell_type": "code",
   "execution_count": 44,
   "id": "86f3dcba",
   "metadata": {},
   "outputs": [],
   "source": [
    "if \"Greece\" in capitals:\n",
    "    print(capitals[\"Greece\"])"
   ]
  },
  {
   "cell_type": "code",
   "execution_count": 45,
   "id": "8470f628",
   "metadata": {},
   "outputs": [
    {
     "name": "stdout",
     "output_type": "stream",
     "text": [
      "Madrid\n"
     ]
    }
   ],
   "source": [
    "if \"Spain\" in capitals:\n",
    "    print(capitals[\"Spain\"])"
   ]
  },
  {
   "cell_type": "markdown",
   "id": "65a0f439",
   "metadata": {},
   "source": [
    "The `.get()` method is a shortcut to do exactly these two steps together:"
   ]
  },
  {
   "cell_type": "code",
   "execution_count": 46,
   "id": "762d147f",
   "metadata": {},
   "outputs": [],
   "source": [
    "capitals.get(\"Greece\")"
   ]
  },
  {
   "cell_type": "code",
   "execution_count": 47,
   "id": "8a68c960",
   "metadata": {},
   "outputs": [
    {
     "data": {
      "text/plain": [
       "'Madrid'"
      ]
     },
     "execution_count": 47,
     "metadata": {},
     "output_type": "execute_result"
    }
   ],
   "source": [
    "capitals.get(\"Spain\")"
   ]
  },
  {
   "cell_type": "markdown",
   "id": "81052de3",
   "metadata": {},
   "source": [
    "The `.get()` method takes an optional argument to return if the key is not found:"
   ]
  },
  {
   "cell_type": "code",
   "execution_count": 48,
   "id": "454fbdd8",
   "metadata": {},
   "outputs": [
    {
     "data": {
      "text/plain": [
       "'The capital is unknown!'"
      ]
     },
     "execution_count": 48,
     "metadata": {},
     "output_type": "execute_result"
    }
   ],
   "source": [
    "capitals.get(\"Greece\", \"The capital is unknown!\")"
   ]
  },
  {
   "cell_type": "code",
   "execution_count": 49,
   "id": "20e9384b",
   "metadata": {},
   "outputs": [
    {
     "data": {
      "text/plain": [
       "'Madrid'"
      ]
     },
     "execution_count": 49,
     "metadata": {},
     "output_type": "execute_result"
    }
   ],
   "source": [
    "capitals.get(\"Spain\", \"The capital is unknown!\")"
   ]
  },
  {
   "cell_type": "markdown",
   "id": "62887a9a",
   "metadata": {},
   "source": [
    "## Exercise 6"
   ]
  },
  {
   "cell_type": "markdown",
   "id": "30dfe454",
   "metadata": {},
   "source": [
    "### Skeleton"
   ]
  },
  {
   "cell_type": "markdown",
   "id": "be88ae59",
   "metadata": {},
   "source": [
    "The `populations` dictionary contains the population of several European countries:"
   ]
  },
  {
   "cell_type": "code",
   "execution_count": 50,
   "id": "4456b4ca",
   "metadata": {
    "tags": [
     "no-replacement"
    ]
   },
   "outputs": [],
   "source": [
    "populations = {\n",
    "    \"Spain\": 46_733_038,\n",
    "    \"Belgium\": 11_449_656,\n",
    "    \"France\": 67_076_000,\n",
    "    \"Italy\": 60_390_560,\n",
    "    \"Germany\": 83_122_889,\n",
    "}"
   ]
  },
  {
   "cell_type": "markdown",
   "id": "ad3062af",
   "metadata": {},
   "source": [
    "Get the population of Belgium, making sure that no error is raised if the key does not exist:"
   ]
  },
  {
   "cell_type": "code",
   "execution_count": 51,
   "id": "026eaaf0",
   "metadata": {},
   "outputs": [
    {
     "data": {
      "text/plain": [
       "11449656"
      ]
     },
     "execution_count": 51,
     "metadata": {},
     "output_type": "execute_result"
    }
   ],
   "source": [
    "populations.get(\"Belgium\")"
   ]
  },
  {
   "cell_type": "markdown",
   "id": "d2987a25",
   "metadata": {},
   "source": [
    "Get the population of Germany, making sure that no error is raised if the key does not exist:"
   ]
  },
  {
   "cell_type": "code",
   "execution_count": 52,
   "id": "0e979c4d",
   "metadata": {},
   "outputs": [
    {
     "data": {
      "text/plain": [
       "83122889"
      ]
     },
     "execution_count": 52,
     "metadata": {},
     "output_type": "execute_result"
    }
   ],
   "source": [
    "populations.get(\"Germany\")"
   ]
  },
  {
   "cell_type": "markdown",
   "id": "12962327",
   "metadata": {},
   "source": [
    "Get the population of Portugal, making sure that no error is raised if the key does not exist:"
   ]
  },
  {
   "cell_type": "code",
   "execution_count": 53,
   "id": "a6d2eb11",
   "metadata": {},
   "outputs": [],
   "source": [
    "populations.get(\"Portugal\")"
   ]
  },
  {
   "cell_type": "markdown",
   "id": "a8804b17",
   "metadata": {},
   "source": [
    "## Bonus: Dictionary equality"
   ]
  },
  {
   "cell_type": "code",
   "execution_count": 54,
   "id": "284565ba",
   "metadata": {},
   "outputs": [],
   "source": [
    "capitals = {\n",
    "    \"Spain\": \"Madrid\",\n",
    "    \"Belgium\": \"Brussels\",\n",
    "    \"France\": \"Paris\",\n",
    "    \"Italy\": \"Roma\",\n",
    "    \"Greece\": \"Nafplio\",\n",
    "}"
   ]
  },
  {
   "cell_type": "code",
   "execution_count": 55,
   "id": "bcceed51",
   "metadata": {},
   "outputs": [],
   "source": [
    "capitals_alphabetical = {\n",
    "    \"Belgium\": \"Brussels\",\n",
    "    \"France\": \"Paris\",\n",
    "    \"Greece\": \"Nafplio\",\n",
    "    \"Italy\": \"Roma\",\n",
    "    \"Spain\": \"Madrid\",\n",
    "}"
   ]
  },
  {
   "cell_type": "code",
   "execution_count": 56,
   "id": "c6b1d13f",
   "metadata": {},
   "outputs": [
    {
     "data": {
      "text/plain": [
       "True"
      ]
     },
     "execution_count": 56,
     "metadata": {},
     "output_type": "execute_result"
    }
   ],
   "source": [
    "capitals == capitals_alphabetical"
   ]
  },
  {
   "cell_type": "markdown",
   "id": "7360f5b8",
   "metadata": {},
   "source": [
    "<div class=\"alert alert-info\">\n",
    "\n",
    "<b>Note:</b> Two dictionaries are <b>equal if all of their key-value pairs are equal</b>; the insertion order does not matter.\n",
    "\n",
    "</div>"
   ]
  },
  {
   "cell_type": "markdown",
   "id": "c1bb563f",
   "metadata": {},
   "source": [
    "## Bonus: Are dictionaries ordered?"
   ]
  },
  {
   "cell_type": "markdown",
   "id": "241f4a69",
   "metadata": {},
   "source": [
    "* In the traditional definition of computer science, **dictionaries are not ordered**\n",
    "* In Python (version 3.7 and later), **dictionaries remember the insertion order**!"
   ]
  },
  {
   "cell_type": "code",
   "execution_count": 57,
   "id": "cf847c66",
   "metadata": {},
   "outputs": [
    {
     "data": {
      "text/plain": [
       "{'Belgium': 'Brussels',\n",
       " 'France': 'Paris',\n",
       " 'Greece': 'Nafplio',\n",
       " 'Italy': 'Roma',\n",
       " 'Spain': 'Madrid'}"
      ]
     },
     "execution_count": 57,
     "metadata": {},
     "output_type": "execute_result"
    }
   ],
   "source": [
    "capitals_alphabetical"
   ]
  },
  {
   "cell_type": "markdown",
   "id": "fa5d8b6c",
   "metadata": {},
   "source": [
    "**DEMO:** Compare the behaviour of `capitals_alphabetical` in Python 2.7 and Python 3.7+."
   ]
  },
  {
   "cell_type": "markdown",
   "id": "64d3af41",
   "metadata": {},
   "source": [
    "Preserving the insertion order means that new elements get added at the end:"
   ]
  },
  {
   "cell_type": "code",
   "execution_count": 58,
   "id": "06a091d5",
   "metadata": {},
   "outputs": [],
   "source": [
    "capitals[\"Portugal\"] = \"Lisbon\""
   ]
  },
  {
   "cell_type": "code",
   "execution_count": 59,
   "id": "dc07522b",
   "metadata": {},
   "outputs": [
    {
     "data": {
      "text/plain": [
       "{'Spain': 'Madrid',\n",
       " 'Belgium': 'Brussels',\n",
       " 'France': 'Paris',\n",
       " 'Italy': 'Roma',\n",
       " 'Greece': 'Nafplio',\n",
       " 'Portugal': 'Lisbon'}"
      ]
     },
     "execution_count": 59,
     "metadata": {},
     "output_type": "execute_result"
    }
   ],
   "source": [
    "capitals"
   ]
  },
  {
   "cell_type": "markdown",
   "id": "ef3a26b9",
   "metadata": {},
   "source": [
    "Preserving the insertion order means that modified elements keep their spot:"
   ]
  },
  {
   "cell_type": "code",
   "execution_count": 60,
   "id": "ea628cca",
   "metadata": {},
   "outputs": [],
   "source": [
    "capitals[\"Greece\"] = \"Athens\""
   ]
  },
  {
   "cell_type": "code",
   "execution_count": 61,
   "id": "67c73511",
   "metadata": {},
   "outputs": [
    {
     "data": {
      "text/plain": [
       "{'Spain': 'Madrid',\n",
       " 'Belgium': 'Brussels',\n",
       " 'France': 'Paris',\n",
       " 'Italy': 'Roma',\n",
       " 'Greece': 'Athens',\n",
       " 'Portugal': 'Lisbon'}"
      ]
     },
     "execution_count": 61,
     "metadata": {},
     "output_type": "execute_result"
    }
   ],
   "source": [
    "capitals"
   ]
  },
  {
   "cell_type": "markdown",
   "id": "50ac2c9c",
   "metadata": {},
   "source": [
    "<div class=\"alert alert-warning\">\n",
    "\n",
    "<b>Beware:</b> Even though dictionaries remember the insertion order, <b>the order is ignored when comparing dictionaries</b>!\n",
    "\n",
    "</div>"
   ]
  },
  {
   "cell_type": "markdown",
   "id": "a1521517",
   "metadata": {},
   "source": [
    "<div class=\"alert alert-danger\">\n",
    "\n",
    "<b>Warning:</b> Even though dictionaries remember the insertion order, <b>they are not ordered in the sense that indexing is not allowed</b>!\n",
    "\n",
    "</div>"
   ]
  },
  {
   "cell_type": "markdown",
   "id": "9c5e9e47",
   "metadata": {},
   "source": [
    "## Bonus: Restriction on dictionary keys"
   ]
  },
  {
   "cell_type": "markdown",
   "id": "ee28fd2a",
   "metadata": {},
   "source": [
    "Only items that are immutable can be valid dictionary:"
   ]
  },
  {
   "cell_type": "code",
   "execution_count": 62,
   "id": "8b412104",
   "metadata": {},
   "outputs": [],
   "source": [
    "working = {\n",
    "    \"string\": \"strings are immutable\",\n",
    "    99: \"integers are immutable\",\n",
    "    99.0: \"floats are immutable\",\n",
    "    True: \"booleans are immutable\",\n",
    "    None: \"None is immutable\",\n",
    "    (\"Ceuta\", \"Melilla\"): \"tuples are immutable\",\n",
    "}"
   ]
  },
  {
   "cell_type": "code",
   "execution_count": 63,
   "id": "10065138",
   "metadata": {},
   "outputs": [
    {
     "data": {
      "text/plain": [
       "{'string': 'strings are immutable',\n",
       " 99: 'floats are immutable',\n",
       " True: 'booleans are immutable',\n",
       " None: 'None is immutable',\n",
       " ('Ceuta', 'Melilla'): 'tuples are immutable'}"
      ]
     },
     "execution_count": 63,
     "metadata": {},
     "output_type": "execute_result"
    }
   ],
   "source": [
    "working"
   ]
  },
  {
   "cell_type": "code",
   "execution_count": 64,
   "id": "7c2e6c69",
   "metadata": {
    "tags": [
     "raises-error"
    ]
   },
   "outputs": [
    {
     "ename": "TypeError",
     "evalue": "unhashable type: 'list'",
     "output_type": "error",
     "traceback": [
      "\u001b[1;31m---------------------------------------------------------------------------\u001b[0m",
      "\u001b[1;31mTypeError\u001b[0m                                 Traceback (most recent call last)",
      "\u001b[1;32m<ipython-input-64-1d100e2ae229>\u001b[0m in \u001b[0;36m<module>\u001b[1;34m\u001b[0m\n\u001b[0;32m      1\u001b[0m \u001b[1;31m# Raises an error, because lists are mutable:\u001b[0m\u001b[1;33m\u001b[0m\u001b[1;33m\u001b[0m\u001b[1;33m\u001b[0m\u001b[0m\n\u001b[1;32m----> 2\u001b[1;33m failing = {\n\u001b[0m\u001b[0;32m      3\u001b[0m     \u001b[1;33m[\u001b[0m\u001b[1;34m\"Ceuta\"\u001b[0m\u001b[1;33m,\u001b[0m \u001b[1;34m\"Melilla\"\u001b[0m\u001b[1;33m]\u001b[0m\u001b[1;33m:\u001b[0m \u001b[1;34m\"lists are mutable\"\u001b[0m\u001b[1;33m,\u001b[0m\u001b[1;33m\u001b[0m\u001b[1;33m\u001b[0m\u001b[0m\n\u001b[0;32m      4\u001b[0m }\n",
      "\u001b[1;31mTypeError\u001b[0m: unhashable type: 'list'"
     ]
    }
   ],
   "source": [
    "# Raises an error, because lists are mutable:\n",
    "failing = {\n",
    "    [\"Ceuta\", \"Melilla\"]: \"lists are mutable\",\n",
    "}"
   ]
  },
  {
   "cell_type": "code",
   "execution_count": 65,
   "id": "085a2e5d",
   "metadata": {
    "tags": [
     "raises-error"
    ]
   },
   "outputs": [
    {
     "ename": "TypeError",
     "evalue": "unhashable type: 'set'",
     "output_type": "error",
     "traceback": [
      "\u001b[1;31m---------------------------------------------------------------------------\u001b[0m",
      "\u001b[1;31mTypeError\u001b[0m                                 Traceback (most recent call last)",
      "\u001b[1;32m<ipython-input-65-70d264019bf2>\u001b[0m in \u001b[0;36m<module>\u001b[1;34m\u001b[0m\n\u001b[0;32m      1\u001b[0m \u001b[1;31m# Raises an error, because sets are mutable:\u001b[0m\u001b[1;33m\u001b[0m\u001b[1;33m\u001b[0m\u001b[1;33m\u001b[0m\u001b[0m\n\u001b[1;32m----> 2\u001b[1;33m failing = {\n\u001b[0m\u001b[0;32m      3\u001b[0m     \u001b[1;33m{\u001b[0m\u001b[1;34m\"Ceuta\"\u001b[0m\u001b[1;33m,\u001b[0m \u001b[1;34m\"Melilla\"\u001b[0m\u001b[1;33m}\u001b[0m\u001b[1;33m:\u001b[0m \u001b[1;34m\"sets are mutable\"\u001b[0m\u001b[1;33m,\u001b[0m\u001b[1;33m\u001b[0m\u001b[1;33m\u001b[0m\u001b[0m\n\u001b[0;32m      4\u001b[0m }\n",
      "\u001b[1;31mTypeError\u001b[0m: unhashable type: 'set'"
     ]
    }
   ],
   "source": [
    "# Raises an error, because sets are mutable:\n",
    "failing = {\n",
    "    {\"Ceuta\", \"Melilla\"}: \"sets are mutable\",\n",
    "}"
   ]
  },
  {
   "cell_type": "markdown",
   "id": "b267f42b",
   "metadata": {},
   "source": [
    "<div class=\"alert alert-warning\">\n",
    "\n",
    "<b>Beware:</b> Dictionary keys must be immutable!\n",
    "\n",
    "</div>"
   ]
  }
 ],
 "metadata": {
  "kernelspec": {
   "display_name": "Python 3",
   "language": "python",
   "name": "python3"
  },
  "language_info": {
   "codemirror_mode": {
    "name": "ipython",
    "version": 3
   },
   "file_extension": ".py",
   "mimetype": "text/x-python",
   "name": "python",
   "nbconvert_exporter": "python",
   "pygments_lexer": "ipython3",
   "version": "3.8.5"
  }
 },
 "nbformat": 4,
 "nbformat_minor": 5
}
