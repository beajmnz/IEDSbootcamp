{
 "cells": [
  {
   "cell_type": "markdown",
   "id": "49f0eb97",
   "metadata": {},
   "source": [
    "# Data Structures: Sets"
   ]
  },
  {
   "cell_type": "markdown",
   "id": "2e2e4dbe",
   "metadata": {},
   "source": [
    "> A set is an unordered \"bag\" of unique values."
   ]
  },
  {
   "cell_type": "markdown",
   "id": "c113a25a",
   "metadata": {},
   "source": [
    "## Creation"
   ]
  },
  {
   "cell_type": "code",
   "execution_count": null,
   "id": "c77d0c71",
   "metadata": {},
   "outputs": [],
   "source": [
    "girls = {\"Andrea\", \"Sofia\", \"Lucia\", \"Maria\"}"
   ]
  },
  {
   "cell_type": "code",
   "execution_count": null,
   "id": "3718691e",
   "metadata": {},
   "outputs": [],
   "source": [
    "girls"
   ]
  },
  {
   "cell_type": "code",
   "execution_count": null,
   "id": "870ad3af",
   "metadata": {},
   "outputs": [],
   "source": [
    "boys = {\"Andrea\", \"Hugo\", \"Martin\"}"
   ]
  },
  {
   "cell_type": "code",
   "execution_count": null,
   "id": "8f7bc70c",
   "metadata": {},
   "outputs": [],
   "source": [
    "boys"
   ]
  },
  {
   "cell_type": "markdown",
   "id": "a23dbb32",
   "metadata": {},
   "source": [
    "Items can never be repeated in a set, and Python ensures that is always the case:"
   ]
  },
  {
   "cell_type": "code",
   "execution_count": null,
   "id": "17668a1c",
   "metadata": {},
   "outputs": [],
   "source": [
    "boys = {\"Andrea\", \"Hugo\", \"Martin\", \"Martin\", \"Martin\"}"
   ]
  },
  {
   "cell_type": "code",
   "execution_count": null,
   "id": "9593c479",
   "metadata": {},
   "outputs": [],
   "source": [
    "boys"
   ]
  },
  {
   "cell_type": "markdown",
   "id": "245fe0e0",
   "metadata": {},
   "source": [
    "To create an empty set, use the `set()` function, and **not** empty curly braces (`{}`):"
   ]
  },
  {
   "cell_type": "code",
   "execution_count": null,
   "id": "0714ed22",
   "metadata": {},
   "outputs": [],
   "source": [
    "empty_set = set()"
   ]
  },
  {
   "cell_type": "markdown",
   "id": "50abb8e4",
   "metadata": {},
   "source": [
    "<div class=\"alert alert-warning\">\n",
    "\n",
    "<b>Beware:</b> To create an empty set, use the <code>set()</code> function\n",
    "\n",
    "</div>"
   ]
  },
  {
   "cell_type": "markdown",
   "id": "1f1ef78e",
   "metadata": {},
   "source": [
    "Note that an empty set is represented by `set()`, and **not** by empty curly braces (`{}`):"
   ]
  },
  {
   "cell_type": "code",
   "execution_count": null,
   "id": "6bfd2d0e",
   "metadata": {},
   "outputs": [],
   "source": [
    "empty_set"
   ]
  },
  {
   "cell_type": "markdown",
   "id": "3cd0e335",
   "metadata": {},
   "source": [
    "<div class=\"alert alert-warning\">\n",
    "\n",
    "<b>Beware:</b> An empty set is represented by <code>set()</code>, and not by empty curly braces\n",
    "\n",
    "</div>"
   ]
  },
  {
   "cell_type": "markdown",
   "id": "a48c8ee3",
   "metadata": {},
   "source": [
    "<div class=\"alert alert-info\">\n",
    "\n",
    "<b>Note:</b> Sets can contain arbitrary objects, including a mix of data types (e.g. strings and numbers), other sets, or any other data structures.\n",
    "\n",
    "</div>"
   ]
  },
  {
   "cell_type": "markdown",
   "id": "bb6edc20",
   "metadata": {},
   "source": [
    "## Type"
   ]
  },
  {
   "cell_type": "code",
   "execution_count": null,
   "id": "a2f8db42",
   "metadata": {},
   "outputs": [],
   "source": [
    "type(girls)"
   ]
  },
  {
   "cell_type": "code",
   "execution_count": null,
   "id": "723ee93d",
   "metadata": {},
   "outputs": [],
   "source": [
    "type(boys)"
   ]
  },
  {
   "cell_type": "code",
   "execution_count": null,
   "id": "92226c9e",
   "metadata": {},
   "outputs": [],
   "source": [
    "type(empty_set)"
   ]
  },
  {
   "cell_type": "markdown",
   "id": "2d02778b",
   "metadata": {},
   "source": [
    "## Conversion"
   ]
  },
  {
   "cell_type": "markdown",
   "id": "49b6155c",
   "metadata": {},
   "source": [
    "### From lists"
   ]
  },
  {
   "cell_type": "code",
   "execution_count": null,
   "id": "429da00c",
   "metadata": {},
   "outputs": [],
   "source": [
    "habsburgs = [\"Philip\", \"Charles\", \"Philip\", \"Philip\", \"Philip\", \"Charles\"]"
   ]
  },
  {
   "cell_type": "code",
   "execution_count": null,
   "id": "76ebc9e2",
   "metadata": {},
   "outputs": [],
   "source": [
    "type(habsburgs)"
   ]
  },
  {
   "cell_type": "code",
   "execution_count": null,
   "id": "4988af6d",
   "metadata": {},
   "outputs": [],
   "source": [
    "len(habsburgs)"
   ]
  },
  {
   "cell_type": "code",
   "execution_count": null,
   "id": "0d278f22",
   "metadata": {},
   "outputs": [],
   "source": [
    "set(habsburgs)"
   ]
  },
  {
   "cell_type": "code",
   "execution_count": null,
   "id": "6c4fdf17",
   "metadata": {},
   "outputs": [],
   "source": [
    "kings = set(habsburgs)"
   ]
  },
  {
   "cell_type": "code",
   "execution_count": null,
   "id": "58105ca9",
   "metadata": {},
   "outputs": [],
   "source": [
    "kings"
   ]
  },
  {
   "cell_type": "code",
   "execution_count": null,
   "id": "d1ba8d9f",
   "metadata": {},
   "outputs": [],
   "source": [
    "type(kings)"
   ]
  },
  {
   "cell_type": "code",
   "execution_count": null,
   "id": "dc9be826",
   "metadata": {},
   "outputs": [],
   "source": [
    "len(kings)"
   ]
  },
  {
   "cell_type": "markdown",
   "id": "fe0498fe",
   "metadata": {},
   "source": [
    "## Length"
   ]
  },
  {
   "cell_type": "code",
   "execution_count": null,
   "id": "9076d26e",
   "metadata": {},
   "outputs": [],
   "source": [
    "len(boys)"
   ]
  },
  {
   "cell_type": "code",
   "execution_count": null,
   "id": "c9ed08bc",
   "metadata": {},
   "outputs": [],
   "source": [
    "len(girls)"
   ]
  },
  {
   "cell_type": "code",
   "execution_count": null,
   "id": "afdb0295",
   "metadata": {},
   "outputs": [],
   "source": [
    "len(empty_set)"
   ]
  },
  {
   "cell_type": "markdown",
   "id": "9e2a14b4",
   "metadata": {},
   "source": [
    "## Differences with lists"
   ]
  },
  {
   "cell_type": "markdown",
   "id": "57ed73bd",
   "metadata": {},
   "source": [
    "The following operations are not allowed for sets:\n",
    "* Indexing\n",
    "* Slicing\n",
    "* `.count()` and `.index()`\n",
    "* Sorting\n",
    "* ..."
   ]
  },
  {
   "cell_type": "markdown",
   "id": "a16046e1",
   "metadata": {},
   "source": [
    "## Demo 1: Searching for items"
   ]
  },
  {
   "cell_type": "code",
   "execution_count": null,
   "id": "d3c8d0ac",
   "metadata": {},
   "outputs": [],
   "source": [
    "girls"
   ]
  },
  {
   "cell_type": "code",
   "execution_count": null,
   "id": "3516cf12",
   "metadata": {},
   "outputs": [],
   "source": [
    "\"Carla\" in girls"
   ]
  },
  {
   "cell_type": "code",
   "execution_count": null,
   "id": "efc335fa",
   "metadata": {},
   "outputs": [],
   "source": [
    "\"Lucia\" in girls"
   ]
  },
  {
   "cell_type": "markdown",
   "id": "2509b863",
   "metadata": {},
   "source": [
    "## Exercise 1"
   ]
  },
  {
   "cell_type": "markdown",
   "id": "ed063ba1",
   "metadata": {},
   "source": [
    "### Skeleton"
   ]
  },
  {
   "cell_type": "code",
   "execution_count": null,
   "id": "4594082b",
   "metadata": {
    "tags": [
     "no-replacement"
    ]
   },
   "outputs": [],
   "source": [
    "data_scientist_skills = {\"Python\", \"Git\", \"SQL\", \"R\", \"Tableau\", \"SAS\"}"
   ]
  },
  {
   "cell_type": "markdown",
   "id": "2ff099ba",
   "metadata": {},
   "source": [
    "Check if Python is one of skills of a Data Scientist:"
   ]
  },
  {
   "cell_type": "code",
   "execution_count": null,
   "id": "085b3f2d",
   "metadata": {},
   "outputs": [],
   "source": []
  },
  {
   "cell_type": "markdown",
   "id": "2f03e056",
   "metadata": {},
   "source": [
    "Check if Java is one of skills of a Data Scientist:"
   ]
  },
  {
   "cell_type": "code",
   "execution_count": null,
   "id": "327ff0bc",
   "metadata": {},
   "outputs": [],
   "source": []
  },
  {
   "cell_type": "markdown",
   "id": "16294f95",
   "metadata": {},
   "source": [
    "## Demo 2: Adding items"
   ]
  },
  {
   "cell_type": "code",
   "execution_count": null,
   "id": "82ce753a",
   "metadata": {},
   "outputs": [],
   "source": [
    "girls"
   ]
  },
  {
   "cell_type": "code",
   "execution_count": null,
   "id": "f7935967",
   "metadata": {},
   "outputs": [],
   "source": [
    "len(girls)"
   ]
  },
  {
   "cell_type": "markdown",
   "id": "1155822f",
   "metadata": {},
   "source": [
    "To `add()` a single item to the set:"
   ]
  },
  {
   "cell_type": "code",
   "execution_count": null,
   "id": "417f37a7",
   "metadata": {},
   "outputs": [],
   "source": [
    "girls.add(\"Emma\")"
   ]
  },
  {
   "cell_type": "code",
   "execution_count": null,
   "id": "92493136",
   "metadata": {},
   "outputs": [],
   "source": [
    "girls"
   ]
  },
  {
   "cell_type": "code",
   "execution_count": null,
   "id": "27fe663b",
   "metadata": {},
   "outputs": [],
   "source": [
    "len(girls)"
   ]
  },
  {
   "cell_type": "markdown",
   "id": "e852a725",
   "metadata": {},
   "source": [
    "Adding an item that already exists in the set has no effect:"
   ]
  },
  {
   "cell_type": "code",
   "execution_count": null,
   "id": "89641816",
   "metadata": {},
   "outputs": [],
   "source": [
    "girls.add(\"Emma\")"
   ]
  },
  {
   "cell_type": "code",
   "execution_count": null,
   "id": "b8a53410",
   "metadata": {},
   "outputs": [],
   "source": [
    "girls"
   ]
  },
  {
   "cell_type": "code",
   "execution_count": null,
   "id": "f1f49baf",
   "metadata": {},
   "outputs": [],
   "source": [
    "len(girls)"
   ]
  },
  {
   "cell_type": "markdown",
   "id": "d448004b",
   "metadata": {},
   "source": [
    "To `update()` the set with multiple items:"
   ]
  },
  {
   "cell_type": "code",
   "execution_count": null,
   "id": "0aee4d20",
   "metadata": {},
   "outputs": [],
   "source": [
    "girls.update([\"Alba\", \"Sara\", \"Carmen\"])"
   ]
  },
  {
   "cell_type": "code",
   "execution_count": null,
   "id": "7567b890",
   "metadata": {},
   "outputs": [],
   "source": [
    "girls"
   ]
  },
  {
   "cell_type": "code",
   "execution_count": null,
   "id": "24daaa99",
   "metadata": {},
   "outputs": [],
   "source": [
    "len(girls)"
   ]
  },
  {
   "cell_type": "markdown",
   "id": "27c2e11c",
   "metadata": {},
   "source": [
    "## Exercise 2"
   ]
  },
  {
   "cell_type": "markdown",
   "id": "3c11a40a",
   "metadata": {},
   "source": [
    "### Skeleton"
   ]
  },
  {
   "cell_type": "code",
   "execution_count": null,
   "id": "62ae2aa4",
   "metadata": {
    "tags": [
     "no-replacement"
    ]
   },
   "outputs": [],
   "source": [
    "data_scientist_skills = {\"Python\", \"Git\", \"SQL\", \"R\", \"Tableau\", \"SAS\"}"
   ]
  },
  {
   "cell_type": "markdown",
   "id": "c1734adf",
   "metadata": {},
   "source": [
    "Add Pandas to the skills of a Data Scientist:"
   ]
  },
  {
   "cell_type": "code",
   "execution_count": null,
   "id": "bcf056ed",
   "metadata": {},
   "outputs": [],
   "source": []
  },
  {
   "cell_type": "code",
   "execution_count": null,
   "id": "91b9a048",
   "metadata": {},
   "outputs": [],
   "source": []
  },
  {
   "cell_type": "markdown",
   "id": "74c5ac8d",
   "metadata": {},
   "source": [
    "Check the number of elements in the set:"
   ]
  },
  {
   "cell_type": "code",
   "execution_count": null,
   "id": "1e6042ad",
   "metadata": {},
   "outputs": [],
   "source": []
  },
  {
   "cell_type": "markdown",
   "id": "b44f9e48",
   "metadata": {},
   "source": [
    "Add Python to the skills of a Data Scientist:"
   ]
  },
  {
   "cell_type": "code",
   "execution_count": null,
   "id": "63b75e59",
   "metadata": {},
   "outputs": [],
   "source": []
  },
  {
   "cell_type": "code",
   "execution_count": null,
   "id": "136afa8f",
   "metadata": {},
   "outputs": [],
   "source": []
  },
  {
   "cell_type": "markdown",
   "id": "8fb0b4d4",
   "metadata": {},
   "source": [
    "Check the number of elements in the set:"
   ]
  },
  {
   "cell_type": "code",
   "execution_count": null,
   "id": "fec09bbe",
   "metadata": {},
   "outputs": [],
   "source": []
  },
  {
   "cell_type": "markdown",
   "id": "c489bf15",
   "metadata": {},
   "source": [
    "Add Scikit-learn and Seaborn to the skills of a Data Scientist:"
   ]
  },
  {
   "cell_type": "code",
   "execution_count": null,
   "id": "81f0d866",
   "metadata": {},
   "outputs": [],
   "source": []
  },
  {
   "cell_type": "code",
   "execution_count": null,
   "id": "78ae1eed",
   "metadata": {},
   "outputs": [],
   "source": []
  },
  {
   "cell_type": "markdown",
   "id": "f387bfd8",
   "metadata": {},
   "source": [
    "Check the number of elements in the set:"
   ]
  },
  {
   "cell_type": "code",
   "execution_count": null,
   "id": "51a40dd0",
   "metadata": {},
   "outputs": [],
   "source": []
  },
  {
   "cell_type": "markdown",
   "id": "6506dd3a",
   "metadata": {},
   "source": [
    "## Demo 3: Removing items"
   ]
  },
  {
   "cell_type": "code",
   "execution_count": null,
   "id": "b915e089",
   "metadata": {},
   "outputs": [],
   "source": [
    "girls = {\"Andrea\", \"Sofia\", \"Lucia\", \"Maria\"}"
   ]
  },
  {
   "cell_type": "code",
   "execution_count": null,
   "id": "a0ef8e4f",
   "metadata": {},
   "outputs": [],
   "source": [
    "girls"
   ]
  },
  {
   "cell_type": "markdown",
   "id": "c0934e34",
   "metadata": {},
   "source": [
    "To get rid of an item from the set, use either `discard()` or `remove()`:"
   ]
  },
  {
   "cell_type": "code",
   "execution_count": null,
   "id": "81cf9497",
   "metadata": {},
   "outputs": [],
   "source": [
    "girls.discard(\"Lucia\")"
   ]
  },
  {
   "cell_type": "code",
   "execution_count": null,
   "id": "68c69bb1",
   "metadata": {},
   "outputs": [],
   "source": [
    "girls"
   ]
  },
  {
   "cell_type": "code",
   "execution_count": null,
   "id": "5d9a1270",
   "metadata": {},
   "outputs": [],
   "source": [
    "girls.discard(\"Maria\")"
   ]
  },
  {
   "cell_type": "code",
   "execution_count": null,
   "id": "f7cd9ecb",
   "metadata": {},
   "outputs": [],
   "source": [
    "girls"
   ]
  },
  {
   "cell_type": "markdown",
   "id": "4600f5e2",
   "metadata": {},
   "source": [
    "The difference is that when attempting to remove a non-existent item from the set, `remove()` raises an error but not `discard()`:"
   ]
  },
  {
   "cell_type": "code",
   "execution_count": null,
   "id": "ad390e4c",
   "metadata": {},
   "outputs": [],
   "source": [
    "girls.discard(\"Lucia\")"
   ]
  },
  {
   "cell_type": "code",
   "execution_count": null,
   "id": "f875c4fa",
   "metadata": {},
   "outputs": [],
   "source": [
    "girls"
   ]
  },
  {
   "cell_type": "code",
   "execution_count": null,
   "id": "96a1f682",
   "metadata": {
    "tags": [
     "raises-error"
    ]
   },
   "outputs": [],
   "source": [
    "# Raises an error, because Emma is no longer present in the set:\n",
    "girls.remove(\"Lucia\")"
   ]
  },
  {
   "cell_type": "markdown",
   "id": "17700118",
   "metadata": {},
   "source": [
    "## Exercise 3"
   ]
  },
  {
   "cell_type": "markdown",
   "id": "0bd1ed3e",
   "metadata": {},
   "source": [
    "### Skeleton"
   ]
  },
  {
   "cell_type": "code",
   "execution_count": null,
   "id": "27459ad0",
   "metadata": {
    "tags": [
     "no-replacement"
    ]
   },
   "outputs": [],
   "source": [
    "data_scientist_skills = {\"Python\", \"Git\", \"SQL\", \"R\", \"Tableau\", \"SAS\"}"
   ]
  },
  {
   "cell_type": "markdown",
   "id": "f8acac07",
   "metadata": {},
   "source": [
    "Remove SAS from the skills of a Data Scientist:"
   ]
  },
  {
   "cell_type": "code",
   "execution_count": null,
   "id": "017ecb87",
   "metadata": {},
   "outputs": [],
   "source": []
  },
  {
   "cell_type": "code",
   "execution_count": null,
   "id": "e382b70b",
   "metadata": {},
   "outputs": [],
   "source": []
  },
  {
   "cell_type": "markdown",
   "id": "f6fb5543",
   "metadata": {},
   "source": [
    "Check the number of elements in the set:"
   ]
  },
  {
   "cell_type": "code",
   "execution_count": null,
   "id": "554966bd",
   "metadata": {},
   "outputs": [],
   "source": []
  },
  {
   "cell_type": "markdown",
   "id": "fbc53056",
   "metadata": {},
   "source": [
    "Remove Java from the skills of a Data Scientist, ensuring that no error is raised if it is not in present:"
   ]
  },
  {
   "cell_type": "code",
   "execution_count": null,
   "id": "85fc85a2",
   "metadata": {},
   "outputs": [],
   "source": []
  },
  {
   "cell_type": "code",
   "execution_count": null,
   "id": "bfc8401b",
   "metadata": {},
   "outputs": [],
   "source": []
  },
  {
   "cell_type": "markdown",
   "id": "011a8b57",
   "metadata": {},
   "source": [
    "Check the number of elements in the set:"
   ]
  },
  {
   "cell_type": "code",
   "execution_count": null,
   "id": "5369041d",
   "metadata": {},
   "outputs": [],
   "source": []
  },
  {
   "cell_type": "markdown",
   "id": "ce8d33b6",
   "metadata": {},
   "source": [
    "## Demo 4: Set operations"
   ]
  },
  {
   "cell_type": "code",
   "execution_count": null,
   "id": "e718114e",
   "metadata": {},
   "outputs": [],
   "source": [
    "girls = {\"Andrea\", \"Sofia\", \"Lucia\", \"Maria\"}\n",
    "boys = {\"Andrea\", \"Hugo\", \"Martin\"}"
   ]
  },
  {
   "cell_type": "markdown",
   "id": "c75051d1",
   "metadata": {},
   "source": [
    "### Intersection"
   ]
  },
  {
   "cell_type": "markdown",
   "id": "f87d325c",
   "metadata": {},
   "source": [
    "To get the intersection between two sets (i.e. elements that belong to both sets):"
   ]
  },
  {
   "cell_type": "code",
   "execution_count": null,
   "id": "2af9419f",
   "metadata": {},
   "outputs": [],
   "source": [
    "girls.intersection(boys)"
   ]
  },
  {
   "cell_type": "code",
   "execution_count": null,
   "id": "bac2cacc",
   "metadata": {},
   "outputs": [],
   "source": [
    "len(girls.intersection(boys))"
   ]
  },
  {
   "cell_type": "markdown",
   "id": "6e6b6ac7",
   "metadata": {},
   "source": [
    "This operation is symmetric:"
   ]
  },
  {
   "cell_type": "code",
   "execution_count": null,
   "id": "ce175ee4",
   "metadata": {},
   "outputs": [],
   "source": [
    "boys.intersection(girls)"
   ]
  },
  {
   "cell_type": "markdown",
   "id": "dd4252f3",
   "metadata": {},
   "source": [
    "An alternative notation to get the intersection between two sets:"
   ]
  },
  {
   "cell_type": "code",
   "execution_count": null,
   "id": "2a944494",
   "metadata": {},
   "outputs": [],
   "source": [
    "girls & boys"
   ]
  },
  {
   "cell_type": "markdown",
   "id": "627d0021",
   "metadata": {},
   "source": [
    "Note that this notation requires both operands to be sets, while the `.intersection()` only requires the first one to be a set:"
   ]
  },
  {
   "cell_type": "code",
   "execution_count": null,
   "id": "efe9f6d2",
   "metadata": {},
   "outputs": [],
   "source": [
    "girls.intersection(list(boys))"
   ]
  },
  {
   "cell_type": "code",
   "execution_count": null,
   "id": "c1face54",
   "metadata": {
    "tags": [
     "raises-error"
    ]
   },
   "outputs": [],
   "source": [
    "# Raises an error, because both parts must be sets:\n",
    "girls & list(boys)"
   ]
  },
  {
   "cell_type": "markdown",
   "id": "d00b93b3",
   "metadata": {},
   "source": [
    "<div class=\"alert alert-warning\">\n",
    "\n",
    "<b>Beware:</b> The <code>&</code> notation for set intersection requires both operands to be sets\n",
    "\n",
    "</div>"
   ]
  },
  {
   "cell_type": "markdown",
   "id": "0fd2c5cd",
   "metadata": {},
   "source": [
    "### Union"
   ]
  },
  {
   "cell_type": "markdown",
   "id": "2e4f3a1b",
   "metadata": {},
   "source": [
    "To get the union between two sets (i.e. elements that belong to either sets, or to both):"
   ]
  },
  {
   "cell_type": "code",
   "execution_count": null,
   "id": "21f21652",
   "metadata": {},
   "outputs": [],
   "source": [
    "girls.union(boys)"
   ]
  },
  {
   "cell_type": "code",
   "execution_count": null,
   "id": "b9b22176",
   "metadata": {},
   "outputs": [],
   "source": [
    "len(girls.union(boys))"
   ]
  },
  {
   "cell_type": "markdown",
   "id": "e22d6bd8",
   "metadata": {},
   "source": [
    "This operation is symmetric:"
   ]
  },
  {
   "cell_type": "code",
   "execution_count": null,
   "id": "2cdd5ae9",
   "metadata": {},
   "outputs": [],
   "source": [
    "boys.union(girls)"
   ]
  },
  {
   "cell_type": "markdown",
   "id": "2d483fcb",
   "metadata": {},
   "source": [
    "An alternative notation to get the intersection between two sets:"
   ]
  },
  {
   "cell_type": "code",
   "execution_count": null,
   "id": "03a7c531",
   "metadata": {},
   "outputs": [],
   "source": [
    "girls | boys"
   ]
  },
  {
   "cell_type": "markdown",
   "id": "a79d8318",
   "metadata": {},
   "source": [
    "<div class=\"alert alert-warning\">\n",
    "\n",
    "<b>Beware:</b> The <code>|</code> notation for set union requires both operands to be sets\n",
    "\n",
    "</div>"
   ]
  },
  {
   "cell_type": "markdown",
   "id": "fa2b3dcf",
   "metadata": {},
   "source": [
    "### Difference"
   ]
  },
  {
   "cell_type": "markdown",
   "id": "42081df1",
   "metadata": {},
   "source": [
    "To get the difference between two sets (i.e. elements that belong to one set but not to the other):"
   ]
  },
  {
   "cell_type": "code",
   "execution_count": null,
   "id": "a6d44e1b",
   "metadata": {},
   "outputs": [],
   "source": [
    "girls.difference(boys)"
   ]
  },
  {
   "cell_type": "code",
   "execution_count": null,
   "id": "cd9396a1",
   "metadata": {},
   "outputs": [],
   "source": [
    "len(girls.difference(boys))"
   ]
  },
  {
   "cell_type": "markdown",
   "id": "06100927",
   "metadata": {},
   "source": [
    "This operation is **not** symmetric:"
   ]
  },
  {
   "cell_type": "code",
   "execution_count": null,
   "id": "fe4ad364",
   "metadata": {},
   "outputs": [],
   "source": [
    "boys.difference(girls)"
   ]
  },
  {
   "cell_type": "markdown",
   "id": "7dad6dbb",
   "metadata": {},
   "source": [
    "An alternative notation to get the difference between two sets:"
   ]
  },
  {
   "cell_type": "code",
   "execution_count": null,
   "id": "236c54cf",
   "metadata": {},
   "outputs": [],
   "source": [
    "girls - boys"
   ]
  },
  {
   "cell_type": "markdown",
   "id": "759a02a2",
   "metadata": {},
   "source": [
    "<div class=\"alert alert-warning\">\n",
    "\n",
    "<b>Beware:</b> The <code>-</code> notation for set difference requires both operands to be sets\n",
    "\n",
    "</div>"
   ]
  },
  {
   "cell_type": "markdown",
   "id": "ccfe6999",
   "metadata": {},
   "source": [
    "### Symmetric difference"
   ]
  },
  {
   "cell_type": "markdown",
   "id": "49a14c3e",
   "metadata": {},
   "source": [
    "To get the symmetric difference between two sets (i.e. elements that belong to either set, but not to both):"
   ]
  },
  {
   "cell_type": "code",
   "execution_count": null,
   "id": "c2592b26",
   "metadata": {},
   "outputs": [],
   "source": [
    "girls.symmetric_difference(boys)"
   ]
  },
  {
   "cell_type": "code",
   "execution_count": null,
   "id": "959ff648",
   "metadata": {},
   "outputs": [],
   "source": [
    "len(girls.symmetric_difference(boys))"
   ]
  },
  {
   "cell_type": "markdown",
   "id": "6940a8e9",
   "metadata": {},
   "source": [
    "This operation is symmetric:"
   ]
  },
  {
   "cell_type": "code",
   "execution_count": null,
   "id": "e518c332",
   "metadata": {},
   "outputs": [],
   "source": [
    "boys.symmetric_difference(girls)"
   ]
  },
  {
   "cell_type": "markdown",
   "id": "64365a0b",
   "metadata": {},
   "source": [
    "This operation is equivalent to the union of both set differences:"
   ]
  },
  {
   "cell_type": "code",
   "execution_count": null,
   "id": "93128591",
   "metadata": {},
   "outputs": [],
   "source": [
    "boys - girls"
   ]
  },
  {
   "cell_type": "code",
   "execution_count": null,
   "id": "f17e9dc6",
   "metadata": {},
   "outputs": [],
   "source": [
    "girls - boys"
   ]
  },
  {
   "cell_type": "code",
   "execution_count": null,
   "id": "e26fa35c",
   "metadata": {},
   "outputs": [],
   "source": [
    "(boys - girls) | (girls - boys)"
   ]
  },
  {
   "cell_type": "markdown",
   "id": "00c8b16b",
   "metadata": {},
   "source": [
    "An alternative notation to get the intersection between two sets:"
   ]
  },
  {
   "cell_type": "code",
   "execution_count": null,
   "id": "6e65be7a",
   "metadata": {},
   "outputs": [],
   "source": [
    "girls ^ boys"
   ]
  },
  {
   "cell_type": "markdown",
   "id": "63393716",
   "metadata": {},
   "source": [
    "<div class=\"alert alert-warning\">\n",
    "\n",
    "<b>Beware:</b> The <code>^</code> notation for set symmetric difference requires both operands to be sets\n",
    "\n",
    "</div>"
   ]
  },
  {
   "cell_type": "markdown",
   "id": "a8cbde3d",
   "metadata": {},
   "source": [
    "## Exercise 4"
   ]
  },
  {
   "cell_type": "markdown",
   "id": "b2658ddc",
   "metadata": {},
   "source": [
    "### Skeleton"
   ]
  },
  {
   "cell_type": "code",
   "execution_count": null,
   "id": "a0621d52",
   "metadata": {
    "tags": [
     "no-replacement"
    ]
   },
   "outputs": [],
   "source": [
    "data_scientist_skills = {\"Python\", \"Git\", \"SQL\", \"R\", \"Tableau\", \"SAS\"}\n",
    "data_engineer_skills = {\"Python\", \"Git\", \"SQL\", \"Java\", \"Scala\", \"Hadoop\"}"
   ]
  },
  {
   "cell_type": "markdown",
   "id": "1c73c5bd",
   "metadata": {},
   "source": [
    "Get the intersection between the skills of a Data Scientist and the skills of a Data Engineer:"
   ]
  },
  {
   "cell_type": "code",
   "execution_count": null,
   "id": "69cfbb9c",
   "metadata": {},
   "outputs": [],
   "source": []
  },
  {
   "cell_type": "markdown",
   "id": "71d23679",
   "metadata": {},
   "source": [
    "Get the union between the skills of a Data Scientist and the skills of a Data Engineer:"
   ]
  },
  {
   "cell_type": "code",
   "execution_count": null,
   "id": "7c089294",
   "metadata": {},
   "outputs": [],
   "source": []
  },
  {
   "cell_type": "markdown",
   "id": "d5d4d415",
   "metadata": {},
   "source": [
    "Get the difference between the skills of a Data Scientist and the skills of a Data Engineer:"
   ]
  },
  {
   "cell_type": "code",
   "execution_count": null,
   "id": "5a8cddcb",
   "metadata": {},
   "outputs": [],
   "source": []
  },
  {
   "cell_type": "markdown",
   "id": "8dc0f29f",
   "metadata": {},
   "source": [
    "Get the difference between the skills of a Data Engineer and the skills of a Data Scientist:"
   ]
  },
  {
   "cell_type": "code",
   "execution_count": null,
   "id": "90f5731b",
   "metadata": {},
   "outputs": [],
   "source": []
  },
  {
   "cell_type": "markdown",
   "id": "c0d78bb7",
   "metadata": {},
   "source": [
    "Get the symmetric difference between the skills of a Data Scientist and the skills of a Data Engineer:"
   ]
  },
  {
   "cell_type": "code",
   "execution_count": null,
   "id": "7ac16a77",
   "metadata": {},
   "outputs": [],
   "source": []
  },
  {
   "cell_type": "markdown",
   "id": "343d091c",
   "metadata": {},
   "source": [
    "## Demo 5: Set operations"
   ]
  },
  {
   "cell_type": "code",
   "execution_count": null,
   "id": "556caa32",
   "metadata": {},
   "outputs": [],
   "source": [
    "students = {\"Alice\", \"Bob\", \"Carol\", \"Dennis\"}\n",
    "teachers = {\"Pablo\", \"Ivan\", \"JC\"}\n",
    "strangers = {\"Snoopy\", \"Garfield\"}"
   ]
  },
  {
   "cell_type": "markdown",
   "id": "aad37ba6",
   "metadata": {},
   "source": [
    "Create a set with everyone who should have access to the IE:"
   ]
  },
  {
   "cell_type": "code",
   "execution_count": null,
   "id": "285cdabf",
   "metadata": {},
   "outputs": [],
   "source": [
    "ie = students | teachers"
   ]
  },
  {
   "cell_type": "code",
   "execution_count": null,
   "id": "c6b9f6a6",
   "metadata": {},
   "outputs": [],
   "source": [
    "ie"
   ]
  },
  {
   "cell_type": "markdown",
   "id": "41c0a772",
   "metadata": {},
   "source": [
    "### Subsets"
   ]
  },
  {
   "cell_type": "markdown",
   "id": "02ae6eb8",
   "metadata": {},
   "source": [
    "To check if the students are a subset of IE:"
   ]
  },
  {
   "cell_type": "code",
   "execution_count": null,
   "id": "265c7fa5",
   "metadata": {},
   "outputs": [],
   "source": [
    "students.issubset(ie)"
   ]
  },
  {
   "cell_type": "markdown",
   "id": "51b93dfc",
   "metadata": {},
   "source": [
    "To check if the strangers are a subset of IE:"
   ]
  },
  {
   "cell_type": "code",
   "execution_count": null,
   "id": "3b07ae93",
   "metadata": {},
   "outputs": [],
   "source": [
    "strangers.issubset(ie)"
   ]
  },
  {
   "cell_type": "markdown",
   "id": "8c7cee5c",
   "metadata": {},
   "source": [
    "### Supersets"
   ]
  },
  {
   "cell_type": "markdown",
   "id": "c5d08e5c",
   "metadata": {},
   "source": [
    "To check if the IE is a superset of the teachers:"
   ]
  },
  {
   "cell_type": "code",
   "execution_count": null,
   "id": "7cce26c6",
   "metadata": {},
   "outputs": [],
   "source": [
    "ie.issuperset(teachers)"
   ]
  },
  {
   "cell_type": "markdown",
   "id": "0c4d9a1b",
   "metadata": {},
   "source": [
    "To check if the IE is a superset of the strangers:"
   ]
  },
  {
   "cell_type": "code",
   "execution_count": null,
   "id": "f3fb9bdd",
   "metadata": {},
   "outputs": [],
   "source": [
    "ie.issuperset(strangers)"
   ]
  },
  {
   "cell_type": "markdown",
   "id": "e29df167",
   "metadata": {},
   "source": [
    "## Exercise 5"
   ]
  },
  {
   "cell_type": "markdown",
   "id": "92cb1102",
   "metadata": {},
   "source": [
    "### Skeleton"
   ]
  },
  {
   "cell_type": "code",
   "execution_count": null,
   "id": "734050ff",
   "metadata": {
    "tags": [
     "no-replacement"
    ]
   },
   "outputs": [],
   "source": [
    "data_scientist_skills = {\"Python\", \"Git\", \"SQL\", \"R\", \"Tableau\", \"SAS\"}\n",
    "skills_alba = {\"Python\", \"Git\", \"Tableau\"}\n",
    "skills_bea = {\"Python\", \"Java\", \"Scala\"}"
   ]
  },
  {
   "cell_type": "markdown",
   "id": "641d4601",
   "metadata": {},
   "source": [
    "Check if all of Alba's skills are relevant to be a Data Scientist:"
   ]
  },
  {
   "cell_type": "code",
   "execution_count": null,
   "id": "9e0fe442",
   "metadata": {},
   "outputs": [],
   "source": []
  },
  {
   "cell_type": "markdown",
   "id": "ab627952",
   "metadata": {},
   "source": [
    "Check if all of Bea's skills are relevant to be a Data Scientist:"
   ]
  },
  {
   "cell_type": "code",
   "execution_count": null,
   "id": "31e0f897",
   "metadata": {},
   "outputs": [],
   "source": []
  },
  {
   "cell_type": "markdown",
   "id": "7425e253",
   "metadata": {},
   "source": [
    "Check which of Bea's skills are useful for a Data Scientist:"
   ]
  },
  {
   "cell_type": "code",
   "execution_count": null,
   "id": "75ec3325",
   "metadata": {},
   "outputs": [],
   "source": []
  }
 ],
 "metadata": {
  "kernelspec": {
   "display_name": "Python 3",
   "language": "python",
   "name": "python3"
  },
  "language_info": {
   "codemirror_mode": {
    "name": "ipython",
    "version": 3
   },
   "file_extension": ".py",
   "mimetype": "text/x-python",
   "name": "python",
   "nbconvert_exporter": "python",
   "pygments_lexer": "ipython3",
   "version": "3.9.2"
  }
 },
 "nbformat": 4,
 "nbformat_minor": 5
}
