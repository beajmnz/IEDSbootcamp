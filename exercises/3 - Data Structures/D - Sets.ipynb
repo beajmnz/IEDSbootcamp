{
 "cells": [
  {
   "cell_type": "markdown",
   "id": "49f0eb97",
   "metadata": {},
   "source": [
    "# Data Structures: Sets"
   ]
  },
  {
   "cell_type": "markdown",
   "id": "2e2e4dbe",
   "metadata": {},
   "source": [
    "> A set is an unordered \"bag\" of unique values."
   ]
  },
  {
   "cell_type": "markdown",
   "id": "c113a25a",
   "metadata": {},
   "source": [
    "## Creation"
   ]
  },
  {
   "cell_type": "code",
   "execution_count": 1,
   "id": "c77d0c71",
   "metadata": {},
   "outputs": [],
   "source": [
    "girls = {\"Andrea\", \"Sofia\", \"Lucia\", \"Maria\"}"
   ]
  },
  {
   "cell_type": "code",
   "execution_count": 2,
   "id": "3718691e",
   "metadata": {},
   "outputs": [
    {
     "data": {
      "text/plain": [
       "{'Andrea', 'Lucia', 'Maria', 'Sofia'}"
      ]
     },
     "execution_count": 2,
     "metadata": {},
     "output_type": "execute_result"
    }
   ],
   "source": [
    "girls"
   ]
  },
  {
   "cell_type": "code",
   "execution_count": 3,
   "id": "870ad3af",
   "metadata": {},
   "outputs": [],
   "source": [
    "boys = {\"Andrea\", \"Hugo\", \"Martin\"}"
   ]
  },
  {
   "cell_type": "code",
   "execution_count": 4,
   "id": "8f7bc70c",
   "metadata": {},
   "outputs": [
    {
     "data": {
      "text/plain": [
       "{'Andrea', 'Hugo', 'Martin'}"
      ]
     },
     "execution_count": 4,
     "metadata": {},
     "output_type": "execute_result"
    }
   ],
   "source": [
    "boys"
   ]
  },
  {
   "cell_type": "markdown",
   "id": "a23dbb32",
   "metadata": {},
   "source": [
    "Items can never be repeated in a set, and Python ensures that is always the case:"
   ]
  },
  {
   "cell_type": "code",
   "execution_count": 5,
   "id": "17668a1c",
   "metadata": {},
   "outputs": [],
   "source": [
    "boys = {\"Andrea\", \"Hugo\", \"Martin\", \"Martin\", \"Martin\"}"
   ]
  },
  {
   "cell_type": "code",
   "execution_count": 6,
   "id": "9593c479",
   "metadata": {},
   "outputs": [
    {
     "data": {
      "text/plain": [
       "{'Andrea', 'Hugo', 'Martin'}"
      ]
     },
     "execution_count": 6,
     "metadata": {},
     "output_type": "execute_result"
    }
   ],
   "source": [
    "boys"
   ]
  },
  {
   "cell_type": "markdown",
   "id": "245fe0e0",
   "metadata": {},
   "source": [
    "To create an empty set, use the `set()` function, and **not** empty curly braces (`{}`):"
   ]
  },
  {
   "cell_type": "code",
   "execution_count": 7,
   "id": "0714ed22",
   "metadata": {},
   "outputs": [],
   "source": [
    "empty_set = set()"
   ]
  },
  {
   "cell_type": "markdown",
   "id": "50abb8e4",
   "metadata": {},
   "source": [
    "<div class=\"alert alert-warning\">\n",
    "\n",
    "<b>Beware:</b> To create an empty set, use the <code>set()</code> function\n",
    "\n",
    "</div>"
   ]
  },
  {
   "cell_type": "markdown",
   "id": "1f1ef78e",
   "metadata": {},
   "source": [
    "Note that an empty set is represented by `set()`, and **not** by empty curly braces (`{}`):"
   ]
  },
  {
   "cell_type": "code",
   "execution_count": 8,
   "id": "6bfd2d0e",
   "metadata": {},
   "outputs": [
    {
     "data": {
      "text/plain": [
       "set()"
      ]
     },
     "execution_count": 8,
     "metadata": {},
     "output_type": "execute_result"
    }
   ],
   "source": [
    "empty_set"
   ]
  },
  {
   "cell_type": "markdown",
   "id": "3cd0e335",
   "metadata": {},
   "source": [
    "<div class=\"alert alert-warning\">\n",
    "\n",
    "<b>Beware:</b> An empty set is represented by <code>set()</code>, and not by empty curly braces\n",
    "\n",
    "</div>"
   ]
  },
  {
   "cell_type": "markdown",
   "id": "a48c8ee3",
   "metadata": {},
   "source": [
    "<div class=\"alert alert-info\">\n",
    "\n",
    "<b>Note:</b> Sets can contain arbitrary objects, including a mix of data types (e.g. strings and numbers), other sets, or any other data structures.\n",
    "\n",
    "</div>"
   ]
  },
  {
   "cell_type": "markdown",
   "id": "bb6edc20",
   "metadata": {},
   "source": [
    "## Type"
   ]
  },
  {
   "cell_type": "code",
   "execution_count": 9,
   "id": "a2f8db42",
   "metadata": {},
   "outputs": [
    {
     "data": {
      "text/plain": [
       "set"
      ]
     },
     "execution_count": 9,
     "metadata": {},
     "output_type": "execute_result"
    }
   ],
   "source": [
    "type(girls)"
   ]
  },
  {
   "cell_type": "code",
   "execution_count": 10,
   "id": "723ee93d",
   "metadata": {},
   "outputs": [
    {
     "data": {
      "text/plain": [
       "set"
      ]
     },
     "execution_count": 10,
     "metadata": {},
     "output_type": "execute_result"
    }
   ],
   "source": [
    "type(boys)"
   ]
  },
  {
   "cell_type": "code",
   "execution_count": 11,
   "id": "92226c9e",
   "metadata": {},
   "outputs": [
    {
     "data": {
      "text/plain": [
       "set"
      ]
     },
     "execution_count": 11,
     "metadata": {},
     "output_type": "execute_result"
    }
   ],
   "source": [
    "type(empty_set)"
   ]
  },
  {
   "cell_type": "markdown",
   "id": "2d02778b",
   "metadata": {},
   "source": [
    "## Conversion"
   ]
  },
  {
   "cell_type": "markdown",
   "id": "49b6155c",
   "metadata": {},
   "source": [
    "### From lists"
   ]
  },
  {
   "cell_type": "code",
   "execution_count": 12,
   "id": "429da00c",
   "metadata": {},
   "outputs": [],
   "source": [
    "habsburgs = [\"Philip\", \"Charles\", \"Philip\", \"Philip\", \"Philip\", \"Charles\"]"
   ]
  },
  {
   "cell_type": "code",
   "execution_count": 13,
   "id": "76ebc9e2",
   "metadata": {},
   "outputs": [
    {
     "data": {
      "text/plain": [
       "list"
      ]
     },
     "execution_count": 13,
     "metadata": {},
     "output_type": "execute_result"
    }
   ],
   "source": [
    "type(habsburgs)"
   ]
  },
  {
   "cell_type": "code",
   "execution_count": 14,
   "id": "4988af6d",
   "metadata": {},
   "outputs": [
    {
     "data": {
      "text/plain": [
       "6"
      ]
     },
     "execution_count": 14,
     "metadata": {},
     "output_type": "execute_result"
    }
   ],
   "source": [
    "len(habsburgs)"
   ]
  },
  {
   "cell_type": "code",
   "execution_count": 15,
   "id": "0d278f22",
   "metadata": {},
   "outputs": [
    {
     "data": {
      "text/plain": [
       "{'Charles', 'Philip'}"
      ]
     },
     "execution_count": 15,
     "metadata": {},
     "output_type": "execute_result"
    }
   ],
   "source": [
    "set(habsburgs)"
   ]
  },
  {
   "cell_type": "code",
   "execution_count": 16,
   "id": "6c4fdf17",
   "metadata": {},
   "outputs": [],
   "source": [
    "kings = set(habsburgs)"
   ]
  },
  {
   "cell_type": "code",
   "execution_count": 17,
   "id": "58105ca9",
   "metadata": {},
   "outputs": [
    {
     "data": {
      "text/plain": [
       "{'Charles', 'Philip'}"
      ]
     },
     "execution_count": 17,
     "metadata": {},
     "output_type": "execute_result"
    }
   ],
   "source": [
    "kings"
   ]
  },
  {
   "cell_type": "code",
   "execution_count": 18,
   "id": "d1ba8d9f",
   "metadata": {},
   "outputs": [
    {
     "data": {
      "text/plain": [
       "set"
      ]
     },
     "execution_count": 18,
     "metadata": {},
     "output_type": "execute_result"
    }
   ],
   "source": [
    "type(kings)"
   ]
  },
  {
   "cell_type": "code",
   "execution_count": 19,
   "id": "dc9be826",
   "metadata": {},
   "outputs": [
    {
     "data": {
      "text/plain": [
       "2"
      ]
     },
     "execution_count": 19,
     "metadata": {},
     "output_type": "execute_result"
    }
   ],
   "source": [
    "len(kings)"
   ]
  },
  {
   "cell_type": "markdown",
   "id": "fe0498fe",
   "metadata": {},
   "source": [
    "## Length"
   ]
  },
  {
   "cell_type": "code",
   "execution_count": 20,
   "id": "9076d26e",
   "metadata": {},
   "outputs": [
    {
     "data": {
      "text/plain": [
       "3"
      ]
     },
     "execution_count": 20,
     "metadata": {},
     "output_type": "execute_result"
    }
   ],
   "source": [
    "len(boys)"
   ]
  },
  {
   "cell_type": "code",
   "execution_count": 21,
   "id": "c9ed08bc",
   "metadata": {},
   "outputs": [
    {
     "data": {
      "text/plain": [
       "4"
      ]
     },
     "execution_count": 21,
     "metadata": {},
     "output_type": "execute_result"
    }
   ],
   "source": [
    "len(girls)"
   ]
  },
  {
   "cell_type": "code",
   "execution_count": 22,
   "id": "afdb0295",
   "metadata": {},
   "outputs": [
    {
     "data": {
      "text/plain": [
       "0"
      ]
     },
     "execution_count": 22,
     "metadata": {},
     "output_type": "execute_result"
    }
   ],
   "source": [
    "len(empty_set)"
   ]
  },
  {
   "cell_type": "markdown",
   "id": "9e2a14b4",
   "metadata": {},
   "source": [
    "## Differences with lists"
   ]
  },
  {
   "cell_type": "markdown",
   "id": "57ed73bd",
   "metadata": {},
   "source": [
    "The following operations are not allowed for sets:\n",
    "* Indexing\n",
    "* Slicing\n",
    "* `.count()` and `.index()`\n",
    "* Sorting\n",
    "* ..."
   ]
  },
  {
   "cell_type": "markdown",
   "id": "a16046e1",
   "metadata": {},
   "source": [
    "## Demo 1: Searching for items"
   ]
  },
  {
   "cell_type": "code",
   "execution_count": 23,
   "id": "d3c8d0ac",
   "metadata": {},
   "outputs": [
    {
     "data": {
      "text/plain": [
       "{'Andrea', 'Lucia', 'Maria', 'Sofia'}"
      ]
     },
     "execution_count": 23,
     "metadata": {},
     "output_type": "execute_result"
    }
   ],
   "source": [
    "girls"
   ]
  },
  {
   "cell_type": "code",
   "execution_count": 24,
   "id": "3516cf12",
   "metadata": {},
   "outputs": [
    {
     "data": {
      "text/plain": [
       "False"
      ]
     },
     "execution_count": 24,
     "metadata": {},
     "output_type": "execute_result"
    }
   ],
   "source": [
    "\"Carla\" in girls"
   ]
  },
  {
   "cell_type": "code",
   "execution_count": 25,
   "id": "efc335fa",
   "metadata": {},
   "outputs": [
    {
     "data": {
      "text/plain": [
       "True"
      ]
     },
     "execution_count": 25,
     "metadata": {},
     "output_type": "execute_result"
    }
   ],
   "source": [
    "\"Lucia\" in girls"
   ]
  },
  {
   "cell_type": "markdown",
   "id": "2509b863",
   "metadata": {},
   "source": [
    "## Exercise 1"
   ]
  },
  {
   "cell_type": "markdown",
   "id": "ed063ba1",
   "metadata": {},
   "source": [
    "### Skeleton"
   ]
  },
  {
   "cell_type": "code",
   "execution_count": 26,
   "id": "4594082b",
   "metadata": {
    "tags": [
     "no-replacement"
    ]
   },
   "outputs": [],
   "source": [
    "data_scientist_skills = {\"Python\", \"Git\", \"SQL\", \"R\", \"Tableau\", \"SAS\"}"
   ]
  },
  {
   "cell_type": "markdown",
   "id": "2ff099ba",
   "metadata": {},
   "source": [
    "Check if Python is one of skills of a Data Scientist:"
   ]
  },
  {
   "cell_type": "code",
   "execution_count": 27,
   "id": "085b3f2d",
   "metadata": {},
   "outputs": [
    {
     "data": {
      "text/plain": [
       "True"
      ]
     },
     "execution_count": 27,
     "metadata": {},
     "output_type": "execute_result"
    }
   ],
   "source": [
    "\"Python\" in data_scientist_skills"
   ]
  },
  {
   "cell_type": "markdown",
   "id": "2f03e056",
   "metadata": {},
   "source": [
    "Check if Java is one of skills of a Data Scientist:"
   ]
  },
  {
   "cell_type": "code",
   "execution_count": 28,
   "id": "327ff0bc",
   "metadata": {},
   "outputs": [
    {
     "data": {
      "text/plain": [
       "False"
      ]
     },
     "execution_count": 28,
     "metadata": {},
     "output_type": "execute_result"
    }
   ],
   "source": [
    "\"Java\" in data_scientist_skills"
   ]
  },
  {
   "cell_type": "markdown",
   "id": "16294f95",
   "metadata": {},
   "source": [
    "## Demo 2: Adding items"
   ]
  },
  {
   "cell_type": "code",
   "execution_count": 29,
   "id": "82ce753a",
   "metadata": {},
   "outputs": [
    {
     "data": {
      "text/plain": [
       "{'Andrea', 'Lucia', 'Maria', 'Sofia'}"
      ]
     },
     "execution_count": 29,
     "metadata": {},
     "output_type": "execute_result"
    }
   ],
   "source": [
    "girls"
   ]
  },
  {
   "cell_type": "code",
   "execution_count": 30,
   "id": "f7935967",
   "metadata": {},
   "outputs": [
    {
     "data": {
      "text/plain": [
       "4"
      ]
     },
     "execution_count": 30,
     "metadata": {},
     "output_type": "execute_result"
    }
   ],
   "source": [
    "len(girls)"
   ]
  },
  {
   "cell_type": "markdown",
   "id": "1155822f",
   "metadata": {},
   "source": [
    "To `add()` a single item to the set:"
   ]
  },
  {
   "cell_type": "code",
   "execution_count": 31,
   "id": "417f37a7",
   "metadata": {},
   "outputs": [],
   "source": [
    "girls.add(\"Emma\")"
   ]
  },
  {
   "cell_type": "code",
   "execution_count": 32,
   "id": "92493136",
   "metadata": {},
   "outputs": [
    {
     "data": {
      "text/plain": [
       "{'Andrea', 'Emma', 'Lucia', 'Maria', 'Sofia'}"
      ]
     },
     "execution_count": 32,
     "metadata": {},
     "output_type": "execute_result"
    }
   ],
   "source": [
    "girls"
   ]
  },
  {
   "cell_type": "code",
   "execution_count": 33,
   "id": "27fe663b",
   "metadata": {},
   "outputs": [
    {
     "data": {
      "text/plain": [
       "5"
      ]
     },
     "execution_count": 33,
     "metadata": {},
     "output_type": "execute_result"
    }
   ],
   "source": [
    "len(girls)"
   ]
  },
  {
   "cell_type": "markdown",
   "id": "e852a725",
   "metadata": {},
   "source": [
    "Adding an item that already exists in the set has no effect:"
   ]
  },
  {
   "cell_type": "code",
   "execution_count": 34,
   "id": "89641816",
   "metadata": {},
   "outputs": [],
   "source": [
    "girls.add(\"Emma\")"
   ]
  },
  {
   "cell_type": "code",
   "execution_count": 35,
   "id": "b8a53410",
   "metadata": {},
   "outputs": [
    {
     "data": {
      "text/plain": [
       "{'Andrea', 'Emma', 'Lucia', 'Maria', 'Sofia'}"
      ]
     },
     "execution_count": 35,
     "metadata": {},
     "output_type": "execute_result"
    }
   ],
   "source": [
    "girls"
   ]
  },
  {
   "cell_type": "code",
   "execution_count": 36,
   "id": "f1f49baf",
   "metadata": {},
   "outputs": [
    {
     "data": {
      "text/plain": [
       "5"
      ]
     },
     "execution_count": 36,
     "metadata": {},
     "output_type": "execute_result"
    }
   ],
   "source": [
    "len(girls)"
   ]
  },
  {
   "cell_type": "markdown",
   "id": "d448004b",
   "metadata": {},
   "source": [
    "To `update()` the set with multiple items:"
   ]
  },
  {
   "cell_type": "code",
   "execution_count": 37,
   "id": "0aee4d20",
   "metadata": {},
   "outputs": [],
   "source": [
    "girls.update([\"Alba\", \"Sara\", \"Carmen\"])"
   ]
  },
  {
   "cell_type": "code",
   "execution_count": 38,
   "id": "7567b890",
   "metadata": {},
   "outputs": [
    {
     "data": {
      "text/plain": [
       "{'Alba', 'Andrea', 'Carmen', 'Emma', 'Lucia', 'Maria', 'Sara', 'Sofia'}"
      ]
     },
     "execution_count": 38,
     "metadata": {},
     "output_type": "execute_result"
    }
   ],
   "source": [
    "girls"
   ]
  },
  {
   "cell_type": "code",
   "execution_count": 39,
   "id": "24daaa99",
   "metadata": {},
   "outputs": [
    {
     "data": {
      "text/plain": [
       "8"
      ]
     },
     "execution_count": 39,
     "metadata": {},
     "output_type": "execute_result"
    }
   ],
   "source": [
    "len(girls)"
   ]
  },
  {
   "cell_type": "markdown",
   "id": "27c2e11c",
   "metadata": {},
   "source": [
    "## Exercise 2"
   ]
  },
  {
   "cell_type": "markdown",
   "id": "3c11a40a",
   "metadata": {},
   "source": [
    "### Skeleton"
   ]
  },
  {
   "cell_type": "code",
   "execution_count": 40,
   "id": "62ae2aa4",
   "metadata": {
    "tags": [
     "no-replacement"
    ]
   },
   "outputs": [],
   "source": [
    "data_scientist_skills = {\"Python\", \"Git\", \"SQL\", \"R\", \"Tableau\", \"SAS\"}"
   ]
  },
  {
   "cell_type": "markdown",
   "id": "c1734adf",
   "metadata": {},
   "source": [
    "Add Pandas to the skills of a Data Scientist:"
   ]
  },
  {
   "cell_type": "code",
   "execution_count": 41,
   "id": "bcf056ed",
   "metadata": {},
   "outputs": [],
   "source": [
    "data_scientist_skills.add(\"Pandas\")"
   ]
  },
  {
   "cell_type": "code",
   "execution_count": 42,
   "id": "91b9a048",
   "metadata": {},
   "outputs": [
    {
     "data": {
      "text/plain": [
       "{'Git', 'Pandas', 'Python', 'R', 'SAS', 'SQL', 'Tableau'}"
      ]
     },
     "execution_count": 42,
     "metadata": {},
     "output_type": "execute_result"
    }
   ],
   "source": [
    "data_scientist_skills"
   ]
  },
  {
   "cell_type": "markdown",
   "id": "74c5ac8d",
   "metadata": {},
   "source": [
    "Check the number of elements in the set:"
   ]
  },
  {
   "cell_type": "code",
   "execution_count": 43,
   "id": "1e6042ad",
   "metadata": {},
   "outputs": [
    {
     "data": {
      "text/plain": [
       "7"
      ]
     },
     "execution_count": 43,
     "metadata": {},
     "output_type": "execute_result"
    }
   ],
   "source": [
    "len(data_scientist_skills)"
   ]
  },
  {
   "cell_type": "markdown",
   "id": "b44f9e48",
   "metadata": {},
   "source": [
    "Add Python to the skills of a Data Scientist:"
   ]
  },
  {
   "cell_type": "code",
   "execution_count": 44,
   "id": "63b75e59",
   "metadata": {},
   "outputs": [],
   "source": [
    "data_scientist_skills.add(\"Python\")"
   ]
  },
  {
   "cell_type": "code",
   "execution_count": 45,
   "id": "136afa8f",
   "metadata": {},
   "outputs": [
    {
     "data": {
      "text/plain": [
       "{'Git', 'Pandas', 'Python', 'R', 'SAS', 'SQL', 'Tableau'}"
      ]
     },
     "execution_count": 45,
     "metadata": {},
     "output_type": "execute_result"
    }
   ],
   "source": [
    "data_scientist_skills"
   ]
  },
  {
   "cell_type": "markdown",
   "id": "8fb0b4d4",
   "metadata": {},
   "source": [
    "Check the number of elements in the set:"
   ]
  },
  {
   "cell_type": "code",
   "execution_count": 46,
   "id": "fec09bbe",
   "metadata": {},
   "outputs": [
    {
     "data": {
      "text/plain": [
       "7"
      ]
     },
     "execution_count": 46,
     "metadata": {},
     "output_type": "execute_result"
    }
   ],
   "source": [
    "len(data_scientist_skills)"
   ]
  },
  {
   "cell_type": "markdown",
   "id": "c489bf15",
   "metadata": {},
   "source": [
    "Add Scikit-learn and Seaborn to the skills of a Data Scientist:"
   ]
  },
  {
   "cell_type": "code",
   "execution_count": 47,
   "id": "81f0d866",
   "metadata": {},
   "outputs": [],
   "source": [
    "data_scientist_skills.update([\"Scikit-learn\",\"Seaborn\"])"
   ]
  },
  {
   "cell_type": "code",
   "execution_count": 48,
   "id": "78ae1eed",
   "metadata": {},
   "outputs": [
    {
     "data": {
      "text/plain": [
       "{'Git',\n",
       " 'Pandas',\n",
       " 'Python',\n",
       " 'R',\n",
       " 'SAS',\n",
       " 'SQL',\n",
       " 'Scikit-learn',\n",
       " 'Seaborn',\n",
       " 'Tableau'}"
      ]
     },
     "execution_count": 48,
     "metadata": {},
     "output_type": "execute_result"
    }
   ],
   "source": [
    "data_scientist_skills"
   ]
  },
  {
   "cell_type": "markdown",
   "id": "f387bfd8",
   "metadata": {},
   "source": [
    "Check the number of elements in the set:"
   ]
  },
  {
   "cell_type": "code",
   "execution_count": 49,
   "id": "51a40dd0",
   "metadata": {},
   "outputs": [
    {
     "data": {
      "text/plain": [
       "9"
      ]
     },
     "execution_count": 49,
     "metadata": {},
     "output_type": "execute_result"
    }
   ],
   "source": [
    "len(data_scientist_skills)"
   ]
  },
  {
   "cell_type": "markdown",
   "id": "6506dd3a",
   "metadata": {},
   "source": [
    "## Demo 3: Removing items"
   ]
  },
  {
   "cell_type": "code",
   "execution_count": 50,
   "id": "b915e089",
   "metadata": {},
   "outputs": [],
   "source": [
    "girls = {\"Andrea\", \"Sofia\", \"Lucia\", \"Maria\"}"
   ]
  },
  {
   "cell_type": "code",
   "execution_count": 51,
   "id": "a0ef8e4f",
   "metadata": {},
   "outputs": [
    {
     "data": {
      "text/plain": [
       "{'Andrea', 'Lucia', 'Maria', 'Sofia'}"
      ]
     },
     "execution_count": 51,
     "metadata": {},
     "output_type": "execute_result"
    }
   ],
   "source": [
    "girls"
   ]
  },
  {
   "cell_type": "markdown",
   "id": "c0934e34",
   "metadata": {},
   "source": [
    "To get rid of an item from the set, use either `discard()` or `remove()`:"
   ]
  },
  {
   "cell_type": "code",
   "execution_count": 52,
   "id": "81cf9497",
   "metadata": {},
   "outputs": [],
   "source": [
    "girls.discard(\"Lucia\")"
   ]
  },
  {
   "cell_type": "code",
   "execution_count": 53,
   "id": "68c69bb1",
   "metadata": {},
   "outputs": [
    {
     "data": {
      "text/plain": [
       "{'Andrea', 'Maria', 'Sofia'}"
      ]
     },
     "execution_count": 53,
     "metadata": {},
     "output_type": "execute_result"
    }
   ],
   "source": [
    "girls"
   ]
  },
  {
   "cell_type": "code",
   "execution_count": 54,
   "id": "5d9a1270",
   "metadata": {},
   "outputs": [],
   "source": [
    "girls.discard(\"Maria\")"
   ]
  },
  {
   "cell_type": "code",
   "execution_count": 55,
   "id": "f7cd9ecb",
   "metadata": {},
   "outputs": [
    {
     "data": {
      "text/plain": [
       "{'Andrea', 'Sofia'}"
      ]
     },
     "execution_count": 55,
     "metadata": {},
     "output_type": "execute_result"
    }
   ],
   "source": [
    "girls"
   ]
  },
  {
   "cell_type": "markdown",
   "id": "4600f5e2",
   "metadata": {},
   "source": [
    "The difference is that when attempting to remove a non-existent item from the set, `remove()` raises an error but not `discard()`:"
   ]
  },
  {
   "cell_type": "code",
   "execution_count": 56,
   "id": "ad390e4c",
   "metadata": {},
   "outputs": [],
   "source": [
    "girls.discard(\"Lucia\")"
   ]
  },
  {
   "cell_type": "code",
   "execution_count": 57,
   "id": "f875c4fa",
   "metadata": {},
   "outputs": [
    {
     "data": {
      "text/plain": [
       "{'Andrea', 'Sofia'}"
      ]
     },
     "execution_count": 57,
     "metadata": {},
     "output_type": "execute_result"
    }
   ],
   "source": [
    "girls"
   ]
  },
  {
   "cell_type": "code",
   "execution_count": 58,
   "id": "96a1f682",
   "metadata": {
    "tags": [
     "raises-error"
    ]
   },
   "outputs": [
    {
     "ename": "KeyError",
     "evalue": "'Lucia'",
     "output_type": "error",
     "traceback": [
      "\u001b[1;31m---------------------------------------------------------------------------\u001b[0m",
      "\u001b[1;31mKeyError\u001b[0m                                  Traceback (most recent call last)",
      "\u001b[1;32m<ipython-input-58-a7c823dfe23d>\u001b[0m in \u001b[0;36m<module>\u001b[1;34m\u001b[0m\n\u001b[0;32m      1\u001b[0m \u001b[1;31m# Raises an error, because Emma is no longer present in the set:\u001b[0m\u001b[1;33m\u001b[0m\u001b[1;33m\u001b[0m\u001b[1;33m\u001b[0m\u001b[0m\n\u001b[1;32m----> 2\u001b[1;33m \u001b[0mgirls\u001b[0m\u001b[1;33m.\u001b[0m\u001b[0mremove\u001b[0m\u001b[1;33m(\u001b[0m\u001b[1;34m\"Lucia\"\u001b[0m\u001b[1;33m)\u001b[0m\u001b[1;33m\u001b[0m\u001b[1;33m\u001b[0m\u001b[0m\n\u001b[0m",
      "\u001b[1;31mKeyError\u001b[0m: 'Lucia'"
     ]
    }
   ],
   "source": [
    "# Raises an error, because Emma is no longer present in the set:\n",
    "girls.remove(\"Lucia\")"
   ]
  },
  {
   "cell_type": "markdown",
   "id": "17700118",
   "metadata": {},
   "source": [
    "## Exercise 3"
   ]
  },
  {
   "cell_type": "markdown",
   "id": "0bd1ed3e",
   "metadata": {},
   "source": [
    "### Skeleton"
   ]
  },
  {
   "cell_type": "code",
   "execution_count": 59,
   "id": "27459ad0",
   "metadata": {
    "tags": [
     "no-replacement"
    ]
   },
   "outputs": [],
   "source": [
    "data_scientist_skills = {\"Python\", \"Git\", \"SQL\", \"R\", \"Tableau\", \"SAS\"}"
   ]
  },
  {
   "cell_type": "markdown",
   "id": "f8acac07",
   "metadata": {},
   "source": [
    "Remove SAS from the skills of a Data Scientist:"
   ]
  },
  {
   "cell_type": "code",
   "execution_count": 60,
   "id": "017ecb87",
   "metadata": {},
   "outputs": [],
   "source": [
    "data_scientist_skills.remove(\"SAS\")"
   ]
  },
  {
   "cell_type": "code",
   "execution_count": 61,
   "id": "e382b70b",
   "metadata": {},
   "outputs": [
    {
     "data": {
      "text/plain": [
       "{'Git', 'Python', 'R', 'SQL', 'Tableau'}"
      ]
     },
     "execution_count": 61,
     "metadata": {},
     "output_type": "execute_result"
    }
   ],
   "source": [
    "data_scientist_skills"
   ]
  },
  {
   "cell_type": "markdown",
   "id": "f6fb5543",
   "metadata": {},
   "source": [
    "Check the number of elements in the set:"
   ]
  },
  {
   "cell_type": "code",
   "execution_count": 62,
   "id": "554966bd",
   "metadata": {},
   "outputs": [
    {
     "data": {
      "text/plain": [
       "5"
      ]
     },
     "execution_count": 62,
     "metadata": {},
     "output_type": "execute_result"
    }
   ],
   "source": [
    "len(data_scientist_skills)"
   ]
  },
  {
   "cell_type": "markdown",
   "id": "fbc53056",
   "metadata": {},
   "source": [
    "Remove Java from the skills of a Data Scientist, ensuring that no error is raised if it is not in present:"
   ]
  },
  {
   "cell_type": "code",
   "execution_count": 63,
   "id": "85fc85a2",
   "metadata": {},
   "outputs": [],
   "source": [
    "data_scientist_skills.discard(\"Java\")"
   ]
  },
  {
   "cell_type": "code",
   "execution_count": 64,
   "id": "bfc8401b",
   "metadata": {},
   "outputs": [
    {
     "data": {
      "text/plain": [
       "{'Git', 'Python', 'R', 'SQL', 'Tableau'}"
      ]
     },
     "execution_count": 64,
     "metadata": {},
     "output_type": "execute_result"
    }
   ],
   "source": [
    "data_scientist_skills"
   ]
  },
  {
   "cell_type": "markdown",
   "id": "011a8b57",
   "metadata": {},
   "source": [
    "Check the number of elements in the set:"
   ]
  },
  {
   "cell_type": "code",
   "execution_count": 65,
   "id": "5369041d",
   "metadata": {},
   "outputs": [
    {
     "data": {
      "text/plain": [
       "5"
      ]
     },
     "execution_count": 65,
     "metadata": {},
     "output_type": "execute_result"
    }
   ],
   "source": [
    "len(data_scientist_skills)"
   ]
  },
  {
   "cell_type": "markdown",
   "id": "ce8d33b6",
   "metadata": {},
   "source": [
    "## Demo 4: Set operations"
   ]
  },
  {
   "cell_type": "code",
   "execution_count": 66,
   "id": "e718114e",
   "metadata": {},
   "outputs": [],
   "source": [
    "girls = {\"Andrea\", \"Sofia\", \"Lucia\", \"Maria\"}\n",
    "boys = {\"Andrea\", \"Hugo\", \"Martin\"}"
   ]
  },
  {
   "cell_type": "markdown",
   "id": "c75051d1",
   "metadata": {},
   "source": [
    "### Intersection"
   ]
  },
  {
   "cell_type": "markdown",
   "id": "f87d325c",
   "metadata": {},
   "source": [
    "To get the intersection between two sets (i.e. elements that belong to both sets):"
   ]
  },
  {
   "cell_type": "code",
   "execution_count": 67,
   "id": "2af9419f",
   "metadata": {},
   "outputs": [
    {
     "data": {
      "text/plain": [
       "{'Andrea'}"
      ]
     },
     "execution_count": 67,
     "metadata": {},
     "output_type": "execute_result"
    }
   ],
   "source": [
    "girls.intersection(boys)"
   ]
  },
  {
   "cell_type": "code",
   "execution_count": 68,
   "id": "bac2cacc",
   "metadata": {},
   "outputs": [
    {
     "data": {
      "text/plain": [
       "1"
      ]
     },
     "execution_count": 68,
     "metadata": {},
     "output_type": "execute_result"
    }
   ],
   "source": [
    "len(girls.intersection(boys))"
   ]
  },
  {
   "cell_type": "markdown",
   "id": "6e6b6ac7",
   "metadata": {},
   "source": [
    "This operation is symmetric:"
   ]
  },
  {
   "cell_type": "code",
   "execution_count": 69,
   "id": "ce175ee4",
   "metadata": {},
   "outputs": [
    {
     "data": {
      "text/plain": [
       "{'Andrea'}"
      ]
     },
     "execution_count": 69,
     "metadata": {},
     "output_type": "execute_result"
    }
   ],
   "source": [
    "boys.intersection(girls)"
   ]
  },
  {
   "cell_type": "markdown",
   "id": "dd4252f3",
   "metadata": {},
   "source": [
    "An alternative notation to get the intersection between two sets:"
   ]
  },
  {
   "cell_type": "code",
   "execution_count": 70,
   "id": "2a944494",
   "metadata": {},
   "outputs": [
    {
     "data": {
      "text/plain": [
       "{'Andrea'}"
      ]
     },
     "execution_count": 70,
     "metadata": {},
     "output_type": "execute_result"
    }
   ],
   "source": [
    "girls & boys"
   ]
  },
  {
   "cell_type": "markdown",
   "id": "627d0021",
   "metadata": {},
   "source": [
    "Note that this notation requires both operands to be sets, while the `.intersection()` only requires the first one to be a set:"
   ]
  },
  {
   "cell_type": "code",
   "execution_count": 71,
   "id": "efe9f6d2",
   "metadata": {},
   "outputs": [
    {
     "data": {
      "text/plain": [
       "{'Andrea'}"
      ]
     },
     "execution_count": 71,
     "metadata": {},
     "output_type": "execute_result"
    }
   ],
   "source": [
    "girls.intersection(list(boys))"
   ]
  },
  {
   "cell_type": "code",
   "execution_count": 72,
   "id": "c1face54",
   "metadata": {
    "tags": [
     "raises-error"
    ]
   },
   "outputs": [
    {
     "ename": "TypeError",
     "evalue": "unsupported operand type(s) for &: 'set' and 'list'",
     "output_type": "error",
     "traceback": [
      "\u001b[1;31m---------------------------------------------------------------------------\u001b[0m",
      "\u001b[1;31mTypeError\u001b[0m                                 Traceback (most recent call last)",
      "\u001b[1;32m<ipython-input-72-e69d39866f95>\u001b[0m in \u001b[0;36m<module>\u001b[1;34m\u001b[0m\n\u001b[0;32m      1\u001b[0m \u001b[1;31m# Raises an error, because both parts must be sets:\u001b[0m\u001b[1;33m\u001b[0m\u001b[1;33m\u001b[0m\u001b[1;33m\u001b[0m\u001b[0m\n\u001b[1;32m----> 2\u001b[1;33m \u001b[0mgirls\u001b[0m \u001b[1;33m&\u001b[0m \u001b[0mlist\u001b[0m\u001b[1;33m(\u001b[0m\u001b[0mboys\u001b[0m\u001b[1;33m)\u001b[0m\u001b[1;33m\u001b[0m\u001b[1;33m\u001b[0m\u001b[0m\n\u001b[0m",
      "\u001b[1;31mTypeError\u001b[0m: unsupported operand type(s) for &: 'set' and 'list'"
     ]
    }
   ],
   "source": [
    "# Raises an error, because both parts must be sets:\n",
    "girls & list(boys)"
   ]
  },
  {
   "cell_type": "markdown",
   "id": "d00b93b3",
   "metadata": {},
   "source": [
    "<div class=\"alert alert-warning\">\n",
    "\n",
    "<b>Beware:</b> The <code>&</code> notation for set intersection requires both operands to be sets\n",
    "\n",
    "</div>"
   ]
  },
  {
   "cell_type": "markdown",
   "id": "0fd2c5cd",
   "metadata": {},
   "source": [
    "### Union"
   ]
  },
  {
   "cell_type": "markdown",
   "id": "2e4f3a1b",
   "metadata": {},
   "source": [
    "To get the union between two sets (i.e. elements that belong to either sets, or to both):"
   ]
  },
  {
   "cell_type": "code",
   "execution_count": 73,
   "id": "21f21652",
   "metadata": {},
   "outputs": [
    {
     "data": {
      "text/plain": [
       "{'Andrea', 'Hugo', 'Lucia', 'Maria', 'Martin', 'Sofia'}"
      ]
     },
     "execution_count": 73,
     "metadata": {},
     "output_type": "execute_result"
    }
   ],
   "source": [
    "girls.union(boys)"
   ]
  },
  {
   "cell_type": "code",
   "execution_count": 74,
   "id": "b9b22176",
   "metadata": {},
   "outputs": [
    {
     "data": {
      "text/plain": [
       "6"
      ]
     },
     "execution_count": 74,
     "metadata": {},
     "output_type": "execute_result"
    }
   ],
   "source": [
    "len(girls.union(boys))"
   ]
  },
  {
   "cell_type": "markdown",
   "id": "e22d6bd8",
   "metadata": {},
   "source": [
    "This operation is symmetric:"
   ]
  },
  {
   "cell_type": "code",
   "execution_count": 75,
   "id": "2cdd5ae9",
   "metadata": {},
   "outputs": [
    {
     "data": {
      "text/plain": [
       "{'Andrea', 'Hugo', 'Lucia', 'Maria', 'Martin', 'Sofia'}"
      ]
     },
     "execution_count": 75,
     "metadata": {},
     "output_type": "execute_result"
    }
   ],
   "source": [
    "boys.union(girls)"
   ]
  },
  {
   "cell_type": "markdown",
   "id": "2d483fcb",
   "metadata": {},
   "source": [
    "An alternative notation to get the union between two sets:"
   ]
  },
  {
   "cell_type": "code",
   "execution_count": 76,
   "id": "03a7c531",
   "metadata": {},
   "outputs": [
    {
     "data": {
      "text/plain": [
       "{'Andrea', 'Hugo', 'Lucia', 'Maria', 'Martin', 'Sofia'}"
      ]
     },
     "execution_count": 76,
     "metadata": {},
     "output_type": "execute_result"
    }
   ],
   "source": [
    "girls | boys"
   ]
  },
  {
   "cell_type": "markdown",
   "id": "a79d8318",
   "metadata": {},
   "source": [
    "<div class=\"alert alert-warning\">\n",
    "\n",
    "<b>Beware:</b> The <code>|</code> notation for set union requires both operands to be sets\n",
    "\n",
    "</div>"
   ]
  },
  {
   "cell_type": "markdown",
   "id": "fa2b3dcf",
   "metadata": {},
   "source": [
    "### Difference"
   ]
  },
  {
   "cell_type": "markdown",
   "id": "42081df1",
   "metadata": {},
   "source": [
    "To get the difference between two sets (i.e. elements that belong to one set but not to the other):"
   ]
  },
  {
   "cell_type": "code",
   "execution_count": 77,
   "id": "a6d44e1b",
   "metadata": {},
   "outputs": [
    {
     "data": {
      "text/plain": [
       "{'Lucia', 'Maria', 'Sofia'}"
      ]
     },
     "execution_count": 77,
     "metadata": {},
     "output_type": "execute_result"
    }
   ],
   "source": [
    "girls.difference(boys)"
   ]
  },
  {
   "cell_type": "code",
   "execution_count": 78,
   "id": "cd9396a1",
   "metadata": {},
   "outputs": [
    {
     "data": {
      "text/plain": [
       "3"
      ]
     },
     "execution_count": 78,
     "metadata": {},
     "output_type": "execute_result"
    }
   ],
   "source": [
    "len(girls.difference(boys))"
   ]
  },
  {
   "cell_type": "markdown",
   "id": "06100927",
   "metadata": {},
   "source": [
    "This operation is **not** symmetric:"
   ]
  },
  {
   "cell_type": "code",
   "execution_count": 79,
   "id": "fe4ad364",
   "metadata": {},
   "outputs": [
    {
     "data": {
      "text/plain": [
       "{'Hugo', 'Martin'}"
      ]
     },
     "execution_count": 79,
     "metadata": {},
     "output_type": "execute_result"
    }
   ],
   "source": [
    "boys.difference(girls)"
   ]
  },
  {
   "cell_type": "markdown",
   "id": "7dad6dbb",
   "metadata": {},
   "source": [
    "An alternative notation to get the difference between two sets:"
   ]
  },
  {
   "cell_type": "code",
   "execution_count": 80,
   "id": "236c54cf",
   "metadata": {},
   "outputs": [
    {
     "data": {
      "text/plain": [
       "{'Lucia', 'Maria', 'Sofia'}"
      ]
     },
     "execution_count": 80,
     "metadata": {},
     "output_type": "execute_result"
    }
   ],
   "source": [
    "girls - boys"
   ]
  },
  {
   "cell_type": "markdown",
   "id": "759a02a2",
   "metadata": {},
   "source": [
    "<div class=\"alert alert-warning\">\n",
    "\n",
    "<b>Beware:</b> The <code>-</code> notation for set difference requires both operands to be sets\n",
    "\n",
    "</div>"
   ]
  },
  {
   "cell_type": "markdown",
   "id": "ccfe6999",
   "metadata": {},
   "source": [
    "### Symmetric difference"
   ]
  },
  {
   "cell_type": "markdown",
   "id": "49a14c3e",
   "metadata": {},
   "source": [
    "To get the symmetric difference between two sets (i.e. elements that belong to either set, but not to both):"
   ]
  },
  {
   "cell_type": "code",
   "execution_count": 81,
   "id": "c2592b26",
   "metadata": {},
   "outputs": [
    {
     "data": {
      "text/plain": [
       "{'Hugo', 'Lucia', 'Maria', 'Martin', 'Sofia'}"
      ]
     },
     "execution_count": 81,
     "metadata": {},
     "output_type": "execute_result"
    }
   ],
   "source": [
    "girls.symmetric_difference(boys)"
   ]
  },
  {
   "cell_type": "code",
   "execution_count": 82,
   "id": "959ff648",
   "metadata": {},
   "outputs": [
    {
     "data": {
      "text/plain": [
       "5"
      ]
     },
     "execution_count": 82,
     "metadata": {},
     "output_type": "execute_result"
    }
   ],
   "source": [
    "len(girls.symmetric_difference(boys))"
   ]
  },
  {
   "cell_type": "markdown",
   "id": "6940a8e9",
   "metadata": {},
   "source": [
    "This operation is symmetric:"
   ]
  },
  {
   "cell_type": "code",
   "execution_count": 83,
   "id": "e518c332",
   "metadata": {},
   "outputs": [
    {
     "data": {
      "text/plain": [
       "{'Hugo', 'Lucia', 'Maria', 'Martin', 'Sofia'}"
      ]
     },
     "execution_count": 83,
     "metadata": {},
     "output_type": "execute_result"
    }
   ],
   "source": [
    "boys.symmetric_difference(girls)"
   ]
  },
  {
   "cell_type": "markdown",
   "id": "64365a0b",
   "metadata": {},
   "source": [
    "This operation is equivalent to the union of both set differences:"
   ]
  },
  {
   "cell_type": "code",
   "execution_count": 84,
   "id": "93128591",
   "metadata": {},
   "outputs": [
    {
     "data": {
      "text/plain": [
       "{'Hugo', 'Martin'}"
      ]
     },
     "execution_count": 84,
     "metadata": {},
     "output_type": "execute_result"
    }
   ],
   "source": [
    "boys - girls"
   ]
  },
  {
   "cell_type": "code",
   "execution_count": 85,
   "id": "f17e9dc6",
   "metadata": {},
   "outputs": [
    {
     "data": {
      "text/plain": [
       "{'Lucia', 'Maria', 'Sofia'}"
      ]
     },
     "execution_count": 85,
     "metadata": {},
     "output_type": "execute_result"
    }
   ],
   "source": [
    "girls - boys"
   ]
  },
  {
   "cell_type": "code",
   "execution_count": 86,
   "id": "e26fa35c",
   "metadata": {},
   "outputs": [
    {
     "data": {
      "text/plain": [
       "{'Hugo', 'Lucia', 'Maria', 'Martin', 'Sofia'}"
      ]
     },
     "execution_count": 86,
     "metadata": {},
     "output_type": "execute_result"
    }
   ],
   "source": [
    "(boys - girls) | (girls - boys)"
   ]
  },
  {
   "cell_type": "markdown",
   "id": "00c8b16b",
   "metadata": {},
   "source": [
    "An alternative notation to get the simmetric diference between two sets:"
   ]
  },
  {
   "cell_type": "code",
   "execution_count": 87,
   "id": "6e65be7a",
   "metadata": {},
   "outputs": [
    {
     "data": {
      "text/plain": [
       "{'Hugo', 'Lucia', 'Maria', 'Martin', 'Sofia'}"
      ]
     },
     "execution_count": 87,
     "metadata": {},
     "output_type": "execute_result"
    }
   ],
   "source": [
    "girls ^ boys"
   ]
  },
  {
   "cell_type": "markdown",
   "id": "63393716",
   "metadata": {},
   "source": [
    "<div class=\"alert alert-warning\">\n",
    "\n",
    "<b>Beware:</b> The <code>^</code> notation for set symmetric difference requires both operands to be sets\n",
    "\n",
    "</div>"
   ]
  },
  {
   "cell_type": "markdown",
   "id": "a8cbde3d",
   "metadata": {},
   "source": [
    "## Exercise 4"
   ]
  },
  {
   "cell_type": "markdown",
   "id": "b2658ddc",
   "metadata": {},
   "source": [
    "### Skeleton"
   ]
  },
  {
   "cell_type": "code",
   "execution_count": 88,
   "id": "a0621d52",
   "metadata": {
    "tags": [
     "no-replacement"
    ]
   },
   "outputs": [],
   "source": [
    "data_scientist_skills = {\"Python\", \"Git\", \"SQL\", \"R\", \"Tableau\", \"SAS\"}\n",
    "data_engineer_skills = {\"Python\", \"Git\", \"SQL\", \"Java\", \"Scala\", \"Hadoop\"}"
   ]
  },
  {
   "cell_type": "markdown",
   "id": "1c73c5bd",
   "metadata": {},
   "source": [
    "Get the intersection between the skills of a Data Scientist and the skills of a Data Engineer:"
   ]
  },
  {
   "cell_type": "code",
   "execution_count": 89,
   "id": "69cfbb9c",
   "metadata": {},
   "outputs": [
    {
     "data": {
      "text/plain": [
       "{'Git', 'Python', 'SQL'}"
      ]
     },
     "execution_count": 89,
     "metadata": {},
     "output_type": "execute_result"
    }
   ],
   "source": [
    "data_scientist_skills & data_engineer_skills"
   ]
  },
  {
   "cell_type": "markdown",
   "id": "71d23679",
   "metadata": {},
   "source": [
    "Get the union between the skills of a Data Scientist and the skills of a Data Engineer:"
   ]
  },
  {
   "cell_type": "code",
   "execution_count": 90,
   "id": "7c089294",
   "metadata": {},
   "outputs": [
    {
     "data": {
      "text/plain": [
       "{'Git', 'Hadoop', 'Java', 'Python', 'R', 'SAS', 'SQL', 'Scala', 'Tableau'}"
      ]
     },
     "execution_count": 90,
     "metadata": {},
     "output_type": "execute_result"
    }
   ],
   "source": [
    "data_scientist_skills | data_engineer_skills"
   ]
  },
  {
   "cell_type": "markdown",
   "id": "d5d4d415",
   "metadata": {},
   "source": [
    "Get the difference between the skills of a Data Scientist and the skills of a Data Engineer:"
   ]
  },
  {
   "cell_type": "code",
   "execution_count": 91,
   "id": "5a8cddcb",
   "metadata": {},
   "outputs": [
    {
     "data": {
      "text/plain": [
       "{'R', 'SAS', 'Tableau'}"
      ]
     },
     "execution_count": 91,
     "metadata": {},
     "output_type": "execute_result"
    }
   ],
   "source": [
    "data_scientist_skills - data_engineer_skills"
   ]
  },
  {
   "cell_type": "markdown",
   "id": "8dc0f29f",
   "metadata": {},
   "source": [
    "Get the difference between the skills of a Data Engineer and the skills of a Data Scientist:"
   ]
  },
  {
   "cell_type": "code",
   "execution_count": 92,
   "id": "90f5731b",
   "metadata": {},
   "outputs": [
    {
     "data": {
      "text/plain": [
       "{'Hadoop', 'Java', 'Scala'}"
      ]
     },
     "execution_count": 92,
     "metadata": {},
     "output_type": "execute_result"
    }
   ],
   "source": [
    "data_engineer_skills - data_scientist_skills"
   ]
  },
  {
   "cell_type": "markdown",
   "id": "c0d78bb7",
   "metadata": {},
   "source": [
    "Get the symmetric difference between the skills of a Data Scientist and the skills of a Data Engineer:"
   ]
  },
  {
   "cell_type": "code",
   "execution_count": 93,
   "id": "7ac16a77",
   "metadata": {},
   "outputs": [
    {
     "data": {
      "text/plain": [
       "{'Hadoop', 'Java', 'R', 'SAS', 'Scala', 'Tableau'}"
      ]
     },
     "execution_count": 93,
     "metadata": {},
     "output_type": "execute_result"
    }
   ],
   "source": [
    "data_scientist_skills ^ data_engineer_skills"
   ]
  },
  {
   "cell_type": "markdown",
   "id": "343d091c",
   "metadata": {},
   "source": [
    "## Demo 5: Set operations"
   ]
  },
  {
   "cell_type": "code",
   "execution_count": 94,
   "id": "556caa32",
   "metadata": {},
   "outputs": [],
   "source": [
    "students = {\"Alice\", \"Bob\", \"Carol\", \"Dennis\"}\n",
    "teachers = {\"Pablo\", \"Ivan\", \"JC\"}\n",
    "strangers = {\"Snoopy\", \"Garfield\"}"
   ]
  },
  {
   "cell_type": "markdown",
   "id": "aad37ba6",
   "metadata": {},
   "source": [
    "Create a set with everyone who should have access to the IE:"
   ]
  },
  {
   "cell_type": "code",
   "execution_count": 95,
   "id": "285cdabf",
   "metadata": {},
   "outputs": [],
   "source": [
    "ie = students | teachers"
   ]
  },
  {
   "cell_type": "code",
   "execution_count": 96,
   "id": "c6b9f6a6",
   "metadata": {},
   "outputs": [
    {
     "data": {
      "text/plain": [
       "{'Alice', 'Bob', 'Carol', 'Dennis', 'Ivan', 'JC', 'Pablo'}"
      ]
     },
     "execution_count": 96,
     "metadata": {},
     "output_type": "execute_result"
    }
   ],
   "source": [
    "ie"
   ]
  },
  {
   "cell_type": "markdown",
   "id": "41c0a772",
   "metadata": {},
   "source": [
    "### Subsets"
   ]
  },
  {
   "cell_type": "markdown",
   "id": "02ae6eb8",
   "metadata": {},
   "source": [
    "To check if the students are a subset of IE:"
   ]
  },
  {
   "cell_type": "code",
   "execution_count": 97,
   "id": "265c7fa5",
   "metadata": {},
   "outputs": [
    {
     "data": {
      "text/plain": [
       "True"
      ]
     },
     "execution_count": 97,
     "metadata": {},
     "output_type": "execute_result"
    }
   ],
   "source": [
    "students.issubset(ie)"
   ]
  },
  {
   "cell_type": "markdown",
   "id": "51b93dfc",
   "metadata": {},
   "source": [
    "To check if the strangers are a subset of IE:"
   ]
  },
  {
   "cell_type": "code",
   "execution_count": 98,
   "id": "3b07ae93",
   "metadata": {},
   "outputs": [
    {
     "data": {
      "text/plain": [
       "False"
      ]
     },
     "execution_count": 98,
     "metadata": {},
     "output_type": "execute_result"
    }
   ],
   "source": [
    "strangers.issubset(ie)"
   ]
  },
  {
   "cell_type": "markdown",
   "id": "8c7cee5c",
   "metadata": {},
   "source": [
    "### Supersets"
   ]
  },
  {
   "cell_type": "markdown",
   "id": "c5d08e5c",
   "metadata": {},
   "source": [
    "To check if the IE is a superset of the teachers:"
   ]
  },
  {
   "cell_type": "code",
   "execution_count": 99,
   "id": "7cce26c6",
   "metadata": {},
   "outputs": [
    {
     "data": {
      "text/plain": [
       "True"
      ]
     },
     "execution_count": 99,
     "metadata": {},
     "output_type": "execute_result"
    }
   ],
   "source": [
    "ie.issuperset(teachers)"
   ]
  },
  {
   "cell_type": "markdown",
   "id": "0c4d9a1b",
   "metadata": {},
   "source": [
    "To check if the IE is a superset of the strangers:"
   ]
  },
  {
   "cell_type": "code",
   "execution_count": 100,
   "id": "f3fb9bdd",
   "metadata": {},
   "outputs": [
    {
     "data": {
      "text/plain": [
       "False"
      ]
     },
     "execution_count": 100,
     "metadata": {},
     "output_type": "execute_result"
    }
   ],
   "source": [
    "ie.issuperset(strangers)"
   ]
  },
  {
   "cell_type": "markdown",
   "id": "e29df167",
   "metadata": {},
   "source": [
    "## Exercise 5"
   ]
  },
  {
   "cell_type": "markdown",
   "id": "92cb1102",
   "metadata": {},
   "source": [
    "### Skeleton"
   ]
  },
  {
   "cell_type": "code",
   "execution_count": 102,
   "id": "734050ff",
   "metadata": {
    "tags": [
     "no-replacement"
    ]
   },
   "outputs": [],
   "source": [
    "data_scientist_skills = {\"Python\", \"Git\", \"SQL\", \"R\", \"Tableau\", \"SAS\"}\n",
    "skills_alba = {\"Python\", \"Git\", \"Tableau\"}\n",
    "skills_bea = {\"Python\", \"Java\", \"Scala\"}"
   ]
  },
  {
   "cell_type": "markdown",
   "id": "641d4601",
   "metadata": {},
   "source": [
    "Check if all of Alba's skills are relevant to be a Data Scientist:"
   ]
  },
  {
   "cell_type": "code",
   "execution_count": 103,
   "id": "9e0fe442",
   "metadata": {},
   "outputs": [
    {
     "data": {
      "text/plain": [
       "True"
      ]
     },
     "execution_count": 103,
     "metadata": {},
     "output_type": "execute_result"
    }
   ],
   "source": [
    "data_scientist_skills.issuperset(skills_alba)"
   ]
  },
  {
   "cell_type": "markdown",
   "id": "ab627952",
   "metadata": {},
   "source": [
    "Check if all of Bea's skills are relevant to be a Data Scientist:"
   ]
  },
  {
   "cell_type": "code",
   "execution_count": 104,
   "id": "31e0f897",
   "metadata": {},
   "outputs": [
    {
     "data": {
      "text/plain": [
       "False"
      ]
     },
     "execution_count": 104,
     "metadata": {},
     "output_type": "execute_result"
    }
   ],
   "source": [
    "data_scientist_skills.issuperset(skills_bea)"
   ]
  },
  {
   "cell_type": "markdown",
   "id": "7425e253",
   "metadata": {},
   "source": [
    "Check which of Bea's skills are useful for a Data Scientist:"
   ]
  },
  {
   "cell_type": "code",
   "execution_count": 105,
   "id": "75ec3325",
   "metadata": {},
   "outputs": [
    {
     "data": {
      "text/plain": [
       "{'Python'}"
      ]
     },
     "execution_count": 105,
     "metadata": {},
     "output_type": "execute_result"
    }
   ],
   "source": [
    "skills_bea & data_scientist_skills"
   ]
  },
  {
   "cell_type": "code",
   "execution_count": null,
   "id": "perfect-syndication",
   "metadata": {},
   "outputs": [],
   "source": []
  }
 ],
 "metadata": {
  "kernelspec": {
   "display_name": "Python 3",
   "language": "python",
   "name": "python3"
  },
  "language_info": {
   "codemirror_mode": {
    "name": "ipython",
    "version": 3
   },
   "file_extension": ".py",
   "mimetype": "text/x-python",
   "name": "python",
   "nbconvert_exporter": "python",
   "pygments_lexer": "ipython3",
   "version": "3.8.5"
  }
 },
 "nbformat": 4,
 "nbformat_minor": 5
}
