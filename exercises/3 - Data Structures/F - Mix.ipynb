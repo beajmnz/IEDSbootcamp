{
 "cells": [
  {
   "cell_type": "markdown",
   "id": "2aa73028",
   "metadata": {},
   "source": [
    "# Data Structures: Mix"
   ]
  },
  {
   "cell_type": "markdown",
   "id": "689c0048",
   "metadata": {},
   "source": [
    "## Demo 1: Access elements in a complex data structure"
   ]
  },
  {
   "cell_type": "code",
   "execution_count": null,
   "id": "a547cc0f",
   "metadata": {},
   "outputs": [],
   "source": [
    "spain = {\n",
    "    \"capital\": \"Madrid\",\n",
    "    \"population\": 46_733_038,\n",
    "    \"monarch\": \"Felipe VI\",\n",
    "    \"area\": 505_990,\n",
    "}"
   ]
  },
  {
   "cell_type": "code",
   "execution_count": null,
   "id": "1a024292",
   "metadata": {},
   "outputs": [],
   "source": [
    "belgium = {\n",
    "    \"capital\": \"Brussels\",\n",
    "    \"population\": 11_449_656,\n",
    "    \"monarch\": \"Philippe\",\n",
    "    \"area\": 30_688,\n",
    "}"
   ]
  },
  {
   "cell_type": "code",
   "execution_count": null,
   "id": "3e011346",
   "metadata": {},
   "outputs": [],
   "source": [
    "united_kingdom = {\n",
    "    \"capital\": \"London\",\n",
    "    \"population\": 67_886_004,\n",
    "    \"monarch\": \"Elizabeth II\",\n",
    "    \"area\": 242_495,\n",
    "}"
   ]
  },
  {
   "cell_type": "code",
   "execution_count": null,
   "id": "63490573",
   "metadata": {},
   "outputs": [],
   "source": [
    "vatican = {\n",
    "    \"capital\": \"Vatican\",\n",
    "    \"population\": 825,\n",
    "    \"monarch\": \"Benedict XVI\",\n",
    "    \"area\": 0.49,\n",
    "}"
   ]
  },
  {
   "cell_type": "code",
   "execution_count": null,
   "id": "6015e862",
   "metadata": {},
   "outputs": [],
   "source": [
    "countries = {\n",
    "    \"Spain\": spain,\n",
    "    \"Belgium\": belgium,\n",
    "    \"United Kingdom\": united_kingdom,\n",
    "    \"Vatican\": vatican,\n",
    "}"
   ]
  },
  {
   "cell_type": "code",
   "execution_count": null,
   "id": "2c26a523",
   "metadata": {},
   "outputs": [],
   "source": [
    "countries"
   ]
  },
  {
   "cell_type": "markdown",
   "id": "db05fc4a",
   "metadata": {},
   "source": [
    "To get a representation that is easier to read, use `pprint`:"
   ]
  },
  {
   "cell_type": "code",
   "execution_count": null,
   "id": "bbab0556",
   "metadata": {},
   "outputs": [],
   "source": [
    "import pprint\n",
    "\n",
    "pprint.pprint(countries)"
   ]
  },
  {
   "cell_type": "markdown",
   "id": "80795998",
   "metadata": {},
   "source": [
    "Check the type of `countries`:"
   ]
  },
  {
   "cell_type": "code",
   "execution_count": null,
   "id": "2c7c6d92",
   "metadata": {},
   "outputs": [],
   "source": [
    "type(countries)"
   ]
  },
  {
   "cell_type": "markdown",
   "id": "aa6a419d",
   "metadata": {},
   "source": [
    "Given that `countries` is a dictionary, check the available keys:"
   ]
  },
  {
   "cell_type": "code",
   "execution_count": null,
   "id": "a09db0ca",
   "metadata": {},
   "outputs": [],
   "source": [
    "countries.keys()"
   ]
  },
  {
   "cell_type": "markdown",
   "id": "2f727621",
   "metadata": {},
   "source": [
    "Pick one of the keys, and check what type of object it contains:"
   ]
  },
  {
   "cell_type": "code",
   "execution_count": null,
   "id": "43f5fdb5",
   "metadata": {},
   "outputs": [],
   "source": [
    "countries[\"Vatican\"]"
   ]
  },
  {
   "cell_type": "markdown",
   "id": "8bec8d0c",
   "metadata": {},
   "source": [
    "Get the population of Belgium:"
   ]
  },
  {
   "cell_type": "code",
   "execution_count": null,
   "id": "c5d72f05",
   "metadata": {},
   "outputs": [],
   "source": [
    "countries[\"Belgium\"]"
   ]
  },
  {
   "cell_type": "code",
   "execution_count": null,
   "id": "1b74d92f",
   "metadata": {},
   "outputs": [],
   "source": [
    "countries[\"Belgium\"][\"population\"]"
   ]
  },
  {
   "cell_type": "markdown",
   "id": "0fa49f28",
   "metadata": {},
   "source": [
    "Get the monarch of the United Kingdom:"
   ]
  },
  {
   "cell_type": "code",
   "execution_count": null,
   "id": "25908c80",
   "metadata": {},
   "outputs": [],
   "source": [
    "countries[\"United Kingdom\"]"
   ]
  },
  {
   "cell_type": "code",
   "execution_count": null,
   "id": "e7990db5",
   "metadata": {},
   "outputs": [],
   "source": [
    "countries[\"United Kingdom\"][\"monarch\"]"
   ]
  },
  {
   "cell_type": "markdown",
   "id": "5b230d8a",
   "metadata": {},
   "source": [
    "## Exercise 1"
   ]
  },
  {
   "cell_type": "markdown",
   "id": "2c779e44",
   "metadata": {},
   "source": [
    "Define a complex data structure:"
   ]
  },
  {
   "cell_type": "code",
   "execution_count": null,
   "id": "caddaf06",
   "metadata": {
    "tags": [
     "no-replacement"
    ]
   },
   "outputs": [],
   "source": [
    "structure = {\n",
    "    \"Belgium\": {\n",
    "        \"capital\": \"Brussels\",\n",
    "        \"population\": 11_449_656,\n",
    "        \"monarch\": \"Philippe\",\n",
    "        \"area\": 30_688,\n",
    "        \"currency\": \"EUR\",\n",
    "        \"phone_prefix\": \"+32\",\n",
    "        \"country_code\": \"BE\",\n",
    "        \"eu_member\": True,\n",
    "        \"large_cities\": [\n",
    "            \"Anvers\",\n",
    "            \"Gand\",\n",
    "            \"Charleroi\",\n",
    "            \"Liège\",\n",
    "            \"Bruxelles\",\n",
    "            \"Bruges\",\n",
    "            \"Namur\",\n",
    "            \"Louvain\",\n",
    "        ],\n",
    "    },\n",
    "    \"Spain\": {\n",
    "        \"capital\": \"Madrid\",\n",
    "        \"population\": 46_733_038,\n",
    "        \"monarch\": \"Felipe VI\",\n",
    "        \"area\": 505_990,\n",
    "        \"currency\": \"EUR\",\n",
    "        \"phone_prefix\": \"+34\",\n",
    "        \"country_code\": \"ES\",\n",
    "        \"eu_member\": True,\n",
    "        \"large_cities\": [\n",
    "            \"Madrid\",\n",
    "            \"Barcelona\",\n",
    "            \"Valencia\",\n",
    "            \"Seville\",\n",
    "            \"Zaragoza\",\n",
    "            \"Málaga\",\n",
    "        ],\n",
    "    },\n",
    "    \"United Kingdom\": {\n",
    "        \"capital\": \"London\",\n",
    "        \"population\": 67_886_004,\n",
    "        \"monarch\": \"Felipe VI\",\n",
    "        \"area\": 242_495,\n",
    "        \"currency\": \"GBP\",\n",
    "        \"phone_prefix\": \"+34\",\n",
    "        \"country_code\": \"GB\",\n",
    "        \"eu_member\": False,\n",
    "        \"large_cities\": [\n",
    "            \"London\",\n",
    "            \"Manchester\",\n",
    "            \"Birmingham\",\n",
    "            \"Leeds\",\n",
    "            \"Glasgow\",\n",
    "            \"Liverpool\",\n",
    "            \"Southampton\",\n",
    "            \"Newcastle\",\n",
    "            \"Nottingham\",\n",
    "            \"Sheffield\",\n",
    "        ],\n",
    "    },\n",
    "}"
   ]
  },
  {
   "cell_type": "markdown",
   "id": "ba824399",
   "metadata": {},
   "source": [
    "Check the type of `structure`:"
   ]
  },
  {
   "cell_type": "code",
   "execution_count": null,
   "id": "59e166d4",
   "metadata": {},
   "outputs": [],
   "source": []
  },
  {
   "cell_type": "markdown",
   "id": "1a2edf78",
   "metadata": {},
   "source": [
    "Given that `structure` is a dictionary, check the available keys:"
   ]
  },
  {
   "cell_type": "code",
   "execution_count": null,
   "id": "09782203",
   "metadata": {},
   "outputs": [],
   "source": []
  },
  {
   "cell_type": "markdown",
   "id": "06075325",
   "metadata": {},
   "source": [
    "Pick one of the keys, and check what type of object it contains:"
   ]
  },
  {
   "cell_type": "code",
   "execution_count": null,
   "id": "7547777d",
   "metadata": {},
   "outputs": [],
   "source": []
  },
  {
   "cell_type": "markdown",
   "id": "9d807f49",
   "metadata": {},
   "source": [
    "Check the type of the value for the `large_cities` key:"
   ]
  },
  {
   "cell_type": "code",
   "execution_count": null,
   "id": "a6cc61fd",
   "metadata": {},
   "outputs": [],
   "source": []
  },
  {
   "cell_type": "markdown",
   "id": "c1138ffa",
   "metadata": {},
   "source": [
    "Given that the value associated to the `large_cities` key is a list, check its length:"
   ]
  },
  {
   "cell_type": "code",
   "execution_count": null,
   "id": "99f35a31",
   "metadata": {},
   "outputs": [],
   "source": []
  },
  {
   "cell_type": "markdown",
   "id": "a7d193f8",
   "metadata": {},
   "source": [
    "Get the currency of the United Kingdom:"
   ]
  },
  {
   "cell_type": "code",
   "execution_count": null,
   "id": "8744911a",
   "metadata": {},
   "outputs": [],
   "source": []
  },
  {
   "cell_type": "markdown",
   "id": "20d5c64d",
   "metadata": {},
   "source": [
    "Get the **top 3** largest cities in Spain:"
   ]
  },
  {
   "cell_type": "code",
   "execution_count": null,
   "id": "76cbd85a",
   "metadata": {},
   "outputs": [],
   "source": []
  }
 ],
 "metadata": {
  "kernelspec": {
   "display_name": "Python 3",
   "language": "python",
   "name": "python3"
  },
  "language_info": {
   "codemirror_mode": {
    "name": "ipython",
    "version": 3
   },
   "file_extension": ".py",
   "mimetype": "text/x-python",
   "name": "python",
   "nbconvert_exporter": "python",
   "pygments_lexer": "ipython3",
   "version": "3.9.2"
  }
 },
 "nbformat": 4,
 "nbformat_minor": 5
}
