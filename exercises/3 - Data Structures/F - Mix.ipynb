{
 "cells": [
  {
   "cell_type": "markdown",
   "id": "2aa73028",
   "metadata": {},
   "source": [
    "# Data Structures: Mix"
   ]
  },
  {
   "cell_type": "markdown",
   "id": "689c0048",
   "metadata": {},
   "source": [
    "## Demo 1: Access elements in a complex data structure"
   ]
  },
  {
   "cell_type": "code",
   "execution_count": 1,
   "id": "a547cc0f",
   "metadata": {},
   "outputs": [],
   "source": [
    "spain = {\n",
    "    \"capital\": \"Madrid\",\n",
    "    \"population\": 46_733_038,\n",
    "    \"monarch\": \"Felipe VI\",\n",
    "    \"area\": 505_990,\n",
    "}"
   ]
  },
  {
   "cell_type": "code",
   "execution_count": 2,
   "id": "1a024292",
   "metadata": {},
   "outputs": [],
   "source": [
    "belgium = {\n",
    "    \"capital\": \"Brussels\",\n",
    "    \"population\": 11_449_656,\n",
    "    \"monarch\": \"Philippe\",\n",
    "    \"area\": 30_688,\n",
    "}"
   ]
  },
  {
   "cell_type": "code",
   "execution_count": 3,
   "id": "3e011346",
   "metadata": {},
   "outputs": [],
   "source": [
    "united_kingdom = {\n",
    "    \"capital\": \"London\",\n",
    "    \"population\": 67_886_004,\n",
    "    \"monarch\": \"Elizabeth II\",\n",
    "    \"area\": 242_495,\n",
    "}"
   ]
  },
  {
   "cell_type": "code",
   "execution_count": 4,
   "id": "63490573",
   "metadata": {},
   "outputs": [],
   "source": [
    "vatican = {\n",
    "    \"capital\": \"Vatican\",\n",
    "    \"population\": 825,\n",
    "    \"monarch\": \"Benedict XVI\",\n",
    "    \"area\": 0.49,\n",
    "}"
   ]
  },
  {
   "cell_type": "code",
   "execution_count": 5,
   "id": "6015e862",
   "metadata": {},
   "outputs": [],
   "source": [
    "countries = {\n",
    "    \"Spain\": spain,\n",
    "    \"Belgium\": belgium,\n",
    "    \"United Kingdom\": united_kingdom,\n",
    "    \"Vatican\": vatican,\n",
    "}"
   ]
  },
  {
   "cell_type": "code",
   "execution_count": 6,
   "id": "2c26a523",
   "metadata": {},
   "outputs": [
    {
     "data": {
      "text/plain": [
       "{'Spain': {'capital': 'Madrid',\n",
       "  'population': 46733038,\n",
       "  'monarch': 'Felipe VI',\n",
       "  'area': 505990},\n",
       " 'Belgium': {'capital': 'Brussels',\n",
       "  'population': 11449656,\n",
       "  'monarch': 'Philippe',\n",
       "  'area': 30688},\n",
       " 'United Kingdom': {'capital': 'London',\n",
       "  'population': 67886004,\n",
       "  'monarch': 'Elizabeth II',\n",
       "  'area': 242495},\n",
       " 'Vatican': {'capital': 'Vatican',\n",
       "  'population': 825,\n",
       "  'monarch': 'Benedict XVI',\n",
       "  'area': 0.49}}"
      ]
     },
     "execution_count": 6,
     "metadata": {},
     "output_type": "execute_result"
    }
   ],
   "source": [
    "countries"
   ]
  },
  {
   "cell_type": "markdown",
   "id": "db05fc4a",
   "metadata": {},
   "source": [
    "To get a representation that is easier to read, use `pprint`:"
   ]
  },
  {
   "cell_type": "code",
   "execution_count": 7,
   "id": "bbab0556",
   "metadata": {},
   "outputs": [
    {
     "name": "stdout",
     "output_type": "stream",
     "text": [
      "{'Belgium': {'area': 30688,\n",
      "             'capital': 'Brussels',\n",
      "             'monarch': 'Philippe',\n",
      "             'population': 11449656},\n",
      " 'Spain': {'area': 505990,\n",
      "           'capital': 'Madrid',\n",
      "           'monarch': 'Felipe VI',\n",
      "           'population': 46733038},\n",
      " 'United Kingdom': {'area': 242495,\n",
      "                    'capital': 'London',\n",
      "                    'monarch': 'Elizabeth II',\n",
      "                    'population': 67886004},\n",
      " 'Vatican': {'area': 0.49,\n",
      "             'capital': 'Vatican',\n",
      "             'monarch': 'Benedict XVI',\n",
      "             'population': 825}}\n"
     ]
    }
   ],
   "source": [
    "import pprint\n",
    "\n",
    "pprint.pprint(countries)"
   ]
  },
  {
   "cell_type": "markdown",
   "id": "80795998",
   "metadata": {},
   "source": [
    "Check the type of `countries`:"
   ]
  },
  {
   "cell_type": "code",
   "execution_count": 8,
   "id": "2c7c6d92",
   "metadata": {},
   "outputs": [
    {
     "data": {
      "text/plain": [
       "dict"
      ]
     },
     "execution_count": 8,
     "metadata": {},
     "output_type": "execute_result"
    }
   ],
   "source": [
    "type(countries)"
   ]
  },
  {
   "cell_type": "markdown",
   "id": "aa6a419d",
   "metadata": {},
   "source": [
    "Given that `countries` is a dictionary, check the available keys:"
   ]
  },
  {
   "cell_type": "code",
   "execution_count": 9,
   "id": "a09db0ca",
   "metadata": {},
   "outputs": [
    {
     "data": {
      "text/plain": [
       "dict_keys(['Spain', 'Belgium', 'United Kingdom', 'Vatican'])"
      ]
     },
     "execution_count": 9,
     "metadata": {},
     "output_type": "execute_result"
    }
   ],
   "source": [
    "countries.keys()"
   ]
  },
  {
   "cell_type": "markdown",
   "id": "2f727621",
   "metadata": {},
   "source": [
    "Pick one of the keys, and check what type of object it contains:"
   ]
  },
  {
   "cell_type": "code",
   "execution_count": 10,
   "id": "43f5fdb5",
   "metadata": {},
   "outputs": [
    {
     "data": {
      "text/plain": [
       "{'capital': 'Vatican',\n",
       " 'population': 825,\n",
       " 'monarch': 'Benedict XVI',\n",
       " 'area': 0.49}"
      ]
     },
     "execution_count": 10,
     "metadata": {},
     "output_type": "execute_result"
    }
   ],
   "source": [
    "countries[\"Vatican\"]"
   ]
  },
  {
   "cell_type": "markdown",
   "id": "8bec8d0c",
   "metadata": {},
   "source": [
    "Get the population of Belgium:"
   ]
  },
  {
   "cell_type": "code",
   "execution_count": 11,
   "id": "c5d72f05",
   "metadata": {},
   "outputs": [
    {
     "data": {
      "text/plain": [
       "{'capital': 'Brussels',\n",
       " 'population': 11449656,\n",
       " 'monarch': 'Philippe',\n",
       " 'area': 30688}"
      ]
     },
     "execution_count": 11,
     "metadata": {},
     "output_type": "execute_result"
    }
   ],
   "source": [
    "countries[\"Belgium\"]"
   ]
  },
  {
   "cell_type": "code",
   "execution_count": 12,
   "id": "1b74d92f",
   "metadata": {},
   "outputs": [
    {
     "data": {
      "text/plain": [
       "11449656"
      ]
     },
     "execution_count": 12,
     "metadata": {},
     "output_type": "execute_result"
    }
   ],
   "source": [
    "countries[\"Belgium\"][\"population\"]"
   ]
  },
  {
   "cell_type": "markdown",
   "id": "0fa49f28",
   "metadata": {},
   "source": [
    "Get the monarch of the United Kingdom:"
   ]
  },
  {
   "cell_type": "code",
   "execution_count": 13,
   "id": "25908c80",
   "metadata": {},
   "outputs": [
    {
     "data": {
      "text/plain": [
       "{'capital': 'London',\n",
       " 'population': 67886004,\n",
       " 'monarch': 'Elizabeth II',\n",
       " 'area': 242495}"
      ]
     },
     "execution_count": 13,
     "metadata": {},
     "output_type": "execute_result"
    }
   ],
   "source": [
    "countries[\"United Kingdom\"]"
   ]
  },
  {
   "cell_type": "code",
   "execution_count": 14,
   "id": "e7990db5",
   "metadata": {},
   "outputs": [
    {
     "data": {
      "text/plain": [
       "'Elizabeth II'"
      ]
     },
     "execution_count": 14,
     "metadata": {},
     "output_type": "execute_result"
    }
   ],
   "source": [
    "countries[\"United Kingdom\"][\"monarch\"]"
   ]
  },
  {
   "cell_type": "markdown",
   "id": "5b230d8a",
   "metadata": {},
   "source": [
    "## Exercise 1"
   ]
  },
  {
   "cell_type": "markdown",
   "id": "2c779e44",
   "metadata": {},
   "source": [
    "Define a complex data structure:"
   ]
  },
  {
   "cell_type": "code",
   "execution_count": 2,
   "id": "caddaf06",
   "metadata": {
    "tags": [
     "no-replacement"
    ]
   },
   "outputs": [],
   "source": [
    "structure = {\n",
    "    \"Belgium\": {\n",
    "        \"capital\": \"Brussels\",\n",
    "        \"population\": 11_449_656,\n",
    "        \"monarch\": \"Philippe\",\n",
    "        \"area\": 30_688,\n",
    "        \"currency\": \"EUR\",\n",
    "        \"phone_prefix\": \"+32\",\n",
    "        \"country_code\": \"BE\",\n",
    "        \"eu_member\": True,\n",
    "        \"large_cities\": [\n",
    "            \"Anvers\",\n",
    "            \"Gand\",\n",
    "            \"Charleroi\",\n",
    "            \"Liège\",\n",
    "            \"Bruxelles\",\n",
    "            \"Bruges\",\n",
    "            \"Namur\",\n",
    "            \"Louvain\",\n",
    "        ],\n",
    "    },\n",
    "    \"Spain\": {\n",
    "        \"capital\": \"Madrid\",\n",
    "        \"population\": 46_733_038,\n",
    "        \"monarch\": \"Felipe VI\",\n",
    "        \"area\": 505_990,\n",
    "        \"currency\": \"EUR\",\n",
    "        \"phone_prefix\": \"+34\",\n",
    "        \"country_code\": \"ES\",\n",
    "        \"eu_member\": True,\n",
    "        \"large_cities\": [\n",
    "            \"Madrid\",\n",
    "            \"Barcelona\",\n",
    "            \"Valencia\",\n",
    "            \"Seville\",\n",
    "            \"Zaragoza\",\n",
    "            \"Málaga\",\n",
    "        ],\n",
    "    },\n",
    "    \"United Kingdom\": {\n",
    "        \"capital\": \"London\",\n",
    "        \"population\": 67_886_004,\n",
    "        \"monarch\": \"Felipe VI\",\n",
    "        \"area\": 242_495,\n",
    "        \"currency\": \"GBP\",\n",
    "        \"phone_prefix\": \"+34\",\n",
    "        \"country_code\": \"GB\",\n",
    "        \"eu_member\": False,\n",
    "        \"large_cities\": [\n",
    "            \"London\",\n",
    "            \"Manchester\",\n",
    "            \"Birmingham\",\n",
    "            \"Leeds\",\n",
    "            \"Glasgow\",\n",
    "            \"Liverpool\",\n",
    "            \"Southampton\",\n",
    "            \"Newcastle\",\n",
    "            \"Nottingham\",\n",
    "            \"Sheffield\",\n",
    "        ],\n",
    "    },\n",
    "}"
   ]
  },
  {
   "cell_type": "markdown",
   "id": "ba824399",
   "metadata": {},
   "source": [
    "Check the type of `structure`:"
   ]
  },
  {
   "cell_type": "code",
   "execution_count": 16,
   "id": "59e166d4",
   "metadata": {},
   "outputs": [
    {
     "data": {
      "text/plain": [
       "dict"
      ]
     },
     "execution_count": 16,
     "metadata": {},
     "output_type": "execute_result"
    }
   ],
   "source": [
    "type(structure)"
   ]
  },
  {
   "cell_type": "markdown",
   "id": "1a2edf78",
   "metadata": {},
   "source": [
    "Given that `structure` is a dictionary, check the available keys:"
   ]
  },
  {
   "cell_type": "code",
   "execution_count": 17,
   "id": "09782203",
   "metadata": {},
   "outputs": [
    {
     "data": {
      "text/plain": [
       "dict_keys(['Belgium', 'Spain', 'United Kingdom'])"
      ]
     },
     "execution_count": 17,
     "metadata": {},
     "output_type": "execute_result"
    }
   ],
   "source": [
    "structure.keys()"
   ]
  },
  {
   "cell_type": "markdown",
   "id": "06075325",
   "metadata": {},
   "source": [
    "Pick one of the keys, and check what type of object it contains:"
   ]
  },
  {
   "cell_type": "code",
   "execution_count": 18,
   "id": "7547777d",
   "metadata": {},
   "outputs": [
    {
     "data": {
      "text/plain": [
       "{'capital': 'Brussels',\n",
       " 'population': 11449656,\n",
       " 'monarch': 'Philippe',\n",
       " 'area': 30688,\n",
       " 'currency': 'EUR',\n",
       " 'phone_prefix': '+32',\n",
       " 'country_code': 'BE',\n",
       " 'eu_member': True,\n",
       " 'large_cities': ['Anvers',\n",
       "  'Gand',\n",
       "  'Charleroi',\n",
       "  'Liège',\n",
       "  'Bruxelles',\n",
       "  'Bruges',\n",
       "  'Namur',\n",
       "  'Louvain']}"
      ]
     },
     "execution_count": 18,
     "metadata": {},
     "output_type": "execute_result"
    }
   ],
   "source": [
    "structure[\"Belgium\"]"
   ]
  },
  {
   "cell_type": "markdown",
   "id": "9d807f49",
   "metadata": {},
   "source": [
    "Check the type of the value for the `large_cities` key:"
   ]
  },
  {
   "cell_type": "code",
   "execution_count": 19,
   "id": "a6cc61fd",
   "metadata": {},
   "outputs": [
    {
     "data": {
      "text/plain": [
       "list"
      ]
     },
     "execution_count": 19,
     "metadata": {},
     "output_type": "execute_result"
    }
   ],
   "source": [
    "type(structure[\"Belgium\"][\"large_cities\"])"
   ]
  },
  {
   "cell_type": "markdown",
   "id": "c1138ffa",
   "metadata": {},
   "source": [
    "Given that the value associated to the `large_cities` key is a list, check its length:"
   ]
  },
  {
   "cell_type": "code",
   "execution_count": 20,
   "id": "99f35a31",
   "metadata": {},
   "outputs": [
    {
     "data": {
      "text/plain": [
       "8"
      ]
     },
     "execution_count": 20,
     "metadata": {},
     "output_type": "execute_result"
    }
   ],
   "source": [
    "len(structure[\"Belgium\"][\"large_cities\"])"
   ]
  },
  {
   "cell_type": "markdown",
   "id": "a7d193f8",
   "metadata": {},
   "source": [
    "Get the currency of the United Kingdom:"
   ]
  },
  {
   "cell_type": "code",
   "execution_count": 21,
   "id": "8744911a",
   "metadata": {},
   "outputs": [
    {
     "data": {
      "text/plain": [
       "str"
      ]
     },
     "execution_count": 21,
     "metadata": {},
     "output_type": "execute_result"
    }
   ],
   "source": [
    "type(structure[\"United Kingdom\"][\"currency\"])"
   ]
  },
  {
   "cell_type": "markdown",
   "id": "20d5c64d",
   "metadata": {},
   "source": [
    "Get the **top 3** largest cities in Spain:"
   ]
  },
  {
   "cell_type": "code",
   "execution_count": 3,
   "id": "76cbd85a",
   "metadata": {},
   "outputs": [
    {
     "data": {
      "text/plain": [
       "['Madrid', 'Barcelona', 'Valencia']"
      ]
     },
     "execution_count": 3,
     "metadata": {},
     "output_type": "execute_result"
    }
   ],
   "source": [
    "structure[\"Spain\"][\"large_cities\"][:3]"
   ]
  },
  {
   "cell_type": "code",
   "execution_count": null,
   "id": "handy-witch",
   "metadata": {},
   "outputs": [],
   "source": []
  }
 ],
 "metadata": {
  "kernelspec": {
   "display_name": "Python 3",
   "language": "python",
   "name": "python3"
  },
  "language_info": {
   "codemirror_mode": {
    "name": "ipython",
    "version": 3
   },
   "file_extension": ".py",
   "mimetype": "text/x-python",
   "name": "python",
   "nbconvert_exporter": "python",
   "pygments_lexer": "ipython3",
   "version": "3.8.5"
  }
 },
 "nbformat": 4,
 "nbformat_minor": 5
}
