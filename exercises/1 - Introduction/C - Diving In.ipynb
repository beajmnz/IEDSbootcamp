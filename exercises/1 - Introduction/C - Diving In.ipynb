{
 "cells": [
  {
   "cell_type": "markdown",
   "id": "2e2c4e97",
   "metadata": {},
   "source": [
    "# Diving In"
   ]
  },
  {
   "cell_type": "code",
   "execution_count": 1,
   "id": "a015b86f",
   "metadata": {},
   "outputs": [],
   "source": [
    "age = 99"
   ]
  },
  {
   "cell_type": "code",
   "execution_count": 2,
   "id": "356ce1c2",
   "metadata": {},
   "outputs": [
    {
     "data": {
      "text/plain": [
       "True"
      ]
     },
     "execution_count": 2,
     "metadata": {},
     "output_type": "execute_result"
    }
   ],
   "source": [
    "age >= 18"
   ]
  },
  {
   "cell_type": "code",
   "execution_count": 3,
   "id": "60a612fc",
   "metadata": {},
   "outputs": [
    {
     "name": "stdout",
     "output_type": "stream",
     "text": [
      "This person is major\n"
     ]
    }
   ],
   "source": [
    "if age >= 18:\n",
    "    print(\"This person is major\")"
   ]
  },
  {
   "cell_type": "code",
   "execution_count": 4,
   "id": "1c24f2f6",
   "metadata": {},
   "outputs": [
    {
     "name": "stdout",
     "output_type": "stream",
     "text": [
      "This person is major\n",
      "Status: Adult\n",
      "Identification is finished\n"
     ]
    }
   ],
   "source": [
    "if age >= 18:\n",
    "    print(\"This person is major\")\n",
    "    print(\"Status: Adult\")\n",
    "\n",
    "print(\"Identification is finished\")"
   ]
  },
  {
   "cell_type": "code",
   "execution_count": 5,
   "id": "e8ff88b3",
   "metadata": {},
   "outputs": [
    {
     "name": "stdout",
     "output_type": "stream",
     "text": [
      "This person is major\n",
      "Status: Adult\n",
      "Identification is finished\n"
     ]
    }
   ],
   "source": [
    "if age >= 18:\n",
    "    print(\"This person is major\")\n",
    "    print(\"Status: Adult\")\n",
    "else:\n",
    "    print(\"This person is minor\")\n",
    "    print(\"Status: Kid\")\n",
    "\n",
    "print(\"Identification is finished\")"
   ]
  },
  {
   "cell_type": "code",
   "execution_count": 6,
   "id": "c2311762",
   "metadata": {},
   "outputs": [],
   "source": [
    "age = 10"
   ]
  },
  {
   "cell_type": "code",
   "execution_count": 7,
   "id": "b9e700d6",
   "metadata": {},
   "outputs": [
    {
     "name": "stdout",
     "output_type": "stream",
     "text": [
      "You are a minor\n",
      "Status: Kid\n",
      "Identification is finished\n"
     ]
    }
   ],
   "source": [
    "if age >= 18:\n",
    "    print(\"You are a major\")\n",
    "    print(\"Status: Adult\")\n",
    "else:\n",
    "    print(\"You are a minor\")\n",
    "    print(\"Status: Kid\")\n",
    "\n",
    "print(\"Identification is finished\")"
   ]
  },
  {
   "cell_type": "code",
   "execution_count": null,
   "id": "b019712a",
   "metadata": {},
   "outputs": [],
   "source": [
    "def status(age):\n",
    "    if age >= 18:\n",
    "        print(\"You are a major\")\n",
    "        print(\"Status: Adult\")\n",
    "    else:\n",
    "        print(\"You are a minor\")\n",
    "        print(\"Status: Kid\")\n",
    "    print(\"Identification is finished\")"
   ]
  },
  {
   "cell_type": "code",
   "execution_count": null,
   "id": "00a912ba",
   "metadata": {},
   "outputs": [],
   "source": [
    "status(15)"
   ]
  },
  {
   "cell_type": "code",
   "execution_count": null,
   "id": "547b5141",
   "metadata": {},
   "outputs": [],
   "source": [
    "status(25)"
   ]
  },
  {
   "cell_type": "code",
   "execution_count": null,
   "id": "d9037b22",
   "metadata": {
    "tags": [
     "no-execution"
    ]
   },
   "outputs": [],
   "source": [
    "input(\"What is your age? \")"
   ]
  },
  {
   "cell_type": "code",
   "execution_count": null,
   "id": "8547b2f1",
   "metadata": {
    "tags": [
     "no-execution"
    ]
   },
   "outputs": [],
   "source": [
    "age = int(input(\"What is your age? \"))\n",
    "status(age)"
   ]
  }
 ],
 "metadata": {
  "kernelspec": {
   "display_name": "Python 3",
   "language": "python",
   "name": "python3"
  },
  "language_info": {
   "codemirror_mode": {
    "name": "ipython",
    "version": 3
   },
   "file_extension": ".py",
   "mimetype": "text/x-python",
   "name": "python",
   "nbconvert_exporter": "python",
   "pygments_lexer": "ipython3",
   "version": "3.8.5"
  }
 },
 "nbformat": 4,
 "nbformat_minor": 5
}
