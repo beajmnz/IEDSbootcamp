{
 "cells": [
  {
   "cell_type": "markdown",
   "id": "mobile-albany",
   "metadata": {},
   "source": [
    "# Introduction"
   ]
  },
  {
   "cell_type": "markdown",
   "id": "responsible-arizona",
   "metadata": {},
   "source": [
    "## Demo 1: String variable"
   ]
  },
  {
   "cell_type": "markdown",
   "id": "curious-fabric",
   "metadata": {},
   "source": [
    "Create a variable called `name` containing a string:"
   ]
  },
  {
   "cell_type": "code",
   "execution_count": 4,
   "id": "aggregate-legislature",
   "metadata": {},
   "outputs": [],
   "source": [
    "name = \"Bea\""
   ]
  },
  {
   "cell_type": "markdown",
   "id": "searching-birmingham",
   "metadata": {},
   "source": [
    "Check the content of the variable `name`:"
   ]
  },
  {
   "cell_type": "code",
   "execution_count": 5,
   "id": "settled-holly",
   "metadata": {},
   "outputs": [
    {
     "name": "stdout",
     "output_type": "stream",
     "text": [
      "Bea\n"
     ]
    }
   ],
   "source": [
    "print(name)"
   ]
  },
  {
   "cell_type": "markdown",
   "id": "artistic-apparatus",
   "metadata": {},
   "source": [
    "Check the type of the variable `name`:"
   ]
  },
  {
   "cell_type": "code",
   "execution_count": 3,
   "id": "continental-treasury",
   "metadata": {},
   "outputs": [
    {
     "data": {
      "text/plain": [
       "str"
      ]
     },
     "execution_count": 3,
     "metadata": {},
     "output_type": "execute_result"
    }
   ],
   "source": [
    "type(name)"
   ]
  },
  {
   "cell_type": "markdown",
   "id": "smoking-faith",
   "metadata": {},
   "source": [
    "## Exercise 1"
   ]
  },
  {
   "cell_type": "markdown",
   "id": "macro-maple",
   "metadata": {},
   "source": [
    "### Skeleton"
   ]
  },
  {
   "cell_type": "markdown",
   "id": "operating-providence",
   "metadata": {},
   "source": [
    "Create a variable called `country` containing a string:"
   ]
  },
  {
   "cell_type": "code",
   "execution_count": 6,
   "id": "static-thunder",
   "metadata": {},
   "outputs": [],
   "source": [
    "country = \"Spain\""
   ]
  },
  {
   "cell_type": "markdown",
   "id": "twelve-cowboy",
   "metadata": {},
   "source": [
    "Check the content of the variable `country`:"
   ]
  },
  {
   "cell_type": "code",
   "execution_count": 7,
   "id": "working-anime",
   "metadata": {},
   "outputs": [
    {
     "name": "stdout",
     "output_type": "stream",
     "text": [
      "Spain\n"
     ]
    }
   ],
   "source": [
    "print(country)"
   ]
  },
  {
   "cell_type": "markdown",
   "id": "excess-pipeline",
   "metadata": {},
   "source": [
    "Check the type of the variable `country`:"
   ]
  },
  {
   "cell_type": "code",
   "execution_count": 8,
   "id": "introductory-castle",
   "metadata": {},
   "outputs": [
    {
     "data": {
      "text/plain": [
       "str"
      ]
     },
     "execution_count": 8,
     "metadata": {},
     "output_type": "execute_result"
    }
   ],
   "source": [
    "type(country)"
   ]
  },
  {
   "cell_type": "markdown",
   "id": "alpha-fetish",
   "metadata": {},
   "source": [
    "<div class=\"alert alert-success\">\n",
    "\n",
    "<b>Best Practice:</b> Use meaningful names for variables\n",
    "\n",
    "</div>"
   ]
  },
  {
   "cell_type": "markdown",
   "id": "continental-stationery",
   "metadata": {},
   "source": [
    "## Demo 2: Integer variable"
   ]
  },
  {
   "cell_type": "markdown",
   "id": "enhanced-illness",
   "metadata": {},
   "source": [
    "Create a variable called `age` containing an integer:"
   ]
  },
  {
   "cell_type": "code",
   "execution_count": 17,
   "id": "exclusive-event",
   "metadata": {},
   "outputs": [],
   "source": [
    "age = 41"
   ]
  },
  {
   "cell_type": "markdown",
   "id": "lesbian-india",
   "metadata": {},
   "source": [
    "Check the content of the variable `age`:"
   ]
  },
  {
   "cell_type": "code",
   "execution_count": 10,
   "id": "widespread-period",
   "metadata": {},
   "outputs": [
    {
     "name": "stdout",
     "output_type": "stream",
     "text": [
      "99\n"
     ]
    }
   ],
   "source": [
    "print(age)"
   ]
  },
  {
   "cell_type": "markdown",
   "id": "polyphonic-nancy",
   "metadata": {},
   "source": [
    "Check the type of the variable `age`:"
   ]
  },
  {
   "cell_type": "code",
   "execution_count": 11,
   "id": "brutal-forum",
   "metadata": {},
   "outputs": [
    {
     "data": {
      "text/plain": [
       "int"
      ]
     },
     "execution_count": 11,
     "metadata": {},
     "output_type": "execute_result"
    }
   ],
   "source": [
    "type(age)"
   ]
  },
  {
   "cell_type": "markdown",
   "id": "opened-lafayette",
   "metadata": {},
   "source": [
    "<div class=\"alert alert-success\">\n",
    "\n",
    "<b>Best Practice:</b> Use the proper code formatting\n",
    "\n",
    "</div>"
   ]
  },
  {
   "cell_type": "markdown",
   "id": "informative-observation",
   "metadata": {},
   "source": [
    "## Exercise 2"
   ]
  },
  {
   "cell_type": "markdown",
   "id": "surface-bleeding",
   "metadata": {},
   "source": [
    "### Skeleton"
   ]
  },
  {
   "cell_type": "markdown",
   "id": "through-relaxation",
   "metadata": {},
   "source": [
    "Create a variable called `population` containing an integer:"
   ]
  },
  {
   "cell_type": "code",
   "execution_count": 12,
   "id": "celtic-airplane",
   "metadata": {},
   "outputs": [],
   "source": [
    "population = 45000000"
   ]
  },
  {
   "cell_type": "markdown",
   "id": "rubber-charter",
   "metadata": {},
   "source": [
    "Check the content of the variable `population`:"
   ]
  },
  {
   "cell_type": "code",
   "execution_count": 13,
   "id": "trying-wonder",
   "metadata": {},
   "outputs": [
    {
     "name": "stdout",
     "output_type": "stream",
     "text": [
      "45000000\n"
     ]
    }
   ],
   "source": [
    "print(population)"
   ]
  },
  {
   "cell_type": "markdown",
   "id": "ideal-density",
   "metadata": {},
   "source": [
    "Check the type of the variable `population`:"
   ]
  },
  {
   "cell_type": "code",
   "execution_count": 14,
   "id": "stone-eligibility",
   "metadata": {},
   "outputs": [
    {
     "data": {
      "text/plain": [
       "int"
      ]
     },
     "execution_count": 14,
     "metadata": {},
     "output_type": "execute_result"
    }
   ],
   "source": [
    "type(population)"
   ]
  },
  {
   "cell_type": "markdown",
   "id": "forty-hearts",
   "metadata": {},
   "source": [
    "## Demo 3: Print strings with variables"
   ]
  },
  {
   "cell_type": "code",
   "execution_count": 18,
   "id": "informative-typing",
   "metadata": {},
   "outputs": [
    {
     "name": "stdout",
     "output_type": "stream",
     "text": [
      "Bea\n"
     ]
    }
   ],
   "source": [
    "print(name)"
   ]
  },
  {
   "cell_type": "code",
   "execution_count": 19,
   "id": "hidden-offering",
   "metadata": {},
   "outputs": [
    {
     "name": "stdout",
     "output_type": "stream",
     "text": [
      "41\n"
     ]
    }
   ],
   "source": [
    "print(age)"
   ]
  },
  {
   "cell_type": "code",
   "execution_count": null,
   "id": "dependent-diesel",
   "metadata": {},
   "outputs": [],
   "source": [
    "print(\"My name is ... and I am ... years old.\")"
   ]
  },
  {
   "cell_type": "code",
   "execution_count": null,
   "id": "wooden-athens",
   "metadata": {},
   "outputs": [],
   "source": [
    "print(\"My name is name and I am age years old.\")"
   ]
  },
  {
   "cell_type": "code",
   "execution_count": null,
   "id": "backed-killer",
   "metadata": {},
   "outputs": [],
   "source": [
    "print(\"My name is {name} and I am {age} years old.\")"
   ]
  },
  {
   "cell_type": "code",
   "execution_count": null,
   "id": "pregnant-matter",
   "metadata": {},
   "outputs": [],
   "source": [
    "print(f\"My name is {name} and I am {age} years old.\")"
   ]
  },
  {
   "cell_type": "markdown",
   "id": "amino-filter",
   "metadata": {},
   "source": [
    "## Exercise 3"
   ]
  },
  {
   "cell_type": "markdown",
   "id": "center-glory",
   "metadata": {},
   "source": [
    "### Skeleton"
   ]
  },
  {
   "cell_type": "code",
   "execution_count": 20,
   "id": "critical-choir",
   "metadata": {
    "tags": [
     "no-replacement"
    ]
   },
   "outputs": [
    {
     "name": "stdout",
     "output_type": "stream",
     "text": [
      "Spain\n"
     ]
    }
   ],
   "source": [
    "print(country)"
   ]
  },
  {
   "cell_type": "code",
   "execution_count": 21,
   "id": "split-amsterdam",
   "metadata": {
    "tags": [
     "no-replacement"
    ]
   },
   "outputs": [
    {
     "name": "stdout",
     "output_type": "stream",
     "text": [
      "45000000\n"
     ]
    }
   ],
   "source": [
    "print(population)"
   ]
  },
  {
   "cell_type": "markdown",
   "id": "97d5323d",
   "metadata": {},
   "source": [
    "Print the text \"country has population inhabitants\":"
   ]
  },
  {
   "cell_type": "code",
   "execution_count": 22,
   "id": "external-anaheim",
   "metadata": {},
   "outputs": [
    {
     "name": "stdout",
     "output_type": "stream",
     "text": [
      "Spain has 45000000 inhabitants\n"
     ]
    }
   ],
   "source": [
    "print(f\"{country} has {population} inhabitants\")"
   ]
  },
  {
   "cell_type": "code",
   "execution_count": 23,
   "id": "stuffed-ceiling",
   "metadata": {},
   "outputs": [
    {
     "name": "stdout",
     "output_type": "stream",
     "text": [
      "Spain has 45000000 inhabitants\n"
     ]
    }
   ],
   "source": [
    "print(country,\"has\",population,\"inhabitants\")"
   ]
  },
  {
   "cell_type": "code",
   "execution_count": 24,
   "id": "collective-curtis",
   "metadata": {},
   "outputs": [
    {
     "name": "stdout",
     "output_type": "stream",
     "text": [
      "Spain has 45000000 inhabitants\n"
     ]
    }
   ],
   "source": [
    "print(str(country) + \" has \" + str(population) + \" inhabitants\")"
   ]
  },
  {
   "cell_type": "markdown",
   "id": "c088e041",
   "metadata": {},
   "source": [
    "## Demo 4: Print a variable name and its value"
   ]
  },
  {
   "cell_type": "code",
   "execution_count": 25,
   "id": "ca464ecd",
   "metadata": {},
   "outputs": [
    {
     "name": "stdout",
     "output_type": "stream",
     "text": [
      "Bea\n"
     ]
    }
   ],
   "source": [
    "print(name)"
   ]
  },
  {
   "cell_type": "code",
   "execution_count": 26,
   "id": "169b5ed4",
   "metadata": {},
   "outputs": [
    {
     "name": "stdout",
     "output_type": "stream",
     "text": [
      "41\n"
     ]
    }
   ],
   "source": [
    "print(age)"
   ]
  },
  {
   "cell_type": "code",
   "execution_count": 27,
   "id": "98108ab7",
   "metadata": {},
   "outputs": [
    {
     "name": "stdout",
     "output_type": "stream",
     "text": [
      "name: Bea\n"
     ]
    }
   ],
   "source": [
    "print(f\"name: {name}\")"
   ]
  },
  {
   "cell_type": "code",
   "execution_count": 28,
   "id": "ecd688c8",
   "metadata": {},
   "outputs": [
    {
     "name": "stdout",
     "output_type": "stream",
     "text": [
      "age: 41\n"
     ]
    }
   ],
   "source": [
    "print(f\"age: {age}\")"
   ]
  },
  {
   "cell_type": "code",
   "execution_count": 29,
   "id": "e8698c92",
   "metadata": {},
   "outputs": [
    {
     "name": "stdout",
     "output_type": "stream",
     "text": [
      "name='Bea'\n"
     ]
    }
   ],
   "source": [
    "print(f\"{name=}\")"
   ]
  },
  {
   "cell_type": "code",
   "execution_count": 30,
   "id": "c2cab1dd",
   "metadata": {},
   "outputs": [
    {
     "name": "stdout",
     "output_type": "stream",
     "text": [
      "age=41\n"
     ]
    }
   ],
   "source": [
    "print(f\"{age=}\")"
   ]
  },
  {
   "cell_type": "markdown",
   "id": "3b086f08",
   "metadata": {},
   "source": [
    "<div class=\"alert alert-info\">\n",
    "\n",
    "<b>Note:</b> f-strings are very powerful, and will get their own class!\n",
    "\n",
    "</div>"
   ]
  },
  {
   "cell_type": "markdown",
   "id": "d71c4359",
   "metadata": {},
   "source": [
    "## Exercise 4"
   ]
  },
  {
   "cell_type": "markdown",
   "id": "d326b1fc",
   "metadata": {},
   "source": [
    "### Skeleton"
   ]
  },
  {
   "cell_type": "code",
   "execution_count": 31,
   "id": "9a1ab992",
   "metadata": {
    "tags": [
     "no-replacement"
    ]
   },
   "outputs": [
    {
     "name": "stdout",
     "output_type": "stream",
     "text": [
      "Spain\n"
     ]
    }
   ],
   "source": [
    "print(country)"
   ]
  },
  {
   "cell_type": "code",
   "execution_count": 32,
   "id": "231ecd43",
   "metadata": {
    "tags": [
     "no-replacement"
    ]
   },
   "outputs": [
    {
     "name": "stdout",
     "output_type": "stream",
     "text": [
      "45000000\n"
     ]
    }
   ],
   "source": [
    "print(population)"
   ]
  },
  {
   "cell_type": "markdown",
   "id": "b786283c",
   "metadata": {},
   "source": [
    "Print the name of the `country` variable, followed by an equal sign and its value:"
   ]
  },
  {
   "cell_type": "code",
   "execution_count": 33,
   "id": "db59796f",
   "metadata": {},
   "outputs": [
    {
     "name": "stdout",
     "output_type": "stream",
     "text": [
      "country='Spain'\n"
     ]
    }
   ],
   "source": [
    "print(f\"{country=}\")"
   ]
  },
  {
   "cell_type": "markdown",
   "id": "0af7e1ee",
   "metadata": {},
   "source": [
    "Print the name of the `population` variable, followed by an equal sign and its value:"
   ]
  },
  {
   "cell_type": "code",
   "execution_count": 35,
   "id": "c218e546",
   "metadata": {},
   "outputs": [
    {
     "name": "stdout",
     "output_type": "stream",
     "text": [
      "population=45000000\n"
     ]
    }
   ],
   "source": [
    "print(f\"{population=}\")"
   ]
  },
  {
   "cell_type": "markdown",
   "id": "5c496f43",
   "metadata": {},
   "source": [
    "## Variables"
   ]
  },
  {
   "cell_type": "markdown",
   "id": "552c8ab9",
   "metadata": {},
   "source": [
    "In Python, all names are case-sensitive:"
   ]
  },
  {
   "cell_type": "code",
   "execution_count": 36,
   "id": "03502302",
   "metadata": {},
   "outputs": [
    {
     "data": {
      "text/plain": [
       "'Spain'"
      ]
     },
     "execution_count": 36,
     "metadata": {},
     "output_type": "execute_result"
    }
   ],
   "source": [
    "country"
   ]
  },
  {
   "cell_type": "code",
   "execution_count": 40,
   "id": "a2d75320",
   "metadata": {},
   "outputs": [],
   "source": [
    "Country = \"Belgium\""
   ]
  },
  {
   "cell_type": "code",
   "execution_count": 41,
   "id": "34d00874",
   "metadata": {},
   "outputs": [
    {
     "data": {
      "text/plain": [
       "'Belgium'"
      ]
     },
     "execution_count": 41,
     "metadata": {},
     "output_type": "execute_result"
    }
   ],
   "source": [
    "Country"
   ]
  },
  {
   "cell_type": "code",
   "execution_count": 42,
   "id": "55684f2f",
   "metadata": {},
   "outputs": [
    {
     "data": {
      "text/plain": [
       "'Spain'"
      ]
     },
     "execution_count": 42,
     "metadata": {},
     "output_type": "execute_result"
    }
   ],
   "source": [
    "country"
   ]
  },
  {
   "cell_type": "markdown",
   "id": "e1bbaed8",
   "metadata": {},
   "source": [
    "<div class=\"alert alert-warning\">\n",
    "\n",
    "<b>Beware:</b> In Python, all names are **case-sensitive**!\n",
    "\n",
    "</div>"
   ]
  },
  {
   "cell_type": "markdown",
   "id": "cfdf6aed",
   "metadata": {},
   "source": [
    "A variable name can be anything as long as it obeys the following three rules:\n",
    "* It can be only one word with no spaces\n",
    "* It can use only letters, numbers, and the underscore (`_`) character\n",
    "* It can’t begin with a number"
   ]
  },
  {
   "cell_type": "code",
   "execution_count": 43,
   "id": "cdc28cba",
   "metadata": {
    "tags": [
     "raises-error"
    ]
   },
   "outputs": [
    {
     "ename": "SyntaxError",
     "evalue": "invalid syntax (<ipython-input-43-e4eea8335c8a>, line 2)",
     "output_type": "error",
     "traceback": [
      "\u001b[1;36m  File \u001b[1;32m\"<ipython-input-43-e4eea8335c8a>\"\u001b[1;36m, line \u001b[1;32m2\u001b[0m\n\u001b[1;33m    2country = \"Spain\"\u001b[0m\n\u001b[1;37m     ^\u001b[0m\n\u001b[1;31mSyntaxError\u001b[0m\u001b[1;31m:\u001b[0m invalid syntax\n"
     ]
    }
   ],
   "source": [
    "# Raises an error, because that name is not allowed for a variable:\n",
    "2country = \"Spain\""
   ]
  },
  {
   "cell_type": "markdown",
   "id": "caring-blowing",
   "metadata": {},
   "source": [
    "## Comments"
   ]
  },
  {
   "cell_type": "code",
   "execution_count": 44,
   "id": "silent-phrase",
   "metadata": {},
   "outputs": [
    {
     "name": "stdout",
     "output_type": "stream",
     "text": [
      "My name is Bea\n"
     ]
    }
   ],
   "source": [
    "# Print the name:\n",
    "print(f\"My name is {name}\")"
   ]
  },
  {
   "cell_type": "code",
   "execution_count": 45,
   "id": "reduced-level",
   "metadata": {},
   "outputs": [
    {
     "name": "stdout",
     "output_type": "stream",
     "text": [
      "My name is Bea\n"
     ]
    }
   ],
   "source": [
    "print(f\"My name is {name}\")      # This line prints the name"
   ]
  },
  {
   "cell_type": "markdown",
   "id": "reasonable-federation",
   "metadata": {},
   "source": [
    "## Jupyter & `print()`"
   ]
  },
  {
   "cell_type": "code",
   "execution_count": 46,
   "id": "cleared-cricket",
   "metadata": {},
   "outputs": [
    {
     "name": "stdout",
     "output_type": "stream",
     "text": [
      "Bea\n"
     ]
    }
   ],
   "source": [
    "print(name)"
   ]
  },
  {
   "cell_type": "code",
   "execution_count": 47,
   "id": "ultimate-intro",
   "metadata": {},
   "outputs": [
    {
     "name": "stdout",
     "output_type": "stream",
     "text": [
      "41\n"
     ]
    }
   ],
   "source": [
    "print(age)"
   ]
  },
  {
   "cell_type": "code",
   "execution_count": 48,
   "id": "regulated-investigation",
   "metadata": {},
   "outputs": [
    {
     "data": {
      "text/plain": [
       "'Bea'"
      ]
     },
     "execution_count": 48,
     "metadata": {},
     "output_type": "execute_result"
    }
   ],
   "source": [
    "name"
   ]
  },
  {
   "cell_type": "code",
   "execution_count": 49,
   "id": "applicable-gasoline",
   "metadata": {},
   "outputs": [
    {
     "data": {
      "text/plain": [
       "41"
      ]
     },
     "execution_count": 49,
     "metadata": {},
     "output_type": "execute_result"
    }
   ],
   "source": [
    "age"
   ]
  },
  {
   "cell_type": "markdown",
   "id": "0927a7b8",
   "metadata": {},
   "source": [
    "<div class=\"alert alert-info\">\n",
    "\n",
    "<b>Note:</b> In Jupyter notebooks, when a cell contains a single variable, its value gets printed automatically!\n",
    "\n",
    "</div>"
   ]
  },
  {
   "cell_type": "code",
   "execution_count": 50,
   "id": "drawn-indian",
   "metadata": {
    "tags": [
     "no-execution"
    ]
   },
   "outputs": [
    {
     "data": {
      "text/plain": [
       "41"
      ]
     },
     "execution_count": 50,
     "metadata": {},
     "output_type": "execute_result"
    }
   ],
   "source": [
    "name\n",
    "age"
   ]
  },
  {
   "cell_type": "code",
   "execution_count": 51,
   "id": "further-coordination",
   "metadata": {},
   "outputs": [
    {
     "name": "stdout",
     "output_type": "stream",
     "text": [
      "Bea\n",
      "41\n"
     ]
    }
   ],
   "source": [
    "print(name)\n",
    "print(age)"
   ]
  },
  {
   "cell_type": "markdown",
   "id": "d2911f41",
   "metadata": {},
   "source": [
    "<div class=\"alert alert-warning\">\n",
    "\n",
    "<b>Beware:</b> In Jupyter notebooks, only the last value is shown to the screen.\n",
    "\n",
    "</div>"
   ]
  },
  {
   "cell_type": "markdown",
   "id": "second-toddler",
   "metadata": {},
   "source": [
    "## References"
   ]
  },
  {
   "cell_type": "markdown",
   "id": "turned-avatar",
   "metadata": {},
   "source": [
    "Introductory material about Python:\n",
    "* The official [Python Tutorial](https://docs.python.org/3/tutorial/index.html)\n",
    "* [Dive into Python 3](https://diveinto.org/python3/table-of-contents.html), by Mark Pilgrim, 2011\n",
    "* [Think Python](https://greenteapress.com/wp/think-python-2e/), by Allen B. Downey, 2015\n",
    "* [Automate the Boring Stuff with Python](https://automatetheboringstuff.com/#toc), by Al Sweigart, 2019\n",
    "* [Automate the Boring Stuff with Python](https://www.youtube.com/watch?v=1F_OgqRuSdI&list=PL0-84-yl1fUnRuXGFe_F7qSH1LEnn9LkW), 15 preview videos (out of 50 videos available on Udemy)"
   ]
  }
 ],
 "metadata": {
  "kernelspec": {
   "display_name": "Python 3",
   "language": "python",
   "name": "python3"
  },
  "language_info": {
   "codemirror_mode": {
    "name": "ipython",
    "version": 3
   },
   "file_extension": ".py",
   "mimetype": "text/x-python",
   "name": "python",
   "nbconvert_exporter": "python",
   "pygments_lexer": "ipython3",
   "version": "3.8.5"
  }
 },
 "nbformat": 4,
 "nbformat_minor": 5
}
