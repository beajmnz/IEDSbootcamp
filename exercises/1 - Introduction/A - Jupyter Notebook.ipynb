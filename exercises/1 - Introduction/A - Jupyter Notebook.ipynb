{
 "cells": [
  {
   "cell_type": "markdown",
   "id": "chubby-mouth",
   "metadata": {},
   "source": [
    "# Jupyter Notebook"
   ]
  },
  {
   "cell_type": "markdown",
   "id": "roman-census",
   "metadata": {},
   "source": [
    "In a Jupyter Notebook, there are mainly 2 types of cells:\n",
    "* Markdown cells, with stylized text\n",
    "* Code cells, with Python code\n",
    "\n",
    "To change the type of a cell, select it and pick a cell type in the dropdown menu at the top."
   ]
  },
  {
   "cell_type": "code",
   "execution_count": null,
   "id": "dff1cae9",
   "metadata": {},
   "outputs": [],
   "source": []
  },
  {
   "cell_type": "markdown",
   "id": "shaped-faculty",
   "metadata": {},
   "source": [
    "## Executing cells"
   ]
  },
  {
   "cell_type": "markdown",
   "id": "failing-shareware",
   "metadata": {},
   "source": [
    "To run the Code cell below, select it and type Shift-Enter (or Control-Enter):"
   ]
  },
  {
   "cell_type": "code",
   "execution_count": 1,
   "id": "aging-textbook",
   "metadata": {},
   "outputs": [
    {
     "data": {
      "text/plain": [
       "'Hello, World'"
      ]
     },
     "execution_count": 1,
     "metadata": {},
     "output_type": "execute_result"
    }
   ],
   "source": [
    "\"Hello, World\""
   ]
  },
  {
   "cell_type": "markdown",
   "id": "changing-increase",
   "metadata": {},
   "source": [
    "To render the Markdown cells below, select them and type Shift-Enter:"
   ]
  },
  {
   "cell_type": "markdown",
   "id": "reported-pharmaceutical",
   "metadata": {},
   "source": [
    "\"Hello, World\""
   ]
  },
  {
   "cell_type": "markdown",
   "id": "curious-recommendation",
   "metadata": {},
   "source": [
    "> \"Hello, World\""
   ]
  },
  {
   "cell_type": "markdown",
   "id": "raised-april",
   "metadata": {},
   "source": [
    "To run **all** the cells, go to the Cell menu, and select \"Run All\"."
   ]
  },
  {
   "cell_type": "markdown",
   "id": "rational-locator",
   "metadata": {},
   "source": [
    "## Restarting the kernel"
   ]
  },
  {
   "cell_type": "markdown",
   "id": "intimate-clerk",
   "metadata": {},
   "source": [
    "To restart the kernel, go to the Kernel menu, and select \"Restart & Clear Output\"."
   ]
  },
  {
   "cell_type": "markdown",
   "id": "prostate-america",
   "metadata": {},
   "source": [
    "## Markdown"
   ]
  },
  {
   "cell_type": "markdown",
   "id": "manufactured-maple",
   "metadata": {},
   "source": [
    "In Markdown:\n",
    "- sections are indicated with one or more hashtags\n",
    "- text in *italic* is surrounded by single asterisks\n",
    "- text in **bold** is surrounded by double asterisks\n",
    "- lists are indicated by hyphens, asterisks, or numbers\n",
    "\n",
    "For a longer list, see the [Markdown cheatsheet](https://github.com/adam-p/markdown-here/wiki/Markdown-Cheatsheet)."
   ]
  }
 ],
 "metadata": {
  "kernelspec": {
   "display_name": "Python 3",
   "language": "python",
   "name": "python3"
  },
  "language_info": {
   "codemirror_mode": {
    "name": "ipython",
    "version": 3
   },
   "file_extension": ".py",
   "mimetype": "text/x-python",
   "name": "python",
   "nbconvert_exporter": "python",
   "pygments_lexer": "ipython3",
   "version": "3.8.5"
  }
 },
 "nbformat": 4,
 "nbformat_minor": 5
}
