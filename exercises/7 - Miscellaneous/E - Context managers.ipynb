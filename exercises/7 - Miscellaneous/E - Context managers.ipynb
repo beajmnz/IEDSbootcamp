{
 "cells": [
  {
   "cell_type": "markdown",
   "id": "a9175134",
   "metadata": {},
   "source": [
    "# Context managers"
   ]
  },
  {
   "cell_type": "markdown",
   "id": "ad6f1f82",
   "metadata": {},
   "source": [
    "> Context managers (i.e. `with` statements) ensure that **specific actions are executed before and/or after** some lines of code."
   ]
  },
  {
   "cell_type": "markdown",
   "id": "65482e29",
   "metadata": {},
   "source": [
    "## Automatically opening & closing a file"
   ]
  },
  {
   "cell_type": "markdown",
   "id": "3d5cc41a",
   "metadata": {},
   "source": [
    "When opening a file, it should be closed after reading the data:"
   ]
  },
  {
   "cell_type": "code",
   "execution_count": 1,
   "id": "79570cd4",
   "metadata": {
    "tags": [
     "no-execution"
    ]
   },
   "outputs": [],
   "source": [
    "file = open(\"students.txt\", encoding=\"utf-8\")"
   ]
  },
  {
   "cell_type": "code",
   "execution_count": 2,
   "id": "eb484ab3",
   "metadata": {
    "tags": [
     "no-execution"
    ]
   },
   "outputs": [
    {
     "name": "stdout",
     "output_type": "stream",
     "text": [
      "Andrea\n",
      "Andrés\n",
      "Bea\n",
      "Bianca\n",
      "Claudia\n",
      "Dario\n",
      "Gabriella\n",
      "Karla\n",
      "Marielvic\n",
      "Patrycja\n",
      "Sebastián\n"
     ]
    }
   ],
   "source": [
    "for line in file:\n",
    "    print(line.strip())"
   ]
  },
  {
   "cell_type": "code",
   "execution_count": 3,
   "id": "2cf1e783",
   "metadata": {
    "tags": [
     "no-execution"
    ]
   },
   "outputs": [
    {
     "data": {
      "text/plain": [
       "False"
      ]
     },
     "execution_count": 3,
     "metadata": {},
     "output_type": "execute_result"
    }
   ],
   "source": [
    "file.closed"
   ]
  },
  {
   "cell_type": "code",
   "execution_count": 4,
   "id": "bceb9223",
   "metadata": {
    "tags": [
     "no-execution"
    ]
   },
   "outputs": [],
   "source": [
    "file.close()"
   ]
  },
  {
   "cell_type": "code",
   "execution_count": 5,
   "id": "2ffa43a4",
   "metadata": {
    "tags": [
     "no-execution"
    ]
   },
   "outputs": [
    {
     "data": {
      "text/plain": [
       "True"
      ]
     },
     "execution_count": 5,
     "metadata": {},
     "output_type": "execute_result"
    }
   ],
   "source": [
    "file.closed"
   ]
  },
  {
   "cell_type": "code",
   "execution_count": 6,
   "id": "d5c43730",
   "metadata": {
    "tags": [
     "raises-error"
    ]
   },
   "outputs": [
    {
     "ename": "ValueError",
     "evalue": "I/O operation on closed file.",
     "output_type": "error",
     "traceback": [
      "\u001b[1;31m---------------------------------------------------------------------------\u001b[0m",
      "\u001b[1;31mValueError\u001b[0m                                Traceback (most recent call last)",
      "\u001b[1;32m<ipython-input-6-f7e495340cc6>\u001b[0m in \u001b[0;36m<module>\u001b[1;34m\u001b[0m\n\u001b[0;32m      1\u001b[0m \u001b[1;31m# Raises an error, because the file has already been closed:\u001b[0m\u001b[1;33m\u001b[0m\u001b[1;33m\u001b[0m\u001b[1;33m\u001b[0m\u001b[0m\n\u001b[1;32m----> 2\u001b[1;33m \u001b[0mfile\u001b[0m\u001b[1;33m.\u001b[0m\u001b[0mread\u001b[0m\u001b[1;33m(\u001b[0m\u001b[1;33m)\u001b[0m\u001b[1;33m\u001b[0m\u001b[1;33m\u001b[0m\u001b[0m\n\u001b[0m",
      "\u001b[1;31mValueError\u001b[0m: I/O operation on closed file."
     ]
    }
   ],
   "source": [
    "# Raises an error, because the file has already been closed:\n",
    "file.read()"
   ]
  },
  {
   "cell_type": "markdown",
   "id": "18469172",
   "metadata": {},
   "source": [
    "To avoid forgetting to close the file, use a context manager:"
   ]
  },
  {
   "cell_type": "code",
   "execution_count": 7,
   "id": "825332d7",
   "metadata": {
    "tags": [
     "no-execution"
    ]
   },
   "outputs": [
    {
     "name": "stdout",
     "output_type": "stream",
     "text": [
      "Andrea\n",
      "Andrés\n",
      "Bea\n",
      "Bianca\n",
      "Claudia\n",
      "Dario\n",
      "Gabriella\n",
      "Karla\n",
      "Marielvic\n",
      "Patrycja\n",
      "Sebastián\n"
     ]
    }
   ],
   "source": [
    "with open(\"students.txt\", encoding=\"utf-8\") as file:\n",
    "    for line in file:\n",
    "        print(line.strip())"
   ]
  },
  {
   "cell_type": "code",
   "execution_count": 8,
   "id": "146625a5",
   "metadata": {
    "tags": [
     "no-execution"
    ]
   },
   "outputs": [
    {
     "data": {
      "text/plain": [
       "True"
      ]
     },
     "execution_count": 8,
     "metadata": {},
     "output_type": "execute_result"
    }
   ],
   "source": [
    "file.closed"
   ]
  },
  {
   "cell_type": "markdown",
   "id": "01844aca",
   "metadata": {},
   "source": [
    "<div class=\"alert alert-success\">\n",
    "\n",
    "<b>Best Practice:</b> Always use a context manager when opening a file, to ensure it gets automatically closed afterwards!\n",
    "\n",
    "</div>"
   ]
  },
  {
   "cell_type": "markdown",
   "id": "810a837b",
   "metadata": {},
   "source": [
    "## Changing the formatting of a figure"
   ]
  },
  {
   "cell_type": "markdown",
   "id": "d9f82555",
   "metadata": {},
   "source": [
    "`matplotlib` comes with [several different styles](https://matplotlib.org/stable/gallery/style_sheets/style_sheets_reference.html)."
   ]
  },
  {
   "cell_type": "code",
   "execution_count": 9,
   "id": "12c4dec5",
   "metadata": {},
   "outputs": [],
   "source": [
    "import matplotlib.pyplot as plt\n",
    "\n",
    "%matplotlib inline"
   ]
  },
  {
   "cell_type": "code",
   "execution_count": 10,
   "id": "9496f459",
   "metadata": {},
   "outputs": [
    {
     "data": {
      "text/plain": [
       "[<matplotlib.lines.Line2D at 0x2e06a782160>]"
      ]
     },
     "execution_count": 10,
     "metadata": {},
     "output_type": "execute_result"
    },
    {
     "data": {
      "image/png": "[encoded data removed]",
      "text/plain": [
       "<Figure size 432x288 with 1 Axes>"
      ]
     },
     "metadata": {
      "needs_background": "light"
     },
     "output_type": "display_data"
    }
   ],
   "source": [
    "fig, ax = plt.subplots()\n",
    "ax.plot([1, 4, 0, 7, 2, 5])"
   ]
  },
  {
   "cell_type": "markdown",
   "id": "9773c5ca",
   "metadata": {},
   "source": [
    "To apply a different style to a single figure, use a context manager:"
   ]
  },
  {
   "cell_type": "code",
   "execution_count": 11,
   "id": "2efc7418",
   "metadata": {},
   "outputs": [
    {
     "data": {
      "image/png": "[encoded data removed]",
      "text/plain": [
       "<Figure size 576x396 with 1 Axes>"
      ]
     },
     "metadata": {},
     "output_type": "display_data"
    }
   ],
   "source": [
    "with plt.style.context(\"seaborn\"):\n",
    "    fig, ax = plt.subplots()\n",
    "    ax.plot([1, 4, 0, 7, 2, 5])"
   ]
  },
  {
   "cell_type": "code",
   "execution_count": null,
   "id": "4e5b4b56",
   "metadata": {},
   "outputs": [],
   "source": [
    "fig, ax = plt.subplots()\n",
    "ax.plot([1, 4, 0, 7, 2, 5])"
   ]
  },
  {
   "cell_type": "markdown",
   "id": "7bb5c9c8",
   "metadata": {},
   "source": [
    "Without the context manager, the style applies to all figures afterwards:"
   ]
  },
  {
   "cell_type": "code",
   "execution_count": null,
   "id": "8939d6ba",
   "metadata": {},
   "outputs": [],
   "source": [
    "plt.style.use(\"ggplot\")"
   ]
  },
  {
   "cell_type": "code",
   "execution_count": null,
   "id": "d3082d34",
   "metadata": {},
   "outputs": [],
   "source": [
    "fig, ax = plt.subplots()\n",
    "ax.plot([1, 4, 0, 7, 2, 5])"
   ]
  },
  {
   "cell_type": "markdown",
   "id": "059c7bfe",
   "metadata": {},
   "source": [
    "## Other examples"
   ]
  },
  {
   "cell_type": "markdown",
   "id": "27ff3473",
   "metadata": {},
   "source": [
    "* Connect to an FTP server (and automatically close the connection)\n",
    "* Catch a warning in a block of code\n",
    "* ..."
   ]
  }
 ],
 "metadata": {
  "kernelspec": {
   "display_name": "Python 3",
   "language": "python",
   "name": "python3"
  },
  "language_info": {
   "codemirror_mode": {
    "name": "ipython",
    "version": 3
   },
   "file_extension": ".py",
   "mimetype": "text/x-python",
   "name": "python",
   "nbconvert_exporter": "python",
   "pygments_lexer": "ipython3",
   "version": "3.8.10"
  }
 },
 "nbformat": 4,
 "nbformat_minor": 5
}
