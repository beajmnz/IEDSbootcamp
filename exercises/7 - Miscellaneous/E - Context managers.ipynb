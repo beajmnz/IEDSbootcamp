{
 "cells": [
  {
   "cell_type": "markdown",
   "id": "a9175134",
   "metadata": {},
   "source": [
    "# Context managers"
   ]
  },
  {
   "cell_type": "markdown",
   "id": "ad6f1f82",
   "metadata": {},
   "source": [
    "> Context managers (i.e. `with` statements) ensure that **specific actions are executed before and/or after** some lines of code."
   ]
  },
  {
   "cell_type": "markdown",
   "id": "65482e29",
   "metadata": {},
   "source": [
    "## Automatically opening & closing a file"
   ]
  },
  {
   "cell_type": "markdown",
   "id": "3d5cc41a",
   "metadata": {},
   "source": [
    "When opening a file, it should be closed after reading the data:"
   ]
  },
  {
   "cell_type": "code",
   "execution_count": null,
   "id": "79570cd4",
   "metadata": {
    "tags": [
     "no-execution"
    ]
   },
   "outputs": [],
   "source": [
    "file = open(\"students.txt\", encoding=\"utf-8\")"
   ]
  },
  {
   "cell_type": "code",
   "execution_count": null,
   "id": "eb484ab3",
   "metadata": {
    "tags": [
     "no-execution"
    ]
   },
   "outputs": [],
   "source": [
    "for line in file:\n",
    "    print(line.strip())"
   ]
  },
  {
   "cell_type": "code",
   "execution_count": null,
   "id": "2cf1e783",
   "metadata": {
    "tags": [
     "no-execution"
    ]
   },
   "outputs": [],
   "source": [
    "file.closed"
   ]
  },
  {
   "cell_type": "code",
   "execution_count": null,
   "id": "bceb9223",
   "metadata": {
    "tags": [
     "no-execution"
    ]
   },
   "outputs": [],
   "source": [
    "file.close()"
   ]
  },
  {
   "cell_type": "code",
   "execution_count": null,
   "id": "2ffa43a4",
   "metadata": {
    "tags": [
     "no-execution"
    ]
   },
   "outputs": [],
   "source": [
    "file.closed"
   ]
  },
  {
   "cell_type": "code",
   "execution_count": null,
   "id": "d5c43730",
   "metadata": {
    "tags": [
     "raises-error"
    ]
   },
   "outputs": [],
   "source": [
    "# Raises an error, because the file has already been closed:\n",
    "file.read()"
   ]
  },
  {
   "cell_type": "markdown",
   "id": "18469172",
   "metadata": {},
   "source": [
    "To avoid forgetting to close the file, use a context manager:"
   ]
  },
  {
   "cell_type": "code",
   "execution_count": null,
   "id": "825332d7",
   "metadata": {
    "tags": [
     "no-execution"
    ]
   },
   "outputs": [],
   "source": [
    "with open(\"students.txt\", encoding=\"utf-8\") as file:\n",
    "    for line in file:\n",
    "        print(line.strip())"
   ]
  },
  {
   "cell_type": "code",
   "execution_count": null,
   "id": "146625a5",
   "metadata": {
    "tags": [
     "no-execution"
    ]
   },
   "outputs": [],
   "source": [
    "file.closed"
   ]
  },
  {
   "cell_type": "markdown",
   "id": "01844aca",
   "metadata": {},
   "source": [
    "<div class=\"alert alert-success\">\n",
    "\n",
    "<b>Best Practice:</b> Always use a context manager when opening a file, to ensure it gets automatically closed afterwards!\n",
    "\n",
    "</div>"
   ]
  },
  {
   "cell_type": "markdown",
   "id": "810a837b",
   "metadata": {},
   "source": [
    "## Changing the formatting of a figure"
   ]
  },
  {
   "cell_type": "markdown",
   "id": "d9f82555",
   "metadata": {},
   "source": [
    "`matplotlib` comes with [several different styles](https://matplotlib.org/stable/gallery/style_sheets/style_sheets_reference.html)."
   ]
  },
  {
   "cell_type": "code",
   "execution_count": null,
   "id": "12c4dec5",
   "metadata": {},
   "outputs": [],
   "source": [
    "import matplotlib.pyplot as plt\n",
    "\n",
    "%matplotlib inline"
   ]
  },
  {
   "cell_type": "code",
   "execution_count": null,
   "id": "9496f459",
   "metadata": {},
   "outputs": [],
   "source": [
    "fig, ax = plt.subplots()\n",
    "ax.plot([1, 4, 0, 7, 2, 5])"
   ]
  },
  {
   "cell_type": "markdown",
   "id": "9773c5ca",
   "metadata": {},
   "source": [
    "To apply a different style to a single figure, use a context manager:"
   ]
  },
  {
   "cell_type": "code",
   "execution_count": null,
   "id": "2efc7418",
   "metadata": {},
   "outputs": [],
   "source": [
    "with plt.style.context(\"seaborn\"):\n",
    "    fig, ax = plt.subplots()\n",
    "    ax.plot([1, 4, 0, 7, 2, 5])"
   ]
  },
  {
   "cell_type": "code",
   "execution_count": null,
   "id": "4e5b4b56",
   "metadata": {},
   "outputs": [],
   "source": [
    "fig, ax = plt.subplots()\n",
    "ax.plot([1, 4, 0, 7, 2, 5])"
   ]
  },
  {
   "cell_type": "markdown",
   "id": "7bb5c9c8",
   "metadata": {},
   "source": [
    "Without the context manager, the style applies to all figures afterwards:"
   ]
  },
  {
   "cell_type": "code",
   "execution_count": null,
   "id": "8939d6ba",
   "metadata": {},
   "outputs": [],
   "source": [
    "plt.style.use(\"ggplot\")"
   ]
  },
  {
   "cell_type": "code",
   "execution_count": null,
   "id": "d3082d34",
   "metadata": {},
   "outputs": [],
   "source": [
    "fig, ax = plt.subplots()\n",
    "ax.plot([1, 4, 0, 7, 2, 5])"
   ]
  },
  {
   "cell_type": "markdown",
   "id": "059c7bfe",
   "metadata": {},
   "source": [
    "## Other examples"
   ]
  },
  {
   "cell_type": "markdown",
   "id": "27ff3473",
   "metadata": {},
   "source": [
    "* Connect to an FTP server (and automatically close the connection)\n",
    "* Catch a warning in a block of code\n",
    "* ..."
   ]
  }
 ],
 "metadata": {
  "kernelspec": {
   "display_name": "Python 3",
   "language": "python",
   "name": "python3"
  },
  "language_info": {
   "codemirror_mode": {
    "name": "ipython",
    "version": 3
   },
   "file_extension": ".py",
   "mimetype": "text/x-python",
   "name": "python",
   "nbconvert_exporter": "python",
   "pygments_lexer": "ipython3",
   "version": "3.9.2"
  }
 },
 "nbformat": 4,
 "nbformat_minor": 5
}
