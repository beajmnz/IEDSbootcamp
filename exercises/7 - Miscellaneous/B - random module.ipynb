{
 "cells": [
  {
   "cell_type": "markdown",
   "id": "0859bba8",
   "metadata": {},
   "source": [
    "# `random` module"
   ]
  },
  {
   "cell_type": "code",
   "execution_count": null,
   "id": "86905f43",
   "metadata": {},
   "outputs": [],
   "source": [
    "import random"
   ]
  },
  {
   "cell_type": "code",
   "execution_count": null,
   "id": "6f13810b",
   "metadata": {},
   "outputs": [],
   "source": [
    "random.randint(1, 10)"
   ]
  },
  {
   "cell_type": "code",
   "execution_count": null,
   "id": "1db5487d",
   "metadata": {},
   "outputs": [],
   "source": [
    "students = [\n",
    "    \"Andrea\",\n",
    "    \"Andrés\",\n",
    "    \"Bea\",\n",
    "    \"Bianca\",\n",
    "    \"Claudia\",\n",
    "    \"Dario\",\n",
    "    \"Gabriella\",\n",
    "    \"Karla\",\n",
    "    \"Marielvic\",\n",
    "    \"Patrycja\",\n",
    "    \"Sebastián\",\n",
    "]"
   ]
  },
  {
   "cell_type": "code",
   "execution_count": null,
   "id": "9c3ea4f9",
   "metadata": {},
   "outputs": [],
   "source": [
    "random.choice(students)"
   ]
  }
 ],
 "metadata": {
  "kernelspec": {
   "display_name": "Python 3",
   "language": "python",
   "name": "python3"
  },
  "language_info": {
   "codemirror_mode": {
    "name": "ipython",
    "version": 3
   },
   "file_extension": ".py",
   "mimetype": "text/x-python",
   "name": "python",
   "nbconvert_exporter": "python",
   "pygments_lexer": "ipython3",
   "version": "3.9.2"
  }
 },
 "nbformat": 4,
 "nbformat_minor": 5
}
