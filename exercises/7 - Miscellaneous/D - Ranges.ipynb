{
 "cells": [
  {
   "cell_type": "code",
   "execution_count": 1,
   "id": "05f5a882",
   "metadata": {},
   "outputs": [
    {
     "data": {
      "application/javascript": [
       "\n",
       "            setTimeout(function() {\n",
       "                var nbb_cell_id = 1;\n",
       "                var nbb_unformatted_code = \"%load_ext nb_black\";\n",
       "                var nbb_formatted_code = \"%load_ext nb_black\";\n",
       "                var nbb_cells = Jupyter.notebook.get_cells();\n",
       "                for (var i = 0; i < nbb_cells.length; ++i) {\n",
       "                    if (nbb_cells[i].input_prompt_number == nbb_cell_id) {\n",
       "                        if (nbb_cells[i].get_text() == nbb_unformatted_code) {\n",
       "                             nbb_cells[i].set_text(nbb_formatted_code);\n",
       "                        }\n",
       "                        break;\n",
       "                    }\n",
       "                }\n",
       "            }, 500);\n",
       "            "
      ],
      "text/plain": [
       "<IPython.core.display.Javascript object>"
      ]
     },
     "metadata": {},
     "output_type": "display_data"
    }
   ],
   "source": [
    "%load_ext nb_black"
   ]
  },
  {
   "cell_type": "markdown",
   "id": "e018059c",
   "metadata": {},
   "source": [
    "# Ranges"
   ]
  },
  {
   "cell_type": "markdown",
   "id": "5a0c58e7",
   "metadata": {},
   "source": [
    "```python\n",
    "range(stop)\n",
    "range(start, stop)\n",
    "range(start, stop, step)\n",
    "```"
   ]
  },
  {
   "cell_type": "markdown",
   "id": "e591f22f",
   "metadata": {},
   "source": [
    "Create a range of 10 numbers, starting from 0:"
   ]
  },
  {
   "cell_type": "code",
   "execution_count": null,
   "id": "746f05de",
   "metadata": {},
   "outputs": [],
   "source": [
    "range(10)"
   ]
  },
  {
   "cell_type": "code",
   "execution_count": null,
   "id": "46d76999",
   "metadata": {},
   "outputs": [],
   "source": [
    "# Equivalent to:\n",
    "# range(0, 10)"
   ]
  },
  {
   "cell_type": "code",
   "execution_count": null,
   "id": "a0fc1f43",
   "metadata": {},
   "outputs": [],
   "source": [
    "len(range(10))"
   ]
  },
  {
   "cell_type": "code",
   "execution_count": null,
   "id": "69f50a6e",
   "metadata": {},
   "outputs": [],
   "source": [
    "10 - 0"
   ]
  },
  {
   "cell_type": "markdown",
   "id": "8bf1c8ae",
   "metadata": {},
   "source": [
    "Materialize this range into a list:"
   ]
  },
  {
   "cell_type": "code",
   "execution_count": null,
   "id": "3562656d",
   "metadata": {},
   "outputs": [],
   "source": [
    "list(range(10))"
   ]
  },
  {
   "cell_type": "markdown",
   "id": "4eb516c4",
   "metadata": {},
   "source": [
    "Use the range in a `for` loop:"
   ]
  },
  {
   "cell_type": "code",
   "execution_count": null,
   "id": "6441cc67",
   "metadata": {},
   "outputs": [],
   "source": [
    "for number in range(10):\n",
    "    print(number)"
   ]
  },
  {
   "cell_type": "markdown",
   "id": "02ab5048",
   "metadata": {},
   "source": [
    "Create a range with 10 numbers starting at 5, and turn it into a list:"
   ]
  },
  {
   "cell_type": "code",
   "execution_count": null,
   "id": "135530ed",
   "metadata": {},
   "outputs": [],
   "source": [
    "list(range(5, 15))"
   ]
  },
  {
   "cell_type": "code",
   "execution_count": null,
   "id": "68f6c824",
   "metadata": {},
   "outputs": [],
   "source": [
    "15 - 5"
   ]
  },
  {
   "cell_type": "markdown",
   "id": "a37717bb",
   "metadata": {},
   "source": [
    "Create a range with every other number from 5 (included) to 15 (excluded), and turn it into a list:"
   ]
  },
  {
   "cell_type": "code",
   "execution_count": null,
   "id": "dcf8970d",
   "metadata": {},
   "outputs": [],
   "source": [
    "list(range(5, 15, 2))"
   ]
  }
 ],
 "metadata": {
  "kernelspec": {
   "display_name": "Python 3",
   "language": "python",
   "name": "python3"
  },
  "language_info": {
   "codemirror_mode": {
    "name": "ipython",
    "version": 3
   },
   "file_extension": ".py",
   "mimetype": "text/x-python",
   "name": "python",
   "nbconvert_exporter": "python",
   "pygments_lexer": "ipython3",
   "version": "3.8.8"
  }
 },
 "nbformat": 4,
 "nbformat_minor": 5
}
