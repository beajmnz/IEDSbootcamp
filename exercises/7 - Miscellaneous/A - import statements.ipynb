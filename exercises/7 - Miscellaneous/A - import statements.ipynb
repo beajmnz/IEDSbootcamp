{
 "cells": [
  {
   "cell_type": "markdown",
   "id": "b5fbf551",
   "metadata": {},
   "source": [
    "# `import` statements"
   ]
  },
  {
   "cell_type": "markdown",
   "id": "a0df7501",
   "metadata": {},
   "source": [
    "* **Built-in modules**: The [Python Standard Library](https://docs.python.org/3/library/) contains numerous modules that are included by default with Python (e.g. `math`, `random`)\n",
    "* **Public modules**: Many more modules and packages are available from the [Python Package Index](https://pypi.org/) (e.g. `pandas`, `matplotlib`)\n",
    "* **Personal modules**: Modules created locally"
   ]
  },
  {
   "cell_type": "markdown",
   "id": "6d73f088",
   "metadata": {},
   "source": [
    "## Built-in modules: `math`"
   ]
  },
  {
   "cell_type": "markdown",
   "id": "efb042cc",
   "metadata": {},
   "source": [
    "How to calculate the square root of a number? Or the cosine? By using the `math` module!"
   ]
  },
  {
   "cell_type": "code",
   "execution_count": 1,
   "id": "81a3fc0f",
   "metadata": {},
   "outputs": [],
   "source": [
    "import math"
   ]
  },
  {
   "cell_type": "code",
   "execution_count": 2,
   "id": "7e0e2e97",
   "metadata": {
    "tags": [
     "no-execution"
    ]
   },
   "outputs": [
    {
     "data": {
      "text/plain": [
       "<module 'math' (built-in)>"
      ]
     },
     "execution_count": 2,
     "metadata": {},
     "output_type": "execute_result"
    }
   ],
   "source": [
    "# Warning: this command can leak some private information!\n",
    "math"
   ]
  },
  {
   "cell_type": "code",
   "execution_count": 3,
   "id": "39187271",
   "metadata": {},
   "outputs": [
    {
     "data": {
      "text/plain": [
       "module"
      ]
     },
     "execution_count": 3,
     "metadata": {},
     "output_type": "execute_result"
    }
   ],
   "source": [
    "type(math)"
   ]
  },
  {
   "cell_type": "markdown",
   "id": "cb69123e",
   "metadata": {},
   "source": [
    "To access the functionalities of the `math` module, use the `math.` prefix:"
   ]
  },
  {
   "cell_type": "code",
   "execution_count": 4,
   "id": "c673ae7c",
   "metadata": {},
   "outputs": [
    {
     "data": {
      "text/plain": [
       "4.0"
      ]
     },
     "execution_count": 4,
     "metadata": {},
     "output_type": "execute_result"
    }
   ],
   "source": [
    "math.sqrt(16)"
   ]
  },
  {
   "cell_type": "code",
   "execution_count": 5,
   "id": "566f7e9c",
   "metadata": {},
   "outputs": [
    {
     "data": {
      "text/plain": [
       "1.0"
      ]
     },
     "execution_count": 5,
     "metadata": {},
     "output_type": "execute_result"
    }
   ],
   "source": [
    "math.cos(0)"
   ]
  },
  {
   "cell_type": "code",
   "execution_count": 6,
   "id": "693abe87",
   "metadata": {},
   "outputs": [
    {
     "data": {
      "text/plain": [
       "3.141592653589793"
      ]
     },
     "execution_count": 6,
     "metadata": {},
     "output_type": "execute_result"
    }
   ],
   "source": [
    "math.pi"
   ]
  },
  {
   "cell_type": "code",
   "execution_count": 7,
   "id": "5c97bc38",
   "metadata": {},
   "outputs": [
    {
     "data": {
      "text/plain": [
       "-1.0"
      ]
     },
     "execution_count": 7,
     "metadata": {},
     "output_type": "execute_result"
    }
   ],
   "source": [
    "math.cos(math.pi)"
   ]
  },
  {
   "cell_type": "markdown",
   "id": "7ae3400d",
   "metadata": {},
   "source": [
    "## Public modules: `pandas`"
   ]
  },
  {
   "cell_type": "code",
   "execution_count": 8,
   "id": "8b070955",
   "metadata": {},
   "outputs": [],
   "source": [
    "import pandas as pd"
   ]
  },
  {
   "cell_type": "code",
   "execution_count": 9,
   "id": "1e0e3194",
   "metadata": {
    "tags": [
     "no-execution"
    ]
   },
   "outputs": [
    {
     "data": {
      "text/plain": [
       "<module 'pandas' from 'C:\\\\Users\\\\Bea\\\\Anaconda3\\\\lib\\\\site-packages\\\\pandas\\\\__init__.py'>"
      ]
     },
     "execution_count": 9,
     "metadata": {},
     "output_type": "execute_result"
    }
   ],
   "source": [
    "# Warning: this command can leak some private information!\n",
    "pd"
   ]
  },
  {
   "cell_type": "code",
   "execution_count": 10,
   "id": "2870bc00",
   "metadata": {},
   "outputs": [
    {
     "data": {
      "text/plain": [
       "module"
      ]
     },
     "execution_count": 10,
     "metadata": {},
     "output_type": "execute_result"
    }
   ],
   "source": [
    "type(pd)"
   ]
  },
  {
   "cell_type": "markdown",
   "id": "b49be4f0",
   "metadata": {},
   "source": [
    "<div class=\"alert alert-success\">\n",
    "\n",
    "<b>Best Practice:</b> Use well-known aliases (e.g. <code>import pandas as pd</code>; <code>import numpy as np</code>), but avoid creating personal aliases\n",
    "\n",
    "</div>"
   ]
  },
  {
   "cell_type": "markdown",
   "id": "80e0a00a",
   "metadata": {},
   "source": [
    "For most external modules, the version number is available as the `.__version__` attribute:"
   ]
  },
  {
   "cell_type": "code",
   "execution_count": 11,
   "id": "0b49f0ad",
   "metadata": {},
   "outputs": [
    {
     "data": {
      "text/plain": [
       "'1.2.1'"
      ]
     },
     "execution_count": 11,
     "metadata": {},
     "output_type": "execute_result"
    }
   ],
   "source": [
    "pd.__version__"
   ]
  },
  {
   "cell_type": "markdown",
   "id": "83ed6326",
   "metadata": {},
   "source": [
    "## Personal modules: `ie`"
   ]
  },
  {
   "cell_type": "code",
   "execution_count": 12,
   "id": "dfea41f1",
   "metadata": {
    "tags": [
     "no-execution"
    ]
   },
   "outputs": [],
   "source": [
    "import ie"
   ]
  },
  {
   "cell_type": "code",
   "execution_count": 13,
   "id": "011ca9ac",
   "metadata": {
    "tags": [
     "no-execution"
    ]
   },
   "outputs": [
    {
     "name": "stdout",
     "output_type": "stream",
     "text": [
      "Hello, World\n"
     ]
    }
   ],
   "source": [
    "print(\"Hello, World\")"
   ]
  },
  {
   "cell_type": "code",
   "execution_count": 14,
   "id": "65a62be6",
   "metadata": {
    "tags": [
     "no-execution"
    ]
   },
   "outputs": [
    {
     "name": "stdout",
     "output_type": "stream",
     "text": [
      "IE Data Science Bootcamp\n"
     ]
    }
   ],
   "source": [
    "ie.print(\"Hello, World\")"
   ]
  },
  {
   "cell_type": "markdown",
   "id": "7208ed83",
   "metadata": {},
   "source": [
    "<div class=\"alert alert-info\">\n",
    "\n",
    "<b>Note:</b> A folder named <code>__pycache__</code> gets created when importing local modules; it can be safely deleted\n",
    "\n",
    "</div>"
   ]
  },
  {
   "cell_type": "markdown",
   "id": "67d8114c",
   "metadata": {},
   "source": [
    "## Pitfall #1: Wildcard imports"
   ]
  },
  {
   "cell_type": "code",
   "execution_count": null,
   "id": "1cafe4bc",
   "metadata": {},
   "outputs": [],
   "source": [
    "math.pi"
   ]
  },
  {
   "cell_type": "code",
   "execution_count": null,
   "id": "8fdcd8c1",
   "metadata": {
    "tags": [
     "raises-error"
    ]
   },
   "outputs": [],
   "source": [
    "# Raises an error, because pi is not defined:\n",
    "pi"
   ]
  },
  {
   "cell_type": "markdown",
   "id": "927a759f",
   "metadata": {},
   "source": [
    "It is possible to import something from a module and not require the prefix:"
   ]
  },
  {
   "cell_type": "code",
   "execution_count": null,
   "id": "0b530848",
   "metadata": {},
   "outputs": [],
   "source": [
    "from math import pi"
   ]
  },
  {
   "cell_type": "code",
   "execution_count": null,
   "id": "2142b148",
   "metadata": {},
   "outputs": [],
   "source": [
    "pi"
   ]
  },
  {
   "cell_type": "markdown",
   "id": "9b504317",
   "metadata": {},
   "source": [
    "However, it is better to define short names explicitly:"
   ]
  },
  {
   "cell_type": "code",
   "execution_count": null,
   "id": "9820fddc",
   "metadata": {},
   "outputs": [],
   "source": [
    "import math"
   ]
  },
  {
   "cell_type": "code",
   "execution_count": null,
   "id": "d784b0a0",
   "metadata": {},
   "outputs": [],
   "source": [
    "pi = math.pi"
   ]
  },
  {
   "cell_type": "code",
   "execution_count": null,
   "id": "6f2b99f4",
   "metadata": {},
   "outputs": [],
   "source": [
    "cos = math.cos"
   ]
  },
  {
   "cell_type": "code",
   "execution_count": null,
   "id": "8a134568",
   "metadata": {},
   "outputs": [],
   "source": [
    "cos(pi)"
   ]
  },
  {
   "cell_type": "code",
   "execution_count": null,
   "id": "e5777d28",
   "metadata": {},
   "outputs": [],
   "source": [
    "del pi"
   ]
  },
  {
   "cell_type": "code",
   "execution_count": null,
   "id": "06d3a0cf",
   "metadata": {},
   "outputs": [],
   "source": [
    "del cos"
   ]
  },
  {
   "cell_type": "markdown",
   "id": "a3f190a5",
   "metadata": {},
   "source": [
    "<div class=\"alert alert-success\">\n",
    "\n",
    "<b>Best Practice:</b> Use explicit imports, and define variables to avoid having to type the prefix\n",
    "\n",
    "</div>"
   ]
  },
  {
   "cell_type": "markdown",
   "id": "f6f17049",
   "metadata": {},
   "source": [
    "Though frowned upon, it is technically possible to import everything from a module without the prefix:"
   ]
  },
  {
   "cell_type": "code",
   "execution_count": null,
   "id": "daf7a1a5",
   "metadata": {},
   "outputs": [],
   "source": [
    "from math import *"
   ]
  },
  {
   "cell_type": "code",
   "execution_count": null,
   "id": "0edfb165",
   "metadata": {},
   "outputs": [],
   "source": [
    "pi"
   ]
  },
  {
   "cell_type": "code",
   "execution_count": null,
   "id": "db5b443c",
   "metadata": {},
   "outputs": [],
   "source": [
    "cos(pi)"
   ]
  },
  {
   "cell_type": "markdown",
   "id": "444fece1",
   "metadata": {},
   "source": [
    "At best, this creates \"namespace pollution\"; at worst, bugs that are difficult to track down:"
   ]
  },
  {
   "cell_type": "code",
   "execution_count": null,
   "id": "5d90b1f8",
   "metadata": {
    "tags": [
     "no-execution"
    ]
   },
   "outputs": [],
   "source": [
    "print(\"Hello, World\")"
   ]
  },
  {
   "cell_type": "code",
   "execution_count": null,
   "id": "31678a69",
   "metadata": {
    "tags": [
     "no-execution"
    ]
   },
   "outputs": [],
   "source": [
    "ie.print(\"Hello, World\")"
   ]
  },
  {
   "cell_type": "code",
   "execution_count": null,
   "id": "7db197b2",
   "metadata": {
    "tags": [
     "no-execution"
    ]
   },
   "outputs": [],
   "source": [
    "from ie import *"
   ]
  },
  {
   "cell_type": "code",
   "execution_count": null,
   "id": "2c16a2de",
   "metadata": {
    "tags": [
     "no-execution"
    ]
   },
   "outputs": [],
   "source": [
    "print(\"Hello, World\")"
   ]
  },
  {
   "cell_type": "code",
   "execution_count": null,
   "id": "cfcad455",
   "metadata": {
    "tags": [
     "no-execution"
    ]
   },
   "outputs": [],
   "source": [
    "print"
   ]
  },
  {
   "cell_type": "markdown",
   "id": "4070184e",
   "metadata": {},
   "source": [
    "<div class=\"alert alert-danger\">\n",
    "\n",
    "<b>Alert:</b> Never use wildcard imports!\n",
    "\n",
    "</div>"
   ]
  },
  {
   "cell_type": "markdown",
   "id": "77d76464",
   "metadata": {},
   "source": [
    "## Pitfall #2: Local files using the same name as modules"
   ]
  },
  {
   "cell_type": "code",
   "execution_count": null,
   "id": "c9d9eabf",
   "metadata": {},
   "outputs": [],
   "source": [
    "import pandas as pd"
   ]
  },
  {
   "cell_type": "code",
   "execution_count": null,
   "id": "92d91fce",
   "metadata": {
    "tags": [
     "no-execution"
    ]
   },
   "outputs": [],
   "source": [
    "# Warning: this command can leak some private information!\n",
    "pd"
   ]
  },
  {
   "cell_type": "code",
   "execution_count": null,
   "id": "bd56df2a",
   "metadata": {},
   "outputs": [],
   "source": [
    "# Works the first time:\n",
    "pd.__version__"
   ]
  },
  {
   "cell_type": "markdown",
   "id": "7fad6efa",
   "metadata": {},
   "source": [
    "**DEMO:** Create a file named `pandas.py`, restart the kernel, and run the commands above unmodified!"
   ]
  },
  {
   "cell_type": "code",
   "execution_count": null,
   "id": "c3dd2dda",
   "metadata": {
    "tags": [
     "no-execution"
    ]
   },
   "outputs": [],
   "source": [
    "import pandas as pd"
   ]
  },
  {
   "cell_type": "code",
   "execution_count": null,
   "id": "6a0ea24f",
   "metadata": {
    "tags": [
     "no-execution"
    ]
   },
   "outputs": [],
   "source": [
    "# Warning: this command can leak some private information!\n",
    "pd"
   ]
  },
  {
   "cell_type": "code",
   "execution_count": null,
   "id": "5dff8b11",
   "metadata": {
    "tags": [
     "raises-error",
     "no-execution"
    ]
   },
   "outputs": [],
   "source": [
    "# Raises an error, but only the second time, after the local \"pandas.py\" file has been created:\n",
    "pd.__version__"
   ]
  }
 ],
 "metadata": {
  "kernelspec": {
   "display_name": "Python 3",
   "language": "python",
   "name": "python3"
  },
  "language_info": {
   "codemirror_mode": {
    "name": "ipython",
    "version": 3
   },
   "file_extension": ".py",
   "mimetype": "text/x-python",
   "name": "python",
   "nbconvert_exporter": "python",
   "pygments_lexer": "ipython3",
   "version": "3.8.5"
  }
 },
 "nbformat": 4,
 "nbformat_minor": 5
}
