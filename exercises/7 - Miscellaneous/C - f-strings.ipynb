{
 "cells": [
  {
   "cell_type": "markdown",
   "id": "70c2ac46",
   "metadata": {},
   "source": [
    "# f-strings"
   ]
  },
  {
   "cell_type": "code",
   "execution_count": null,
   "id": "3337e127",
   "metadata": {},
   "outputs": [],
   "source": [
    "name = \"JC\""
   ]
  },
  {
   "cell_type": "code",
   "execution_count": null,
   "id": "1a72ca07",
   "metadata": {},
   "outputs": [],
   "source": [
    "print(f\"My name is {name}\")"
   ]
  },
  {
   "cell_type": "code",
   "execution_count": null,
   "id": "91943c72",
   "metadata": {},
   "outputs": [],
   "source": [
    "population = 46_733_038"
   ]
  },
  {
   "cell_type": "code",
   "execution_count": null,
   "id": "1ca3dbef",
   "metadata": {},
   "outputs": [],
   "source": [
    "print(f\"The population of Spain is {population}\")"
   ]
  },
  {
   "cell_type": "code",
   "execution_count": null,
   "id": "7ca9d4b6",
   "metadata": {},
   "outputs": [],
   "source": [
    "print(f\"The population of Spain is {population:_}\")"
   ]
  },
  {
   "cell_type": "code",
   "execution_count": null,
   "id": "620d4fc4",
   "metadata": {},
   "outputs": [],
   "source": [
    "import math"
   ]
  },
  {
   "cell_type": "code",
   "execution_count": null,
   "id": "be0302e7",
   "metadata": {},
   "outputs": [],
   "source": [
    "math.pi"
   ]
  },
  {
   "cell_type": "code",
   "execution_count": null,
   "id": "22199411",
   "metadata": {},
   "outputs": [],
   "source": [
    "print(f\"pi is {math.pi}\")"
   ]
  },
  {
   "cell_type": "code",
   "execution_count": null,
   "id": "8fb8d2f2",
   "metadata": {},
   "outputs": [],
   "source": [
    "print(f\"pi is {math.pi:.4f}\")"
   ]
  },
  {
   "cell_type": "code",
   "execution_count": null,
   "id": "f406e8d0",
   "metadata": {},
   "outputs": [],
   "source": [
    "print(f\"pi is {math.pi:.2f}\")"
   ]
  },
  {
   "cell_type": "code",
   "execution_count": null,
   "id": "2e2a8c05",
   "metadata": {},
   "outputs": [],
   "source": [
    "percentage = 11 / 13"
   ]
  },
  {
   "cell_type": "code",
   "execution_count": null,
   "id": "82912b65",
   "metadata": {},
   "outputs": [],
   "source": [
    "print(f\"{percentage} of my students are alive!\")"
   ]
  },
  {
   "cell_type": "code",
   "execution_count": null,
   "id": "f44a93c0",
   "metadata": {},
   "outputs": [],
   "source": [
    "print(f\"{percentage:%} of my students are alive!\")"
   ]
  },
  {
   "cell_type": "code",
   "execution_count": null,
   "id": "041b71a8",
   "metadata": {},
   "outputs": [],
   "source": [
    "print(f\"{percentage:.2%} of my students are alive!\")"
   ]
  },
  {
   "cell_type": "markdown",
   "id": "6fb79977",
   "metadata": {},
   "source": [
    "<div class=\"alert alert-info\">\n",
    "\n",
    "<b>Note:</b> f-strings are very powerful! All available options are documented in the [Format Specification Mini-Language](https://docs.python.org/3/library/string.html#format-specification-mini-language)\n",
    "\n",
    "</div>"
   ]
  }
 ],
 "metadata": {
  "kernelspec": {
   "display_name": "Python 3",
   "language": "python",
   "name": "python3"
  },
  "language_info": {
   "codemirror_mode": {
    "name": "ipython",
    "version": 3
   },
   "file_extension": ".py",
   "mimetype": "text/x-python",
   "name": "python",
   "nbconvert_exporter": "python",
   "pygments_lexer": "ipython3",
   "version": "3.9.2"
  }
 },
 "nbformat": 4,
 "nbformat_minor": 5
}
