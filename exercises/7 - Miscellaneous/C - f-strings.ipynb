{
 "cells": [
  {
   "cell_type": "markdown",
   "id": "70c2ac46",
   "metadata": {},
   "source": [
    "# f-strings"
   ]
  },
  {
   "cell_type": "code",
   "execution_count": 1,
   "id": "3337e127",
   "metadata": {},
   "outputs": [],
   "source": [
    "name = \"JC\""
   ]
  },
  {
   "cell_type": "code",
   "execution_count": 2,
   "id": "1a72ca07",
   "metadata": {},
   "outputs": [
    {
     "name": "stdout",
     "output_type": "stream",
     "text": [
      "My name is JC\n"
     ]
    }
   ],
   "source": [
    "print(f\"My name is {name}\")"
   ]
  },
  {
   "cell_type": "code",
   "execution_count": 3,
   "id": "91943c72",
   "metadata": {},
   "outputs": [],
   "source": [
    "population = 46_733_038"
   ]
  },
  {
   "cell_type": "code",
   "execution_count": 4,
   "id": "1ca3dbef",
   "metadata": {},
   "outputs": [
    {
     "name": "stdout",
     "output_type": "stream",
     "text": [
      "The population of Spain is 46733038\n"
     ]
    }
   ],
   "source": [
    "print(f\"The population of Spain is {population}\")"
   ]
  },
  {
   "cell_type": "code",
   "execution_count": 5,
   "id": "7ca9d4b6",
   "metadata": {},
   "outputs": [
    {
     "name": "stdout",
     "output_type": "stream",
     "text": [
      "The population of Spain is 46_733_038\n"
     ]
    }
   ],
   "source": [
    "print(f\"The population of Spain is {population:_}\")"
   ]
  },
  {
   "cell_type": "code",
   "execution_count": 6,
   "id": "620d4fc4",
   "metadata": {},
   "outputs": [],
   "source": [
    "import math"
   ]
  },
  {
   "cell_type": "code",
   "execution_count": 7,
   "id": "be0302e7",
   "metadata": {},
   "outputs": [
    {
     "data": {
      "text/plain": [
       "3.141592653589793"
      ]
     },
     "execution_count": 7,
     "metadata": {},
     "output_type": "execute_result"
    }
   ],
   "source": [
    "math.pi"
   ]
  },
  {
   "cell_type": "code",
   "execution_count": 8,
   "id": "22199411",
   "metadata": {},
   "outputs": [
    {
     "name": "stdout",
     "output_type": "stream",
     "text": [
      "pi is 3.141592653589793\n"
     ]
    }
   ],
   "source": [
    "print(f\"pi is {math.pi}\")"
   ]
  },
  {
   "cell_type": "code",
   "execution_count": 9,
   "id": "8fb8d2f2",
   "metadata": {},
   "outputs": [
    {
     "name": "stdout",
     "output_type": "stream",
     "text": [
      "pi is 3.1416\n"
     ]
    }
   ],
   "source": [
    "print(f\"pi is {math.pi:.4f}\")"
   ]
  },
  {
   "cell_type": "code",
   "execution_count": 10,
   "id": "f406e8d0",
   "metadata": {},
   "outputs": [
    {
     "name": "stdout",
     "output_type": "stream",
     "text": [
      "pi is 3.14\n"
     ]
    }
   ],
   "source": [
    "print(f\"pi is {math.pi:.2f}\")"
   ]
  },
  {
   "cell_type": "code",
   "execution_count": 11,
   "id": "2e2a8c05",
   "metadata": {},
   "outputs": [],
   "source": [
    "percentage = 11 / 13"
   ]
  },
  {
   "cell_type": "code",
   "execution_count": 12,
   "id": "82912b65",
   "metadata": {},
   "outputs": [
    {
     "name": "stdout",
     "output_type": "stream",
     "text": [
      "0.8461538461538461 of my students are alive!\n"
     ]
    }
   ],
   "source": [
    "print(f\"{percentage} of my students are alive!\")"
   ]
  },
  {
   "cell_type": "code",
   "execution_count": 13,
   "id": "f44a93c0",
   "metadata": {},
   "outputs": [
    {
     "name": "stdout",
     "output_type": "stream",
     "text": [
      "84.615385% of my students are alive!\n"
     ]
    }
   ],
   "source": [
    "print(f\"{percentage:%} of my students are alive!\")"
   ]
  },
  {
   "cell_type": "code",
   "execution_count": 15,
   "id": "041b71a8",
   "metadata": {},
   "outputs": [
    {
     "name": "stdout",
     "output_type": "stream",
     "text": [
      "85% of my students are alive!\n"
     ]
    }
   ],
   "source": [
    "print(f\"{percentage:.0%} of my students are alive!\")"
   ]
  },
  {
   "cell_type": "markdown",
   "id": "6fb79977",
   "metadata": {},
   "source": [
    "<div class=\"alert alert-info\">\n",
    "\n",
    "<b>Note:</b> f-strings are very powerful! All available options are documented in the [Format Specification Mini-Language](https://docs.python.org/3/library/string.html#format-specification-mini-language)\n",
    "\n",
    "</div>"
   ]
  }
 ],
 "metadata": {
  "kernelspec": {
   "display_name": "Python 3",
   "language": "python",
   "name": "python3"
  },
  "language_info": {
   "codemirror_mode": {
    "name": "ipython",
    "version": 3
   },
   "file_extension": ".py",
   "mimetype": "text/x-python",
   "name": "python",
   "nbconvert_exporter": "python",
   "pygments_lexer": "ipython3",
   "version": "3.8.5"
  }
 },
 "nbformat": 4,
 "nbformat_minor": 5
}
