{
 "cells": [
  {
   "cell_type": "markdown",
   "id": "0ead90df",
   "metadata": {},
   "source": [
    "# Complexity"
   ]
  },
  {
   "cell_type": "markdown",
   "id": "fca5578a",
   "metadata": {},
   "source": [
    "To understand complexity and how it affects performance, watch Ned Batchelder\n",
    "'s [Big-O: How Code Slows as Data Grows\n",
    "](https://nedbatchelder.com/text/bigo.html) presentation."
   ]
  }
 ],
 "metadata": {
  "kernelspec": {
   "display_name": "Python 3",
   "language": "python",
   "name": "python3"
  },
  "language_info": {
   "codemirror_mode": {
    "name": "ipython",
    "version": 3
   },
   "file_extension": ".py",
   "mimetype": "text/x-python",
   "name": "python",
   "nbconvert_exporter": "python",
   "pygments_lexer": "ipython3",
   "version": "3.9.2"
  }
 },
 "nbformat": 4,
 "nbformat_minor": 5
}
