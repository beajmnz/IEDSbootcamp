{
 "cells": [
  {
   "cell_type": "markdown",
   "id": "6e42aa53",
   "metadata": {},
   "source": [
    "# B - Rock, Paper, Scissors"
   ]
  },
  {
   "cell_type": "markdown",
   "id": "cf615e4f",
   "metadata": {},
   "source": [
    "At each turn, the player is asked to pick either Rock, Paper, or Scissors.  \n",
    "The program also randomly picks one of these options.  \n",
    "When both the player and the computer pick the same choice, there is no winner.  \n",
    "If they pick different choices, the winner is based on the following:\n",
    "- Scissors win over Paper\n",
    "- Paper wins over Rock\n",
    "- Rock wins over Scissors"
   ]
  }
 ],
 "metadata": {
  "kernelspec": {
   "display_name": "Python 3",
   "language": "python",
   "name": "python3"
  },
  "language_info": {
   "codemirror_mode": {
    "name": "ipython",
    "version": 3
   },
   "file_extension": ".py",
   "mimetype": "text/x-python",
   "name": "python",
   "nbconvert_exporter": "python",
   "pygments_lexer": "ipython3",
   "version": "3.8.10"
  }
 },
 "nbformat": 4,
 "nbformat_minor": 5
}
