{
 "cells": [
  {
   "cell_type": "markdown",
   "id": "98ed7e5a",
   "metadata": {},
   "source": [
    "# Guess the number"
   ]
  },
  {
   "cell_type": "markdown",
   "id": "886e36f7",
   "metadata": {},
   "source": [
    "The player is asked to guess a number between 1 and 100, picked randomly by the program.  \n",
    "Each time they propose an answer, the program tells them if their answer is correct, too low, or too high.  \n",
    "The player has an unlimited number of attempts (or, in a variant, a limited number of attempts)."
   ]
  }
 ],
 "metadata": {
  "kernelspec": {
   "display_name": "Python 3",
   "language": "python",
   "name": "python3"
  },
  "language_info": {
   "codemirror_mode": {
    "name": "ipython",
    "version": 3
   },
   "file_extension": ".py",
   "mimetype": "text/x-python",
   "name": "python",
   "nbconvert_exporter": "python",
   "pygments_lexer": "ipython3",
   "version": "3.9.2"
  }
 },
 "nbformat": 4,
 "nbformat_minor": 5
}
