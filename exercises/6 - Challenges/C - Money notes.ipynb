{
 "cells": [
  {
   "cell_type": "markdown",
   "id": "ef496c7b",
   "metadata": {},
   "source": [
    "# Money notes"
   ]
  },
  {
   "cell_type": "markdown",
   "id": "9d54a28f",
   "metadata": {},
   "source": [
    "In the EU, there are bank notes of 5, 10, 20, 50, 100, 200, and 500 EUR.\n",
    "\n",
    "The user introduces two numbers:\n",
    "- the price to pay (for simplicity, a multiple of 5); and\n",
    "- one of the bank notes available.\n",
    "\n",
    "The program must:\n",
    "- verify that the numbers given are meaningful (e.g. that the bank note given is larger than the price to pay)\n",
    "- calculate how much money must be returned; and\n",
    "- determine the best way to return that money given the available bank notes."
   ]
  }
 ],
 "metadata": {
  "kernelspec": {
   "display_name": "Python 3",
   "language": "python",
   "name": "python3"
  },
  "language_info": {
   "codemirror_mode": {
    "name": "ipython",
    "version": 3
   },
   "file_extension": ".py",
   "mimetype": "text/x-python",
   "name": "python",
   "nbconvert_exporter": "python",
   "pygments_lexer": "ipython3",
   "version": "3.9.2"
  }
 },
 "nbformat": 4,
 "nbformat_minor": 5
}
