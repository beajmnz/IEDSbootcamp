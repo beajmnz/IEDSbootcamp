{
 "cells": [
  {
   "cell_type": "markdown",
   "id": "ef496c7b",
   "metadata": {},
   "source": [
    "# Money notes"
   ]
  },
  {
   "cell_type": "markdown",
   "id": "9d54a28f",
   "metadata": {},
   "source": [
    "In the EU, there are bank notes of 5, 10, 20, 50, 100, 200, and 500 EUR.\n",
    "\n",
    "The user introduces two numbers:\n",
    "- the price to pay (for simplicity, a multiple of 5); and\n",
    "- one of the bank notes available.\n",
    "\n",
    "The program must:\n",
    "- verify that the numbers given are meaningful (e.g. that the bank note given is larger than the price to pay)\n",
    "- calculate how much money must be returned; and\n",
    "- determine the best way to return that money given the available bank notes."
   ]
  },
  {
   "cell_type": "code",
   "execution_count": 4,
   "id": "6803e5d4",
   "metadata": {},
   "outputs": [
    {
     "name": "stdout",
     "output_type": "stream",
     "text": [
      "Enter the price to pay\n",
      "250\n"
     ]
    }
   ],
   "source": [
    "price2pay = int(input(\"Enter the price to \n",
    "                      pay (multiple of 5)\\n\"))"
   ]
  },
  {
   "cell_type": "code",
   "execution_count": 5,
   "id": "f6b941dc",
   "metadata": {},
   "outputs": [
    {
     "name": "stdout",
     "output_type": "stream",
     "text": [
      "Enter the bank note you give to pay\n",
      "500\n"
     ]
    }
   ],
   "source": [
    "given_bank_note = int(input(\"Enter the bank note you give to pay\\n\"))"
   ]
  },
  {
   "cell_type": "code",
   "execution_count": 8,
   "id": "8c401629",
   "metadata": {},
   "outputs": [
    {
     "name": "stdout",
     "output_type": "stream",
     "text": [
      "{}\n"
     ]
    }
   ],
   "source": [
    "available_bank_notes = [500,200,100,50,20,5]\n",
    "dict_money2return = dict()\n",
    "if (given_bank_note in available_bank_notes):\n",
    "    money2return = given_bank_note - price2pay\n",
    "    for bank_note in available_bank_notes:\n",
    "        nr_bank_notes = money2return // bank_note\n",
    "        if nr_bank_notes > 0:\n",
    "            dict_money2return[bank_note] = nr_bank_notes\n",
    "            money2return = money2return - nr_bank_notes*bank_note\n",
    "    print(dict_money2return)\n",
    "else: \n",
    "    print(\"You gave a counterfeit bank note!\")"
   ]
  },
  {
   "cell_type": "code",
   "execution_count": null,
   "id": "77193825",
   "metadata": {},
   "outputs": [],
   "source": []
  }
 ],
 "metadata": {
  "kernelspec": {
   "display_name": "Python 3",
   "language": "python",
   "name": "python3"
  },
  "language_info": {
   "codemirror_mode": {
    "name": "ipython",
    "version": 3
   },
   "file_extension": ".py",
   "mimetype": "text/x-python",
   "name": "python",
   "nbconvert_exporter": "python",
   "pygments_lexer": "ipython3",
   "version": "3.8.10"
  }
 },
 "nbformat": 4,
 "nbformat_minor": 5
}
