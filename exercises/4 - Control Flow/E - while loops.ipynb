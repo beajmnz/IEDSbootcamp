{
 "cells": [
  {
   "cell_type": "markdown",
   "id": "e665e4b6",
   "metadata": {},
   "source": [
    "# Control Flow: `while` loops"
   ]
  },
  {
   "cell_type": "markdown",
   "id": "20d755e7",
   "metadata": {},
   "source": [
    "> A `while` loop is a way to repeat some actions while a condition is met."
   ]
  },
  {
   "cell_type": "markdown",
   "id": "2a823fba",
   "metadata": {},
   "source": [
    "## Demo 1: A simple `while` loop"
   ]
  },
  {
   "cell_type": "code",
   "execution_count": null,
   "id": "11ef8bfc",
   "metadata": {},
   "outputs": [],
   "source": [
    "age = 10\n",
    "\n",
    "while age < 18:\n",
    "    print(f\"You are {age} years old\")\n",
    "    print(\"Still a minor, try again next year...\")\n",
    "    print(\"\")\n",
    "    age = age + 1\n",
    "\n",
    "print(\"You are major, you can vote!\")"
   ]
  },
  {
   "cell_type": "markdown",
   "id": "119d88c4",
   "metadata": {},
   "source": [
    "## Exercise 1"
   ]
  },
  {
   "cell_type": "markdown",
   "id": "83449d4c",
   "metadata": {},
   "source": [
    "### Skeleton"
   ]
  },
  {
   "cell_type": "markdown",
   "id": "30fa7d24",
   "metadata": {},
   "source": [
    "Your dream gift is way too expensive: it has a `price` of 1000 euros, but you can only afford to pay 500.  \n",
    "Fortunately, the shop is decreasing the price by 10% every day!  "
   ]
  },
  {
   "cell_type": "code",
   "execution_count": null,
   "id": "32ea7649",
   "metadata": {
    "tags": [
     "no-replacement"
    ]
   },
   "outputs": [],
   "source": [
    "price = 1000"
   ]
  },
  {
   "cell_type": "code",
   "execution_count": null,
   "id": "ad7e1da9",
   "metadata": {
    "tags": [
     "no-replacement"
    ]
   },
   "outputs": [],
   "source": [
    "budget = 500"
   ]
  },
  {
   "cell_type": "code",
   "execution_count": null,
   "id": "9b07f516",
   "metadata": {
    "tags": [
     "no-replacement"
    ]
   },
   "outputs": [],
   "source": [
    "percentage = 0.90"
   ]
  },
  {
   "cell_type": "code",
   "execution_count": null,
   "id": "2dc389ce",
   "metadata": {
    "tags": [
     "no-replacement"
    ]
   },
   "outputs": [],
   "source": [
    "reductions = 0"
   ]
  },
  {
   "cell_type": "markdown",
   "id": "0ec69374",
   "metadata": {},
   "source": [
    "Write a loop that:\n",
    "* tells the current price;\n",
    "* tells how many daily reductions have been applied so far; and\n",
    "* stops when the price has gone down enough that it meets your budget!"
   ]
  },
  {
   "cell_type": "code",
   "execution_count": null,
   "id": "ee665e7d",
   "metadata": {},
   "outputs": [],
   "source": []
  }
 ],
 "metadata": {
  "kernelspec": {
   "display_name": "Python 3",
   "language": "python",
   "name": "python3"
  },
  "language_info": {
   "codemirror_mode": {
    "name": "ipython",
    "version": 3
   },
   "file_extension": ".py",
   "mimetype": "text/x-python",
   "name": "python",
   "nbconvert_exporter": "python",
   "pygments_lexer": "ipython3",
   "version": "3.9.2"
  }
 },
 "nbformat": 4,
 "nbformat_minor": 5
}
