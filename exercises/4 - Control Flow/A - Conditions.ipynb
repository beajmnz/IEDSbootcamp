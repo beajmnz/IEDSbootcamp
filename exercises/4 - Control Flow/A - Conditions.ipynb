{
 "cells": [
  {
   "cell_type": "markdown",
   "id": "received-performer",
   "metadata": {},
   "source": [
    "# Conditions"
   ]
  },
  {
   "cell_type": "markdown",
   "id": "disturbed-kentucky",
   "metadata": {},
   "source": [
    "Conditions are expressions that evaluate to a `boolean`."
   ]
  },
  {
   "cell_type": "markdown",
   "id": "therapeutic-oregon",
   "metadata": {},
   "source": [
    "## Single conditions"
   ]
  },
  {
   "cell_type": "markdown",
   "id": "retired-virginia",
   "metadata": {},
   "source": [
    "### Numbers"
   ]
  },
  {
   "cell_type": "code",
   "execution_count": 1,
   "id": "wooden-collar",
   "metadata": {},
   "outputs": [],
   "source": [
    "age = 99"
   ]
  },
  {
   "cell_type": "code",
   "execution_count": 2,
   "id": "extensive-russia",
   "metadata": {},
   "outputs": [
    {
     "data": {
      "text/plain": [
       "False"
      ]
     },
     "execution_count": 2,
     "metadata": {},
     "output_type": "execute_result"
    }
   ],
   "source": [
    "age < 16"
   ]
  },
  {
   "cell_type": "code",
   "execution_count": 3,
   "id": "prepared-command",
   "metadata": {},
   "outputs": [
    {
     "data": {
      "text/plain": [
       "True"
      ]
     },
     "execution_count": 3,
     "metadata": {},
     "output_type": "execute_result"
    }
   ],
   "source": [
    "age >= 18"
   ]
  },
  {
   "cell_type": "markdown",
   "id": "julian-tribute",
   "metadata": {},
   "source": [
    "The `=` sign is used for **assignment**; use `==` for **equality** and `!=` for **inequality**:"
   ]
  },
  {
   "cell_type": "code",
   "execution_count": null,
   "id": "experimental-bachelor",
   "metadata": {},
   "outputs": [],
   "source": [
    "age = 99"
   ]
  },
  {
   "cell_type": "code",
   "execution_count": null,
   "id": "transparent-times",
   "metadata": {},
   "outputs": [],
   "source": [
    "age == 21"
   ]
  },
  {
   "cell_type": "code",
   "execution_count": null,
   "id": "healthy-bangladesh",
   "metadata": {},
   "outputs": [],
   "source": [
    "age == 99"
   ]
  },
  {
   "cell_type": "code",
   "execution_count": null,
   "id": "casual-activation",
   "metadata": {},
   "outputs": [],
   "source": [
    "age != 99"
   ]
  },
  {
   "cell_type": "markdown",
   "id": "filled-harvey",
   "metadata": {},
   "source": [
    "### Strings"
   ]
  },
  {
   "cell_type": "code",
   "execution_count": null,
   "id": "domestic-insider",
   "metadata": {},
   "outputs": [],
   "source": [
    "teacher = \"JC\""
   ]
  },
  {
   "cell_type": "code",
   "execution_count": null,
   "id": "honest-grammar",
   "metadata": {},
   "outputs": [],
   "source": [
    "teacher == \"Ivan\""
   ]
  },
  {
   "cell_type": "code",
   "execution_count": null,
   "id": "conscious-passing",
   "metadata": {},
   "outputs": [],
   "source": [
    "teacher != \"Pablo\""
   ]
  },
  {
   "cell_type": "markdown",
   "id": "economic-agent",
   "metadata": {},
   "source": [
    "### Booleans"
   ]
  },
  {
   "cell_type": "code",
   "execution_count": null,
   "id": "greatest-thread",
   "metadata": {},
   "outputs": [],
   "source": [
    "priority = True"
   ]
  },
  {
   "cell_type": "code",
   "execution_count": null,
   "id": "prompt-gathering",
   "metadata": {},
   "outputs": [],
   "source": [
    "priority == True"
   ]
  },
  {
   "cell_type": "code",
   "execution_count": null,
   "id": "wooden-softball",
   "metadata": {},
   "outputs": [],
   "source": [
    "priority"
   ]
  },
  {
   "cell_type": "code",
   "execution_count": null,
   "id": "8ef16be7",
   "metadata": {},
   "outputs": [],
   "source": [
    "not priority"
   ]
  },
  {
   "cell_type": "markdown",
   "id": "crazy-bubble",
   "metadata": {},
   "source": [
    "<div class=\"alert alert-success\">\n",
    "\n",
    "<b>Best Practice:</b> In conditions, use boolean variables directly\n",
    "\n",
    "</div>"
   ]
  },
  {
   "cell_type": "markdown",
   "id": "equal-bandwidth",
   "metadata": {},
   "source": [
    "## Multiple conditions"
   ]
  },
  {
   "cell_type": "markdown",
   "id": "minor-thompson",
   "metadata": {},
   "source": [
    "Conditions can be combined with the `and`/`or` keywords."
   ]
  },
  {
   "cell_type": "markdown",
   "id": "working-malaysia",
   "metadata": {},
   "source": [
    "### Numbers"
   ]
  },
  {
   "cell_type": "code",
   "execution_count": null,
   "id": "challenging-discretion",
   "metadata": {},
   "outputs": [],
   "source": [
    "age = 99"
   ]
  },
  {
   "cell_type": "code",
   "execution_count": null,
   "id": "asian-artwork",
   "metadata": {},
   "outputs": [],
   "source": [
    "(age > 16) and (age < 18)"
   ]
  },
  {
   "cell_type": "markdown",
   "id": "historic-mauritius",
   "metadata": {},
   "source": [
    "<div class=\"alert alert-success\">\n",
    "\n",
    "<b>Best Practice:</b> Use parentheses around each condition\n",
    "\n",
    "</div>"
   ]
  },
  {
   "cell_type": "markdown",
   "id": "checked-prayer",
   "metadata": {},
   "source": [
    "For numerical conditions, Python provides an easier option:"
   ]
  },
  {
   "cell_type": "code",
   "execution_count": null,
   "id": "unable-discrimination",
   "metadata": {},
   "outputs": [],
   "source": [
    "16 < age < 18"
   ]
  },
  {
   "cell_type": "markdown",
   "id": "incomplete-encoding",
   "metadata": {},
   "source": [
    "<div class=\"alert alert-success\">\n",
    "\n",
    "<b>Best Practice:</b> Chain comparisons when dealing with multiple numerical conditions\n",
    "\n",
    "</div>"
   ]
  },
  {
   "cell_type": "markdown",
   "id": "bibliographic-handy",
   "metadata": {},
   "source": [
    "### Mixed data types (Example 1)"
   ]
  },
  {
   "cell_type": "code",
   "execution_count": null,
   "id": "sonic-leisure",
   "metadata": {},
   "outputs": [],
   "source": [
    "age = 99\n",
    "group = \"retired\""
   ]
  },
  {
   "cell_type": "code",
   "execution_count": null,
   "id": "chronic-korea",
   "metadata": {},
   "outputs": [],
   "source": [
    "age > 80"
   ]
  },
  {
   "cell_type": "code",
   "execution_count": null,
   "id": "unable-antarctica",
   "metadata": {},
   "outputs": [],
   "source": [
    "group == \"doctors\""
   ]
  },
  {
   "cell_type": "code",
   "execution_count": null,
   "id": "liked-switzerland",
   "metadata": {},
   "outputs": [],
   "source": [
    "(age > 80) or (group == \"doctors\")"
   ]
  },
  {
   "cell_type": "code",
   "execution_count": null,
   "id": "fifteen-mother",
   "metadata": {},
   "outputs": [],
   "source": [
    "age = 45\n",
    "group = \"doctors\""
   ]
  },
  {
   "cell_type": "code",
   "execution_count": null,
   "id": "after-inclusion",
   "metadata": {},
   "outputs": [],
   "source": [
    "age = 45\n",
    "group = \"lawyers\""
   ]
  },
  {
   "cell_type": "markdown",
   "id": "rolled-craft",
   "metadata": {},
   "source": [
    "### Mixed data types (Example 2)"
   ]
  },
  {
   "cell_type": "code",
   "execution_count": null,
   "id": "improved-publication",
   "metadata": {},
   "outputs": [],
   "source": [
    "age = 99\n",
    "priority = True"
   ]
  },
  {
   "cell_type": "code",
   "execution_count": null,
   "id": "retired-extension",
   "metadata": {},
   "outputs": [],
   "source": [
    "age > 80"
   ]
  },
  {
   "cell_type": "code",
   "execution_count": null,
   "id": "valid-steps",
   "metadata": {},
   "outputs": [],
   "source": [
    "priority"
   ]
  },
  {
   "cell_type": "code",
   "execution_count": null,
   "id": "primary-cocktail",
   "metadata": {},
   "outputs": [],
   "source": [
    "(age > 80) and priority"
   ]
  },
  {
   "cell_type": "code",
   "execution_count": null,
   "id": "executive-anchor",
   "metadata": {},
   "outputs": [],
   "source": [
    "age = 30\n",
    "priority = True"
   ]
  },
  {
   "cell_type": "code",
   "execution_count": null,
   "id": "everyday-peripheral",
   "metadata": {},
   "outputs": [],
   "source": [
    "age = 30\n",
    "priority = False"
   ]
  }
 ],
 "metadata": {
  "kernelspec": {
   "display_name": "Python 3",
   "language": "python",
   "name": "python3"
  },
  "language_info": {
   "codemirror_mode": {
    "name": "ipython",
    "version": 3
   },
   "file_extension": ".py",
   "mimetype": "text/x-python",
   "name": "python",
   "nbconvert_exporter": "python",
   "pygments_lexer": "ipython3",
   "version": "3.8.5"
  }
 },
 "nbformat": 4,
 "nbformat_minor": 5
}
