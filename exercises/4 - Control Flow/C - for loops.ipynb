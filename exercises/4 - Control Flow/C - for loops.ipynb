{
 "cells": [
  {
   "cell_type": "markdown",
   "id": "dd1e8a21",
   "metadata": {},
   "source": [
    "# Control flow: `for` loops"
   ]
  },
  {
   "cell_type": "markdown",
   "id": "f14f0785",
   "metadata": {},
   "source": [
    "> A `for` loop is a way to iterate over data structures."
   ]
  },
  {
   "cell_type": "markdown",
   "id": "419f8f5a",
   "metadata": {},
   "source": [
    "## Loops and iterables"
   ]
  },
  {
   "cell_type": "markdown",
   "id": "79c5f774",
   "metadata": {},
   "source": [
    "Structure of a `for` loop:\n",
    "```python\n",
    "for item in iterable:\n",
    "    print(item)\n",
    "```"
   ]
  },
  {
   "cell_type": "markdown",
   "id": "0b5fc9b5",
   "metadata": {},
   "source": [
    "An iterable is any object with multiple items that can be iterated over, such as lists, tuples, sets, and dictionaries."
   ]
  },
  {
   "cell_type": "markdown",
   "id": "128db2cb",
   "metadata": {},
   "source": [
    "<div class=\"alert alert-danger\">\n",
    "\n",
    "<b>Warning:</b> Never, ever modify an iterable when looping over it!\n",
    "\n",
    "</div>"
   ]
  },
  {
   "cell_type": "markdown",
   "id": "ab97ded8",
   "metadata": {},
   "source": [
    "## Demo 1: Looping over a `list`"
   ]
  },
  {
   "cell_type": "code",
   "execution_count": null,
   "id": "75b0ff10",
   "metadata": {},
   "outputs": [],
   "source": [
    "students = [\"Alice\", \"Bob\", \"Carol\", \"Dennis\", \"Emily\", \"Francis\"]"
   ]
  },
  {
   "cell_type": "code",
   "execution_count": null,
   "id": "32de439b",
   "metadata": {},
   "outputs": [],
   "source": [
    "students"
   ]
  },
  {
   "cell_type": "markdown",
   "id": "cb69d3fd",
   "metadata": {},
   "source": [
    "Loop over the items in the `students` list:"
   ]
  },
  {
   "cell_type": "code",
   "execution_count": null,
   "id": "46180a62",
   "metadata": {},
   "outputs": [],
   "source": [
    "for item in students:\n",
    "    print(item)"
   ]
  },
  {
   "cell_type": "markdown",
   "id": "7fd2cdee",
   "metadata": {},
   "source": [
    "<div class=\"alert alert-info\">\n",
    "\n",
    "<b>Note:</b> A list is ordered, and <b>that order is respected</b> by the <code>for</code> loop.\n",
    "\n",
    "</div>"
   ]
  },
  {
   "cell_type": "markdown",
   "id": "651febdc",
   "metadata": {},
   "source": [
    "The variable name used (e.g. `item`) is arbitrary, but it is customary to use the singular version of the list name:"
   ]
  },
  {
   "cell_type": "code",
   "execution_count": null,
   "id": "71c10a22",
   "metadata": {},
   "outputs": [],
   "source": [
    "for student in students:\n",
    "    print(student)"
   ]
  },
  {
   "cell_type": "markdown",
   "id": "bbcb3619",
   "metadata": {},
   "source": [
    "<div class=\"alert alert-success\">\n",
    "\n",
    "<b>Best Practice:</b> When looping over a list named with a plural, use the singular version for the individual items\n",
    "\n",
    "</div>"
   ]
  },
  {
   "cell_type": "markdown",
   "id": "240b3dea",
   "metadata": {},
   "source": [
    "Multiple commands in a loop are indicated by the indentation:"
   ]
  },
  {
   "cell_type": "code",
   "execution_count": null,
   "id": "45a221f7",
   "metadata": {},
   "outputs": [],
   "source": [
    "print(\"Before the loop\")\n",
    "print(\"\")\n",
    "\n",
    "for student in students:\n",
    "    print(f\"Name: {student}\")\n",
    "    print(f\"Length: {len(student)}\")\n",
    "\n",
    "print(\"\")\n",
    "print(\"After the loop\")"
   ]
  },
  {
   "cell_type": "markdown",
   "id": "d806ccbc",
   "metadata": {},
   "source": [
    "Loop over an empty list:"
   ]
  },
  {
   "cell_type": "code",
   "execution_count": null,
   "id": "631ecaf3",
   "metadata": {},
   "outputs": [],
   "source": [
    "empty_list = []"
   ]
  },
  {
   "cell_type": "code",
   "execution_count": null,
   "id": "e01907ad",
   "metadata": {},
   "outputs": [],
   "source": [
    "for item in empty_list:\n",
    "    print(item)"
   ]
  },
  {
   "cell_type": "markdown",
   "id": "625e9dc3",
   "metadata": {},
   "source": [
    "## Exercise 1"
   ]
  },
  {
   "cell_type": "markdown",
   "id": "2376b41e",
   "metadata": {},
   "source": [
    "### Skeleton"
   ]
  },
  {
   "cell_type": "code",
   "execution_count": null,
   "id": "725ef2dc",
   "metadata": {
    "tags": [
     "no-replacement"
    ]
   },
   "outputs": [],
   "source": [
    "countries = [\"Spain\", \"Belgium\", \"France\", \"Italy\", \"Germany\"]"
   ]
  },
  {
   "cell_type": "markdown",
   "id": "8c8d315f",
   "metadata": {},
   "source": [
    "Loop over each country in the `countries` list, and print each country's name:"
   ]
  },
  {
   "cell_type": "code",
   "execution_count": null,
   "id": "31292cd4",
   "metadata": {},
   "outputs": [],
   "source": []
  },
  {
   "cell_type": "markdown",
   "id": "16548665",
   "metadata": {},
   "source": [
    "Loop over each country in the `countries` list, and print the length of each country:"
   ]
  },
  {
   "cell_type": "code",
   "execution_count": null,
   "id": "b0cd148f",
   "metadata": {},
   "outputs": [],
   "source": []
  },
  {
   "cell_type": "markdown",
   "id": "622ace4f",
   "metadata": {},
   "source": [
    "## Demo 2: Looping over a `tuple`"
   ]
  },
  {
   "cell_type": "code",
   "execution_count": null,
   "id": "d1ae3d93",
   "metadata": {},
   "outputs": [],
   "source": [
    "comunidades_autonomas = (\n",
    "    \"Andalucía\",\n",
    "    \"Aragón\",\n",
    "    \"Principado de Asturias\",\n",
    "    \"Islas Baleares\",\n",
    "    \"Canarias\",\n",
    "    \"Cantabria\",\n",
    "    \"Castilla-La Mancha\",\n",
    "    \"Castilla y León\",\n",
    "    \"Cataluña\",\n",
    "    \"Comunidad Valenciana\",\n",
    "    \"Extremadura\",\n",
    "    \"Galicia\",\n",
    "    \"La Rioja\",\n",
    "    \"Comunidad de Madrid\",\n",
    "    \"Región de Murcia\",\n",
    "    \"Comunidad Foral de Navarra\",\n",
    "    \"País Vasco\",\n",
    ")"
   ]
  },
  {
   "cell_type": "code",
   "execution_count": null,
   "id": "eff0a598",
   "metadata": {},
   "outputs": [],
   "source": [
    "comunidades_autonomas"
   ]
  },
  {
   "cell_type": "markdown",
   "id": "1ffe6eda",
   "metadata": {},
   "source": [
    "Loop over the items in the `comunidades_autonomas` list:"
   ]
  },
  {
   "cell_type": "code",
   "execution_count": null,
   "id": "b137d806",
   "metadata": {},
   "outputs": [],
   "source": [
    "for comunidades_autonoma in comunidades_autonomas:\n",
    "    print(comunidades_autonoma)"
   ]
  },
  {
   "cell_type": "markdown",
   "id": "0846b942",
   "metadata": {},
   "source": [
    "<div class=\"alert alert-info\">\n",
    "\n",
    "<b>Note:</b> A tuple is ordered, and <b>that order is respected</b> by the <code>for</code> loop.\n",
    "\n",
    "</div>"
   ]
  },
  {
   "cell_type": "markdown",
   "id": "509adf6a",
   "metadata": {},
   "source": [
    "<div class=\"alert alert-success\">\n",
    "\n",
    "<b>Best Practice:</b> When looping over a tuple named with a plural, use the singular version for the individual items\n",
    "\n",
    "</div>"
   ]
  },
  {
   "cell_type": "markdown",
   "id": "5f024203",
   "metadata": {},
   "source": [
    "Loop over an empty tuple:"
   ]
  },
  {
   "cell_type": "code",
   "execution_count": null,
   "id": "4a790551",
   "metadata": {},
   "outputs": [],
   "source": [
    "empty_tuple = ()"
   ]
  },
  {
   "cell_type": "code",
   "execution_count": null,
   "id": "0400822c",
   "metadata": {},
   "outputs": [],
   "source": [
    "for item in empty_tuple:\n",
    "    print(item)"
   ]
  },
  {
   "cell_type": "markdown",
   "id": "9dcbc136",
   "metadata": {},
   "source": [
    "## Exercise 2"
   ]
  },
  {
   "cell_type": "markdown",
   "id": "f45a10c9",
   "metadata": {},
   "source": [
    "### Skeleton"
   ]
  },
  {
   "cell_type": "code",
   "execution_count": null,
   "id": "3bbe3dd9",
   "metadata": {
    "tags": [
     "no-replacement"
    ]
   },
   "outputs": [],
   "source": [
    "ciudades_autonomas = (\"Ceuta\", \"Melilla\")"
   ]
  },
  {
   "cell_type": "markdown",
   "id": "062793e2",
   "metadata": {},
   "source": [
    "Loop over the `ciudades_autonomas` tuple, and print each item:"
   ]
  },
  {
   "cell_type": "code",
   "execution_count": null,
   "id": "ad997ebe",
   "metadata": {},
   "outputs": [],
   "source": []
  },
  {
   "cell_type": "markdown",
   "id": "2b639341",
   "metadata": {},
   "source": [
    "## Demo 3: Looping over a `set`"
   ]
  },
  {
   "cell_type": "code",
   "execution_count": null,
   "id": "0b143ac8",
   "metadata": {},
   "outputs": [],
   "source": [
    "girls = {\"Andrea\", \"Sofia\", \"Lucia\", \"Maria\"}"
   ]
  },
  {
   "cell_type": "code",
   "execution_count": null,
   "id": "bbeb63f2",
   "metadata": {},
   "outputs": [],
   "source": [
    "girls"
   ]
  },
  {
   "cell_type": "markdown",
   "id": "d325d85d",
   "metadata": {},
   "source": [
    "Loop over the items in the `girls` set:"
   ]
  },
  {
   "cell_type": "code",
   "execution_count": null,
   "id": "23109d34",
   "metadata": {},
   "outputs": [],
   "source": [
    "for girl in girls:\n",
    "    print(girl)"
   ]
  },
  {
   "cell_type": "markdown",
   "id": "8c054b1e",
   "metadata": {},
   "source": [
    "<div class=\"alert alert-info\">\n",
    "\n",
    "<b>Note:</b> A set is <b>not</b> ordered, so the <code>for</code> loop iterates over the items in an unpredictable order!\n",
    "\n",
    "</div>"
   ]
  },
  {
   "cell_type": "markdown",
   "id": "39d9cded",
   "metadata": {},
   "source": [
    "<div class=\"alert alert-success\">\n",
    "\n",
    "<b>Best Practice:</b> When looping over a set named with a plural, use the singular version for the individual items\n",
    "\n",
    "</div>"
   ]
  },
  {
   "cell_type": "markdown",
   "id": "4dcaec2e",
   "metadata": {},
   "source": [
    "Loop over an empty set:"
   ]
  },
  {
   "cell_type": "code",
   "execution_count": null,
   "id": "2644b7c6",
   "metadata": {},
   "outputs": [],
   "source": [
    "empty_set = set()"
   ]
  },
  {
   "cell_type": "code",
   "execution_count": null,
   "id": "6c1ad84d",
   "metadata": {},
   "outputs": [],
   "source": [
    "for item in empty_set:\n",
    "    print(item)"
   ]
  },
  {
   "cell_type": "markdown",
   "id": "6bff0a53",
   "metadata": {},
   "source": [
    "## Exercise 3"
   ]
  },
  {
   "cell_type": "markdown",
   "id": "4219cf11",
   "metadata": {},
   "source": [
    "### Skeleton"
   ]
  },
  {
   "cell_type": "code",
   "execution_count": null,
   "id": "e67e5d5c",
   "metadata": {
    "tags": [
     "no-replacement"
    ]
   },
   "outputs": [],
   "source": [
    "data_scientist_skills = {\"Python\", \"Git\", \"SQL\", \"R\", \"Tableau\", \"SAS\"}"
   ]
  },
  {
   "cell_type": "markdown",
   "id": "0cb4deab",
   "metadata": {},
   "source": [
    "Loop over the `data_scientist_skills` set, and print the different skills:"
   ]
  },
  {
   "cell_type": "code",
   "execution_count": null,
   "id": "3707e5a6",
   "metadata": {},
   "outputs": [],
   "source": []
  },
  {
   "cell_type": "markdown",
   "id": "a2ad25ea",
   "metadata": {},
   "source": [
    "## Demo 4: Looping over a `dict` (working with keys)"
   ]
  },
  {
   "cell_type": "code",
   "execution_count": null,
   "id": "c1f065d1",
   "metadata": {},
   "outputs": [],
   "source": [
    "capitals = {\n",
    "    \"Spain\": \"Madrid\",\n",
    "    \"Belgium\": \"Brussels\",\n",
    "    \"France\": \"Paris\",\n",
    "    \"Italy\": \"Roma\",\n",
    "    \"Germany\": \"Berlin\",\n",
    "}"
   ]
  },
  {
   "cell_type": "code",
   "execution_count": null,
   "id": "0b6afcce",
   "metadata": {},
   "outputs": [],
   "source": [
    "capitals"
   ]
  },
  {
   "cell_type": "markdown",
   "id": "f854de50",
   "metadata": {},
   "source": [
    "Loop over the keys in the `capitals` dictionary:"
   ]
  },
  {
   "cell_type": "code",
   "execution_count": null,
   "id": "bb926a30",
   "metadata": {},
   "outputs": [],
   "source": [
    "for key in capitals.keys():\n",
    "    print(key)"
   ]
  },
  {
   "cell_type": "markdown",
   "id": "5e51100e",
   "metadata": {},
   "source": [
    "<div class=\"alert alert-info\">\n",
    "\n",
    "<b>Note:</b> A dictionary is (kind of!) ordered, and <b>that order is respected</b> by the <code>for</code> loop.\n",
    "\n",
    "</div>"
   ]
  },
  {
   "cell_type": "markdown",
   "id": "2eb08916",
   "metadata": {},
   "source": [
    "By default, a `for` loop on a dictionary iterates over the keys:"
   ]
  },
  {
   "cell_type": "code",
   "execution_count": null,
   "id": "4ba7064f",
   "metadata": {},
   "outputs": [],
   "source": [
    "for key in capitals:\n",
    "    print(key)"
   ]
  },
  {
   "cell_type": "markdown",
   "id": "d170f5fa",
   "metadata": {},
   "source": [
    "<div class=\"alert alert-success\">\n",
    "\n",
    "<b>Best Practice:</b> When looping over the keys of a dictionary, specify only the dictionary name, not the <code>.keys()</code> method.\n",
    "\n",
    "</div>"
   ]
  },
  {
   "cell_type": "markdown",
   "id": "bfcc80be",
   "metadata": {},
   "source": [
    "The variable name used (e.g. `key`) is arbitrary, but it is customary to use a singular name representing the content of the dictionary keys:"
   ]
  },
  {
   "cell_type": "code",
   "execution_count": null,
   "id": "383da203",
   "metadata": {},
   "outputs": [],
   "source": [
    "for country in capitals:\n",
    "    print(country)"
   ]
  },
  {
   "cell_type": "markdown",
   "id": "3c76de37",
   "metadata": {},
   "source": [
    "<div class=\"alert alert-success\">\n",
    "\n",
    "<b>Best Practice:</b> When looping over a dictionary, use a meaningful singular name for the individual keys\n",
    "\n",
    "</div>"
   ]
  },
  {
   "cell_type": "markdown",
   "id": "b9aaff51",
   "metadata": {},
   "source": [
    "## Exercise 4"
   ]
  },
  {
   "cell_type": "markdown",
   "id": "96b30f57",
   "metadata": {},
   "source": [
    "### Skeleton"
   ]
  },
  {
   "cell_type": "markdown",
   "id": "a3664b12",
   "metadata": {},
   "source": [
    "The `populations` dictionary contains the population of several European countries:"
   ]
  },
  {
   "cell_type": "code",
   "execution_count": null,
   "id": "2eba7d86",
   "metadata": {
    "tags": [
     "no-replacement"
    ]
   },
   "outputs": [],
   "source": [
    "populations = {\n",
    "    \"Spain\": 46_733_038,\n",
    "    \"Belgium\": 11_449_656,\n",
    "    \"France\": 67_076_000,\n",
    "    \"Italy\": 60_390_560,\n",
    "    \"Germany\": 83_122_889,\n",
    "}"
   ]
  },
  {
   "cell_type": "markdown",
   "id": "1be30940",
   "metadata": {},
   "source": [
    "Loop over the countries listed in the `populations` dictionary, and print them:"
   ]
  },
  {
   "cell_type": "code",
   "execution_count": null,
   "id": "b71e946c",
   "metadata": {},
   "outputs": [],
   "source": []
  },
  {
   "cell_type": "markdown",
   "id": "21491e2b",
   "metadata": {},
   "source": [
    "## Demo 5: Looping over a `dict` (working with values)"
   ]
  },
  {
   "cell_type": "markdown",
   "id": "c86e23b6",
   "metadata": {},
   "source": [
    "Loop over the values in the `capitals` dictionary:"
   ]
  },
  {
   "cell_type": "code",
   "execution_count": null,
   "id": "e10dbf52",
   "metadata": {},
   "outputs": [],
   "source": [
    "for value in capitals.values():\n",
    "    print(value)"
   ]
  },
  {
   "cell_type": "markdown",
   "id": "1abf345d",
   "metadata": {},
   "source": [
    "The variable name used (e.g. `value`) is arbitrary, but it is customary to use a singular name representing the content of the dictionary values:"
   ]
  },
  {
   "cell_type": "code",
   "execution_count": null,
   "id": "1d894b97",
   "metadata": {},
   "outputs": [],
   "source": [
    "for capital in capitals:\n",
    "    print(capital)"
   ]
  },
  {
   "cell_type": "markdown",
   "id": "b79f6c09",
   "metadata": {},
   "source": [
    "<div class=\"alert alert-success\">\n",
    "\n",
    "<b>Best Practice:</b> When looping over a dictionary, use a meaningful singular name for the individual values\n",
    "\n",
    "</div>"
   ]
  },
  {
   "cell_type": "markdown",
   "id": "3a1ea5aa",
   "metadata": {},
   "source": [
    "## Exercise 5"
   ]
  },
  {
   "cell_type": "markdown",
   "id": "9a314309",
   "metadata": {},
   "source": [
    "### Skeleton"
   ]
  },
  {
   "cell_type": "markdown",
   "id": "c6dc1f93",
   "metadata": {},
   "source": [
    "The `populations` dictionary contains the population of several European countries:"
   ]
  },
  {
   "cell_type": "code",
   "execution_count": null,
   "id": "9b73c701",
   "metadata": {
    "tags": [
     "no-replacement"
    ]
   },
   "outputs": [],
   "source": [
    "populations = {\n",
    "    \"Spain\": 46_733_038,\n",
    "    \"Belgium\": 11_449_656,\n",
    "    \"France\": 67_076_000,\n",
    "    \"Italy\": 60_390_560,\n",
    "    \"Germany\": 83_122_889,\n",
    "}"
   ]
  },
  {
   "cell_type": "markdown",
   "id": "9c7b2f13",
   "metadata": {},
   "source": [
    "Loop over the populations listed in the `populations` dictionary, and print them:"
   ]
  },
  {
   "cell_type": "code",
   "execution_count": null,
   "id": "d48dd64e",
   "metadata": {},
   "outputs": [],
   "source": []
  },
  {
   "cell_type": "markdown",
   "id": "60e7e67f",
   "metadata": {},
   "source": [
    "## Demo 6: Looping over a `dict` (working with key-value pairs)"
   ]
  },
  {
   "cell_type": "markdown",
   "id": "4aa9ba9d",
   "metadata": {},
   "source": [
    "Loop over the key-value pairs in the `capitals` dictionary:"
   ]
  },
  {
   "cell_type": "code",
   "execution_count": null,
   "id": "96489610",
   "metadata": {},
   "outputs": [],
   "source": [
    "for (key, value) in capitals.items():\n",
    "    print(key)\n",
    "    print(value)\n",
    "    print(\"\")"
   ]
  },
  {
   "cell_type": "markdown",
   "id": "3afdd383",
   "metadata": {},
   "source": [
    "The variable names used (e.g.`key` and `value`) are arbitrary, but it is customary to use representative singular names:"
   ]
  },
  {
   "cell_type": "code",
   "execution_count": null,
   "id": "e6c47ed5",
   "metadata": {},
   "outputs": [],
   "source": [
    "for (country, capital) in capitals.items():\n",
    "    print(country)\n",
    "    print(capital)\n",
    "    print(\"\")"
   ]
  },
  {
   "cell_type": "markdown",
   "id": "29a01239",
   "metadata": {},
   "source": [
    "<div class=\"alert alert-success\">\n",
    "\n",
    "<b>Best Practice:</b> When looping over a dictionary, use meaningful singular names for the individual keys and values\n",
    "\n",
    "</div>"
   ]
  },
  {
   "cell_type": "markdown",
   "id": "e00eebc1",
   "metadata": {},
   "source": [
    "The parentheses for the tuple are optional:"
   ]
  },
  {
   "cell_type": "code",
   "execution_count": null,
   "id": "53669cd4",
   "metadata": {},
   "outputs": [],
   "source": [
    "for country, capital in capitals.items():\n",
    "    print(country)\n",
    "    print(capital)\n",
    "    print(\"\")"
   ]
  },
  {
   "cell_type": "markdown",
   "id": "9441c228",
   "metadata": {},
   "source": [
    "<div class=\"alert alert-success\">\n",
    "\n",
    "<b>Best Practice:</b> Use parentheses to explicitly indicate tuples, even when their use is optional\n",
    "\n",
    "</div>"
   ]
  },
  {
   "cell_type": "markdown",
   "id": "90fdd7e3",
   "metadata": {},
   "source": [
    "Loop over an empty dictionary:"
   ]
  },
  {
   "cell_type": "code",
   "execution_count": null,
   "id": "bf6d2e33",
   "metadata": {},
   "outputs": [],
   "source": [
    "empty_dict = {}"
   ]
  },
  {
   "cell_type": "code",
   "execution_count": null,
   "id": "4ce0264b",
   "metadata": {},
   "outputs": [],
   "source": [
    "for key in empty_dict:\n",
    "    print(key)"
   ]
  },
  {
   "cell_type": "markdown",
   "id": "822881d8",
   "metadata": {},
   "source": [
    "## Exercise 6"
   ]
  },
  {
   "cell_type": "markdown",
   "id": "8a0b3cf3",
   "metadata": {},
   "source": [
    "### Skeleton"
   ]
  },
  {
   "cell_type": "markdown",
   "id": "3d81916e",
   "metadata": {},
   "source": [
    "The `populations` dictionary contains the population of several European countries:"
   ]
  },
  {
   "cell_type": "code",
   "execution_count": null,
   "id": "b0d4a0f7",
   "metadata": {
    "tags": [
     "no-replacement"
    ]
   },
   "outputs": [],
   "source": [
    "populations = {\n",
    "    \"Spain\": 46_733_038,\n",
    "    \"Belgium\": 11_449_656,\n",
    "    \"France\": 67_076_000,\n",
    "    \"Italy\": 60_390_560,\n",
    "    \"Germany\": 83_122_889,\n",
    "}"
   ]
  },
  {
   "cell_type": "markdown",
   "id": "15db02fd",
   "metadata": {},
   "source": [
    "Loop over the country-population pairs listed in the `populations` dictionary, and print them (with a space to separate each pair):"
   ]
  },
  {
   "cell_type": "code",
   "execution_count": null,
   "id": "4afbfa6e",
   "metadata": {},
   "outputs": [],
   "source": []
  },
  {
   "cell_type": "markdown",
   "id": "95fa29f3",
   "metadata": {},
   "source": [
    "## Demo 7: Looping over an iterable (with an index)"
   ]
  },
  {
   "cell_type": "code",
   "execution_count": null,
   "id": "f03d9906",
   "metadata": {},
   "outputs": [],
   "source": [
    "students = [\"Alice\", \"Bob\", \"Carol\", \"Dennis\", \"Emily\", \"Francis\"]"
   ]
  },
  {
   "cell_type": "code",
   "execution_count": null,
   "id": "d1faf76d",
   "metadata": {},
   "outputs": [],
   "source": [
    "students"
   ]
  },
  {
   "cell_type": "markdown",
   "id": "652fb3db",
   "metadata": {},
   "source": [
    "Loop over the items:"
   ]
  },
  {
   "cell_type": "code",
   "execution_count": null,
   "id": "75831646",
   "metadata": {},
   "outputs": [],
   "source": [
    "for student in students:\n",
    "    print(student)"
   ]
  },
  {
   "cell_type": "markdown",
   "id": "fff72e72",
   "metadata": {},
   "source": [
    "Loop over the items, and get an index:"
   ]
  },
  {
   "cell_type": "code",
   "execution_count": null,
   "id": "a45a512c",
   "metadata": {},
   "outputs": [],
   "source": [
    "for (index, student) in enumerate(students):\n",
    "    print(index)\n",
    "    print(student)\n",
    "    print(\"\")"
   ]
  },
  {
   "cell_type": "markdown",
   "id": "9d09865b",
   "metadata": {},
   "source": [
    "**BEWARE:** When an index is available, accessing elements before/after the current element would be technically possible...  \n",
    "However, it is strictly forbidden, because **it will lead to unpredictable results**, such as elements being shown twice or not at all!"
   ]
  },
  {
   "cell_type": "markdown",
   "id": "1053be13",
   "metadata": {},
   "source": [
    "<div class=\"alert alert-danger\">\n",
    "\n",
    "<b>Warning:</b> Never, ever modify an iterable when looping over it!\n",
    "\n",
    "</div>"
   ]
  },
  {
   "cell_type": "markdown",
   "id": "927abac4",
   "metadata": {},
   "source": [
    "## Exercise 7"
   ]
  },
  {
   "cell_type": "markdown",
   "id": "d7e2833b",
   "metadata": {},
   "source": [
    "### Skeleton"
   ]
  },
  {
   "cell_type": "code",
   "execution_count": null,
   "id": "d474c483",
   "metadata": {
    "tags": [
     "no-replacement"
    ]
   },
   "outputs": [],
   "source": [
    "medals = (\"gold\", \"silver\", \"platinum\")"
   ]
  },
  {
   "cell_type": "markdown",
   "id": "19868d21",
   "metadata": {},
   "source": [
    "Loop over the medals, get an index, and print how many have been shown already (e.g. \"Medal 1 out of 3: gold\"):"
   ]
  },
  {
   "cell_type": "code",
   "execution_count": null,
   "id": "dded6f66",
   "metadata": {},
   "outputs": [],
   "source": []
  },
  {
   "cell_type": "code",
   "execution_count": null,
   "id": "74fe4875",
   "metadata": {},
   "outputs": [],
   "source": []
  },
  {
   "cell_type": "code",
   "execution_count": null,
   "id": "07ce543d",
   "metadata": {},
   "outputs": [],
   "source": []
  },
  {
   "cell_type": "code",
   "execution_count": null,
   "id": "1c06b5f7",
   "metadata": {},
   "outputs": [],
   "source": []
  },
  {
   "cell_type": "markdown",
   "id": "f83df5df",
   "metadata": {},
   "source": [
    "## Demo 8: Looping over 2 lists"
   ]
  },
  {
   "cell_type": "code",
   "execution_count": null,
   "id": "d407e6ab",
   "metadata": {},
   "outputs": [],
   "source": [
    "countries = [\"Spain\", \"Belgium\", \"France\", \"Italy\", \"Germany\"]"
   ]
  },
  {
   "cell_type": "code",
   "execution_count": null,
   "id": "c739e57e",
   "metadata": {},
   "outputs": [],
   "source": [
    "capitals = [\"Madrid\", \"Brussels\", \"Paris\", \"Roma\", \"Berlin\"]"
   ]
  },
  {
   "cell_type": "markdown",
   "id": "0734a554",
   "metadata": {},
   "source": [
    "`zip()` takes 2 lists, and creates pair of items (respecting the order):"
   ]
  },
  {
   "cell_type": "code",
   "execution_count": null,
   "id": "130b77fc",
   "metadata": {},
   "outputs": [],
   "source": [
    "zip(countries, capitals)"
   ]
  },
  {
   "cell_type": "code",
   "execution_count": null,
   "id": "cfc7f68b",
   "metadata": {},
   "outputs": [],
   "source": [
    "list(zip(countries, capitals))"
   ]
  },
  {
   "cell_type": "code",
   "execution_count": null,
   "id": "f030a625",
   "metadata": {},
   "outputs": [],
   "source": [
    "for (country, capital) in zip(countries, capitals):\n",
    "    print(country, capital)"
   ]
  },
  {
   "cell_type": "markdown",
   "id": "49607566",
   "metadata": {},
   "source": [
    "<div class=\"alert alert-info\">\n",
    "\n",
    "<b>Note:</b> <code>zip()</code> returns an iterator, which is meant to be used in a <code>for</code> loop!\n",
    "\n",
    "</div>"
   ]
  },
  {
   "cell_type": "markdown",
   "id": "ff49fd0c",
   "metadata": {},
   "source": [
    "Note that `zip()` stops returning items as soon as one of the list is empty, so the leftover items from the other list will never appear:"
   ]
  },
  {
   "cell_type": "code",
   "execution_count": null,
   "id": "31e9885d",
   "metadata": {},
   "outputs": [],
   "source": [
    "countries = [\"Spain\", \"Belgium\", \"France\", \"Italy\", \"Germany\"]"
   ]
  },
  {
   "cell_type": "code",
   "execution_count": null,
   "id": "13f6c06c",
   "metadata": {},
   "outputs": [],
   "source": [
    "capitals = [\"Madrid\", \"Brussels\", \"Paris\"]"
   ]
  },
  {
   "cell_type": "code",
   "execution_count": null,
   "id": "9408f884",
   "metadata": {},
   "outputs": [],
   "source": [
    "for (country, capital) in zip(countries, capitals):\n",
    "    print(country, capital)"
   ]
  },
  {
   "cell_type": "markdown",
   "id": "40061dc4",
   "metadata": {},
   "source": [
    "<div class=\"alert alert-warning\">\n",
    "\n",
    "<b>Beware:</b> <code>zip()</code> returns pairs of elements **only until it reaches the end of one of the lists**; leftover elements from the other list are discarded!\n",
    "\n",
    "</div>"
   ]
  },
  {
   "cell_type": "markdown",
   "id": "30796008",
   "metadata": {},
   "source": [
    "## Exercise 8"
   ]
  },
  {
   "cell_type": "markdown",
   "id": "188c79c1",
   "metadata": {},
   "source": [
    "### Skeleton"
   ]
  },
  {
   "cell_type": "code",
   "execution_count": null,
   "id": "6c1bc405",
   "metadata": {
    "tags": [
     "no-replacement"
    ]
   },
   "outputs": [],
   "source": [
    "countries = [\"Spain\", \"Belgium\", \"France\", \"Italy\", \"Germany\"]"
   ]
  },
  {
   "cell_type": "code",
   "execution_count": null,
   "id": "73b1e885",
   "metadata": {
    "tags": [
     "no-replacement"
    ]
   },
   "outputs": [],
   "source": [
    "populations = [46_733_038, 11_449_656, 67_076_000, 60_390_560, 83_122_889]"
   ]
  },
  {
   "cell_type": "markdown",
   "id": "379d6007",
   "metadata": {},
   "source": [
    "Loop over the `countries` and `populations` lists together, and for each pair, print the country with its population:"
   ]
  },
  {
   "cell_type": "code",
   "execution_count": null,
   "id": "b4f77a9f",
   "metadata": {},
   "outputs": [],
   "source": []
  }
 ],
 "metadata": {
  "kernelspec": {
   "display_name": "Python 3",
   "language": "python",
   "name": "python3"
  },
  "language_info": {
   "codemirror_mode": {
    "name": "ipython",
    "version": 3
   },
   "file_extension": ".py",
   "mimetype": "text/x-python",
   "name": "python",
   "nbconvert_exporter": "python",
   "pygments_lexer": "ipython3",
   "version": "3.9.2"
  }
 },
 "nbformat": 4,
 "nbformat_minor": 5
}
