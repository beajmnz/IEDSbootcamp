{
 "cells": [
  {
   "cell_type": "markdown",
   "id": "convinced-poultry",
   "metadata": {},
   "source": [
    "# `if` statements"
   ]
  },
  {
   "cell_type": "markdown",
   "id": "racial-authority",
   "metadata": {},
   "source": [
    "`if` statements are followed directly by:\n",
    "* either a `boolean`; or\n",
    "* by an expression that evaluates to a `boolean`.\n",
    "    \n",
    "The lines to execute conditionally are all **indented by 4 spaces**."
   ]
  },
  {
   "cell_type": "markdown",
   "id": "frequent-academy",
   "metadata": {},
   "source": [
    "## `if` statements with a `boolean`"
   ]
  },
  {
   "cell_type": "code",
   "execution_count": null,
   "id": "original-scroll",
   "metadata": {},
   "outputs": [],
   "source": [
    "if True:\n",
    "    print(\"This line will always be printed!\")"
   ]
  },
  {
   "cell_type": "code",
   "execution_count": null,
   "id": "acceptable-provincial",
   "metadata": {},
   "outputs": [],
   "source": [
    "if True:\n",
    "    print(\"This first line will always be printed!\")\n",
    "    print(\"This second line will always be printed!\")"
   ]
  },
  {
   "cell_type": "code",
   "execution_count": null,
   "id": "hollow-knight",
   "metadata": {},
   "outputs": [],
   "source": [
    "if False:\n",
    "    print(\"This first line will never be printed!\")\n",
    "    print(\"This second line will never be printed!\")"
   ]
  },
  {
   "cell_type": "code",
   "execution_count": null,
   "id": "closing-verse",
   "metadata": {},
   "outputs": [],
   "source": [
    "if False:\n",
    "    print(\"This first line will never be printed!\")\n",
    "    print(\"This second line will never be printed!\")\n",
    "\n",
    "print(\"This line gets printed regardless of the boolean, because it is NOT indented!\")"
   ]
  },
  {
   "cell_type": "markdown",
   "id": "reasonable-afternoon",
   "metadata": {},
   "source": [
    "<div class=\"alert alert-success\">\n",
    "\n",
    "<b>Best Practice:</b> Add an empty line after indented blocks\n",
    "\n",
    "</div>"
   ]
  },
  {
   "cell_type": "markdown",
   "id": "opening-glory",
   "metadata": {},
   "source": [
    "## Demo 1: `if` statements with an expression that evaluates to a `boolean`"
   ]
  },
  {
   "cell_type": "code",
   "execution_count": 1,
   "id": "emotional-knight",
   "metadata": {},
   "outputs": [],
   "source": [
    "age = 99"
   ]
  },
  {
   "cell_type": "code",
   "execution_count": 2,
   "id": "looking-thursday",
   "metadata": {},
   "outputs": [
    {
     "data": {
      "text/plain": [
       "True"
      ]
     },
     "execution_count": 2,
     "metadata": {},
     "output_type": "execute_result"
    }
   ],
   "source": [
    "age > 16"
   ]
  },
  {
   "cell_type": "code",
   "execution_count": 3,
   "id": "grave-answer",
   "metadata": {},
   "outputs": [
    {
     "data": {
      "text/plain": [
       "False"
      ]
     },
     "execution_count": 3,
     "metadata": {},
     "output_type": "execute_result"
    }
   ],
   "source": [
    "age < 18"
   ]
  },
  {
   "cell_type": "code",
   "execution_count": 4,
   "id": "scheduled-biodiversity",
   "metadata": {},
   "outputs": [
    {
     "name": "stdout",
     "output_type": "stream",
     "text": [
      "Buying beer is allowed\n"
     ]
    }
   ],
   "source": [
    "if age > 16:\n",
    "    print(\"Buying beer is allowed\")"
   ]
  },
  {
   "cell_type": "code",
   "execution_count": 5,
   "id": "skilled-intersection",
   "metadata": {},
   "outputs": [],
   "source": [
    "if age < 18:\n",
    "    print(\"Voting is not allowed\")"
   ]
  },
  {
   "cell_type": "markdown",
   "id": "victorian-pound",
   "metadata": {},
   "source": [
    "Try it again, but with a different age!"
   ]
  },
  {
   "cell_type": "markdown",
   "id": "automotive-opportunity",
   "metadata": {},
   "source": [
    "## Exercise 1"
   ]
  },
  {
   "cell_type": "markdown",
   "id": "elder-vector",
   "metadata": {},
   "source": [
    "### Skeleton"
   ]
  },
  {
   "cell_type": "markdown",
   "id": "confirmed-money",
   "metadata": {},
   "source": [
    "Define a `price` variable with the value 18.99:"
   ]
  },
  {
   "cell_type": "code",
   "execution_count": 8,
   "id": "radio-compatibility",
   "metadata": {
    "tags": [
     "no-replacement"
    ]
   },
   "outputs": [],
   "source": [
    "price = 99.99"
   ]
  },
  {
   "cell_type": "markdown",
   "id": "corrected-lover",
   "metadata": {},
   "source": [
    "A customer is allowed a discount if the item costs 50 euros or more.  \n",
    "Create an `if` statement that prints `\"Discount allowed\"` if the price is **greater than or equal to** 50 euros:"
   ]
  },
  {
   "cell_type": "code",
   "execution_count": 10,
   "id": "christian-england",
   "metadata": {},
   "outputs": [
    {
     "name": "stdout",
     "output_type": "stream",
     "text": [
      "Discount allowed\n"
     ]
    }
   ],
   "source": [
    "if (price>= 50): print(\"Discount allowed\")"
   ]
  },
  {
   "cell_type": "markdown",
   "id": "qualified-reynolds",
   "metadata": {},
   "source": [
    "Redefine the `price` variable to have the value 99.99, and run the `if` statement again!"
   ]
  },
  {
   "cell_type": "markdown",
   "id": "fourth-letters",
   "metadata": {},
   "source": [
    "## Demo 2: `if` statements with an `else` clause"
   ]
  },
  {
   "cell_type": "code",
   "execution_count": 11,
   "id": "athletic-exercise",
   "metadata": {},
   "outputs": [],
   "source": [
    "age = 99"
   ]
  },
  {
   "cell_type": "code",
   "execution_count": 12,
   "id": "imposed-facing",
   "metadata": {},
   "outputs": [
    {
     "name": "stdout",
     "output_type": "stream",
     "text": [
      "Voting is allowed\n"
     ]
    }
   ],
   "source": [
    "if age < 18:\n",
    "    print(\"Voting is not allowed\")\n",
    "else:\n",
    "    print(\"Voting is allowed\")"
   ]
  },
  {
   "cell_type": "markdown",
   "id": "legendary-direction",
   "metadata": {},
   "source": [
    "Try it again, but with a different age!"
   ]
  },
  {
   "cell_type": "markdown",
   "id": "adjusted-intelligence",
   "metadata": {},
   "source": [
    "## Exercise 2"
   ]
  },
  {
   "cell_type": "markdown",
   "id": "daily-found",
   "metadata": {},
   "source": [
    "### Skeleton"
   ]
  },
  {
   "cell_type": "markdown",
   "id": "amino-plant",
   "metadata": {},
   "source": [
    "Define a `price` variable with the value 8.5:"
   ]
  },
  {
   "cell_type": "code",
   "execution_count": 13,
   "id": "beginning-guinea",
   "metadata": {
    "tags": [
     "no-replacement"
    ]
   },
   "outputs": [],
   "source": [
    "price = 8.5"
   ]
  },
  {
   "cell_type": "markdown",
   "id": "rising-cabin",
   "metadata": {},
   "source": [
    "A customer is allowed a discount if the item costs more than 25 euros.  \n",
    "Create an `if` statement that prints:\n",
    "* `\"Discount allowed\"` if the price is greater than 25 euros; and \n",
    "* `\"No discount\"` otherwise:"
   ]
  },
  {
   "cell_type": "code",
   "execution_count": 14,
   "id": "alien-princess",
   "metadata": {},
   "outputs": [
    {
     "name": "stdout",
     "output_type": "stream",
     "text": [
      "No discount\n"
     ]
    }
   ],
   "source": [
    "if price > 25:\n",
    "    print(\"Discount allowed\")\n",
    "else:\n",
    "    print(\"No discount\")"
   ]
  },
  {
   "cell_type": "markdown",
   "id": "known-protection",
   "metadata": {},
   "source": [
    "Redefine the `price` variable to have the value 99.99, and run the `if` statement again."
   ]
  },
  {
   "cell_type": "markdown",
   "id": "rough-carbon",
   "metadata": {},
   "source": [
    "## Demo 3: `if` statements with an `elif` clause"
   ]
  },
  {
   "cell_type": "code",
   "execution_count": 15,
   "id": "designing-spread",
   "metadata": {},
   "outputs": [],
   "source": [
    "age = 99"
   ]
  },
  {
   "cell_type": "code",
   "execution_count": 16,
   "id": "phantom-photograph",
   "metadata": {},
   "outputs": [
    {
     "name": "stdout",
     "output_type": "stream",
     "text": [
      "Buying beer and alcohol is allowed\n"
     ]
    }
   ],
   "source": [
    "if age < 16:\n",
    "    print(\"Buying beer and alcohol is prohibited!\")\n",
    "elif age < 18:\n",
    "    print(\"Buying beer is allowed, but not buying alcohol\")\n",
    "else:\n",
    "    print(\"Buying beer and alcohol is allowed\")"
   ]
  },
  {
   "cell_type": "markdown",
   "id": "boring-profit",
   "metadata": {},
   "source": [
    "Try it again, but with different ages!"
   ]
  },
  {
   "cell_type": "markdown",
   "id": "french-soviet",
   "metadata": {},
   "source": [
    "Only the **first matching option** gets selected, so the order sometimes matters:"
   ]
  },
  {
   "cell_type": "code",
   "execution_count": 17,
   "id": "focal-screen",
   "metadata": {},
   "outputs": [],
   "source": [
    "age = 17"
   ]
  },
  {
   "cell_type": "code",
   "execution_count": 18,
   "id": "worst-momentum",
   "metadata": {},
   "outputs": [
    {
     "name": "stdout",
     "output_type": "stream",
     "text": [
      "Buying beer is allowed!\n"
     ]
    }
   ],
   "source": [
    "if age > 18:\n",
    "    print(\"Buying beer and alcohol is allowed\")\n",
    "elif age > 16:\n",
    "    print(\"Buying beer is allowed!\")\n",
    "else:\n",
    "    print(\"Buying beer and alcohol is prohibited!\")"
   ]
  },
  {
   "cell_type": "code",
   "execution_count": 19,
   "id": "significant-world",
   "metadata": {},
   "outputs": [],
   "source": [
    "age = 17"
   ]
  },
  {
   "cell_type": "code",
   "execution_count": 20,
   "id": "threatened-istanbul",
   "metadata": {},
   "outputs": [
    {
     "name": "stdout",
     "output_type": "stream",
     "text": [
      "Buying beer is allowed!\n"
     ]
    }
   ],
   "source": [
    "if age > 16:\n",
    "    print(\"Buying beer is allowed!\")\n",
    "elif age > 18:\n",
    "    print(\"Buying beer and alcohol is allowed\")\n",
    "else:\n",
    "    print(\"Buying beer and alcohol is prohibited!\")"
   ]
  },
  {
   "cell_type": "markdown",
   "id": "rocky-conditioning",
   "metadata": {},
   "source": [
    "<div class=\"alert alert-warning\">\n",
    "\n",
    "<b>Beware:</b> Only the <b>first matching option</b> gets selected; others are ignored, even if they would match!\n",
    "\n",
    "</div>"
   ]
  },
  {
   "cell_type": "markdown",
   "id": "sought-central",
   "metadata": {},
   "source": [
    "## Exercise 3"
   ]
  },
  {
   "cell_type": "markdown",
   "id": "herbal-ridge",
   "metadata": {},
   "source": [
    "### Skeleton"
   ]
  },
  {
   "cell_type": "markdown",
   "id": "public-elder",
   "metadata": {},
   "source": [
    "Define a `price` variable with the value 10:"
   ]
  },
  {
   "cell_type": "code",
   "execution_count": 21,
   "id": "lovely-classics",
   "metadata": {
    "tags": [
     "no-replacement"
    ]
   },
   "outputs": [],
   "source": [
    "price = 10"
   ]
  },
  {
   "cell_type": "markdown",
   "id": "developing-history",
   "metadata": {},
   "source": [
    "A customer is allowed a small discount if the item costs more than 30 euros, and a large discount if the item costs more than 60 euros.  \n",
    "Create an `if` statement that prints:\n",
    "* `\"Small discount\"` if the price is greater than 30 euros;\n",
    "* `\"Large discount\"` if the price is greater than 60 euros; and\n",
    "* `\"No discount\"` otherwise:"
   ]
  },
  {
   "cell_type": "code",
   "execution_count": null,
   "id": "daily-pacific",
   "metadata": {},
   "outputs": [],
   "source": []
  },
  {
   "cell_type": "markdown",
   "id": "macro-evolution",
   "metadata": {},
   "source": [
    "Redefine the `price` variable to have values of 40 and 80, and run the `if` statement again."
   ]
  },
  {
   "cell_type": "markdown",
   "id": "scientific-belle",
   "metadata": {},
   "source": [
    "## Demo 4: `if` statements with multiple `elif` clauses"
   ]
  },
  {
   "cell_type": "code",
   "execution_count": null,
   "id": "interior-spirituality",
   "metadata": {},
   "outputs": [],
   "source": [
    "age = 99"
   ]
  },
  {
   "cell_type": "code",
   "execution_count": null,
   "id": "removed-accordance",
   "metadata": {},
   "outputs": [],
   "source": [
    "if age > 80:\n",
    "    print(\"Vaccine in March-April\")\n",
    "elif age > 70:\n",
    "    print(\"Vaccine in May-June\")\n",
    "elif age > 50:\n",
    "    print(\"Vaccine in July\")\n",
    "elif age > 40:\n",
    "    print(\"Vaccine in August\")\n",
    "else:\n",
    "    print(\"Vaccine after the Summer holidays!\")"
   ]
  },
  {
   "cell_type": "markdown",
   "id": "known-trade",
   "metadata": {},
   "source": [
    "Try it again, but with different ages!"
   ]
  },
  {
   "cell_type": "markdown",
   "id": "active-puzzle",
   "metadata": {},
   "source": [
    "## Exercise 4"
   ]
  },
  {
   "cell_type": "markdown",
   "id": "processed-costume",
   "metadata": {},
   "source": [
    "### Skeleton"
   ]
  },
  {
   "cell_type": "markdown",
   "id": "animal-lecture",
   "metadata": {},
   "source": [
    "Define a `price` variable with the value 30:"
   ]
  },
  {
   "cell_type": "code",
   "execution_count": null,
   "id": "numeric-honey",
   "metadata": {
    "tags": [
     "no-replacement"
    ]
   },
   "outputs": [],
   "source": [
    "price = 30"
   ]
  },
  {
   "cell_type": "markdown",
   "id": "eleven-copying",
   "metadata": {},
   "source": [
    "A customer is allowed an increasing discount based on the cost of the item.  \n",
    "Create an `if` statement that prints:\n",
    "* `\"10% discount\"` if the price is greater than 20 euros;\n",
    "* `\"15% discount\"` if the price is greater than 40 euros;\n",
    "* `\"20% discount\"` if the price is greater than 60 euros;\n",
    "* `\"25% discount\"` if the price is greater than 80 euros;\n",
    "* `\"50% discount\"` if the price is greater than 100 euros."
   ]
  },
  {
   "cell_type": "code",
   "execution_count": null,
   "id": "prompt-rough",
   "metadata": {},
   "outputs": [],
   "source": []
  },
  {
   "cell_type": "markdown",
   "id": "wrapped-gasoline",
   "metadata": {},
   "source": [
    "Redefine the `price` variable to have various values, and run the `if` statement again.  \n",
    "Make sure to try, at least, a `price` of 10 and a price of 200!"
   ]
  },
  {
   "cell_type": "markdown",
   "id": "antique-silly",
   "metadata": {},
   "source": [
    "## Demo 5: `if` statements combining multiple conditions"
   ]
  },
  {
   "cell_type": "code",
   "execution_count": 22,
   "id": "secondary-duncan",
   "metadata": {},
   "outputs": [],
   "source": [
    "age = 99\n",
    "groups = \"others\""
   ]
  },
  {
   "cell_type": "code",
   "execution_count": 31,
   "id": "undefined-corpus",
   "metadata": {},
   "outputs": [
    {
     "name": "stdout",
     "output_type": "stream",
     "text": [
      "Vaccine after the Summer holidays!\n"
     ]
    }
   ],
   "source": [
    "if (age > 80) or (groups == \"doctors\"):\n",
    "    print(\"Vaccine in March-April\")\n",
    "elif (age > 70) or (groups == \"nurses\"):\n",
    "    print(\"Vaccine in May-June\")\n",
    "elif (age > 50) or (groups == \"teachers\"):\n",
    "    print(\"Vaccine in July\")\n",
    "elif age > 40:\n",
    "    print(\"Vaccine in August\")\n",
    "else:\n",
    "    print(\"Vaccine after the Summer holidays!\")"
   ]
  },
  {
   "cell_type": "markdown",
   "id": "fatal-momentum",
   "metadata": {},
   "source": [
    "Try it again, but with different combinations!"
   ]
  },
  {
   "cell_type": "code",
   "execution_count": 24,
   "id": "incident-rochester",
   "metadata": {},
   "outputs": [],
   "source": [
    "age = 30\n",
    "groups = \"doctors\""
   ]
  },
  {
   "cell_type": "code",
   "execution_count": 26,
   "id": "adolescent-heath",
   "metadata": {},
   "outputs": [],
   "source": [
    "age = 30\n",
    "groups = \"nurses\""
   ]
  },
  {
   "cell_type": "code",
   "execution_count": 28,
   "id": "ideal-washer",
   "metadata": {},
   "outputs": [],
   "source": [
    "age = 30\n",
    "groups = \"teachers\""
   ]
  },
  {
   "cell_type": "code",
   "execution_count": 30,
   "id": "excellent-galaxy",
   "metadata": {},
   "outputs": [],
   "source": [
    "age = 30\n",
    "groups = \"lawyers\""
   ]
  },
  {
   "cell_type": "code",
   "execution_count": null,
   "id": "relevant-university",
   "metadata": {},
   "outputs": [],
   "source": [
    "age = 45\n",
    "groups = \"nurses\""
   ]
  },
  {
   "cell_type": "code",
   "execution_count": null,
   "id": "african-glory",
   "metadata": {},
   "outputs": [],
   "source": [
    "age = 45\n",
    "groups = \"lawyers\""
   ]
  },
  {
   "cell_type": "markdown",
   "id": "harmful-platform",
   "metadata": {},
   "source": [
    "## Exercise 5"
   ]
  },
  {
   "cell_type": "markdown",
   "id": "focused-costa",
   "metadata": {},
   "source": [
    "### Skeleton"
   ]
  },
  {
   "cell_type": "markdown",
   "id": "understood-pharmacology",
   "metadata": {},
   "source": [
    "Define a `price` variable with the value 30, and a `member` variable with the value `True`:"
   ]
  },
  {
   "cell_type": "code",
   "execution_count": 32,
   "id": "seventh-sixth",
   "metadata": {
    "tags": [
     "no-replacement"
    ]
   },
   "outputs": [],
   "source": [
    "price = 30\n",
    "member = False"
   ]
  },
  {
   "cell_type": "markdown",
   "id": "industrial-lesson",
   "metadata": {},
   "source": [
    "A customer is allowed an increasing discount based on the cost of the item and if they belong to the store's member club.  \n",
    "Create an `if` statement that prints:\n",
    "* `\"10% discount\"` if the price is greater than 20 euros and the person belongs to the club;\n",
    "* `\"15% discount\"` if the price is greater than 40 euros and the person belongs to the club;\n",
    "* `\"20% discount\"` if the price is greater than 60 euros and the person belongs to the club;\n",
    "* `\"25% discount\"` if the price is greater than 80 euros;\n",
    "* `\"50% discount\"` if the price is greater than 100 euros."
   ]
  },
  {
   "cell_type": "code",
   "execution_count": null,
   "id": "correct-gravity",
   "metadata": {},
   "outputs": [],
   "source": []
  },
  {
   "cell_type": "markdown",
   "id": "abandoned-banks",
   "metadata": {},
   "source": [
    "Redefine the `price` variable to have various values, and run the `if` statement again."
   ]
  }
 ],
 "metadata": {
  "kernelspec": {
   "display_name": "Python 3",
   "language": "python",
   "name": "python3"
  },
  "language_info": {
   "codemirror_mode": {
    "name": "ipython",
    "version": 3
   },
   "file_extension": ".py",
   "mimetype": "text/x-python",
   "name": "python",
   "nbconvert_exporter": "python",
   "pygments_lexer": "ipython3",
   "version": "3.8.5"
  }
 },
 "nbformat": 4,
 "nbformat_minor": 5
}
