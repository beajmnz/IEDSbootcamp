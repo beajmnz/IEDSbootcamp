{
 "cells": [
  {
   "cell_type": "markdown",
   "id": "24bfe4b0",
   "metadata": {},
   "source": [
    "# Comprehensions"
   ]
  },
  {
   "cell_type": "markdown",
   "id": "2ee3fc64",
   "metadata": {},
   "source": [
    "> A comprehension is a shortcut to replace **simple** `for` loops that are creating a new iterable."
   ]
  },
  {
   "cell_type": "markdown",
   "id": "e3c7ce0b",
   "metadata": {},
   "source": [
    "## Demo 1: Looping over a list & creating a new list"
   ]
  },
  {
   "cell_type": "code",
   "execution_count": null,
   "id": "eccecd51",
   "metadata": {},
   "outputs": [],
   "source": [
    "students = [\"Alice\", \"Bob\", \"Carol\", \"Dennis\", \"Emily\", \"Francis\"]"
   ]
  },
  {
   "cell_type": "code",
   "execution_count": null,
   "id": "ff07ffe6",
   "metadata": {},
   "outputs": [],
   "source": [
    "students"
   ]
  },
  {
   "cell_type": "markdown",
   "id": "fdc47f70",
   "metadata": {},
   "source": [
    "Loop over the items:"
   ]
  },
  {
   "cell_type": "code",
   "execution_count": null,
   "id": "5ba2a3e6",
   "metadata": {},
   "outputs": [],
   "source": [
    "for student in students:\n",
    "    print(student)"
   ]
  },
  {
   "cell_type": "markdown",
   "id": "6f6cdfbd",
   "metadata": {},
   "source": [
    "Loop over the items, and print only the students whose name containes 5 letters:"
   ]
  },
  {
   "cell_type": "code",
   "execution_count": null,
   "id": "e892680f",
   "metadata": {},
   "outputs": [],
   "source": [
    "for student in students:\n",
    "    if len(student) == 5:\n",
    "        print(student)"
   ]
  },
  {
   "cell_type": "markdown",
   "id": "af9ce3d3",
   "metadata": {},
   "source": [
    "Loop over the items, and create a new list containing only the students whose name contains 5 letters:"
   ]
  },
  {
   "cell_type": "code",
   "execution_count": null,
   "id": "e0be9894",
   "metadata": {},
   "outputs": [],
   "source": [
    "students_with_5_letters = []\n",
    "for student in students:\n",
    "    if len(student) == 5:\n",
    "        students_with_5_letters.append(student)\n",
    "\n",
    "print(students_with_5_letters)"
   ]
  },
  {
   "cell_type": "markdown",
   "id": "65ee9633",
   "metadata": {},
   "source": [
    "## Exercise 1"
   ]
  },
  {
   "cell_type": "markdown",
   "id": "31d775f6",
   "metadata": {},
   "source": [
    "### Skeleton"
   ]
  },
  {
   "cell_type": "code",
   "execution_count": null,
   "id": "043e61ea",
   "metadata": {
    "tags": [
     "no-replacement"
    ]
   },
   "outputs": [],
   "source": [
    "eu_countries = [\n",
    "    \"Austria\",\n",
    "    \"Belgium\",\n",
    "    \"Bulgaria\",\n",
    "    \"Croatia\",\n",
    "    \"Cyprus\",\n",
    "    \"Czech Republic\",\n",
    "    \"Denmark\",\n",
    "    \"Estonia\",\n",
    "    \"Finland\",\n",
    "    \"France\",\n",
    "    \"Germany\",\n",
    "    \"Greece\",\n",
    "    \"Hungary\",\n",
    "    \"Ireland\",\n",
    "    \"Italy\",\n",
    "    \"Latvia\",\n",
    "    \"Lithuania\",\n",
    "    \"Luxembourg\",\n",
    "    \"Malta\",\n",
    "    \"Netherlands\",\n",
    "    \"Poland\",\n",
    "    \"Portugal\",\n",
    "    \"Romania\",\n",
    "    \"Slovakia\",\n",
    "    \"Slovenia\",\n",
    "    \"Spain\",\n",
    "    \"Sweden\",\n",
    "]"
   ]
  },
  {
   "cell_type": "markdown",
   "id": "ca65b15a",
   "metadata": {},
   "source": [
    "Loop over the EU countries, and create a new list containing only those whose name starts with the letter S:"
   ]
  },
  {
   "cell_type": "code",
   "execution_count": null,
   "id": "5adfe697",
   "metadata": {},
   "outputs": [],
   "source": []
  },
  {
   "cell_type": "markdown",
   "id": "48352f4e",
   "metadata": {},
   "source": [
    "Loop over the EU countries, and create a new list containing only those whose name ends with \"ia\":"
   ]
  },
  {
   "cell_type": "code",
   "execution_count": null,
   "id": "b81c706b",
   "metadata": {},
   "outputs": [],
   "source": []
  },
  {
   "cell_type": "markdown",
   "id": "e71fb7a3",
   "metadata": {},
   "source": [
    "## Demo 2: Looping over a dictionary & creating a new dictionary"
   ]
  },
  {
   "cell_type": "code",
   "execution_count": null,
   "id": "e19ea2aa",
   "metadata": {},
   "outputs": [],
   "source": [
    "olympic_medals = {\n",
    "    \"United States\": 2828,\n",
    "    \"Soviet Union\": 1204,\n",
    "    \"Great Britain\": 883,\n",
    "    \"Germany\": 855,\n",
    "    \"France\": 840,\n",
    "}"
   ]
  },
  {
   "cell_type": "markdown",
   "id": "878f80c7",
   "metadata": {},
   "source": [
    "Loop over the key-value pairs:"
   ]
  },
  {
   "cell_type": "code",
   "execution_count": null,
   "id": "37e1108e",
   "metadata": {},
   "outputs": [],
   "source": [
    "for (country, count) in olympic_medals.items():\n",
    "    print(country, count)"
   ]
  },
  {
   "cell_type": "markdown",
   "id": "ae440f71",
   "metadata": {},
   "source": [
    "Loop over the key-value paris, and print only the countries who won more than 1000 Olympic medals:"
   ]
  },
  {
   "cell_type": "code",
   "execution_count": null,
   "id": "e44eb779",
   "metadata": {},
   "outputs": [],
   "source": [
    "for (country, count) in olympic_medals.items():\n",
    "    if count > 1000:\n",
    "        print(country, count)"
   ]
  },
  {
   "cell_type": "markdown",
   "id": "d22dbbaf",
   "metadata": {},
   "source": [
    "Loop over the key-value pairs, and create a new dictionary containing only the countries who won more than 1000 Olympic medals:"
   ]
  },
  {
   "cell_type": "code",
   "execution_count": null,
   "id": "61c48603",
   "metadata": {},
   "outputs": [],
   "source": [
    "countries_1000_medals = {}\n",
    "\n",
    "for (country, count) in olympic_medals.items():\n",
    "    if count > 1000:\n",
    "        countries_1000_medals[country] = count\n",
    "\n",
    "print(countries_1000_medals)"
   ]
  },
  {
   "cell_type": "markdown",
   "id": "6f53593f",
   "metadata": {},
   "source": [
    "## Exercise 2"
   ]
  },
  {
   "cell_type": "markdown",
   "id": "97f8bacc",
   "metadata": {},
   "source": [
    "### Skeleton"
   ]
  },
  {
   "cell_type": "code",
   "execution_count": null,
   "id": "c91486a6",
   "metadata": {
    "tags": [
     "no-replacement"
    ]
   },
   "outputs": [],
   "source": [
    "populations = {\n",
    "    \"Spain\": 46_733_038,\n",
    "    \"Belgium\": 11_449_656,\n",
    "    \"France\": 67_076_000,\n",
    "    \"Italy\": 60_390_560,\n",
    "    \"Germany\": 83_122_889,\n",
    "}"
   ]
  },
  {
   "cell_type": "markdown",
   "id": "07543b14",
   "metadata": {},
   "source": [
    "Loop over the key-value pairs, and create a new dictionary containing only the countries who have more than 50 million inhabitants:"
   ]
  },
  {
   "cell_type": "code",
   "execution_count": null,
   "id": "bd29a8b2",
   "metadata": {},
   "outputs": [],
   "source": []
  },
  {
   "cell_type": "code",
   "execution_count": null,
   "id": "b33e2077",
   "metadata": {},
   "outputs": [],
   "source": []
  },
  {
   "cell_type": "code",
   "execution_count": null,
   "id": "2ebc60c1",
   "metadata": {},
   "outputs": [],
   "source": []
  },
  {
   "cell_type": "markdown",
   "id": "3aa196ce",
   "metadata": {},
   "source": [
    "## Demo 3: Looping over a list & creating a new one (with list comprehension)"
   ]
  },
  {
   "cell_type": "code",
   "execution_count": null,
   "id": "d58e1c93",
   "metadata": {},
   "outputs": [],
   "source": [
    "students_with_5_letters = []\n",
    "for student in students:\n",
    "    if len(student) == 5:\n",
    "        students_with_5_letters.append(student)"
   ]
  },
  {
   "cell_type": "code",
   "execution_count": null,
   "id": "42346fcc",
   "metadata": {},
   "outputs": [],
   "source": [
    "students_with_5_letters"
   ]
  },
  {
   "cell_type": "markdown",
   "id": "58f452d3",
   "metadata": {},
   "source": [
    "The simplest list comprehension loops over a list and creates a new one that is identical:"
   ]
  },
  {
   "cell_type": "code",
   "execution_count": null,
   "id": "218c2de0",
   "metadata": {},
   "outputs": [],
   "source": [
    "[student for student in students]"
   ]
  },
  {
   "cell_type": "markdown",
   "id": "692ea08c",
   "metadata": {},
   "source": [
    "Optionally, it is possible to apply some conditions:"
   ]
  },
  {
   "cell_type": "code",
   "execution_count": null,
   "id": "73dcbf5d",
   "metadata": {},
   "outputs": [],
   "source": [
    "[student for student in students if len(student) == 5]"
   ]
  },
  {
   "cell_type": "markdown",
   "id": "afff895b",
   "metadata": {},
   "source": [
    "Optionally, it is possible to apply some transformations:"
   ]
  },
  {
   "cell_type": "code",
   "execution_count": null,
   "id": "55d1320e",
   "metadata": {},
   "outputs": [],
   "source": [
    "[len(student) for student in students]"
   ]
  },
  {
   "cell_type": "markdown",
   "id": "ab022086",
   "metadata": {},
   "source": [
    "## Exercise 3"
   ]
  },
  {
   "cell_type": "markdown",
   "id": "52e244ee",
   "metadata": {},
   "source": [
    "### Skeleton"
   ]
  },
  {
   "cell_type": "code",
   "execution_count": null,
   "id": "9aa09512",
   "metadata": {
    "tags": [
     "no-replacement"
    ]
   },
   "outputs": [],
   "source": [
    "eu_countries = [\n",
    "    \"Austria\",\n",
    "    \"Belgium\",\n",
    "    \"Bulgaria\",\n",
    "    \"Croatia\",\n",
    "    \"Cyprus\",\n",
    "    \"Czech Republic\",\n",
    "    \"Denmark\",\n",
    "    \"Estonia\",\n",
    "    \"Finland\",\n",
    "    \"France\",\n",
    "    \"Germany\",\n",
    "    \"Greece\",\n",
    "    \"Hungary\",\n",
    "    \"Ireland\",\n",
    "    \"Italy\",\n",
    "    \"Latvia\",\n",
    "    \"Lithuania\",\n",
    "    \"Luxembourg\",\n",
    "    \"Malta\",\n",
    "    \"Netherlands\",\n",
    "    \"Poland\",\n",
    "    \"Portugal\",\n",
    "    \"Romania\",\n",
    "    \"Slovakia\",\n",
    "    \"Slovenia\",\n",
    "    \"Spain\",\n",
    "    \"Sweden\",\n",
    "]"
   ]
  },
  {
   "cell_type": "markdown",
   "id": "d237b24e",
   "metadata": {},
   "source": [
    "Loop over the EU countries, and create a new list containing only those whose name starts with the letter S:"
   ]
  },
  {
   "cell_type": "code",
   "execution_count": null,
   "id": "4bc85f06",
   "metadata": {},
   "outputs": [],
   "source": []
  },
  {
   "cell_type": "code",
   "execution_count": null,
   "id": "7beb0a29",
   "metadata": {},
   "outputs": [],
   "source": []
  },
  {
   "cell_type": "markdown",
   "id": "e66f6cb8",
   "metadata": {},
   "source": [
    "Loop over the EU countries, and create a new list containing only those whose name ends with \"ia\":"
   ]
  },
  {
   "cell_type": "code",
   "execution_count": null,
   "id": "ec24358f",
   "metadata": {},
   "outputs": [],
   "source": []
  },
  {
   "cell_type": "code",
   "execution_count": null,
   "id": "60179f64",
   "metadata": {},
   "outputs": [],
   "source": []
  },
  {
   "cell_type": "markdown",
   "id": "13e06b2e",
   "metadata": {},
   "source": [
    "## Demo 4: Looping over a set & creating a new one (with set comprehension)"
   ]
  },
  {
   "cell_type": "code",
   "execution_count": null,
   "id": "21547897",
   "metadata": {},
   "outputs": [],
   "source": [
    "candidate_skills = {\"Python\", \"Git\", \"SQL\", \"R\", \"Java\", \"C\"}\n",
    "data_scientist_skills = {\"Python\", \"Git\", \"SQL\", \"R\", \"Tableau\", \"SAS\"}"
   ]
  },
  {
   "cell_type": "markdown",
   "id": "a9951abd",
   "metadata": {},
   "source": [
    "The simplest set comprehension loops over a set and creates a new one that is identical:"
   ]
  },
  {
   "cell_type": "code",
   "execution_count": null,
   "id": "826c04ff",
   "metadata": {},
   "outputs": [],
   "source": [
    "{skill for skill in candidate_skills}"
   ]
  },
  {
   "cell_type": "markdown",
   "id": "dfe0a0f3",
   "metadata": {},
   "source": [
    "Optionally, it is possible to apply some conditions:"
   ]
  },
  {
   "cell_type": "code",
   "execution_count": null,
   "id": "bec3f618",
   "metadata": {},
   "outputs": [],
   "source": [
    "{skill for skill in candidate_skills if skill in data_scientist_skills}"
   ]
  },
  {
   "cell_type": "markdown",
   "id": "32413540",
   "metadata": {},
   "source": [
    "Optionally, it is possible to apply some transformations:"
   ]
  },
  {
   "cell_type": "code",
   "execution_count": null,
   "id": "6a6a8cad",
   "metadata": {},
   "outputs": [],
   "source": [
    "{skill.lower() for skill in candidate_skills}"
   ]
  },
  {
   "cell_type": "markdown",
   "id": "4a48bcb0",
   "metadata": {},
   "source": [
    "## Exercise 4"
   ]
  },
  {
   "cell_type": "markdown",
   "id": "cc61b97c",
   "metadata": {},
   "source": [
    "### Skeleton"
   ]
  },
  {
   "cell_type": "code",
   "execution_count": null,
   "id": "d02274fe",
   "metadata": {
    "tags": [
     "no-replacement"
    ]
   },
   "outputs": [],
   "source": [
    "girls = {\"Andrea\", \"Sofia\", \"Lucia\", \"Maria\"}\n",
    "boys = {\"Andrea\", \"Hugo\", \"Martin\"}"
   ]
  },
  {
   "cell_type": "markdown",
   "id": "c8f9f897",
   "metadata": {},
   "source": [
    "Create a new set with the names that can be given to both girls and boys:"
   ]
  },
  {
   "cell_type": "code",
   "execution_count": null,
   "id": "8dc104e4",
   "metadata": {},
   "outputs": [],
   "source": []
  },
  {
   "cell_type": "code",
   "execution_count": null,
   "id": "91c359e3",
   "metadata": {},
   "outputs": [],
   "source": []
  },
  {
   "cell_type": "markdown",
   "id": "d1b5679c",
   "metadata": {},
   "source": [
    "Create a new set with the names that can be given to both girls, but not to boys:"
   ]
  },
  {
   "cell_type": "code",
   "execution_count": null,
   "id": "81d4b166",
   "metadata": {},
   "outputs": [],
   "source": []
  },
  {
   "cell_type": "code",
   "execution_count": null,
   "id": "756d8cfb",
   "metadata": {},
   "outputs": [],
   "source": []
  },
  {
   "cell_type": "markdown",
   "id": "ce2d719b",
   "metadata": {},
   "source": [
    "## Demo 5: Looping over a dictionary & creating a new one (with dictionary comprehension)"
   ]
  },
  {
   "cell_type": "code",
   "execution_count": null,
   "id": "30dad947",
   "metadata": {},
   "outputs": [],
   "source": [
    "countries_1000_medals = {}\n",
    "for (country, count) in olympic_medals.items():\n",
    "    if count > 1000:\n",
    "        countries_1000_medals[country] = count"
   ]
  },
  {
   "cell_type": "code",
   "execution_count": null,
   "id": "a72b5755",
   "metadata": {},
   "outputs": [],
   "source": [
    "countries_1000_medals"
   ]
  },
  {
   "cell_type": "markdown",
   "id": "83b247dc",
   "metadata": {},
   "source": [
    "The simplest dictionary comprehension loops over a dictionary and creates a new one that is identical:"
   ]
  },
  {
   "cell_type": "code",
   "execution_count": null,
   "id": "35606c35",
   "metadata": {},
   "outputs": [],
   "source": [
    "{country: count for (country, count) in olympic_medals.items()}"
   ]
  },
  {
   "cell_type": "markdown",
   "id": "12f3af61",
   "metadata": {},
   "source": [
    "Optionally, it is possible to apply some conditions:"
   ]
  },
  {
   "cell_type": "code",
   "execution_count": null,
   "id": "abc617a5",
   "metadata": {},
   "outputs": [],
   "source": [
    "{country: count for (country, count) in olympic_medals.items() if count > 1000}"
   ]
  },
  {
   "cell_type": "markdown",
   "id": "0f505c2e",
   "metadata": {},
   "source": [
    "Optionally, it is possible to apply some transformations:"
   ]
  },
  {
   "cell_type": "code",
   "execution_count": null,
   "id": "39380207",
   "metadata": {},
   "outputs": [],
   "source": [
    "{country.upper(): count for (country, count) in olympic_medals.items()}"
   ]
  },
  {
   "cell_type": "markdown",
   "id": "58a0472c",
   "metadata": {},
   "source": [
    "## Exercise 5"
   ]
  },
  {
   "cell_type": "markdown",
   "id": "9bbd0049",
   "metadata": {},
   "source": [
    "### Skeleton"
   ]
  },
  {
   "cell_type": "code",
   "execution_count": null,
   "id": "6f88498c",
   "metadata": {
    "tags": [
     "no-replacement"
    ]
   },
   "outputs": [],
   "source": [
    "populations = {\n",
    "    \"Spain\": 46_733_038,\n",
    "    \"Belgium\": 11_449_656,\n",
    "    \"France\": 67_076_000,\n",
    "    \"Italy\": 60_390_560,\n",
    "    \"Germany\": 83_122_889,\n",
    "}"
   ]
  },
  {
   "cell_type": "markdown",
   "id": "4dbfa072",
   "metadata": {},
   "source": [
    "Loop over the key-value pairs, and create a new dictionary containing only the countries who have more than 50 million inhabitants:"
   ]
  },
  {
   "cell_type": "code",
   "execution_count": null,
   "id": "09b8e8ed",
   "metadata": {},
   "outputs": [],
   "source": []
  },
  {
   "cell_type": "code",
   "execution_count": null,
   "id": "f8f6b92b",
   "metadata": {},
   "outputs": [],
   "source": []
  },
  {
   "cell_type": "markdown",
   "id": "7501b647",
   "metadata": {},
   "source": [
    "<div class=\"alert alert-info\">\n",
    "\n",
    "<b>Note:</b> The <code># fmt: off</code> and <code># fmt: on</code> comments are an indication for <code>black</code>, which will have its own lecture.\n",
    "\n",
    "</div>"
   ]
  },
  {
   "cell_type": "markdown",
   "id": "6a4eb901",
   "metadata": {},
   "source": [
    "## Bonus: Swapping the keys and values of a dictionary"
   ]
  },
  {
   "cell_type": "code",
   "execution_count": null,
   "id": "4e01a0ad",
   "metadata": {},
   "outputs": [],
   "source": [
    "capitals = {\n",
    "    \"Spain\": \"Madrid\",\n",
    "    \"Belgium\": \"Brussels\",\n",
    "    \"France\": \"Paris\",\n",
    "    \"Italy\": \"Roma\",\n",
    "    \"Germany\": \"Berlin\",\n",
    "}"
   ]
  },
  {
   "cell_type": "code",
   "execution_count": null,
   "id": "55f8d8bc",
   "metadata": {},
   "outputs": [],
   "source": [
    "capitals[\"Spain\"]"
   ]
  },
  {
   "cell_type": "code",
   "execution_count": null,
   "id": "dec5c7fe",
   "metadata": {
    "tags": [
     "raises-error"
    ]
   },
   "outputs": [],
   "source": [
    "# Raises an error, because the keys are the countries, not the capitals:\n",
    "capitals[\"Madrid\"]"
   ]
  },
  {
   "cell_type": "markdown",
   "id": "99db718f",
   "metadata": {},
   "source": [
    "Use dictionary comprehension to swap the keys and values:"
   ]
  },
  {
   "cell_type": "code",
   "execution_count": null,
   "id": "cc9be495",
   "metadata": {},
   "outputs": [],
   "source": [
    "{country: capital for (country, capital) in capitals.items()}"
   ]
  },
  {
   "cell_type": "code",
   "execution_count": null,
   "id": "c69a6fde",
   "metadata": {},
   "outputs": [],
   "source": [
    "{capital: country for (country, capital) in capitals.items()}"
   ]
  },
  {
   "cell_type": "code",
   "execution_count": null,
   "id": "f709dd23",
   "metadata": {},
   "outputs": [],
   "source": [
    "invertible_dictionary = {\"a\": 1, \"b\": 10, \"c\": 100}"
   ]
  },
  {
   "cell_type": "code",
   "execution_count": null,
   "id": "0f5dc321",
   "metadata": {},
   "outputs": [],
   "source": [
    "{key: value for (key, value) in invertible_dictionary.items()}"
   ]
  },
  {
   "cell_type": "code",
   "execution_count": null,
   "id": "fd873e14",
   "metadata": {},
   "outputs": [],
   "source": [
    "uninvertible_dictionary = {\"a\": [1, 2, 3], \"b\": 10, \"c\": 100}"
   ]
  },
  {
   "cell_type": "code",
   "execution_count": null,
   "id": "75caa9c0",
   "metadata": {
    "tags": [
     "raises-error"
    ]
   },
   "outputs": [],
   "source": [
    "# Raises an error, because a list is mutable, hence it cannot be used as a key:\n",
    "{value: key for (key, value) in uninvertible_dictionary.items()}"
   ]
  }
 ],
 "metadata": {
  "kernelspec": {
   "display_name": "Python 3",
   "language": "python",
   "name": "python3"
  },
  "language_info": {
   "codemirror_mode": {
    "name": "ipython",
    "version": 3
   },
   "file_extension": ".py",
   "mimetype": "text/x-python",
   "name": "python",
   "nbconvert_exporter": "python",
   "pygments_lexer": "ipython3",
   "version": "3.9.2"
  }
 },
 "nbformat": 4,
 "nbformat_minor": 5
}
