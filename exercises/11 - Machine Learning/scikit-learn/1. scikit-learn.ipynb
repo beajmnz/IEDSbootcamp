{
 "cells": [
  {
   "cell_type": "code",
   "execution_count": 1,
   "metadata": {},
   "outputs": [],
   "source": [
    "# Load libraries\n",
    "import numpy as np;"
   ]
  },
  {
   "cell_type": "markdown",
   "metadata": {},
   "source": [
    "# Intro to Scikit-Learn\n",
    "\n",
    "This notebook is a brief introduction to scikit-learn, one of the most popular libraries, and probably the most complete, that Python has to perform Machine Learning computations. For more information visit http://scikit-learn.org."
   ]
  },
  {
   "cell_type": "markdown",
   "metadata": {},
   "source": [
    "## About Scikit-Learn\n",
    "\n",
    "Scikit-Learn is a Python package designed to give access to popular machine learning algorithms, through a clean and well thought out API. It was built by hundreds of collaborators around the world and is used throughout industry and academia.\n",
    "\n",
    "Scikit-Learn is based on Python's NumPy (Numerical Python) and SciPy (Scientific Python) libraries, which enable efficient numerical and scientific computing through Python.\n",
    "\n"
   ]
  },
  {
   "cell_type": "markdown",
   "metadata": {},
   "source": [
    "## Datasets in Scikit-Learn\n",
    "\n",
    "Most of the machine learning algorithms implemented in scikit-learn expect the data to be stored in a two-dimensional array. The arrays will normally be numpy arrays. The size of the array is expected to be [n_samples, n_features], where:\n",
    "\n",
    "- **n_samples:** the number of samples. Each sample is an instance to process. A sample can be a document, an image, a sound, a video, an astronomical object, a row in the database, or anything you can describe with a fixed set of quantitative or categorical traits.\n",
    "    \n",
    "- **n_features:** the number of different characteristics or traits that can be used to describe each instance. Features generally have a real value, but can be Boolean or discrete for some models."
   ]
  },
  {
   "cell_type": "markdown",
   "metadata": {},
   "source": [
    "### Example: Iris dataset\n",
    "\n",
    "Scikit-Learn has several datasets pre-loaded ready to be used: https://scikit-learn.org/stable/datasets/toy_dataset.html"
   ]
  },
  {
   "cell_type": "markdown",
   "metadata": {},
   "source": [
    "One of the best known is the iris dataset. Let's import it."
   ]
  },
  {
   "cell_type": "code",
   "execution_count": 2,
   "metadata": {},
   "outputs": [],
   "source": [
    "from sklearn.datasets import load_iris;\n",
    "iris = load_iris();\n",
    "dat = iris.data;\n",
    "target = iris.target;\n",
    "target_names = iris.target_names;"
   ]
  },
  {
   "cell_type": "markdown",
   "metadata": {},
   "source": [
    "Let's check the target"
   ]
  },
  {
   "cell_type": "code",
   "execution_count": 3,
   "metadata": {},
   "outputs": [
    {
     "name": "stdout",
     "output_type": "stream",
     "text": [
      "[[ 0 50]\n",
      " [ 1 50]\n",
      " [ 2 50]]\n"
     ]
    }
   ],
   "source": [
    "unique, counts = np.unique(target, return_counts=True);\n",
    "print(np.asarray((unique, counts)).T);"
   ]
  },
  {
   "cell_type": "markdown",
   "metadata": {},
   "source": [
    "50 examples of each type of flower, where each numerical code represents the corresponding type of iris flower in this vector:"
   ]
  },
  {
   "cell_type": "code",
   "execution_count": 4,
   "metadata": {},
   "outputs": [
    {
     "data": {
      "text/plain": [
       "array(['setosa', 'versicolor', 'virginica'], dtype='<U10')"
      ]
     },
     "execution_count": 4,
     "metadata": {},
     "output_type": "execute_result"
    }
   ],
   "source": [
    "target_names"
   ]
  },
  {
   "cell_type": "markdown",
   "metadata": {},
   "source": [
    "Iris Setosa\n",
    "<img src=\"figures/iris_setosa.jpg\" width=\"50%\">\n",
    "\n",
    "Iris Versicolor\n",
    "<img src=\"figures/iris_versicolor.jpg\" width=\"50%\">\n",
    "\n",
    "Iris Virginica\n",
    "<img src=\"figures/iris_virginica.jpg\" width=\"50%\">"
   ]
  },
  {
   "cell_type": "markdown",
   "metadata": {},
   "source": [
    "Now let's the dataset dimensions"
   ]
  },
  {
   "cell_type": "code",
   "execution_count": 5,
   "metadata": {},
   "outputs": [
    {
     "data": {
      "text/plain": [
       "(150, 4)"
      ]
     },
     "execution_count": 5,
     "metadata": {},
     "output_type": "execute_result"
    }
   ],
   "source": [
    "dat.shape"
   ]
  },
  {
   "cell_type": "markdown",
   "metadata": {},
   "source": [
    "We see that it contains 150 instances and 4 columns or variables. Let's look at the content of the first 5 rows."
   ]
  },
  {
   "cell_type": "code",
   "execution_count": 6,
   "metadata": {},
   "outputs": [
    {
     "data": {
      "text/plain": [
       "array([[5.1, 3.5, 1.4, 0.2],\n",
       "       [4.9, 3. , 1.4, 0.2],\n",
       "       [4.7, 3.2, 1.3, 0.2],\n",
       "       [4.6, 3.1, 1.5, 0.2],\n",
       "       [5. , 3.6, 1.4, 0.2]])"
      ]
     },
     "execution_count": 6,
     "metadata": {},
     "output_type": "execute_result"
    }
   ],
   "source": [
    "dat[0:5]"
   ]
  },
  {
   "cell_type": "markdown",
   "metadata": {},
   "source": [
    "We observe that we have 4 variables for each flower. These correspond to:\n",
    "\n",
    "- sepal length in cm\n",
    "- sepal width in cm\n",
    "- petal length in cm\n",
    "- petal width in cm"
   ]
  },
  {
   "cell_type": "markdown",
   "metadata": {},
   "source": [
    "We represent each flower example as a row in our data matrix, and the columns (characteristics) represent the flower's measurements in centimeters. For example, we can represent the dataset *Iris*, consisting of 150 examples and 4 characteristics, as a two-dimensional array or matrix in $ \\mathbb {R} ^ {150 \\times 4} $ in the following format:\n",
    "\n",
    "$$\\mathbf{X} = \\begin{bmatrix}\n",
    "    x_{1}^{(1)} & x_{2}^{(1)} & x_{3}^{(1)} & \\dots  & x_{4}^{(1)} \\\\\n",
    "    x_{1}^{(2)} & x_{2}^{(2)} & x_{3}^{(2)} & \\dots  & x_{4}^{(2)} \\\\\n",
    "    \\vdots & \\vdots & \\vdots & \\ddots & \\vdots \\\\\n",
    "    x_{1}^{(150)} & x_{2}^{(150)} & x_{3}^{(150)} & \\dots  & x_{4}^{(150)}\n",
    "\\end{bmatrix}.\n",
    "$$\n",
    "\n",
    "(The superscript denotes the *i*th row, and the subscript denotes the $ j $th characteristic, respectively."
   ]
  },
  {
   "cell_type": "markdown",
   "metadata": {},
   "source": [
    "For information on all available datasets, visit this url: https://scikit-learn.org/stable/datasets.html"
   ]
  },
  {
   "cell_type": "markdown",
   "metadata": {},
   "source": [
    "## Models\n",
    "\n",
    "Scikit-Learn has an extensive battery of Machine Learning models available, this being one of the great advantages of using this library.\n",
    "\n",
    "Another reason for its popularity is that it provides a general-purpose framework for all types of models. It basically consists of 6 steps:\n",
    "\n",
    "1. Import model that you want to use. \n",
    "\n",
    "      - See list of supervised models at: https://scikit-learn.org/stable/supervised_learning.html\n",
    "      - See list of unsupervised models at: https://scikit-learn.org/stable/unsupervised_learning.html\n",
    "      \n",
    "\n",
    "2. It matters metric to use. See list of available metrics at https://scikit-learn.org/stable/modules/classes.html#module-sklearn.metrics.\n",
    "\n",
    "3. Define model.\n",
    "\n",
    "4. Call the fit method to train the model.\n",
    "\n",
    "5. Call the predict method to generate the predictions.\n",
    "\n",
    "6. Calculate metric using the predictions obtained in the previous step.\n",
    "\n",
    "Let's see all these steps with a simple example"
   ]
  },
  {
   "cell_type": "markdown",
   "metadata": {},
   "source": [
    "### Example: KNN"
   ]
  },
  {
   "cell_type": "markdown",
   "metadata": {},
   "source": [
    "When using a k-nearest neighbors, KNN classification model, the prediction assigned to a point is the most common class among the k closest (or similar, according to some kind of similarity distance). If k = 1, then each sample is simply assigned the class of the closest instance.\n",
    "\n",
    "<img src=\"figures/knn.png\" width=\"50%\">\n",
    "\n",
    "Applied to regression, the operation is the same only that instead of the most common class, each instance will be assigned the mean of the target for the k closest neighbors."
   ]
  },
  {
   "cell_type": "markdown",
   "metadata": {},
   "source": [
    "Let's now train a KNN classification model for the iris dataset following the 6 steps above (**note**: we will not divide into train / validation / test set as this is a purely illustrative example):"
   ]
  },
  {
   "cell_type": "markdown",
   "metadata": {},
   "source": [
    "1) Import model."
   ]
  },
  {
   "cell_type": "code",
   "execution_count": 7,
   "metadata": {},
   "outputs": [],
   "source": [
    "from sklearn.neighbors import KNeighborsClassifier"
   ]
  },
  {
   "cell_type": "markdown",
   "metadata": {},
   "source": [
    "2) Import metric."
   ]
  },
  {
   "cell_type": "code",
   "execution_count": 8,
   "metadata": {},
   "outputs": [],
   "source": [
    "from sklearn.metrics import accuracy_score as metric"
   ]
  },
  {
   "cell_type": "markdown",
   "metadata": {},
   "source": [
    "3) Define model."
   ]
  },
  {
   "cell_type": "code",
   "execution_count": 13,
   "metadata": {},
   "outputs": [],
   "source": [
    "KNeighborsClassifier?"
   ]
  },
  {
   "cell_type": "code",
   "execution_count": 9,
   "metadata": {},
   "outputs": [],
   "source": [
    "model = KNeighborsClassifier(n_neighbors=1)"
   ]
  },
  {
   "cell_type": "markdown",
   "metadata": {},
   "source": [
    "4) Call fit method to train the model."
   ]
  },
  {
   "cell_type": "code",
   "execution_count": 14,
   "metadata": {},
   "outputs": [
    {
     "data": {
      "text/plain": [
       "KNeighborsClassifier(n_neighbors=1)"
      ]
     },
     "execution_count": 14,
     "metadata": {},
     "output_type": "execute_result"
    }
   ],
   "source": [
    "model.fit(dat, target)"
   ]
  },
  {
   "cell_type": "markdown",
   "metadata": {},
   "source": [
    "5) Call predict method to generate predictions."
   ]
  },
  {
   "cell_type": "code",
   "execution_count": 15,
   "metadata": {},
   "outputs": [
    {
     "data": {
      "text/plain": [
       "array([0, 0, 0, 0, 0])"
      ]
     },
     "execution_count": 15,
     "metadata": {},
     "output_type": "execute_result"
    }
   ],
   "source": [
    "pred = model.predict(dat)\n",
    "pred[0:5]"
   ]
  },
  {
   "cell_type": "markdown",
   "metadata": {},
   "source": [
    "6) Compute metric using predictions from the previous step."
   ]
  },
  {
   "cell_type": "code",
   "execution_count": 16,
   "metadata": {},
   "outputs": [
    {
     "data": {
      "text/plain": [
       "1.0"
      ]
     },
     "execution_count": 16,
     "metadata": {},
     "output_type": "execute_result"
    }
   ],
   "source": [
    "metric(target, pred)"
   ]
  },
  {
   "cell_type": "code",
   "execution_count": null,
   "metadata": {},
   "outputs": [],
   "source": []
  }
 ],
 "metadata": {
  "kernelspec": {
   "display_name": "Python 3",
   "language": "python",
   "name": "python3"
  },
  "language_info": {
   "codemirror_mode": {
    "name": "ipython",
    "version": 3
   },
   "file_extension": ".py",
   "mimetype": "text/x-python",
   "name": "python",
   "nbconvert_exporter": "python",
   "pygments_lexer": "ipython3",
   "version": "3.8.10"
  }
 },
 "nbformat": 4,
 "nbformat_minor": 2
}
