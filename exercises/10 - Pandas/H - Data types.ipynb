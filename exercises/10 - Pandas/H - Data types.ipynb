{
 "cells": [
  {
   "cell_type": "code",
   "execution_count": 1,
   "id": "a12f07a6",
   "metadata": {},
   "outputs": [
    {
     "data": {
      "application/javascript": [
       "\n",
       "            setTimeout(function() {\n",
       "                var nbb_cell_id = 1;\n",
       "                var nbb_unformatted_code = \"%load_ext nb_black\";\n",
       "                var nbb_formatted_code = \"%load_ext nb_black\";\n",
       "                var nbb_cells = Jupyter.notebook.get_cells();\n",
       "                for (var i = 0; i < nbb_cells.length; ++i) {\n",
       "                    if (nbb_cells[i].input_prompt_number == nbb_cell_id) {\n",
       "                        if (nbb_cells[i].get_text() == nbb_unformatted_code) {\n",
       "                             nbb_cells[i].set_text(nbb_formatted_code);\n",
       "                        }\n",
       "                        break;\n",
       "                    }\n",
       "                }\n",
       "            }, 500);\n",
       "            "
      ],
      "text/plain": [
       "<IPython.core.display.Javascript object>"
      ]
     },
     "metadata": {},
     "output_type": "display_data"
    }
   ],
   "source": [
    "%load_ext nb_black"
   ]
  },
  {
   "cell_type": "markdown",
   "id": "2d0c6a2c",
   "metadata": {},
   "source": [
    "# Data types"
   ]
  },
  {
   "cell_type": "markdown",
   "id": "9ffb56c6",
   "metadata": {},
   "source": [
    "## Setup"
   ]
  },
  {
   "cell_type": "code",
   "execution_count": 2,
   "id": "dcde636e",
   "metadata": {},
   "outputs": [
    {
     "data": {
      "application/javascript": [
       "\n",
       "            setTimeout(function() {\n",
       "                var nbb_cell_id = 2;\n",
       "                var nbb_unformatted_code = \"import pandas as pd\";\n",
       "                var nbb_formatted_code = \"import pandas as pd\";\n",
       "                var nbb_cells = Jupyter.notebook.get_cells();\n",
       "                for (var i = 0; i < nbb_cells.length; ++i) {\n",
       "                    if (nbb_cells[i].input_prompt_number == nbb_cell_id) {\n",
       "                        if (nbb_cells[i].get_text() == nbb_unformatted_code) {\n",
       "                             nbb_cells[i].set_text(nbb_formatted_code);\n",
       "                        }\n",
       "                        break;\n",
       "                    }\n",
       "                }\n",
       "            }, 500);\n",
       "            "
      ],
      "text/plain": [
       "<IPython.core.display.Javascript object>"
      ]
     },
     "metadata": {},
     "output_type": "display_data"
    }
   ],
   "source": [
    "import pandas as pd"
   ]
  },
  {
   "cell_type": "markdown",
   "id": "b88edb44",
   "metadata": {},
   "source": [
    "## Creation"
   ]
  },
  {
   "cell_type": "markdown",
   "id": "7e734456",
   "metadata": {},
   "source": [
    "Creation of an example DataFrame (starting from a dictionary of dictionaries):"
   ]
  },
  {
   "cell_type": "code",
   "execution_count": 59,
   "id": "ac2100e1",
   "metadata": {},
   "outputs": [
    {
     "data": {
      "application/javascript": [
       "\n",
       "            setTimeout(function() {\n",
       "                var nbb_cell_id = 59;\n",
       "                var nbb_unformatted_code = \"data = {\\n    \\\"Capital\\\": {\\n        \\\"Spain\\\": \\\"Madrid\\\",\\n        \\\"Belgium\\\": \\\"Brussels\\\",\\n        \\\"France\\\": \\\"Paris\\\",\\n        \\\"Italy\\\": \\\"Roma\\\",\\n        \\\"Germany\\\": \\\"Berlin\\\",\\n        \\\"Portugal\\\": \\\"Lisbon\\\",\\n        \\\"Norway\\\": \\\"Oslo\\\",\\n        \\\"Greece\\\": \\\"Athens\\\",\\n    },\\n    \\\"Population\\\": {\\n        \\\"Spain\\\": 46733038,\\n        \\\"Belgium\\\": 11449656,\\n        \\\"France\\\": 67076000,\\n        \\\"Italy\\\": 60390560,\\n        \\\"Germany\\\": 83122889,\\n        \\\"Portugal\\\": 10295909,\\n        \\\"Norway\\\": 5391369,\\n        \\\"Greece\\\": 10718565,\\n    },\\n    \\\"Monarch\\\": {\\n        \\\"Spain\\\": \\\"Felipe VI\\\",\\n        \\\"Belgium\\\": \\\"Philippe\\\",\\n        \\\"Norway\\\": \\\"Harald V\\\",\\n    },\\n    \\\"Area\\\": {\\n        \\\"Spain\\\": 505990,\\n        \\\"Belgium\\\": 30688,\\n        \\\"France\\\": 640679,\\n        \\\"Italy\\\": 301340,\\n        \\\"Germany\\\": None,\\n        \\\"Portugal\\\": 92212,\\n        \\\"Norway\\\": 385207,\\n        \\\"Greece\\\": 131957,\\n    },\\n    \\\"Currency\\\": {\\n        \\\"Spain\\\": \\\"EUR\\\",\\n        \\\"Belgium\\\": \\\"EUR\\\",\\n        \\\"France\\\": \\\"EUR\\\",\\n        \\\"Italy\\\": \\\"EUR\\\",\\n        \\\"Germany\\\": \\\"EUR\\\",\\n        \\\"Portugal\\\": None,\\n        \\\"Norway\\\": \\\"NOK\\\",\\n        \\\"Greece\\\": \\\"EUR\\\",\\n    },\\n    \\\"Formation\\\": {\\n        \\\"Spain\\\": \\\"1715-06-09\\\",\\n        \\\"Belgium\\\": \\\"1830-10-04\\\",\\n        \\\"France\\\": \\\"1792-09-22\\\",\\n        \\\"Italy\\\": None,\\n        \\\"Germany\\\": None,\\n        \\\"Portugal\\\": None,\\n        \\\"Norway\\\": None,\\n        \\\"Greece\\\": None,\\n    },\\n}\";\n",
       "                var nbb_formatted_code = \"data = {\\n    \\\"Capital\\\": {\\n        \\\"Spain\\\": \\\"Madrid\\\",\\n        \\\"Belgium\\\": \\\"Brussels\\\",\\n        \\\"France\\\": \\\"Paris\\\",\\n        \\\"Italy\\\": \\\"Roma\\\",\\n        \\\"Germany\\\": \\\"Berlin\\\",\\n        \\\"Portugal\\\": \\\"Lisbon\\\",\\n        \\\"Norway\\\": \\\"Oslo\\\",\\n        \\\"Greece\\\": \\\"Athens\\\",\\n    },\\n    \\\"Population\\\": {\\n        \\\"Spain\\\": 46733038,\\n        \\\"Belgium\\\": 11449656,\\n        \\\"France\\\": 67076000,\\n        \\\"Italy\\\": 60390560,\\n        \\\"Germany\\\": 83122889,\\n        \\\"Portugal\\\": 10295909,\\n        \\\"Norway\\\": 5391369,\\n        \\\"Greece\\\": 10718565,\\n    },\\n    \\\"Monarch\\\": {\\n        \\\"Spain\\\": \\\"Felipe VI\\\",\\n        \\\"Belgium\\\": \\\"Philippe\\\",\\n        \\\"Norway\\\": \\\"Harald V\\\",\\n    },\\n    \\\"Area\\\": {\\n        \\\"Spain\\\": 505990,\\n        \\\"Belgium\\\": 30688,\\n        \\\"France\\\": 640679,\\n        \\\"Italy\\\": 301340,\\n        \\\"Germany\\\": None,\\n        \\\"Portugal\\\": 92212,\\n        \\\"Norway\\\": 385207,\\n        \\\"Greece\\\": 131957,\\n    },\\n    \\\"Currency\\\": {\\n        \\\"Spain\\\": \\\"EUR\\\",\\n        \\\"Belgium\\\": \\\"EUR\\\",\\n        \\\"France\\\": \\\"EUR\\\",\\n        \\\"Italy\\\": \\\"EUR\\\",\\n        \\\"Germany\\\": \\\"EUR\\\",\\n        \\\"Portugal\\\": None,\\n        \\\"Norway\\\": \\\"NOK\\\",\\n        \\\"Greece\\\": \\\"EUR\\\",\\n    },\\n    \\\"Formation\\\": {\\n        \\\"Spain\\\": \\\"1715-06-09\\\",\\n        \\\"Belgium\\\": \\\"1830-10-04\\\",\\n        \\\"France\\\": \\\"1792-09-22\\\",\\n        \\\"Italy\\\": None,\\n        \\\"Germany\\\": None,\\n        \\\"Portugal\\\": None,\\n        \\\"Norway\\\": None,\\n        \\\"Greece\\\": None,\\n    },\\n}\";\n",
       "                var nbb_cells = Jupyter.notebook.get_cells();\n",
       "                for (var i = 0; i < nbb_cells.length; ++i) {\n",
       "                    if (nbb_cells[i].input_prompt_number == nbb_cell_id) {\n",
       "                        if (nbb_cells[i].get_text() == nbb_unformatted_code) {\n",
       "                             nbb_cells[i].set_text(nbb_formatted_code);\n",
       "                        }\n",
       "                        break;\n",
       "                    }\n",
       "                }\n",
       "            }, 500);\n",
       "            "
      ],
      "text/plain": [
       "<IPython.core.display.Javascript object>"
      ]
     },
     "metadata": {},
     "output_type": "display_data"
    }
   ],
   "source": [
    "data = {\n",
    "    \"Capital\": {\n",
    "        \"Spain\": \"Madrid\",\n",
    "        \"Belgium\": \"Brussels\",\n",
    "        \"France\": \"Paris\",\n",
    "        \"Italy\": \"Roma\",\n",
    "        \"Germany\": \"Berlin\",\n",
    "        \"Portugal\": \"Lisbon\",\n",
    "        \"Norway\": \"Oslo\",\n",
    "        \"Greece\": \"Athens\",\n",
    "    },\n",
    "    \"Population\": {\n",
    "        \"Spain\": 46733038,\n",
    "        \"Belgium\": 11449656,\n",
    "        \"France\": 67076000,\n",
    "        \"Italy\": 60390560,\n",
    "        \"Germany\": 83122889,\n",
    "        \"Portugal\": 10295909,\n",
    "        \"Norway\": 5391369,\n",
    "        \"Greece\": 10718565,\n",
    "    },\n",
    "    \"Monarch\": {\n",
    "        \"Spain\": \"Felipe VI\",\n",
    "        \"Belgium\": \"Philippe\",\n",
    "        \"Norway\": \"Harald V\",\n",
    "    },\n",
    "    \"Area\": {\n",
    "        \"Spain\": 505990,\n",
    "        \"Belgium\": 30688,\n",
    "        \"France\": 640679,\n",
    "        \"Italy\": 301340,\n",
    "        \"Germany\": None,\n",
    "        \"Portugal\": 92212,\n",
    "        \"Norway\": 385207,\n",
    "        \"Greece\": 131957,\n",
    "    },\n",
    "    \"Currency\": {\n",
    "        \"Spain\": \"EUR\",\n",
    "        \"Belgium\": \"EUR\",\n",
    "        \"France\": \"EUR\",\n",
    "        \"Italy\": \"EUR\",\n",
    "        \"Germany\": \"EUR\",\n",
    "        \"Portugal\": None,\n",
    "        \"Norway\": \"NOK\",\n",
    "        \"Greece\": \"EUR\",\n",
    "    },\n",
    "    \"Formation\": {\n",
    "        \"Spain\": \"1715-06-09\",\n",
    "        \"Belgium\": \"1830-10-04\",\n",
    "        \"France\": \"1792-09-22\",\n",
    "        \"Italy\": None,\n",
    "        \"Germany\": None,\n",
    "        \"Portugal\": None,\n",
    "        \"Norway\": None,\n",
    "        \"Greece\": None,\n",
    "    },\n",
    "}"
   ]
  },
  {
   "cell_type": "code",
   "execution_count": 60,
   "id": "c3378ec1",
   "metadata": {},
   "outputs": [
    {
     "data": {
      "application/javascript": [
       "\n",
       "            setTimeout(function() {\n",
       "                var nbb_cell_id = 60;\n",
       "                var nbb_unformatted_code = \"# For now, let's forget about these steps:\\ndf = pd.DataFrame(data)\";\n",
       "                var nbb_formatted_code = \"# For now, let's forget about these steps:\\ndf = pd.DataFrame(data)\";\n",
       "                var nbb_cells = Jupyter.notebook.get_cells();\n",
       "                for (var i = 0; i < nbb_cells.length; ++i) {\n",
       "                    if (nbb_cells[i].input_prompt_number == nbb_cell_id) {\n",
       "                        if (nbb_cells[i].get_text() == nbb_unformatted_code) {\n",
       "                             nbb_cells[i].set_text(nbb_formatted_code);\n",
       "                        }\n",
       "                        break;\n",
       "                    }\n",
       "                }\n",
       "            }, 500);\n",
       "            "
      ],
      "text/plain": [
       "<IPython.core.display.Javascript object>"
      ]
     },
     "metadata": {},
     "output_type": "display_data"
    }
   ],
   "source": [
    "# For now, let's forget about these steps:\n",
    "df = pd.DataFrame(data)"
   ]
  },
  {
   "cell_type": "markdown",
   "id": "3d1d7525",
   "metadata": {},
   "source": [
    "Apple stock data, taken from the [`matplotlib` sample datasets](https://github.com/matplotlib/sample_data/blob/master/aapl.csv)"
   ]
  },
  {
   "cell_type": "code",
   "execution_count": 39,
   "id": "703fea57",
   "metadata": {},
   "outputs": [
    {
     "data": {
      "application/javascript": [
       "\n",
       "            setTimeout(function() {\n",
       "                var nbb_cell_id = 39;\n",
       "                var nbb_unformatted_code = \"# For now, let's forget about these steps:\\napple = pd.read_csv(\\\"AAPL.csv\\\")\\n# apple[\\\"Date\\\"] = apple[\\\"Date\\\"].astype(\\\"datetime64[ns]\\\")\\n# apple = apple.set_index(\\\"Date\\\")\\n# apple = apple.sort_index()\";\n",
       "                var nbb_formatted_code = \"# For now, let's forget about these steps:\\napple = pd.read_csv(\\\"AAPL.csv\\\")\\n# apple[\\\"Date\\\"] = apple[\\\"Date\\\"].astype(\\\"datetime64[ns]\\\")\\n# apple = apple.set_index(\\\"Date\\\")\\n# apple = apple.sort_index()\";\n",
       "                var nbb_cells = Jupyter.notebook.get_cells();\n",
       "                for (var i = 0; i < nbb_cells.length; ++i) {\n",
       "                    if (nbb_cells[i].input_prompt_number == nbb_cell_id) {\n",
       "                        if (nbb_cells[i].get_text() == nbb_unformatted_code) {\n",
       "                             nbb_cells[i].set_text(nbb_formatted_code);\n",
       "                        }\n",
       "                        break;\n",
       "                    }\n",
       "                }\n",
       "            }, 500);\n",
       "            "
      ],
      "text/plain": [
       "<IPython.core.display.Javascript object>"
      ]
     },
     "metadata": {},
     "output_type": "display_data"
    }
   ],
   "source": [
    "# For now, let's forget about these steps:\n",
    "apple = pd.read_csv(\"AAPL.csv\")\n",
    "# apple[\"Date\"] = apple[\"Date\"].astype(\"datetime64[ns]\")\n",
    "# apple = apple.set_index(\"Date\")\n",
    "# apple = apple.sort_index()"
   ]
  },
  {
   "cell_type": "markdown",
   "id": "f5687ed0",
   "metadata": {},
   "source": [
    "## Demo 1: Check the memory usage"
   ]
  },
  {
   "cell_type": "code",
   "execution_count": 6,
   "id": "d33cf2a1",
   "metadata": {},
   "outputs": [
    {
     "data": {
      "text/html": [
       "<div>\n",
       "<style scoped>\n",
       "    .dataframe tbody tr th:only-of-type {\n",
       "        vertical-align: middle;\n",
       "    }\n",
       "\n",
       "    .dataframe tbody tr th {\n",
       "        vertical-align: top;\n",
       "    }\n",
       "\n",
       "    .dataframe thead th {\n",
       "        text-align: right;\n",
       "    }\n",
       "</style>\n",
       "<table border=\"1\" class=\"dataframe\">\n",
       "  <thead>\n",
       "    <tr style=\"text-align: right;\">\n",
       "      <th></th>\n",
       "      <th>Capital</th>\n",
       "      <th>Population</th>\n",
       "      <th>Monarch</th>\n",
       "      <th>Area</th>\n",
       "      <th>Currency</th>\n",
       "      <th>Formation</th>\n",
       "    </tr>\n",
       "  </thead>\n",
       "  <tbody>\n",
       "    <tr>\n",
       "      <th>Spain</th>\n",
       "      <td>Madrid</td>\n",
       "      <td>46733038</td>\n",
       "      <td>Felipe VI</td>\n",
       "      <td>505990.0</td>\n",
       "      <td>EUR</td>\n",
       "      <td>1715-06-09</td>\n",
       "    </tr>\n",
       "    <tr>\n",
       "      <th>Belgium</th>\n",
       "      <td>Brussels</td>\n",
       "      <td>11449656</td>\n",
       "      <td>Philippe</td>\n",
       "      <td>30688.0</td>\n",
       "      <td>EUR</td>\n",
       "      <td>1830-10-04</td>\n",
       "    </tr>\n",
       "    <tr>\n",
       "      <th>France</th>\n",
       "      <td>Paris</td>\n",
       "      <td>67076000</td>\n",
       "      <td>NaN</td>\n",
       "      <td>640679.0</td>\n",
       "      <td>EUR</td>\n",
       "      <td>1792-09-22</td>\n",
       "    </tr>\n",
       "    <tr>\n",
       "      <th>Italy</th>\n",
       "      <td>Roma</td>\n",
       "      <td>60390560</td>\n",
       "      <td>NaN</td>\n",
       "      <td>301340.0</td>\n",
       "      <td>EUR</td>\n",
       "      <td>None</td>\n",
       "    </tr>\n",
       "    <tr>\n",
       "      <th>Germany</th>\n",
       "      <td>Berlin</td>\n",
       "      <td>83122889</td>\n",
       "      <td>NaN</td>\n",
       "      <td>NaN</td>\n",
       "      <td>EUR</td>\n",
       "      <td>None</td>\n",
       "    </tr>\n",
       "    <tr>\n",
       "      <th>Portugal</th>\n",
       "      <td>Lisbon</td>\n",
       "      <td>10295909</td>\n",
       "      <td>NaN</td>\n",
       "      <td>92212.0</td>\n",
       "      <td>None</td>\n",
       "      <td>None</td>\n",
       "    </tr>\n",
       "    <tr>\n",
       "      <th>Norway</th>\n",
       "      <td>Oslo</td>\n",
       "      <td>5391369</td>\n",
       "      <td>Harald V</td>\n",
       "      <td>385207.0</td>\n",
       "      <td>NOK</td>\n",
       "      <td>None</td>\n",
       "    </tr>\n",
       "    <tr>\n",
       "      <th>Greece</th>\n",
       "      <td>Athens</td>\n",
       "      <td>10718565</td>\n",
       "      <td>NaN</td>\n",
       "      <td>131957.0</td>\n",
       "      <td>EUR</td>\n",
       "      <td>None</td>\n",
       "    </tr>\n",
       "  </tbody>\n",
       "</table>\n",
       "</div>"
      ],
      "text/plain": [
       "           Capital  Population    Monarch      Area Currency   Formation\n",
       "Spain       Madrid    46733038  Felipe VI  505990.0      EUR  1715-06-09\n",
       "Belgium   Brussels    11449656   Philippe   30688.0      EUR  1830-10-04\n",
       "France       Paris    67076000        NaN  640679.0      EUR  1792-09-22\n",
       "Italy         Roma    60390560        NaN  301340.0      EUR        None\n",
       "Germany     Berlin    83122889        NaN       NaN      EUR        None\n",
       "Portugal    Lisbon    10295909        NaN   92212.0     None        None\n",
       "Norway        Oslo     5391369   Harald V  385207.0      NOK        None\n",
       "Greece      Athens    10718565        NaN  131957.0      EUR        None"
      ]
     },
     "execution_count": 6,
     "metadata": {},
     "output_type": "execute_result"
    },
    {
     "data": {
      "application/javascript": [
       "\n",
       "            setTimeout(function() {\n",
       "                var nbb_cell_id = 6;\n",
       "                var nbb_unformatted_code = \"df\";\n",
       "                var nbb_formatted_code = \"df\";\n",
       "                var nbb_cells = Jupyter.notebook.get_cells();\n",
       "                for (var i = 0; i < nbb_cells.length; ++i) {\n",
       "                    if (nbb_cells[i].input_prompt_number == nbb_cell_id) {\n",
       "                        if (nbb_cells[i].get_text() == nbb_unformatted_code) {\n",
       "                             nbb_cells[i].set_text(nbb_formatted_code);\n",
       "                        }\n",
       "                        break;\n",
       "                    }\n",
       "                }\n",
       "            }, 500);\n",
       "            "
      ],
      "text/plain": [
       "<IPython.core.display.Javascript object>"
      ]
     },
     "metadata": {},
     "output_type": "display_data"
    }
   ],
   "source": [
    "df"
   ]
  },
  {
   "cell_type": "markdown",
   "id": "399ebd20",
   "metadata": {},
   "source": [
    "Check the memory usage of a DataFrame:"
   ]
  },
  {
   "cell_type": "code",
   "execution_count": 7,
   "id": "92b354b3",
   "metadata": {},
   "outputs": [
    {
     "name": "stdout",
     "output_type": "stream",
     "text": [
      "Memory used: 2.2 kB\n"
     ]
    },
    {
     "data": {
      "application/javascript": [
       "\n",
       "            setTimeout(function() {\n",
       "                var nbb_cell_id = 7;\n",
       "                var nbb_unformatted_code = \"memory_kb = df.memory_usage(deep=True).sum() / (1024 ** 1)\\nprint(f\\\"Memory used: {memory_kb:.1f} kB\\\")\";\n",
       "                var nbb_formatted_code = \"memory_kb = df.memory_usage(deep=True).sum() / (1024 ** 1)\\nprint(f\\\"Memory used: {memory_kb:.1f} kB\\\")\";\n",
       "                var nbb_cells = Jupyter.notebook.get_cells();\n",
       "                for (var i = 0; i < nbb_cells.length; ++i) {\n",
       "                    if (nbb_cells[i].input_prompt_number == nbb_cell_id) {\n",
       "                        if (nbb_cells[i].get_text() == nbb_unformatted_code) {\n",
       "                             nbb_cells[i].set_text(nbb_formatted_code);\n",
       "                        }\n",
       "                        break;\n",
       "                    }\n",
       "                }\n",
       "            }, 500);\n",
       "            "
      ],
      "text/plain": [
       "<IPython.core.display.Javascript object>"
      ]
     },
     "metadata": {},
     "output_type": "display_data"
    }
   ],
   "source": [
    "memory_kb = df.memory_usage(deep=True).sum() / (1024 ** 1)\n",
    "print(f\"Memory used: {memory_kb:.1f} kB\")"
   ]
  },
  {
   "cell_type": "code",
   "execution_count": 8,
   "id": "b3c5c2d9",
   "metadata": {},
   "outputs": [
    {
     "name": "stdout",
     "output_type": "stream",
     "text": [
      "Memory used: 0.0 MB\n"
     ]
    },
    {
     "data": {
      "application/javascript": [
       "\n",
       "            setTimeout(function() {\n",
       "                var nbb_cell_id = 8;\n",
       "                var nbb_unformatted_code = \"memory_mb = df.memory_usage(deep=True).sum() / (1024 ** 2)\\nprint(f\\\"Memory used: {memory_mb:.1f} MB\\\")\";\n",
       "                var nbb_formatted_code = \"memory_mb = df.memory_usage(deep=True).sum() / (1024 ** 2)\\nprint(f\\\"Memory used: {memory_mb:.1f} MB\\\")\";\n",
       "                var nbb_cells = Jupyter.notebook.get_cells();\n",
       "                for (var i = 0; i < nbb_cells.length; ++i) {\n",
       "                    if (nbb_cells[i].input_prompt_number == nbb_cell_id) {\n",
       "                        if (nbb_cells[i].get_text() == nbb_unformatted_code) {\n",
       "                             nbb_cells[i].set_text(nbb_formatted_code);\n",
       "                        }\n",
       "                        break;\n",
       "                    }\n",
       "                }\n",
       "            }, 500);\n",
       "            "
      ],
      "text/plain": [
       "<IPython.core.display.Javascript object>"
      ]
     },
     "metadata": {},
     "output_type": "display_data"
    }
   ],
   "source": [
    "memory_mb = df.memory_usage(deep=True).sum() / (1024 ** 2)\n",
    "print(f\"Memory used: {memory_mb:.1f} MB\")"
   ]
  },
  {
   "cell_type": "markdown",
   "id": "4a912830",
   "metadata": {},
   "source": [
    "<div class=\"alert alert-info\">\n",
    "\n",
    "<b>Note:</b> The memory usage should be <b>at most 10% of the available RAM</b> for <code>pandas</code> to remain fast.\n",
    "\n",
    "</div>"
   ]
  },
  {
   "cell_type": "markdown",
   "id": "23fc7d10",
   "metadata": {},
   "source": [
    "## Exercise 1"
   ]
  },
  {
   "cell_type": "code",
   "execution_count": 9,
   "id": "906b4304",
   "metadata": {
    "tags": [
     "no-replacement"
    ]
   },
   "outputs": [
    {
     "data": {
      "text/html": [
       "<div>\n",
       "<style scoped>\n",
       "    .dataframe tbody tr th:only-of-type {\n",
       "        vertical-align: middle;\n",
       "    }\n",
       "\n",
       "    .dataframe tbody tr th {\n",
       "        vertical-align: top;\n",
       "    }\n",
       "\n",
       "    .dataframe thead th {\n",
       "        text-align: right;\n",
       "    }\n",
       "</style>\n",
       "<table border=\"1\" class=\"dataframe\">\n",
       "  <thead>\n",
       "    <tr style=\"text-align: right;\">\n",
       "      <th></th>\n",
       "      <th>Date</th>\n",
       "      <th>Open</th>\n",
       "      <th>High</th>\n",
       "      <th>Low</th>\n",
       "      <th>Close</th>\n",
       "      <th>Volume</th>\n",
       "      <th>Adj Close</th>\n",
       "    </tr>\n",
       "  </thead>\n",
       "  <tbody>\n",
       "    <tr>\n",
       "      <th>0</th>\n",
       "      <td>2008-10-14</td>\n",
       "      <td>116.26</td>\n",
       "      <td>116.40</td>\n",
       "      <td>103.14</td>\n",
       "      <td>104.08</td>\n",
       "      <td>70749800</td>\n",
       "      <td>104.08</td>\n",
       "    </tr>\n",
       "    <tr>\n",
       "      <th>1</th>\n",
       "      <td>2008-10-13</td>\n",
       "      <td>104.55</td>\n",
       "      <td>110.53</td>\n",
       "      <td>101.02</td>\n",
       "      <td>110.26</td>\n",
       "      <td>54967000</td>\n",
       "      <td>110.26</td>\n",
       "    </tr>\n",
       "    <tr>\n",
       "      <th>2</th>\n",
       "      <td>2008-10-10</td>\n",
       "      <td>85.70</td>\n",
       "      <td>100.00</td>\n",
       "      <td>85.00</td>\n",
       "      <td>96.80</td>\n",
       "      <td>79260700</td>\n",
       "      <td>96.80</td>\n",
       "    </tr>\n",
       "    <tr>\n",
       "      <th>3</th>\n",
       "      <td>2008-10-09</td>\n",
       "      <td>93.35</td>\n",
       "      <td>95.80</td>\n",
       "      <td>86.60</td>\n",
       "      <td>88.74</td>\n",
       "      <td>57763700</td>\n",
       "      <td>88.74</td>\n",
       "    </tr>\n",
       "    <tr>\n",
       "      <th>4</th>\n",
       "      <td>2008-10-08</td>\n",
       "      <td>85.91</td>\n",
       "      <td>96.33</td>\n",
       "      <td>85.68</td>\n",
       "      <td>89.79</td>\n",
       "      <td>78847900</td>\n",
       "      <td>89.79</td>\n",
       "    </tr>\n",
       "  </tbody>\n",
       "</table>\n",
       "</div>"
      ],
      "text/plain": [
       "         Date    Open    High     Low   Close    Volume  Adj Close\n",
       "0  2008-10-14  116.26  116.40  103.14  104.08  70749800     104.08\n",
       "1  2008-10-13  104.55  110.53  101.02  110.26  54967000     110.26\n",
       "2  2008-10-10   85.70  100.00   85.00   96.80  79260700      96.80\n",
       "3  2008-10-09   93.35   95.80   86.60   88.74  57763700      88.74\n",
       "4  2008-10-08   85.91   96.33   85.68   89.79  78847900      89.79"
      ]
     },
     "execution_count": 9,
     "metadata": {},
     "output_type": "execute_result"
    },
    {
     "data": {
      "application/javascript": [
       "\n",
       "            setTimeout(function() {\n",
       "                var nbb_cell_id = 9;\n",
       "                var nbb_unformatted_code = \"apple.head()\";\n",
       "                var nbb_formatted_code = \"apple.head()\";\n",
       "                var nbb_cells = Jupyter.notebook.get_cells();\n",
       "                for (var i = 0; i < nbb_cells.length; ++i) {\n",
       "                    if (nbb_cells[i].input_prompt_number == nbb_cell_id) {\n",
       "                        if (nbb_cells[i].get_text() == nbb_unformatted_code) {\n",
       "                             nbb_cells[i].set_text(nbb_formatted_code);\n",
       "                        }\n",
       "                        break;\n",
       "                    }\n",
       "                }\n",
       "            }, 500);\n",
       "            "
      ],
      "text/plain": [
       "<IPython.core.display.Javascript object>"
      ]
     },
     "metadata": {},
     "output_type": "display_data"
    }
   ],
   "source": [
    "apple.head()"
   ]
  },
  {
   "cell_type": "markdown",
   "id": "946d3181",
   "metadata": {},
   "source": [
    "Check the memory usage of a DataFrame:"
   ]
  },
  {
   "cell_type": "code",
   "execution_count": 40,
   "id": "3c472f6b",
   "metadata": {},
   "outputs": [
    {
     "name": "stdout",
     "output_type": "stream",
     "text": [
      "Memory used: 683.0 kB\n",
      "Memory used: 0.7 MB\n"
     ]
    },
    {
     "data": {
      "application/javascript": [
       "\n",
       "            setTimeout(function() {\n",
       "                var nbb_cell_id = 40;\n",
       "                var nbb_unformatted_code = \"memory_kb = apple.memory_usage(deep=True).sum() / (1024 ** 1)\\nprint(f\\\"Memory used: {memory_kb:.1f} kB\\\")\\nmemory_mb = apple.memory_usage(deep=True).sum() / (1024 ** 2)\\nprint(f\\\"Memory used: {memory_mb:.1f} MB\\\")\";\n",
       "                var nbb_formatted_code = \"memory_kb = apple.memory_usage(deep=True).sum() / (1024 ** 1)\\nprint(f\\\"Memory used: {memory_kb:.1f} kB\\\")\\nmemory_mb = apple.memory_usage(deep=True).sum() / (1024 ** 2)\\nprint(f\\\"Memory used: {memory_mb:.1f} MB\\\")\";\n",
       "                var nbb_cells = Jupyter.notebook.get_cells();\n",
       "                for (var i = 0; i < nbb_cells.length; ++i) {\n",
       "                    if (nbb_cells[i].input_prompt_number == nbb_cell_id) {\n",
       "                        if (nbb_cells[i].get_text() == nbb_unformatted_code) {\n",
       "                             nbb_cells[i].set_text(nbb_formatted_code);\n",
       "                        }\n",
       "                        break;\n",
       "                    }\n",
       "                }\n",
       "            }, 500);\n",
       "            "
      ],
      "text/plain": [
       "<IPython.core.display.Javascript object>"
      ]
     },
     "metadata": {},
     "output_type": "display_data"
    }
   ],
   "source": [
    "memory_kb = apple.memory_usage(deep=True).sum() / (1024 ** 1)\n",
    "print(f\"Memory used: {memory_kb:.1f} kB\")\n",
    "memory_mb = apple.memory_usage(deep=True).sum() / (1024 ** 2)\n",
    "print(f\"Memory used: {memory_mb:.1f} MB\")"
   ]
  },
  {
   "cell_type": "markdown",
   "id": "482f7257",
   "metadata": {},
   "source": [
    "## Demo 2: Change the data type of a column"
   ]
  },
  {
   "cell_type": "code",
   "execution_count": 12,
   "id": "a6ed8854",
   "metadata": {},
   "outputs": [
    {
     "data": {
      "text/html": [
       "<div>\n",
       "<style scoped>\n",
       "    .dataframe tbody tr th:only-of-type {\n",
       "        vertical-align: middle;\n",
       "    }\n",
       "\n",
       "    .dataframe tbody tr th {\n",
       "        vertical-align: top;\n",
       "    }\n",
       "\n",
       "    .dataframe thead th {\n",
       "        text-align: right;\n",
       "    }\n",
       "</style>\n",
       "<table border=\"1\" class=\"dataframe\">\n",
       "  <thead>\n",
       "    <tr style=\"text-align: right;\">\n",
       "      <th></th>\n",
       "      <th>Capital</th>\n",
       "      <th>Population</th>\n",
       "      <th>Monarch</th>\n",
       "      <th>Area</th>\n",
       "      <th>Currency</th>\n",
       "      <th>Formation</th>\n",
       "    </tr>\n",
       "  </thead>\n",
       "  <tbody>\n",
       "    <tr>\n",
       "      <th>Spain</th>\n",
       "      <td>Madrid</td>\n",
       "      <td>46733038</td>\n",
       "      <td>Felipe VI</td>\n",
       "      <td>505990.0</td>\n",
       "      <td>EUR</td>\n",
       "      <td>1715-06-09</td>\n",
       "    </tr>\n",
       "    <tr>\n",
       "      <th>Belgium</th>\n",
       "      <td>Brussels</td>\n",
       "      <td>11449656</td>\n",
       "      <td>Philippe</td>\n",
       "      <td>30688.0</td>\n",
       "      <td>EUR</td>\n",
       "      <td>1830-10-04</td>\n",
       "    </tr>\n",
       "    <tr>\n",
       "      <th>France</th>\n",
       "      <td>Paris</td>\n",
       "      <td>67076000</td>\n",
       "      <td>NaN</td>\n",
       "      <td>640679.0</td>\n",
       "      <td>EUR</td>\n",
       "      <td>1792-09-22</td>\n",
       "    </tr>\n",
       "    <tr>\n",
       "      <th>Italy</th>\n",
       "      <td>Roma</td>\n",
       "      <td>60390560</td>\n",
       "      <td>NaN</td>\n",
       "      <td>301340.0</td>\n",
       "      <td>EUR</td>\n",
       "      <td>None</td>\n",
       "    </tr>\n",
       "    <tr>\n",
       "      <th>Germany</th>\n",
       "      <td>Berlin</td>\n",
       "      <td>83122889</td>\n",
       "      <td>NaN</td>\n",
       "      <td>NaN</td>\n",
       "      <td>EUR</td>\n",
       "      <td>None</td>\n",
       "    </tr>\n",
       "    <tr>\n",
       "      <th>Portugal</th>\n",
       "      <td>Lisbon</td>\n",
       "      <td>10295909</td>\n",
       "      <td>NaN</td>\n",
       "      <td>92212.0</td>\n",
       "      <td>None</td>\n",
       "      <td>None</td>\n",
       "    </tr>\n",
       "    <tr>\n",
       "      <th>Norway</th>\n",
       "      <td>Oslo</td>\n",
       "      <td>5391369</td>\n",
       "      <td>Harald V</td>\n",
       "      <td>385207.0</td>\n",
       "      <td>NOK</td>\n",
       "      <td>None</td>\n",
       "    </tr>\n",
       "    <tr>\n",
       "      <th>Greece</th>\n",
       "      <td>Athens</td>\n",
       "      <td>10718565</td>\n",
       "      <td>NaN</td>\n",
       "      <td>131957.0</td>\n",
       "      <td>EUR</td>\n",
       "      <td>None</td>\n",
       "    </tr>\n",
       "  </tbody>\n",
       "</table>\n",
       "</div>"
      ],
      "text/plain": [
       "           Capital  Population    Monarch      Area Currency   Formation\n",
       "Spain       Madrid    46733038  Felipe VI  505990.0      EUR  1715-06-09\n",
       "Belgium   Brussels    11449656   Philippe   30688.0      EUR  1830-10-04\n",
       "France       Paris    67076000        NaN  640679.0      EUR  1792-09-22\n",
       "Italy         Roma    60390560        NaN  301340.0      EUR        None\n",
       "Germany     Berlin    83122889        NaN       NaN      EUR        None\n",
       "Portugal    Lisbon    10295909        NaN   92212.0     None        None\n",
       "Norway        Oslo     5391369   Harald V  385207.0      NOK        None\n",
       "Greece      Athens    10718565        NaN  131957.0      EUR        None"
      ]
     },
     "execution_count": 12,
     "metadata": {},
     "output_type": "execute_result"
    },
    {
     "data": {
      "application/javascript": [
       "\n",
       "            setTimeout(function() {\n",
       "                var nbb_cell_id = 12;\n",
       "                var nbb_unformatted_code = \"df\";\n",
       "                var nbb_formatted_code = \"df\";\n",
       "                var nbb_cells = Jupyter.notebook.get_cells();\n",
       "                for (var i = 0; i < nbb_cells.length; ++i) {\n",
       "                    if (nbb_cells[i].input_prompt_number == nbb_cell_id) {\n",
       "                        if (nbb_cells[i].get_text() == nbb_unformatted_code) {\n",
       "                             nbb_cells[i].set_text(nbb_formatted_code);\n",
       "                        }\n",
       "                        break;\n",
       "                    }\n",
       "                }\n",
       "            }, 500);\n",
       "            "
      ],
      "text/plain": [
       "<IPython.core.display.Javascript object>"
      ]
     },
     "metadata": {},
     "output_type": "display_data"
    }
   ],
   "source": [
    "df"
   ]
  },
  {
   "cell_type": "markdown",
   "id": "75760df5",
   "metadata": {},
   "source": [
    "Add a new \"Density\" column:"
   ]
  },
  {
   "cell_type": "code",
   "execution_count": 13,
   "id": "f8c93174",
   "metadata": {},
   "outputs": [
    {
     "data": {
      "application/javascript": [
       "\n",
       "            setTimeout(function() {\n",
       "                var nbb_cell_id = 13;\n",
       "                var nbb_unformatted_code = \"df[\\\"Density\\\"] = df[\\\"Population\\\"] / df[\\\"Area\\\"]\";\n",
       "                var nbb_formatted_code = \"df[\\\"Density\\\"] = df[\\\"Population\\\"] / df[\\\"Area\\\"]\";\n",
       "                var nbb_cells = Jupyter.notebook.get_cells();\n",
       "                for (var i = 0; i < nbb_cells.length; ++i) {\n",
       "                    if (nbb_cells[i].input_prompt_number == nbb_cell_id) {\n",
       "                        if (nbb_cells[i].get_text() == nbb_unformatted_code) {\n",
       "                             nbb_cells[i].set_text(nbb_formatted_code);\n",
       "                        }\n",
       "                        break;\n",
       "                    }\n",
       "                }\n",
       "            }, 500);\n",
       "            "
      ],
      "text/plain": [
       "<IPython.core.display.Javascript object>"
      ]
     },
     "metadata": {},
     "output_type": "display_data"
    }
   ],
   "source": [
    "df[\"Density\"] = df[\"Population\"] / df[\"Area\"]"
   ]
  },
  {
   "cell_type": "markdown",
   "id": "3751b74f",
   "metadata": {},
   "source": [
    "Check the data types:"
   ]
  },
  {
   "cell_type": "code",
   "execution_count": 14,
   "id": "573ced7e",
   "metadata": {},
   "outputs": [
    {
     "data": {
      "text/plain": [
       "Capital        object\n",
       "Population      int64\n",
       "Monarch        object\n",
       "Area          float64\n",
       "Currency       object\n",
       "Formation      object\n",
       "Density       float64\n",
       "dtype: object"
      ]
     },
     "execution_count": 14,
     "metadata": {},
     "output_type": "execute_result"
    },
    {
     "data": {
      "application/javascript": [
       "\n",
       "            setTimeout(function() {\n",
       "                var nbb_cell_id = 14;\n",
       "                var nbb_unformatted_code = \"df.dtypes\";\n",
       "                var nbb_formatted_code = \"df.dtypes\";\n",
       "                var nbb_cells = Jupyter.notebook.get_cells();\n",
       "                for (var i = 0; i < nbb_cells.length; ++i) {\n",
       "                    if (nbb_cells[i].input_prompt_number == nbb_cell_id) {\n",
       "                        if (nbb_cells[i].get_text() == nbb_unformatted_code) {\n",
       "                             nbb_cells[i].set_text(nbb_formatted_code);\n",
       "                        }\n",
       "                        break;\n",
       "                    }\n",
       "                }\n",
       "            }, 500);\n",
       "            "
      ],
      "text/plain": [
       "<IPython.core.display.Javascript object>"
      ]
     },
     "metadata": {},
     "output_type": "display_data"
    }
   ],
   "source": [
    "df.dtypes"
   ]
  },
  {
   "cell_type": "markdown",
   "id": "587ec39b",
   "metadata": {},
   "source": [
    "<div class=\"alert alert-info\">\n",
    "\n",
    "<b>Note:</b> If there are missing values in a column of integers, <code>pandas</code> defaults to using floats (which support <code>NaN</code>, used for missing values).\n",
    "\n",
    "</div>"
   ]
  },
  {
   "cell_type": "markdown",
   "id": "6fbc5e40",
   "metadata": {},
   "source": [
    "<div class=\"alert alert-success\">\n",
    "\n",
    "<b>Best Practice:</b> Always use integers over floats whenever possible.\n",
    "\n",
    "</div>"
   ]
  },
  {
   "cell_type": "markdown",
   "id": "02450342",
   "metadata": {},
   "source": [
    "Change the data type of a column:"
   ]
  },
  {
   "cell_type": "code",
   "execution_count": 15,
   "id": "bf432f38",
   "metadata": {},
   "outputs": [
    {
     "data": {
      "text/plain": [
       "Spain       505990.0\n",
       "Belgium      30688.0\n",
       "France      640679.0\n",
       "Italy       301340.0\n",
       "Germany          NaN\n",
       "Portugal     92212.0\n",
       "Norway      385207.0\n",
       "Greece      131957.0\n",
       "Name: Area, dtype: float64"
      ]
     },
     "execution_count": 15,
     "metadata": {},
     "output_type": "execute_result"
    },
    {
     "data": {
      "application/javascript": [
       "\n",
       "            setTimeout(function() {\n",
       "                var nbb_cell_id = 15;\n",
       "                var nbb_unformatted_code = \"df[\\\"Area\\\"]\";\n",
       "                var nbb_formatted_code = \"df[\\\"Area\\\"]\";\n",
       "                var nbb_cells = Jupyter.notebook.get_cells();\n",
       "                for (var i = 0; i < nbb_cells.length; ++i) {\n",
       "                    if (nbb_cells[i].input_prompt_number == nbb_cell_id) {\n",
       "                        if (nbb_cells[i].get_text() == nbb_unformatted_code) {\n",
       "                             nbb_cells[i].set_text(nbb_formatted_code);\n",
       "                        }\n",
       "                        break;\n",
       "                    }\n",
       "                }\n",
       "            }, 500);\n",
       "            "
      ],
      "text/plain": [
       "<IPython.core.display.Javascript object>"
      ]
     },
     "metadata": {},
     "output_type": "display_data"
    }
   ],
   "source": [
    "df[\"Area\"]"
   ]
  },
  {
   "cell_type": "code",
   "execution_count": 16,
   "id": "f82567da",
   "metadata": {},
   "outputs": [
    {
     "data": {
      "text/plain": [
       "Spain       505990\n",
       "Belgium      30688\n",
       "France      640679\n",
       "Italy       301340\n",
       "Germany       <NA>\n",
       "Portugal     92212\n",
       "Norway      385207\n",
       "Greece      131957\n",
       "Name: Area, dtype: Int64"
      ]
     },
     "execution_count": 16,
     "metadata": {},
     "output_type": "execute_result"
    },
    {
     "data": {
      "application/javascript": [
       "\n",
       "            setTimeout(function() {\n",
       "                var nbb_cell_id = 16;\n",
       "                var nbb_unformatted_code = \"df[\\\"Area\\\"].astype(\\\"Int64\\\")\";\n",
       "                var nbb_formatted_code = \"df[\\\"Area\\\"].astype(\\\"Int64\\\")\";\n",
       "                var nbb_cells = Jupyter.notebook.get_cells();\n",
       "                for (var i = 0; i < nbb_cells.length; ++i) {\n",
       "                    if (nbb_cells[i].input_prompt_number == nbb_cell_id) {\n",
       "                        if (nbb_cells[i].get_text() == nbb_unformatted_code) {\n",
       "                             nbb_cells[i].set_text(nbb_formatted_code);\n",
       "                        }\n",
       "                        break;\n",
       "                    }\n",
       "                }\n",
       "            }, 500);\n",
       "            "
      ],
      "text/plain": [
       "<IPython.core.display.Javascript object>"
      ]
     },
     "metadata": {},
     "output_type": "display_data"
    }
   ],
   "source": [
    "df[\"Area\"].astype(\"Int64\")"
   ]
  },
  {
   "cell_type": "code",
   "execution_count": 17,
   "id": "960b323f",
   "metadata": {},
   "outputs": [
    {
     "data": {
      "application/javascript": [
       "\n",
       "            setTimeout(function() {\n",
       "                var nbb_cell_id = 17;\n",
       "                var nbb_unformatted_code = \"df[\\\"Area\\\"] = df[\\\"Area\\\"].astype(\\\"Int64\\\")\";\n",
       "                var nbb_formatted_code = \"df[\\\"Area\\\"] = df[\\\"Area\\\"].astype(\\\"Int64\\\")\";\n",
       "                var nbb_cells = Jupyter.notebook.get_cells();\n",
       "                for (var i = 0; i < nbb_cells.length; ++i) {\n",
       "                    if (nbb_cells[i].input_prompt_number == nbb_cell_id) {\n",
       "                        if (nbb_cells[i].get_text() == nbb_unformatted_code) {\n",
       "                             nbb_cells[i].set_text(nbb_formatted_code);\n",
       "                        }\n",
       "                        break;\n",
       "                    }\n",
       "                }\n",
       "            }, 500);\n",
       "            "
      ],
      "text/plain": [
       "<IPython.core.display.Javascript object>"
      ]
     },
     "metadata": {},
     "output_type": "display_data"
    }
   ],
   "source": [
    "df[\"Area\"] = df[\"Area\"].astype(\"Int64\")"
   ]
  },
  {
   "cell_type": "code",
   "execution_count": 18,
   "id": "20937edc",
   "metadata": {},
   "outputs": [
    {
     "data": {
      "text/html": [
       "<div>\n",
       "<style scoped>\n",
       "    .dataframe tbody tr th:only-of-type {\n",
       "        vertical-align: middle;\n",
       "    }\n",
       "\n",
       "    .dataframe tbody tr th {\n",
       "        vertical-align: top;\n",
       "    }\n",
       "\n",
       "    .dataframe thead th {\n",
       "        text-align: right;\n",
       "    }\n",
       "</style>\n",
       "<table border=\"1\" class=\"dataframe\">\n",
       "  <thead>\n",
       "    <tr style=\"text-align: right;\">\n",
       "      <th></th>\n",
       "      <th>Capital</th>\n",
       "      <th>Population</th>\n",
       "      <th>Monarch</th>\n",
       "      <th>Area</th>\n",
       "      <th>Currency</th>\n",
       "      <th>Formation</th>\n",
       "      <th>Density</th>\n",
       "    </tr>\n",
       "  </thead>\n",
       "  <tbody>\n",
       "    <tr>\n",
       "      <th>Spain</th>\n",
       "      <td>Madrid</td>\n",
       "      <td>46733038</td>\n",
       "      <td>Felipe VI</td>\n",
       "      <td>505990</td>\n",
       "      <td>EUR</td>\n",
       "      <td>1715-06-09</td>\n",
       "      <td>92.359608</td>\n",
       "    </tr>\n",
       "    <tr>\n",
       "      <th>Belgium</th>\n",
       "      <td>Brussels</td>\n",
       "      <td>11449656</td>\n",
       "      <td>Philippe</td>\n",
       "      <td>30688</td>\n",
       "      <td>EUR</td>\n",
       "      <td>1830-10-04</td>\n",
       "      <td>373.098801</td>\n",
       "    </tr>\n",
       "    <tr>\n",
       "      <th>France</th>\n",
       "      <td>Paris</td>\n",
       "      <td>67076000</td>\n",
       "      <td>NaN</td>\n",
       "      <td>640679</td>\n",
       "      <td>EUR</td>\n",
       "      <td>1792-09-22</td>\n",
       "      <td>104.695175</td>\n",
       "    </tr>\n",
       "    <tr>\n",
       "      <th>Italy</th>\n",
       "      <td>Roma</td>\n",
       "      <td>60390560</td>\n",
       "      <td>NaN</td>\n",
       "      <td>301340</td>\n",
       "      <td>EUR</td>\n",
       "      <td>None</td>\n",
       "      <td>200.406717</td>\n",
       "    </tr>\n",
       "    <tr>\n",
       "      <th>Germany</th>\n",
       "      <td>Berlin</td>\n",
       "      <td>83122889</td>\n",
       "      <td>NaN</td>\n",
       "      <td>&lt;NA&gt;</td>\n",
       "      <td>EUR</td>\n",
       "      <td>None</td>\n",
       "      <td>NaN</td>\n",
       "    </tr>\n",
       "    <tr>\n",
       "      <th>Portugal</th>\n",
       "      <td>Lisbon</td>\n",
       "      <td>10295909</td>\n",
       "      <td>NaN</td>\n",
       "      <td>92212</td>\n",
       "      <td>None</td>\n",
       "      <td>None</td>\n",
       "      <td>111.654763</td>\n",
       "    </tr>\n",
       "    <tr>\n",
       "      <th>Norway</th>\n",
       "      <td>Oslo</td>\n",
       "      <td>5391369</td>\n",
       "      <td>Harald V</td>\n",
       "      <td>385207</td>\n",
       "      <td>NOK</td>\n",
       "      <td>None</td>\n",
       "      <td>13.996031</td>\n",
       "    </tr>\n",
       "    <tr>\n",
       "      <th>Greece</th>\n",
       "      <td>Athens</td>\n",
       "      <td>10718565</td>\n",
       "      <td>NaN</td>\n",
       "      <td>131957</td>\n",
       "      <td>EUR</td>\n",
       "      <td>None</td>\n",
       "      <td>81.227711</td>\n",
       "    </tr>\n",
       "  </tbody>\n",
       "</table>\n",
       "</div>"
      ],
      "text/plain": [
       "           Capital  Population    Monarch    Area Currency   Formation  \\\n",
       "Spain       Madrid    46733038  Felipe VI  505990      EUR  1715-06-09   \n",
       "Belgium   Brussels    11449656   Philippe   30688      EUR  1830-10-04   \n",
       "France       Paris    67076000        NaN  640679      EUR  1792-09-22   \n",
       "Italy         Roma    60390560        NaN  301340      EUR        None   \n",
       "Germany     Berlin    83122889        NaN    <NA>      EUR        None   \n",
       "Portugal    Lisbon    10295909        NaN   92212     None        None   \n",
       "Norway        Oslo     5391369   Harald V  385207      NOK        None   \n",
       "Greece      Athens    10718565        NaN  131957      EUR        None   \n",
       "\n",
       "             Density  \n",
       "Spain      92.359608  \n",
       "Belgium   373.098801  \n",
       "France    104.695175  \n",
       "Italy     200.406717  \n",
       "Germany          NaN  \n",
       "Portugal  111.654763  \n",
       "Norway     13.996031  \n",
       "Greece     81.227711  "
      ]
     },
     "execution_count": 18,
     "metadata": {},
     "output_type": "execute_result"
    },
    {
     "data": {
      "application/javascript": [
       "\n",
       "            setTimeout(function() {\n",
       "                var nbb_cell_id = 18;\n",
       "                var nbb_unformatted_code = \"df\";\n",
       "                var nbb_formatted_code = \"df\";\n",
       "                var nbb_cells = Jupyter.notebook.get_cells();\n",
       "                for (var i = 0; i < nbb_cells.length; ++i) {\n",
       "                    if (nbb_cells[i].input_prompt_number == nbb_cell_id) {\n",
       "                        if (nbb_cells[i].get_text() == nbb_unformatted_code) {\n",
       "                             nbb_cells[i].set_text(nbb_formatted_code);\n",
       "                        }\n",
       "                        break;\n",
       "                    }\n",
       "                }\n",
       "            }, 500);\n",
       "            "
      ],
      "text/plain": [
       "<IPython.core.display.Javascript object>"
      ]
     },
     "metadata": {},
     "output_type": "display_data"
    }
   ],
   "source": [
    "df"
   ]
  },
  {
   "cell_type": "code",
   "execution_count": 19,
   "id": "b647d3ac",
   "metadata": {},
   "outputs": [
    {
     "data": {
      "text/plain": [
       "Capital        object\n",
       "Population      int64\n",
       "Monarch        object\n",
       "Area            Int64\n",
       "Currency       object\n",
       "Formation      object\n",
       "Density       float64\n",
       "dtype: object"
      ]
     },
     "execution_count": 19,
     "metadata": {},
     "output_type": "execute_result"
    },
    {
     "data": {
      "application/javascript": [
       "\n",
       "            setTimeout(function() {\n",
       "                var nbb_cell_id = 19;\n",
       "                var nbb_unformatted_code = \"df.dtypes\";\n",
       "                var nbb_formatted_code = \"df.dtypes\";\n",
       "                var nbb_cells = Jupyter.notebook.get_cells();\n",
       "                for (var i = 0; i < nbb_cells.length; ++i) {\n",
       "                    if (nbb_cells[i].input_prompt_number == nbb_cell_id) {\n",
       "                        if (nbb_cells[i].get_text() == nbb_unformatted_code) {\n",
       "                             nbb_cells[i].set_text(nbb_formatted_code);\n",
       "                        }\n",
       "                        break;\n",
       "                    }\n",
       "                }\n",
       "            }, 500);\n",
       "            "
      ],
      "text/plain": [
       "<IPython.core.display.Javascript object>"
      ]
     },
     "metadata": {},
     "output_type": "display_data"
    }
   ],
   "source": [
    "df.dtypes"
   ]
  },
  {
   "cell_type": "code",
   "execution_count": 20,
   "id": "f2405903",
   "metadata": {},
   "outputs": [
    {
     "data": {
      "application/javascript": [
       "\n",
       "            setTimeout(function() {\n",
       "                var nbb_cell_id = 20;\n",
       "                var nbb_unformatted_code = \"df[\\\"Capital\\\"] = df[\\\"Capital\\\"].astype(\\\"string\\\")\";\n",
       "                var nbb_formatted_code = \"df[\\\"Capital\\\"] = df[\\\"Capital\\\"].astype(\\\"string\\\")\";\n",
       "                var nbb_cells = Jupyter.notebook.get_cells();\n",
       "                for (var i = 0; i < nbb_cells.length; ++i) {\n",
       "                    if (nbb_cells[i].input_prompt_number == nbb_cell_id) {\n",
       "                        if (nbb_cells[i].get_text() == nbb_unformatted_code) {\n",
       "                             nbb_cells[i].set_text(nbb_formatted_code);\n",
       "                        }\n",
       "                        break;\n",
       "                    }\n",
       "                }\n",
       "            }, 500);\n",
       "            "
      ],
      "text/plain": [
       "<IPython.core.display.Javascript object>"
      ]
     },
     "metadata": {},
     "output_type": "display_data"
    }
   ],
   "source": [
    "df[\"Capital\"] = df[\"Capital\"].astype(\"string\")"
   ]
  },
  {
   "cell_type": "code",
   "execution_count": 21,
   "id": "16dc1e1b",
   "metadata": {},
   "outputs": [
    {
     "data": {
      "application/javascript": [
       "\n",
       "            setTimeout(function() {\n",
       "                var nbb_cell_id = 21;\n",
       "                var nbb_unformatted_code = \"df[\\\"Monarch\\\"] = df[\\\"Monarch\\\"].astype(\\\"string\\\")\";\n",
       "                var nbb_formatted_code = \"df[\\\"Monarch\\\"] = df[\\\"Monarch\\\"].astype(\\\"string\\\")\";\n",
       "                var nbb_cells = Jupyter.notebook.get_cells();\n",
       "                for (var i = 0; i < nbb_cells.length; ++i) {\n",
       "                    if (nbb_cells[i].input_prompt_number == nbb_cell_id) {\n",
       "                        if (nbb_cells[i].get_text() == nbb_unformatted_code) {\n",
       "                             nbb_cells[i].set_text(nbb_formatted_code);\n",
       "                        }\n",
       "                        break;\n",
       "                    }\n",
       "                }\n",
       "            }, 500);\n",
       "            "
      ],
      "text/plain": [
       "<IPython.core.display.Javascript object>"
      ]
     },
     "metadata": {},
     "output_type": "display_data"
    }
   ],
   "source": [
    "df[\"Monarch\"] = df[\"Monarch\"].astype(\"string\")"
   ]
  },
  {
   "cell_type": "code",
   "execution_count": 22,
   "id": "711cb476",
   "metadata": {},
   "outputs": [
    {
     "data": {
      "text/html": [
       "<div>\n",
       "<style scoped>\n",
       "    .dataframe tbody tr th:only-of-type {\n",
       "        vertical-align: middle;\n",
       "    }\n",
       "\n",
       "    .dataframe tbody tr th {\n",
       "        vertical-align: top;\n",
       "    }\n",
       "\n",
       "    .dataframe thead th {\n",
       "        text-align: right;\n",
       "    }\n",
       "</style>\n",
       "<table border=\"1\" class=\"dataframe\">\n",
       "  <thead>\n",
       "    <tr style=\"text-align: right;\">\n",
       "      <th></th>\n",
       "      <th>Capital</th>\n",
       "      <th>Population</th>\n",
       "      <th>Monarch</th>\n",
       "      <th>Area</th>\n",
       "      <th>Currency</th>\n",
       "      <th>Formation</th>\n",
       "      <th>Density</th>\n",
       "    </tr>\n",
       "  </thead>\n",
       "  <tbody>\n",
       "    <tr>\n",
       "      <th>Spain</th>\n",
       "      <td>Madrid</td>\n",
       "      <td>46733038</td>\n",
       "      <td>Felipe VI</td>\n",
       "      <td>505990</td>\n",
       "      <td>EUR</td>\n",
       "      <td>1715-06-09</td>\n",
       "      <td>92.359608</td>\n",
       "    </tr>\n",
       "    <tr>\n",
       "      <th>Belgium</th>\n",
       "      <td>Brussels</td>\n",
       "      <td>11449656</td>\n",
       "      <td>Philippe</td>\n",
       "      <td>30688</td>\n",
       "      <td>EUR</td>\n",
       "      <td>1830-10-04</td>\n",
       "      <td>373.098801</td>\n",
       "    </tr>\n",
       "    <tr>\n",
       "      <th>France</th>\n",
       "      <td>Paris</td>\n",
       "      <td>67076000</td>\n",
       "      <td>&lt;NA&gt;</td>\n",
       "      <td>640679</td>\n",
       "      <td>EUR</td>\n",
       "      <td>1792-09-22</td>\n",
       "      <td>104.695175</td>\n",
       "    </tr>\n",
       "    <tr>\n",
       "      <th>Italy</th>\n",
       "      <td>Roma</td>\n",
       "      <td>60390560</td>\n",
       "      <td>&lt;NA&gt;</td>\n",
       "      <td>301340</td>\n",
       "      <td>EUR</td>\n",
       "      <td>None</td>\n",
       "      <td>200.406717</td>\n",
       "    </tr>\n",
       "    <tr>\n",
       "      <th>Germany</th>\n",
       "      <td>Berlin</td>\n",
       "      <td>83122889</td>\n",
       "      <td>&lt;NA&gt;</td>\n",
       "      <td>&lt;NA&gt;</td>\n",
       "      <td>EUR</td>\n",
       "      <td>None</td>\n",
       "      <td>NaN</td>\n",
       "    </tr>\n",
       "    <tr>\n",
       "      <th>Portugal</th>\n",
       "      <td>Lisbon</td>\n",
       "      <td>10295909</td>\n",
       "      <td>&lt;NA&gt;</td>\n",
       "      <td>92212</td>\n",
       "      <td>None</td>\n",
       "      <td>None</td>\n",
       "      <td>111.654763</td>\n",
       "    </tr>\n",
       "    <tr>\n",
       "      <th>Norway</th>\n",
       "      <td>Oslo</td>\n",
       "      <td>5391369</td>\n",
       "      <td>Harald V</td>\n",
       "      <td>385207</td>\n",
       "      <td>NOK</td>\n",
       "      <td>None</td>\n",
       "      <td>13.996031</td>\n",
       "    </tr>\n",
       "    <tr>\n",
       "      <th>Greece</th>\n",
       "      <td>Athens</td>\n",
       "      <td>10718565</td>\n",
       "      <td>&lt;NA&gt;</td>\n",
       "      <td>131957</td>\n",
       "      <td>EUR</td>\n",
       "      <td>None</td>\n",
       "      <td>81.227711</td>\n",
       "    </tr>\n",
       "  </tbody>\n",
       "</table>\n",
       "</div>"
      ],
      "text/plain": [
       "           Capital  Population    Monarch    Area Currency   Formation  \\\n",
       "Spain       Madrid    46733038  Felipe VI  505990      EUR  1715-06-09   \n",
       "Belgium   Brussels    11449656   Philippe   30688      EUR  1830-10-04   \n",
       "France       Paris    67076000       <NA>  640679      EUR  1792-09-22   \n",
       "Italy         Roma    60390560       <NA>  301340      EUR        None   \n",
       "Germany     Berlin    83122889       <NA>    <NA>      EUR        None   \n",
       "Portugal    Lisbon    10295909       <NA>   92212     None        None   \n",
       "Norway        Oslo     5391369   Harald V  385207      NOK        None   \n",
       "Greece      Athens    10718565       <NA>  131957      EUR        None   \n",
       "\n",
       "             Density  \n",
       "Spain      92.359608  \n",
       "Belgium   373.098801  \n",
       "France    104.695175  \n",
       "Italy     200.406717  \n",
       "Germany          NaN  \n",
       "Portugal  111.654763  \n",
       "Norway     13.996031  \n",
       "Greece     81.227711  "
      ]
     },
     "execution_count": 22,
     "metadata": {},
     "output_type": "execute_result"
    },
    {
     "data": {
      "application/javascript": [
       "\n",
       "            setTimeout(function() {\n",
       "                var nbb_cell_id = 22;\n",
       "                var nbb_unformatted_code = \"df\";\n",
       "                var nbb_formatted_code = \"df\";\n",
       "                var nbb_cells = Jupyter.notebook.get_cells();\n",
       "                for (var i = 0; i < nbb_cells.length; ++i) {\n",
       "                    if (nbb_cells[i].input_prompt_number == nbb_cell_id) {\n",
       "                        if (nbb_cells[i].get_text() == nbb_unformatted_code) {\n",
       "                             nbb_cells[i].set_text(nbb_formatted_code);\n",
       "                        }\n",
       "                        break;\n",
       "                    }\n",
       "                }\n",
       "            }, 500);\n",
       "            "
      ],
      "text/plain": [
       "<IPython.core.display.Javascript object>"
      ]
     },
     "metadata": {},
     "output_type": "display_data"
    }
   ],
   "source": [
    "df"
   ]
  },
  {
   "cell_type": "code",
   "execution_count": 23,
   "id": "6263358f",
   "metadata": {},
   "outputs": [
    {
     "data": {
      "text/plain": [
       "Capital        string\n",
       "Population      int64\n",
       "Monarch        string\n",
       "Area            Int64\n",
       "Currency       object\n",
       "Formation      object\n",
       "Density       float64\n",
       "dtype: object"
      ]
     },
     "execution_count": 23,
     "metadata": {},
     "output_type": "execute_result"
    },
    {
     "data": {
      "application/javascript": [
       "\n",
       "            setTimeout(function() {\n",
       "                var nbb_cell_id = 23;\n",
       "                var nbb_unformatted_code = \"df.dtypes\";\n",
       "                var nbb_formatted_code = \"df.dtypes\";\n",
       "                var nbb_cells = Jupyter.notebook.get_cells();\n",
       "                for (var i = 0; i < nbb_cells.length; ++i) {\n",
       "                    if (nbb_cells[i].input_prompt_number == nbb_cell_id) {\n",
       "                        if (nbb_cells[i].get_text() == nbb_unformatted_code) {\n",
       "                             nbb_cells[i].set_text(nbb_formatted_code);\n",
       "                        }\n",
       "                        break;\n",
       "                    }\n",
       "                }\n",
       "            }, 500);\n",
       "            "
      ],
      "text/plain": [
       "<IPython.core.display.Javascript object>"
      ]
     },
     "metadata": {},
     "output_type": "display_data"
    }
   ],
   "source": [
    "df.dtypes"
   ]
  },
  {
   "cell_type": "code",
   "execution_count": 24,
   "id": "adc07d96",
   "metadata": {},
   "outputs": [
    {
     "data": {
      "application/javascript": [
       "\n",
       "            setTimeout(function() {\n",
       "                var nbb_cell_id = 24;\n",
       "                var nbb_unformatted_code = \"df[\\\"Currency\\\"] = df[\\\"Currency\\\"].astype(\\\"category\\\")\";\n",
       "                var nbb_formatted_code = \"df[\\\"Currency\\\"] = df[\\\"Currency\\\"].astype(\\\"category\\\")\";\n",
       "                var nbb_cells = Jupyter.notebook.get_cells();\n",
       "                for (var i = 0; i < nbb_cells.length; ++i) {\n",
       "                    if (nbb_cells[i].input_prompt_number == nbb_cell_id) {\n",
       "                        if (nbb_cells[i].get_text() == nbb_unformatted_code) {\n",
       "                             nbb_cells[i].set_text(nbb_formatted_code);\n",
       "                        }\n",
       "                        break;\n",
       "                    }\n",
       "                }\n",
       "            }, 500);\n",
       "            "
      ],
      "text/plain": [
       "<IPython.core.display.Javascript object>"
      ]
     },
     "metadata": {},
     "output_type": "display_data"
    }
   ],
   "source": [
    "df[\"Currency\"] = df[\"Currency\"].astype(\"category\")"
   ]
  },
  {
   "cell_type": "code",
   "execution_count": 25,
   "id": "39441351",
   "metadata": {},
   "outputs": [
    {
     "data": {
      "text/html": [
       "<div>\n",
       "<style scoped>\n",
       "    .dataframe tbody tr th:only-of-type {\n",
       "        vertical-align: middle;\n",
       "    }\n",
       "\n",
       "    .dataframe tbody tr th {\n",
       "        vertical-align: top;\n",
       "    }\n",
       "\n",
       "    .dataframe thead th {\n",
       "        text-align: right;\n",
       "    }\n",
       "</style>\n",
       "<table border=\"1\" class=\"dataframe\">\n",
       "  <thead>\n",
       "    <tr style=\"text-align: right;\">\n",
       "      <th></th>\n",
       "      <th>Capital</th>\n",
       "      <th>Population</th>\n",
       "      <th>Monarch</th>\n",
       "      <th>Area</th>\n",
       "      <th>Currency</th>\n",
       "      <th>Formation</th>\n",
       "      <th>Density</th>\n",
       "    </tr>\n",
       "  </thead>\n",
       "  <tbody>\n",
       "    <tr>\n",
       "      <th>Spain</th>\n",
       "      <td>Madrid</td>\n",
       "      <td>46733038</td>\n",
       "      <td>Felipe VI</td>\n",
       "      <td>505990</td>\n",
       "      <td>EUR</td>\n",
       "      <td>1715-06-09</td>\n",
       "      <td>92.359608</td>\n",
       "    </tr>\n",
       "    <tr>\n",
       "      <th>Belgium</th>\n",
       "      <td>Brussels</td>\n",
       "      <td>11449656</td>\n",
       "      <td>Philippe</td>\n",
       "      <td>30688</td>\n",
       "      <td>EUR</td>\n",
       "      <td>1830-10-04</td>\n",
       "      <td>373.098801</td>\n",
       "    </tr>\n",
       "    <tr>\n",
       "      <th>France</th>\n",
       "      <td>Paris</td>\n",
       "      <td>67076000</td>\n",
       "      <td>&lt;NA&gt;</td>\n",
       "      <td>640679</td>\n",
       "      <td>EUR</td>\n",
       "      <td>1792-09-22</td>\n",
       "      <td>104.695175</td>\n",
       "    </tr>\n",
       "    <tr>\n",
       "      <th>Italy</th>\n",
       "      <td>Roma</td>\n",
       "      <td>60390560</td>\n",
       "      <td>&lt;NA&gt;</td>\n",
       "      <td>301340</td>\n",
       "      <td>EUR</td>\n",
       "      <td>None</td>\n",
       "      <td>200.406717</td>\n",
       "    </tr>\n",
       "    <tr>\n",
       "      <th>Germany</th>\n",
       "      <td>Berlin</td>\n",
       "      <td>83122889</td>\n",
       "      <td>&lt;NA&gt;</td>\n",
       "      <td>&lt;NA&gt;</td>\n",
       "      <td>EUR</td>\n",
       "      <td>None</td>\n",
       "      <td>NaN</td>\n",
       "    </tr>\n",
       "    <tr>\n",
       "      <th>Portugal</th>\n",
       "      <td>Lisbon</td>\n",
       "      <td>10295909</td>\n",
       "      <td>&lt;NA&gt;</td>\n",
       "      <td>92212</td>\n",
       "      <td>NaN</td>\n",
       "      <td>None</td>\n",
       "      <td>111.654763</td>\n",
       "    </tr>\n",
       "    <tr>\n",
       "      <th>Norway</th>\n",
       "      <td>Oslo</td>\n",
       "      <td>5391369</td>\n",
       "      <td>Harald V</td>\n",
       "      <td>385207</td>\n",
       "      <td>NOK</td>\n",
       "      <td>None</td>\n",
       "      <td>13.996031</td>\n",
       "    </tr>\n",
       "    <tr>\n",
       "      <th>Greece</th>\n",
       "      <td>Athens</td>\n",
       "      <td>10718565</td>\n",
       "      <td>&lt;NA&gt;</td>\n",
       "      <td>131957</td>\n",
       "      <td>EUR</td>\n",
       "      <td>None</td>\n",
       "      <td>81.227711</td>\n",
       "    </tr>\n",
       "  </tbody>\n",
       "</table>\n",
       "</div>"
      ],
      "text/plain": [
       "           Capital  Population    Monarch    Area Currency   Formation  \\\n",
       "Spain       Madrid    46733038  Felipe VI  505990      EUR  1715-06-09   \n",
       "Belgium   Brussels    11449656   Philippe   30688      EUR  1830-10-04   \n",
       "France       Paris    67076000       <NA>  640679      EUR  1792-09-22   \n",
       "Italy         Roma    60390560       <NA>  301340      EUR        None   \n",
       "Germany     Berlin    83122889       <NA>    <NA>      EUR        None   \n",
       "Portugal    Lisbon    10295909       <NA>   92212      NaN        None   \n",
       "Norway        Oslo     5391369   Harald V  385207      NOK        None   \n",
       "Greece      Athens    10718565       <NA>  131957      EUR        None   \n",
       "\n",
       "             Density  \n",
       "Spain      92.359608  \n",
       "Belgium   373.098801  \n",
       "France    104.695175  \n",
       "Italy     200.406717  \n",
       "Germany          NaN  \n",
       "Portugal  111.654763  \n",
       "Norway     13.996031  \n",
       "Greece     81.227711  "
      ]
     },
     "execution_count": 25,
     "metadata": {},
     "output_type": "execute_result"
    },
    {
     "data": {
      "application/javascript": [
       "\n",
       "            setTimeout(function() {\n",
       "                var nbb_cell_id = 25;\n",
       "                var nbb_unformatted_code = \"df\";\n",
       "                var nbb_formatted_code = \"df\";\n",
       "                var nbb_cells = Jupyter.notebook.get_cells();\n",
       "                for (var i = 0; i < nbb_cells.length; ++i) {\n",
       "                    if (nbb_cells[i].input_prompt_number == nbb_cell_id) {\n",
       "                        if (nbb_cells[i].get_text() == nbb_unformatted_code) {\n",
       "                             nbb_cells[i].set_text(nbb_formatted_code);\n",
       "                        }\n",
       "                        break;\n",
       "                    }\n",
       "                }\n",
       "            }, 500);\n",
       "            "
      ],
      "text/plain": [
       "<IPython.core.display.Javascript object>"
      ]
     },
     "metadata": {},
     "output_type": "display_data"
    }
   ],
   "source": [
    "df"
   ]
  },
  {
   "cell_type": "code",
   "execution_count": 26,
   "id": "53db965e",
   "metadata": {},
   "outputs": [
    {
     "data": {
      "text/plain": [
       "Capital         string\n",
       "Population       int64\n",
       "Monarch         string\n",
       "Area             Int64\n",
       "Currency      category\n",
       "Formation       object\n",
       "Density        float64\n",
       "dtype: object"
      ]
     },
     "execution_count": 26,
     "metadata": {},
     "output_type": "execute_result"
    },
    {
     "data": {
      "application/javascript": [
       "\n",
       "            setTimeout(function() {\n",
       "                var nbb_cell_id = 26;\n",
       "                var nbb_unformatted_code = \"df.dtypes\";\n",
       "                var nbb_formatted_code = \"df.dtypes\";\n",
       "                var nbb_cells = Jupyter.notebook.get_cells();\n",
       "                for (var i = 0; i < nbb_cells.length; ++i) {\n",
       "                    if (nbb_cells[i].input_prompt_number == nbb_cell_id) {\n",
       "                        if (nbb_cells[i].get_text() == nbb_unformatted_code) {\n",
       "                             nbb_cells[i].set_text(nbb_formatted_code);\n",
       "                        }\n",
       "                        break;\n",
       "                    }\n",
       "                }\n",
       "            }, 500);\n",
       "            "
      ],
      "text/plain": [
       "<IPython.core.display.Javascript object>"
      ]
     },
     "metadata": {},
     "output_type": "display_data"
    }
   ],
   "source": [
    "df.dtypes"
   ]
  },
  {
   "cell_type": "code",
   "execution_count": 27,
   "id": "470d6875",
   "metadata": {},
   "outputs": [
    {
     "data": {
      "application/javascript": [
       "\n",
       "            setTimeout(function() {\n",
       "                var nbb_cell_id = 27;\n",
       "                var nbb_unformatted_code = \"df[\\\"Formation\\\"] = df[\\\"Formation\\\"].astype(\\\"datetime64[ns]\\\")\";\n",
       "                var nbb_formatted_code = \"df[\\\"Formation\\\"] = df[\\\"Formation\\\"].astype(\\\"datetime64[ns]\\\")\";\n",
       "                var nbb_cells = Jupyter.notebook.get_cells();\n",
       "                for (var i = 0; i < nbb_cells.length; ++i) {\n",
       "                    if (nbb_cells[i].input_prompt_number == nbb_cell_id) {\n",
       "                        if (nbb_cells[i].get_text() == nbb_unformatted_code) {\n",
       "                             nbb_cells[i].set_text(nbb_formatted_code);\n",
       "                        }\n",
       "                        break;\n",
       "                    }\n",
       "                }\n",
       "            }, 500);\n",
       "            "
      ],
      "text/plain": [
       "<IPython.core.display.Javascript object>"
      ]
     },
     "metadata": {},
     "output_type": "display_data"
    }
   ],
   "source": [
    "df[\"Formation\"] = df[\"Formation\"].astype(\"datetime64[ns]\")"
   ]
  },
  {
   "cell_type": "code",
   "execution_count": 28,
   "id": "a1402713",
   "metadata": {},
   "outputs": [
    {
     "data": {
      "text/html": [
       "<div>\n",
       "<style scoped>\n",
       "    .dataframe tbody tr th:only-of-type {\n",
       "        vertical-align: middle;\n",
       "    }\n",
       "\n",
       "    .dataframe tbody tr th {\n",
       "        vertical-align: top;\n",
       "    }\n",
       "\n",
       "    .dataframe thead th {\n",
       "        text-align: right;\n",
       "    }\n",
       "</style>\n",
       "<table border=\"1\" class=\"dataframe\">\n",
       "  <thead>\n",
       "    <tr style=\"text-align: right;\">\n",
       "      <th></th>\n",
       "      <th>Capital</th>\n",
       "      <th>Population</th>\n",
       "      <th>Monarch</th>\n",
       "      <th>Area</th>\n",
       "      <th>Currency</th>\n",
       "      <th>Formation</th>\n",
       "      <th>Density</th>\n",
       "    </tr>\n",
       "  </thead>\n",
       "  <tbody>\n",
       "    <tr>\n",
       "      <th>Spain</th>\n",
       "      <td>Madrid</td>\n",
       "      <td>46733038</td>\n",
       "      <td>Felipe VI</td>\n",
       "      <td>505990</td>\n",
       "      <td>EUR</td>\n",
       "      <td>1715-06-09</td>\n",
       "      <td>92.359608</td>\n",
       "    </tr>\n",
       "    <tr>\n",
       "      <th>Belgium</th>\n",
       "      <td>Brussels</td>\n",
       "      <td>11449656</td>\n",
       "      <td>Philippe</td>\n",
       "      <td>30688</td>\n",
       "      <td>EUR</td>\n",
       "      <td>1830-10-04</td>\n",
       "      <td>373.098801</td>\n",
       "    </tr>\n",
       "    <tr>\n",
       "      <th>France</th>\n",
       "      <td>Paris</td>\n",
       "      <td>67076000</td>\n",
       "      <td>&lt;NA&gt;</td>\n",
       "      <td>640679</td>\n",
       "      <td>EUR</td>\n",
       "      <td>1792-09-22</td>\n",
       "      <td>104.695175</td>\n",
       "    </tr>\n",
       "    <tr>\n",
       "      <th>Italy</th>\n",
       "      <td>Roma</td>\n",
       "      <td>60390560</td>\n",
       "      <td>&lt;NA&gt;</td>\n",
       "      <td>301340</td>\n",
       "      <td>EUR</td>\n",
       "      <td>NaT</td>\n",
       "      <td>200.406717</td>\n",
       "    </tr>\n",
       "    <tr>\n",
       "      <th>Germany</th>\n",
       "      <td>Berlin</td>\n",
       "      <td>83122889</td>\n",
       "      <td>&lt;NA&gt;</td>\n",
       "      <td>&lt;NA&gt;</td>\n",
       "      <td>EUR</td>\n",
       "      <td>NaT</td>\n",
       "      <td>NaN</td>\n",
       "    </tr>\n",
       "    <tr>\n",
       "      <th>Portugal</th>\n",
       "      <td>Lisbon</td>\n",
       "      <td>10295909</td>\n",
       "      <td>&lt;NA&gt;</td>\n",
       "      <td>92212</td>\n",
       "      <td>NaN</td>\n",
       "      <td>NaT</td>\n",
       "      <td>111.654763</td>\n",
       "    </tr>\n",
       "    <tr>\n",
       "      <th>Norway</th>\n",
       "      <td>Oslo</td>\n",
       "      <td>5391369</td>\n",
       "      <td>Harald V</td>\n",
       "      <td>385207</td>\n",
       "      <td>NOK</td>\n",
       "      <td>NaT</td>\n",
       "      <td>13.996031</td>\n",
       "    </tr>\n",
       "    <tr>\n",
       "      <th>Greece</th>\n",
       "      <td>Athens</td>\n",
       "      <td>10718565</td>\n",
       "      <td>&lt;NA&gt;</td>\n",
       "      <td>131957</td>\n",
       "      <td>EUR</td>\n",
       "      <td>NaT</td>\n",
       "      <td>81.227711</td>\n",
       "    </tr>\n",
       "  </tbody>\n",
       "</table>\n",
       "</div>"
      ],
      "text/plain": [
       "           Capital  Population    Monarch    Area Currency  Formation  \\\n",
       "Spain       Madrid    46733038  Felipe VI  505990      EUR 1715-06-09   \n",
       "Belgium   Brussels    11449656   Philippe   30688      EUR 1830-10-04   \n",
       "France       Paris    67076000       <NA>  640679      EUR 1792-09-22   \n",
       "Italy         Roma    60390560       <NA>  301340      EUR        NaT   \n",
       "Germany     Berlin    83122889       <NA>    <NA>      EUR        NaT   \n",
       "Portugal    Lisbon    10295909       <NA>   92212      NaN        NaT   \n",
       "Norway        Oslo     5391369   Harald V  385207      NOK        NaT   \n",
       "Greece      Athens    10718565       <NA>  131957      EUR        NaT   \n",
       "\n",
       "             Density  \n",
       "Spain      92.359608  \n",
       "Belgium   373.098801  \n",
       "France    104.695175  \n",
       "Italy     200.406717  \n",
       "Germany          NaN  \n",
       "Portugal  111.654763  \n",
       "Norway     13.996031  \n",
       "Greece     81.227711  "
      ]
     },
     "execution_count": 28,
     "metadata": {},
     "output_type": "execute_result"
    },
    {
     "data": {
      "application/javascript": [
       "\n",
       "            setTimeout(function() {\n",
       "                var nbb_cell_id = 28;\n",
       "                var nbb_unformatted_code = \"df\";\n",
       "                var nbb_formatted_code = \"df\";\n",
       "                var nbb_cells = Jupyter.notebook.get_cells();\n",
       "                for (var i = 0; i < nbb_cells.length; ++i) {\n",
       "                    if (nbb_cells[i].input_prompt_number == nbb_cell_id) {\n",
       "                        if (nbb_cells[i].get_text() == nbb_unformatted_code) {\n",
       "                             nbb_cells[i].set_text(nbb_formatted_code);\n",
       "                        }\n",
       "                        break;\n",
       "                    }\n",
       "                }\n",
       "            }, 500);\n",
       "            "
      ],
      "text/plain": [
       "<IPython.core.display.Javascript object>"
      ]
     },
     "metadata": {},
     "output_type": "display_data"
    }
   ],
   "source": [
    "df"
   ]
  },
  {
   "cell_type": "code",
   "execution_count": 29,
   "id": "8887acd3",
   "metadata": {},
   "outputs": [
    {
     "data": {
      "text/plain": [
       "Capital               string\n",
       "Population             int64\n",
       "Monarch               string\n",
       "Area                   Int64\n",
       "Currency            category\n",
       "Formation     datetime64[ns]\n",
       "Density              float64\n",
       "dtype: object"
      ]
     },
     "execution_count": 29,
     "metadata": {},
     "output_type": "execute_result"
    },
    {
     "data": {
      "application/javascript": [
       "\n",
       "            setTimeout(function() {\n",
       "                var nbb_cell_id = 29;\n",
       "                var nbb_unformatted_code = \"df.dtypes\";\n",
       "                var nbb_formatted_code = \"df.dtypes\";\n",
       "                var nbb_cells = Jupyter.notebook.get_cells();\n",
       "                for (var i = 0; i < nbb_cells.length; ++i) {\n",
       "                    if (nbb_cells[i].input_prompt_number == nbb_cell_id) {\n",
       "                        if (nbb_cells[i].get_text() == nbb_unformatted_code) {\n",
       "                             nbb_cells[i].set_text(nbb_formatted_code);\n",
       "                        }\n",
       "                        break;\n",
       "                    }\n",
       "                }\n",
       "            }, 500);\n",
       "            "
      ],
      "text/plain": [
       "<IPython.core.display.Javascript object>"
      ]
     },
     "metadata": {},
     "output_type": "display_data"
    }
   ],
   "source": [
    "df.dtypes"
   ]
  },
  {
   "cell_type": "markdown",
   "id": "f6f6d89f",
   "metadata": {},
   "source": [
    "<div class=\"alert alert-success\">\n",
    "\n",
    "<b>Best Practice:</b> Always use the following data types:\n",
    "    <ul>\n",
    "        <li>For strings: \n",
    "            <ul>\n",
    "                <li><b>category</b> (<code>.astype(\"category\")</code>) if possible;</li>\n",
    "                <li><b>string</b> (<code>.astype(\"string\")</code>) otherwise;</li>\n",
    "            </ul>\n",
    "        <li>For integers:\n",
    "            <ul>\n",
    "                <li><b>int64</b> (<code>.astype(\"int\")</code>) if there are no missing values;</li>\n",
    "                <li><b>Int64</b> (<code>.astype(\"Int64\")</code>) otherwise;</li>\n",
    "            </ul>\n",
    "        <li>For floats: <b>float64</b> (<code>.astype(\"float\")</code>)</li>\n",
    "        <li>For dates: <b>datetime64[ns]</b> (<code>.astype(\"datetime64[ns]\")</code>)</li>\n",
    "    </ul>\n",
    "</div>"
   ]
  },
  {
   "cell_type": "markdown",
   "id": "e640dc3a",
   "metadata": {},
   "source": [
    "<div class=\"alert alert-info\">\n",
    "\n",
    "<b>Note:</b> Missing values are represented with either <code>NaN</code>, <code>NaT</code>, or <code>&#60;NA&#62;</code>, depending on the data type of the column.\n",
    "\n",
    "</div>"
   ]
  },
  {
   "cell_type": "markdown",
   "id": "1841d767",
   "metadata": {},
   "source": [
    "## Exercise 2"
   ]
  },
  {
   "cell_type": "code",
   "execution_count": 30,
   "id": "69b7cc31",
   "metadata": {
    "tags": [
     "no-replacement"
    ]
   },
   "outputs": [
    {
     "data": {
      "text/html": [
       "<div>\n",
       "<style scoped>\n",
       "    .dataframe tbody tr th:only-of-type {\n",
       "        vertical-align: middle;\n",
       "    }\n",
       "\n",
       "    .dataframe tbody tr th {\n",
       "        vertical-align: top;\n",
       "    }\n",
       "\n",
       "    .dataframe thead th {\n",
       "        text-align: right;\n",
       "    }\n",
       "</style>\n",
       "<table border=\"1\" class=\"dataframe\">\n",
       "  <thead>\n",
       "    <tr style=\"text-align: right;\">\n",
       "      <th></th>\n",
       "      <th>Date</th>\n",
       "      <th>Open</th>\n",
       "      <th>High</th>\n",
       "      <th>Low</th>\n",
       "      <th>Close</th>\n",
       "      <th>Volume</th>\n",
       "      <th>Adj Close</th>\n",
       "    </tr>\n",
       "  </thead>\n",
       "  <tbody>\n",
       "    <tr>\n",
       "      <th>0</th>\n",
       "      <td>2008-10-14</td>\n",
       "      <td>116.26</td>\n",
       "      <td>116.40</td>\n",
       "      <td>103.14</td>\n",
       "      <td>104.08</td>\n",
       "      <td>70749800</td>\n",
       "      <td>104.08</td>\n",
       "    </tr>\n",
       "    <tr>\n",
       "      <th>1</th>\n",
       "      <td>2008-10-13</td>\n",
       "      <td>104.55</td>\n",
       "      <td>110.53</td>\n",
       "      <td>101.02</td>\n",
       "      <td>110.26</td>\n",
       "      <td>54967000</td>\n",
       "      <td>110.26</td>\n",
       "    </tr>\n",
       "    <tr>\n",
       "      <th>2</th>\n",
       "      <td>2008-10-10</td>\n",
       "      <td>85.70</td>\n",
       "      <td>100.00</td>\n",
       "      <td>85.00</td>\n",
       "      <td>96.80</td>\n",
       "      <td>79260700</td>\n",
       "      <td>96.80</td>\n",
       "    </tr>\n",
       "    <tr>\n",
       "      <th>3</th>\n",
       "      <td>2008-10-09</td>\n",
       "      <td>93.35</td>\n",
       "      <td>95.80</td>\n",
       "      <td>86.60</td>\n",
       "      <td>88.74</td>\n",
       "      <td>57763700</td>\n",
       "      <td>88.74</td>\n",
       "    </tr>\n",
       "    <tr>\n",
       "      <th>4</th>\n",
       "      <td>2008-10-08</td>\n",
       "      <td>85.91</td>\n",
       "      <td>96.33</td>\n",
       "      <td>85.68</td>\n",
       "      <td>89.79</td>\n",
       "      <td>78847900</td>\n",
       "      <td>89.79</td>\n",
       "    </tr>\n",
       "  </tbody>\n",
       "</table>\n",
       "</div>"
      ],
      "text/plain": [
       "         Date    Open    High     Low   Close    Volume  Adj Close\n",
       "0  2008-10-14  116.26  116.40  103.14  104.08  70749800     104.08\n",
       "1  2008-10-13  104.55  110.53  101.02  110.26  54967000     110.26\n",
       "2  2008-10-10   85.70  100.00   85.00   96.80  79260700      96.80\n",
       "3  2008-10-09   93.35   95.80   86.60   88.74  57763700      88.74\n",
       "4  2008-10-08   85.91   96.33   85.68   89.79  78847900      89.79"
      ]
     },
     "execution_count": 30,
     "metadata": {},
     "output_type": "execute_result"
    },
    {
     "data": {
      "application/javascript": [
       "\n",
       "            setTimeout(function() {\n",
       "                var nbb_cell_id = 30;\n",
       "                var nbb_unformatted_code = \"apple.head()\";\n",
       "                var nbb_formatted_code = \"apple.head()\";\n",
       "                var nbb_cells = Jupyter.notebook.get_cells();\n",
       "                for (var i = 0; i < nbb_cells.length; ++i) {\n",
       "                    if (nbb_cells[i].input_prompt_number == nbb_cell_id) {\n",
       "                        if (nbb_cells[i].get_text() == nbb_unformatted_code) {\n",
       "                             nbb_cells[i].set_text(nbb_formatted_code);\n",
       "                        }\n",
       "                        break;\n",
       "                    }\n",
       "                }\n",
       "            }, 500);\n",
       "            "
      ],
      "text/plain": [
       "<IPython.core.display.Javascript object>"
      ]
     },
     "metadata": {},
     "output_type": "display_data"
    }
   ],
   "source": [
    "apple.head()"
   ]
  },
  {
   "cell_type": "markdown",
   "id": "7b05b31a",
   "metadata": {},
   "source": [
    "Check the data types of the `apple` DataFrame:"
   ]
  },
  {
   "cell_type": "code",
   "execution_count": 31,
   "id": "2ed1cfa3",
   "metadata": {},
   "outputs": [
    {
     "data": {
      "text/plain": [
       "Date          object\n",
       "Open         float64\n",
       "High         float64\n",
       "Low          float64\n",
       "Close        float64\n",
       "Volume         int64\n",
       "Adj Close    float64\n",
       "dtype: object"
      ]
     },
     "execution_count": 31,
     "metadata": {},
     "output_type": "execute_result"
    },
    {
     "data": {
      "application/javascript": [
       "\n",
       "            setTimeout(function() {\n",
       "                var nbb_cell_id = 31;\n",
       "                var nbb_unformatted_code = \"apple.dtypes\";\n",
       "                var nbb_formatted_code = \"apple.dtypes\";\n",
       "                var nbb_cells = Jupyter.notebook.get_cells();\n",
       "                for (var i = 0; i < nbb_cells.length; ++i) {\n",
       "                    if (nbb_cells[i].input_prompt_number == nbb_cell_id) {\n",
       "                        if (nbb_cells[i].get_text() == nbb_unformatted_code) {\n",
       "                             nbb_cells[i].set_text(nbb_formatted_code);\n",
       "                        }\n",
       "                        break;\n",
       "                    }\n",
       "                }\n",
       "            }, 500);\n",
       "            "
      ],
      "text/plain": [
       "<IPython.core.display.Javascript object>"
      ]
     },
     "metadata": {},
     "output_type": "display_data"
    }
   ],
   "source": [
    "apple.dtypes"
   ]
  },
  {
   "cell_type": "markdown",
   "id": "0aa93949",
   "metadata": {},
   "source": [
    "Correct the data type of the \"Date\" column:"
   ]
  },
  {
   "cell_type": "code",
   "execution_count": 42,
   "id": "7ac92116",
   "metadata": {},
   "outputs": [
    {
     "data": {
      "application/javascript": [
       "\n",
       "            setTimeout(function() {\n",
       "                var nbb_cell_id = 42;\n",
       "                var nbb_unformatted_code = \"apple.Date = apple.Date.astype(\\\"datetime64[ns]\\\")\";\n",
       "                var nbb_formatted_code = \"apple.Date = apple.Date.astype(\\\"datetime64[ns]\\\")\";\n",
       "                var nbb_cells = Jupyter.notebook.get_cells();\n",
       "                for (var i = 0; i < nbb_cells.length; ++i) {\n",
       "                    if (nbb_cells[i].input_prompt_number == nbb_cell_id) {\n",
       "                        if (nbb_cells[i].get_text() == nbb_unformatted_code) {\n",
       "                             nbb_cells[i].set_text(nbb_formatted_code);\n",
       "                        }\n",
       "                        break;\n",
       "                    }\n",
       "                }\n",
       "            }, 500);\n",
       "            "
      ],
      "text/plain": [
       "<IPython.core.display.Javascript object>"
      ]
     },
     "metadata": {},
     "output_type": "display_data"
    }
   ],
   "source": [
    "apple.Date = apple.Date.astype(\"datetime64[ns]\")"
   ]
  },
  {
   "cell_type": "markdown",
   "id": "8f6fa656",
   "metadata": {},
   "source": [
    "Check the data types of the `apple` DataFrame:"
   ]
  },
  {
   "cell_type": "code",
   "execution_count": 33,
   "id": "a313b9ff",
   "metadata": {},
   "outputs": [
    {
     "data": {
      "text/plain": [
       "Date         datetime64[ns]\n",
       "Open                float64\n",
       "High                float64\n",
       "Low                 float64\n",
       "Close               float64\n",
       "Volume                int64\n",
       "Adj Close           float64\n",
       "dtype: object"
      ]
     },
     "execution_count": 33,
     "metadata": {},
     "output_type": "execute_result"
    },
    {
     "data": {
      "application/javascript": [
       "\n",
       "            setTimeout(function() {\n",
       "                var nbb_cell_id = 33;\n",
       "                var nbb_unformatted_code = \"apple.dtypes\";\n",
       "                var nbb_formatted_code = \"apple.dtypes\";\n",
       "                var nbb_cells = Jupyter.notebook.get_cells();\n",
       "                for (var i = 0; i < nbb_cells.length; ++i) {\n",
       "                    if (nbb_cells[i].input_prompt_number == nbb_cell_id) {\n",
       "                        if (nbb_cells[i].get_text() == nbb_unformatted_code) {\n",
       "                             nbb_cells[i].set_text(nbb_formatted_code);\n",
       "                        }\n",
       "                        break;\n",
       "                    }\n",
       "                }\n",
       "            }, 500);\n",
       "            "
      ],
      "text/plain": [
       "<IPython.core.display.Javascript object>"
      ]
     },
     "metadata": {},
     "output_type": "display_data"
    }
   ],
   "source": [
    "apple.dtypes"
   ]
  },
  {
   "cell_type": "markdown",
   "id": "4f8078fa",
   "metadata": {},
   "source": [
    "## Demo 3: Check the memory saved"
   ]
  },
  {
   "cell_type": "markdown",
   "id": "e005dac3",
   "metadata": {},
   "source": [
    "Save the original memory usage:"
   ]
  },
  {
   "cell_type": "code",
   "execution_count": 34,
   "id": "459d2d81",
   "metadata": {},
   "outputs": [
    {
     "data": {
      "application/javascript": [
       "\n",
       "            setTimeout(function() {\n",
       "                var nbb_cell_id = 34;\n",
       "                var nbb_unformatted_code = \"memory_kb_original = memory_kb\\nmemory_mb_original = memory_mb\";\n",
       "                var nbb_formatted_code = \"memory_kb_original = memory_kb\\nmemory_mb_original = memory_mb\";\n",
       "                var nbb_cells = Jupyter.notebook.get_cells();\n",
       "                for (var i = 0; i < nbb_cells.length; ++i) {\n",
       "                    if (nbb_cells[i].input_prompt_number == nbb_cell_id) {\n",
       "                        if (nbb_cells[i].get_text() == nbb_unformatted_code) {\n",
       "                             nbb_cells[i].set_text(nbb_formatted_code);\n",
       "                        }\n",
       "                        break;\n",
       "                    }\n",
       "                }\n",
       "            }, 500);\n",
       "            "
      ],
      "text/plain": [
       "<IPython.core.display.Javascript object>"
      ]
     },
     "metadata": {},
     "output_type": "display_data"
    }
   ],
   "source": [
    "memory_kb_original = memory_kb\n",
    "memory_mb_original = memory_mb"
   ]
  },
  {
   "cell_type": "markdown",
   "id": "d3150a11",
   "metadata": {},
   "source": [
    "Check the memory usage of a DataFrame:"
   ]
  },
  {
   "cell_type": "code",
   "execution_count": 35,
   "id": "f55b8e25",
   "metadata": {},
   "outputs": [
    {
     "name": "stdout",
     "output_type": "stream",
     "text": [
      "Memory used: 2.2 kB\n"
     ]
    },
    {
     "data": {
      "application/javascript": [
       "\n",
       "            setTimeout(function() {\n",
       "                var nbb_cell_id = 35;\n",
       "                var nbb_unformatted_code = \"memory_kb = df.memory_usage(deep=True).sum() / (1024 ** 1)\\nprint(f\\\"Memory used: {memory_kb:.1f} kB\\\")\";\n",
       "                var nbb_formatted_code = \"memory_kb = df.memory_usage(deep=True).sum() / (1024 ** 1)\\nprint(f\\\"Memory used: {memory_kb:.1f} kB\\\")\";\n",
       "                var nbb_cells = Jupyter.notebook.get_cells();\n",
       "                for (var i = 0; i < nbb_cells.length; ++i) {\n",
       "                    if (nbb_cells[i].input_prompt_number == nbb_cell_id) {\n",
       "                        if (nbb_cells[i].get_text() == nbb_unformatted_code) {\n",
       "                             nbb_cells[i].set_text(nbb_formatted_code);\n",
       "                        }\n",
       "                        break;\n",
       "                    }\n",
       "                }\n",
       "            }, 500);\n",
       "            "
      ],
      "text/plain": [
       "<IPython.core.display.Javascript object>"
      ]
     },
     "metadata": {},
     "output_type": "display_data"
    }
   ],
   "source": [
    "memory_kb = df.memory_usage(deep=True).sum() / (1024 ** 1)\n",
    "print(f\"Memory used: {memory_kb:.1f} kB\")"
   ]
  },
  {
   "cell_type": "code",
   "execution_count": 36,
   "id": "62c0ffdc",
   "metadata": {},
   "outputs": [
    {
     "name": "stdout",
     "output_type": "stream",
     "text": [
      "Memory used: 0.0 MB\n"
     ]
    },
    {
     "data": {
      "application/javascript": [
       "\n",
       "            setTimeout(function() {\n",
       "                var nbb_cell_id = 36;\n",
       "                var nbb_unformatted_code = \"memory_mb = df.memory_usage(deep=True).sum() / (1024 ** 2)\\nprint(f\\\"Memory used: {memory_mb:.1f} MB\\\")\";\n",
       "                var nbb_formatted_code = \"memory_mb = df.memory_usage(deep=True).sum() / (1024 ** 2)\\nprint(f\\\"Memory used: {memory_mb:.1f} MB\\\")\";\n",
       "                var nbb_cells = Jupyter.notebook.get_cells();\n",
       "                for (var i = 0; i < nbb_cells.length; ++i) {\n",
       "                    if (nbb_cells[i].input_prompt_number == nbb_cell_id) {\n",
       "                        if (nbb_cells[i].get_text() == nbb_unformatted_code) {\n",
       "                             nbb_cells[i].set_text(nbb_formatted_code);\n",
       "                        }\n",
       "                        break;\n",
       "                    }\n",
       "                }\n",
       "            }, 500);\n",
       "            "
      ],
      "text/plain": [
       "<IPython.core.display.Javascript object>"
      ]
     },
     "metadata": {},
     "output_type": "display_data"
    }
   ],
   "source": [
    "memory_mb = df.memory_usage(deep=True).sum() / (1024 ** 2)\n",
    "print(f\"Memory used: {memory_mb:.1f} MB\")"
   ]
  },
  {
   "cell_type": "markdown",
   "id": "18d906b0",
   "metadata": {},
   "source": [
    "Calculate the memory saved:"
   ]
  },
  {
   "cell_type": "code",
   "execution_count": 37,
   "id": "05e4c9ea",
   "metadata": {},
   "outputs": [
    {
     "name": "stdout",
     "output_type": "stream",
     "text": [
      "The memory was reduced by a factor of 317.5\n"
     ]
    },
    {
     "data": {
      "application/javascript": [
       "\n",
       "            setTimeout(function() {\n",
       "                var nbb_cell_id = 37;\n",
       "                var nbb_unformatted_code = \"print(f\\\"The memory was reduced by a factor of {memory_kb_original / memory_kb:.1f}\\\")\";\n",
       "                var nbb_formatted_code = \"print(f\\\"The memory was reduced by a factor of {memory_kb_original / memory_kb:.1f}\\\")\";\n",
       "                var nbb_cells = Jupyter.notebook.get_cells();\n",
       "                for (var i = 0; i < nbb_cells.length; ++i) {\n",
       "                    if (nbb_cells[i].input_prompt_number == nbb_cell_id) {\n",
       "                        if (nbb_cells[i].get_text() == nbb_unformatted_code) {\n",
       "                             nbb_cells[i].set_text(nbb_formatted_code);\n",
       "                        }\n",
       "                        break;\n",
       "                    }\n",
       "                }\n",
       "            }, 500);\n",
       "            "
      ],
      "text/plain": [
       "<IPython.core.display.Javascript object>"
      ]
     },
     "metadata": {},
     "output_type": "display_data"
    }
   ],
   "source": [
    "print(f\"The memory was reduced by a factor of {memory_kb_original / memory_kb:.1f}\")"
   ]
  },
  {
   "cell_type": "code",
   "execution_count": 38,
   "id": "c48cae7d",
   "metadata": {},
   "outputs": [
    {
     "name": "stdout",
     "output_type": "stream",
     "text": [
      "The memory was reduced by a factor of 317.5\n"
     ]
    },
    {
     "data": {
      "application/javascript": [
       "\n",
       "            setTimeout(function() {\n",
       "                var nbb_cell_id = 38;\n",
       "                var nbb_unformatted_code = \"print(f\\\"The memory was reduced by a factor of {memory_mb_original / memory_mb:.1f}\\\")\";\n",
       "                var nbb_formatted_code = \"print(f\\\"The memory was reduced by a factor of {memory_mb_original / memory_mb:.1f}\\\")\";\n",
       "                var nbb_cells = Jupyter.notebook.get_cells();\n",
       "                for (var i = 0; i < nbb_cells.length; ++i) {\n",
       "                    if (nbb_cells[i].input_prompt_number == nbb_cell_id) {\n",
       "                        if (nbb_cells[i].get_text() == nbb_unformatted_code) {\n",
       "                             nbb_cells[i].set_text(nbb_formatted_code);\n",
       "                        }\n",
       "                        break;\n",
       "                    }\n",
       "                }\n",
       "            }, 500);\n",
       "            "
      ],
      "text/plain": [
       "<IPython.core.display.Javascript object>"
      ]
     },
     "metadata": {},
     "output_type": "display_data"
    }
   ],
   "source": [
    "print(f\"The memory was reduced by a factor of {memory_mb_original / memory_mb:.1f}\")"
   ]
  },
  {
   "cell_type": "markdown",
   "id": "2c9a2bb4",
   "metadata": {},
   "source": [
    "<div class=\"alert alert-info\">\n",
    "\n",
    "<b>Note:</b> The memory usage should be <b>at most 10% of the available RAM</b> for <code>pandas</code> to remain fast.\n",
    "\n",
    "</div>"
   ]
  },
  {
   "cell_type": "markdown",
   "id": "5421fd51",
   "metadata": {},
   "source": [
    "## Exercise 3"
   ]
  },
  {
   "cell_type": "code",
   "execution_count": null,
   "id": "9ec8a18f",
   "metadata": {
    "tags": [
     "no-replacement"
    ]
   },
   "outputs": [],
   "source": [
    "apple.head()"
   ]
  },
  {
   "cell_type": "markdown",
   "id": "9c1ee0e2",
   "metadata": {},
   "source": [
    "Save the original memory usage:"
   ]
  },
  {
   "cell_type": "code",
   "execution_count": 41,
   "id": "055a1f0f",
   "metadata": {},
   "outputs": [
    {
     "data": {
      "application/javascript": [
       "\n",
       "            setTimeout(function() {\n",
       "                var nbb_cell_id = 41;\n",
       "                var nbb_unformatted_code = \"memory_kb_original = memory_kb\\nmemory_mb_original = memory_mb\";\n",
       "                var nbb_formatted_code = \"memory_kb_original = memory_kb\\nmemory_mb_original = memory_mb\";\n",
       "                var nbb_cells = Jupyter.notebook.get_cells();\n",
       "                for (var i = 0; i < nbb_cells.length; ++i) {\n",
       "                    if (nbb_cells[i].input_prompt_number == nbb_cell_id) {\n",
       "                        if (nbb_cells[i].get_text() == nbb_unformatted_code) {\n",
       "                             nbb_cells[i].set_text(nbb_formatted_code);\n",
       "                        }\n",
       "                        break;\n",
       "                    }\n",
       "                }\n",
       "            }, 500);\n",
       "            "
      ],
      "text/plain": [
       "<IPython.core.display.Javascript object>"
      ]
     },
     "metadata": {},
     "output_type": "display_data"
    }
   ],
   "source": [
    "memory_kb_original = memory_kb\n",
    "memory_mb_original = memory_mb"
   ]
  },
  {
   "cell_type": "markdown",
   "id": "bee8fcb7",
   "metadata": {},
   "source": [
    "Check the memory usage of a DataFrame:"
   ]
  },
  {
   "cell_type": "code",
   "execution_count": 46,
   "id": "4288462b",
   "metadata": {},
   "outputs": [
    {
     "name": "stdout",
     "output_type": "stream",
     "text": [
      "Memory used: 332.7 kB\n",
      "Memory used: 0.3 MB\n"
     ]
    },
    {
     "data": {
      "application/javascript": [
       "\n",
       "            setTimeout(function() {\n",
       "                var nbb_cell_id = 46;\n",
       "                var nbb_unformatted_code = \"memory_kb = apple.memory_usage(deep=True).sum() / (1024 ** 1)\\nprint(f\\\"Memory used: {memory_kb:.1f} kB\\\")\\nmemory_mb = apple.memory_usage(deep=True).sum() / (1024 ** 2)\\nprint(f\\\"Memory used: {memory_mb:.1f} MB\\\")\";\n",
       "                var nbb_formatted_code = \"memory_kb = apple.memory_usage(deep=True).sum() / (1024 ** 1)\\nprint(f\\\"Memory used: {memory_kb:.1f} kB\\\")\\nmemory_mb = apple.memory_usage(deep=True).sum() / (1024 ** 2)\\nprint(f\\\"Memory used: {memory_mb:.1f} MB\\\")\";\n",
       "                var nbb_cells = Jupyter.notebook.get_cells();\n",
       "                for (var i = 0; i < nbb_cells.length; ++i) {\n",
       "                    if (nbb_cells[i].input_prompt_number == nbb_cell_id) {\n",
       "                        if (nbb_cells[i].get_text() == nbb_unformatted_code) {\n",
       "                             nbb_cells[i].set_text(nbb_formatted_code);\n",
       "                        }\n",
       "                        break;\n",
       "                    }\n",
       "                }\n",
       "            }, 500);\n",
       "            "
      ],
      "text/plain": [
       "<IPython.core.display.Javascript object>"
      ]
     },
     "metadata": {},
     "output_type": "display_data"
    }
   ],
   "source": [
    "memory_kb = apple.memory_usage(deep=True).sum() / (1024 ** 1)\n",
    "print(f\"Memory used: {memory_kb:.1f} kB\")\n",
    "memory_mb = apple.memory_usage(deep=True).sum() / (1024 ** 2)\n",
    "print(f\"Memory used: {memory_mb:.1f} MB\")"
   ]
  },
  {
   "cell_type": "markdown",
   "id": "9f48c859",
   "metadata": {},
   "source": [
    "Calculate the memory saved:"
   ]
  },
  {
   "cell_type": "code",
   "execution_count": 47,
   "id": "54f32020",
   "metadata": {},
   "outputs": [
    {
     "name": "stdout",
     "output_type": "stream",
     "text": [
      "The memory was reduced by a factor of 2.1\n"
     ]
    },
    {
     "data": {
      "application/javascript": [
       "\n",
       "            setTimeout(function() {\n",
       "                var nbb_cell_id = 47;\n",
       "                var nbb_unformatted_code = \"print(f\\\"The memory was reduced by a factor of {memory_kb_original / memory_kb:.1f}\\\")\";\n",
       "                var nbb_formatted_code = \"print(f\\\"The memory was reduced by a factor of {memory_kb_original / memory_kb:.1f}\\\")\";\n",
       "                var nbb_cells = Jupyter.notebook.get_cells();\n",
       "                for (var i = 0; i < nbb_cells.length; ++i) {\n",
       "                    if (nbb_cells[i].input_prompt_number == nbb_cell_id) {\n",
       "                        if (nbb_cells[i].get_text() == nbb_unformatted_code) {\n",
       "                             nbb_cells[i].set_text(nbb_formatted_code);\n",
       "                        }\n",
       "                        break;\n",
       "                    }\n",
       "                }\n",
       "            }, 500);\n",
       "            "
      ],
      "text/plain": [
       "<IPython.core.display.Javascript object>"
      ]
     },
     "metadata": {},
     "output_type": "display_data"
    }
   ],
   "source": [
    "print(f\"The memory was reduced by a factor of {memory_kb_original / memory_kb:.1f}\")"
   ]
  },
  {
   "cell_type": "code",
   "execution_count": 48,
   "id": "cf70b811",
   "metadata": {},
   "outputs": [
    {
     "name": "stdout",
     "output_type": "stream",
     "text": [
      "The memory was reduced by a factor of 2.1\n"
     ]
    },
    {
     "data": {
      "application/javascript": [
       "\n",
       "            setTimeout(function() {\n",
       "                var nbb_cell_id = 48;\n",
       "                var nbb_unformatted_code = \"print(f\\\"The memory was reduced by a factor of {memory_mb_original / memory_mb:.1f}\\\")\";\n",
       "                var nbb_formatted_code = \"print(f\\\"The memory was reduced by a factor of {memory_mb_original / memory_mb:.1f}\\\")\";\n",
       "                var nbb_cells = Jupyter.notebook.get_cells();\n",
       "                for (var i = 0; i < nbb_cells.length; ++i) {\n",
       "                    if (nbb_cells[i].input_prompt_number == nbb_cell_id) {\n",
       "                        if (nbb_cells[i].get_text() == nbb_unformatted_code) {\n",
       "                             nbb_cells[i].set_text(nbb_formatted_code);\n",
       "                        }\n",
       "                        break;\n",
       "                    }\n",
       "                }\n",
       "            }, 500);\n",
       "            "
      ],
      "text/plain": [
       "<IPython.core.display.Javascript object>"
      ]
     },
     "metadata": {},
     "output_type": "display_data"
    }
   ],
   "source": [
    "print(f\"The memory was reduced by a factor of {memory_mb_original / memory_mb:.1f}\")"
   ]
  },
  {
   "cell_type": "markdown",
   "id": "93b54557",
   "metadata": {},
   "source": [
    "## Demo 4: `.str` accessor"
   ]
  },
  {
   "cell_type": "code",
   "execution_count": 52,
   "id": "553e77d6",
   "metadata": {},
   "outputs": [
    {
     "data": {
      "application/javascript": [
       "\n",
       "            setTimeout(function() {\n",
       "                var nbb_cell_id = 52;\n",
       "                var nbb_unformatted_code = \"name = \\\"Bea\\\"\";\n",
       "                var nbb_formatted_code = \"name = \\\"Bea\\\"\";\n",
       "                var nbb_cells = Jupyter.notebook.get_cells();\n",
       "                for (var i = 0; i < nbb_cells.length; ++i) {\n",
       "                    if (nbb_cells[i].input_prompt_number == nbb_cell_id) {\n",
       "                        if (nbb_cells[i].get_text() == nbb_unformatted_code) {\n",
       "                             nbb_cells[i].set_text(nbb_formatted_code);\n",
       "                        }\n",
       "                        break;\n",
       "                    }\n",
       "                }\n",
       "            }, 500);\n",
       "            "
      ],
      "text/plain": [
       "<IPython.core.display.Javascript object>"
      ]
     },
     "metadata": {},
     "output_type": "display_data"
    }
   ],
   "source": [
    "name = \"Bea\""
   ]
  },
  {
   "cell_type": "code",
   "execution_count": 53,
   "id": "ff283fbf",
   "metadata": {},
   "outputs": [
    {
     "data": {
      "text/plain": [
       "'bea'"
      ]
     },
     "execution_count": 53,
     "metadata": {},
     "output_type": "execute_result"
    },
    {
     "data": {
      "application/javascript": [
       "\n",
       "            setTimeout(function() {\n",
       "                var nbb_cell_id = 53;\n",
       "                var nbb_unformatted_code = \"name.lower()\";\n",
       "                var nbb_formatted_code = \"name.lower()\";\n",
       "                var nbb_cells = Jupyter.notebook.get_cells();\n",
       "                for (var i = 0; i < nbb_cells.length; ++i) {\n",
       "                    if (nbb_cells[i].input_prompt_number == nbb_cell_id) {\n",
       "                        if (nbb_cells[i].get_text() == nbb_unformatted_code) {\n",
       "                             nbb_cells[i].set_text(nbb_formatted_code);\n",
       "                        }\n",
       "                        break;\n",
       "                    }\n",
       "                }\n",
       "            }, 500);\n",
       "            "
      ],
      "text/plain": [
       "<IPython.core.display.Javascript object>"
      ]
     },
     "metadata": {},
     "output_type": "display_data"
    }
   ],
   "source": [
    "name.lower()"
   ]
  },
  {
   "cell_type": "code",
   "execution_count": 54,
   "id": "943da551",
   "metadata": {},
   "outputs": [
    {
     "data": {
      "text/html": [
       "<div>\n",
       "<style scoped>\n",
       "    .dataframe tbody tr th:only-of-type {\n",
       "        vertical-align: middle;\n",
       "    }\n",
       "\n",
       "    .dataframe tbody tr th {\n",
       "        vertical-align: top;\n",
       "    }\n",
       "\n",
       "    .dataframe thead th {\n",
       "        text-align: right;\n",
       "    }\n",
       "</style>\n",
       "<table border=\"1\" class=\"dataframe\">\n",
       "  <thead>\n",
       "    <tr style=\"text-align: right;\">\n",
       "      <th></th>\n",
       "      <th>Capital</th>\n",
       "      <th>Population</th>\n",
       "      <th>Monarch</th>\n",
       "      <th>Area</th>\n",
       "      <th>Currency</th>\n",
       "      <th>Formation</th>\n",
       "      <th>Density</th>\n",
       "    </tr>\n",
       "  </thead>\n",
       "  <tbody>\n",
       "    <tr>\n",
       "      <th>Spain</th>\n",
       "      <td>Madrid</td>\n",
       "      <td>46733038</td>\n",
       "      <td>Felipe VI</td>\n",
       "      <td>505990</td>\n",
       "      <td>EUR</td>\n",
       "      <td>1715-06-09</td>\n",
       "      <td>92.359608</td>\n",
       "    </tr>\n",
       "    <tr>\n",
       "      <th>Belgium</th>\n",
       "      <td>Brussels</td>\n",
       "      <td>11449656</td>\n",
       "      <td>Philippe</td>\n",
       "      <td>30688</td>\n",
       "      <td>EUR</td>\n",
       "      <td>1830-10-04</td>\n",
       "      <td>373.098801</td>\n",
       "    </tr>\n",
       "    <tr>\n",
       "      <th>France</th>\n",
       "      <td>Paris</td>\n",
       "      <td>67076000</td>\n",
       "      <td>&lt;NA&gt;</td>\n",
       "      <td>640679</td>\n",
       "      <td>EUR</td>\n",
       "      <td>1792-09-22</td>\n",
       "      <td>104.695175</td>\n",
       "    </tr>\n",
       "    <tr>\n",
       "      <th>Italy</th>\n",
       "      <td>Roma</td>\n",
       "      <td>60390560</td>\n",
       "      <td>&lt;NA&gt;</td>\n",
       "      <td>301340</td>\n",
       "      <td>EUR</td>\n",
       "      <td>NaT</td>\n",
       "      <td>200.406717</td>\n",
       "    </tr>\n",
       "    <tr>\n",
       "      <th>Germany</th>\n",
       "      <td>Berlin</td>\n",
       "      <td>83122889</td>\n",
       "      <td>&lt;NA&gt;</td>\n",
       "      <td>&lt;NA&gt;</td>\n",
       "      <td>EUR</td>\n",
       "      <td>NaT</td>\n",
       "      <td>NaN</td>\n",
       "    </tr>\n",
       "    <tr>\n",
       "      <th>Portugal</th>\n",
       "      <td>Lisbon</td>\n",
       "      <td>10295909</td>\n",
       "      <td>&lt;NA&gt;</td>\n",
       "      <td>92212</td>\n",
       "      <td>NaN</td>\n",
       "      <td>NaT</td>\n",
       "      <td>111.654763</td>\n",
       "    </tr>\n",
       "    <tr>\n",
       "      <th>Norway</th>\n",
       "      <td>Oslo</td>\n",
       "      <td>5391369</td>\n",
       "      <td>Harald V</td>\n",
       "      <td>385207</td>\n",
       "      <td>NOK</td>\n",
       "      <td>NaT</td>\n",
       "      <td>13.996031</td>\n",
       "    </tr>\n",
       "    <tr>\n",
       "      <th>Greece</th>\n",
       "      <td>Athens</td>\n",
       "      <td>10718565</td>\n",
       "      <td>&lt;NA&gt;</td>\n",
       "      <td>131957</td>\n",
       "      <td>EUR</td>\n",
       "      <td>NaT</td>\n",
       "      <td>81.227711</td>\n",
       "    </tr>\n",
       "  </tbody>\n",
       "</table>\n",
       "</div>"
      ],
      "text/plain": [
       "           Capital  Population    Monarch    Area Currency  Formation  \\\n",
       "Spain       Madrid    46733038  Felipe VI  505990      EUR 1715-06-09   \n",
       "Belgium   Brussels    11449656   Philippe   30688      EUR 1830-10-04   \n",
       "France       Paris    67076000       <NA>  640679      EUR 1792-09-22   \n",
       "Italy         Roma    60390560       <NA>  301340      EUR        NaT   \n",
       "Germany     Berlin    83122889       <NA>    <NA>      EUR        NaT   \n",
       "Portugal    Lisbon    10295909       <NA>   92212      NaN        NaT   \n",
       "Norway        Oslo     5391369   Harald V  385207      NOK        NaT   \n",
       "Greece      Athens    10718565       <NA>  131957      EUR        NaT   \n",
       "\n",
       "             Density  \n",
       "Spain      92.359608  \n",
       "Belgium   373.098801  \n",
       "France    104.695175  \n",
       "Italy     200.406717  \n",
       "Germany          NaN  \n",
       "Portugal  111.654763  \n",
       "Norway     13.996031  \n",
       "Greece     81.227711  "
      ]
     },
     "execution_count": 54,
     "metadata": {},
     "output_type": "execute_result"
    },
    {
     "data": {
      "application/javascript": [
       "\n",
       "            setTimeout(function() {\n",
       "                var nbb_cell_id = 54;\n",
       "                var nbb_unformatted_code = \"df\";\n",
       "                var nbb_formatted_code = \"df\";\n",
       "                var nbb_cells = Jupyter.notebook.get_cells();\n",
       "                for (var i = 0; i < nbb_cells.length; ++i) {\n",
       "                    if (nbb_cells[i].input_prompt_number == nbb_cell_id) {\n",
       "                        if (nbb_cells[i].get_text() == nbb_unformatted_code) {\n",
       "                             nbb_cells[i].set_text(nbb_formatted_code);\n",
       "                        }\n",
       "                        break;\n",
       "                    }\n",
       "                }\n",
       "            }, 500);\n",
       "            "
      ],
      "text/plain": [
       "<IPython.core.display.Javascript object>"
      ]
     },
     "metadata": {},
     "output_type": "display_data"
    }
   ],
   "source": [
    "df"
   ]
  },
  {
   "cell_type": "markdown",
   "id": "a8c70b33",
   "metadata": {},
   "source": [
    "Check the data types:"
   ]
  },
  {
   "cell_type": "code",
   "execution_count": 55,
   "id": "a013334f",
   "metadata": {},
   "outputs": [
    {
     "data": {
      "text/plain": [
       "Capital               string\n",
       "Population             int64\n",
       "Monarch               string\n",
       "Area                   Int64\n",
       "Currency            category\n",
       "Formation     datetime64[ns]\n",
       "Density              float64\n",
       "dtype: object"
      ]
     },
     "execution_count": 55,
     "metadata": {},
     "output_type": "execute_result"
    },
    {
     "data": {
      "application/javascript": [
       "\n",
       "            setTimeout(function() {\n",
       "                var nbb_cell_id = 55;\n",
       "                var nbb_unformatted_code = \"df.dtypes\";\n",
       "                var nbb_formatted_code = \"df.dtypes\";\n",
       "                var nbb_cells = Jupyter.notebook.get_cells();\n",
       "                for (var i = 0; i < nbb_cells.length; ++i) {\n",
       "                    if (nbb_cells[i].input_prompt_number == nbb_cell_id) {\n",
       "                        if (nbb_cells[i].get_text() == nbb_unformatted_code) {\n",
       "                             nbb_cells[i].set_text(nbb_formatted_code);\n",
       "                        }\n",
       "                        break;\n",
       "                    }\n",
       "                }\n",
       "            }, 500);\n",
       "            "
      ],
      "text/plain": [
       "<IPython.core.display.Javascript object>"
      ]
     },
     "metadata": {},
     "output_type": "display_data"
    }
   ],
   "source": [
    "df.dtypes"
   ]
  },
  {
   "cell_type": "markdown",
   "id": "c2f5e09f",
   "metadata": {},
   "source": [
    "Modify a string column thanks to the `.str` accessor:"
   ]
  },
  {
   "cell_type": "code",
   "execution_count": 61,
   "id": "b6e8a62e",
   "metadata": {},
   "outputs": [
    {
     "data": {
      "text/plain": [
       "Spain         Madrid\n",
       "Belgium     Brussels\n",
       "France         Paris\n",
       "Italy           Roma\n",
       "Germany       Berlin\n",
       "Portugal      Lisbon\n",
       "Norway          Oslo\n",
       "Greece        Athens\n",
       "Name: Capital, dtype: object"
      ]
     },
     "execution_count": 61,
     "metadata": {},
     "output_type": "execute_result"
    },
    {
     "data": {
      "application/javascript": [
       "\n",
       "            setTimeout(function() {\n",
       "                var nbb_cell_id = 61;\n",
       "                var nbb_unformatted_code = \"df[\\\"Capital\\\"]\";\n",
       "                var nbb_formatted_code = \"df[\\\"Capital\\\"]\";\n",
       "                var nbb_cells = Jupyter.notebook.get_cells();\n",
       "                for (var i = 0; i < nbb_cells.length; ++i) {\n",
       "                    if (nbb_cells[i].input_prompt_number == nbb_cell_id) {\n",
       "                        if (nbb_cells[i].get_text() == nbb_unformatted_code) {\n",
       "                             nbb_cells[i].set_text(nbb_formatted_code);\n",
       "                        }\n",
       "                        break;\n",
       "                    }\n",
       "                }\n",
       "            }, 500);\n",
       "            "
      ],
      "text/plain": [
       "<IPython.core.display.Javascript object>"
      ]
     },
     "metadata": {},
     "output_type": "display_data"
    }
   ],
   "source": [
    "df[\"Capital\"]"
   ]
  },
  {
   "cell_type": "code",
   "execution_count": 62,
   "id": "41665c09",
   "metadata": {},
   "outputs": [
    {
     "data": {
      "text/plain": [
       "<pandas.core.strings.accessor.StringMethods at 0x26827e07580>"
      ]
     },
     "execution_count": 62,
     "metadata": {},
     "output_type": "execute_result"
    },
    {
     "data": {
      "application/javascript": [
       "\n",
       "            setTimeout(function() {\n",
       "                var nbb_cell_id = 62;\n",
       "                var nbb_unformatted_code = \"df[\\\"Capital\\\"].str\";\n",
       "                var nbb_formatted_code = \"df[\\\"Capital\\\"].str\";\n",
       "                var nbb_cells = Jupyter.notebook.get_cells();\n",
       "                for (var i = 0; i < nbb_cells.length; ++i) {\n",
       "                    if (nbb_cells[i].input_prompt_number == nbb_cell_id) {\n",
       "                        if (nbb_cells[i].get_text() == nbb_unformatted_code) {\n",
       "                             nbb_cells[i].set_text(nbb_formatted_code);\n",
       "                        }\n",
       "                        break;\n",
       "                    }\n",
       "                }\n",
       "            }, 500);\n",
       "            "
      ],
      "text/plain": [
       "<IPython.core.display.Javascript object>"
      ]
     },
     "metadata": {},
     "output_type": "display_data"
    }
   ],
   "source": [
    "df[\"Capital\"].str"
   ]
  },
  {
   "cell_type": "code",
   "execution_count": 63,
   "id": "674f4245",
   "metadata": {},
   "outputs": [
    {
     "data": {
      "text/plain": [
       "Spain         MADRID\n",
       "Belgium     BRUSSELS\n",
       "France         PARIS\n",
       "Italy           ROMA\n",
       "Germany       BERLIN\n",
       "Portugal      LISBON\n",
       "Norway          OSLO\n",
       "Greece        ATHENS\n",
       "Name: Capital, dtype: object"
      ]
     },
     "execution_count": 63,
     "metadata": {},
     "output_type": "execute_result"
    },
    {
     "data": {
      "application/javascript": [
       "\n",
       "            setTimeout(function() {\n",
       "                var nbb_cell_id = 63;\n",
       "                var nbb_unformatted_code = \"df[\\\"Capital\\\"].str.upper()\";\n",
       "                var nbb_formatted_code = \"df[\\\"Capital\\\"].str.upper()\";\n",
       "                var nbb_cells = Jupyter.notebook.get_cells();\n",
       "                for (var i = 0; i < nbb_cells.length; ++i) {\n",
       "                    if (nbb_cells[i].input_prompt_number == nbb_cell_id) {\n",
       "                        if (nbb_cells[i].get_text() == nbb_unformatted_code) {\n",
       "                             nbb_cells[i].set_text(nbb_formatted_code);\n",
       "                        }\n",
       "                        break;\n",
       "                    }\n",
       "                }\n",
       "            }, 500);\n",
       "            "
      ],
      "text/plain": [
       "<IPython.core.display.Javascript object>"
      ]
     },
     "metadata": {},
     "output_type": "display_data"
    }
   ],
   "source": [
    "df[\"Capital\"].str.upper()"
   ]
  },
  {
   "cell_type": "markdown",
   "id": "9ec72b12",
   "metadata": {},
   "source": [
    "## Exercise 4"
   ]
  },
  {
   "cell_type": "code",
   "execution_count": 65,
   "id": "d6995fca",
   "metadata": {
    "tags": [
     "no-replacement"
    ]
   },
   "outputs": [
    {
     "data": {
      "text/html": [
       "<div>\n",
       "<style scoped>\n",
       "    .dataframe tbody tr th:only-of-type {\n",
       "        vertical-align: middle;\n",
       "    }\n",
       "\n",
       "    .dataframe tbody tr th {\n",
       "        vertical-align: top;\n",
       "    }\n",
       "\n",
       "    .dataframe thead th {\n",
       "        text-align: right;\n",
       "    }\n",
       "</style>\n",
       "<table border=\"1\" class=\"dataframe\">\n",
       "  <thead>\n",
       "    <tr style=\"text-align: right;\">\n",
       "      <th></th>\n",
       "      <th>Date</th>\n",
       "      <th>Open</th>\n",
       "      <th>High</th>\n",
       "      <th>Low</th>\n",
       "      <th>Close</th>\n",
       "      <th>Volume</th>\n",
       "      <th>Adj Close</th>\n",
       "    </tr>\n",
       "  </thead>\n",
       "  <tbody>\n",
       "    <tr>\n",
       "      <th>0</th>\n",
       "      <td>2008-10-14</td>\n",
       "      <td>116.26</td>\n",
       "      <td>116.40</td>\n",
       "      <td>103.14</td>\n",
       "      <td>104.08</td>\n",
       "      <td>70749800</td>\n",
       "      <td>104.08</td>\n",
       "    </tr>\n",
       "    <tr>\n",
       "      <th>1</th>\n",
       "      <td>2008-10-13</td>\n",
       "      <td>104.55</td>\n",
       "      <td>110.53</td>\n",
       "      <td>101.02</td>\n",
       "      <td>110.26</td>\n",
       "      <td>54967000</td>\n",
       "      <td>110.26</td>\n",
       "    </tr>\n",
       "    <tr>\n",
       "      <th>2</th>\n",
       "      <td>2008-10-10</td>\n",
       "      <td>85.70</td>\n",
       "      <td>100.00</td>\n",
       "      <td>85.00</td>\n",
       "      <td>96.80</td>\n",
       "      <td>79260700</td>\n",
       "      <td>96.80</td>\n",
       "    </tr>\n",
       "    <tr>\n",
       "      <th>3</th>\n",
       "      <td>2008-10-09</td>\n",
       "      <td>93.35</td>\n",
       "      <td>95.80</td>\n",
       "      <td>86.60</td>\n",
       "      <td>88.74</td>\n",
       "      <td>57763700</td>\n",
       "      <td>88.74</td>\n",
       "    </tr>\n",
       "    <tr>\n",
       "      <th>4</th>\n",
       "      <td>2008-10-08</td>\n",
       "      <td>85.91</td>\n",
       "      <td>96.33</td>\n",
       "      <td>85.68</td>\n",
       "      <td>89.79</td>\n",
       "      <td>78847900</td>\n",
       "      <td>89.79</td>\n",
       "    </tr>\n",
       "  </tbody>\n",
       "</table>\n",
       "</div>"
      ],
      "text/plain": [
       "        Date    Open    High     Low   Close    Volume  Adj Close\n",
       "0 2008-10-14  116.26  116.40  103.14  104.08  70749800     104.08\n",
       "1 2008-10-13  104.55  110.53  101.02  110.26  54967000     110.26\n",
       "2 2008-10-10   85.70  100.00   85.00   96.80  79260700      96.80\n",
       "3 2008-10-09   93.35   95.80   86.60   88.74  57763700      88.74\n",
       "4 2008-10-08   85.91   96.33   85.68   89.79  78847900      89.79"
      ]
     },
     "execution_count": 65,
     "metadata": {},
     "output_type": "execute_result"
    },
    {
     "data": {
      "application/javascript": [
       "\n",
       "            setTimeout(function() {\n",
       "                var nbb_cell_id = 65;\n",
       "                var nbb_unformatted_code = \"apple.head()\";\n",
       "                var nbb_formatted_code = \"apple.head()\";\n",
       "                var nbb_cells = Jupyter.notebook.get_cells();\n",
       "                for (var i = 0; i < nbb_cells.length; ++i) {\n",
       "                    if (nbb_cells[i].input_prompt_number == nbb_cell_id) {\n",
       "                        if (nbb_cells[i].get_text() == nbb_unformatted_code) {\n",
       "                             nbb_cells[i].set_text(nbb_formatted_code);\n",
       "                        }\n",
       "                        break;\n",
       "                    }\n",
       "                }\n",
       "            }, 500);\n",
       "            "
      ],
      "text/plain": [
       "<IPython.core.display.Javascript object>"
      ]
     },
     "metadata": {},
     "output_type": "display_data"
    }
   ],
   "source": [
    "apple.head()"
   ]
  },
  {
   "cell_type": "markdown",
   "id": "b761e7e8",
   "metadata": {},
   "source": [
    "Check the data types:"
   ]
  },
  {
   "cell_type": "code",
   "execution_count": 66,
   "id": "e1a073be",
   "metadata": {},
   "outputs": [
    {
     "data": {
      "text/plain": [
       "Date         datetime64[ns]\n",
       "Open                float64\n",
       "High                float64\n",
       "Low                 float64\n",
       "Close               float64\n",
       "Volume                int64\n",
       "Adj Close           float64\n",
       "dtype: object"
      ]
     },
     "execution_count": 66,
     "metadata": {},
     "output_type": "execute_result"
    },
    {
     "data": {
      "application/javascript": [
       "\n",
       "            setTimeout(function() {\n",
       "                var nbb_cell_id = 66;\n",
       "                var nbb_unformatted_code = \"apple.dtypes\";\n",
       "                var nbb_formatted_code = \"apple.dtypes\";\n",
       "                var nbb_cells = Jupyter.notebook.get_cells();\n",
       "                for (var i = 0; i < nbb_cells.length; ++i) {\n",
       "                    if (nbb_cells[i].input_prompt_number == nbb_cell_id) {\n",
       "                        if (nbb_cells[i].get_text() == nbb_unformatted_code) {\n",
       "                             nbb_cells[i].set_text(nbb_formatted_code);\n",
       "                        }\n",
       "                        break;\n",
       "                    }\n",
       "                }\n",
       "            }, 500);\n",
       "            "
      ],
      "text/plain": [
       "<IPython.core.display.Javascript object>"
      ]
     },
     "metadata": {},
     "output_type": "display_data"
    }
   ],
   "source": [
    "apple.dtypes"
   ]
  },
  {
   "cell_type": "markdown",
   "id": "cc267e12",
   "metadata": {},
   "source": [
    "Identify a column stored as `datetime`:"
   ]
  },
  {
   "cell_type": "code",
   "execution_count": 67,
   "id": "c5735e01",
   "metadata": {},
   "outputs": [
    {
     "data": {
      "text/plain": [
       "0      2008-10-14\n",
       "1      2008-10-13\n",
       "2      2008-10-10\n",
       "3      2008-10-09\n",
       "4      2008-10-08\n",
       "          ...    \n",
       "6076   1984-09-13\n",
       "6077   1984-09-12\n",
       "6078   1984-09-11\n",
       "6079   1984-09-10\n",
       "6080   1984-09-07\n",
       "Name: Date, Length: 6081, dtype: datetime64[ns]"
      ]
     },
     "execution_count": 67,
     "metadata": {},
     "output_type": "execute_result"
    },
    {
     "data": {
      "application/javascript": [
       "\n",
       "            setTimeout(function() {\n",
       "                var nbb_cell_id = 67;\n",
       "                var nbb_unformatted_code = \"apple.Date\";\n",
       "                var nbb_formatted_code = \"apple.Date\";\n",
       "                var nbb_cells = Jupyter.notebook.get_cells();\n",
       "                for (var i = 0; i < nbb_cells.length; ++i) {\n",
       "                    if (nbb_cells[i].input_prompt_number == nbb_cell_id) {\n",
       "                        if (nbb_cells[i].get_text() == nbb_unformatted_code) {\n",
       "                             nbb_cells[i].set_text(nbb_formatted_code);\n",
       "                        }\n",
       "                        break;\n",
       "                    }\n",
       "                }\n",
       "            }, 500);\n",
       "            "
      ],
      "text/plain": [
       "<IPython.core.display.Javascript object>"
      ]
     },
     "metadata": {},
     "output_type": "display_data"
    }
   ],
   "source": [
    "apple.Date"
   ]
  },
  {
   "cell_type": "markdown",
   "id": "5eee5d5c",
   "metadata": {},
   "source": [
    "While `string` columns have a `.str` accessor, `datetime` columns have a `.dt` accessor:"
   ]
  },
  {
   "cell_type": "code",
   "execution_count": 68,
   "id": "aebea249",
   "metadata": {},
   "outputs": [
    {
     "data": {
      "text/plain": [
       "<pandas.core.indexes.accessors.DatetimeProperties object at 0x0000026827E048B0>"
      ]
     },
     "execution_count": 68,
     "metadata": {},
     "output_type": "execute_result"
    },
    {
     "data": {
      "application/javascript": [
       "\n",
       "            setTimeout(function() {\n",
       "                var nbb_cell_id = 68;\n",
       "                var nbb_unformatted_code = \"apple.Date.dt\";\n",
       "                var nbb_formatted_code = \"apple.Date.dt\";\n",
       "                var nbb_cells = Jupyter.notebook.get_cells();\n",
       "                for (var i = 0; i < nbb_cells.length; ++i) {\n",
       "                    if (nbb_cells[i].input_prompt_number == nbb_cell_id) {\n",
       "                        if (nbb_cells[i].get_text() == nbb_unformatted_code) {\n",
       "                             nbb_cells[i].set_text(nbb_formatted_code);\n",
       "                        }\n",
       "                        break;\n",
       "                    }\n",
       "                }\n",
       "            }, 500);\n",
       "            "
      ],
      "text/plain": [
       "<IPython.core.display.Javascript object>"
      ]
     },
     "metadata": {},
     "output_type": "display_data"
    }
   ],
   "source": [
    "apple.Date.dt"
   ]
  },
  {
   "cell_type": "markdown",
   "id": "02021914",
   "metadata": {},
   "source": [
    "Find a method of the `.dt` accessor that returns the date in the ISO format:"
   ]
  },
  {
   "cell_type": "code",
   "execution_count": 71,
   "id": "a8f1188a",
   "metadata": {},
   "outputs": [
    {
     "data": {
      "text/html": [
       "<div>\n",
       "<style scoped>\n",
       "    .dataframe tbody tr th:only-of-type {\n",
       "        vertical-align: middle;\n",
       "    }\n",
       "\n",
       "    .dataframe tbody tr th {\n",
       "        vertical-align: top;\n",
       "    }\n",
       "\n",
       "    .dataframe thead th {\n",
       "        text-align: right;\n",
       "    }\n",
       "</style>\n",
       "<table border=\"1\" class=\"dataframe\">\n",
       "  <thead>\n",
       "    <tr style=\"text-align: right;\">\n",
       "      <th></th>\n",
       "      <th>year</th>\n",
       "      <th>week</th>\n",
       "      <th>day</th>\n",
       "    </tr>\n",
       "  </thead>\n",
       "  <tbody>\n",
       "    <tr>\n",
       "      <th>0</th>\n",
       "      <td>2008</td>\n",
       "      <td>42</td>\n",
       "      <td>2</td>\n",
       "    </tr>\n",
       "    <tr>\n",
       "      <th>1</th>\n",
       "      <td>2008</td>\n",
       "      <td>42</td>\n",
       "      <td>1</td>\n",
       "    </tr>\n",
       "    <tr>\n",
       "      <th>2</th>\n",
       "      <td>2008</td>\n",
       "      <td>41</td>\n",
       "      <td>5</td>\n",
       "    </tr>\n",
       "    <tr>\n",
       "      <th>3</th>\n",
       "      <td>2008</td>\n",
       "      <td>41</td>\n",
       "      <td>4</td>\n",
       "    </tr>\n",
       "    <tr>\n",
       "      <th>4</th>\n",
       "      <td>2008</td>\n",
       "      <td>41</td>\n",
       "      <td>3</td>\n",
       "    </tr>\n",
       "    <tr>\n",
       "      <th>...</th>\n",
       "      <td>...</td>\n",
       "      <td>...</td>\n",
       "      <td>...</td>\n",
       "    </tr>\n",
       "    <tr>\n",
       "      <th>6076</th>\n",
       "      <td>1984</td>\n",
       "      <td>37</td>\n",
       "      <td>4</td>\n",
       "    </tr>\n",
       "    <tr>\n",
       "      <th>6077</th>\n",
       "      <td>1984</td>\n",
       "      <td>37</td>\n",
       "      <td>3</td>\n",
       "    </tr>\n",
       "    <tr>\n",
       "      <th>6078</th>\n",
       "      <td>1984</td>\n",
       "      <td>37</td>\n",
       "      <td>2</td>\n",
       "    </tr>\n",
       "    <tr>\n",
       "      <th>6079</th>\n",
       "      <td>1984</td>\n",
       "      <td>37</td>\n",
       "      <td>1</td>\n",
       "    </tr>\n",
       "    <tr>\n",
       "      <th>6080</th>\n",
       "      <td>1984</td>\n",
       "      <td>36</td>\n",
       "      <td>5</td>\n",
       "    </tr>\n",
       "  </tbody>\n",
       "</table>\n",
       "<p>6081 rows × 3 columns</p>\n",
       "</div>"
      ],
      "text/plain": [
       "      year  week  day\n",
       "0     2008    42    2\n",
       "1     2008    42    1\n",
       "2     2008    41    5\n",
       "3     2008    41    4\n",
       "4     2008    41    3\n",
       "...    ...   ...  ...\n",
       "6076  1984    37    4\n",
       "6077  1984    37    3\n",
       "6078  1984    37    2\n",
       "6079  1984    37    1\n",
       "6080  1984    36    5\n",
       "\n",
       "[6081 rows x 3 columns]"
      ]
     },
     "execution_count": 71,
     "metadata": {},
     "output_type": "execute_result"
    },
    {
     "data": {
      "application/javascript": [
       "\n",
       "            setTimeout(function() {\n",
       "                var nbb_cell_id = 71;\n",
       "                var nbb_unformatted_code = \"apple.Date.dt.isocalendar()\";\n",
       "                var nbb_formatted_code = \"apple.Date.dt.isocalendar()\";\n",
       "                var nbb_cells = Jupyter.notebook.get_cells();\n",
       "                for (var i = 0; i < nbb_cells.length; ++i) {\n",
       "                    if (nbb_cells[i].input_prompt_number == nbb_cell_id) {\n",
       "                        if (nbb_cells[i].get_text() == nbb_unformatted_code) {\n",
       "                             nbb_cells[i].set_text(nbb_formatted_code);\n",
       "                        }\n",
       "                        break;\n",
       "                    }\n",
       "                }\n",
       "            }, 500);\n",
       "            "
      ],
      "text/plain": [
       "<IPython.core.display.Javascript object>"
      ]
     },
     "metadata": {},
     "output_type": "display_data"
    }
   ],
   "source": [
    "apple.Date.dt.isocalendar()"
   ]
  },
  {
   "cell_type": "code",
   "execution_count": 73,
   "id": "e8086c36",
   "metadata": {},
   "outputs": [
    {
     "data": {
      "text/html": [
       "<div>\n",
       "<style scoped>\n",
       "    .dataframe tbody tr th:only-of-type {\n",
       "        vertical-align: middle;\n",
       "    }\n",
       "\n",
       "    .dataframe tbody tr th {\n",
       "        vertical-align: top;\n",
       "    }\n",
       "\n",
       "    .dataframe thead th {\n",
       "        text-align: right;\n",
       "    }\n",
       "</style>\n",
       "<table border=\"1\" class=\"dataframe\">\n",
       "  <thead>\n",
       "    <tr style=\"text-align: right;\">\n",
       "      <th></th>\n",
       "      <th>Date</th>\n",
       "      <th>Open</th>\n",
       "      <th>High</th>\n",
       "      <th>Low</th>\n",
       "      <th>Close</th>\n",
       "      <th>Volume</th>\n",
       "      <th>Adj Close</th>\n",
       "    </tr>\n",
       "  </thead>\n",
       "  <tbody>\n",
       "    <tr>\n",
       "      <th>158</th>\n",
       "      <td>2008-02-29</td>\n",
       "      <td>129.29</td>\n",
       "      <td>130.21</td>\n",
       "      <td>124.80</td>\n",
       "      <td>125.02</td>\n",
       "      <td>44838600</td>\n",
       "      <td>125.02</td>\n",
       "    </tr>\n",
       "    <tr>\n",
       "      <th>159</th>\n",
       "      <td>2008-02-28</td>\n",
       "      <td>127.20</td>\n",
       "      <td>132.20</td>\n",
       "      <td>125.77</td>\n",
       "      <td>129.91</td>\n",
       "      <td>57794800</td>\n",
       "      <td>129.91</td>\n",
       "    </tr>\n",
       "    <tr>\n",
       "      <th>160</th>\n",
       "      <td>2008-02-27</td>\n",
       "      <td>118.23</td>\n",
       "      <td>123.05</td>\n",
       "      <td>118.09</td>\n",
       "      <td>122.96</td>\n",
       "      <td>52683500</td>\n",
       "      <td>122.96</td>\n",
       "    </tr>\n",
       "    <tr>\n",
       "      <th>161</th>\n",
       "      <td>2008-02-26</td>\n",
       "      <td>117.64</td>\n",
       "      <td>121.09</td>\n",
       "      <td>115.44</td>\n",
       "      <td>119.15</td>\n",
       "      <td>53746000</td>\n",
       "      <td>119.15</td>\n",
       "    </tr>\n",
       "    <tr>\n",
       "      <th>162</th>\n",
       "      <td>2008-02-25</td>\n",
       "      <td>118.59</td>\n",
       "      <td>120.17</td>\n",
       "      <td>116.66</td>\n",
       "      <td>119.74</td>\n",
       "      <td>44884800</td>\n",
       "      <td>119.74</td>\n",
       "    </tr>\n",
       "    <tr>\n",
       "      <th>...</th>\n",
       "      <td>...</td>\n",
       "      <td>...</td>\n",
       "      <td>...</td>\n",
       "      <td>...</td>\n",
       "      <td>...</td>\n",
       "      <td>...</td>\n",
       "      <td>...</td>\n",
       "    </tr>\n",
       "    <tr>\n",
       "      <th>5974</th>\n",
       "      <td>1985-02-07</td>\n",
       "      <td>30.00</td>\n",
       "      <td>30.37</td>\n",
       "      <td>29.87</td>\n",
       "      <td>29.87</td>\n",
       "      <td>8793600</td>\n",
       "      <td>3.41</td>\n",
       "    </tr>\n",
       "    <tr>\n",
       "      <th>5975</th>\n",
       "      <td>1985-02-06</td>\n",
       "      <td>30.00</td>\n",
       "      <td>30.00</td>\n",
       "      <td>30.00</td>\n",
       "      <td>30.00</td>\n",
       "      <td>6980000</td>\n",
       "      <td>3.42</td>\n",
       "    </tr>\n",
       "    <tr>\n",
       "      <th>5976</th>\n",
       "      <td>1985-02-05</td>\n",
       "      <td>29.50</td>\n",
       "      <td>30.00</td>\n",
       "      <td>29.50</td>\n",
       "      <td>29.50</td>\n",
       "      <td>6824800</td>\n",
       "      <td>3.37</td>\n",
       "    </tr>\n",
       "    <tr>\n",
       "      <th>5977</th>\n",
       "      <td>1985-02-04</td>\n",
       "      <td>29.25</td>\n",
       "      <td>29.37</td>\n",
       "      <td>29.25</td>\n",
       "      <td>29.25</td>\n",
       "      <td>7801600</td>\n",
       "      <td>3.34</td>\n",
       "    </tr>\n",
       "    <tr>\n",
       "      <th>5978</th>\n",
       "      <td>1985-02-01</td>\n",
       "      <td>29.00</td>\n",
       "      <td>29.12</td>\n",
       "      <td>28.37</td>\n",
       "      <td>28.62</td>\n",
       "      <td>4941600</td>\n",
       "      <td>3.27</td>\n",
       "    </tr>\n",
       "  </tbody>\n",
       "</table>\n",
       "<p>460 rows × 7 columns</p>\n",
       "</div>"
      ],
      "text/plain": [
       "           Date    Open    High     Low   Close    Volume  Adj Close\n",
       "158  2008-02-29  129.29  130.21  124.80  125.02  44838600     125.02\n",
       "159  2008-02-28  127.20  132.20  125.77  129.91  57794800     129.91\n",
       "160  2008-02-27  118.23  123.05  118.09  122.96  52683500     122.96\n",
       "161  2008-02-26  117.64  121.09  115.44  119.15  53746000     119.15\n",
       "162  2008-02-25  118.59  120.17  116.66  119.74  44884800     119.74\n",
       "...         ...     ...     ...     ...     ...       ...        ...\n",
       "5974 1985-02-07   30.00   30.37   29.87   29.87   8793600       3.41\n",
       "5975 1985-02-06   30.00   30.00   30.00   30.00   6980000       3.42\n",
       "5976 1985-02-05   29.50   30.00   29.50   29.50   6824800       3.37\n",
       "5977 1985-02-04   29.25   29.37   29.25   29.25   7801600       3.34\n",
       "5978 1985-02-01   29.00   29.12   28.37   28.62   4941600       3.27\n",
       "\n",
       "[460 rows x 7 columns]"
      ]
     },
     "execution_count": 73,
     "metadata": {},
     "output_type": "execute_result"
    },
    {
     "data": {
      "application/javascript": [
       "\n",
       "            setTimeout(function() {\n",
       "                var nbb_cell_id = 73;\n",
       "                var nbb_unformatted_code = \"apple[apple.Date.dt.month == 2]\";\n",
       "                var nbb_formatted_code = \"apple[apple.Date.dt.month == 2]\";\n",
       "                var nbb_cells = Jupyter.notebook.get_cells();\n",
       "                for (var i = 0; i < nbb_cells.length; ++i) {\n",
       "                    if (nbb_cells[i].input_prompt_number == nbb_cell_id) {\n",
       "                        if (nbb_cells[i].get_text() == nbb_unformatted_code) {\n",
       "                             nbb_cells[i].set_text(nbb_formatted_code);\n",
       "                        }\n",
       "                        break;\n",
       "                    }\n",
       "                }\n",
       "            }, 500);\n",
       "            "
      ],
      "text/plain": [
       "<IPython.core.display.Javascript object>"
      ]
     },
     "metadata": {},
     "output_type": "display_data"
    }
   ],
   "source": [
    "apple[apple.Date.dt.month == 2]"
   ]
  },
  {
   "cell_type": "code",
   "execution_count": null,
   "id": "76c6ff9c",
   "metadata": {},
   "outputs": [],
   "source": []
  }
 ],
 "metadata": {
  "kernelspec": {
   "display_name": "Python 3",
   "language": "python",
   "name": "python3"
  },
  "language_info": {
   "codemirror_mode": {
    "name": "ipython",
    "version": 3
   },
   "file_extension": ".py",
   "mimetype": "text/x-python",
   "name": "python",
   "nbconvert_exporter": "python",
   "pygments_lexer": "ipython3",
   "version": "3.8.10"
  }
 },
 "nbformat": 4,
 "nbformat_minor": 5
}
