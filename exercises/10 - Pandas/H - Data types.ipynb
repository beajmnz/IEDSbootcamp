{
 "cells": [
  {
   "cell_type": "code",
   "execution_count": null,
   "id": "a12f07a6",
   "metadata": {},
   "outputs": [],
   "source": [
    "%load_ext nb_black"
   ]
  },
  {
   "cell_type": "markdown",
   "id": "2d0c6a2c",
   "metadata": {},
   "source": [
    "# Data types"
   ]
  },
  {
   "cell_type": "markdown",
   "id": "9ffb56c6",
   "metadata": {},
   "source": [
    "## Setup"
   ]
  },
  {
   "cell_type": "code",
   "execution_count": null,
   "id": "dcde636e",
   "metadata": {},
   "outputs": [],
   "source": [
    "import pandas as pd"
   ]
  },
  {
   "cell_type": "markdown",
   "id": "b88edb44",
   "metadata": {},
   "source": [
    "## Creation"
   ]
  },
  {
   "cell_type": "markdown",
   "id": "7e734456",
   "metadata": {},
   "source": [
    "Creation of an example DataFrame (starting from a dictionary of dictionaries):"
   ]
  },
  {
   "cell_type": "code",
   "execution_count": null,
   "id": "ac2100e1",
   "metadata": {},
   "outputs": [],
   "source": [
    "data = {\n",
    "    \"Capital\": {\n",
    "        \"Spain\": \"Madrid\",\n",
    "        \"Belgium\": \"Brussels\",\n",
    "        \"France\": \"Paris\",\n",
    "        \"Italy\": \"Roma\",\n",
    "        \"Germany\": \"Berlin\",\n",
    "        \"Portugal\": \"Lisbon\",\n",
    "        \"Norway\": \"Oslo\",\n",
    "        \"Greece\": \"Athens\",\n",
    "    },\n",
    "    \"Population\": {\n",
    "        \"Spain\": 46733038,\n",
    "        \"Belgium\": 11449656,\n",
    "        \"France\": 67076000,\n",
    "        \"Italy\": 60390560,\n",
    "        \"Germany\": 83122889,\n",
    "        \"Portugal\": 10295909,\n",
    "        \"Norway\": 5391369,\n",
    "        \"Greece\": 10718565,\n",
    "    },\n",
    "    \"Monarch\": {\n",
    "        \"Spain\": \"Felipe VI\",\n",
    "        \"Belgium\": \"Philippe\",\n",
    "        \"Norway\": \"Harald V\",\n",
    "    },\n",
    "    \"Area\": {\n",
    "        \"Spain\": 505990,\n",
    "        \"Belgium\": 30688,\n",
    "        \"France\": 640679,\n",
    "        \"Italy\": 301340,\n",
    "        \"Germany\": None,\n",
    "        \"Portugal\": 92212,\n",
    "        \"Norway\": 385207,\n",
    "        \"Greece\": 131957,\n",
    "    },\n",
    "    \"Currency\": {\n",
    "        \"Spain\": \"EUR\",\n",
    "        \"Belgium\": \"EUR\",\n",
    "        \"France\": \"EUR\",\n",
    "        \"Italy\": \"EUR\",\n",
    "        \"Germany\": \"EUR\",\n",
    "        \"Portugal\": None,\n",
    "        \"Norway\": \"NOK\",\n",
    "        \"Greece\": \"EUR\",\n",
    "    },\n",
    "    \"Formation\": {\n",
    "        \"Spain\": \"1715-06-09\",\n",
    "        \"Belgium\": \"1830-10-04\",\n",
    "        \"France\": \"1792-09-22\",\n",
    "        \"Italy\": None,\n",
    "        \"Germany\": None,\n",
    "        \"Portugal\": None,\n",
    "        \"Norway\": None,\n",
    "        \"Greece\": None,\n",
    "    },\n",
    "}"
   ]
  },
  {
   "cell_type": "code",
   "execution_count": null,
   "id": "c3378ec1",
   "metadata": {},
   "outputs": [],
   "source": [
    "# For now, let's forget about these steps:\n",
    "df = pd.DataFrame(data)"
   ]
  },
  {
   "cell_type": "markdown",
   "id": "3d1d7525",
   "metadata": {},
   "source": [
    "Apple stock data, taken from the [`matplotlib` sample datasets](https://github.com/matplotlib/sample_data/blob/master/aapl.csv)"
   ]
  },
  {
   "cell_type": "code",
   "execution_count": null,
   "id": "703fea57",
   "metadata": {},
   "outputs": [],
   "source": [
    "# For now, let's forget about these steps:\n",
    "apple = pd.read_csv(\"AAPL.csv\")\n",
    "# apple[\"Date\"] = apple[\"Date\"].astype(\"datetime64[ns]\")\n",
    "# apple = apple.set_index(\"Date\")\n",
    "# apple = apple.sort_index()"
   ]
  },
  {
   "cell_type": "markdown",
   "id": "f5687ed0",
   "metadata": {},
   "source": [
    "## Demo 1: Check the memory usage"
   ]
  },
  {
   "cell_type": "code",
   "execution_count": null,
   "id": "d33cf2a1",
   "metadata": {},
   "outputs": [],
   "source": [
    "df"
   ]
  },
  {
   "cell_type": "markdown",
   "id": "399ebd20",
   "metadata": {},
   "source": [
    "Check the memory usage of a DataFrame:"
   ]
  },
  {
   "cell_type": "code",
   "execution_count": null,
   "id": "92b354b3",
   "metadata": {},
   "outputs": [],
   "source": [
    "memory_kb = df.memory_usage(deep=True).sum() / (1024 ** 1)\n",
    "print(f\"Memory used: {memory_kb:.1f} kB\")"
   ]
  },
  {
   "cell_type": "code",
   "execution_count": null,
   "id": "b3c5c2d9",
   "metadata": {},
   "outputs": [],
   "source": [
    "memory_mb = df.memory_usage(deep=True).sum() / (1024 ** 2)\n",
    "print(f\"Memory used: {memory_mb:.1f} MB\")"
   ]
  },
  {
   "cell_type": "markdown",
   "id": "4a912830",
   "metadata": {},
   "source": [
    "<div class=\"alert alert-info\">\n",
    "\n",
    "<b>Note:</b> The memory usage should be <b>at most 10% of the available RAM</b> for <code>pandas</code> to remain fast.\n",
    "\n",
    "</div>"
   ]
  },
  {
   "cell_type": "markdown",
   "id": "23fc7d10",
   "metadata": {},
   "source": [
    "## Exercise 1"
   ]
  },
  {
   "cell_type": "code",
   "execution_count": null,
   "id": "906b4304",
   "metadata": {
    "tags": [
     "no-replacement"
    ]
   },
   "outputs": [],
   "source": [
    "apple.head()"
   ]
  },
  {
   "cell_type": "markdown",
   "id": "946d3181",
   "metadata": {},
   "source": [
    "Check the memory usage of a DataFrame:"
   ]
  },
  {
   "cell_type": "code",
   "execution_count": null,
   "id": "3c472f6b",
   "metadata": {},
   "outputs": [],
   "source": []
  },
  {
   "cell_type": "markdown",
   "id": "482f7257",
   "metadata": {},
   "source": [
    "## Demo 2: Change the data type of a column"
   ]
  },
  {
   "cell_type": "code",
   "execution_count": null,
   "id": "a6ed8854",
   "metadata": {},
   "outputs": [],
   "source": [
    "df"
   ]
  },
  {
   "cell_type": "markdown",
   "id": "75760df5",
   "metadata": {},
   "source": [
    "Add a new \"Density\" column:"
   ]
  },
  {
   "cell_type": "code",
   "execution_count": null,
   "id": "f8c93174",
   "metadata": {},
   "outputs": [],
   "source": [
    "df[\"Density\"] = df[\"Population\"] / df[\"Area\"]"
   ]
  },
  {
   "cell_type": "markdown",
   "id": "3751b74f",
   "metadata": {},
   "source": [
    "Check the data types:"
   ]
  },
  {
   "cell_type": "code",
   "execution_count": null,
   "id": "573ced7e",
   "metadata": {},
   "outputs": [],
   "source": [
    "df.dtypes"
   ]
  },
  {
   "cell_type": "markdown",
   "id": "587ec39b",
   "metadata": {},
   "source": [
    "<div class=\"alert alert-info\">\n",
    "\n",
    "<b>Note:</b> If there are missing values in a column of integers, <code>pandas</code> defaults to using floats (which support <code>NaN</code>, used for missing values).\n",
    "\n",
    "</div>"
   ]
  },
  {
   "cell_type": "markdown",
   "id": "6fbc5e40",
   "metadata": {},
   "source": [
    "<div class=\"alert alert-success\">\n",
    "\n",
    "<b>Best Practice:</b> Always use integers over floats whenever possible.\n",
    "\n",
    "</div>"
   ]
  },
  {
   "cell_type": "markdown",
   "id": "02450342",
   "metadata": {},
   "source": [
    "Change the data type of a column:"
   ]
  },
  {
   "cell_type": "code",
   "execution_count": null,
   "id": "bf432f38",
   "metadata": {},
   "outputs": [],
   "source": [
    "df[\"Area\"]"
   ]
  },
  {
   "cell_type": "code",
   "execution_count": null,
   "id": "f82567da",
   "metadata": {},
   "outputs": [],
   "source": [
    "df[\"Area\"].astype(\"Int64\")"
   ]
  },
  {
   "cell_type": "code",
   "execution_count": null,
   "id": "960b323f",
   "metadata": {},
   "outputs": [],
   "source": [
    "df[\"Area\"] = df[\"Area\"].astype(\"Int64\")"
   ]
  },
  {
   "cell_type": "code",
   "execution_count": null,
   "id": "20937edc",
   "metadata": {},
   "outputs": [],
   "source": [
    "df"
   ]
  },
  {
   "cell_type": "code",
   "execution_count": null,
   "id": "b647d3ac",
   "metadata": {},
   "outputs": [],
   "source": [
    "df.dtypes"
   ]
  },
  {
   "cell_type": "code",
   "execution_count": null,
   "id": "f2405903",
   "metadata": {},
   "outputs": [],
   "source": [
    "df[\"Capital\"] = df[\"Capital\"].astype(\"string\")"
   ]
  },
  {
   "cell_type": "code",
   "execution_count": null,
   "id": "16dc1e1b",
   "metadata": {},
   "outputs": [],
   "source": [
    "df[\"Monarch\"] = df[\"Monarch\"].astype(\"string\")"
   ]
  },
  {
   "cell_type": "code",
   "execution_count": null,
   "id": "711cb476",
   "metadata": {},
   "outputs": [],
   "source": [
    "df"
   ]
  },
  {
   "cell_type": "code",
   "execution_count": null,
   "id": "6263358f",
   "metadata": {},
   "outputs": [],
   "source": [
    "df.dtypes"
   ]
  },
  {
   "cell_type": "code",
   "execution_count": null,
   "id": "adc07d96",
   "metadata": {},
   "outputs": [],
   "source": [
    "df[\"Currency\"] = df[\"Currency\"].astype(\"category\")"
   ]
  },
  {
   "cell_type": "code",
   "execution_count": null,
   "id": "39441351",
   "metadata": {},
   "outputs": [],
   "source": [
    "df"
   ]
  },
  {
   "cell_type": "code",
   "execution_count": null,
   "id": "53db965e",
   "metadata": {},
   "outputs": [],
   "source": [
    "df.dtypes"
   ]
  },
  {
   "cell_type": "code",
   "execution_count": null,
   "id": "470d6875",
   "metadata": {},
   "outputs": [],
   "source": [
    "df[\"Formation\"] = df[\"Formation\"].astype(\"datetime64[ns]\")"
   ]
  },
  {
   "cell_type": "code",
   "execution_count": null,
   "id": "a1402713",
   "metadata": {},
   "outputs": [],
   "source": [
    "df"
   ]
  },
  {
   "cell_type": "code",
   "execution_count": null,
   "id": "8887acd3",
   "metadata": {},
   "outputs": [],
   "source": [
    "df.dtypes"
   ]
  },
  {
   "cell_type": "markdown",
   "id": "f6f6d89f",
   "metadata": {},
   "source": [
    "<div class=\"alert alert-success\">\n",
    "\n",
    "<b>Best Practice:</b> Always use the following data types:\n",
    "    <ul>\n",
    "        <li>For strings: \n",
    "            <ul>\n",
    "                <li><b>category</b> (<code>.astype(\"category\")</code>) if possible;</li>\n",
    "                <li><b>string</b> (<code>.astype(\"string\")</code>) otherwise;</li>\n",
    "            </ul>\n",
    "        <li>For integers:\n",
    "            <ul>\n",
    "                <li><b>int64</b> (<code>.astype(\"int\")</code>) if there are no missing values;</li>\n",
    "                <li><b>Int64</b> (<code>.astype(\"Int64\")</code>) otherwise;</li>\n",
    "            </ul>\n",
    "        <li>For floast: <b>float64</b> (<code>.astype(\"float\")</code>)</li>\n",
    "        <li>For dates: <b>datetime64[ns]</b> (<code>.astype(\"datetime64[ns]\")</code>)</li>\n",
    "    </ul>\n",
    "</div>"
   ]
  },
  {
   "cell_type": "markdown",
   "id": "e640dc3a",
   "metadata": {},
   "source": [
    "<div class=\"alert alert-info\">\n",
    "\n",
    "<b>Note:</b> Missing values are represented with either <code>NaN</code>, <code>NaT</code>, or <code>&#60;NA&#62;</code>, depending on the data type of the column.\n",
    "\n",
    "</div>"
   ]
  },
  {
   "cell_type": "markdown",
   "id": "1841d767",
   "metadata": {},
   "source": [
    "## Exercise 2"
   ]
  },
  {
   "cell_type": "code",
   "execution_count": null,
   "id": "69b7cc31",
   "metadata": {
    "tags": [
     "no-replacement"
    ]
   },
   "outputs": [],
   "source": [
    "apple.head()"
   ]
  },
  {
   "cell_type": "markdown",
   "id": "7b05b31a",
   "metadata": {},
   "source": [
    "Check the data types of the `apple` DataFrame:"
   ]
  },
  {
   "cell_type": "code",
   "execution_count": null,
   "id": "2ed1cfa3",
   "metadata": {},
   "outputs": [],
   "source": []
  },
  {
   "cell_type": "markdown",
   "id": "0aa93949",
   "metadata": {},
   "source": [
    "Correct the data type of the \"Date\" column:"
   ]
  },
  {
   "cell_type": "code",
   "execution_count": null,
   "id": "7ac92116",
   "metadata": {},
   "outputs": [],
   "source": []
  },
  {
   "cell_type": "markdown",
   "id": "8f6fa656",
   "metadata": {},
   "source": [
    "Check the data types of the `apple` DataFrame:"
   ]
  },
  {
   "cell_type": "code",
   "execution_count": null,
   "id": "a313b9ff",
   "metadata": {},
   "outputs": [],
   "source": []
  },
  {
   "cell_type": "markdown",
   "id": "4f8078fa",
   "metadata": {},
   "source": [
    "## Demo 3: Check the memory saved"
   ]
  },
  {
   "cell_type": "markdown",
   "id": "e005dac3",
   "metadata": {},
   "source": [
    "Save the original memory usage:"
   ]
  },
  {
   "cell_type": "code",
   "execution_count": null,
   "id": "459d2d81",
   "metadata": {},
   "outputs": [],
   "source": [
    "memory_kb_original = memory_kb\n",
    "memory_mb_original = memory_mb"
   ]
  },
  {
   "cell_type": "markdown",
   "id": "d3150a11",
   "metadata": {},
   "source": [
    "Check the memory usage of a DataFrame:"
   ]
  },
  {
   "cell_type": "code",
   "execution_count": null,
   "id": "f55b8e25",
   "metadata": {},
   "outputs": [],
   "source": [
    "memory_kb = df.memory_usage(deep=True).sum() / (1024 ** 1)\n",
    "print(f\"Memory used: {memory_kb:.1f} kB\")"
   ]
  },
  {
   "cell_type": "code",
   "execution_count": null,
   "id": "62c0ffdc",
   "metadata": {},
   "outputs": [],
   "source": [
    "memory_mb = df.memory_usage(deep=True).sum() / (1024 ** 2)\n",
    "print(f\"Memory used: {memory_mb:.1f} MB\")"
   ]
  },
  {
   "cell_type": "markdown",
   "id": "18d906b0",
   "metadata": {},
   "source": [
    "Calculate the memory saved:"
   ]
  },
  {
   "cell_type": "code",
   "execution_count": null,
   "id": "05e4c9ea",
   "metadata": {},
   "outputs": [],
   "source": [
    "print(f\"The memory was reduced by a factor of {memory_kb_original / memory_kb:.1f}\")"
   ]
  },
  {
   "cell_type": "code",
   "execution_count": null,
   "id": "c48cae7d",
   "metadata": {},
   "outputs": [],
   "source": [
    "print(f\"The memory was reduced by a factor of {memory_mb_original / memory_mb:.1f}\")"
   ]
  },
  {
   "cell_type": "markdown",
   "id": "2c9a2bb4",
   "metadata": {},
   "source": [
    "<div class=\"alert alert-info\">\n",
    "\n",
    "<b>Note:</b> The memory usage should be <b>at most 10% of the available RAM</b> for <code>pandas</code> to remain fast.\n",
    "\n",
    "</div>"
   ]
  },
  {
   "cell_type": "markdown",
   "id": "5421fd51",
   "metadata": {},
   "source": [
    "## Exercise 3"
   ]
  },
  {
   "cell_type": "code",
   "execution_count": null,
   "id": "9ec8a18f",
   "metadata": {
    "tags": [
     "no-replacement"
    ]
   },
   "outputs": [],
   "source": [
    "apple.head()"
   ]
  },
  {
   "cell_type": "markdown",
   "id": "9c1ee0e2",
   "metadata": {},
   "source": [
    "Save the original memory usage:"
   ]
  },
  {
   "cell_type": "code",
   "execution_count": null,
   "id": "055a1f0f",
   "metadata": {},
   "outputs": [],
   "source": []
  },
  {
   "cell_type": "markdown",
   "id": "bee8fcb7",
   "metadata": {},
   "source": [
    "Check the memory usage of a DataFrame:"
   ]
  },
  {
   "cell_type": "code",
   "execution_count": null,
   "id": "4288462b",
   "metadata": {},
   "outputs": [],
   "source": []
  },
  {
   "cell_type": "markdown",
   "id": "9f48c859",
   "metadata": {},
   "source": [
    "Calculate the memory saved:"
   ]
  },
  {
   "cell_type": "code",
   "execution_count": null,
   "id": "54f32020",
   "metadata": {},
   "outputs": [],
   "source": []
  },
  {
   "cell_type": "code",
   "execution_count": null,
   "id": "cf70b811",
   "metadata": {},
   "outputs": [],
   "source": []
  },
  {
   "cell_type": "markdown",
   "id": "93b54557",
   "metadata": {},
   "source": [
    "## Demo 4: `.str` accessor"
   ]
  },
  {
   "cell_type": "code",
   "execution_count": null,
   "id": "553e77d6",
   "metadata": {},
   "outputs": [],
   "source": [
    "name = \"JC\""
   ]
  },
  {
   "cell_type": "code",
   "execution_count": null,
   "id": "ff283fbf",
   "metadata": {},
   "outputs": [],
   "source": [
    "name.lower()"
   ]
  },
  {
   "cell_type": "code",
   "execution_count": null,
   "id": "943da551",
   "metadata": {},
   "outputs": [],
   "source": [
    "df"
   ]
  },
  {
   "cell_type": "markdown",
   "id": "a8c70b33",
   "metadata": {},
   "source": [
    "Check the data types:"
   ]
  },
  {
   "cell_type": "code",
   "execution_count": null,
   "id": "a013334f",
   "metadata": {},
   "outputs": [],
   "source": [
    "df.dtypes"
   ]
  },
  {
   "cell_type": "markdown",
   "id": "c2f5e09f",
   "metadata": {},
   "source": [
    "Modify a string column thanks to the `.str` accessor:"
   ]
  },
  {
   "cell_type": "code",
   "execution_count": null,
   "id": "b6e8a62e",
   "metadata": {},
   "outputs": [],
   "source": [
    "df[\"Capital\"]"
   ]
  },
  {
   "cell_type": "code",
   "execution_count": null,
   "id": "41665c09",
   "metadata": {},
   "outputs": [],
   "source": [
    "df[\"Capital\"].str"
   ]
  },
  {
   "cell_type": "code",
   "execution_count": null,
   "id": "674f4245",
   "metadata": {},
   "outputs": [],
   "source": [
    "df[\"Capital\"].str.upper()"
   ]
  },
  {
   "cell_type": "markdown",
   "id": "9ec72b12",
   "metadata": {},
   "source": [
    "## Exercise 4"
   ]
  },
  {
   "cell_type": "code",
   "execution_count": null,
   "id": "d6995fca",
   "metadata": {
    "tags": [
     "no-replacement"
    ]
   },
   "outputs": [],
   "source": [
    "apple.head()"
   ]
  },
  {
   "cell_type": "markdown",
   "id": "b761e7e8",
   "metadata": {},
   "source": [
    "Check the data types:"
   ]
  },
  {
   "cell_type": "code",
   "execution_count": null,
   "id": "e1a073be",
   "metadata": {},
   "outputs": [],
   "source": []
  },
  {
   "cell_type": "markdown",
   "id": "cc267e12",
   "metadata": {},
   "source": [
    "Identify a column stored as `datetime`:"
   ]
  },
  {
   "cell_type": "code",
   "execution_count": null,
   "id": "c5735e01",
   "metadata": {},
   "outputs": [],
   "source": []
  },
  {
   "cell_type": "markdown",
   "id": "5eee5d5c",
   "metadata": {},
   "source": [
    "While `string` columns have a `.str` accessor, `datetime` columns have a `.dt` accessor:"
   ]
  },
  {
   "cell_type": "code",
   "execution_count": null,
   "id": "aebea249",
   "metadata": {},
   "outputs": [],
   "source": []
  },
  {
   "cell_type": "markdown",
   "id": "02021914",
   "metadata": {},
   "source": [
    "Find a method of the `.dt` accessor that returns the date in the ISO format:"
   ]
  },
  {
   "cell_type": "code",
   "execution_count": null,
   "id": "a8f1188a",
   "metadata": {},
   "outputs": [],
   "source": []
  }
 ],
 "metadata": {
  "kernelspec": {
   "display_name": "Python 3",
   "language": "python",
   "name": "python3"
  },
  "language_info": {
   "codemirror_mode": {
    "name": "ipython",
    "version": 3
   },
   "file_extension": ".py",
   "mimetype": "text/x-python",
   "name": "python",
   "nbconvert_exporter": "python",
   "pygments_lexer": "ipython3",
   "version": "3.9.2"
  }
 },
 "nbformat": 4,
 "nbformat_minor": 5
}
