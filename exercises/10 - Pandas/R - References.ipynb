{
 "cells": [
  {
   "cell_type": "markdown",
   "id": "36f3854b",
   "metadata": {},
   "source": [
    "# References"
   ]
  },
  {
   "cell_type": "markdown",
   "id": "30afdd1f",
   "metadata": {},
   "source": [
    "## References"
   ]
  },
  {
   "cell_type": "markdown",
   "id": "31ef0bb9",
   "metadata": {},
   "source": [
    "* The [Python for Data Analysis](https://wesmckinney.com/pages/book.html) book, by Wes McKinney, 2017 (not free, but highly recommended!)\n",
    "* [Pandas documentation](https://pandas.pydata.org/docs/) (detailed and accessible)\n",
    "* [Effective Pandas](https://github.com/TomAugspurger/effective-pandas), by Tom Augspurger (covering more advanced topics)"
   ]
  },
  {
   "cell_type": "markdown",
   "id": "5cbaf763",
   "metadata": {},
   "source": [
    "## Cheat sheets"
   ]
  },
  {
   "cell_type": "markdown",
   "id": "407bcadc",
   "metadata": {},
   "source": [
    "* https://towardsdatascience.com/collecting-data-science-cheat-sheets-d2cdff092855\n",
    "* https://www.datacamp.com/community/data-science-cheatsheets\n",
    "* https://pandas.pydata.org/Pandas_Cheat_Sheet.pdf"
   ]
  }
 ],
 "metadata": {
  "kernelspec": {
   "display_name": "Python 3",
   "language": "python",
   "name": "python3"
  },
  "language_info": {
   "codemirror_mode": {
    "name": "ipython",
    "version": 3
   },
   "file_extension": ".py",
   "mimetype": "text/x-python",
   "name": "python",
   "nbconvert_exporter": "python",
   "pygments_lexer": "ipython3",
   "version": "3.9.2"
  }
 },
 "nbformat": 4,
 "nbformat_minor": 5
}
