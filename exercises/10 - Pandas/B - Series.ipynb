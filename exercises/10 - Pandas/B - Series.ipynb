{
 "cells": [
  {
   "cell_type": "markdown",
   "id": "0addbbbd",
   "metadata": {},
   "source": [
    "# `pandas` Series"
   ]
  },
  {
   "cell_type": "markdown",
   "id": "f30afd62",
   "metadata": {},
   "source": [
    "## Setup"
   ]
  },
  {
   "cell_type": "code",
   "execution_count": 1,
   "id": "4b36b815",
   "metadata": {},
   "outputs": [],
   "source": [
    "import pandas as pd"
   ]
  },
  {
   "cell_type": "markdown",
   "id": "6dfe4468",
   "metadata": {},
   "source": [
    "## Creation"
   ]
  },
  {
   "cell_type": "markdown",
   "id": "0515b15e",
   "metadata": {},
   "source": [
    "Creation of an example Series (starting from a dictionary of dictionaries):"
   ]
  },
  {
   "cell_type": "code",
   "execution_count": 2,
   "id": "ceac3590",
   "metadata": {},
   "outputs": [],
   "source": [
    "data = {\n",
    "    \"Spain\": \"Madrid\",\n",
    "    \"Belgium\": \"Brussels\",\n",
    "    \"France\": \"Paris\",\n",
    "    \"Italy\": \"Roma\",\n",
    "    \"Germany\": \"Berlin\",\n",
    "    \"Portugal\": \"Lisbon\",\n",
    "    \"Norway\": \"Oslo\",\n",
    "    \"Greece\": \"Athens\",\n",
    "}"
   ]
  },
  {
   "cell_type": "code",
   "execution_count": 3,
   "id": "e2f9c52e",
   "metadata": {},
   "outputs": [],
   "source": [
    "# For now, let's forget about these steps:\n",
    "s = pd.Series(data).astype(\"string\")"
   ]
  },
  {
   "cell_type": "markdown",
   "id": "2327dea5",
   "metadata": {},
   "source": [
    "Apple stock data, taken from the [`matplotlib` sample datasets](https://github.com/matplotlib/sample_data/blob/master/aapl.csv)"
   ]
  },
  {
   "cell_type": "code",
   "execution_count": 4,
   "id": "7d52ddd0",
   "metadata": {
    "tags": [
     "no-replacement"
    ]
   },
   "outputs": [],
   "source": [
    "# For now, let's forget about these steps:\n",
    "apple = pd.read_csv(\"AAPL.csv\")\n",
    "apple[\"Date\"] = apple[\"Date\"].astype(\"datetime64[ns]\")\n",
    "apple = apple.set_index(\"Date\")\n",
    "apple = apple.sort_index()\n",
    "apple = apple[\"Volume\"]"
   ]
  },
  {
   "cell_type": "markdown",
   "id": "e1485519",
   "metadata": {},
   "source": [
    "## Demo 1: Anatomy of a `pandas` Series"
   ]
  },
  {
   "cell_type": "markdown",
   "id": "cd1aae0e",
   "metadata": {},
   "source": [
    "Check the DataFrame:"
   ]
  },
  {
   "cell_type": "code",
   "execution_count": 5,
   "id": "b2916eb5",
   "metadata": {},
   "outputs": [
    {
     "data": {
      "text/plain": [
       "Spain         Madrid\n",
       "Belgium     Brussels\n",
       "France         Paris\n",
       "Italy           Roma\n",
       "Germany       Berlin\n",
       "Portugal      Lisbon\n",
       "Norway          Oslo\n",
       "Greece        Athens\n",
       "dtype: string"
      ]
     },
     "execution_count": 5,
     "metadata": {},
     "output_type": "execute_result"
    }
   ],
   "source": [
    "s"
   ]
  },
  {
   "cell_type": "markdown",
   "id": "f4ab2596",
   "metadata": {},
   "source": [
    "Check the type of the DataFrame:"
   ]
  },
  {
   "cell_type": "code",
   "execution_count": 6,
   "id": "0317f016",
   "metadata": {},
   "outputs": [
    {
     "data": {
      "text/plain": [
       "pandas.core.series.Series"
      ]
     },
     "execution_count": 6,
     "metadata": {},
     "output_type": "execute_result"
    }
   ],
   "source": [
    "type(s)"
   ]
  },
  {
   "cell_type": "markdown",
   "id": "c56647e1",
   "metadata": {},
   "source": [
    "A Series has **row labels** (shown in bold; also called the **index**).\n",
    "\n",
    "Ideally, **a Series contains elements of the same data type** (e.g. strings, integers, floats, booleans, or dates).\n",
    "\n",
    "Some data may be missing and are indicated by `<NA>`, or a variation thereof.\n",
    "\n",
    "In a Series, **rows are ordered**."
   ]
  },
  {
   "cell_type": "markdown",
   "id": "0deee961",
   "metadata": {},
   "source": [
    "## Exercise 1"
   ]
  },
  {
   "cell_type": "markdown",
   "id": "47ffc834",
   "metadata": {},
   "source": [
    "Check the Series:"
   ]
  },
  {
   "cell_type": "code",
   "execution_count": 7,
   "id": "83a8c552",
   "metadata": {},
   "outputs": [
    {
     "data": {
      "text/plain": [
       "Date\n",
       "1984-09-07     2981600\n",
       "1984-09-10     2346400\n",
       "1984-09-11     5444000\n",
       "1984-09-12     4773600\n",
       "1984-09-13     7429600\n",
       "                ...   \n",
       "2008-10-08    78847900\n",
       "2008-10-09    57763700\n",
       "2008-10-10    79260700\n",
       "2008-10-13    54967000\n",
       "2008-10-14    70749800\n",
       "Name: Volume, Length: 6081, dtype: int64"
      ]
     },
     "execution_count": 7,
     "metadata": {},
     "output_type": "execute_result"
    }
   ],
   "source": [
    "apple"
   ]
  },
  {
   "cell_type": "markdown",
   "id": "0d9ed229",
   "metadata": {},
   "source": [
    "Check the type of the Series:"
   ]
  },
  {
   "cell_type": "code",
   "execution_count": 8,
   "id": "c3744e02",
   "metadata": {},
   "outputs": [
    {
     "data": {
      "text/plain": [
       "pandas.core.series.Series"
      ]
     },
     "execution_count": 8,
     "metadata": {},
     "output_type": "execute_result"
    }
   ],
   "source": [
    "type(apple)"
   ]
  },
  {
   "cell_type": "markdown",
   "id": "df2e2124",
   "metadata": {},
   "source": [
    "## Demo 2: View a `Series`"
   ]
  },
  {
   "cell_type": "code",
   "execution_count": 9,
   "id": "9f10b7a5",
   "metadata": {},
   "outputs": [
    {
     "data": {
      "text/plain": [
       "Spain         Madrid\n",
       "Belgium     Brussels\n",
       "France         Paris\n",
       "Italy           Roma\n",
       "Germany       Berlin\n",
       "Portugal      Lisbon\n",
       "Norway          Oslo\n",
       "Greece        Athens\n",
       "dtype: string"
      ]
     },
     "execution_count": 9,
     "metadata": {},
     "output_type": "execute_result"
    }
   ],
   "source": [
    "s"
   ]
  },
  {
   "cell_type": "markdown",
   "id": "625a17c0",
   "metadata": {},
   "source": [
    "Check the first 5 rows of the Series:"
   ]
  },
  {
   "cell_type": "code",
   "execution_count": 10,
   "id": "cac9e564",
   "metadata": {},
   "outputs": [
    {
     "data": {
      "text/plain": [
       "Spain        Madrid\n",
       "Belgium    Brussels\n",
       "France        Paris\n",
       "Italy          Roma\n",
       "Germany      Berlin\n",
       "dtype: string"
      ]
     },
     "execution_count": 10,
     "metadata": {},
     "output_type": "execute_result"
    }
   ],
   "source": [
    "s.head()"
   ]
  },
  {
   "cell_type": "markdown",
   "id": "8361d7c1",
   "metadata": {},
   "source": [
    "Check the first 3 rows of the Series:"
   ]
  },
  {
   "cell_type": "code",
   "execution_count": 11,
   "id": "dd121ffc",
   "metadata": {},
   "outputs": [
    {
     "data": {
      "text/plain": [
       "Spain        Madrid\n",
       "Belgium    Brussels\n",
       "France        Paris\n",
       "dtype: string"
      ]
     },
     "execution_count": 11,
     "metadata": {},
     "output_type": "execute_result"
    }
   ],
   "source": [
    "s.head(3)"
   ]
  },
  {
   "cell_type": "markdown",
   "id": "4a4c3cbe",
   "metadata": {},
   "source": [
    "Check the last 5 rows of the Series:"
   ]
  },
  {
   "cell_type": "code",
   "execution_count": 12,
   "id": "8e49e56d",
   "metadata": {},
   "outputs": [
    {
     "data": {
      "text/plain": [
       "Italy         Roma\n",
       "Germany     Berlin\n",
       "Portugal    Lisbon\n",
       "Norway        Oslo\n",
       "Greece      Athens\n",
       "dtype: string"
      ]
     },
     "execution_count": 12,
     "metadata": {},
     "output_type": "execute_result"
    }
   ],
   "source": [
    "s.tail()"
   ]
  },
  {
   "cell_type": "markdown",
   "id": "c155fde6",
   "metadata": {},
   "source": [
    "Check the last 2 rows of the Series:"
   ]
  },
  {
   "cell_type": "code",
   "execution_count": 13,
   "id": "0793e608",
   "metadata": {},
   "outputs": [
    {
     "data": {
      "text/plain": [
       "Norway      Oslo\n",
       "Greece    Athens\n",
       "dtype: string"
      ]
     },
     "execution_count": 13,
     "metadata": {},
     "output_type": "execute_result"
    }
   ],
   "source": [
    "s.tail(2)"
   ]
  },
  {
   "cell_type": "markdown",
   "id": "1462bddb",
   "metadata": {},
   "source": [
    "## Exercise 2"
   ]
  },
  {
   "cell_type": "code",
   "execution_count": 14,
   "id": "14e63646",
   "metadata": {
    "tags": [
     "no-replacement"
    ]
   },
   "outputs": [
    {
     "data": {
      "text/plain": [
       "Date\n",
       "1984-09-07     2981600\n",
       "1984-09-10     2346400\n",
       "1984-09-11     5444000\n",
       "1984-09-12     4773600\n",
       "1984-09-13     7429600\n",
       "                ...   \n",
       "2008-10-08    78847900\n",
       "2008-10-09    57763700\n",
       "2008-10-10    79260700\n",
       "2008-10-13    54967000\n",
       "2008-10-14    70749800\n",
       "Name: Volume, Length: 6081, dtype: int64"
      ]
     },
     "execution_count": 14,
     "metadata": {},
     "output_type": "execute_result"
    }
   ],
   "source": [
    "apple"
   ]
  },
  {
   "cell_type": "markdown",
   "id": "7ac348b7",
   "metadata": {},
   "source": [
    "Check the first 5 rows of the Series:"
   ]
  },
  {
   "cell_type": "code",
   "execution_count": 15,
   "id": "c70f5c6b",
   "metadata": {},
   "outputs": [
    {
     "data": {
      "text/plain": [
       "Date\n",
       "1984-09-07    2981600\n",
       "1984-09-10    2346400\n",
       "1984-09-11    5444000\n",
       "1984-09-12    4773600\n",
       "1984-09-13    7429600\n",
       "Name: Volume, dtype: int64"
      ]
     },
     "execution_count": 15,
     "metadata": {},
     "output_type": "execute_result"
    }
   ],
   "source": [
    "apple.head()"
   ]
  },
  {
   "cell_type": "markdown",
   "id": "7bc7150e",
   "metadata": {},
   "source": [
    "Check the first 10 rows of the Series:"
   ]
  },
  {
   "cell_type": "code",
   "execution_count": 16,
   "id": "0ffb8bc7",
   "metadata": {},
   "outputs": [
    {
     "data": {
      "text/plain": [
       "Date\n",
       "1984-09-07    2981600\n",
       "1984-09-10    2346400\n",
       "1984-09-11    5444000\n",
       "1984-09-12    4773600\n",
       "1984-09-13    7429600\n",
       "1984-09-14    8826400\n",
       "1984-09-17    6886400\n",
       "1984-09-18    3495200\n",
       "1984-09-19    3816000\n",
       "1984-09-20    2387200\n",
       "Name: Volume, dtype: int64"
      ]
     },
     "execution_count": 16,
     "metadata": {},
     "output_type": "execute_result"
    }
   ],
   "source": [
    "apple.head(10)"
   ]
  },
  {
   "cell_type": "markdown",
   "id": "545c49d8",
   "metadata": {},
   "source": [
    "Check the last 5 rows of the Series:"
   ]
  },
  {
   "cell_type": "code",
   "execution_count": 17,
   "id": "e0d622e8",
   "metadata": {},
   "outputs": [
    {
     "data": {
      "text/plain": [
       "Date\n",
       "2008-10-08    78847900\n",
       "2008-10-09    57763700\n",
       "2008-10-10    79260700\n",
       "2008-10-13    54967000\n",
       "2008-10-14    70749800\n",
       "Name: Volume, dtype: int64"
      ]
     },
     "execution_count": 17,
     "metadata": {},
     "output_type": "execute_result"
    }
   ],
   "source": [
    "apple.tail()"
   ]
  },
  {
   "cell_type": "markdown",
   "id": "c6522ae0",
   "metadata": {},
   "source": [
    "Check the last 8 rows of the Series:"
   ]
  },
  {
   "cell_type": "code",
   "execution_count": 18,
   "id": "22f372b5",
   "metadata": {},
   "outputs": [
    {
     "data": {
      "text/plain": [
       "Date\n",
       "2008-10-03    81942800\n",
       "2008-10-06    75264900\n",
       "2008-10-07    67099000\n",
       "2008-10-08    78847900\n",
       "2008-10-09    57763700\n",
       "2008-10-10    79260700\n",
       "2008-10-13    54967000\n",
       "2008-10-14    70749800\n",
       "Name: Volume, dtype: int64"
      ]
     },
     "execution_count": 18,
     "metadata": {},
     "output_type": "execute_result"
    }
   ],
   "source": [
    "apple.tail(8)"
   ]
  },
  {
   "cell_type": "markdown",
   "id": "16db304b",
   "metadata": {},
   "source": [
    "## Demo 3: Shape"
   ]
  },
  {
   "cell_type": "markdown",
   "id": "d1f6239c",
   "metadata": {},
   "source": [
    "Check the shape:"
   ]
  },
  {
   "cell_type": "code",
   "execution_count": 19,
   "id": "80390f1c",
   "metadata": {},
   "outputs": [
    {
     "data": {
      "text/plain": [
       "(8,)"
      ]
     },
     "execution_count": 19,
     "metadata": {},
     "output_type": "execute_result"
    }
   ],
   "source": [
    "s.shape"
   ]
  },
  {
   "cell_type": "markdown",
   "id": "85b9a27c",
   "metadata": {},
   "source": [
    "<div class=\"alert alert-info\">\n",
    "\n",
    "<b>Note:</b> The shape of a <code>Series</code> with <code>N</code> elements is <code>(N,)</code>, whereas the shape of a <code>DataFrame</code> with a single column is <code>(N, 1)</code>.\n",
    "\n",
    "</div>"
   ]
  },
  {
   "cell_type": "markdown",
   "id": "e39388e5",
   "metadata": {},
   "source": [
    "Check the length:"
   ]
  },
  {
   "cell_type": "code",
   "execution_count": 20,
   "id": "1d55c7a3",
   "metadata": {},
   "outputs": [
    {
     "data": {
      "text/plain": [
       "8"
      ]
     },
     "execution_count": 20,
     "metadata": {},
     "output_type": "execute_result"
    }
   ],
   "source": [
    "len(s)"
   ]
  },
  {
   "cell_type": "markdown",
   "id": "4f2684d9",
   "metadata": {},
   "source": [
    "## Exercise 3"
   ]
  },
  {
   "cell_type": "code",
   "execution_count": 21,
   "id": "e13fe6e1",
   "metadata": {
    "tags": [
     "no-replacement"
    ]
   },
   "outputs": [
    {
     "data": {
      "text/plain": [
       "Date\n",
       "1984-09-07    2981600\n",
       "1984-09-10    2346400\n",
       "1984-09-11    5444000\n",
       "1984-09-12    4773600\n",
       "1984-09-13    7429600\n",
       "Name: Volume, dtype: int64"
      ]
     },
     "execution_count": 21,
     "metadata": {},
     "output_type": "execute_result"
    }
   ],
   "source": [
    "apple.head()"
   ]
  },
  {
   "cell_type": "markdown",
   "id": "6a0cc2cc",
   "metadata": {},
   "source": [
    "Check the shape:"
   ]
  },
  {
   "cell_type": "code",
   "execution_count": 22,
   "id": "d0630e91",
   "metadata": {},
   "outputs": [
    {
     "data": {
      "text/plain": [
       "(6081,)"
      ]
     },
     "execution_count": 22,
     "metadata": {},
     "output_type": "execute_result"
    }
   ],
   "source": [
    "apple.shape"
   ]
  },
  {
   "cell_type": "markdown",
   "id": "5f179a5f",
   "metadata": {},
   "source": [
    "Check the length:"
   ]
  },
  {
   "cell_type": "code",
   "execution_count": 23,
   "id": "1eea81ac",
   "metadata": {},
   "outputs": [
    {
     "data": {
      "text/plain": [
       "6081"
      ]
     },
     "execution_count": 23,
     "metadata": {},
     "output_type": "execute_result"
    }
   ],
   "source": [
    "len(apple)"
   ]
  },
  {
   "cell_type": "markdown",
   "id": "cf658175",
   "metadata": {},
   "source": [
    "## Demo 4: Index"
   ]
  },
  {
   "cell_type": "markdown",
   "id": "213b0183",
   "metadata": {},
   "source": [
    "Check the index (i.e. the row labels):"
   ]
  },
  {
   "cell_type": "code",
   "execution_count": 24,
   "id": "3b2007f4",
   "metadata": {},
   "outputs": [
    {
     "data": {
      "text/plain": [
       "Index(['Spain', 'Belgium', 'France', 'Italy', 'Germany', 'Portugal', 'Norway',\n",
       "       'Greece'],\n",
       "      dtype='object')"
      ]
     },
     "execution_count": 24,
     "metadata": {},
     "output_type": "execute_result"
    }
   ],
   "source": [
    "s.index"
   ]
  },
  {
   "cell_type": "markdown",
   "id": "03749b27",
   "metadata": {},
   "source": [
    "Check the type of the index:"
   ]
  },
  {
   "cell_type": "code",
   "execution_count": 25,
   "id": "709b21bd",
   "metadata": {},
   "outputs": [
    {
     "data": {
      "text/plain": [
       "pandas.core.indexes.base.Index"
      ]
     },
     "execution_count": 25,
     "metadata": {},
     "output_type": "execute_result"
    }
   ],
   "source": [
    "type(s.index)"
   ]
  },
  {
   "cell_type": "markdown",
   "id": "477e6e62",
   "metadata": {},
   "source": [
    "## Exercise 4"
   ]
  },
  {
   "cell_type": "code",
   "execution_count": 26,
   "id": "23731ae8",
   "metadata": {
    "tags": [
     "no-replacement"
    ]
   },
   "outputs": [
    {
     "data": {
      "text/plain": [
       "Date\n",
       "1984-09-07    2981600\n",
       "1984-09-10    2346400\n",
       "1984-09-11    5444000\n",
       "1984-09-12    4773600\n",
       "1984-09-13    7429600\n",
       "Name: Volume, dtype: int64"
      ]
     },
     "execution_count": 26,
     "metadata": {},
     "output_type": "execute_result"
    }
   ],
   "source": [
    "apple.head()"
   ]
  },
  {
   "cell_type": "markdown",
   "id": "c2ae55a0",
   "metadata": {},
   "source": [
    "Check the index:"
   ]
  },
  {
   "cell_type": "code",
   "execution_count": 27,
   "id": "5860ff5d",
   "metadata": {},
   "outputs": [
    {
     "data": {
      "text/plain": [
       "DatetimeIndex(['1984-09-07', '1984-09-10', '1984-09-11', '1984-09-12',\n",
       "               '1984-09-13', '1984-09-14', '1984-09-17', '1984-09-18',\n",
       "               '1984-09-19', '1984-09-20',\n",
       "               ...\n",
       "               '2008-10-01', '2008-10-02', '2008-10-03', '2008-10-06',\n",
       "               '2008-10-07', '2008-10-08', '2008-10-09', '2008-10-10',\n",
       "               '2008-10-13', '2008-10-14'],\n",
       "              dtype='datetime64[ns]', name='Date', length=6081, freq=None)"
      ]
     },
     "execution_count": 27,
     "metadata": {},
     "output_type": "execute_result"
    }
   ],
   "source": [
    "apple.index"
   ]
  },
  {
   "cell_type": "markdown",
   "id": "e859a2a1",
   "metadata": {},
   "source": [
    "Check the type of the index:"
   ]
  },
  {
   "cell_type": "code",
   "execution_count": 28,
   "id": "cf3400a6",
   "metadata": {},
   "outputs": [
    {
     "data": {
      "text/plain": [
       "pandas.core.indexes.datetimes.DatetimeIndex"
      ]
     },
     "execution_count": 28,
     "metadata": {},
     "output_type": "execute_result"
    }
   ],
   "source": [
    "type(apple.index)"
   ]
  },
  {
   "cell_type": "markdown",
   "id": "69459b6e",
   "metadata": {},
   "source": [
    "## Demo 5: Data types"
   ]
  },
  {
   "cell_type": "markdown",
   "id": "30cfe4c2",
   "metadata": {},
   "source": [
    "Check the data type of the series:"
   ]
  },
  {
   "cell_type": "code",
   "execution_count": 29,
   "id": "62729297",
   "metadata": {},
   "outputs": [
    {
     "data": {
      "text/plain": [
       "StringDtype"
      ]
     },
     "execution_count": 29,
     "metadata": {},
     "output_type": "execute_result"
    }
   ],
   "source": [
    "s.dtype"
   ]
  },
  {
   "cell_type": "markdown",
   "id": "a69700cc",
   "metadata": {},
   "source": [
    "## Exercise 5"
   ]
  },
  {
   "cell_type": "code",
   "execution_count": 30,
   "id": "7da50654",
   "metadata": {
    "tags": [
     "no-replacement"
    ]
   },
   "outputs": [
    {
     "data": {
      "text/plain": [
       "Date\n",
       "1984-09-07    2981600\n",
       "1984-09-10    2346400\n",
       "1984-09-11    5444000\n",
       "1984-09-12    4773600\n",
       "1984-09-13    7429600\n",
       "Name: Volume, dtype: int64"
      ]
     },
     "execution_count": 30,
     "metadata": {},
     "output_type": "execute_result"
    }
   ],
   "source": [
    "apple.head()"
   ]
  },
  {
   "cell_type": "markdown",
   "id": "089f7a90",
   "metadata": {},
   "source": [
    "Check the data type of the series:"
   ]
  },
  {
   "cell_type": "code",
   "execution_count": 31,
   "id": "d2888fe7",
   "metadata": {},
   "outputs": [
    {
     "data": {
      "text/plain": [
       "dtype('int64')"
      ]
     },
     "execution_count": 31,
     "metadata": {},
     "output_type": "execute_result"
    }
   ],
   "source": [
    "apple.dtype"
   ]
  },
  {
   "cell_type": "markdown",
   "id": "7e241282",
   "metadata": {},
   "source": [
    "## Demo 6: Missing data"
   ]
  },
  {
   "cell_type": "markdown",
   "id": "e2d19531",
   "metadata": {},
   "source": [
    "Check if there is any missing data:"
   ]
  },
  {
   "cell_type": "code",
   "execution_count": 32,
   "id": "eb5a3a78",
   "metadata": {},
   "outputs": [
    {
     "data": {
      "text/plain": [
       "Spain       False\n",
       "Belgium     False\n",
       "France      False\n",
       "Italy       False\n",
       "Germany     False\n",
       "Portugal    False\n",
       "Norway      False\n",
       "Greece      False\n",
       "dtype: bool"
      ]
     },
     "execution_count": 32,
     "metadata": {},
     "output_type": "execute_result"
    }
   ],
   "source": [
    "s.isnull()"
   ]
  },
  {
   "cell_type": "code",
   "execution_count": 33,
   "id": "85840561",
   "metadata": {},
   "outputs": [
    {
     "data": {
      "text/plain": [
       "Spain       True\n",
       "Belgium     True\n",
       "France      True\n",
       "Italy       True\n",
       "Germany     True\n",
       "Portugal    True\n",
       "Norway      True\n",
       "Greece      True\n",
       "dtype: bool"
      ]
     },
     "execution_count": 33,
     "metadata": {},
     "output_type": "execute_result"
    }
   ],
   "source": [
    "s.notnull()"
   ]
  },
  {
   "cell_type": "markdown",
   "id": "7c3d45c0",
   "metadata": {},
   "source": [
    "Count the number of non-missing values:"
   ]
  },
  {
   "cell_type": "code",
   "execution_count": 34,
   "id": "c9d87fa5",
   "metadata": {},
   "outputs": [
    {
     "data": {
      "text/plain": [
       "8"
      ]
     },
     "execution_count": 34,
     "metadata": {},
     "output_type": "execute_result"
    }
   ],
   "source": [
    "s.count()"
   ]
  },
  {
   "cell_type": "markdown",
   "id": "ad256613",
   "metadata": {},
   "source": [
    "## Exercise 6"
   ]
  },
  {
   "cell_type": "code",
   "execution_count": 35,
   "id": "0df673f7",
   "metadata": {
    "tags": [
     "no-replacement"
    ]
   },
   "outputs": [
    {
     "data": {
      "text/plain": [
       "Date\n",
       "1984-09-07    2981600\n",
       "1984-09-10    2346400\n",
       "1984-09-11    5444000\n",
       "1984-09-12    4773600\n",
       "1984-09-13    7429600\n",
       "Name: Volume, dtype: int64"
      ]
     },
     "execution_count": 35,
     "metadata": {},
     "output_type": "execute_result"
    }
   ],
   "source": [
    "apple.head()"
   ]
  },
  {
   "cell_type": "markdown",
   "id": "4ceb1c29",
   "metadata": {},
   "source": [
    "Check if there is any missing data:"
   ]
  },
  {
   "cell_type": "code",
   "execution_count": 36,
   "id": "654af04d",
   "metadata": {},
   "outputs": [
    {
     "data": {
      "text/plain": [
       "Date\n",
       "1984-09-07    False\n",
       "1984-09-10    False\n",
       "1984-09-11    False\n",
       "1984-09-12    False\n",
       "1984-09-13    False\n",
       "              ...  \n",
       "2008-10-08    False\n",
       "2008-10-09    False\n",
       "2008-10-10    False\n",
       "2008-10-13    False\n",
       "2008-10-14    False\n",
       "Name: Volume, Length: 6081, dtype: bool"
      ]
     },
     "execution_count": 36,
     "metadata": {},
     "output_type": "execute_result"
    }
   ],
   "source": [
    "apple.isnull()"
   ]
  },
  {
   "cell_type": "code",
   "execution_count": 37,
   "id": "3779dd64",
   "metadata": {},
   "outputs": [
    {
     "data": {
      "text/plain": [
       "Date\n",
       "1984-09-07    True\n",
       "1984-09-10    True\n",
       "1984-09-11    True\n",
       "1984-09-12    True\n",
       "1984-09-13    True\n",
       "              ... \n",
       "2008-10-08    True\n",
       "2008-10-09    True\n",
       "2008-10-10    True\n",
       "2008-10-13    True\n",
       "2008-10-14    True\n",
       "Name: Volume, Length: 6081, dtype: bool"
      ]
     },
     "execution_count": 37,
     "metadata": {},
     "output_type": "execute_result"
    }
   ],
   "source": [
    "apple.notnull()"
   ]
  },
  {
   "cell_type": "markdown",
   "id": "e2280810",
   "metadata": {},
   "source": [
    "Count the number of non-missing values:"
   ]
  },
  {
   "cell_type": "code",
   "execution_count": 38,
   "id": "f4cf2d1a",
   "metadata": {},
   "outputs": [
    {
     "data": {
      "text/plain": [
       "6081"
      ]
     },
     "execution_count": 38,
     "metadata": {},
     "output_type": "execute_result"
    }
   ],
   "source": [
    "apple.count()"
   ]
  },
  {
   "cell_type": "markdown",
   "id": "c94149e3",
   "metadata": {},
   "source": [
    "## Demo 7: `name` attributes"
   ]
  },
  {
   "cell_type": "markdown",
   "id": "45134c77",
   "metadata": {},
   "source": [
    "Check the `name` attribute of the Series:"
   ]
  },
  {
   "cell_type": "code",
   "execution_count": 39,
   "id": "8568e887",
   "metadata": {},
   "outputs": [],
   "source": [
    "s.name"
   ]
  },
  {
   "cell_type": "code",
   "execution_count": 40,
   "id": "5fa66e88",
   "metadata": {},
   "outputs": [
    {
     "data": {
      "text/plain": [
       "Spain         Madrid\n",
       "Belgium     Brussels\n",
       "France         Paris\n",
       "Italy           Roma\n",
       "Germany       Berlin\n",
       "Portugal      Lisbon\n",
       "Norway          Oslo\n",
       "Greece        Athens\n",
       "dtype: string"
      ]
     },
     "execution_count": 40,
     "metadata": {},
     "output_type": "execute_result"
    }
   ],
   "source": [
    "s"
   ]
  },
  {
   "cell_type": "markdown",
   "id": "d4193c32",
   "metadata": {},
   "source": [
    "Check the `name` attribute of the index:"
   ]
  },
  {
   "cell_type": "code",
   "execution_count": 41,
   "id": "c15c8afe",
   "metadata": {},
   "outputs": [],
   "source": [
    "s.index.name"
   ]
  },
  {
   "cell_type": "markdown",
   "id": "4b95d163",
   "metadata": {},
   "source": [
    "Set the name of the Series:"
   ]
  },
  {
   "cell_type": "code",
   "execution_count": 42,
   "id": "dbca1fb1",
   "metadata": {},
   "outputs": [],
   "source": [
    "s.name = \"capitals\""
   ]
  },
  {
   "cell_type": "code",
   "execution_count": 43,
   "id": "5108e3f9",
   "metadata": {},
   "outputs": [
    {
     "data": {
      "text/plain": [
       "Spain         Madrid\n",
       "Belgium     Brussels\n",
       "France         Paris\n",
       "Italy           Roma\n",
       "Germany       Berlin\n",
       "Portugal      Lisbon\n",
       "Norway          Oslo\n",
       "Greece        Athens\n",
       "Name: capitals, dtype: string"
      ]
     },
     "execution_count": 43,
     "metadata": {},
     "output_type": "execute_result"
    }
   ],
   "source": [
    "s"
   ]
  },
  {
   "cell_type": "code",
   "execution_count": 44,
   "id": "9df90a6e",
   "metadata": {},
   "outputs": [
    {
     "data": {
      "text/plain": [
       "'capitals'"
      ]
     },
     "execution_count": 44,
     "metadata": {},
     "output_type": "execute_result"
    }
   ],
   "source": [
    "s.name"
   ]
  },
  {
   "cell_type": "markdown",
   "id": "ee55512a",
   "metadata": {},
   "source": [
    "Set the name of the index:"
   ]
  },
  {
   "cell_type": "code",
   "execution_count": 45,
   "id": "2cae162e",
   "metadata": {},
   "outputs": [],
   "source": [
    "s.index.name = \"country\""
   ]
  },
  {
   "cell_type": "code",
   "execution_count": 46,
   "id": "57652fcc",
   "metadata": {},
   "outputs": [
    {
     "data": {
      "text/plain": [
       "country\n",
       "Spain         Madrid\n",
       "Belgium     Brussels\n",
       "France         Paris\n",
       "Italy           Roma\n",
       "Germany       Berlin\n",
       "Portugal      Lisbon\n",
       "Norway          Oslo\n",
       "Greece        Athens\n",
       "Name: capitals, dtype: string"
      ]
     },
     "execution_count": 46,
     "metadata": {},
     "output_type": "execute_result"
    }
   ],
   "source": [
    "s"
   ]
  },
  {
   "cell_type": "code",
   "execution_count": 47,
   "id": "90f84132",
   "metadata": {},
   "outputs": [
    {
     "data": {
      "text/plain": [
       "'country'"
      ]
     },
     "execution_count": 47,
     "metadata": {},
     "output_type": "execute_result"
    }
   ],
   "source": [
    "s.index.name"
   ]
  },
  {
   "cell_type": "markdown",
   "id": "4f8ab6ca",
   "metadata": {},
   "source": [
    "## Exercise 7"
   ]
  },
  {
   "cell_type": "code",
   "execution_count": 48,
   "id": "075035ff",
   "metadata": {
    "tags": [
     "no-replacement"
    ]
   },
   "outputs": [
    {
     "data": {
      "text/plain": [
       "Date\n",
       "1984-09-07    2981600\n",
       "1984-09-10    2346400\n",
       "1984-09-11    5444000\n",
       "1984-09-12    4773600\n",
       "1984-09-13    7429600\n",
       "Name: Volume, dtype: int64"
      ]
     },
     "execution_count": 48,
     "metadata": {},
     "output_type": "execute_result"
    }
   ],
   "source": [
    "apple.head()"
   ]
  },
  {
   "cell_type": "markdown",
   "id": "b0e6f9f8",
   "metadata": {},
   "source": [
    "Check the `name` attribute of the Series:"
   ]
  },
  {
   "cell_type": "code",
   "execution_count": 49,
   "id": "72aa4bdc",
   "metadata": {
    "tags": [
     "raises-error"
    ]
   },
   "outputs": [
    {
     "data": {
      "text/plain": [
       "'Volume'"
      ]
     },
     "execution_count": 49,
     "metadata": {},
     "output_type": "execute_result"
    }
   ],
   "source": [
    "apple.name"
   ]
  },
  {
   "cell_type": "markdown",
   "id": "198cfa16",
   "metadata": {},
   "source": [
    "Check the `name` attribute of the index:"
   ]
  },
  {
   "cell_type": "code",
   "execution_count": 50,
   "id": "c0263d90",
   "metadata": {},
   "outputs": [
    {
     "data": {
      "text/plain": [
       "'Date'"
      ]
     },
     "execution_count": 50,
     "metadata": {},
     "output_type": "execute_result"
    }
   ],
   "source": [
    "apple.index.name"
   ]
  },
  {
   "cell_type": "markdown",
   "id": "cf7b5cc7",
   "metadata": {},
   "source": [
    "Set the name of the Series to \"Apple Stock\":"
   ]
  },
  {
   "cell_type": "code",
   "execution_count": 52,
   "id": "eea33803",
   "metadata": {},
   "outputs": [],
   "source": [
    "apple.name = \"Apple Stock\""
   ]
  },
  {
   "cell_type": "code",
   "execution_count": 53,
   "id": "eaa0fa1d",
   "metadata": {},
   "outputs": [
    {
     "data": {
      "text/plain": [
       "'Apple Stock'"
      ]
     },
     "execution_count": 53,
     "metadata": {},
     "output_type": "execute_result"
    }
   ],
   "source": [
    "apple.name"
   ]
  },
  {
   "cell_type": "code",
   "execution_count": 54,
   "id": "16f50497",
   "metadata": {},
   "outputs": [
    {
     "data": {
      "text/plain": [
       "Date\n",
       "1984-09-07     2981600\n",
       "1984-09-10     2346400\n",
       "1984-09-11     5444000\n",
       "1984-09-12     4773600\n",
       "1984-09-13     7429600\n",
       "                ...   \n",
       "2008-10-08    78847900\n",
       "2008-10-09    57763700\n",
       "2008-10-10    79260700\n",
       "2008-10-13    54967000\n",
       "2008-10-14    70749800\n",
       "Name: Apple Stock, Length: 6081, dtype: int64"
      ]
     },
     "execution_count": 54,
     "metadata": {},
     "output_type": "execute_result"
    }
   ],
   "source": [
    "apple"
   ]
  },
  {
   "cell_type": "markdown",
   "id": "c88750db",
   "metadata": {},
   "source": [
    "## Demo 8: Underlying values (`numpy` arrays)"
   ]
  },
  {
   "cell_type": "markdown",
   "id": "b9232127",
   "metadata": {},
   "source": [
    "Check the underlying values:"
   ]
  },
  {
   "cell_type": "code",
   "execution_count": 55,
   "id": "bcf89466",
   "metadata": {},
   "outputs": [
    {
     "data": {
      "text/plain": [
       "<StringArray>\n",
       "['Madrid', 'Brussels', 'Paris', 'Roma', 'Berlin', 'Lisbon', 'Oslo', 'Athens']\n",
       "Length: 8, dtype: string"
      ]
     },
     "execution_count": 55,
     "metadata": {},
     "output_type": "execute_result"
    }
   ],
   "source": [
    "s.values"
   ]
  },
  {
   "cell_type": "markdown",
   "id": "10fa624e",
   "metadata": {},
   "source": [
    "Note that the underlying values are stored in `numpy` arrays:"
   ]
  },
  {
   "cell_type": "code",
   "execution_count": 56,
   "id": "3365fe15",
   "metadata": {},
   "outputs": [
    {
     "data": {
      "text/plain": [
       "pandas.core.arrays.string_.StringArray"
      ]
     },
     "execution_count": 56,
     "metadata": {},
     "output_type": "execute_result"
    }
   ],
   "source": [
    "type(s.values)"
   ]
  },
  {
   "cell_type": "markdown",
   "id": "e1abcd24",
   "metadata": {},
   "source": [
    "## Exercise 8"
   ]
  },
  {
   "cell_type": "code",
   "execution_count": 57,
   "id": "4ab522ab",
   "metadata": {
    "tags": [
     "no-replacement"
    ]
   },
   "outputs": [
    {
     "data": {
      "text/plain": [
       "Date\n",
       "1984-09-07    2981600\n",
       "1984-09-10    2346400\n",
       "1984-09-11    5444000\n",
       "1984-09-12    4773600\n",
       "1984-09-13    7429600\n",
       "Name: Apple Stock, dtype: int64"
      ]
     },
     "execution_count": 57,
     "metadata": {},
     "output_type": "execute_result"
    }
   ],
   "source": [
    "apple.head()"
   ]
  },
  {
   "cell_type": "markdown",
   "id": "7e200238",
   "metadata": {},
   "source": [
    "Check the underlying values:"
   ]
  },
  {
   "cell_type": "code",
   "execution_count": 58,
   "id": "fa35b0f1",
   "metadata": {},
   "outputs": [
    {
     "data": {
      "text/plain": [
       "array([ 2981600,  2346400,  5444000, ..., 79260700, 54967000, 70749800],\n",
       "      dtype=int64)"
      ]
     },
     "execution_count": 58,
     "metadata": {},
     "output_type": "execute_result"
    }
   ],
   "source": [
    "apple.values"
   ]
  },
  {
   "cell_type": "markdown",
   "id": "6e756939",
   "metadata": {},
   "source": [
    "Check the type of the underlying values:"
   ]
  },
  {
   "cell_type": "code",
   "execution_count": 59,
   "id": "61742c5e",
   "metadata": {},
   "outputs": [
    {
     "data": {
      "text/plain": [
       "numpy.ndarray"
      ]
     },
     "execution_count": 59,
     "metadata": {},
     "output_type": "execute_result"
    }
   ],
   "source": [
    "type(apple.values)"
   ]
  },
  {
   "cell_type": "markdown",
   "id": "10031436",
   "metadata": {},
   "source": [
    "## Bonus: Conversion to `DataFrame`"
   ]
  },
  {
   "cell_type": "markdown",
   "id": "82aae97d",
   "metadata": {},
   "source": [
    "Turn a Series into a DataFrame:"
   ]
  },
  {
   "cell_type": "code",
   "execution_count": 60,
   "id": "1be79df5",
   "metadata": {},
   "outputs": [],
   "source": [
    "df = s.to_frame()"
   ]
  },
  {
   "cell_type": "code",
   "execution_count": 61,
   "id": "51476afa",
   "metadata": {},
   "outputs": [
    {
     "data": {
      "text/html": [
       "<div>\n",
       "<style scoped>\n",
       "    .dataframe tbody tr th:only-of-type {\n",
       "        vertical-align: middle;\n",
       "    }\n",
       "\n",
       "    .dataframe tbody tr th {\n",
       "        vertical-align: top;\n",
       "    }\n",
       "\n",
       "    .dataframe thead th {\n",
       "        text-align: right;\n",
       "    }\n",
       "</style>\n",
       "<table border=\"1\" class=\"dataframe\">\n",
       "  <thead>\n",
       "    <tr style=\"text-align: right;\">\n",
       "      <th></th>\n",
       "      <th>capitals</th>\n",
       "    </tr>\n",
       "    <tr>\n",
       "      <th>country</th>\n",
       "      <th></th>\n",
       "    </tr>\n",
       "  </thead>\n",
       "  <tbody>\n",
       "    <tr>\n",
       "      <th>Spain</th>\n",
       "      <td>Madrid</td>\n",
       "    </tr>\n",
       "    <tr>\n",
       "      <th>Belgium</th>\n",
       "      <td>Brussels</td>\n",
       "    </tr>\n",
       "    <tr>\n",
       "      <th>France</th>\n",
       "      <td>Paris</td>\n",
       "    </tr>\n",
       "    <tr>\n",
       "      <th>Italy</th>\n",
       "      <td>Roma</td>\n",
       "    </tr>\n",
       "    <tr>\n",
       "      <th>Germany</th>\n",
       "      <td>Berlin</td>\n",
       "    </tr>\n",
       "    <tr>\n",
       "      <th>Portugal</th>\n",
       "      <td>Lisbon</td>\n",
       "    </tr>\n",
       "    <tr>\n",
       "      <th>Norway</th>\n",
       "      <td>Oslo</td>\n",
       "    </tr>\n",
       "    <tr>\n",
       "      <th>Greece</th>\n",
       "      <td>Athens</td>\n",
       "    </tr>\n",
       "  </tbody>\n",
       "</table>\n",
       "</div>"
      ],
      "text/plain": [
       "          capitals\n",
       "country           \n",
       "Spain       Madrid\n",
       "Belgium   Brussels\n",
       "France       Paris\n",
       "Italy         Roma\n",
       "Germany     Berlin\n",
       "Portugal    Lisbon\n",
       "Norway        Oslo\n",
       "Greece      Athens"
      ]
     },
     "execution_count": 61,
     "metadata": {},
     "output_type": "execute_result"
    }
   ],
   "source": [
    "df"
   ]
  },
  {
   "cell_type": "code",
   "execution_count": 62,
   "id": "24284128",
   "metadata": {},
   "outputs": [
    {
     "data": {
      "text/plain": [
       "pandas.core.frame.DataFrame"
      ]
     },
     "execution_count": 62,
     "metadata": {},
     "output_type": "execute_result"
    }
   ],
   "source": [
    "type(df)"
   ]
  },
  {
   "cell_type": "markdown",
   "id": "67a853a4",
   "metadata": {},
   "source": [
    "<div class=\"alert alert-info\">\n",
    "\n",
    "<b>Note:</b> The <code>DataFrame</code> gets the same index as the <code>Series</code>!\n",
    "\n",
    "</div>"
   ]
  },
  {
   "cell_type": "markdown",
   "id": "84a443f7",
   "metadata": {},
   "source": [
    "Note that the shapes of a Series and of a DataFrame with a single column are not the same:"
   ]
  },
  {
   "cell_type": "code",
   "execution_count": 63,
   "id": "0d5e3aa2",
   "metadata": {},
   "outputs": [
    {
     "data": {
      "text/plain": [
       "(8,)"
      ]
     },
     "execution_count": 63,
     "metadata": {},
     "output_type": "execute_result"
    }
   ],
   "source": [
    "s.shape"
   ]
  },
  {
   "cell_type": "code",
   "execution_count": 64,
   "id": "a103fac1",
   "metadata": {},
   "outputs": [
    {
     "data": {
      "text/plain": [
       "(8, 1)"
      ]
     },
     "execution_count": 64,
     "metadata": {},
     "output_type": "execute_result"
    }
   ],
   "source": [
    "df.shape"
   ]
  },
  {
   "cell_type": "markdown",
   "id": "96d2d1bd",
   "metadata": {},
   "source": [
    "<div class=\"alert alert-info\">\n",
    "\n",
    "<b>Note:</b> The shape of a <code>Series</code> with <code>N</code> elements is <code>(N,)</code>, whereas the shape of a <code>DataFrame</code> with a single column is <code>(N, 1)</code>.\n",
    "\n",
    "</div>"
   ]
  }
 ],
 "metadata": {
  "kernelspec": {
   "display_name": "Python 3",
   "language": "python",
   "name": "python3"
  },
  "language_info": {
   "codemirror_mode": {
    "name": "ipython",
    "version": 3
   },
   "file_extension": ".py",
   "mimetype": "text/x-python",
   "name": "python",
   "nbconvert_exporter": "python",
   "pygments_lexer": "ipython3",
   "version": "3.8.10"
  }
 },
 "nbformat": 4,
 "nbformat_minor": 5
}
