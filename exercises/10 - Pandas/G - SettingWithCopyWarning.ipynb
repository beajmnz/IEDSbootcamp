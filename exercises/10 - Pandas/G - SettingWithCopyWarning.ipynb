{
 "cells": [
  {
   "cell_type": "markdown",
   "id": "a35e972e",
   "metadata": {},
   "source": [
    "# `SettingWithCopyWarning`"
   ]
  },
  {
   "cell_type": "code",
   "execution_count": null,
   "id": "69310aed",
   "metadata": {},
   "outputs": [],
   "source": [
    "import pandas as pd"
   ]
  },
  {
   "cell_type": "markdown",
   "id": "c53dff9b",
   "metadata": {},
   "source": [
    "## The `SettingWithCopyWarning` should never be ignored!"
   ]
  },
  {
   "cell_type": "code",
   "execution_count": null,
   "id": "107a181a",
   "metadata": {},
   "outputs": [],
   "source": [
    "data = {\n",
    "    \"Capital\": {\n",
    "        \"Spain\": \"Madrid\",\n",
    "        \"Belgium\": \"Brussels\",\n",
    "        \"France\": \"Paris\",\n",
    "        \"Italy\": \"Roma\",\n",
    "        \"Germany\": \"Berlin\",\n",
    "        \"Portugal\": \"Lisbon\",\n",
    "        \"Norway\": \"Oslo\",\n",
    "        \"Greece\": \"Athens\",\n",
    "    },\n",
    "    \"Population\": {\n",
    "        \"Spain\": 46733038,\n",
    "        \"Belgium\": 11449656,\n",
    "        \"France\": 67076000,\n",
    "        \"Italy\": 60390560,\n",
    "        \"Germany\": 83122889,\n",
    "        \"Portugal\": 10295909,\n",
    "        \"Norway\": 5391369,\n",
    "        \"Greece\": 10718565,\n",
    "    },\n",
    "    \"Monarch\": {\n",
    "        \"Spain\": \"Felipe VI\",\n",
    "        \"Belgium\": \"Philippe\",\n",
    "        \"Norway\": \"Harald V\",\n",
    "    },\n",
    "    \"Area\": {\n",
    "        \"Spain\": 505990,\n",
    "        \"Belgium\": 30688,\n",
    "        \"France\": 640679,\n",
    "        \"Italy\": 301340,\n",
    "        \"Germany\": 357022,\n",
    "        \"Portugal\": 92212,\n",
    "        \"Norway\": 385207,\n",
    "        \"Greece\": 131957,\n",
    "    },\n",
    "}"
   ]
  },
  {
   "cell_type": "code",
   "execution_count": null,
   "id": "baba7bd3",
   "metadata": {},
   "outputs": [],
   "source": [
    "# For now, let's forget about these steps:\n",
    "df = pd.DataFrame(data)\n",
    "df.index.name = \"Country\"\n",
    "df = df.reset_index()\n",
    "df[\"Country\"] = df[\"Country\"].astype(\"string\")\n",
    "df[\"Capital\"] = df[\"Capital\"].astype(\"string\")\n",
    "df[\"Monarch\"] = df[\"Monarch\"].astype(\"string\")"
   ]
  },
  {
   "cell_type": "code",
   "execution_count": null,
   "id": "8aa54d9c",
   "metadata": {},
   "outputs": [],
   "source": [
    "df"
   ]
  },
  {
   "cell_type": "markdown",
   "id": "651dd071",
   "metadata": {},
   "source": [
    "Italy decides to change its constitution, and **Queen Vittoria** is the new monarch - time to correct the data!"
   ]
  },
  {
   "cell_type": "markdown",
   "id": "839963c9",
   "metadata": {},
   "source": [
    "### Chained indexing"
   ]
  },
  {
   "cell_type": "code",
   "execution_count": null,
   "id": "63aad36e",
   "metadata": {},
   "outputs": [],
   "source": [
    "df[\"Monarch\"]"
   ]
  },
  {
   "cell_type": "code",
   "execution_count": null,
   "id": "e432056d",
   "metadata": {},
   "outputs": [],
   "source": [
    "df[\"Country\"] == \"Italy\""
   ]
  },
  {
   "cell_type": "code",
   "execution_count": null,
   "id": "ce2a5863",
   "metadata": {},
   "outputs": [],
   "source": [
    "df[df[\"Country\"] == \"Italy\"]"
   ]
  },
  {
   "cell_type": "code",
   "execution_count": null,
   "id": "39777adf",
   "metadata": {},
   "outputs": [],
   "source": [
    "df[df[\"Country\"] == \"Italy\"][\"Monarch\"]"
   ]
  },
  {
   "cell_type": "code",
   "execution_count": null,
   "id": "252caca3",
   "metadata": {},
   "outputs": [],
   "source": [
    "df[df[\"Country\"] == \"Italy\"][\"Monarch\"] = \"Vittoria\""
   ]
  },
  {
   "cell_type": "markdown",
   "id": "ea947032",
   "metadata": {},
   "source": [
    "<div class=\"alert alert-warning\">\n",
    "\n",
    "<b>Beware:</b> Every single warning should be read, understood, and <b>the code should be fixed to remove the warning!</b>\n",
    "\n",
    "</div>"
   ]
  },
  {
   "cell_type": "code",
   "execution_count": null,
   "id": "22a5a67f",
   "metadata": {},
   "outputs": [],
   "source": [
    "df"
   ]
  },
  {
   "cell_type": "markdown",
   "id": "e4f9a276",
   "metadata": {},
   "source": [
    "### `.loc[]` and `.iloc[]` methods"
   ]
  },
  {
   "cell_type": "code",
   "execution_count": null,
   "id": "91432a63",
   "metadata": {},
   "outputs": [],
   "source": [
    "df[df[\"Country\"] == \"Italy\"][\"Monarch\"]"
   ]
  },
  {
   "cell_type": "code",
   "execution_count": null,
   "id": "dca2aa81",
   "metadata": {},
   "outputs": [],
   "source": [
    "df.loc[df[\"Country\"] == \"Italy\", \"Monarch\"]"
   ]
  },
  {
   "cell_type": "code",
   "execution_count": null,
   "id": "58047aea",
   "metadata": {},
   "outputs": [],
   "source": [
    "df.loc[df[\"Country\"] == \"Italy\", \"Monarch\"] = \"Vittoria\""
   ]
  },
  {
   "cell_type": "code",
   "execution_count": null,
   "id": "7c216bec",
   "metadata": {},
   "outputs": [],
   "source": [
    "df"
   ]
  },
  {
   "cell_type": "markdown",
   "id": "03558a92",
   "metadata": {},
   "source": [
    "<div class=\"alert alert-success\">\n",
    "\n",
    "<b>Best Practice:</b> Use <code>.loc[]</code> / <code>.iloc[]</code> when selecting on both rows and columns to <b>view values</b> (i.e. avoid <code>][</code>).\n",
    "\n",
    "</div>"
   ]
  },
  {
   "cell_type": "markdown",
   "id": "21eea361",
   "metadata": {},
   "source": [
    "<div class=\"alert alert-danger\">\n",
    "\n",
    "<b>Warning:</b> Always use <code>.loc[]</code> / <code>.iloc[]</code> when selecting on both rows and columns to <b>assign values</b>!\n",
    "\n",
    "</div>"
   ]
  },
  {
   "cell_type": "markdown",
   "id": "d0352e9a",
   "metadata": {},
   "source": [
    "## The `SettingWithCopyWarning` applies to assignments"
   ]
  },
  {
   "cell_type": "code",
   "execution_count": null,
   "id": "86eaacbe",
   "metadata": {},
   "outputs": [],
   "source": [
    "df = pd.DataFrame({\"a\": [1, 2, 3, 4, 5], \"b\": [10, 20, 30, 40, 50]})"
   ]
  },
  {
   "cell_type": "code",
   "execution_count": null,
   "id": "81534b36",
   "metadata": {},
   "outputs": [],
   "source": [
    "df"
   ]
  },
  {
   "cell_type": "markdown",
   "id": "a155f231",
   "metadata": {},
   "source": [
    "For rows of b where a was 3 or less, set them equal to b / 10."
   ]
  },
  {
   "cell_type": "markdown",
   "id": "0e309682",
   "metadata": {},
   "source": [
    "### Chained indexing"
   ]
  },
  {
   "cell_type": "code",
   "execution_count": null,
   "id": "7f220778",
   "metadata": {},
   "outputs": [],
   "source": [
    "df[\"a\"] <= 3"
   ]
  },
  {
   "cell_type": "code",
   "execution_count": null,
   "id": "68743891",
   "metadata": {},
   "outputs": [],
   "source": [
    "df[df[\"a\"] <= 3]"
   ]
  },
  {
   "cell_type": "code",
   "execution_count": null,
   "id": "3c6fb955",
   "metadata": {},
   "outputs": [],
   "source": [
    "df[df[\"a\"] <= 3][\"b\"]"
   ]
  },
  {
   "cell_type": "code",
   "execution_count": null,
   "id": "56adb8d8",
   "metadata": {},
   "outputs": [],
   "source": [
    "df[df[\"a\"] <= 3][\"b\"] = df[df[\"a\"] <= 3][\"b\"] / 10"
   ]
  },
  {
   "cell_type": "markdown",
   "id": "f5dea2ae",
   "metadata": {},
   "source": [
    "<div class=\"alert alert-warning\">\n",
    "\n",
    "<b>Beware:</b> Every single warning should be read, understood, and <b>the code should be fixed to remove the warning!</b>\n",
    "\n",
    "</div>"
   ]
  },
  {
   "cell_type": "code",
   "execution_count": null,
   "id": "caa54270",
   "metadata": {},
   "outputs": [],
   "source": [
    "df"
   ]
  },
  {
   "cell_type": "markdown",
   "id": "118c0434",
   "metadata": {},
   "source": [
    "### `.loc[]` and `.iloc[]` methods"
   ]
  },
  {
   "cell_type": "code",
   "execution_count": null,
   "id": "784618d6",
   "metadata": {},
   "outputs": [],
   "source": [
    "df[df[\"a\"] <= 3][\"b\"]"
   ]
  },
  {
   "cell_type": "code",
   "execution_count": null,
   "id": "e6df1efe",
   "metadata": {},
   "outputs": [],
   "source": [
    "df.loc[df[\"a\"] <= 3, \"b\"]"
   ]
  },
  {
   "cell_type": "markdown",
   "id": "2a8c0685",
   "metadata": {},
   "source": [
    "The `.loc[]` and `.iloc[]` methods **must be used for assignement**, i.e. on the left of the equal sign:"
   ]
  },
  {
   "cell_type": "code",
   "execution_count": null,
   "id": "cd63bb74",
   "metadata": {},
   "outputs": [],
   "source": [
    "df[df[\"a\"] <= 3][\"b\"] = df[df[\"a\"] <= 3][\"b\"] / 10"
   ]
  },
  {
   "cell_type": "code",
   "execution_count": null,
   "id": "402c68e0",
   "metadata": {},
   "outputs": [],
   "source": [
    "df.loc[df[\"a\"] <= 3, \"b\"] = df[df[\"a\"] <= 3][\"b\"] / 10"
   ]
  },
  {
   "cell_type": "code",
   "execution_count": null,
   "id": "d63dd422",
   "metadata": {},
   "outputs": [],
   "source": [
    "df"
   ]
  },
  {
   "cell_type": "markdown",
   "id": "ec7d1500",
   "metadata": {},
   "source": [
    "<div class=\"alert alert-success\">\n",
    "\n",
    "<b>Best Practice:</b> Use <code>.loc[]</code> / <code>.iloc[]</code> when selecting on both rows and columns to <b>view values</b> (i.e. avoid <code>][</code>).\n",
    "\n",
    "</div>"
   ]
  },
  {
   "cell_type": "markdown",
   "id": "2ec4f7c7",
   "metadata": {},
   "source": [
    "<div class=\"alert alert-danger\">\n",
    "\n",
    "<b>Warning:</b> Always use <code>.loc[]</code> / <code>.iloc[]</code> when selecting on both rows and columns to <b>assign values</b>!\n",
    "\n",
    "</div>"
   ]
  },
  {
   "cell_type": "markdown",
   "id": "748f4e43",
   "metadata": {},
   "source": [
    "## The `SettingWithCopyWarning` can come from much earlier!"
   ]
  },
  {
   "cell_type": "code",
   "execution_count": null,
   "id": "d3cfbaab",
   "metadata": {},
   "outputs": [],
   "source": [
    "data = {\n",
    "    \"Capital\": {\n",
    "        \"Spain\": \"Madrid\",\n",
    "        \"Belgium\": \"Brussels\",\n",
    "        \"France\": \"Paris\",\n",
    "        \"Italy\": \"Roma\",\n",
    "        \"Germany\": \"Berlin\",\n",
    "        \"Portugal\": \"Lisbon\",\n",
    "        \"Norway\": \"Oslo\",\n",
    "        \"Greece\": \"Athens\",\n",
    "    },\n",
    "    \"Population\": {\n",
    "        \"Spain\": 46733038,\n",
    "        \"Belgium\": 11449656,\n",
    "        \"France\": 67076000,\n",
    "        \"Italy\": 60390560,\n",
    "        \"Germany\": 83122889,\n",
    "        \"Portugal\": 10295909,\n",
    "        \"Norway\": 5391369,\n",
    "        \"Greece\": 10718565,\n",
    "    },\n",
    "    \"Monarch\": {\n",
    "        \"Spain\": \"Felipe VI\",\n",
    "        \"Belgium\": \"Philippe\",\n",
    "        \"Norway\": \"Harald V\",\n",
    "    },\n",
    "    \"Area\": {\n",
    "        \"Spain\": 505990,\n",
    "        \"Belgium\": 30688,\n",
    "        \"France\": 640679,\n",
    "        \"Italy\": 301340,\n",
    "        \"Germany\": 357022,\n",
    "        \"Portugal\": 92212,\n",
    "        \"Norway\": 385207,\n",
    "        \"Greece\": 131957,\n",
    "    },\n",
    "}"
   ]
  },
  {
   "cell_type": "code",
   "execution_count": null,
   "id": "e1887bf7",
   "metadata": {},
   "outputs": [],
   "source": [
    "# For now, let's forget about these steps:\n",
    "df = pd.DataFrame(data)\n",
    "df.index.name = \"Country\"\n",
    "df = df.reset_index()\n",
    "df[\"Country\"] = df[\"Country\"].astype(\"string\")\n",
    "df[\"Capital\"] = df[\"Capital\"].astype(\"string\")\n",
    "df[\"Monarch\"] = df[\"Monarch\"].astype(\"string\")"
   ]
  },
  {
   "cell_type": "code",
   "execution_count": null,
   "id": "d797acb7",
   "metadata": {},
   "outputs": [],
   "source": [
    "df"
   ]
  },
  {
   "cell_type": "markdown",
   "id": "4bbfdb45",
   "metadata": {},
   "source": [
    "Focus on large countries:"
   ]
  },
  {
   "cell_type": "code",
   "execution_count": null,
   "id": "c75ea979",
   "metadata": {},
   "outputs": [],
   "source": [
    "large = df[df[\"Population\"] > 30_000_000]"
   ]
  },
  {
   "cell_type": "code",
   "execution_count": null,
   "id": "c0a31d7a",
   "metadata": {},
   "outputs": [],
   "source": [
    "large"
   ]
  },
  {
   "cell_type": "markdown",
   "id": "b1747e49",
   "metadata": {},
   "source": [
    "<div class=\"alert alert-info\">\n",
    "\n",
    "<b>Note:</b> In general, <code>pandas</code> cannot guarantee whether it returns a view or a copy of the underlying data.\n",
    "\n",
    "</div>"
   ]
  },
  {
   "cell_type": "markdown",
   "id": "522598f8",
   "metadata": {},
   "source": [
    "...do lots of analysis on the `large` DataFrame..."
   ]
  },
  {
   "cell_type": "markdown",
   "id": "ab4ee2f0",
   "metadata": {},
   "source": [
    "Italy decides to change its constitution, and **Queen Vittoria** is the new monarch - time to correct the data!"
   ]
  },
  {
   "cell_type": "markdown",
   "id": "cb784bf3",
   "metadata": {},
   "source": [
    "### Chained indexing"
   ]
  },
  {
   "cell_type": "code",
   "execution_count": null,
   "id": "bd8570fe",
   "metadata": {},
   "outputs": [],
   "source": [
    "large[large[\"Country\"] == \"Italy\"][\"Monarch\"] = \"Vittoria\""
   ]
  },
  {
   "cell_type": "markdown",
   "id": "19cf98e3",
   "metadata": {},
   "source": [
    "<div class=\"alert alert-warning\">\n",
    "\n",
    "<b>Beware:</b> Every single warning should be read, understood, and <b>the code should be fixed to remove the warning!</b>\n",
    "\n",
    "</div>"
   ]
  },
  {
   "cell_type": "code",
   "execution_count": null,
   "id": "3b0aa5aa",
   "metadata": {},
   "outputs": [],
   "source": [
    "large"
   ]
  },
  {
   "cell_type": "markdown",
   "id": "875844ab",
   "metadata": {},
   "source": [
    "### `.loc[]` and `.iloc[]` methods"
   ]
  },
  {
   "cell_type": "markdown",
   "id": "cdd45f0f",
   "metadata": {},
   "source": [
    "In this case, using the `.loc[]` and `.iloc[]` methods is not enough, because the `large` DataFrame itself was selected with indexing:"
   ]
  },
  {
   "cell_type": "code",
   "execution_count": null,
   "id": "0e6941d4",
   "metadata": {},
   "outputs": [],
   "source": [
    "large.loc[large[\"Country\"] == \"Italy\", \"Monarch\"] = \"Vittoria\""
   ]
  },
  {
   "cell_type": "markdown",
   "id": "2d759733",
   "metadata": {},
   "source": [
    "Note that in this case, the DataFrame was actually modified... but it is not guaranteed, and **the same code will fail on a different DataFrame!**"
   ]
  },
  {
   "cell_type": "code",
   "execution_count": null,
   "id": "a397a48d",
   "metadata": {},
   "outputs": [],
   "source": [
    "large"
   ]
  },
  {
   "cell_type": "markdown",
   "id": "57ac0861",
   "metadata": {},
   "source": [
    "The issue is that the `large` DataFrame is itself defined by indexing, so there is still chained indexing even with `.loc[]`:\n",
    "\n",
    "```python\n",
    "large = df[df[\"Population\"] > 30_000_000]\n",
    "...\n",
    "large.loc[large[\"Country\"] == \"Italy\", \"Monarch\"] = \"Vittoria\"\n",
    "large.loc[df[df[\"Population\"] > 30_000_000][\"Country\"] == \"Italy\", \"Monarch\"] = \"Vittoria\"\n",
    "\n",
    "```"
   ]
  },
  {
   "cell_type": "markdown",
   "id": "8aea210c",
   "metadata": {},
   "source": [
    "To fix this issue, define `large` using `.copy()` to ensure that it is not a view:"
   ]
  },
  {
   "cell_type": "code",
   "execution_count": null,
   "id": "4d63f5b5",
   "metadata": {},
   "outputs": [],
   "source": [
    "large = df[df[\"Population\"] > 30_000_000].copy()"
   ]
  },
  {
   "cell_type": "code",
   "execution_count": null,
   "id": "6b605eb5",
   "metadata": {},
   "outputs": [],
   "source": [
    "large"
   ]
  },
  {
   "cell_type": "code",
   "execution_count": null,
   "id": "3257107c",
   "metadata": {},
   "outputs": [],
   "source": [
    "large.loc[large[\"Country\"] == \"Italy\", \"Monarch\"] = \"Vittoria\""
   ]
  },
  {
   "cell_type": "code",
   "execution_count": null,
   "id": "d778ccf5",
   "metadata": {},
   "outputs": [],
   "source": [
    "large"
   ]
  }
 ],
 "metadata": {
  "kernelspec": {
   "display_name": "Python 3",
   "language": "python",
   "name": "python3"
  },
  "language_info": {
   "codemirror_mode": {
    "name": "ipython",
    "version": 3
   },
   "file_extension": ".py",
   "mimetype": "text/x-python",
   "name": "python",
   "nbconvert_exporter": "python",
   "pygments_lexer": "ipython3",
   "version": "3.9.2"
  }
 },
 "nbformat": 4,
 "nbformat_minor": 5
}
