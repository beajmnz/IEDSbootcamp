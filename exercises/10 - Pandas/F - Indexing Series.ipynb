{
 "cells": [
  {
   "cell_type": "code",
   "execution_count": null,
   "id": "4eb438ef",
   "metadata": {},
   "outputs": [],
   "source": [
    "%load_ext nb_black"
   ]
  },
  {
   "cell_type": "markdown",
   "id": "32890445",
   "metadata": {},
   "source": [
    "# Indexing Series"
   ]
  },
  {
   "cell_type": "markdown",
   "id": "3993b1cd",
   "metadata": {},
   "source": [
    "## Setup"
   ]
  },
  {
   "cell_type": "code",
   "execution_count": null,
   "id": "0b429d90",
   "metadata": {},
   "outputs": [],
   "source": [
    "import pandas as pd"
   ]
  },
  {
   "cell_type": "markdown",
   "id": "9fe32317",
   "metadata": {},
   "source": [
    "## Creation"
   ]
  },
  {
   "cell_type": "code",
   "execution_count": null,
   "id": "ba867999",
   "metadata": {},
   "outputs": [],
   "source": [
    "data = {\n",
    "    \"Capital\": {\n",
    "        \"Spain\": \"Madrid\",\n",
    "        \"Belgium\": \"Brussels\",\n",
    "        \"France\": \"Paris\",\n",
    "        \"Italy\": \"Roma\",\n",
    "        \"Germany\": \"Berlin\",\n",
    "        \"Portugal\": \"Lisbon\",\n",
    "        \"Norway\": \"Oslo\",\n",
    "        \"Greece\": \"Athens\",\n",
    "    },\n",
    "    \"Population\": {\n",
    "        \"Spain\": 46733038,\n",
    "        \"Belgium\": 11449656,\n",
    "        \"France\": 67076000,\n",
    "        \"Italy\": 60390560,\n",
    "        \"Germany\": 83122889,\n",
    "        \"Portugal\": 10295909,\n",
    "        \"Norway\": 5391369,\n",
    "        \"Greece\": 10718565,\n",
    "    },\n",
    "    \"Monarch\": {\n",
    "        \"Spain\": \"Felipe VI\",\n",
    "        \"Belgium\": \"Philippe\",\n",
    "        \"Norway\": \"Harald V\",\n",
    "    },\n",
    "    \"Area\": {\n",
    "        \"Spain\": 505990,\n",
    "        \"Belgium\": 30688,\n",
    "        \"France\": 640679,\n",
    "        \"Italy\": 301340,\n",
    "        \"Germany\": 357022,\n",
    "        \"Portugal\": 92212,\n",
    "        \"Norway\": 385207,\n",
    "        \"Greece\": 131957,\n",
    "    },\n",
    "}"
   ]
  },
  {
   "cell_type": "code",
   "execution_count": null,
   "id": "4b9da814",
   "metadata": {},
   "outputs": [],
   "source": [
    "# For now, let's forget about these steps:\n",
    "df = pd.DataFrame(data)\n",
    "df[\"Capital\"] = df[\"Capital\"].astype(\"string\")\n",
    "df[\"Monarch\"] = df[\"Monarch\"].astype(\"string\")"
   ]
  },
  {
   "cell_type": "code",
   "execution_count": null,
   "id": "fd6b2c66",
   "metadata": {},
   "outputs": [],
   "source": [
    "df"
   ]
  },
  {
   "cell_type": "code",
   "execution_count": null,
   "id": "4fa27cc6",
   "metadata": {},
   "outputs": [],
   "source": [
    "df.index"
   ]
  },
  {
   "cell_type": "markdown",
   "id": "34e9b19e",
   "metadata": {},
   "source": [
    "Create a `Series` with an index containing (non-integers) labels:"
   ]
  },
  {
   "cell_type": "code",
   "execution_count": null,
   "id": "8e65912b",
   "metadata": {},
   "outputs": [],
   "source": [
    "s_labels = df[\"Capital\"]"
   ]
  },
  {
   "cell_type": "code",
   "execution_count": null,
   "id": "93b4f622",
   "metadata": {},
   "outputs": [],
   "source": [
    "s_labels"
   ]
  },
  {
   "cell_type": "markdown",
   "id": "b39a421b",
   "metadata": {},
   "source": [
    "Create a `Series` with an index containing integers (i.e. the default index):"
   ]
  },
  {
   "cell_type": "code",
   "execution_count": null,
   "id": "edccb346",
   "metadata": {},
   "outputs": [],
   "source": [
    "s_integers = df.reset_index()[\"Capital\"]"
   ]
  },
  {
   "cell_type": "code",
   "execution_count": null,
   "id": "2da97181",
   "metadata": {},
   "outputs": [],
   "source": [
    "s_integers"
   ]
  },
  {
   "cell_type": "markdown",
   "id": "35b90cab",
   "metadata": {},
   "source": [
    "## Bonus: Indexing Series"
   ]
  },
  {
   "cell_type": "markdown",
   "id": "b8df4d3e",
   "metadata": {},
   "source": [
    "Indexing work exactly as for DataFrames:"
   ]
  },
  {
   "cell_type": "code",
   "execution_count": null,
   "id": "9d1c3b56",
   "metadata": {},
   "outputs": [],
   "source": [
    "s_labels[1]"
   ]
  },
  {
   "cell_type": "code",
   "execution_count": null,
   "id": "04c3fe49",
   "metadata": {},
   "outputs": [],
   "source": [
    "s_integers[1]"
   ]
  },
  {
   "cell_type": "markdown",
   "id": "d9bfb4c4",
   "metadata": {},
   "source": [
    "However, to avoid confusion, only series with (non-integer) labels allow for this construct:"
   ]
  },
  {
   "cell_type": "code",
   "execution_count": null,
   "id": "ae37cb26",
   "metadata": {},
   "outputs": [],
   "source": [
    "s_labels[-1]"
   ]
  },
  {
   "cell_type": "code",
   "execution_count": null,
   "id": "9a305134",
   "metadata": {
    "tags": [
     "raises-error"
    ]
   },
   "outputs": [],
   "source": [
    "# Raises an error, because the intent is ambiguous:\n",
    "s_integers[-1]"
   ]
  },
  {
   "cell_type": "markdown",
   "id": "a842f121",
   "metadata": {},
   "source": [
    "The `.loc[]` and `.iloc[]` methods work exactly as for DataFrames:"
   ]
  },
  {
   "cell_type": "code",
   "execution_count": null,
   "id": "86c0721c",
   "metadata": {},
   "outputs": [],
   "source": [
    "s_labels.iloc[1]"
   ]
  },
  {
   "cell_type": "code",
   "execution_count": null,
   "id": "6e3432d7",
   "metadata": {},
   "outputs": [],
   "source": [
    "s_integers.iloc[1]"
   ]
  },
  {
   "cell_type": "markdown",
   "id": "1a68ed63",
   "metadata": {},
   "source": [
    "Indexing with slices also work exactly as for DataFrames:"
   ]
  },
  {
   "cell_type": "code",
   "execution_count": null,
   "id": "48db66e8",
   "metadata": {},
   "outputs": [],
   "source": [
    "s_labels[:1]"
   ]
  },
  {
   "cell_type": "code",
   "execution_count": null,
   "id": "2c83fb0d",
   "metadata": {},
   "outputs": [],
   "source": [
    "s_integers[:1]"
   ]
  },
  {
   "cell_type": "markdown",
   "id": "584650fb",
   "metadata": {},
   "source": [
    "Note that these 4 approaches give the same result, because they all refer to integers:"
   ]
  },
  {
   "cell_type": "code",
   "execution_count": null,
   "id": "3013e389",
   "metadata": {},
   "outputs": [],
   "source": [
    "s_labels.iloc[:1]"
   ]
  },
  {
   "cell_type": "code",
   "execution_count": null,
   "id": "80c001cf",
   "metadata": {},
   "outputs": [],
   "source": [
    "s_integers.iloc[:1]"
   ]
  },
  {
   "cell_type": "code",
   "execution_count": null,
   "id": "24e5a7e8",
   "metadata": {},
   "outputs": [],
   "source": [
    "s_labels[:1]"
   ]
  },
  {
   "cell_type": "code",
   "execution_count": null,
   "id": "be936048",
   "metadata": {},
   "outputs": [],
   "source": [
    "s_integers[:1]"
   ]
  },
  {
   "cell_type": "markdown",
   "id": "5b73ae22",
   "metadata": {},
   "source": [
    "However, this approach refers to labels, and hence gives a different result:"
   ]
  },
  {
   "cell_type": "code",
   "execution_count": null,
   "id": "24052e42",
   "metadata": {},
   "outputs": [],
   "source": [
    "s_integers.loc[:1]"
   ]
  },
  {
   "cell_type": "code",
   "execution_count": null,
   "id": "8bbab6ed",
   "metadata": {
    "tags": [
     "raises-error"
    ]
   },
   "outputs": [],
   "source": [
    "# Raises an error, because this Series does not have matching element in its index:\n",
    "s_labels.loc[:1]"
   ]
  }
 ],
 "metadata": {
  "kernelspec": {
   "display_name": "Python 3",
   "language": "python",
   "name": "python3"
  },
  "language_info": {
   "codemirror_mode": {
    "name": "ipython",
    "version": 3
   },
   "file_extension": ".py",
   "mimetype": "text/x-python",
   "name": "python",
   "nbconvert_exporter": "python",
   "pygments_lexer": "ipython3",
   "version": "3.9.2"
  }
 },
 "nbformat": 4,
 "nbformat_minor": 5
}
