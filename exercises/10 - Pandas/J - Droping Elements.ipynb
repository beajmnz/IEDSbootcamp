{
 "cells": [
  {
   "cell_type": "markdown",
   "id": "0addbbbd",
   "metadata": {},
   "source": [
    "# Droping elements from DataFrames"
   ]
  },
  {
   "cell_type": "markdown",
   "id": "f30afd62",
   "metadata": {},
   "source": [
    "## Setup"
   ]
  },
  {
   "cell_type": "code",
   "execution_count": null,
   "id": "4b36b815",
   "metadata": {},
   "outputs": [],
   "source": [
    "import pandas as pd"
   ]
  },
  {
   "cell_type": "markdown",
   "id": "6dfe4468",
   "metadata": {},
   "source": [
    "## Creation"
   ]
  },
  {
   "cell_type": "markdown",
   "id": "0515b15e",
   "metadata": {},
   "source": [
    "Creation of an example DataFrame (starting from a dictionary of dictionaries):"
   ]
  },
  {
   "cell_type": "code",
   "execution_count": null,
   "id": "ceac3590",
   "metadata": {},
   "outputs": [],
   "source": [
    "data = {\n",
    "    \"Capital\": {\n",
    "        \"Spain\": \"Madrid\",\n",
    "        \"Belgium\": \"Brussels\",\n",
    "        \"France\": \"Paris\",\n",
    "        \"Italy\": \"Roma\",\n",
    "        \"Germany\": \"Berlin\",\n",
    "        \"Portugal\": \"Lisbon\",\n",
    "        \"Norway\": \"Oslo\",\n",
    "        \"Greece\": \"Athens\",\n",
    "    },\n",
    "    \"Population\": {\n",
    "        \"Spain\": 46733038,\n",
    "        \"Belgium\": 11449656,\n",
    "        \"France\": 67076000,\n",
    "        \"Italy\": 60390560,\n",
    "        \"Germany\": 83122889,\n",
    "        \"Portugal\": 10295909,\n",
    "        \"Norway\": 5391369,\n",
    "        \"Greece\": 10718565,\n",
    "    },\n",
    "    \"Monarch\": {\n",
    "        \"Spain\": \"Felipe VI\",\n",
    "        \"Belgium\": \"Philippe\",\n",
    "        \"Norway\": \"Harald V\",\n",
    "    },\n",
    "    \"Area\": {\n",
    "        \"Spain\": 505990,\n",
    "        \"Belgium\": 30688,\n",
    "        \"France\": 640679,\n",
    "        \"Italy\": 301340,\n",
    "        \"Germany\": 357022,\n",
    "        \"Portugal\": 92212,\n",
    "        \"Norway\": 385207,\n",
    "        \"Greece\": 131957,\n",
    "    },\n",
    "}"
   ]
  },
  {
   "cell_type": "code",
   "execution_count": null,
   "id": "0312add7",
   "metadata": {},
   "outputs": [],
   "source": [
    "# For now, let's forget about these steps:\n",
    "df = pd.DataFrame(data)\n",
    "df[\"Capital\"] = df[\"Capital\"].astype(\"string\")\n",
    "df[\"Monarch\"] = df[\"Monarch\"].astype(\"string\")"
   ]
  },
  {
   "cell_type": "markdown",
   "id": "2327dea5",
   "metadata": {},
   "source": [
    "Apple stock data, taken from the [`matplotlib` sample datasets](https://github.com/matplotlib/sample_data/blob/master/aapl.csv)"
   ]
  },
  {
   "cell_type": "code",
   "execution_count": null,
   "id": "7d52ddd0",
   "metadata": {
    "tags": [
     "no-replacement"
    ]
   },
   "outputs": [],
   "source": [
    "# For now, let's forget about these steps:\n",
    "apple = pd.read_csv(\"AAPL.csv\")\n",
    "apple[\"Date\"] = apple[\"Date\"].astype(\"datetime64[ns]\")\n",
    "apple = apple.set_index(\"Date\")\n",
    "apple = apple.sort_index()"
   ]
  },
  {
   "cell_type": "markdown",
   "id": "e1485519",
   "metadata": {},
   "source": [
    "## Demo 1: Droping columns"
   ]
  },
  {
   "cell_type": "code",
   "execution_count": null,
   "id": "b2916eb5",
   "metadata": {},
   "outputs": [],
   "source": [
    "df"
   ]
  },
  {
   "cell_type": "markdown",
   "id": "c92d6bc2",
   "metadata": {},
   "source": [
    "Drop one column:"
   ]
  },
  {
   "cell_type": "code",
   "execution_count": null,
   "id": "334626fc",
   "metadata": {},
   "outputs": [],
   "source": [
    "df.drop(\"Capital\", axis=\"columns\")"
   ]
  },
  {
   "cell_type": "markdown",
   "id": "873c755b",
   "metadata": {},
   "source": [
    "Drop several columns:"
   ]
  },
  {
   "cell_type": "code",
   "execution_count": null,
   "id": "f164484d",
   "metadata": {},
   "outputs": [],
   "source": [
    "df.drop([\"Capital\", \"Monarch\"], axis=\"columns\")"
   ]
  },
  {
   "cell_type": "markdown",
   "id": "0deee961",
   "metadata": {},
   "source": [
    "## Exercise 1"
   ]
  },
  {
   "cell_type": "code",
   "execution_count": null,
   "id": "83a8c552",
   "metadata": {
    "tags": [
     "no-replacement"
    ]
   },
   "outputs": [],
   "source": [
    "apple.head()"
   ]
  },
  {
   "cell_type": "markdown",
   "id": "f3bf59e8",
   "metadata": {},
   "source": [
    "Drop the \"Adj Close\" column from the `apple` DataFrame:"
   ]
  },
  {
   "cell_type": "code",
   "execution_count": null,
   "id": "3adb9dcf",
   "metadata": {},
   "outputs": [],
   "source": []
  },
  {
   "cell_type": "markdown",
   "id": "f09662d5",
   "metadata": {},
   "source": [
    "Drop the \"High\" and \"Low\" columna from the `apple` DataFrame:"
   ]
  },
  {
   "cell_type": "code",
   "execution_count": null,
   "id": "1449e8b4",
   "metadata": {},
   "outputs": [],
   "source": []
  },
  {
   "cell_type": "markdown",
   "id": "68faad95",
   "metadata": {},
   "source": [
    "## Demo 2: Droping rows"
   ]
  },
  {
   "cell_type": "code",
   "execution_count": null,
   "id": "25354d82",
   "metadata": {},
   "outputs": [],
   "source": [
    "df"
   ]
  },
  {
   "cell_type": "markdown",
   "id": "ece9a031",
   "metadata": {},
   "source": [
    "Drop one row:"
   ]
  },
  {
   "cell_type": "code",
   "execution_count": null,
   "id": "d6c078cf",
   "metadata": {},
   "outputs": [],
   "source": [
    "df.drop(\"Spain\")"
   ]
  },
  {
   "cell_type": "markdown",
   "id": "26b38149",
   "metadata": {},
   "source": [
    "Drop several columns:"
   ]
  },
  {
   "cell_type": "code",
   "execution_count": null,
   "id": "2c1020b4",
   "metadata": {},
   "outputs": [],
   "source": [
    "df.drop([\"Norway\", \"Germany\"])"
   ]
  },
  {
   "cell_type": "markdown",
   "id": "520ca707",
   "metadata": {},
   "source": [
    "## Exercise 2"
   ]
  },
  {
   "cell_type": "code",
   "execution_count": null,
   "id": "6d300ac9",
   "metadata": {
    "tags": [
     "no-replacement"
    ]
   },
   "outputs": [],
   "source": [
    "apple.head()"
   ]
  },
  {
   "cell_type": "markdown",
   "id": "135b7c80",
   "metadata": {},
   "source": [
    "Drop the \"1984-09-07\" row from the `apple` DataFrame:"
   ]
  },
  {
   "cell_type": "code",
   "execution_count": null,
   "id": "b936a7e5",
   "metadata": {},
   "outputs": [],
   "source": []
  },
  {
   "cell_type": "code",
   "execution_count": null,
   "id": "9908e292",
   "metadata": {
    "tags": [
     "raises-error"
    ]
   },
   "outputs": [],
   "source": []
  },
  {
   "cell_type": "code",
   "execution_count": null,
   "id": "e4dda5da",
   "metadata": {},
   "outputs": [],
   "source": []
  },
  {
   "cell_type": "markdown",
   "id": "d48dead8",
   "metadata": {},
   "source": [
    "Drop the \"2008-10-13\" and \"2008-10-14\" rows from the `apple` DataFrame:"
   ]
  },
  {
   "cell_type": "code",
   "execution_count": null,
   "id": "11663ded",
   "metadata": {},
   "outputs": [],
   "source": []
  }
 ],
 "metadata": {
  "kernelspec": {
   "display_name": "Python 3",
   "language": "python",
   "name": "python3"
  },
  "language_info": {
   "codemirror_mode": {
    "name": "ipython",
    "version": 3
   },
   "file_extension": ".py",
   "mimetype": "text/x-python",
   "name": "python",
   "nbconvert_exporter": "python",
   "pygments_lexer": "ipython3",
   "version": "3.9.2"
  }
 },
 "nbformat": 4,
 "nbformat_minor": 5
}
