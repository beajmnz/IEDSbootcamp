{
 "cells": [
  {
   "cell_type": "markdown",
   "id": "0addbbbd",
   "metadata": {},
   "source": [
    "# Sorting DataFrames"
   ]
  },
  {
   "cell_type": "markdown",
   "id": "f30afd62",
   "metadata": {},
   "source": [
    "## Setup"
   ]
  },
  {
   "cell_type": "code",
   "execution_count": null,
   "id": "4b36b815",
   "metadata": {},
   "outputs": [],
   "source": [
    "import pandas as pd"
   ]
  },
  {
   "cell_type": "markdown",
   "id": "6dfe4468",
   "metadata": {},
   "source": [
    "## Creation"
   ]
  },
  {
   "cell_type": "markdown",
   "id": "0515b15e",
   "metadata": {},
   "source": [
    "Creation of an example DataFrame (starting from a dictionary of dictionaries):"
   ]
  },
  {
   "cell_type": "code",
   "execution_count": null,
   "id": "ceac3590",
   "metadata": {},
   "outputs": [],
   "source": [
    "data = {\n",
    "    \"Capital\": {\n",
    "        \"Spain\": \"Madrid\",\n",
    "        \"Belgium\": \"Brussels\",\n",
    "        \"France\": \"Paris\",\n",
    "        \"Italy\": \"Roma\",\n",
    "        \"Germany\": \"Berlin\",\n",
    "        \"Portugal\": \"Lisbon\",\n",
    "        \"Norway\": \"Oslo\",\n",
    "        \"Greece\": \"Athens\",\n",
    "    },\n",
    "    \"Population\": {\n",
    "        \"Spain\": 46733038,\n",
    "        \"Belgium\": 11449656,\n",
    "        \"France\": 67076000,\n",
    "        \"Italy\": 60390560,\n",
    "        \"Germany\": 83122889,\n",
    "        \"Portugal\": 10295909,\n",
    "        \"Norway\": 5391369,\n",
    "        \"Greece\": 10718565,\n",
    "    },\n",
    "    \"Monarch\": {\n",
    "        \"Spain\": \"Felipe VI\",\n",
    "        \"Belgium\": \"Philippe\",\n",
    "        \"Norway\": \"Harald V\",\n",
    "    },\n",
    "    \"Area\": {\n",
    "        \"Spain\": 505990,\n",
    "        \"Belgium\": 30688,\n",
    "        \"France\": 640679,\n",
    "        \"Italy\": 301340,\n",
    "        \"Germany\": 357022,\n",
    "        \"Portugal\": 92212,\n",
    "        \"Norway\": 385207,\n",
    "        \"Greece\": 131957,\n",
    "    },\n",
    "}"
   ]
  },
  {
   "cell_type": "code",
   "execution_count": null,
   "id": "0312add7",
   "metadata": {},
   "outputs": [],
   "source": [
    "# For now, let's forget about these steps:\n",
    "df = pd.DataFrame(data)\n",
    "df[\"Capital\"] = df[\"Capital\"].astype(\"string\")\n",
    "df[\"Monarch\"] = df[\"Monarch\"].astype(\"string\")"
   ]
  },
  {
   "cell_type": "markdown",
   "id": "2327dea5",
   "metadata": {},
   "source": [
    "Apple stock data, taken from the [`matplotlib` sample datasets](https://github.com/matplotlib/sample_data/blob/master/aapl.csv)"
   ]
  },
  {
   "cell_type": "code",
   "execution_count": null,
   "id": "7d52ddd0",
   "metadata": {
    "tags": [
     "no-replacement"
    ]
   },
   "outputs": [],
   "source": [
    "# For now, let's forget about these steps:\n",
    "apple = pd.read_csv(\"AAPL.csv\")\n",
    "apple[\"Date\"] = apple[\"Date\"].astype(\"datetime64[ns]\")\n",
    "apple = apple.set_index(\"Date\")\n",
    "apple = apple.sort_index()"
   ]
  },
  {
   "cell_type": "markdown",
   "id": "e1485519",
   "metadata": {},
   "source": [
    "## Demo 1: Sort the index"
   ]
  },
  {
   "cell_type": "code",
   "execution_count": null,
   "id": "b2916eb5",
   "metadata": {},
   "outputs": [],
   "source": [
    "df"
   ]
  },
  {
   "cell_type": "markdown",
   "id": "56df5439",
   "metadata": {},
   "source": [
    "Sort the index (in alphabetical order):"
   ]
  },
  {
   "cell_type": "code",
   "execution_count": null,
   "id": "95867b5d",
   "metadata": {},
   "outputs": [],
   "source": [
    "df = df.sort_index()"
   ]
  },
  {
   "cell_type": "code",
   "execution_count": null,
   "id": "9c4c5e6a",
   "metadata": {},
   "outputs": [],
   "source": [
    "df"
   ]
  },
  {
   "cell_type": "markdown",
   "id": "df052daf",
   "metadata": {},
   "source": [
    "Sort the index (in the reverse order):"
   ]
  },
  {
   "cell_type": "code",
   "execution_count": null,
   "id": "69190736",
   "metadata": {},
   "outputs": [],
   "source": [
    "df = df.sort_index(ascending=False)"
   ]
  },
  {
   "cell_type": "code",
   "execution_count": null,
   "id": "f8eb615f",
   "metadata": {},
   "outputs": [],
   "source": [
    "df"
   ]
  },
  {
   "cell_type": "markdown",
   "id": "0deee961",
   "metadata": {},
   "source": [
    "## Exercise 1"
   ]
  },
  {
   "cell_type": "code",
   "execution_count": null,
   "id": "83a8c552",
   "metadata": {
    "tags": [
     "no-replacement"
    ]
   },
   "outputs": [],
   "source": [
    "apple.head()"
   ]
  },
  {
   "cell_type": "markdown",
   "id": "c68321f9",
   "metadata": {},
   "source": [
    "Sort the index of the `apple` DataFrame (by **decreasing dates**, i.e. starting from the most recent dates):"
   ]
  },
  {
   "cell_type": "code",
   "execution_count": null,
   "id": "3bcb3e50",
   "metadata": {},
   "outputs": [],
   "source": []
  },
  {
   "cell_type": "code",
   "execution_count": null,
   "id": "aa2c0982",
   "metadata": {},
   "outputs": [],
   "source": []
  },
  {
   "cell_type": "markdown",
   "id": "c5a8f571",
   "metadata": {},
   "source": [
    "Sort the index of the `apple` DataFrame (by **increasing dates**, i.e. starting from the oldest dates):"
   ]
  },
  {
   "cell_type": "code",
   "execution_count": null,
   "id": "0957d9d5",
   "metadata": {},
   "outputs": [],
   "source": []
  },
  {
   "cell_type": "code",
   "execution_count": null,
   "id": "c262d90a",
   "metadata": {},
   "outputs": [],
   "source": []
  },
  {
   "cell_type": "markdown",
   "id": "4f41098c",
   "metadata": {},
   "source": [
    "## Demo 2: Sort the columns"
   ]
  },
  {
   "cell_type": "code",
   "execution_count": null,
   "id": "6d9a168a",
   "metadata": {},
   "outputs": [],
   "source": [
    "df"
   ]
  },
  {
   "cell_type": "markdown",
   "id": "9e6abc72",
   "metadata": {},
   "source": [
    "Sort the columns (in alphabetical order):"
   ]
  },
  {
   "cell_type": "code",
   "execution_count": null,
   "id": "e3be709d",
   "metadata": {},
   "outputs": [],
   "source": [
    "df = df.sort_index(axis=\"columns\")"
   ]
  },
  {
   "cell_type": "code",
   "execution_count": null,
   "id": "611efcb7",
   "metadata": {},
   "outputs": [],
   "source": [
    "df"
   ]
  },
  {
   "cell_type": "markdown",
   "id": "6e3dd321",
   "metadata": {},
   "source": [
    "## Exercise 2"
   ]
  },
  {
   "cell_type": "code",
   "execution_count": null,
   "id": "05deae4a",
   "metadata": {
    "tags": [
     "no-replacement"
    ]
   },
   "outputs": [],
   "source": [
    "apple.head()"
   ]
  },
  {
   "cell_type": "markdown",
   "id": "ed93ac7d",
   "metadata": {},
   "source": [
    "Sort the columns of the `apple` DataFrame (by **alphabetical order**):"
   ]
  },
  {
   "cell_type": "code",
   "execution_count": null,
   "id": "00f723f1",
   "metadata": {},
   "outputs": [],
   "source": []
  },
  {
   "cell_type": "code",
   "execution_count": null,
   "id": "87488803",
   "metadata": {},
   "outputs": [],
   "source": []
  },
  {
   "cell_type": "markdown",
   "id": "56fd29ab",
   "metadata": {},
   "source": [
    "## Demo 3: Sort by the values in a column"
   ]
  },
  {
   "cell_type": "code",
   "execution_count": null,
   "id": "89077321",
   "metadata": {},
   "outputs": [],
   "source": [
    "df"
   ]
  },
  {
   "cell_type": "markdown",
   "id": "bfa1279b",
   "metadata": {},
   "source": [
    "Sort based on the values of the \"Population\" columns (in increasing order):"
   ]
  },
  {
   "cell_type": "code",
   "execution_count": null,
   "id": "5a4b22e2",
   "metadata": {},
   "outputs": [],
   "source": [
    "df = df.sort_values(\"Population\")"
   ]
  },
  {
   "cell_type": "code",
   "execution_count": null,
   "id": "4e9aa2cb",
   "metadata": {},
   "outputs": [],
   "source": [
    "df"
   ]
  },
  {
   "cell_type": "markdown",
   "id": "c3bb8fc3",
   "metadata": {},
   "source": [
    "Sort based on the values of the \"Area\" columns (in decreasing order):"
   ]
  },
  {
   "cell_type": "code",
   "execution_count": null,
   "id": "72b0c629",
   "metadata": {},
   "outputs": [],
   "source": [
    "df = df.sort_values(\"Area\", ascending=False)"
   ]
  },
  {
   "cell_type": "code",
   "execution_count": null,
   "id": "0589c650",
   "metadata": {},
   "outputs": [],
   "source": [
    "df"
   ]
  },
  {
   "cell_type": "markdown",
   "id": "e1f6955e",
   "metadata": {},
   "source": [
    "Sort based on the values of the \"Monarch\" columns:"
   ]
  },
  {
   "cell_type": "code",
   "execution_count": null,
   "id": "0f99dd4e",
   "metadata": {},
   "outputs": [],
   "source": [
    "df = df.sort_values(\"Monarch\")"
   ]
  },
  {
   "cell_type": "code",
   "execution_count": null,
   "id": "5e3f66c1",
   "metadata": {},
   "outputs": [],
   "source": [
    "df"
   ]
  },
  {
   "cell_type": "markdown",
   "id": "d64e3692",
   "metadata": {},
   "source": [
    "Sort based on the values of the \"Monarch\" columns, with the missing values coming at the beginning:"
   ]
  },
  {
   "cell_type": "code",
   "execution_count": null,
   "id": "80b059bc",
   "metadata": {},
   "outputs": [],
   "source": [
    "df = df.sort_values(\"Monarch\", na_position=\"first\")"
   ]
  },
  {
   "cell_type": "code",
   "execution_count": null,
   "id": "4a871588",
   "metadata": {},
   "outputs": [],
   "source": [
    "df"
   ]
  },
  {
   "cell_type": "markdown",
   "id": "f71e7599",
   "metadata": {},
   "source": [
    "## Exercise 3"
   ]
  },
  {
   "cell_type": "code",
   "execution_count": null,
   "id": "0118cd7a",
   "metadata": {
    "tags": [
     "no-replacement"
    ]
   },
   "outputs": [],
   "source": [
    "apple.head()"
   ]
  },
  {
   "cell_type": "markdown",
   "id": "0fac7f18",
   "metadata": {},
   "source": [
    "Sort the `apple` DataFrame based on the values of the \"Open\" column (in increasing order):"
   ]
  },
  {
   "cell_type": "code",
   "execution_count": null,
   "id": "951332f5",
   "metadata": {},
   "outputs": [],
   "source": []
  },
  {
   "cell_type": "code",
   "execution_count": null,
   "id": "59760cec",
   "metadata": {},
   "outputs": [],
   "source": []
  },
  {
   "cell_type": "markdown",
   "id": "981a4685",
   "metadata": {},
   "source": [
    "Sort the `apple` DataFrame based on the values of the \"Volume\" column (in decreasing order):"
   ]
  },
  {
   "cell_type": "code",
   "execution_count": null,
   "id": "5718632e",
   "metadata": {},
   "outputs": [],
   "source": []
  },
  {
   "cell_type": "code",
   "execution_count": null,
   "id": "bebc898f",
   "metadata": {},
   "outputs": [],
   "source": []
  }
 ],
 "metadata": {
  "kernelspec": {
   "display_name": "Python 3",
   "language": "python",
   "name": "python3"
  },
  "language_info": {
   "codemirror_mode": {
    "name": "ipython",
    "version": 3
   },
   "file_extension": ".py",
   "mimetype": "text/x-python",
   "name": "python",
   "nbconvert_exporter": "python",
   "pygments_lexer": "ipython3",
   "version": "3.9.2"
  }
 },
 "nbformat": 4,
 "nbformat_minor": 5
}
