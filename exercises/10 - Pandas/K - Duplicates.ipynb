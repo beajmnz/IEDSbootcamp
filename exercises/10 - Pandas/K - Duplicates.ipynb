{
 "cells": [
  {
   "cell_type": "markdown",
   "id": "0addbbbd",
   "metadata": {},
   "source": [
    "# Duplicate elements in DataFrames"
   ]
  },
  {
   "cell_type": "markdown",
   "id": "f30afd62",
   "metadata": {},
   "source": [
    "## Setup"
   ]
  },
  {
   "cell_type": "code",
   "execution_count": null,
   "id": "4b36b815",
   "metadata": {},
   "outputs": [],
   "source": [
    "import pandas as pd"
   ]
  },
  {
   "cell_type": "markdown",
   "id": "6dfe4468",
   "metadata": {},
   "source": [
    "## Creation"
   ]
  },
  {
   "cell_type": "markdown",
   "id": "0515b15e",
   "metadata": {},
   "source": [
    "Creation of an example DataFrame (starting from a dictionary of dictionaries):"
   ]
  },
  {
   "cell_type": "code",
   "execution_count": null,
   "id": "6dbde0a8",
   "metadata": {},
   "outputs": [],
   "source": [
    "data = {\n",
    "    \"Monarch\": {\n",
    "        \"Spain\": \"Felipe VI\",\n",
    "        \"Colombia\": None,\n",
    "        \"France\": None,\n",
    "        \"Canada\": \"Elizabeth II\",\n",
    "        \"Italy\": None,\n",
    "        \"Germany\": None,\n",
    "        \"Austria\": None,\n",
    "        \"Norway\": \"Harald V\",\n",
    "    },\n",
    "    \"Language\": {\n",
    "        \"Spain\": \"Spanish\",\n",
    "        \"Colombia\": \"Spanish\",\n",
    "        \"France\": \"French\",\n",
    "        \"Canada\": \"French\",\n",
    "        \"Italy\": \"Italian\",\n",
    "        \"Germany\": \"German\",\n",
    "        \"Austria\": \"German\",\n",
    "        \"Norway\": \"Norwegian\",\n",
    "    },\n",
    "    \"Currency\": {\n",
    "        \"Spain\": \"EUR\",\n",
    "        \"Colombia\": \"COP\",\n",
    "        \"France\": \"EUR\",\n",
    "        \"Canada\": \"CAD\",\n",
    "        \"Italy\": \"EUR\",\n",
    "        \"Germany\": \"EUR\",\n",
    "        \"Austria\": \"EUR\",\n",
    "        \"Norway\": \"NOK\",\n",
    "    },\n",
    "}"
   ]
  },
  {
   "cell_type": "code",
   "execution_count": null,
   "id": "45812f79",
   "metadata": {},
   "outputs": [],
   "source": [
    "# For now, let's forget about these steps:\n",
    "df = pd.DataFrame(data)\n",
    "df[\"Monarch\"] = df[\"Monarch\"].astype(\"string\")\n",
    "df[\"Language\"] = df[\"Language\"].astype(\"string\")\n",
    "df[\"Currency\"] = df[\"Currency\"].astype(\"string\")"
   ]
  },
  {
   "cell_type": "markdown",
   "id": "cff09296",
   "metadata": {},
   "source": [
    "## Demo 1: Droping duplicates"
   ]
  },
  {
   "cell_type": "code",
   "execution_count": null,
   "id": "27c28e78",
   "metadata": {},
   "outputs": [],
   "source": [
    "df"
   ]
  },
  {
   "cell_type": "markdown",
   "id": "e547102c",
   "metadata": {},
   "source": [
    "Drop duplicate rows:"
   ]
  },
  {
   "cell_type": "code",
   "execution_count": null,
   "id": "08246df9",
   "metadata": {},
   "outputs": [],
   "source": [
    "df.drop_duplicates()"
   ]
  },
  {
   "cell_type": "markdown",
   "id": "16585b05",
   "metadata": {},
   "source": [
    "Drop duplicate rows, based on a specific column:"
   ]
  },
  {
   "cell_type": "code",
   "execution_count": null,
   "id": "772bf8cb",
   "metadata": {},
   "outputs": [],
   "source": [
    "df.drop_duplicates(\"Currency\")"
   ]
  },
  {
   "cell_type": "code",
   "execution_count": null,
   "id": "d23b03b9",
   "metadata": {},
   "outputs": [],
   "source": [
    "df.drop_duplicates(\"Language\")"
   ]
  },
  {
   "cell_type": "markdown",
   "id": "129c3bcc",
   "metadata": {},
   "source": [
    "Drop duplicate rows, based on specific columns:"
   ]
  },
  {
   "cell_type": "code",
   "execution_count": null,
   "id": "a656d375",
   "metadata": {},
   "outputs": [],
   "source": [
    "df.drop_duplicates([\"Language\", \"Currency\"])"
   ]
  },
  {
   "cell_type": "markdown",
   "id": "722eece4",
   "metadata": {},
   "source": [
    "Drop duplicate rows, based on specific columns, and keep the last occurence instead of the first one:"
   ]
  },
  {
   "cell_type": "code",
   "execution_count": null,
   "id": "33177ef0",
   "metadata": {},
   "outputs": [],
   "source": [
    "df.drop_duplicates([\"Language\", \"Currency\"], keep=\"last\")"
   ]
  },
  {
   "cell_type": "markdown",
   "id": "d7b13d2b",
   "metadata": {},
   "source": [
    "## Exercise 1"
   ]
  },
  {
   "cell_type": "code",
   "execution_count": null,
   "id": "23cb08eb",
   "metadata": {
    "tags": [
     "no-replacement"
    ]
   },
   "outputs": [],
   "source": [
    "students = pd.DataFrame(\n",
    "    {\n",
    "        \"Name\": [\"Alice\", \"Alice\", \"Bob\", \"Bob\", \"Clara\", \"Clara\", \"David\", \"David\"],\n",
    "        \"Test\": [1, 2, 1, 2, 1, 2, 1, 2],\n",
    "        \"Score\": [10, 10, 9, 8, 10, 2, None, 7],\n",
    "        \"Result\": [\"Pass\", \"Pass\", \"Pass\", \"Pass\", \"Pass\", \"Fail\", None, \"Pass\"],\n",
    "    }\n",
    ")"
   ]
  },
  {
   "cell_type": "code",
   "execution_count": null,
   "id": "b0224b8f",
   "metadata": {
    "tags": [
     "no-replacement"
    ]
   },
   "outputs": [],
   "source": [
    "students"
   ]
  },
  {
   "cell_type": "markdown",
   "id": "0d924565",
   "metadata": {},
   "source": [
    "Drop duplicate rows in the `students` DataFrame:"
   ]
  },
  {
   "cell_type": "code",
   "execution_count": null,
   "id": "3c617d36",
   "metadata": {},
   "outputs": [],
   "source": []
  },
  {
   "cell_type": "markdown",
   "id": "abc5718c",
   "metadata": {},
   "source": [
    "Drop duplicate rows in the `students` DataFrame, based on the \"Name\" column:"
   ]
  },
  {
   "cell_type": "code",
   "execution_count": null,
   "id": "64592e8d",
   "metadata": {},
   "outputs": [],
   "source": []
  },
  {
   "cell_type": "markdown",
   "id": "f72aa2c1",
   "metadata": {},
   "source": [
    "Drop duplicate rows in the `students` DataFrame, based on the \"Name\" column, keeping the last occurence:"
   ]
  },
  {
   "cell_type": "code",
   "execution_count": null,
   "id": "fb2ec951",
   "metadata": {},
   "outputs": [],
   "source": []
  },
  {
   "cell_type": "markdown",
   "id": "e56a5998",
   "metadata": {},
   "source": [
    "Drop duplicate rows in the `students` DataFrame, based on the \"Name\" and \"Result\" columns:"
   ]
  },
  {
   "cell_type": "code",
   "execution_count": null,
   "id": "8d56a9d1",
   "metadata": {},
   "outputs": [],
   "source": []
  },
  {
   "cell_type": "markdown",
   "id": "cbd56966",
   "metadata": {},
   "source": [
    "## Demo 2: Getting unique values"
   ]
  },
  {
   "cell_type": "code",
   "execution_count": null,
   "id": "590f60a7",
   "metadata": {},
   "outputs": [],
   "source": [
    "df"
   ]
  },
  {
   "cell_type": "markdown",
   "id": "780709e4",
   "metadata": {},
   "source": [
    "Get unique values in a column:"
   ]
  },
  {
   "cell_type": "code",
   "execution_count": null,
   "id": "92bb18b8",
   "metadata": {},
   "outputs": [],
   "source": [
    "df[\"Currency\"].unique()"
   ]
  },
  {
   "cell_type": "code",
   "execution_count": null,
   "id": "8df14be2",
   "metadata": {},
   "outputs": [],
   "source": [
    "df[\"Language\"].unique()"
   ]
  },
  {
   "cell_type": "code",
   "execution_count": null,
   "id": "ba513732",
   "metadata": {},
   "outputs": [],
   "source": [
    "df[\"Monarch\"].unique()"
   ]
  },
  {
   "cell_type": "markdown",
   "id": "942a054d",
   "metadata": {},
   "source": [
    "<div class=\"alert alert-info\">\n",
    "\n",
    "<b>Note:</b> Unique values are <b>not sorted</b>.\n",
    "\n",
    "</div>"
   ]
  },
  {
   "cell_type": "markdown",
   "id": "de1d82d1",
   "metadata": {},
   "source": [
    "Count the number of unique values in a column:"
   ]
  },
  {
   "cell_type": "code",
   "execution_count": null,
   "id": "45f3ddc6",
   "metadata": {},
   "outputs": [],
   "source": [
    "len(df[\"Currency\"].unique())"
   ]
  },
  {
   "cell_type": "code",
   "execution_count": null,
   "id": "37dd6cea",
   "metadata": {},
   "outputs": [],
   "source": [
    "len(df[\"Language\"].unique())"
   ]
  },
  {
   "cell_type": "code",
   "execution_count": null,
   "id": "c09b8076",
   "metadata": {},
   "outputs": [],
   "source": [
    "len(df[\"Monarch\"].unique())"
   ]
  },
  {
   "cell_type": "markdown",
   "id": "89c33abe",
   "metadata": {},
   "source": [
    "Get the number of unique values in a column:"
   ]
  },
  {
   "cell_type": "code",
   "execution_count": null,
   "id": "b058a3ab",
   "metadata": {},
   "outputs": [],
   "source": [
    "df[\"Currency\"].nunique()"
   ]
  },
  {
   "cell_type": "code",
   "execution_count": null,
   "id": "55f8917c",
   "metadata": {},
   "outputs": [],
   "source": [
    "df[\"Language\"].nunique()"
   ]
  },
  {
   "cell_type": "code",
   "execution_count": null,
   "id": "7864dda8",
   "metadata": {},
   "outputs": [],
   "source": [
    "df[\"Monarch\"].nunique()"
   ]
  },
  {
   "cell_type": "code",
   "execution_count": null,
   "id": "aac6cc0e",
   "metadata": {},
   "outputs": [],
   "source": [
    "df[\"Monarch\"].nunique(dropna=False)"
   ]
  },
  {
   "cell_type": "markdown",
   "id": "cd1fe0ad",
   "metadata": {},
   "source": [
    "<div class=\"alert alert-warning\">\n",
    "\n",
    "<b>Beware:</b> By default, the <code>.nunique()</code> method does not count missing values, whereas the <code>.unique()</code> does!\n",
    "\n",
    "</div>"
   ]
  },
  {
   "cell_type": "markdown",
   "id": "a94ce63e",
   "metadata": {},
   "source": [
    "## Exercise 2"
   ]
  },
  {
   "cell_type": "code",
   "execution_count": null,
   "id": "41a2e5ef",
   "metadata": {
    "tags": [
     "no-replacement"
    ]
   },
   "outputs": [],
   "source": [
    "students"
   ]
  },
  {
   "cell_type": "markdown",
   "id": "b5282013",
   "metadata": {},
   "source": [
    "Get unique values in the \"Name\" column of the `students` DataFrame:"
   ]
  },
  {
   "cell_type": "code",
   "execution_count": null,
   "id": "6cc81d21",
   "metadata": {},
   "outputs": [],
   "source": []
  },
  {
   "cell_type": "code",
   "execution_count": null,
   "id": "b6429bc6",
   "metadata": {},
   "outputs": [],
   "source": []
  },
  {
   "cell_type": "markdown",
   "id": "09b6ed9e",
   "metadata": {},
   "source": [
    "Get the number of unique values in the \"Name\" column of the `students` DataFrame:"
   ]
  },
  {
   "cell_type": "code",
   "execution_count": null,
   "id": "87864168",
   "metadata": {},
   "outputs": [],
   "source": []
  },
  {
   "cell_type": "markdown",
   "id": "93e5d9f2",
   "metadata": {},
   "source": [
    "Get unique values in the \"Score\" column of the `students` DataFrame:"
   ]
  },
  {
   "cell_type": "code",
   "execution_count": null,
   "id": "6f5e1797",
   "metadata": {},
   "outputs": [],
   "source": []
  },
  {
   "cell_type": "markdown",
   "id": "6db094ba",
   "metadata": {},
   "source": [
    "Count the number of unique values in the \"Score\" column of the `students` DataFrame"
   ]
  },
  {
   "cell_type": "code",
   "execution_count": null,
   "id": "8509433a",
   "metadata": {},
   "outputs": [],
   "source": []
  },
  {
   "cell_type": "markdown",
   "id": "17fdf386",
   "metadata": {},
   "source": [
    "Get the number of unique values in the \"Name\" column of the `students` DataFrame:"
   ]
  },
  {
   "cell_type": "code",
   "execution_count": null,
   "id": "df944ffb",
   "metadata": {},
   "outputs": [],
   "source": []
  }
 ],
 "metadata": {
  "kernelspec": {
   "display_name": "Python 3",
   "language": "python",
   "name": "python3"
  },
  "language_info": {
   "codemirror_mode": {
    "name": "ipython",
    "version": 3
   },
   "file_extension": ".py",
   "mimetype": "text/x-python",
   "name": "python",
   "nbconvert_exporter": "python",
   "pygments_lexer": "ipython3",
   "version": "3.9.2"
  }
 },
 "nbformat": 4,
 "nbformat_minor": 5
}
