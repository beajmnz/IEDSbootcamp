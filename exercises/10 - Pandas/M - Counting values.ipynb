{
 "cells": [
  {
   "cell_type": "markdown",
   "id": "0addbbbd",
   "metadata": {},
   "source": [
    "# Counting values"
   ]
  },
  {
   "cell_type": "markdown",
   "id": "f30afd62",
   "metadata": {},
   "source": [
    "## Setup"
   ]
  },
  {
   "cell_type": "code",
   "execution_count": 1,
   "id": "4b36b815",
   "metadata": {},
   "outputs": [],
   "source": [
    "import pandas as pd"
   ]
  },
  {
   "cell_type": "markdown",
   "id": "6dfe4468",
   "metadata": {},
   "source": [
    "## Creation"
   ]
  },
  {
   "cell_type": "markdown",
   "id": "0515b15e",
   "metadata": {},
   "source": [
    "Creation of an example DataFrame (starting from a dictionary of dictionaries):"
   ]
  },
  {
   "cell_type": "code",
   "execution_count": 2,
   "id": "ceac3590",
   "metadata": {},
   "outputs": [],
   "source": [
    "data = {\n",
    "    \"Capital\": {\n",
    "        \"Spain\": \"Madrid\",\n",
    "        \"Belgium\": \"Brussels\",\n",
    "        \"France\": \"Paris\",\n",
    "        \"Italy\": \"Roma\",\n",
    "        \"Germany\": \"Berlin\",\n",
    "        \"Portugal\": \"Lisbon\",\n",
    "        \"Norway\": \"Oslo\",\n",
    "        \"Greece\": \"Athens\",\n",
    "    },\n",
    "    \"Population\": {\n",
    "        \"Spain\": 46733038,\n",
    "        \"Belgium\": 11449656,\n",
    "        \"France\": 67076000,\n",
    "        \"Italy\": 60390560,\n",
    "        \"Germany\": 83122889,\n",
    "        \"Portugal\": 10295909,\n",
    "        \"Norway\": 5391369,\n",
    "        \"Greece\": 10718565,\n",
    "    },\n",
    "    \"Monarch\": {\n",
    "        \"Spain\": \"Felipe VI\",\n",
    "        \"Belgium\": \"Philippe\",\n",
    "        \"Norway\": \"Harald V\",\n",
    "    },\n",
    "    \"Area\": {\n",
    "        \"Spain\": 505990,\n",
    "        \"Belgium\": 30688,\n",
    "        \"France\": 640679,\n",
    "        \"Italy\": 301340,\n",
    "        \"Germany\": None,\n",
    "        \"Portugal\": 92212,\n",
    "        \"Norway\": 385207,\n",
    "        \"Greece\": 131957,\n",
    "    },\n",
    "    \"Currency\": {\n",
    "        \"Spain\": \"EUR\",\n",
    "        \"Belgium\": \"EUR\",\n",
    "        \"France\": \"EUR\",\n",
    "        \"Italy\": \"EUR\",\n",
    "        \"Germany\": \"EUR\",\n",
    "        \"Portugal\": None,\n",
    "        \"Norway\": \"NOK\",\n",
    "        \"Greece\": \"EUR\",\n",
    "    },\n",
    "    \"Formation\": {\n",
    "        \"Spain\": \"1715-06-09\",\n",
    "        \"Belgium\": \"1830-10-04\",\n",
    "        \"France\": \"1792-09-22\",\n",
    "        \"Italy\": None,\n",
    "        \"Germany\": None,\n",
    "        \"Portugal\": None,\n",
    "        \"Norway\": None,\n",
    "        \"Greece\": None,\n",
    "    },\n",
    "}"
   ]
  },
  {
   "cell_type": "code",
   "execution_count": 3,
   "id": "b109af20",
   "metadata": {},
   "outputs": [],
   "source": [
    "# For now, let's forget about these steps:\n",
    "df = pd.DataFrame(data)\n",
    "df[\"Density\"] = df[\"Population\"] / df[\"Area\"]\n",
    "df[\"Capital\"] = df[\"Capital\"].astype(\"string\")\n",
    "df[\"Monarch\"] = df[\"Monarch\"].astype(\"string\")\n",
    "df[\"Area\"] = df[\"Area\"].astype(\"Int64\")\n",
    "df[\"Currency\"] = df[\"Currency\"].astype(\"category\")\n",
    "df[\"Formation\"] = df[\"Formation\"].astype(\"datetime64[ns]\")"
   ]
  },
  {
   "cell_type": "markdown",
   "id": "2327dea5",
   "metadata": {},
   "source": [
    "Apple stock data, taken from the [`matplotlib` sample datasets](https://github.com/matplotlib/sample_data/blob/master/aapl.csv)"
   ]
  },
  {
   "cell_type": "code",
   "execution_count": 4,
   "id": "7d52ddd0",
   "metadata": {
    "tags": [
     "no-replacement"
    ]
   },
   "outputs": [],
   "source": [
    "# For now, let's forget about these steps:\n",
    "apple = pd.read_csv(\"AAPL.csv\")\n",
    "apple[\"Date\"] = apple[\"Date\"].astype(\"datetime64[ns]\")\n",
    "apple[\"Open\"] = apple[\"Open\"] // 10 * 10\n",
    "apple[\"Close\"] = apple[\"Close\"] // 10 * 10\n",
    "apple = apple.set_index(\"Date\")\n",
    "apple = apple.sort_index()\n",
    "apple.at[\"1984-09-07\", \"Open\"] = None\n",
    "apple.loc[\"1984-09-10\":\"1984-09-11\", \"High\"] = None\n",
    "apple.loc[\"1984-09-10\":\"1984-09-12\", \"Low\"] = None"
   ]
  },
  {
   "cell_type": "markdown",
   "id": "e1485519",
   "metadata": {},
   "source": [
    "## Demo 1: Counting values"
   ]
  },
  {
   "cell_type": "code",
   "execution_count": 5,
   "id": "b2916eb5",
   "metadata": {},
   "outputs": [
    {
     "data": {
      "text/html": [
       "<div>\n",
       "<style scoped>\n",
       "    .dataframe tbody tr th:only-of-type {\n",
       "        vertical-align: middle;\n",
       "    }\n",
       "\n",
       "    .dataframe tbody tr th {\n",
       "        vertical-align: top;\n",
       "    }\n",
       "\n",
       "    .dataframe thead th {\n",
       "        text-align: right;\n",
       "    }\n",
       "</style>\n",
       "<table border=\"1\" class=\"dataframe\">\n",
       "  <thead>\n",
       "    <tr style=\"text-align: right;\">\n",
       "      <th></th>\n",
       "      <th>Capital</th>\n",
       "      <th>Population</th>\n",
       "      <th>Monarch</th>\n",
       "      <th>Area</th>\n",
       "      <th>Currency</th>\n",
       "      <th>Formation</th>\n",
       "      <th>Density</th>\n",
       "    </tr>\n",
       "  </thead>\n",
       "  <tbody>\n",
       "    <tr>\n",
       "      <th>Spain</th>\n",
       "      <td>Madrid</td>\n",
       "      <td>46733038</td>\n",
       "      <td>Felipe VI</td>\n",
       "      <td>505990</td>\n",
       "      <td>EUR</td>\n",
       "      <td>1715-06-09</td>\n",
       "      <td>92.359608</td>\n",
       "    </tr>\n",
       "    <tr>\n",
       "      <th>Belgium</th>\n",
       "      <td>Brussels</td>\n",
       "      <td>11449656</td>\n",
       "      <td>Philippe</td>\n",
       "      <td>30688</td>\n",
       "      <td>EUR</td>\n",
       "      <td>1830-10-04</td>\n",
       "      <td>373.098801</td>\n",
       "    </tr>\n",
       "    <tr>\n",
       "      <th>France</th>\n",
       "      <td>Paris</td>\n",
       "      <td>67076000</td>\n",
       "      <td>&lt;NA&gt;</td>\n",
       "      <td>640679</td>\n",
       "      <td>EUR</td>\n",
       "      <td>1792-09-22</td>\n",
       "      <td>104.695175</td>\n",
       "    </tr>\n",
       "    <tr>\n",
       "      <th>Italy</th>\n",
       "      <td>Roma</td>\n",
       "      <td>60390560</td>\n",
       "      <td>&lt;NA&gt;</td>\n",
       "      <td>301340</td>\n",
       "      <td>EUR</td>\n",
       "      <td>NaT</td>\n",
       "      <td>200.406717</td>\n",
       "    </tr>\n",
       "    <tr>\n",
       "      <th>Germany</th>\n",
       "      <td>Berlin</td>\n",
       "      <td>83122889</td>\n",
       "      <td>&lt;NA&gt;</td>\n",
       "      <td>&lt;NA&gt;</td>\n",
       "      <td>EUR</td>\n",
       "      <td>NaT</td>\n",
       "      <td>NaN</td>\n",
       "    </tr>\n",
       "    <tr>\n",
       "      <th>Portugal</th>\n",
       "      <td>Lisbon</td>\n",
       "      <td>10295909</td>\n",
       "      <td>&lt;NA&gt;</td>\n",
       "      <td>92212</td>\n",
       "      <td>NaN</td>\n",
       "      <td>NaT</td>\n",
       "      <td>111.654763</td>\n",
       "    </tr>\n",
       "    <tr>\n",
       "      <th>Norway</th>\n",
       "      <td>Oslo</td>\n",
       "      <td>5391369</td>\n",
       "      <td>Harald V</td>\n",
       "      <td>385207</td>\n",
       "      <td>NOK</td>\n",
       "      <td>NaT</td>\n",
       "      <td>13.996031</td>\n",
       "    </tr>\n",
       "    <tr>\n",
       "      <th>Greece</th>\n",
       "      <td>Athens</td>\n",
       "      <td>10718565</td>\n",
       "      <td>&lt;NA&gt;</td>\n",
       "      <td>131957</td>\n",
       "      <td>EUR</td>\n",
       "      <td>NaT</td>\n",
       "      <td>81.227711</td>\n",
       "    </tr>\n",
       "  </tbody>\n",
       "</table>\n",
       "</div>"
      ],
      "text/plain": [
       "           Capital  Population    Monarch    Area Currency  Formation  \\\n",
       "Spain       Madrid    46733038  Felipe VI  505990      EUR 1715-06-09   \n",
       "Belgium   Brussels    11449656   Philippe   30688      EUR 1830-10-04   \n",
       "France       Paris    67076000       <NA>  640679      EUR 1792-09-22   \n",
       "Italy         Roma    60390560       <NA>  301340      EUR        NaT   \n",
       "Germany     Berlin    83122889       <NA>    <NA>      EUR        NaT   \n",
       "Portugal    Lisbon    10295909       <NA>   92212      NaN        NaT   \n",
       "Norway        Oslo     5391369   Harald V  385207      NOK        NaT   \n",
       "Greece      Athens    10718565       <NA>  131957      EUR        NaT   \n",
       "\n",
       "             Density  \n",
       "Spain      92.359608  \n",
       "Belgium   373.098801  \n",
       "France    104.695175  \n",
       "Italy     200.406717  \n",
       "Germany          NaN  \n",
       "Portugal  111.654763  \n",
       "Norway     13.996031  \n",
       "Greece     81.227711  "
      ]
     },
     "execution_count": 5,
     "metadata": {},
     "output_type": "execute_result"
    }
   ],
   "source": [
    "df"
   ]
  },
  {
   "cell_type": "markdown",
   "id": "56494166",
   "metadata": {},
   "source": [
    "Count values in a column:"
   ]
  },
  {
   "cell_type": "code",
   "execution_count": 6,
   "id": "adc9b53c",
   "metadata": {},
   "outputs": [
    {
     "data": {
      "text/plain": [
       "EUR    6\n",
       "NOK    1\n",
       "Name: Currency, dtype: int64"
      ]
     },
     "execution_count": 6,
     "metadata": {},
     "output_type": "execute_result"
    }
   ],
   "source": [
    "df[\"Currency\"].value_counts()"
   ]
  },
  {
   "cell_type": "markdown",
   "id": "3c8f12e7",
   "metadata": {},
   "source": [
    "Count values in a column, including missing values:"
   ]
  },
  {
   "cell_type": "code",
   "execution_count": 7,
   "id": "2bbbd3cd",
   "metadata": {},
   "outputs": [
    {
     "data": {
      "text/plain": [
       "EUR    6\n",
       "NOK    1\n",
       "NaN    1\n",
       "Name: Currency, dtype: int64"
      ]
     },
     "execution_count": 7,
     "metadata": {},
     "output_type": "execute_result"
    }
   ],
   "source": [
    "df[\"Currency\"].value_counts(dropna=False)"
   ]
  },
  {
   "cell_type": "markdown",
   "id": "43c2a9c3",
   "metadata": {},
   "source": [
    "Count values in a column, and show results in descending order:"
   ]
  },
  {
   "cell_type": "code",
   "execution_count": 8,
   "id": "7d6faca4",
   "metadata": {},
   "outputs": [
    {
     "data": {
      "text/plain": [
       "NOK    1\n",
       "EUR    6\n",
       "Name: Currency, dtype: int64"
      ]
     },
     "execution_count": 8,
     "metadata": {},
     "output_type": "execute_result"
    }
   ],
   "source": [
    "df[\"Currency\"].value_counts(ascending=True)"
   ]
  },
  {
   "cell_type": "markdown",
   "id": "ab4afaba",
   "metadata": {},
   "source": [
    "Count values in a column, and normalize the results:"
   ]
  },
  {
   "cell_type": "code",
   "execution_count": 9,
   "id": "64af93a5",
   "metadata": {},
   "outputs": [
    {
     "data": {
      "text/plain": [
       "EUR    0.857143\n",
       "NOK    0.142857\n",
       "Name: Currency, dtype: float64"
      ]
     },
     "execution_count": 9,
     "metadata": {},
     "output_type": "execute_result"
    }
   ],
   "source": [
    "df[\"Currency\"].value_counts(normalize=True)"
   ]
  },
  {
   "cell_type": "markdown",
   "id": "0deee961",
   "metadata": {},
   "source": [
    "## Exercise 1"
   ]
  },
  {
   "cell_type": "code",
   "execution_count": 10,
   "id": "83a8c552",
   "metadata": {},
   "outputs": [
    {
     "data": {
      "text/html": [
       "<div>\n",
       "<style scoped>\n",
       "    .dataframe tbody tr th:only-of-type {\n",
       "        vertical-align: middle;\n",
       "    }\n",
       "\n",
       "    .dataframe tbody tr th {\n",
       "        vertical-align: top;\n",
       "    }\n",
       "\n",
       "    .dataframe thead th {\n",
       "        text-align: right;\n",
       "    }\n",
       "</style>\n",
       "<table border=\"1\" class=\"dataframe\">\n",
       "  <thead>\n",
       "    <tr style=\"text-align: right;\">\n",
       "      <th></th>\n",
       "      <th>Open</th>\n",
       "      <th>High</th>\n",
       "      <th>Low</th>\n",
       "      <th>Close</th>\n",
       "      <th>Volume</th>\n",
       "      <th>Adj Close</th>\n",
       "    </tr>\n",
       "    <tr>\n",
       "      <th>Date</th>\n",
       "      <th></th>\n",
       "      <th></th>\n",
       "      <th></th>\n",
       "      <th></th>\n",
       "      <th></th>\n",
       "      <th></th>\n",
       "    </tr>\n",
       "  </thead>\n",
       "  <tbody>\n",
       "    <tr>\n",
       "      <th>1984-09-07</th>\n",
       "      <td>NaN</td>\n",
       "      <td>26.87</td>\n",
       "      <td>26.25</td>\n",
       "      <td>20.0</td>\n",
       "      <td>2981600</td>\n",
       "      <td>3.02</td>\n",
       "    </tr>\n",
       "    <tr>\n",
       "      <th>1984-09-10</th>\n",
       "      <td>20.0</td>\n",
       "      <td>NaN</td>\n",
       "      <td>NaN</td>\n",
       "      <td>20.0</td>\n",
       "      <td>2346400</td>\n",
       "      <td>3.01</td>\n",
       "    </tr>\n",
       "    <tr>\n",
       "      <th>1984-09-11</th>\n",
       "      <td>20.0</td>\n",
       "      <td>NaN</td>\n",
       "      <td>NaN</td>\n",
       "      <td>20.0</td>\n",
       "      <td>5444000</td>\n",
       "      <td>3.07</td>\n",
       "    </tr>\n",
       "    <tr>\n",
       "      <th>1984-09-12</th>\n",
       "      <td>20.0</td>\n",
       "      <td>27.00</td>\n",
       "      <td>NaN</td>\n",
       "      <td>20.0</td>\n",
       "      <td>4773600</td>\n",
       "      <td>2.98</td>\n",
       "    </tr>\n",
       "    <tr>\n",
       "      <th>1984-09-13</th>\n",
       "      <td>20.0</td>\n",
       "      <td>27.62</td>\n",
       "      <td>27.50</td>\n",
       "      <td>20.0</td>\n",
       "      <td>7429600</td>\n",
       "      <td>3.14</td>\n",
       "    </tr>\n",
       "  </tbody>\n",
       "</table>\n",
       "</div>"
      ],
      "text/plain": [
       "            Open   High    Low  Close   Volume  Adj Close\n",
       "Date                                                     \n",
       "1984-09-07   NaN  26.87  26.25   20.0  2981600       3.02\n",
       "1984-09-10  20.0    NaN    NaN   20.0  2346400       3.01\n",
       "1984-09-11  20.0    NaN    NaN   20.0  5444000       3.07\n",
       "1984-09-12  20.0  27.00    NaN   20.0  4773600       2.98\n",
       "1984-09-13  20.0  27.62  27.50   20.0  7429600       3.14"
      ]
     },
     "execution_count": 10,
     "metadata": {},
     "output_type": "execute_result"
    }
   ],
   "source": [
    "apple.head()"
   ]
  },
  {
   "cell_type": "markdown",
   "id": "23c5db8b",
   "metadata": {},
   "source": [
    "Count values in the \"Open\" column:"
   ]
  },
  {
   "cell_type": "code",
   "execution_count": 12,
   "id": "3ecf978f",
   "metadata": {},
   "outputs": [
    {
     "data": {
      "text/plain": [
       "20.0     1260\n",
       "30.0     1192\n",
       "40.0     1097\n",
       "10.0      818\n",
       "50.0      509\n",
       "60.0      346\n",
       "70.0      186\n",
       "80.0      112\n",
       "90.0       88\n",
       "120.0      83\n",
       "130.0      62\n",
       "170.0      58\n",
       "100.0      56\n",
       "110.0      53\n",
       "180.0      49\n",
       "160.0      35\n",
       "140.0      29\n",
       "150.0      28\n",
       "190.0      18\n",
       "200.0       1\n",
       "Name: Open, dtype: int64"
      ]
     },
     "execution_count": 12,
     "metadata": {},
     "output_type": "execute_result"
    }
   ],
   "source": [
    "apple.Open.value_counts()"
   ]
  },
  {
   "cell_type": "markdown",
   "id": "d8b88628",
   "metadata": {},
   "source": [
    "Count values in the \"Open\" column, including missing values:"
   ]
  },
  {
   "cell_type": "code",
   "execution_count": 13,
   "id": "967e8232",
   "metadata": {},
   "outputs": [
    {
     "data": {
      "text/plain": [
       "20.0     1260\n",
       "30.0     1192\n",
       "40.0     1097\n",
       "10.0      818\n",
       "50.0      509\n",
       "60.0      346\n",
       "70.0      186\n",
       "80.0      112\n",
       "90.0       88\n",
       "120.0      83\n",
       "130.0      62\n",
       "170.0      58\n",
       "100.0      56\n",
       "110.0      53\n",
       "180.0      49\n",
       "160.0      35\n",
       "140.0      29\n",
       "150.0      28\n",
       "190.0      18\n",
       "200.0       1\n",
       "NaN         1\n",
       "Name: Open, dtype: int64"
      ]
     },
     "execution_count": 13,
     "metadata": {},
     "output_type": "execute_result"
    }
   ],
   "source": [
    "apple.Open.value_counts(dropna=False)"
   ]
  },
  {
   "cell_type": "markdown",
   "id": "2a8c8e6b",
   "metadata": {},
   "source": [
    "Count values in the \"Open\" column, and show results in descending order:"
   ]
  },
  {
   "cell_type": "code",
   "execution_count": 14,
   "id": "6c69bc16",
   "metadata": {},
   "outputs": [
    {
     "data": {
      "text/plain": [
       "20.0     1260\n",
       "30.0     1192\n",
       "40.0     1097\n",
       "10.0      818\n",
       "50.0      509\n",
       "60.0      346\n",
       "70.0      186\n",
       "80.0      112\n",
       "90.0       88\n",
       "120.0      83\n",
       "130.0      62\n",
       "170.0      58\n",
       "100.0      56\n",
       "110.0      53\n",
       "180.0      49\n",
       "160.0      35\n",
       "140.0      29\n",
       "150.0      28\n",
       "190.0      18\n",
       "200.0       1\n",
       "Name: Open, dtype: int64"
      ]
     },
     "execution_count": 14,
     "metadata": {},
     "output_type": "execute_result"
    }
   ],
   "source": [
    "apple.Open.value_counts(ascending=False)"
   ]
  },
  {
   "cell_type": "markdown",
   "id": "75cde7c0",
   "metadata": {},
   "source": [
    "Count values in the \"Open\" column, and normalize the results:"
   ]
  },
  {
   "cell_type": "code",
   "execution_count": 16,
   "id": "a12c6e0a",
   "metadata": {},
   "outputs": [
    {
     "data": {
      "text/plain": [
       "20.0     0.207237\n",
       "30.0     0.196053\n",
       "40.0     0.180428\n",
       "10.0     0.134539\n",
       "50.0     0.083717\n",
       "60.0     0.056908\n",
       "70.0     0.030592\n",
       "80.0     0.018421\n",
       "90.0     0.014474\n",
       "120.0    0.013651\n",
       "130.0    0.010197\n",
       "170.0    0.009539\n",
       "100.0    0.009211\n",
       "110.0    0.008717\n",
       "180.0    0.008059\n",
       "160.0    0.005757\n",
       "140.0    0.004770\n",
       "150.0    0.004605\n",
       "190.0    0.002961\n",
       "200.0    0.000164\n",
       "Name: Open, dtype: float64"
      ]
     },
     "execution_count": 16,
     "metadata": {},
     "output_type": "execute_result"
    }
   ],
   "source": [
    "apple.Open.value_counts(normalize=True, ascending=False)"
   ]
  },
  {
   "cell_type": "code",
   "execution_count": null,
   "id": "e2fd4369",
   "metadata": {},
   "outputs": [],
   "source": []
  }
 ],
 "metadata": {
  "kernelspec": {
   "display_name": "Python 3",
   "language": "python",
   "name": "python3"
  },
  "language_info": {
   "codemirror_mode": {
    "name": "ipython",
    "version": 3
   },
   "file_extension": ".py",
   "mimetype": "text/x-python",
   "name": "python",
   "nbconvert_exporter": "python",
   "pygments_lexer": "ipython3",
   "version": "3.8.10"
  }
 },
 "nbformat": 4,
 "nbformat_minor": 5
}
