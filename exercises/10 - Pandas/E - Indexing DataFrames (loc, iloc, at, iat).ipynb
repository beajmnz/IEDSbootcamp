{
 "cells": [
  {
   "cell_type": "markdown",
   "id": "cd7b33d0",
   "metadata": {},
   "source": [
    "# Indexing, Selecting, and Filtering"
   ]
  },
  {
   "cell_type": "markdown",
   "id": "0953597d",
   "metadata": {},
   "source": [
    "## Setup"
   ]
  },
  {
   "cell_type": "code",
   "execution_count": null,
   "id": "e32b4a40",
   "metadata": {},
   "outputs": [],
   "source": [
    "import pandas as pd"
   ]
  },
  {
   "cell_type": "markdown",
   "id": "856ac670",
   "metadata": {},
   "source": [
    "## Creation"
   ]
  },
  {
   "cell_type": "code",
   "execution_count": null,
   "id": "d4e4e478",
   "metadata": {},
   "outputs": [],
   "source": [
    "data = {\n",
    "    \"Capital\": {\n",
    "        \"Spain\": \"Madrid\",\n",
    "        \"Belgium\": \"Brussels\",\n",
    "        \"France\": \"Paris\",\n",
    "        \"Italy\": \"Roma\",\n",
    "        \"Germany\": \"Berlin\",\n",
    "        \"Portugal\": \"Lisbon\",\n",
    "        \"Norway\": \"Oslo\",\n",
    "        \"Greece\": \"Athens\",\n",
    "    },\n",
    "    \"Population\": {\n",
    "        \"Spain\": 46733038,\n",
    "        \"Belgium\": 11449656,\n",
    "        \"France\": 67076000,\n",
    "        \"Italy\": 60390560,\n",
    "        \"Germany\": 83122889,\n",
    "        \"Portugal\": 10295909,\n",
    "        \"Norway\": 5391369,\n",
    "        \"Greece\": 10718565,\n",
    "    },\n",
    "    \"Monarch\": {\n",
    "        \"Spain\": \"Felipe VI\",\n",
    "        \"Belgium\": \"Philippe\",\n",
    "        \"Norway\": \"Harald V\",\n",
    "    },\n",
    "    \"Area\": {\n",
    "        \"Spain\": 505990,\n",
    "        \"Belgium\": 30688,\n",
    "        \"France\": 640679,\n",
    "        \"Italy\": 301340,\n",
    "        \"Germany\": 357022,\n",
    "        \"Portugal\": 92212,\n",
    "        \"Norway\": 385207,\n",
    "        \"Greece\": 131957,\n",
    "    },\n",
    "}"
   ]
  },
  {
   "cell_type": "code",
   "execution_count": null,
   "id": "36be6132",
   "metadata": {},
   "outputs": [],
   "source": [
    "# For now, let's forget about these steps:\n",
    "df = pd.DataFrame(data)\n",
    "df[\"Capital\"] = df[\"Capital\"].astype(\"string\")\n",
    "df[\"Monarch\"] = df[\"Monarch\"].astype(\"string\")"
   ]
  },
  {
   "cell_type": "code",
   "execution_count": null,
   "id": "f7a6f062",
   "metadata": {},
   "outputs": [],
   "source": [
    "df"
   ]
  },
  {
   "cell_type": "markdown",
   "id": "1e9c0f4c",
   "metadata": {},
   "source": [
    "Apple stock data, taken from the [`matplotlib` sample datasets](https://github.com/matplotlib/sample_data/blob/master/aapl.csv)"
   ]
  },
  {
   "cell_type": "code",
   "execution_count": null,
   "id": "50cc56bd",
   "metadata": {},
   "outputs": [],
   "source": [
    "# For now, let's forget about these steps:\n",
    "apple = pd.read_csv(\"AAPL.csv\")\n",
    "apple[\"Date\"] = apple[\"Date\"].astype(\"datetime64[ns]\")\n",
    "apple = apple.set_index(\"Date\")\n",
    "apple = apple.sort_index()"
   ]
  },
  {
   "cell_type": "code",
   "execution_count": null,
   "id": "2c51c232",
   "metadata": {},
   "outputs": [],
   "source": [
    "apple.head()"
   ]
  },
  {
   "cell_type": "markdown",
   "id": "397c12b2",
   "metadata": {},
   "source": [
    "## `.loc[]` and `.iloc[]`"
   ]
  },
  {
   "cell_type": "markdown",
   "id": "4ef58953",
   "metadata": {},
   "source": [
    "```python\n",
    "df.loc[..., ...]\n",
    "df.loc[rows, columns]\n",
    "\n",
    "df.iloc[..., ...]\n",
    "df.iloc[rows, columns]\n",
    "\n",
    "```"
   ]
  },
  {
   "cell_type": "code",
   "execution_count": null,
   "id": "507f65c8",
   "metadata": {},
   "outputs": [],
   "source": [
    "df"
   ]
  },
  {
   "cell_type": "markdown",
   "id": "0804cd77",
   "metadata": {},
   "source": [
    "`.loc[]` expects labels (from the columns or from the index):"
   ]
  },
  {
   "cell_type": "code",
   "execution_count": null,
   "id": "e7ff525b",
   "metadata": {},
   "outputs": [],
   "source": [
    "df.loc[\"Germany\":\"Norway\"]"
   ]
  },
  {
   "cell_type": "markdown",
   "id": "8720f07a",
   "metadata": {},
   "source": [
    "`.iloc[]` expects integers:"
   ]
  },
  {
   "cell_type": "code",
   "execution_count": null,
   "id": "fba4a4f8",
   "metadata": {},
   "outputs": [],
   "source": [
    "df.iloc[-3:]"
   ]
  },
  {
   "cell_type": "markdown",
   "id": "383f5913",
   "metadata": {},
   "source": [
    "## Demo 1: Selecting one column (as a `Series`)"
   ]
  },
  {
   "cell_type": "code",
   "execution_count": null,
   "id": "fd33eb64",
   "metadata": {},
   "outputs": [],
   "source": [
    "df"
   ]
  },
  {
   "cell_type": "markdown",
   "id": "77b118f9",
   "metadata": {},
   "source": [
    "Select one column:"
   ]
  },
  {
   "cell_type": "code",
   "execution_count": null,
   "id": "b0004c9e",
   "metadata": {},
   "outputs": [],
   "source": [
    "df[\"Capital\"]"
   ]
  },
  {
   "cell_type": "code",
   "execution_count": null,
   "id": "f9b6eeaf",
   "metadata": {},
   "outputs": [],
   "source": [
    "df.loc[:, \"Capital\"]"
   ]
  },
  {
   "cell_type": "markdown",
   "id": "a12b4195",
   "metadata": {},
   "source": [
    "Check the type of the object returned:"
   ]
  },
  {
   "cell_type": "code",
   "execution_count": null,
   "id": "93f4258a",
   "metadata": {},
   "outputs": [],
   "source": [
    "type(df.loc[:, \"Capital\"])"
   ]
  },
  {
   "cell_type": "markdown",
   "id": "b0ca5970",
   "metadata": {},
   "source": [
    "## Exercise 1"
   ]
  },
  {
   "cell_type": "code",
   "execution_count": null,
   "id": "ff5973d4",
   "metadata": {
    "tags": [
     "no-replacement"
    ]
   },
   "outputs": [],
   "source": [
    "apple.head()"
   ]
  },
  {
   "cell_type": "markdown",
   "id": "acd86ee0",
   "metadata": {},
   "source": [
    "Select the \"Volume\" column of the `apple` DataFrame:"
   ]
  },
  {
   "cell_type": "code",
   "execution_count": null,
   "id": "9158e5be",
   "metadata": {},
   "outputs": [],
   "source": []
  },
  {
   "cell_type": "code",
   "execution_count": null,
   "id": "94a35253",
   "metadata": {},
   "outputs": [],
   "source": []
  },
  {
   "cell_type": "markdown",
   "id": "232e3fb1",
   "metadata": {},
   "source": [
    "Check the type of the object returned:"
   ]
  },
  {
   "cell_type": "code",
   "execution_count": null,
   "id": "7232513c",
   "metadata": {},
   "outputs": [],
   "source": []
  },
  {
   "cell_type": "markdown",
   "id": "4c408e59",
   "metadata": {},
   "source": [
    "## Demo 2: Selecting several columns"
   ]
  },
  {
   "cell_type": "code",
   "execution_count": null,
   "id": "4143bae0",
   "metadata": {},
   "outputs": [],
   "source": [
    "df"
   ]
  },
  {
   "cell_type": "markdown",
   "id": "480b8d58",
   "metadata": {},
   "source": [
    "Select several columns:"
   ]
  },
  {
   "cell_type": "code",
   "execution_count": null,
   "id": "2a4df6a0",
   "metadata": {},
   "outputs": [],
   "source": [
    "df.loc[:, [\"Capital\", \"Area\"]]"
   ]
  },
  {
   "cell_type": "markdown",
   "id": "bda12ac7",
   "metadata": {},
   "source": [
    "Check the type of the object returned:"
   ]
  },
  {
   "cell_type": "code",
   "execution_count": null,
   "id": "f2235680",
   "metadata": {},
   "outputs": [],
   "source": [
    "type(df.loc[:, [\"Capital\", \"Area\"]])"
   ]
  },
  {
   "cell_type": "markdown",
   "id": "e184ee8f",
   "metadata": {},
   "source": [
    "## Exercise 2"
   ]
  },
  {
   "cell_type": "code",
   "execution_count": null,
   "id": "afec58cb",
   "metadata": {
    "tags": [
     "no-replacement"
    ]
   },
   "outputs": [],
   "source": [
    "apple.head()"
   ]
  },
  {
   "cell_type": "markdown",
   "id": "c16f70b5",
   "metadata": {},
   "source": [
    "Select the \"Open\" and \"Close\" columns of the `apple` DataFrame:"
   ]
  },
  {
   "cell_type": "code",
   "execution_count": null,
   "id": "873c24d6",
   "metadata": {},
   "outputs": [],
   "source": []
  },
  {
   "cell_type": "markdown",
   "id": "00d8adca",
   "metadata": {},
   "source": [
    "Check the type of the object returned:"
   ]
  },
  {
   "cell_type": "code",
   "execution_count": null,
   "id": "0fcf43bf",
   "metadata": {},
   "outputs": [],
   "source": []
  },
  {
   "cell_type": "markdown",
   "id": "31bad462",
   "metadata": {},
   "source": [
    "## Demo 3: Selecting one column (as a `DataFrame`)"
   ]
  },
  {
   "cell_type": "code",
   "execution_count": null,
   "id": "9925ffe6",
   "metadata": {},
   "outputs": [],
   "source": [
    "df"
   ]
  },
  {
   "cell_type": "markdown",
   "id": "ce1dd525",
   "metadata": {},
   "source": [
    "Select one column, and return a DataFrame:"
   ]
  },
  {
   "cell_type": "code",
   "execution_count": null,
   "id": "7e1d475f",
   "metadata": {},
   "outputs": [],
   "source": [
    "df.loc[:, [\"Monarch\"]]"
   ]
  },
  {
   "cell_type": "markdown",
   "id": "7a80a0e0",
   "metadata": {},
   "source": [
    "Check the type of the object returned:"
   ]
  },
  {
   "cell_type": "code",
   "execution_count": null,
   "id": "c41bd270",
   "metadata": {},
   "outputs": [],
   "source": [
    "type(df.loc[:, [\"Monarch\"]])"
   ]
  },
  {
   "cell_type": "markdown",
   "id": "f9b2fe1b",
   "metadata": {},
   "source": [
    "## Exercise 3"
   ]
  },
  {
   "cell_type": "code",
   "execution_count": null,
   "id": "2390b8bc",
   "metadata": {
    "tags": [
     "no-replacement"
    ]
   },
   "outputs": [],
   "source": [
    "apple.head()"
   ]
  },
  {
   "cell_type": "markdown",
   "id": "9da0f8e7",
   "metadata": {},
   "source": [
    "Select the \"Adj Close\" column of the `apple` DataFrame, and return a DataFrame:"
   ]
  },
  {
   "cell_type": "code",
   "execution_count": null,
   "id": "80778150",
   "metadata": {},
   "outputs": [],
   "source": []
  },
  {
   "cell_type": "markdown",
   "id": "613491ee",
   "metadata": {},
   "source": [
    "Check the type of the object returned:"
   ]
  },
  {
   "cell_type": "code",
   "execution_count": null,
   "id": "5de4f21d",
   "metadata": {},
   "outputs": [],
   "source": []
  },
  {
   "cell_type": "markdown",
   "id": "85d87195",
   "metadata": {},
   "source": [
    "## Demo 4: Slicing rows (using the index)"
   ]
  },
  {
   "cell_type": "code",
   "execution_count": null,
   "id": "0b6ebaaf",
   "metadata": {},
   "outputs": [],
   "source": [
    "df"
   ]
  },
  {
   "cell_type": "markdown",
   "id": "94c00e50",
   "metadata": {},
   "source": [
    "Slice the first few rows until \"Italy\" included:"
   ]
  },
  {
   "cell_type": "code",
   "execution_count": null,
   "id": "55a4f7c7",
   "metadata": {},
   "outputs": [],
   "source": [
    "df.loc[:\"Italy\"]"
   ]
  },
  {
   "cell_type": "markdown",
   "id": "75c84434",
   "metadata": {},
   "source": [
    "Check the shape:"
   ]
  },
  {
   "cell_type": "code",
   "execution_count": null,
   "id": "6d9bd9e5",
   "metadata": {},
   "outputs": [],
   "source": [
    "df.loc[:\"Italy\"].shape"
   ]
  },
  {
   "cell_type": "markdown",
   "id": "0f660105",
   "metadata": {},
   "source": [
    "<div class=\"alert alert-warning\">\n",
    "\n",
    "<b>Beware:</b> Unlike in <code>Python</code>, <b>the end point is included</b> when slicing in <code>pandas</code> <b>using the index!</b>\n",
    "\n",
    "</div>"
   ]
  },
  {
   "cell_type": "markdown",
   "id": "66498e3b",
   "metadata": {},
   "source": [
    "Slice the last few rows, starting from \"Italy\":"
   ]
  },
  {
   "cell_type": "code",
   "execution_count": null,
   "id": "3e8cc200",
   "metadata": {},
   "outputs": [],
   "source": [
    "df.loc[\"Italy\":]"
   ]
  },
  {
   "cell_type": "markdown",
   "id": "08f05169",
   "metadata": {},
   "source": [
    "Check the shape:"
   ]
  },
  {
   "cell_type": "code",
   "execution_count": null,
   "id": "515944ee",
   "metadata": {},
   "outputs": [],
   "source": [
    "df.loc[\"Italy\":].shape"
   ]
  },
  {
   "cell_type": "markdown",
   "id": "a0397ed2",
   "metadata": {},
   "source": [
    "Slice the rows from \"Belgium\" until \"Germany\" included:"
   ]
  },
  {
   "cell_type": "code",
   "execution_count": null,
   "id": "dff452e3",
   "metadata": {},
   "outputs": [],
   "source": [
    "df.loc[\"Belgium\":\"Germany\"]"
   ]
  },
  {
   "cell_type": "markdown",
   "id": "4055a2ca",
   "metadata": {},
   "source": [
    "Check the shape:"
   ]
  },
  {
   "cell_type": "code",
   "execution_count": null,
   "id": "52d57ead",
   "metadata": {},
   "outputs": [],
   "source": [
    "df.loc[\"Belgium\":\"Germany\"].shape"
   ]
  },
  {
   "cell_type": "markdown",
   "id": "66915ac3",
   "metadata": {},
   "source": [
    "<div class=\"alert alert-warning\">\n",
    "\n",
    "<b>Beware:</b> Unlike in <code>Python</code>, <b>the end point is included</b> when slicing in <code>pandas</code> <b>using the index!</b>\n",
    "\n",
    "</div>"
   ]
  },
  {
   "cell_type": "markdown",
   "id": "8b7333dd",
   "metadata": {},
   "source": [
    "## Exercise 4"
   ]
  },
  {
   "cell_type": "code",
   "execution_count": null,
   "id": "234a106e",
   "metadata": {
    "tags": [
     "no-replacement"
    ]
   },
   "outputs": [],
   "source": [
    "apple.head()"
   ]
  },
  {
   "cell_type": "markdown",
   "id": "e0c973d3",
   "metadata": {},
   "source": [
    "Slice the first few rows of the `apple` DataFrame until the 14 September 1984 included:"
   ]
  },
  {
   "cell_type": "code",
   "execution_count": null,
   "id": "c1e9f933",
   "metadata": {},
   "outputs": [],
   "source": []
  },
  {
   "cell_type": "markdown",
   "id": "f9e36273",
   "metadata": {},
   "source": [
    "Check the shape:"
   ]
  },
  {
   "cell_type": "code",
   "execution_count": null,
   "id": "c1cc9597",
   "metadata": {},
   "outputs": [],
   "source": []
  },
  {
   "cell_type": "markdown",
   "id": "3408d589",
   "metadata": {},
   "source": [
    "Slice the last few rows of the `apple` DataFrame, starting from the 1 October 2008:"
   ]
  },
  {
   "cell_type": "code",
   "execution_count": null,
   "id": "614401c1",
   "metadata": {},
   "outputs": [],
   "source": []
  },
  {
   "cell_type": "markdown",
   "id": "6c3cccc7",
   "metadata": {},
   "source": [
    "Check the shape:"
   ]
  },
  {
   "cell_type": "code",
   "execution_count": null,
   "id": "e65a9120",
   "metadata": {},
   "outputs": [],
   "source": []
  },
  {
   "cell_type": "markdown",
   "id": "9b9f8b89",
   "metadata": {},
   "source": [
    "Slice the rows of the `apple` DataFrame for the month of February 2000:"
   ]
  },
  {
   "cell_type": "code",
   "execution_count": null,
   "id": "8da1c895",
   "metadata": {},
   "outputs": [],
   "source": []
  },
  {
   "cell_type": "markdown",
   "id": "e3b9b950",
   "metadata": {},
   "source": [
    "Check the shape:"
   ]
  },
  {
   "cell_type": "code",
   "execution_count": null,
   "id": "034769f0",
   "metadata": {},
   "outputs": [],
   "source": []
  },
  {
   "cell_type": "markdown",
   "id": "c826d915",
   "metadata": {},
   "source": [
    "## Demo 5: Slicing rows (using integers)"
   ]
  },
  {
   "cell_type": "code",
   "execution_count": null,
   "id": "6b60721c",
   "metadata": {},
   "outputs": [],
   "source": [
    "df"
   ]
  },
  {
   "cell_type": "markdown",
   "id": "ed046bec",
   "metadata": {},
   "source": [
    "Slice the first 4 rows:"
   ]
  },
  {
   "cell_type": "code",
   "execution_count": null,
   "id": "947b8171",
   "metadata": {},
   "outputs": [],
   "source": [
    "df.iloc[:4]"
   ]
  },
  {
   "cell_type": "markdown",
   "id": "35327c71",
   "metadata": {},
   "source": [
    "Check the shape:"
   ]
  },
  {
   "cell_type": "code",
   "execution_count": null,
   "id": "dee1f329",
   "metadata": {},
   "outputs": [],
   "source": [
    "df.iloc[:4].shape"
   ]
  },
  {
   "cell_type": "markdown",
   "id": "6b1d9836",
   "metadata": {},
   "source": [
    "<div class=\"alert alert-warning\">\n",
    "\n",
    "<b>Beware:</b> Unlike in <code>Python</code>, <b>the end point is NOT included</b> when slicing in <code>pandas</code> <b>using integers!</b>\n",
    "\n",
    "</div>"
   ]
  },
  {
   "cell_type": "markdown",
   "id": "41c7a023",
   "metadata": {},
   "source": [
    "Slice the last 3 rows:"
   ]
  },
  {
   "cell_type": "code",
   "execution_count": null,
   "id": "23ec3113",
   "metadata": {},
   "outputs": [],
   "source": [
    "df.iloc[-3:]"
   ]
  },
  {
   "cell_type": "markdown",
   "id": "6e876cd0",
   "metadata": {},
   "source": [
    "Check the shape:"
   ]
  },
  {
   "cell_type": "code",
   "execution_count": null,
   "id": "ca6dd8af",
   "metadata": {},
   "outputs": [],
   "source": [
    "df.iloc[-3:].shape"
   ]
  },
  {
   "cell_type": "markdown",
   "id": "c456f7cb",
   "metadata": {},
   "source": [
    "Slice the rows from the third until the fifth:"
   ]
  },
  {
   "cell_type": "code",
   "execution_count": null,
   "id": "081d0d0b",
   "metadata": {},
   "outputs": [],
   "source": [
    "df"
   ]
  },
  {
   "cell_type": "code",
   "execution_count": null,
   "id": "e728f78c",
   "metadata": {},
   "outputs": [],
   "source": [
    "df.iloc[2:5]"
   ]
  },
  {
   "cell_type": "markdown",
   "id": "aa4bc0f4",
   "metadata": {},
   "source": [
    "Check the shape:"
   ]
  },
  {
   "cell_type": "code",
   "execution_count": null,
   "id": "a1d7a4bc",
   "metadata": {},
   "outputs": [],
   "source": [
    "df.iloc[2:5].shape"
   ]
  },
  {
   "cell_type": "markdown",
   "id": "79c6612b",
   "metadata": {},
   "source": [
    "<div class=\"alert alert-warning\">\n",
    "\n",
    "<b>Beware:</b> Unlike in <code>Python</code>, <b>the end point is NOT included</b> when slicing in <code>pandas</code> <b>using integers!</b>\n",
    "\n",
    "</div>"
   ]
  },
  {
   "cell_type": "markdown",
   "id": "ce554b75",
   "metadata": {},
   "source": [
    "## Exercise 5"
   ]
  },
  {
   "cell_type": "code",
   "execution_count": null,
   "id": "12ea9da1",
   "metadata": {
    "tags": [
     "no-replacement"
    ]
   },
   "outputs": [],
   "source": [
    "apple.head()"
   ]
  },
  {
   "cell_type": "markdown",
   "id": "006c72d5",
   "metadata": {},
   "source": [
    "Slice the first 3 rows of the `apple` DataFrame:"
   ]
  },
  {
   "cell_type": "code",
   "execution_count": null,
   "id": "64b55a1a",
   "metadata": {},
   "outputs": [],
   "source": []
  },
  {
   "cell_type": "markdown",
   "id": "287ffc3c",
   "metadata": {},
   "source": [
    "Check the shape:"
   ]
  },
  {
   "cell_type": "code",
   "execution_count": null,
   "id": "fb44b9c6",
   "metadata": {},
   "outputs": [],
   "source": []
  },
  {
   "cell_type": "markdown",
   "id": "e6c16700",
   "metadata": {},
   "source": [
    "Slice the last 6 rows of the `apple` DataFrame:"
   ]
  },
  {
   "cell_type": "code",
   "execution_count": null,
   "id": "e57f7cf7",
   "metadata": {},
   "outputs": [],
   "source": []
  },
  {
   "cell_type": "markdown",
   "id": "807e51a8",
   "metadata": {},
   "source": [
    "Check the shape:"
   ]
  },
  {
   "cell_type": "code",
   "execution_count": null,
   "id": "ff1d3601",
   "metadata": {},
   "outputs": [],
   "source": []
  },
  {
   "cell_type": "markdown",
   "id": "4690ff21",
   "metadata": {},
   "source": [
    "Slice the second to the fourth rows of the `apple` DataFrame:"
   ]
  },
  {
   "cell_type": "code",
   "execution_count": null,
   "id": "0ca644a8",
   "metadata": {},
   "outputs": [],
   "source": []
  },
  {
   "cell_type": "code",
   "execution_count": null,
   "id": "094644b2",
   "metadata": {},
   "outputs": [],
   "source": []
  },
  {
   "cell_type": "markdown",
   "id": "22844f01",
   "metadata": {},
   "source": [
    "Check the shape:"
   ]
  },
  {
   "cell_type": "code",
   "execution_count": null,
   "id": "0e6d9b7d",
   "metadata": {},
   "outputs": [],
   "source": []
  },
  {
   "cell_type": "markdown",
   "id": "2240b525",
   "metadata": {},
   "source": [
    "## Demo 6: Selecting data with a boolean array"
   ]
  },
  {
   "cell_type": "code",
   "execution_count": null,
   "id": "2a424423",
   "metadata": {},
   "outputs": [],
   "source": [
    "df"
   ]
  },
  {
   "cell_type": "code",
   "execution_count": null,
   "id": "3d91308c",
   "metadata": {},
   "outputs": [],
   "source": [
    "df[\"Population\"]"
   ]
  },
  {
   "cell_type": "markdown",
   "id": "a7cb3966",
   "metadata": {},
   "source": [
    "Comparisons return boolean arrays:"
   ]
  },
  {
   "cell_type": "code",
   "execution_count": null,
   "id": "b03d879e",
   "metadata": {},
   "outputs": [],
   "source": [
    "df[\"Population\"] < 15_000_000"
   ]
  },
  {
   "cell_type": "markdown",
   "id": "6bd6896a",
   "metadata": {},
   "source": [
    "Select the rows for which the population is less than 15 million people:"
   ]
  },
  {
   "cell_type": "code",
   "execution_count": null,
   "id": "eeba2195",
   "metadata": {},
   "outputs": [],
   "source": [
    "df.loc[df[\"Population\"] < 15_000_000]"
   ]
  },
  {
   "cell_type": "markdown",
   "id": "b366fdf7",
   "metadata": {},
   "source": [
    "Check the shape:"
   ]
  },
  {
   "cell_type": "code",
   "execution_count": null,
   "id": "01f073fa",
   "metadata": {},
   "outputs": [],
   "source": [
    "df.loc[df[\"Population\"] < 15_000_000].shape"
   ]
  },
  {
   "cell_type": "markdown",
   "id": "08925dca",
   "metadata": {},
   "source": [
    "Select the rows for which the area is greater than or equal to 400 thousand square km:"
   ]
  },
  {
   "cell_type": "code",
   "execution_count": null,
   "id": "1eb65ba1",
   "metadata": {},
   "outputs": [],
   "source": [
    "df[\"Area\"]"
   ]
  },
  {
   "cell_type": "code",
   "execution_count": null,
   "id": "aa191331",
   "metadata": {},
   "outputs": [],
   "source": [
    "df[\"Area\"] >= 400_000"
   ]
  },
  {
   "cell_type": "code",
   "execution_count": null,
   "id": "65204cc6",
   "metadata": {},
   "outputs": [],
   "source": [
    "df.loc[df[\"Area\"] >= 400_000]"
   ]
  },
  {
   "cell_type": "markdown",
   "id": "d11b535d",
   "metadata": {},
   "source": [
    "Check the shape:"
   ]
  },
  {
   "cell_type": "code",
   "execution_count": null,
   "id": "1ade8db6",
   "metadata": {},
   "outputs": [],
   "source": [
    "df.loc[df[\"Area\"] >= 400_000].shape"
   ]
  },
  {
   "cell_type": "markdown",
   "id": "5479983c",
   "metadata": {},
   "source": [
    "Select the rows for which the area is smaller than 400 thousand square km:"
   ]
  },
  {
   "cell_type": "code",
   "execution_count": null,
   "id": "0ed43f0c",
   "metadata": {},
   "outputs": [],
   "source": [
    "df.loc[df[\"Area\"] < 400_000]"
   ]
  },
  {
   "cell_type": "markdown",
   "id": "3094aacb",
   "metadata": {},
   "source": [
    "Check the shape:"
   ]
  },
  {
   "cell_type": "code",
   "execution_count": null,
   "id": "3e573b3c",
   "metadata": {},
   "outputs": [],
   "source": [
    "df.loc[df[\"Area\"] < 400_000].shape"
   ]
  },
  {
   "cell_type": "markdown",
   "id": "1c1d48bb",
   "metadata": {},
   "source": [
    "The original DataFrame has been split into two parts:"
   ]
  },
  {
   "cell_type": "code",
   "execution_count": null,
   "id": "9eb317aa",
   "metadata": {},
   "outputs": [],
   "source": [
    "df.shape"
   ]
  },
  {
   "cell_type": "markdown",
   "id": "216153e5",
   "metadata": {},
   "source": [
    "Select the rows for which the capital is \"Roma\":"
   ]
  },
  {
   "cell_type": "code",
   "execution_count": null,
   "id": "19b294fd",
   "metadata": {},
   "outputs": [],
   "source": [
    "df[\"Capital\"] == \"Roma\""
   ]
  },
  {
   "cell_type": "code",
   "execution_count": null,
   "id": "b9aa291c",
   "metadata": {},
   "outputs": [],
   "source": [
    "df.loc[df[\"Capital\"] == \"Roma\"]"
   ]
  },
  {
   "cell_type": "markdown",
   "id": "565301c3",
   "metadata": {},
   "source": [
    "Check the shape:"
   ]
  },
  {
   "cell_type": "code",
   "execution_count": null,
   "id": "26511938",
   "metadata": {},
   "outputs": [],
   "source": [
    "df.loc[df[\"Capital\"] == \"Roma\"].shape"
   ]
  },
  {
   "cell_type": "markdown",
   "id": "0d5b630b",
   "metadata": {},
   "source": [
    "## Exercise 6"
   ]
  },
  {
   "cell_type": "code",
   "execution_count": null,
   "id": "4c580087",
   "metadata": {
    "tags": [
     "no-replacement"
    ]
   },
   "outputs": [],
   "source": [
    "apple.head()"
   ]
  },
  {
   "cell_type": "markdown",
   "id": "c11f2603",
   "metadata": {},
   "source": [
    "Select the rows of the `apple` DataFrame for which the \"Open\" column was less than or equal to 26.50:"
   ]
  },
  {
   "cell_type": "code",
   "execution_count": null,
   "id": "cde21155",
   "metadata": {},
   "outputs": [],
   "source": []
  },
  {
   "cell_type": "code",
   "execution_count": null,
   "id": "92b13c0b",
   "metadata": {},
   "outputs": [],
   "source": []
  },
  {
   "cell_type": "code",
   "execution_count": null,
   "id": "12d14347",
   "metadata": {},
   "outputs": [],
   "source": []
  },
  {
   "cell_type": "markdown",
   "id": "32cc89e2",
   "metadata": {},
   "source": [
    "Check the shape:"
   ]
  },
  {
   "cell_type": "code",
   "execution_count": null,
   "id": "b63898dc",
   "metadata": {},
   "outputs": [],
   "source": []
  },
  {
   "cell_type": "markdown",
   "id": "df9b6489",
   "metadata": {},
   "source": [
    "Select the rows of the `apple` DataFrame for which the \"Volume\" column was greater than 100_000_000:"
   ]
  },
  {
   "cell_type": "code",
   "execution_count": null,
   "id": "bc8c03f5",
   "metadata": {},
   "outputs": [],
   "source": []
  },
  {
   "cell_type": "code",
   "execution_count": null,
   "id": "9056cc65",
   "metadata": {},
   "outputs": [],
   "source": []
  },
  {
   "cell_type": "code",
   "execution_count": null,
   "id": "8475e859",
   "metadata": {},
   "outputs": [],
   "source": []
  },
  {
   "cell_type": "markdown",
   "id": "cd7a7449",
   "metadata": {},
   "source": [
    "Check the shape:"
   ]
  },
  {
   "cell_type": "code",
   "execution_count": null,
   "id": "1d37288d",
   "metadata": {},
   "outputs": [],
   "source": []
  },
  {
   "cell_type": "markdown",
   "id": "0b457189",
   "metadata": {},
   "source": [
    "Using the `apple` DataFrame, find out how many days the \"Close\" value was exactly 14.00:"
   ]
  },
  {
   "cell_type": "code",
   "execution_count": null,
   "id": "310b4da7",
   "metadata": {},
   "outputs": [],
   "source": []
  },
  {
   "cell_type": "code",
   "execution_count": null,
   "id": "932139b2",
   "metadata": {},
   "outputs": [],
   "source": []
  },
  {
   "cell_type": "code",
   "execution_count": null,
   "id": "eef14d7e",
   "metadata": {},
   "outputs": [],
   "source": []
  },
  {
   "cell_type": "markdown",
   "id": "f745026c",
   "metadata": {},
   "source": [
    "Check the shape:"
   ]
  },
  {
   "cell_type": "code",
   "execution_count": null,
   "id": "2e48f8cf",
   "metadata": {},
   "outputs": [],
   "source": []
  },
  {
   "cell_type": "markdown",
   "id": "711f77b3",
   "metadata": {},
   "source": [
    "<div class=\"alert alert-info\">\n",
    "\n",
    "<b>Note:</b> Up to this point, the <code>.loc[]</code> and <code>.iloc[]</code> methods offered no new functionality; below are examples of their power!\n",
    "\n",
    "</div>"
   ]
  },
  {
   "cell_type": "markdown",
   "id": "02976934",
   "metadata": {},
   "source": [
    "## Demo 7: Selecting one or more columns (using integers)"
   ]
  },
  {
   "cell_type": "code",
   "execution_count": null,
   "id": "fbfe10eb",
   "metadata": {},
   "outputs": [],
   "source": [
    "df"
   ]
  },
  {
   "cell_type": "markdown",
   "id": "d0e5ec5e",
   "metadata": {},
   "source": [
    "Select one column:"
   ]
  },
  {
   "cell_type": "code",
   "execution_count": null,
   "id": "a658c6d3",
   "metadata": {},
   "outputs": [],
   "source": [
    "df[\"Capital\"]"
   ]
  },
  {
   "cell_type": "code",
   "execution_count": null,
   "id": "ce2ac87c",
   "metadata": {},
   "outputs": [],
   "source": [
    "df.loc[:, \"Capital\"]"
   ]
  },
  {
   "cell_type": "markdown",
   "id": "7dcdf8ff",
   "metadata": {},
   "source": [
    "Select one column using integers:"
   ]
  },
  {
   "cell_type": "code",
   "execution_count": null,
   "id": "cdd2ffb9",
   "metadata": {
    "tags": [
     "raises-error"
    ]
   },
   "outputs": [],
   "source": [
    "# Raises an error, because indexing by integer is not allowed:\n",
    "df[0]"
   ]
  },
  {
   "cell_type": "code",
   "execution_count": null,
   "id": "bb21a75c",
   "metadata": {},
   "outputs": [],
   "source": [
    "df.iloc[:, 0]"
   ]
  },
  {
   "cell_type": "markdown",
   "id": "8816132b",
   "metadata": {},
   "source": [
    "Select several columns using integers:"
   ]
  },
  {
   "cell_type": "code",
   "execution_count": null,
   "id": "1ee9e01b",
   "metadata": {},
   "outputs": [],
   "source": [
    "df.iloc[:, [1, 3]]"
   ]
  },
  {
   "cell_type": "code",
   "execution_count": null,
   "id": "e7a8c039",
   "metadata": {},
   "outputs": [],
   "source": [
    "df.iloc[:, 1:]"
   ]
  },
  {
   "cell_type": "markdown",
   "id": "96988fa6",
   "metadata": {},
   "source": [
    "## Exercise 7"
   ]
  },
  {
   "cell_type": "code",
   "execution_count": null,
   "id": "05642508",
   "metadata": {
    "tags": [
     "no-replacement"
    ]
   },
   "outputs": [],
   "source": [
    "apple.head()"
   ]
  },
  {
   "cell_type": "markdown",
   "id": "02a78378",
   "metadata": {},
   "source": [
    "Select the second column of the `apple` DataFrame:"
   ]
  },
  {
   "cell_type": "code",
   "execution_count": null,
   "id": "f6f4ca81",
   "metadata": {},
   "outputs": [],
   "source": []
  },
  {
   "cell_type": "markdown",
   "id": "58011c3f",
   "metadata": {},
   "source": [
    "Select the first and fourth columns of the `apple` DataFrame:"
   ]
  },
  {
   "cell_type": "code",
   "execution_count": null,
   "id": "84efd670",
   "metadata": {},
   "outputs": [],
   "source": []
  },
  {
   "cell_type": "markdown",
   "id": "03a914a8",
   "metadata": {},
   "source": [
    "Select the first to fourth columns of the `apple` DataFrame:"
   ]
  },
  {
   "cell_type": "code",
   "execution_count": null,
   "id": "1466f463",
   "metadata": {},
   "outputs": [],
   "source": []
  },
  {
   "cell_type": "markdown",
   "id": "6d9fb6a4",
   "metadata": {},
   "source": [
    "## Demo 8: Selecting a slice of columns"
   ]
  },
  {
   "cell_type": "code",
   "execution_count": null,
   "id": "7180bc04",
   "metadata": {},
   "outputs": [],
   "source": [
    "df"
   ]
  },
  {
   "cell_type": "markdown",
   "id": "12c04263",
   "metadata": {},
   "source": [
    "Select a slice of columns:"
   ]
  },
  {
   "cell_type": "code",
   "execution_count": null,
   "id": "91879095",
   "metadata": {},
   "outputs": [],
   "source": [
    "df[[\"Population\", \"Monarch\", \"Area\"]]"
   ]
  },
  {
   "cell_type": "code",
   "execution_count": null,
   "id": "dff3be40",
   "metadata": {
    "tags": [
     "raises-error"
    ]
   },
   "outputs": [],
   "source": [
    "# Raises an error, because a single slice refers to rows, and not to columns:\n",
    "df[\"Population\":\"Area\"]"
   ]
  },
  {
   "cell_type": "code",
   "execution_count": null,
   "id": "6bdc9729",
   "metadata": {},
   "outputs": [],
   "source": [
    "df.loc[:, \"Population\":\"Area\"]"
   ]
  },
  {
   "cell_type": "markdown",
   "id": "df142397",
   "metadata": {},
   "source": [
    "## Exercise 8"
   ]
  },
  {
   "cell_type": "code",
   "execution_count": null,
   "id": "6ec255c5",
   "metadata": {
    "tags": [
     "no-replacement"
    ]
   },
   "outputs": [],
   "source": [
    "apple.head()"
   ]
  },
  {
   "cell_type": "markdown",
   "id": "c4fddea9",
   "metadata": {},
   "source": [
    "Select the slice of columns from \"Open\" to \"Close\" of the `apple` DataFrame:"
   ]
  },
  {
   "cell_type": "code",
   "execution_count": null,
   "id": "acde24fe",
   "metadata": {},
   "outputs": [],
   "source": []
  },
  {
   "cell_type": "markdown",
   "id": "3d5c24a8",
   "metadata": {},
   "source": [
    "## Demo 9: Selecting specific rows by labels"
   ]
  },
  {
   "cell_type": "code",
   "execution_count": null,
   "id": "d546c90d",
   "metadata": {},
   "outputs": [],
   "source": [
    "df"
   ]
  },
  {
   "cell_type": "markdown",
   "id": "cc577405",
   "metadata": {},
   "source": [
    "Select specific rows:"
   ]
  },
  {
   "cell_type": "code",
   "execution_count": null,
   "id": "c306c5e2",
   "metadata": {},
   "outputs": [],
   "source": [
    "df[\"France\":\"Portugal\"]"
   ]
  },
  {
   "cell_type": "code",
   "execution_count": null,
   "id": "9745c229",
   "metadata": {
    "tags": [
     "raises-error"
    ]
   },
   "outputs": [],
   "source": [
    "# Raises an error, because a list refers to columns, and not to rows:\n",
    "df[[\"France\", \"Germany\"]]"
   ]
  },
  {
   "cell_type": "code",
   "execution_count": null,
   "id": "aa63e06c",
   "metadata": {},
   "outputs": [],
   "source": [
    "df.loc[[\"France\", \"Germany\"]]"
   ]
  },
  {
   "cell_type": "markdown",
   "id": "af36fab5",
   "metadata": {},
   "source": [
    "## Exercise 9"
   ]
  },
  {
   "cell_type": "code",
   "execution_count": null,
   "id": "2df8083c",
   "metadata": {
    "tags": [
     "no-replacement"
    ]
   },
   "outputs": [],
   "source": [
    "apple.head()"
   ]
  },
  {
   "cell_type": "markdown",
   "id": "eb1fe9bd",
   "metadata": {},
   "source": [
    "Select the rows for 18 May 2000 and 18 May 2001 of the `apple` DataFrame using `.loc[]`:"
   ]
  },
  {
   "cell_type": "code",
   "execution_count": null,
   "id": "0380b613",
   "metadata": {},
   "outputs": [],
   "source": []
  },
  {
   "cell_type": "markdown",
   "id": "11b008e7",
   "metadata": {},
   "source": [
    "## Demo 10: Selecting on both rows and columns"
   ]
  },
  {
   "cell_type": "code",
   "execution_count": null,
   "id": "e032ad53",
   "metadata": {},
   "outputs": [],
   "source": [
    "df"
   ]
  },
  {
   "cell_type": "markdown",
   "id": "eb966f81",
   "metadata": {},
   "source": [
    "Select one or more columns:"
   ]
  },
  {
   "cell_type": "code",
   "execution_count": null,
   "id": "17a398fe",
   "metadata": {},
   "outputs": [],
   "source": [
    "df[[\"Capital\", \"Area\"]]"
   ]
  },
  {
   "cell_type": "code",
   "execution_count": null,
   "id": "7e23c743",
   "metadata": {},
   "outputs": [],
   "source": [
    "df.loc[:, [\"Capital\", \"Area\"]]"
   ]
  },
  {
   "cell_type": "markdown",
   "id": "ec26c021",
   "metadata": {},
   "source": [
    "Select rows:"
   ]
  },
  {
   "cell_type": "code",
   "execution_count": null,
   "id": "c25a8c22",
   "metadata": {},
   "outputs": [],
   "source": [
    "df[\"Belgium\":\"Norway\"]"
   ]
  },
  {
   "cell_type": "code",
   "execution_count": null,
   "id": "1d2d21de",
   "metadata": {},
   "outputs": [],
   "source": [
    "df.loc[\"Belgium\":\"Norway\"]"
   ]
  },
  {
   "cell_type": "markdown",
   "id": "6b005570",
   "metadata": {},
   "source": [
    "Select on both rows and columns by chaining single selections:"
   ]
  },
  {
   "cell_type": "code",
   "execution_count": null,
   "id": "773845e0",
   "metadata": {},
   "outputs": [],
   "source": [
    "df[[\"Capital\", \"Area\"]][\"Belgium\":\"Norway\"]"
   ]
  },
  {
   "cell_type": "code",
   "execution_count": null,
   "id": "ca5e06d4",
   "metadata": {},
   "outputs": [],
   "source": [
    "df[\"Belgium\":\"Norway\"][[\"Capital\", \"Area\"]]"
   ]
  },
  {
   "cell_type": "markdown",
   "id": "01bfa618",
   "metadata": {},
   "source": [
    "Select on both rows and columns, using the `.loc[]`/`.iloc[]` methods:"
   ]
  },
  {
   "cell_type": "code",
   "execution_count": null,
   "id": "f60aed8c",
   "metadata": {},
   "outputs": [],
   "source": [
    "df.loc[\"Belgium\":\"Norway\", [\"Capital\", \"Area\"]]"
   ]
  },
  {
   "cell_type": "markdown",
   "id": "e5f697cd",
   "metadata": {},
   "source": [
    "<div class=\"alert alert-info\">\n",
    "\n",
    "<b>Note:</b> The <code>.ix[]</code> method allows to select using a mix of labels and integers, but it is deprecated - avoid using it.\n",
    "\n",
    "</div>"
   ]
  },
  {
   "cell_type": "markdown",
   "id": "dd6d911f",
   "metadata": {},
   "source": [
    "<div class=\"alert alert-success\">\n",
    "\n",
    "<b>Best Practice:</b> Use <code>.loc[]</code> / <code>.iloc[]</code> when selecting on both rows and columns to <b>view values</b>.\n",
    "\n",
    "</div>"
   ]
  },
  {
   "cell_type": "markdown",
   "id": "8d7091fa",
   "metadata": {},
   "source": [
    "<div class=\"alert alert-danger\">\n",
    "\n",
    "<b>Warning:</b> Always use <code>.loc[]</code> / <code>.iloc[]</code> when selecting on both rows and columns to <b>assign values</b>! (See <code>SettingWithCopyWarning</code>)\n",
    "\n",
    "</div>"
   ]
  },
  {
   "cell_type": "markdown",
   "id": "d80008a8",
   "metadata": {},
   "source": [
    "## Exercise 10"
   ]
  },
  {
   "cell_type": "code",
   "execution_count": null,
   "id": "f1d15bb0",
   "metadata": {
    "tags": [
     "no-replacement"
    ]
   },
   "outputs": [],
   "source": [
    "apple.head()"
   ]
  },
  {
   "cell_type": "markdown",
   "id": "fd647993",
   "metadata": {},
   "source": [
    "Select the \"Open\" and \"Close\" columns of the `apple` DataFrame using `.loc[]`:"
   ]
  },
  {
   "cell_type": "code",
   "execution_count": null,
   "id": "b53dc03e",
   "metadata": {},
   "outputs": [],
   "source": []
  },
  {
   "cell_type": "markdown",
   "id": "8b94d9b3",
   "metadata": {},
   "source": [
    "Select the rows for the month of February 2000 of the `apple` DataFrame using `.loc[]`:"
   ]
  },
  {
   "cell_type": "code",
   "execution_count": null,
   "id": "cea01d5d",
   "metadata": {},
   "outputs": [],
   "source": []
  },
  {
   "cell_type": "markdown",
   "id": "d34b103e",
   "metadata": {},
   "source": [
    "Combine both selections using `.loc[]`:"
   ]
  },
  {
   "cell_type": "code",
   "execution_count": null,
   "id": "46a2b23c",
   "metadata": {},
   "outputs": [],
   "source": []
  },
  {
   "cell_type": "markdown",
   "id": "ac2a4227",
   "metadata": {},
   "source": [
    "## Demo 11: Selecting values with `.at[]` and `.iat[]`"
   ]
  },
  {
   "cell_type": "code",
   "execution_count": null,
   "id": "6c9bc28a",
   "metadata": {},
   "outputs": [],
   "source": [
    "df"
   ]
  },
  {
   "cell_type": "markdown",
   "id": "fa207b8a",
   "metadata": {},
   "source": [
    "Select a specific value giving both the row and the column, using the `.loc[]`/`.iloc[]` methods:"
   ]
  },
  {
   "cell_type": "code",
   "execution_count": null,
   "id": "cc81f35e",
   "metadata": {},
   "outputs": [],
   "source": [
    "df.at[\"Belgium\", \"Capital\"]"
   ]
  },
  {
   "cell_type": "code",
   "execution_count": null,
   "id": "90516122",
   "metadata": {},
   "outputs": [],
   "source": [
    "df.iat[1, 0]"
   ]
  },
  {
   "cell_type": "markdown",
   "id": "7e32b6cb",
   "metadata": {},
   "source": [
    "## Exercise 11"
   ]
  },
  {
   "cell_type": "code",
   "execution_count": null,
   "id": "f2197309",
   "metadata": {
    "tags": [
     "no-replacement"
    ]
   },
   "outputs": [],
   "source": [
    "apple.head()"
   ]
  },
  {
   "cell_type": "markdown",
   "id": "050d6794",
   "metadata": {},
   "source": [
    "Select the \"Close\" value for the 18 May 2000 of the `apple` DataFrame using `.at[]`:"
   ]
  },
  {
   "cell_type": "code",
   "execution_count": null,
   "id": "db705d8a",
   "metadata": {},
   "outputs": [],
   "source": []
  },
  {
   "cell_type": "markdown",
   "id": "aa0a9417",
   "metadata": {},
   "source": [
    "Select the \"Open\" value for the 7 September 1984 of the `apple` DataFrame using `.at[]`:"
   ]
  },
  {
   "cell_type": "code",
   "execution_count": null,
   "id": "83632100",
   "metadata": {},
   "outputs": [],
   "source": []
  },
  {
   "cell_type": "markdown",
   "id": "3fea421d",
   "metadata": {},
   "source": [
    "## Summary"
   ]
  },
  {
   "cell_type": "markdown",
   "id": "ed6177f5",
   "metadata": {},
   "source": [
    "```python\n",
    "df.loc[..., ...]\n",
    "df.loc[rows, columns]\n",
    "\n",
    "df.iloc[..., ...]\n",
    "df.iloc[rows, columns]\n",
    "\n",
    "```"
   ]
  },
  {
   "cell_type": "markdown",
   "id": "321e66d2",
   "metadata": {},
   "source": [
    " Command                         | Result\n",
    ":--------------------------------|:------------------------------------------------------\n",
    "`df[\"Column\"]`                   | Selects one column, and returns a `Series`\n",
    "`df[[\"Column_1\", \"Column_2\"]]`   | Selects several columns, and returns a `DataFrame`\n",
    "`df[[\"Column\"]]`                 | Selects one column, and returns a `DataFrame`\n",
    "`df[:\"Spain\"]`                   | Slices rows using the index, and returns a `DataFrame`\n",
    "`df[:10]`                        | Slices rows using integers, and returns a `DataFrame`\n",
    "`df[df[\"Column\"] > 0]`           | Selects rows, and returns a `DataFrame`\n",
    "                                 |\n",
    "`df.loc[..., ...]`               | Selects on both rows and columns (using labels)\n",
    "`df.iloc[..., ...]`              | Selects on both rows and columns (using integers)\n",
    "                                 |\n",
    "`df.at[..., ...]`                | Selects value at a specific position (using labels)\n",
    "`df.iat[..., ...]`               | Selects value at a specific position (using integers)\n",
    "                                 |\n",
    "`df.loc[\"Spain\"]`                | Selects one row, and returns a `Series`\n",
    "`df.loc[[\"Spain\", \"Belgium\"]]`   | Selects several rows, and returns a `DataFrame`\n",
    "`df.loc[[\"Spain\"]]`              | Selects one row, and returns a `DataFrame`\n",
    "`df.loc[[\"Spain\":\"Germany\"]]`    | Selects a slice of rows, and returns a `DataFrame`\n",
    "                                 |\n",
    "`df.loc[:, \"Capital\"]`           | Selects one column, and returns a `Series`\n",
    "`df.loc[:, [\"Capital\", \"Area\"]]` | Selects several columns, and returns a `DataFrame`\n",
    "`df.loc[:, [\"Capital\"]]`         | Selects one column, and returns a `DataFrame`\n",
    "`df.loc[:, [\"Capital\":\"Area\"]]`  | Selects a slice of columns, and returns a `DataFrame`\n",
    "\n",
    "\n",
    "\n",
    "\n",
    "\n",
    "\n",
    "\n",
    "\n",
    " \n",
    "\n",
    "\n"
   ]
  }
 ],
 "metadata": {
  "kernelspec": {
   "display_name": "Python 3",
   "language": "python",
   "name": "python3"
  },
  "language_info": {
   "codemirror_mode": {
    "name": "ipython",
    "version": 3
   },
   "file_extension": ".py",
   "mimetype": "text/x-python",
   "name": "python",
   "nbconvert_exporter": "python",
   "pygments_lexer": "ipython3",
   "version": "3.9.2"
  }
 },
 "nbformat": 4,
 "nbformat_minor": 5
}
