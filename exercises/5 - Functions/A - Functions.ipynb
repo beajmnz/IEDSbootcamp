{
 "cells": [
  {
   "cell_type": "markdown",
   "id": "1c749546",
   "metadata": {},
   "source": [
    "# Functions"
   ]
  },
  {
   "cell_type": "markdown",
   "id": "1eb1871c",
   "metadata": {},
   "source": [
    "> A major purpose of functions is to group code that gets executed multiple times."
   ]
  },
  {
   "cell_type": "markdown",
   "id": "0ad36c20",
   "metadata": {},
   "source": [
    "## Examples of functions"
   ]
  },
  {
   "cell_type": "code",
   "execution_count": null,
   "id": "7ba6906c",
   "metadata": {},
   "outputs": [],
   "source": [
    "copyright()"
   ]
  },
  {
   "cell_type": "code",
   "execution_count": null,
   "id": "dae8073d",
   "metadata": {},
   "outputs": [],
   "source": [
    "result = type(\"IE\")"
   ]
  },
  {
   "cell_type": "code",
   "execution_count": null,
   "id": "d9db19e1",
   "metadata": {},
   "outputs": [],
   "source": [
    "result"
   ]
  },
  {
   "cell_type": "code",
   "execution_count": null,
   "id": "dc3ec732",
   "metadata": {},
   "outputs": [],
   "source": [
    "result = print(\"IE\")"
   ]
  },
  {
   "cell_type": "code",
   "execution_count": null,
   "id": "c82c3580",
   "metadata": {},
   "outputs": [],
   "source": [
    "result"
   ]
  },
  {
   "cell_type": "code",
   "execution_count": null,
   "id": "e6991ae2",
   "metadata": {},
   "outputs": [],
   "source": [
    "print(result)"
   ]
  },
  {
   "cell_type": "code",
   "execution_count": null,
   "id": "feeee5eb",
   "metadata": {},
   "outputs": [],
   "source": [
    "result = pow(2, 3)"
   ]
  },
  {
   "cell_type": "code",
   "execution_count": null,
   "id": "3bd5fd10",
   "metadata": {},
   "outputs": [],
   "source": [
    "result"
   ]
  },
  {
   "cell_type": "code",
   "execution_count": null,
   "id": "812c0428",
   "metadata": {},
   "outputs": [],
   "source": [
    "print(\"First part\")\n",
    "print(\"Second part\")"
   ]
  },
  {
   "cell_type": "code",
   "execution_count": null,
   "id": "c247313f",
   "metadata": {},
   "outputs": [],
   "source": [
    "print(\"First part\", end=\" --- \")\n",
    "print(\"Second part\")"
   ]
  },
  {
   "cell_type": "markdown",
   "id": "bce5730b",
   "metadata": {},
   "source": [
    "## Demo 1: Defining a function without mandatory arguments"
   ]
  },
  {
   "cell_type": "markdown",
   "id": "acdc26ea",
   "metadata": {},
   "source": [
    "Define a function:\n",
    "* named `author`\n",
    "* that takes no input\n",
    "* that returns the author's name as output\n",
    "\n",
    "Signature: `author()`"
   ]
  },
  {
   "cell_type": "code",
   "execution_count": null,
   "id": "962d9ca5",
   "metadata": {},
   "outputs": [],
   "source": [
    "def author():\n",
    "    output = \"JC\"\n",
    "    return output"
   ]
  },
  {
   "cell_type": "code",
   "execution_count": null,
   "id": "853e03e7",
   "metadata": {},
   "outputs": [],
   "source": [
    "result = author()"
   ]
  },
  {
   "cell_type": "code",
   "execution_count": null,
   "id": "4a6d38c8",
   "metadata": {},
   "outputs": [],
   "source": [
    "result"
   ]
  },
  {
   "cell_type": "markdown",
   "id": "61b38857",
   "metadata": {},
   "source": [
    "## Exercise 1"
   ]
  },
  {
   "cell_type": "markdown",
   "id": "f4dcce31",
   "metadata": {},
   "source": [
    "### Skeleton"
   ]
  },
  {
   "cell_type": "markdown",
   "id": "3684059d",
   "metadata": {},
   "source": [
    "Define a function:\n",
    "* named `student`\n",
    "* that takes no input\n",
    "* that returns your name as output\n",
    "\n",
    "Signature: `student()`"
   ]
  },
  {
   "cell_type": "code",
   "execution_count": null,
   "id": "32f0796d",
   "metadata": {},
   "outputs": [],
   "source": []
  },
  {
   "cell_type": "code",
   "execution_count": null,
   "id": "d720ae71",
   "metadata": {},
   "outputs": [],
   "source": []
  },
  {
   "cell_type": "code",
   "execution_count": null,
   "id": "5447c80f",
   "metadata": {},
   "outputs": [],
   "source": []
  },
  {
   "cell_type": "markdown",
   "id": "2b08d11c",
   "metadata": {},
   "source": [
    "## Demo 2: Defining a function with a single mandatory argument"
   ]
  },
  {
   "cell_type": "markdown",
   "id": "fde54448",
   "metadata": {},
   "source": [
    "Define a function:\n",
    "* named `add_three`\n",
    "* that takes a single number as input\n",
    "* that returns the sum of the input and 3 as output\n",
    "\n",
    "Signature: `add_three(number)`"
   ]
  },
  {
   "cell_type": "code",
   "execution_count": null,
   "id": "47c8e6bd",
   "metadata": {},
   "outputs": [],
   "source": [
    "def add_three(number):\n",
    "    output = number + 3\n",
    "    return output"
   ]
  },
  {
   "cell_type": "code",
   "execution_count": null,
   "id": "f14ad60f",
   "metadata": {},
   "outputs": [],
   "source": [
    "add_three(1)"
   ]
  },
  {
   "cell_type": "code",
   "execution_count": null,
   "id": "b16a5507",
   "metadata": {},
   "outputs": [],
   "source": [
    "result = add_three(1)"
   ]
  },
  {
   "cell_type": "code",
   "execution_count": null,
   "id": "e260020f",
   "metadata": {},
   "outputs": [],
   "source": [
    "result"
   ]
  },
  {
   "cell_type": "markdown",
   "id": "6eabf836",
   "metadata": {},
   "source": [
    "The return value can be an expression:"
   ]
  },
  {
   "cell_type": "code",
   "execution_count": null,
   "id": "d0c56228",
   "metadata": {},
   "outputs": [],
   "source": [
    "def add_three(number):\n",
    "    return number + 3"
   ]
  },
  {
   "cell_type": "code",
   "execution_count": null,
   "id": "84c011f6",
   "metadata": {},
   "outputs": [],
   "source": [
    "add_three(5)"
   ]
  },
  {
   "cell_type": "markdown",
   "id": "caf920a4",
   "metadata": {},
   "source": [
    "<div class=\"alert alert-success\">\n",
    "\n",
    "<b>Best Practice:</b> Avoid complicated expressions in return values\n",
    "\n",
    "</div>"
   ]
  },
  {
   "cell_type": "markdown",
   "id": "1806761c",
   "metadata": {},
   "source": [
    "The name of the mandatory argument can be specified when calling the function:"
   ]
  },
  {
   "cell_type": "code",
   "execution_count": null,
   "id": "48896729",
   "metadata": {},
   "outputs": [],
   "source": [
    "add_three(number=10)"
   ]
  },
  {
   "cell_type": "markdown",
   "id": "6ae20c12",
   "metadata": {},
   "source": [
    "<div class=\"alert alert-success\">\n",
    "\n",
    "<b>Best Practice:</b> Do not specify the names of mandatory arguments in function calls\n",
    "\n",
    "</div>"
   ]
  },
  {
   "cell_type": "markdown",
   "id": "12095620",
   "metadata": {},
   "source": [
    "## Exercise 2"
   ]
  },
  {
   "cell_type": "markdown",
   "id": "c8ea9c05",
   "metadata": {},
   "source": [
    "### Skeleton"
   ]
  },
  {
   "cell_type": "markdown",
   "id": "adfdd683",
   "metadata": {},
   "source": [
    "Define a function:\n",
    "* named `squared`\n",
    "* that takes a single number as input\n",
    "* that returns the square of the input as output\n",
    "\n",
    "Signature: `squared(number)`"
   ]
  },
  {
   "cell_type": "code",
   "execution_count": null,
   "id": "d8ff64e6",
   "metadata": {},
   "outputs": [],
   "source": []
  },
  {
   "cell_type": "markdown",
   "id": "4c606819",
   "metadata": {},
   "source": [
    "Check the result returned by the `squared(4)` function call:"
   ]
  },
  {
   "cell_type": "code",
   "execution_count": null,
   "id": "fac023d8",
   "metadata": {},
   "outputs": [],
   "source": []
  },
  {
   "cell_type": "code",
   "execution_count": null,
   "id": "ded1b5bb",
   "metadata": {},
   "outputs": [],
   "source": []
  },
  {
   "cell_type": "markdown",
   "id": "d5096b9e",
   "metadata": {},
   "source": [
    "## Demo 3: Defining a function that does not return a result"
   ]
  },
  {
   "cell_type": "markdown",
   "id": "ad33e8f1",
   "metadata": {},
   "source": [
    "Define a function:\n",
    "* named `print_copyright`\n",
    "* that takes a string as input\n",
    "* that prints the input\n",
    "* that returns nothing as output\n",
    "\n",
    "Signature: `print_copyright(text)`"
   ]
  },
  {
   "cell_type": "code",
   "execution_count": null,
   "id": "fdbea79e",
   "metadata": {},
   "outputs": [],
   "source": [
    "def print_copyright(text):\n",
    "    print(text)\n",
    "    print(\"Copyright IE\")\n",
    "    return None"
   ]
  },
  {
   "cell_type": "code",
   "execution_count": null,
   "id": "5fd20330",
   "metadata": {},
   "outputs": [],
   "source": [
    "print_copyright(\"Data Science Bootcamp\")"
   ]
  },
  {
   "cell_type": "code",
   "execution_count": null,
   "id": "bed50b83",
   "metadata": {},
   "outputs": [],
   "source": [
    "result = print_copyright(\"Data Science Bootcamp\")"
   ]
  },
  {
   "cell_type": "code",
   "execution_count": null,
   "id": "dae97818",
   "metadata": {},
   "outputs": [],
   "source": [
    "result"
   ]
  },
  {
   "cell_type": "code",
   "execution_count": null,
   "id": "993d1dd5",
   "metadata": {},
   "outputs": [],
   "source": [
    "print(result)"
   ]
  },
  {
   "cell_type": "markdown",
   "id": "296f3ff7",
   "metadata": {},
   "source": [
    "If no return value is given explicitly, Python will implictly return `None`:"
   ]
  },
  {
   "cell_type": "code",
   "execution_count": null,
   "id": "5ab914e8",
   "metadata": {},
   "outputs": [],
   "source": [
    "def print_copyright_implicit_return(text):\n",
    "    print(text)\n",
    "    print(\"Copyright IE\")\n",
    "    # No return value!"
   ]
  },
  {
   "cell_type": "code",
   "execution_count": null,
   "id": "eb164ed9",
   "metadata": {},
   "outputs": [],
   "source": [
    "result = print_copyright_implicit_return(\"Data Science Bootcamp\")"
   ]
  },
  {
   "cell_type": "code",
   "execution_count": null,
   "id": "535232a1",
   "metadata": {},
   "outputs": [],
   "source": [
    "print(result)"
   ]
  },
  {
   "cell_type": "markdown",
   "id": "09f221b5",
   "metadata": {},
   "source": [
    "If no return value is specified, Python will implictly return `None`:"
   ]
  },
  {
   "cell_type": "code",
   "execution_count": null,
   "id": "4bd802c9",
   "metadata": {},
   "outputs": [],
   "source": [
    "def print_copyright_implicit_None(text):\n",
    "    print(text)\n",
    "    print(\"Copyright IE\")\n",
    "    # No return value specified!\n",
    "    return"
   ]
  },
  {
   "cell_type": "code",
   "execution_count": null,
   "id": "cc467fa3",
   "metadata": {},
   "outputs": [],
   "source": [
    "result = print_copyright_implicit_None(\"Data Science Bootcamp\")"
   ]
  },
  {
   "cell_type": "code",
   "execution_count": null,
   "id": "48add788",
   "metadata": {},
   "outputs": [],
   "source": [
    "print(result)"
   ]
  },
  {
   "cell_type": "markdown",
   "id": "36fcbfcc",
   "metadata": {},
   "source": [
    "<div class=\"alert alert-success\">\n",
    "\n",
    "<b>Best Practice:</b> Always specify the return value explicitly, even if it is <code>None</code>\n",
    "\n",
    "</div>"
   ]
  },
  {
   "cell_type": "markdown",
   "id": "5e1ccd8d",
   "metadata": {},
   "source": [
    "## Exercise 3"
   ]
  },
  {
   "cell_type": "markdown",
   "id": "362473d0",
   "metadata": {},
   "source": [
    "### Skeleton"
   ]
  },
  {
   "cell_type": "markdown",
   "id": "6e9add29",
   "metadata": {},
   "source": [
    "Define a function:\n",
    "* named `print_favourite_book`\n",
    "* that takes no input\n",
    "* that prints your favourite book\n",
    "* that returns nothing as output\n",
    "\n",
    "Signature: `print_favourite_book()`"
   ]
  },
  {
   "cell_type": "code",
   "execution_count": null,
   "id": "3ed02958",
   "metadata": {},
   "outputs": [],
   "source": []
  },
  {
   "cell_type": "markdown",
   "id": "216a6598",
   "metadata": {},
   "source": [
    "Check that calling the function does print your favourite book:"
   ]
  },
  {
   "cell_type": "code",
   "execution_count": null,
   "id": "33030aaf",
   "metadata": {},
   "outputs": [],
   "source": []
  },
  {
   "cell_type": "markdown",
   "id": "7c250598",
   "metadata": {},
   "source": [
    "Check that the function does return nothing:"
   ]
  },
  {
   "cell_type": "code",
   "execution_count": null,
   "id": "e3dba060",
   "metadata": {},
   "outputs": [],
   "source": []
  },
  {
   "cell_type": "code",
   "execution_count": null,
   "id": "3fc93491",
   "metadata": {},
   "outputs": [],
   "source": []
  },
  {
   "cell_type": "code",
   "execution_count": null,
   "id": "c06fe9cc",
   "metadata": {},
   "outputs": [],
   "source": []
  },
  {
   "cell_type": "markdown",
   "id": "3ac8c33f",
   "metadata": {},
   "source": [
    "## Demo 4: Defining a function with multiple mandatory arguments"
   ]
  },
  {
   "cell_type": "markdown",
   "id": "40ec8abc",
   "metadata": {},
   "source": [
    "Define a function:\n",
    "* named `division`\n",
    "* that takes 2 numbers as input\n",
    "* that returns the result of dividing the first one by the second one as output\n",
    "\n",
    "Signature: `division(dividend, divisor)`"
   ]
  },
  {
   "cell_type": "code",
   "execution_count": null,
   "id": "083d249c",
   "metadata": {},
   "outputs": [],
   "source": [
    "def division(dividend, divisor):\n",
    "    output = dividend / divisor\n",
    "    return output"
   ]
  },
  {
   "cell_type": "code",
   "execution_count": null,
   "id": "9ee020d4",
   "metadata": {},
   "outputs": [],
   "source": [
    "result = division(6, 3)"
   ]
  },
  {
   "cell_type": "code",
   "execution_count": null,
   "id": "0dc844cf",
   "metadata": {},
   "outputs": [],
   "source": [
    "result"
   ]
  },
  {
   "cell_type": "markdown",
   "id": "44bc2725",
   "metadata": {},
   "source": [
    "The names of the mandatory arguments can be specified when calling the function:"
   ]
  },
  {
   "cell_type": "code",
   "execution_count": null,
   "id": "afd4c843",
   "metadata": {},
   "outputs": [],
   "source": [
    "division(dividend=9, divisor=3)"
   ]
  },
  {
   "cell_type": "markdown",
   "id": "b0ff7284",
   "metadata": {},
   "source": [
    "<div class=\"alert alert-success\">\n",
    "\n",
    "<b>Best Practice:</b> Do not specify the names of mandatory arguments in function calls\n",
    "\n",
    "</div>"
   ]
  },
  {
   "cell_type": "markdown",
   "id": "b770170f",
   "metadata": {},
   "source": [
    "## Exercise 4"
   ]
  },
  {
   "cell_type": "markdown",
   "id": "a7549096",
   "metadata": {},
   "source": [
    "### Skeleton"
   ]
  },
  {
   "cell_type": "markdown",
   "id": "fbaedab5",
   "metadata": {},
   "source": [
    "Define a function:\n",
    "* named `total_price`\n",
    "* that takes 2 numbers (unit price and quantity) as input\n",
    "* that returns the result of multiplying them together as output\n",
    "\n",
    "Signature: `total_price(unit_price, quantity)`"
   ]
  },
  {
   "cell_type": "code",
   "execution_count": null,
   "id": "55a75f58",
   "metadata": {},
   "outputs": [],
   "source": []
  },
  {
   "cell_type": "markdown",
   "id": "88fa11e0",
   "metadata": {},
   "source": [
    "Check that calling `total_price(6, 3)` returns the expected result:"
   ]
  },
  {
   "cell_type": "code",
   "execution_count": null,
   "id": "a78d4e95",
   "metadata": {},
   "outputs": [],
   "source": []
  },
  {
   "cell_type": "code",
   "execution_count": null,
   "id": "81475b5a",
   "metadata": {},
   "outputs": [],
   "source": []
  },
  {
   "cell_type": "markdown",
   "id": "f880199d",
   "metadata": {},
   "source": [
    "## Demo 5: Defining a function with an optional argument"
   ]
  },
  {
   "cell_type": "markdown",
   "id": "388747c2",
   "metadata": {},
   "source": [
    "Define a function:\n",
    "* named `division`\n",
    "* that takes 2 numbers and a boolean as input\n",
    "* that optionally prints detailed information\n",
    "* that returns the result of dividing the first one by the second one as output\n",
    "\n",
    "Signature: `division(dividend, divisor, verbose)`"
   ]
  },
  {
   "cell_type": "code",
   "execution_count": null,
   "id": "6a5df216",
   "metadata": {},
   "outputs": [],
   "source": [
    "def division(dividend, divisor):\n",
    "    output = dividend / divisor\n",
    "    return output"
   ]
  },
  {
   "cell_type": "code",
   "execution_count": null,
   "id": "5093ef1b",
   "metadata": {},
   "outputs": [],
   "source": [
    "result = division(6, 3)"
   ]
  },
  {
   "cell_type": "markdown",
   "id": "1fa54dec",
   "metadata": {},
   "source": [
    "Add some verbose output to the `division` function:"
   ]
  },
  {
   "cell_type": "code",
   "execution_count": null,
   "id": "53822ac7",
   "metadata": {},
   "outputs": [],
   "source": [
    "def division(dividend, divisor, verbose):\n",
    "    if verbose:\n",
    "        print(f\"{dividend}\")\n",
    "        print(f\"{divisor}\")\n",
    "    output = dividend / divisor\n",
    "    if verbose:\n",
    "        print(f\"{output}\")\n",
    "    return output"
   ]
  },
  {
   "cell_type": "code",
   "execution_count": null,
   "id": "9e8b61fd",
   "metadata": {},
   "outputs": [],
   "source": [
    "# Raises an error, because verbose is a mandatory argument:\n",
    "# division(6, 3)"
   ]
  },
  {
   "cell_type": "code",
   "execution_count": null,
   "id": "dc6ee96f",
   "metadata": {},
   "outputs": [],
   "source": [
    "result = division(6, 3, False)"
   ]
  },
  {
   "cell_type": "code",
   "execution_count": null,
   "id": "1fb1bda3",
   "metadata": {},
   "outputs": [],
   "source": [
    "result = division(6, 3, True)"
   ]
  },
  {
   "cell_type": "markdown",
   "id": "eb1047a5",
   "metadata": {},
   "source": [
    "Make the `verbose` argument optional by giving it a default value:"
   ]
  },
  {
   "cell_type": "code",
   "execution_count": null,
   "id": "5e8e8dcd",
   "metadata": {},
   "outputs": [],
   "source": [
    "def division(dividend, divisor, verbose=False):\n",
    "    if verbose:\n",
    "        print(f\"{dividend}\")\n",
    "        print(f\"{divisor}\")\n",
    "    output = dividend / divisor\n",
    "    if verbose:\n",
    "        print(f\"{output}\")\n",
    "    return output"
   ]
  },
  {
   "cell_type": "code",
   "execution_count": null,
   "id": "a0e94daf",
   "metadata": {},
   "outputs": [],
   "source": [
    "# Does not raise an error, because verbose is an optional argument:\n",
    "division(6, 3)"
   ]
  },
  {
   "cell_type": "code",
   "execution_count": null,
   "id": "f918e74d",
   "metadata": {},
   "outputs": [],
   "source": [
    "division(6, 3, verbose=False)"
   ]
  },
  {
   "cell_type": "code",
   "execution_count": null,
   "id": "bf23e2cb",
   "metadata": {},
   "outputs": [],
   "source": [
    "division(6, 3, verbose=True)"
   ]
  },
  {
   "cell_type": "markdown",
   "id": "2eb7ff6a",
   "metadata": {},
   "source": [
    "<div class=\"alert alert-success\">\n",
    "\n",
    "<b>Best Practice:</b> Avoid specifing optional arguments with default values in function calls\n",
    "\n",
    "</div>"
   ]
  },
  {
   "cell_type": "markdown",
   "id": "5a7802ac",
   "metadata": {},
   "source": [
    "The name of the optional argument can be avoided when calling the function, as long as the order is respected:"
   ]
  },
  {
   "cell_type": "code",
   "execution_count": null,
   "id": "29b6f7d6",
   "metadata": {},
   "outputs": [],
   "source": [
    "division(6, 3, True)"
   ]
  },
  {
   "cell_type": "markdown",
   "id": "167b1cf1",
   "metadata": {},
   "source": [
    "<div class=\"alert alert-success\">\n",
    "\n",
    "<b>Best Practice:</b> Always specify the names of optional arguments in function calls\n",
    "\n",
    "</div>"
   ]
  },
  {
   "cell_type": "markdown",
   "id": "5680ea95",
   "metadata": {},
   "source": [
    "Default values for optional arguments should always be immutable objects.  \n",
    "**Using mutable objects as default values often leads to unintended behaviour!**  "
   ]
  },
  {
   "cell_type": "markdown",
   "id": "8200d4b5",
   "metadata": {},
   "source": [
    "For instance, define a function that adds the \"###\" string at the end of the list passed (using an empty list as default value):"
   ]
  },
  {
   "cell_type": "code",
   "execution_count": null,
   "id": "7cc01aba",
   "metadata": {},
   "outputs": [],
   "source": [
    "def unintended(students=[]):\n",
    "    students.append(\"###\")\n",
    "    return students"
   ]
  },
  {
   "cell_type": "markdown",
   "id": "50140c62",
   "metadata": {},
   "source": [
    "Calling this function repeatedly with an argument (thus overriding the default value) works as expected:"
   ]
  },
  {
   "cell_type": "code",
   "execution_count": null,
   "id": "f96b97e5",
   "metadata": {},
   "outputs": [],
   "source": [
    "unintended([\"Alice\", \"Bea\", \"Celia\"])"
   ]
  },
  {
   "cell_type": "code",
   "execution_count": null,
   "id": "89aabe5f",
   "metadata": {},
   "outputs": [],
   "source": [
    "unintended([\"Arthur\", \"Boris\", \"Chris\"])"
   ]
  },
  {
   "cell_type": "markdown",
   "id": "48f57fbd",
   "metadata": {},
   "source": [
    "Calling this function without an argument (thus using the default value) works as expected the first time:"
   ]
  },
  {
   "cell_type": "code",
   "execution_count": null,
   "id": "4f744437",
   "metadata": {},
   "outputs": [],
   "source": [
    "unintended()"
   ]
  },
  {
   "cell_type": "markdown",
   "id": "66187d87",
   "metadata": {},
   "source": [
    "Subsequent calls to this function without an argument (thus using the default value) show the unexpected behaviour:"
   ]
  },
  {
   "cell_type": "code",
   "execution_count": null,
   "id": "73144b4b",
   "metadata": {},
   "outputs": [],
   "source": [
    "unintended()"
   ]
  },
  {
   "cell_type": "code",
   "execution_count": null,
   "id": "5b06562d",
   "metadata": {},
   "outputs": [],
   "source": [
    "unintended()"
   ]
  },
  {
   "cell_type": "markdown",
   "id": "d1bf4b55",
   "metadata": {},
   "source": [
    "In Python, **default parameter values are defined only once, when the function is defined** (i.e. when the `def` statement is executed). Thus, each call to the `unintended()` without a parameter performs an `.append()` to the same list."
   ]
  },
  {
   "cell_type": "markdown",
   "id": "e375b552",
   "metadata": {},
   "source": [
    "<div class=\"alert alert-danger\">\n",
    "\n",
    "<b>Warning:</b> Always specify <b>immutable objects</b> as default values for optional arguments!\n",
    "\n",
    "</div>"
   ]
  },
  {
   "cell_type": "markdown",
   "id": "62988a27",
   "metadata": {},
   "source": [
    "## Exercise 5"
   ]
  },
  {
   "cell_type": "markdown",
   "id": "c8432b34",
   "metadata": {},
   "source": [
    "### Skeleton"
   ]
  },
  {
   "cell_type": "markdown",
   "id": "dfa7f699",
   "metadata": {},
   "source": [
    "Define a function:\n",
    "* named `total_price`\n",
    "* that takes 2 numbers (unit price and quantity) and a boolean (verbosity) as input\n",
    "* that optionally prints detailed information\n",
    "* that returns the result of multiplying them together as output\n",
    "\n",
    "Signature: `total_price(unit_price, quantity, verbose=False)`"
   ]
  },
  {
   "cell_type": "code",
   "execution_count": null,
   "id": "74a21a08",
   "metadata": {},
   "outputs": [],
   "source": []
  },
  {
   "cell_type": "markdown",
   "id": "49e4cce0",
   "metadata": {},
   "source": [
    "Check that calling `total_price(6, 3)` with the `verbose` flag set to `True` prints detailed information:"
   ]
  },
  {
   "cell_type": "code",
   "execution_count": null,
   "id": "e9abd656",
   "metadata": {},
   "outputs": [],
   "source": []
  },
  {
   "cell_type": "code",
   "execution_count": null,
   "id": "2f5909d2",
   "metadata": {},
   "outputs": [],
   "source": []
  },
  {
   "cell_type": "markdown",
   "id": "b03b241d",
   "metadata": {},
   "source": [
    "## Demo 6: Defining a function with multiple optional arguments"
   ]
  },
  {
   "cell_type": "code",
   "execution_count": null,
   "id": "005c6ab7",
   "metadata": {},
   "outputs": [],
   "source": [
    "# Raises an error, because dividing by zero is not permitted:\n",
    "# division(6, 0)"
   ]
  },
  {
   "cell_type": "markdown",
   "id": "bd19df52",
   "metadata": {},
   "source": [
    "Define a function:\n",
    "* named `division`\n",
    "* that takes 2 numbers and 2 booleans as input\n",
    "* that optionally prints detailed information\n",
    "* that optionally checks if the divisor is different from zero\n",
    "* that returns the result of dividing the first one by the second one as output\n",
    "\n",
    "Signature: `division(dividend, divisor, verbose=False, check=True)`"
   ]
  },
  {
   "cell_type": "code",
   "execution_count": null,
   "id": "c5c3556e",
   "metadata": {},
   "outputs": [],
   "source": [
    "def division(dividend, divisor, verbose=False, check=True):\n",
    "    if verbose:\n",
    "        print(f\"{dividend}\")\n",
    "        print(f\"{divisor}\")\n",
    "    if check:\n",
    "        if divisor == 0:\n",
    "            print(\"ERROR: The divisor is zero!\")\n",
    "            # Handle the problem (e.g. by returning None, or by raising an error):\n",
    "            return None\n",
    "    output = dividend / divisor\n",
    "    if verbose:\n",
    "        print(f\"{output}\")\n",
    "    return output"
   ]
  },
  {
   "cell_type": "code",
   "execution_count": null,
   "id": "19198385",
   "metadata": {},
   "outputs": [],
   "source": [
    "division(6, 3)"
   ]
  },
  {
   "cell_type": "code",
   "execution_count": null,
   "id": "1031c5ea",
   "metadata": {},
   "outputs": [],
   "source": [
    "division(6, 0)"
   ]
  },
  {
   "cell_type": "code",
   "execution_count": null,
   "id": "13b7cfa7",
   "metadata": {},
   "outputs": [],
   "source": [
    "# Raises an error, because dividing by zero is not allowed and the check is skipped:\n",
    "# division(6, 0, check=False)"
   ]
  },
  {
   "cell_type": "code",
   "execution_count": null,
   "id": "4ac8f88e",
   "metadata": {},
   "outputs": [],
   "source": [
    "division(6, 0, check=True)"
   ]
  },
  {
   "cell_type": "code",
   "execution_count": null,
   "id": "c4478d7c",
   "metadata": {},
   "outputs": [],
   "source": [
    "division(6, 0, verbose=True)"
   ]
  },
  {
   "cell_type": "code",
   "execution_count": null,
   "id": "fde96e78",
   "metadata": {},
   "outputs": [],
   "source": [
    "division(6, 0, check=True, verbose=True)"
   ]
  },
  {
   "cell_type": "markdown",
   "id": "1c18366b",
   "metadata": {},
   "source": [
    "The names of the optional arguments can be avoided when calling the function, as long as the order is respected:"
   ]
  },
  {
   "cell_type": "code",
   "execution_count": null,
   "id": "8274c0a7",
   "metadata": {},
   "outputs": [],
   "source": [
    "division(6, 3, True, True)"
   ]
  },
  {
   "cell_type": "markdown",
   "id": "d95bcb4a",
   "metadata": {},
   "source": [
    "With multiple optional arguments, the ambiguity grows when not specifying the names:"
   ]
  },
  {
   "cell_type": "code",
   "execution_count": null,
   "id": "d12787dc",
   "metadata": {},
   "outputs": [],
   "source": [
    "division(6, 3, True)"
   ]
  },
  {
   "cell_type": "markdown",
   "id": "ca363704",
   "metadata": {},
   "source": [
    "<div class=\"alert alert-success\">\n",
    "\n",
    "<b>Best Practice:</b> Always specify the names of optional arguments in function calls\n",
    "\n",
    "</div>"
   ]
  },
  {
   "cell_type": "markdown",
   "id": "5bf67ac9",
   "metadata": {},
   "source": [
    "It is even possible to enforce that names of optional arguments be specified:"
   ]
  },
  {
   "cell_type": "code",
   "execution_count": null,
   "id": "b45cf0fd",
   "metadata": {},
   "outputs": [],
   "source": [
    "def division(dividend, divisor, *, verbose=False, check=True):\n",
    "    if verbose:\n",
    "        print(f\"{dividend}\")\n",
    "        print(f\"{divisor}\")\n",
    "    if check:\n",
    "        if divisor == 0:\n",
    "            print(\"ERROR: The divisor is zero!\")\n",
    "            # Handle the problem (e.g. by returning None, or by raising an error):\n",
    "            return None\n",
    "    output = dividend / divisor\n",
    "    if verbose:\n",
    "        print(f\"{output}\")\n",
    "    return output"
   ]
  },
  {
   "cell_type": "code",
   "execution_count": null,
   "id": "a0803536",
   "metadata": {},
   "outputs": [],
   "source": [
    "division(6, 0, check=True, verbose=True)"
   ]
  },
  {
   "cell_type": "code",
   "execution_count": null,
   "id": "63e24e0d",
   "metadata": {},
   "outputs": [],
   "source": [
    "# Raises an error, because the names of optional arguments must be specified:\n",
    "# division(6, 0, True, True)"
   ]
  },
  {
   "cell_type": "markdown",
   "id": "cfeb22c0",
   "metadata": {},
   "source": [
    "## Exercise 6"
   ]
  },
  {
   "cell_type": "markdown",
   "id": "5a2dc680",
   "metadata": {},
   "source": [
    "### Skeleton"
   ]
  },
  {
   "cell_type": "markdown",
   "id": "f70fc590",
   "metadata": {},
   "source": [
    "Define a function:\n",
    "* named `total_price`\n",
    "* that takes 2 numbers (unit price and quantity) and 2 booleans (verbosity and VAT) as input\n",
    "* that optionally prints detailed information\n",
    "* that optionally adds VAT (21%) before returning the result\n",
    "* that returns the result of multiplying them together as output\n",
    "\n",
    "Signature: `total_price(unit_price, quantity, verbose=False, VAT=True)`"
   ]
  },
  {
   "cell_type": "code",
   "execution_count": null,
   "id": "b9511008",
   "metadata": {},
   "outputs": [],
   "source": []
  },
  {
   "cell_type": "markdown",
   "id": "a0883314",
   "metadata": {},
   "source": [
    "Check that calling `total_price(5, 20)` automatically adds the VAT to the total:"
   ]
  },
  {
   "cell_type": "code",
   "execution_count": null,
   "id": "af641f91",
   "metadata": {},
   "outputs": [],
   "source": []
  },
  {
   "cell_type": "code",
   "execution_count": null,
   "id": "aebfc464",
   "metadata": {},
   "outputs": [],
   "source": []
  },
  {
   "cell_type": "markdown",
   "id": "a54381d9",
   "metadata": {},
   "source": [
    "Check that calling `total_price(25, 4)` with the `VAT` argument set to `False` does not add the VAT to the total:"
   ]
  },
  {
   "cell_type": "code",
   "execution_count": null,
   "id": "2ba0d0ef",
   "metadata": {},
   "outputs": [],
   "source": []
  },
  {
   "cell_type": "code",
   "execution_count": null,
   "id": "2b8a5397",
   "metadata": {},
   "outputs": [],
   "source": []
  },
  {
   "cell_type": "markdown",
   "id": "17e9bc16",
   "metadata": {},
   "source": [
    "Check that calling `total_price(25, 4)` with the `verbose` argument set to `True` does print each step of the calculation:"
   ]
  },
  {
   "cell_type": "code",
   "execution_count": null,
   "id": "4329c106",
   "metadata": {},
   "outputs": [],
   "source": []
  },
  {
   "cell_type": "code",
   "execution_count": null,
   "id": "90894c21",
   "metadata": {},
   "outputs": [],
   "source": []
  },
  {
   "cell_type": "markdown",
   "id": "1d5f6c97",
   "metadata": {},
   "source": [
    "## Bonus: How can a function return multiple arguments?"
   ]
  },
  {
   "cell_type": "code",
   "execution_count": null,
   "id": "c5dda6bd",
   "metadata": {},
   "outputs": [],
   "source": [
    "x = [1, 2, 3]\n",
    "y = [4, 5, 6]"
   ]
  },
  {
   "cell_type": "code",
   "execution_count": null,
   "id": "b94cf006",
   "metadata": {},
   "outputs": [],
   "source": [
    "mean_x = sum(x) / len(x)\n",
    "mean_x"
   ]
  },
  {
   "cell_type": "code",
   "execution_count": null,
   "id": "4dfc7449",
   "metadata": {},
   "outputs": [],
   "source": [
    "mean_y = sum(y) / len(y)\n",
    "mean_y"
   ]
  },
  {
   "cell_type": "code",
   "execution_count": null,
   "id": "6c74df30",
   "metadata": {},
   "outputs": [],
   "source": [
    "def mean(x, y):\n",
    "    mean_x = sum(x) / len(x)\n",
    "    mean_y = sum(y) / len(y)\n",
    "    return (mean_x, mean_y)"
   ]
  },
  {
   "cell_type": "code",
   "execution_count": null,
   "id": "40dfcd40",
   "metadata": {},
   "outputs": [],
   "source": [
    "mean(x, y)"
   ]
  },
  {
   "cell_type": "code",
   "execution_count": null,
   "id": "41f2fe70",
   "metadata": {},
   "outputs": [],
   "source": [
    "result = mean(x, y)\n",
    "result"
   ]
  },
  {
   "cell_type": "code",
   "execution_count": null,
   "id": "f9705592",
   "metadata": {},
   "outputs": [],
   "source": [
    "(result_x, result_y) = mean(x, y)"
   ]
  },
  {
   "cell_type": "code",
   "execution_count": null,
   "id": "fd961f81",
   "metadata": {},
   "outputs": [],
   "source": [
    "result_x"
   ]
  },
  {
   "cell_type": "code",
   "execution_count": null,
   "id": "70e98aad",
   "metadata": {},
   "outputs": [],
   "source": [
    "result_y"
   ]
  },
  {
   "cell_type": "markdown",
   "id": "51eb91b2",
   "metadata": {},
   "source": [
    "Parentheses are optional:"
   ]
  },
  {
   "cell_type": "code",
   "execution_count": null,
   "id": "b0ffe664",
   "metadata": {},
   "outputs": [],
   "source": [
    "result_x, result_y = mean(x, y)"
   ]
  },
  {
   "cell_type": "markdown",
   "id": "43119528",
   "metadata": {},
   "source": [
    "## Bonus: Function annotations"
   ]
  },
  {
   "cell_type": "code",
   "execution_count": null,
   "id": "febccc27",
   "metadata": {},
   "outputs": [],
   "source": [
    "def division(dividend, divisor):\n",
    "    return dividend / divisor"
   ]
  },
  {
   "cell_type": "markdown",
   "id": "da57c124",
   "metadata": {},
   "source": [
    "It is possible to specify the type of each argument and of the return value:"
   ]
  },
  {
   "cell_type": "code",
   "execution_count": null,
   "id": "3ede4cf7",
   "metadata": {},
   "outputs": [],
   "source": [
    "def division(dividend: int, divisor: int) -> float:\n",
    "    return dividend / divisor"
   ]
  },
  {
   "cell_type": "markdown",
   "id": "7b37b5c9",
   "metadata": {},
   "source": [
    "These annotations have no effect, they are completely ignored by Python:"
   ]
  },
  {
   "cell_type": "code",
   "execution_count": null,
   "id": "ca60ddbb",
   "metadata": {},
   "outputs": [],
   "source": [
    "division(9, 3)"
   ]
  },
  {
   "cell_type": "code",
   "execution_count": null,
   "id": "f356e0b2",
   "metadata": {},
   "outputs": [],
   "source": [
    "division(9.3, 3)"
   ]
  },
  {
   "cell_type": "markdown",
   "id": "b7d4123e",
   "metadata": {},
   "source": [
    "However, function annotations increase readability!"
   ]
  },
  {
   "cell_type": "markdown",
   "id": "62cf0a25",
   "metadata": {},
   "source": [
    "## References"
   ]
  },
  {
   "cell_type": "markdown",
   "id": "7a3d2948",
   "metadata": {},
   "source": [
    "* https://realpython.com/defining-your-own-python-function/\n",
    "* http://mypy-lang.org\n",
    "* https://www.python.org/dev/peps/pep-0484/"
   ]
  }
 ],
 "metadata": {
  "kernelspec": {
   "display_name": "Python 3",
   "language": "python",
   "name": "python3"
  },
  "language_info": {
   "codemirror_mode": {
    "name": "ipython",
    "version": 3
   },
   "file_extension": ".py",
   "mimetype": "text/x-python",
   "name": "python",
   "nbconvert_exporter": "python",
   "pygments_lexer": "ipython3",
   "version": "3.9.2"
  }
 },
 "nbformat": 4,
 "nbformat_minor": 5
}
