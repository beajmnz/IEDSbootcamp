{
 "cells": [
  {
   "cell_type": "markdown",
   "metadata": {
    "id": "ExHF0jpSohaq"
   },
   "source": [
    "# Exam 3 - Linear Models\n",
    "## Bootcamp for Data Science\n",
    "**Prof. Dr. Juanjo Manjarín**\n",
    "**23rd, June 2021**\n",
    "\n",
    "---\n"
   ]
  },
  {
   "cell_type": "markdown",
   "metadata": {
    "id": "EjCb_p_Xohaz"
   },
   "source": [
    "### <font color = \"red\"> Student Data </font>\n",
    "\n",
    "Fill your NAME only:\n",
    "\n",
    "#####  <font color = \"mediumblue\"> Student Name: </font>...........Bea......................\n",
    "#####  <font color = \"mediumblue\"> Grade:  </font> .......Data Science Bootcamp.........  \n",
    "\n",
    "---"
   ]
  },
  {
   "cell_type": "markdown",
   "metadata": {
    "id": "SBk1ir1eoha8"
   },
   "source": [
    "## <font color = \"blue\"> Instructions </font>\n",
    "\n",
    "Read carefully these instructions and follow them during your exam and in your submission.\n",
    "\n",
    " * You have **1 week** to finish the exam\n",
    " * Once you have finished it you must upload it to the **campus online** in the assignment created with name **Exam IV**\n",
    " * The files accepted for submission are:\n",
    "    * Python notebook with extension `.ipynb`\n",
    "    * The `html` version of the previous notebook\n",
    "    * A `.pdf`file with all the chunks of code executed\n",
    "    * A `.py` file may be accpeted but then you have to copy all this document in it and answer the questions using Python comments\n",
    " * Read carefully the questions and do not answer before knowing what is asked\n",
    " * Full marks require **full explanations**. Just answering the question is not enough, for example, if one answer is that the type of data is *panel data*, saying only that will not grant you more than the 25% of the available points.\n",
    " * The **answers** must be written right below the questions made in this notebook (create any chunks as needed)\n",
    " * Each question is worth **one point*\n",
    "---\n",
    "\n"
   ]
  },
  {
   "cell_type": "markdown",
   "metadata": {
    "id": "4H3_L_Qlohcf"
   },
   "source": [
    "## <font color = \"MediumBlue\">Packages</font>\n",
    "\n",
    "Insert in the cell code below all the packages and modules you will use in this exam"
   ]
  },
  {
   "cell_type": "code",
   "execution_count": 4,
   "metadata": {
    "id": "FxdqFIrUgq1d"
   },
   "outputs": [],
   "source": [
    "import pandas as pd"
   ]
  },
  {
   "cell_type": "markdown",
   "metadata": {
    "id": "MpMcOcm6ohcv"
   },
   "source": [
    "## <font color = \"MediumBlue\">Functions</font>\n",
    "\n",
    "In case you define any function of your own, please use the following code cell below"
   ]
  },
  {
   "cell_type": "code",
   "execution_count": null,
   "metadata": {
    "id": "yx-dsBXYgrf-"
   },
   "outputs": [],
   "source": [
    "# @hidden_cell\n"
   ]
  },
  {
   "cell_type": "markdown",
   "metadata": {
    "id": "f2R6ok7aohbD"
   },
   "source": [
    "# <font color = \"Red\"> Case Study: Linear Models </font>\n",
    "\n",
    "In this case we are going to analyze part of the World Bank database concerning the **Environment** set of the **World Development Indicators**. In particular we are given a set of countries and several variables (see description in the tables below and visit the World Bank webpage to see a more detailed description) related to\n",
    "\n",
    " * **Emission**: gas emissions related to different types of gasees as well as greenhouse emissions\n",
    " * **Energy Production**: electricity consumption and production from different sources\n",
    " * **Descriptive**: description of each observation. Note that the `year` variable takes three different values: 2000, 2010 and 2012. This last value is the las available, at this moment, in the dataset."
   ]
  },
  {
   "cell_type": "code",
   "execution_count": 1,
   "metadata": {
    "id": "hkkT7Vy8ohbL",
    "outputId": "3823b4a7-b65d-45d8-8d42-ee9c08f7662d"
   },
   "outputs": [
    {
     "data": {
      "text/html": [
       "<table style=\"margin-left:auto;margin-right:auto;\"><caption style = \"text-align: center;\">Table 1.- Emission Variables</caption><tr><th>Variable</th><th style=\"text-align: center;\">Description</th><th style=\"text-align: center;\">Licence URL</th></tr><tr><td>co2em</td><td>CO2 emissions (kt)</td><td>1</td></tr><tr><td>co2emgas</td><td>CO2 emissions from gaseous fuel consumption (kt)</td><td>1</td></tr><tr><td>co2emliq</td><td>CO2 emissions from liquid fuel consumption (kt)</td><td>1</td></tr><tr><td>co2emsol</td><td>CO2 emissions from solid fuel consumption (kt)</td><td>1</td></tr><tr><td>ghg</td><td>GHG net emissions/removals by LUCF (Mt of CO2 equivalent)</td><td>1</td></tr><tr><td>hfc</td><td>HFC gas emissions (thousand metric tons of CO2 equivalent)</td><td>1</td></tr><tr><td>methane</td><td>Methane emissions (kt of CO2 equivalent)</td><td>1</td></tr><tr><td>nitrousox</td><td>Nitrous oxide emissions (thousand metric tons of CO2 equivalent)</td><td>1</td></tr><tr><td>pfc</td><td>PFC gas emissions (thousand metric tons of CO2 equivalent)</td><td>1</td></tr><tr><td>sf6</td><td>SF6 gas emissions (thousand metric tons of CO2 equivalent)</td><td>1</td></tr><tr><td>ghother</td><td>Other greenhouse gas emissions, HFC, PFC and SF6 (thousand metric tons of CO2 equivalent)</td><td>1</td></tr><tr><td>ghtotal</td><td>Total greenhouse gas emissions (kt of CO2 equivalent)</td><td>1</td></tr><tr><td>ghchange</td><td>Total greenhouse gas emissions (% change from 1990)</td><td>1</td></tr></table>"
      ],
      "text/plain": [
       "<IPython.core.display.HTML object>"
      ]
     },
     "execution_count": 1,
     "metadata": {},
     "output_type": "execute_result"
    }
   ],
   "source": [
    "# @hidden_cell\n",
    "from IPython.display import HTML\n",
    "HTML('<table style=\"margin-left:auto;margin-right:auto;\"><caption style = \"text-align: center;\">Table 1.- Emission Variables</caption><tr><th>Variable</th><th style=\"text-align: center;\">Description</th><th style=\"text-align: center;\">Licence URL</th></tr><tr><td>co2em</td><td>CO2 emissions (kt)</td><td>1</td></tr><tr><td>co2emgas</td><td>CO2 emissions from gaseous fuel consumption (kt)</td><td>1</td></tr><tr><td>co2emliq</td><td>CO2 emissions from liquid fuel consumption (kt)</td><td>1</td></tr><tr><td>co2emsol</td><td>CO2 emissions from solid fuel consumption (kt)</td><td>1</td></tr><tr><td>ghg</td><td>GHG net emissions/removals by LUCF (Mt of CO2 equivalent)</td><td>1</td></tr><tr><td>hfc</td><td>HFC gas emissions (thousand metric tons of CO2 equivalent)</td><td>1</td></tr><tr><td>methane</td><td>Methane emissions (kt of CO2 equivalent)</td><td>1</td></tr><tr><td>nitrousox</td><td>Nitrous oxide emissions (thousand metric tons of CO2 equivalent)</td><td>1</td></tr><tr><td>pfc</td><td>PFC gas emissions (thousand metric tons of CO2 equivalent)</td><td>1</td></tr><tr><td>sf6</td><td>SF6 gas emissions (thousand metric tons of CO2 equivalent)</td><td>1</td></tr><tr><td>ghother</td><td>Other greenhouse gas emissions, HFC, PFC and SF6 (thousand metric tons of CO2 equivalent)</td><td>1</td></tr><tr><td>ghtotal</td><td>Total greenhouse gas emissions (kt of CO2 equivalent)</td><td>1</td></tr><tr><td>ghchange</td><td>Total greenhouse gas emissions (% change from 1990)</td><td>1</td></tr></table>')"
   ]
  },
  {
   "cell_type": "code",
   "execution_count": 2,
   "metadata": {
    "id": "O6NApU7sohbl",
    "outputId": "cac3a91a-f8d8-4996-a73b-e044ca859fae",
    "scrolled": true
   },
   "outputs": [
    {
     "data": {
      "text/html": [
       "<table style=\"margin-left:auto;margin-right:auto;\"><caption style = \"text-align: center;\">Table 2.- Energy Production and Use</caption><tr><th>Variable</th><th style=\"text-align: center;\">Description</th><th style=\"text-align: center;\">Licence URL</th></tr><tr><td>epcoal</td><td>Electricity production from coal sources (% of total)</td><td>2</td></tr><tr><td>ephydro</td><td>Electricity production from hydroelectric sources (% of total)</td><td>2</td></tr><tr><td>epgas</td><td>Electricity production from natural gas sources (% of total)</td><td>2</td></tr><tr><td>epnuclear</td><td>Electricity production from nuclear sources (% of total)</td><td>2</td></tr><tr><td>epoil</td><td>Electricity production from oil sources (% of total)</td><td>2</td></tr><tr><td>renerout</td><td>Renewable electricity output (% of total electricity output)</td><td>2</td></tr><tr><td>epowcons</td><td>Electric power consumption (kWh per capita)</td><td>2</td></tr><tr><td>renercons</td><td>Renewable energy consumption (% of total final energy consumption)</td><td>1</td></tr></table>"
      ],
      "text/plain": [
       "<IPython.core.display.HTML object>"
      ]
     },
     "execution_count": 2,
     "metadata": {},
     "output_type": "execute_result"
    }
   ],
   "source": [
    "# @hidden_cell\n",
    "HTML('<table style=\"margin-left:auto;margin-right:auto;\"><caption style = \"text-align: center;\">Table 2.- Energy Production and Use</caption><tr><th>Variable</th><th style=\"text-align: center;\">Description</th><th style=\"text-align: center;\">Licence URL</th></tr><tr><td>epcoal</td><td>Electricity production from coal sources (% of total)</td><td>2</td></tr><tr><td>ephydro</td><td>Electricity production from hydroelectric sources (% of total)</td><td>2</td></tr><tr><td>epgas</td><td>Electricity production from natural gas sources (% of total)</td><td>2</td></tr><tr><td>epnuclear</td><td>Electricity production from nuclear sources (% of total)</td><td>2</td></tr><tr><td>epoil</td><td>Electricity production from oil sources (% of total)</td><td>2</td></tr><tr><td>renerout</td><td>Renewable electricity output (% of total electricity output)</td><td>2</td></tr><tr><td>epowcons</td><td>Electric power consumption (kWh per capita)</td><td>2</td></tr><tr><td>renercons</td><td>Renewable energy consumption (% of total final energy consumption)</td><td>1</td></tr></table>')"
   ]
  },
  {
   "cell_type": "markdown",
   "metadata": {
    "id": "aBXhhjQaohcG"
   },
   "source": [
    "where the licence for use and distribution of the data con be found in the following URLs:\n",
    "\n",
    " * Licence 1 (World Bank License): https://datacatalog.worldbank.org/public-licenses#cc-by\n",
    " * Licence 2 (IEA License): http://www.iea.org/t&c/termsandconditions\n",
    " \n",
    "Apart from these variables we have other descriptive variables"
   ]
  },
  {
   "cell_type": "code",
   "execution_count": 3,
   "metadata": {
    "id": "1snpiQW7ohcN",
    "outputId": "08828446-732d-493a-eb60-06a269e1e11d"
   },
   "outputs": [
    {
     "data": {
      "text/html": [
       "<table style=\"margin-left:auto;margin-right:auto;\"><caption style = \"text-align: center;\">Table 3.- Descriptive Context</caption><tr><th>Variable</th><th style=\"text-align: center;\">Description</th></tr><tr><td>country</td><td>Name of the country</td></tr><tr><td>year</td><td>Years for the data: 2000, 2010 and 2012</td></tr><tr><td>continent</td><td>Continent of the country: Africa, America, Asia, Australia and Europe</td></tr></table>"
      ],
      "text/plain": [
       "<IPython.core.display.HTML object>"
      ]
     },
     "execution_count": 3,
     "metadata": {},
     "output_type": "execute_result"
    }
   ],
   "source": [
    "# @hidden_cell\n",
    "HTML('<table style=\"margin-left:auto;margin-right:auto;\"><caption style = \"text-align: center;\">Table 3.- Descriptive Context</caption><tr><th>Variable</th><th style=\"text-align: center;\">Description</th></tr><tr><td>country</td><td>Name of the country</td></tr><tr><td>year</td><td>Years for the data: 2000, 2010 and 2012</td></tr><tr><td>continent</td><td>Continent of the country: Africa, America, Asia, Australia and Europe</td></tr></table>')"
   ]
  },
  {
   "cell_type": "markdown",
   "metadata": {
    "id": "lIig9tw6ohcZ"
   },
   "source": [
    "We will analyze them in order to gain a deeper understanding of the general discussion on climate change (note that we do not include explicit climate change variables as could be the `temperature`, but we will obtain insights about the general context)"
   ]
  },
  {
   "cell_type": "markdown",
   "metadata": {
    "id": "kGndyGVGohdC"
   },
   "source": [
    "## <font color = \"MediumBlue\">The Data</font>\n",
    "\n",
    "In the Drive folder of the course you can find the dataset as an Excel file with name `EmissionsAndEnergy.xlsx`. Load it into your environment using the following code cell. It is recommended that you inspect it before in order to identify how are the NaN values encoded. Be careful to only import the `data` sheet.\n",
    "\n",
    "After loading the dataset, use `head` to show the first elements of the data in order to check it has been properly imported."
   ]
  },
  {
   "cell_type": "code",
   "execution_count": 12,
   "metadata": {
    "id": "YNxhm6rzohdG"
   },
   "outputs": [
    {
     "name": "stdout",
     "output_type": "stream",
     "text": [
      "(468, 24)\n"
     ]
    },
    {
     "data": {
      "text/html": [
       "<div>\n",
       "<style scoped>\n",
       "    .dataframe tbody tr th:only-of-type {\n",
       "        vertical-align: middle;\n",
       "    }\n",
       "\n",
       "    .dataframe tbody tr th {\n",
       "        vertical-align: top;\n",
       "    }\n",
       "\n",
       "    .dataframe thead th {\n",
       "        text-align: right;\n",
       "    }\n",
       "</style>\n",
       "<table border=\"1\" class=\"dataframe\">\n",
       "  <thead>\n",
       "    <tr style=\"text-align: right;\">\n",
       "      <th></th>\n",
       "      <th>country</th>\n",
       "      <th>year</th>\n",
       "      <th>continent</th>\n",
       "      <th>co2em</th>\n",
       "      <th>co2emgas</th>\n",
       "      <th>co2emliq</th>\n",
       "      <th>co2emsol</th>\n",
       "      <th>ghg</th>\n",
       "      <th>hfc</th>\n",
       "      <th>methane</th>\n",
       "      <th>...</th>\n",
       "      <th>ghchange</th>\n",
       "      <th>ghtotal</th>\n",
       "      <th>epcoal</th>\n",
       "      <th>ephydro</th>\n",
       "      <th>epgas</th>\n",
       "      <th>epnuclear</th>\n",
       "      <th>epoil</th>\n",
       "      <th>renerout</th>\n",
       "      <th>epowcons</th>\n",
       "      <th>renercons</th>\n",
       "    </tr>\n",
       "  </thead>\n",
       "  <tbody>\n",
       "    <tr>\n",
       "      <th>0</th>\n",
       "      <td>Afghanistan</td>\n",
       "      <td>2000</td>\n",
       "      <td>Asia</td>\n",
       "      <td>773.737</td>\n",
       "      <td>223.687</td>\n",
       "      <td>498.712</td>\n",
       "      <td>3.667</td>\n",
       "      <td>na</td>\n",
       "      <td>na</td>\n",
       "      <td>9384.18</td>\n",
       "      <td>...</td>\n",
       "      <td>8.005549</td>\n",
       "      <td>13530.9530</td>\n",
       "      <td>na</td>\n",
       "      <td>na</td>\n",
       "      <td>na</td>\n",
       "      <td>na</td>\n",
       "      <td>na</td>\n",
       "      <td>74.989094</td>\n",
       "      <td>na</td>\n",
       "      <td>54.243126</td>\n",
       "    </tr>\n",
       "    <tr>\n",
       "      <th>1</th>\n",
       "      <td>Albania</td>\n",
       "      <td>2000</td>\n",
       "      <td>Europe</td>\n",
       "      <td>3021.608</td>\n",
       "      <td>22.002</td>\n",
       "      <td>2845.592</td>\n",
       "      <td>69.673</td>\n",
       "      <td>na</td>\n",
       "      <td>15.5</td>\n",
       "      <td>2608.80</td>\n",
       "      <td>...</td>\n",
       "      <td>-24.507506</td>\n",
       "      <td>8389.2767</td>\n",
       "      <td>na</td>\n",
       "      <td>96.149016</td>\n",
       "      <td>na</td>\n",
       "      <td>na</td>\n",
       "      <td>3.850984</td>\n",
       "      <td>96.149016</td>\n",
       "      <td>1449.647413</td>\n",
       "      <td>41.445416</td>\n",
       "    </tr>\n",
       "    <tr>\n",
       "      <th>2</th>\n",
       "      <td>Algeria</td>\n",
       "      <td>2000</td>\n",
       "      <td>Africa</td>\n",
       "      <td>87861.32</td>\n",
       "      <td>39742.946</td>\n",
       "      <td>30890.808</td>\n",
       "      <td>1969.179</td>\n",
       "      <td>-7.8798</td>\n",
       "      <td>60.5</td>\n",
       "      <td>45052.60</td>\n",
       "      <td>...</td>\n",
       "      <td>25.67727</td>\n",
       "      <td>133778.1970</td>\n",
       "      <td>na</td>\n",
       "      <td>0.212498</td>\n",
       "      <td>96.745632</td>\n",
       "      <td>na</td>\n",
       "      <td>3.04187</td>\n",
       "      <td>0.212498</td>\n",
       "      <td>683.294872</td>\n",
       "      <td>0.427372</td>\n",
       "    </tr>\n",
       "    <tr>\n",
       "      <th>3</th>\n",
       "      <td>Angola</td>\n",
       "      <td>2000</td>\n",
       "      <td>Africa</td>\n",
       "      <td>9541.534</td>\n",
       "      <td>1085.432</td>\n",
       "      <td>3670.667</td>\n",
       "      <td>na</td>\n",
       "      <td>na</td>\n",
       "      <td>0.7</td>\n",
       "      <td>15758.30</td>\n",
       "      <td>...</td>\n",
       "      <td>-31.542909</td>\n",
       "      <td>34780.6811</td>\n",
       "      <td>na</td>\n",
       "      <td>63.114187</td>\n",
       "      <td>na</td>\n",
       "      <td>na</td>\n",
       "      <td>36.885813</td>\n",
       "      <td>63.114187</td>\n",
       "      <td>75.264678</td>\n",
       "      <td>74.618171</td>\n",
       "    </tr>\n",
       "    <tr>\n",
       "      <th>4</th>\n",
       "      <td>Argentina</td>\n",
       "      <td>2000</td>\n",
       "      <td>America</td>\n",
       "      <td>142136.587</td>\n",
       "      <td>69493.317</td>\n",
       "      <td>66875.079</td>\n",
       "      <td>1657.484</td>\n",
       "      <td>-43.2979</td>\n",
       "      <td>63</td>\n",
       "      <td>99214.10</td>\n",
       "      <td>...</td>\n",
       "      <td>24.346132</td>\n",
       "      <td>331450.8700</td>\n",
       "      <td>2.003149</td>\n",
       "      <td>32.363064</td>\n",
       "      <td>54.647396</td>\n",
       "      <td>6.947475</td>\n",
       "      <td>3.242605</td>\n",
       "      <td>33.159375</td>\n",
       "      <td>2088.80814</td>\n",
       "      <td>11.077955</td>\n",
       "    </tr>\n",
       "  </tbody>\n",
       "</table>\n",
       "<p>5 rows × 24 columns</p>\n",
       "</div>"
      ],
      "text/plain": [
       "       country  year continent       co2em   co2emgas   co2emliq  co2emsol  \\\n",
       "0  Afghanistan  2000      Asia     773.737    223.687    498.712     3.667   \n",
       "1      Albania  2000    Europe    3021.608     22.002   2845.592    69.673   \n",
       "2      Algeria  2000    Africa    87861.32  39742.946  30890.808  1969.179   \n",
       "3       Angola  2000    Africa    9541.534   1085.432   3670.667        na   \n",
       "4    Argentina  2000   America  142136.587  69493.317  66875.079  1657.484   \n",
       "\n",
       "       ghg   hfc   methane  ...   ghchange      ghtotal    epcoal    ephydro  \\\n",
       "0       na    na   9384.18  ...   8.005549   13530.9530        na         na   \n",
       "1       na  15.5   2608.80  ... -24.507506    8389.2767        na  96.149016   \n",
       "2  -7.8798  60.5  45052.60  ...   25.67727  133778.1970        na   0.212498   \n",
       "3       na   0.7  15758.30  ... -31.542909   34780.6811        na  63.114187   \n",
       "4 -43.2979    63  99214.10  ...  24.346132  331450.8700  2.003149  32.363064   \n",
       "\n",
       "       epgas  epnuclear      epoil   renerout     epowcons  renercons  \n",
       "0         na         na         na  74.989094           na  54.243126  \n",
       "1         na         na   3.850984  96.149016  1449.647413  41.445416  \n",
       "2  96.745632         na    3.04187   0.212498   683.294872   0.427372  \n",
       "3         na         na  36.885813  63.114187    75.264678  74.618171  \n",
       "4  54.647396   6.947475   3.242605  33.159375   2088.80814  11.077955  \n",
       "\n",
       "[5 rows x 24 columns]"
      ]
     },
     "execution_count": 12,
     "metadata": {},
     "output_type": "execute_result"
    }
   ],
   "source": [
    "data = pd.read_excel(\"EmissionsAndEnergy.xlsx\",sheet_name=\"data\")\n",
    "print(data.shape)\n",
    "data.head()"
   ]
  },
  {
   "cell_type": "markdown",
   "metadata": {
    "id": "aIiRbju_ohdU"
   },
   "source": [
    "## <font color = \"Red\"> Questions</font>"
   ]
  },
  {
   "cell_type": "markdown",
   "metadata": {
    "id": "2avavqL5dxg0"
   },
   "source": [
    "## 1.- <font color = \"MediumBlue\"> Multicollinearity </font>\n",
    "\n",
    "**Before building our model, let's check if there may be problems with collinearity between some of the variables in order to decide which of them we should or should not include in our model. Then considering our dependent variable as `ghtotal`, i.e. the total emissions of greenhouse gases,**\n",
    "\n",
    " * **Make your analysis by years, so select *one* of the years only**\n",
    " * **Consider all the variables in the dataset (including energy sources) but the continent**\n",
    "\n",
    "**then**\n",
    "\n",
    " * **Find the Correlation matrix**\n",
    " * **Find the VIFs of the different variables**\n",
    " * **Make a pairsplot (optional, but here use the continent as the hue color)**\n",
    " \n",
    "**Explain which method you chose and why. Then with this information explain if you can use all the variables for the models or you may drop any of them.**"
   ]
  },
  {
   "cell_type": "code",
   "execution_count": null,
   "metadata": {
    "id": "oSRTCBpJdxg1"
   },
   "outputs": [],
   "source": []
  },
  {
   "cell_type": "markdown",
   "metadata": {
    "id": "qYwEBBH0dxg_"
   },
   "source": [
    "## 2.- <font color = \"MediumBlue\"> Modelization </font>\n",
    "\n",
    "**Without using the categorical variable of the continent, find the best possible linear model that may let you explain the variability of the total greenhouse gas emissions as a function of the other variables: you choose the variables and their functional form. In the following cell code just estimate that final model.**\n"
   ]
  },
  {
   "cell_type": "code",
   "execution_count": null,
   "metadata": {
    "id": "w3FVJ2bCdxhB"
   },
   "outputs": [],
   "source": []
  },
  {
   "cell_type": "markdown",
   "metadata": {
    "id": "eFxzHXxfdxhK"
   },
   "source": [
    "### 2.1  <font color = \"Blue\"> Model Selection </font>\n",
    "\n",
    "**How did you choose between different models? (Give a qualitative explanation)** \n"
   ]
  },
  {
   "cell_type": "code",
   "execution_count": null,
   "metadata": {
    "id": "NFn0yWQ3dxhL"
   },
   "outputs": [],
   "source": []
  },
  {
   "cell_type": "markdown",
   "metadata": {
    "id": "z8q-u8G_dxhU"
   },
   "source": [
    "### 2.2 <font color = \"Blue\"> Explanatory Power </font>\n",
    "\n",
    "**Interpret the explanatory power of your model using the values of RSE and $\\bar R^2$**\n"
   ]
  },
  {
   "cell_type": "code",
   "execution_count": null,
   "metadata": {
    "id": "9d04kCBCdxhX"
   },
   "outputs": [],
   "source": []
  },
  {
   "cell_type": "markdown",
   "metadata": {
    "id": "gtg96D9Ddxhd"
   },
   "source": [
    "### 2.3 <font color = \"Blue\"> Model Assumptions </font>\n",
    "\n",
    "**Does the model satisfy the assumptions of the MLRM? (normality of the residuals, linearity, homoskedasticity)?**"
   ]
  },
  {
   "cell_type": "code",
   "execution_count": null,
   "metadata": {
    "id": "yNxg9_hXdxhe"
   },
   "outputs": [],
   "source": []
  },
  {
   "cell_type": "markdown",
   "metadata": {
    "id": "n9VSYtbNdxhn"
   },
   "source": [
    "### 2.4 <font color = \"Blue\"> Coefficients </font>\n",
    "\n",
    "**Give an interpretation of the coefficients of the model. Is the impact of each coefficient in agreement with your expectations? Is there any statistically relevant coefficient which is practically irrelevant?**"
   ]
  },
  {
   "cell_type": "code",
   "execution_count": null,
   "metadata": {
    "id": "EVrQ1kgDdxho"
   },
   "outputs": [],
   "source": []
  },
  {
   "cell_type": "markdown",
   "metadata": {
    "id": "EqPfsD19dxhx"
   },
   "source": [
    "### 2.5 <font color = \"Blue\"> Confounding Variables </font> \n",
    "\n",
    "**Given the value you obtained of $\\bar R^2$, do you think there may be other relevant variables not included in the model? If so, what is the possible impact of not having included them? Can you name three of them and say why do you think they are relevant and their possible impact?**"
   ]
  },
  {
   "cell_type": "code",
   "execution_count": null,
   "metadata": {
    "id": "Dwd87h83dxhz"
   },
   "outputs": [],
   "source": []
  },
  {
   "cell_type": "markdown",
   "metadata": {
    "id": "4LnQZEJ0dxh7"
   },
   "source": [
    "## 3.- <font color = \"MediumBlue\">Categorical Variable</font>\n"
   ]
  },
  {
   "cell_type": "markdown",
   "metadata": {
    "id": "nHJTsGHudxh7"
   },
   "source": [
    "### 3.1.-  <font color = \"Blue\"> Comparison of Populations (Optional)</font> \n",
    "\n",
    "For the following model consider the transformed `ghtotal` variable. First check the conditions for ANOVA, then estimate the following (using `continent` as a categorical variable)\n",
    "\n",
    "\\begin{equation}\n",
    "\\text{ghtotal} = \\beta_0 + \\beta_1\\text{continent}\n",
    "\\end{equation}\n",
    "\n",
    "and discuss for a 1% of significance level:\n",
    "\n",
    " * If this model let’s you explain the variability of the `ghtotal`, then\n",
    " * From the p-values for the individual t-tests, if any continent is significantly different from the base continent (which is the base continent?)\n",
    " * If so, determine which continents are significantly different"
   ]
  },
  {
   "cell_type": "code",
   "execution_count": null,
   "metadata": {
    "id": "JAzkBnvTdxh-"
   },
   "outputs": [],
   "source": []
  },
  {
   "cell_type": "markdown",
   "metadata": {
    "id": "6Hsn1Yn7dxgm"
   },
   "source": [
    "#### 3.1.1.- Not Normal\n",
    "\n",
    "**Suppose you do not want to transform the variable, which conditions may you need to use Kruskal-Wallis in this comparison of populations? Are they satisfied? If so, repeat the previous analysis using the original variables (not transformed) and the proper non-parametric post-hoc tests (decide and explain a significance level). Explain your result and if it matches your previous one.**\n"
   ]
  },
  {
   "cell_type": "code",
   "execution_count": null,
   "metadata": {
    "id": "nbRgGP8bdxgp"
   },
   "outputs": [],
   "source": []
  },
  {
   "cell_type": "markdown",
   "metadata": {
    "id": "dFIrRzhydxiG"
   },
   "source": [
    "### 3.2.- <font color = \"Blue\"> Linear Model </font>  \n",
    "\n",
    "**Considering you previous model of question 2 and the countries you used in the previous exam to study the Kyoto protocol:**"
   ]
  },
  {
   "cell_type": "markdown",
   "metadata": {
    "id": "aK50gXPHdxiG"
   },
   "source": [
    "#### 3.2.1. Creating the Variable\n",
    "\n",
    "**If you have not done it yet, create a dummy variable in the dataset, named `kyoto`, such that it denotes those countries which signed the protocol and those who did not**"
   ]
  },
  {
   "cell_type": "code",
   "execution_count": null,
   "metadata": {
    "id": "7UuxRx-bdxiI"
   },
   "outputs": [],
   "source": []
  },
  {
   "cell_type": "markdown",
   "metadata": {
    "id": "awJ2-s2AdxiN"
   },
   "source": [
    "#### 3.2.2. Estimate the Model\n",
    "\n",
    "**Add this dummy variable to the model in question 3**"
   ]
  },
  {
   "cell_type": "code",
   "execution_count": null,
   "metadata": {
    "id": "6VrjgJ2edxiP"
   },
   "outputs": [],
   "source": []
  },
  {
   "cell_type": "markdown",
   "metadata": {
    "id": "20kqPGz2dxiU"
   },
   "source": [
    "#### 3.2.3. Chow Test\n",
    "\n",
    "**Perform a Chow test with this variable to see if signing the protocol actually made a difference in the greenhouse emissions**\n"
   ]
  },
  {
   "cell_type": "code",
   "execution_count": null,
   "metadata": {
    "id": "mmN5GUotdxiU"
   },
   "outputs": [],
   "source": []
  },
  {
   "cell_type": "markdown",
   "metadata": {
    "id": "Kdn1K5KMdxib"
   },
   "source": [
    "#### 3.2.4. Final Model\n",
    "\n",
    "**If the Chow test renders the inclusion of this variable as relevant, estimate the new model and interpret its explanatory power from the point of view of RSE and $\\bar R^2$. If not explain what it means and (re)write down the best model you have found**\n",
    " "
   ]
  },
  {
   "cell_type": "code",
   "execution_count": null,
   "metadata": {
    "id": "DawkDeUXdxic"
   },
   "outputs": [],
   "source": []
  },
  {
   "cell_type": "markdown",
   "metadata": {
    "id": "kd08E9Z3dxii"
   },
   "source": [
    "#### 3.2.5. Interpretation\n",
    "\n",
    "**Interpret the impact of all the *statistically relevant* variables in the model *with* the dummy variable**"
   ]
  },
  {
   "cell_type": "code",
   "execution_count": null,
   "metadata": {
    "id": "bnWrFOG_dxik"
   },
   "outputs": [],
   "source": []
  }
 ],
 "metadata": {
  "colab": {
   "collapsed_sections": [
    "4H3_L_Qlohcf",
    "MpMcOcm6ohcv",
    "kGndyGVGohdC",
    "qYwEBBH0dxg_"
   ],
   "name": "Exam IV - v2.0.ipynb",
   "provenance": [
    {
     "file_id": "1oKHaezdzdC6HeJFTrzLBKuD-fpVkPQBu",
     "timestamp": 1624460245405
    },
    {
     "file_id": "1pWXSYtLLjBW4wp650J4k34i0kRlyx0Ab",
     "timestamp": 1603490262704
    },
    {
     "file_id": "1T4RQti1g5PSfs6wYKPk2PjFsg7Upsvum",
     "timestamp": 1602265714389
    }
   ],
   "toc_visible": true
  },
  "kernelspec": {
   "display_name": "Python 3",
   "language": "python",
   "name": "python3"
  },
  "language_info": {
   "codemirror_mode": {
    "name": "ipython",
    "version": 3
   },
   "file_extension": ".py",
   "mimetype": "text/x-python",
   "name": "python",
   "nbconvert_exporter": "python",
   "pygments_lexer": "ipython3",
   "version": "3.8.10"
  }
 },
 "nbformat": 4,
 "nbformat_minor": 1
}
