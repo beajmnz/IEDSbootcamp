{
 "cells": [
  {
   "cell_type": "markdown",
   "metadata": {
    "id": "wTNT78uWIBEf"
   },
   "source": [
    "# <font color = \"slateblue\"> EXAM I </font>\n",
    "#### <font color = \"slateblue\"> Math and Stats</font>\n",
    "#### <font color = \"slateblue\"> Date: 11th, Feb 2021 </font>\n",
    "\n",
    "---\n",
    "\n"
   ]
  },
  {
   "cell_type": "markdown",
   "metadata": {
    "id": "KJCyXQtnIbHE"
   },
   "source": [
    "## <font color = \"limegreen\">Student Data</font>\n",
    "\n",
    "Fill your **NAME** only:\n",
    "\n",
    "#### Student Name: ..........Bea.......................\n",
    "\n",
    "---\n"
   ]
  },
  {
   "cell_type": "markdown",
   "metadata": {
    "id": "aH2sF02mIbaW"
   },
   "source": [
    "## <font color = \"limegreen\">Instructions</font>\n",
    "\n",
    "Read carefully these instructions and follow them during your quiz and in your submission.\n",
    "\n",
    " * The exam lasts **1 week**\n",
    " * Read carefully the questions and do not answer before knowing what is asked\n",
    " * Full marks require **full explanations**. Just answering the question is not enough, for example, if one answer is that the type of data is *panel data*, just saying that will not grant you more than the 25% of the available points.\n",
    " * The **answers** must be written right below the questions made in this notebook. Use Code and Text cells as needed\n"
   ]
  },
  {
   "cell_type": "markdown",
   "metadata": {
    "id": "CethReyNCKjw"
   },
   "source": [
    "---\n",
    "\n",
    "## <font color = \"limegreen\"> Packages </font>\n",
    "\n",
    "In the next cell code add **ALL** the modules you will use in your exam: `numpy`, `pandas`,... "
   ]
  },
  {
   "cell_type": "code",
   "execution_count": 2,
   "metadata": {
    "id": "37oQMoOeZIYj"
   },
   "outputs": [],
   "source": [
    "import pandas as pd\n",
    "import numpy as np"
   ]
  },
  {
   "cell_type": "markdown",
   "metadata": {
    "id": "n-BBasPpVw0u"
   },
   "source": [
    "In case you work with colab notebooks, use the following cell to connect to your drive"
   ]
  },
  {
   "cell_type": "code",
   "execution_count": 3,
   "metadata": {
    "id": "B-MwZPZ7ZH8A"
   },
   "outputs": [],
   "source": [
    "# not necessary"
   ]
  },
  {
   "cell_type": "markdown",
   "metadata": {
    "id": "25-MIZMOG_S9"
   },
   "source": [
    "---\n",
    "\n",
    "## <font color = \"limegreen\">The Data </font>\n",
    "\n",
    "**A study about the scientific reasearch status around the world contains data from countries in Europe and in America in year 2016. It contains the following variables:**\n",
    "\n",
    "<br>\n",
    "\n",
    "| Variable    |           Description           |\n",
    "|-------------|---------------------------------|\n",
    "|  country    | country name |\n",
    "|  continent  | continent to which the country belongs |\n",
    "|  RDExpen    | Research and development expenditure (% of GDP)|\n",
    "|  STJpapers  | Scientific and technical journal articles |\n",
    "| researchers | Researchers in R&D (per million people) | \n",
    "<br>\n",
    "\n",
    "**in order to load it, use the next *code cell*, taking into account that it is an Excel file, not a .csv. Add in this same code cell a instruction that lets you see the 5 first rows of the dataset.**"
   ]
  },
  {
   "cell_type": "code",
   "execution_count": 4,
   "metadata": {
    "id": "qj61LsOBZGQO"
   },
   "outputs": [
    {
     "data": {
      "text/html": [
       "<div>\n",
       "<style scoped>\n",
       "    .dataframe tbody tr th:only-of-type {\n",
       "        vertical-align: middle;\n",
       "    }\n",
       "\n",
       "    .dataframe tbody tr th {\n",
       "        vertical-align: top;\n",
       "    }\n",
       "\n",
       "    .dataframe thead th {\n",
       "        text-align: right;\n",
       "    }\n",
       "</style>\n",
       "<table border=\"1\" class=\"dataframe\">\n",
       "  <thead>\n",
       "    <tr style=\"text-align: right;\">\n",
       "      <th></th>\n",
       "      <th>Country Name</th>\n",
       "      <th>Continent</th>\n",
       "      <th>RDExpen</th>\n",
       "      <th>STJpapers</th>\n",
       "      <th>researchers</th>\n",
       "    </tr>\n",
       "  </thead>\n",
       "  <tbody>\n",
       "    <tr>\n",
       "      <th>0</th>\n",
       "      <td>Albania</td>\n",
       "      <td>europe</td>\n",
       "      <td>NaN</td>\n",
       "      <td>191.4</td>\n",
       "      <td>NaN</td>\n",
       "    </tr>\n",
       "    <tr>\n",
       "      <th>1</th>\n",
       "      <td>Austria</td>\n",
       "      <td>europe</td>\n",
       "      <td>3.15124</td>\n",
       "      <td>12366.4</td>\n",
       "      <td>5157.51761</td>\n",
       "    </tr>\n",
       "    <tr>\n",
       "      <th>2</th>\n",
       "      <td>Bolivia</td>\n",
       "      <td>america</td>\n",
       "      <td>NaN</td>\n",
       "      <td>95.1</td>\n",
       "      <td>NaN</td>\n",
       "    </tr>\n",
       "    <tr>\n",
       "      <th>3</th>\n",
       "      <td>Belgium</td>\n",
       "      <td>europe</td>\n",
       "      <td>2.55730</td>\n",
       "      <td>16393.7</td>\n",
       "      <td>4778.85093</td>\n",
       "    </tr>\n",
       "    <tr>\n",
       "      <th>4</th>\n",
       "      <td>Brazil</td>\n",
       "      <td>america</td>\n",
       "      <td>1.26578</td>\n",
       "      <td>53606.6</td>\n",
       "      <td>NaN</td>\n",
       "    </tr>\n",
       "  </tbody>\n",
       "</table>\n",
       "</div>"
      ],
      "text/plain": [
       "  Country Name Continent  RDExpen  STJpapers  researchers\n",
       "0      Albania    europe      NaN      191.4          NaN\n",
       "1      Austria    europe  3.15124    12366.4   5157.51761\n",
       "2      Bolivia   america      NaN       95.1          NaN\n",
       "3      Belgium    europe  2.55730    16393.7   4778.85093\n",
       "4       Brazil   america  1.26578    53606.6          NaN"
      ]
     },
     "execution_count": 4,
     "metadata": {},
     "output_type": "execute_result"
    }
   ],
   "source": [
    "data = pd.read_excel(\"science_indicators.xlsx\")\n",
    "data.head()"
   ]
  },
  {
   "cell_type": "markdown",
   "metadata": {
    "id": "epF8b3oDO79L"
   },
   "source": [
    "\n",
    "---\n",
    "\n",
    "## Questions"
   ]
  },
  {
   "cell_type": "markdown",
   "metadata": {
    "id": "U4rd2VM8QDJ_"
   },
   "source": [
    "## 1.- <font color = \"Red\"> The Data Set </font>\n",
    "\n",
    "**In this first part, let's briefly describe the dataset**"
   ]
  },
  {
   "cell_type": "markdown",
   "metadata": {
    "id": "eedtladhPAUo"
   },
   "source": [
    "### 1.1.- <font color = \"Blue\">Data (1 Point)</font>\n",
    "\n",
    "**From the statistics point of view, what type of data can you find in the study?**"
   ]
  },
  {
   "cell_type": "markdown",
   "metadata": {
    "id": "VXPlskqmPQpO"
   },
   "source": [
    "There are 5 variables in the data set:<br>\n",
    "<ul><li> `Country Name` - categorical</li>\n",
    "    <li> `Continent` - categorical</li>\n",
    "    <li> `RDExpen`- numerical, continuous</li>\n",
    "    <li> `STJpapers`- numerical, discrete</li>\n",
    "    <li> `researchers`- numerical, apparently continuous</li></ul>"
   ]
  },
  {
   "cell_type": "markdown",
   "metadata": {
    "id": "pM8W6oyzPQ8G"
   },
   "source": [
    "### 1.2.- <font color = \"Blue\">Variables (1 Point)</font>\n",
    "\n",
    "**Describe the type of variables you can find in the study both, from the point of view of their nature and from the point of view of their role (again from the statistics point of view)**"
   ]
  },
  {
   "cell_type": "markdown",
   "metadata": {
    "id": "bD807GJdPgvL"
   },
   "source": []
  },
  {
   "cell_type": "markdown",
   "metadata": {
    "id": "JweYf5DGhpKE"
   },
   "source": [
    "### 1.3.- <font color = \"Blue\">Population and Sample (1 Point)</font>\n",
    "\n",
    "**Explain which is the population of interest and which are the statistical units**"
   ]
  },
  {
   "cell_type": "markdown",
   "metadata": {
    "id": "mZEh8HtChpX3"
   },
   "source": []
  },
  {
   "cell_type": "markdown",
   "metadata": {
    "id": "-DpLLXq6PhVE"
   },
   "source": [
    "### 1.4.- <font color = \"Blue\">Sample Size (1 Point)</font>\n",
    "\n",
    "**Determine the sample size using Python. Then determine how many countries belong to Europe and how many to America in this sample**"
   ]
  },
  {
   "cell_type": "code",
   "execution_count": null,
   "metadata": {
    "id": "hJh6LJ06L_Qr"
   },
   "outputs": [],
   "source": []
  },
  {
   "cell_type": "markdown",
   "metadata": {
    "id": "adglUSz79QsY"
   },
   "source": [
    "### 1.5.- <font color = \"Blue\">Sizes (1 Point)</font>\n",
    "\n",
    "**If you split the `RDExpen` and `STJpapers` variables in three levels denoted by `low`, `mid` and `high` (using the own range of the variables), determine the number of countries in our sample that are in each of the levels generated by this division**"
   ]
  },
  {
   "cell_type": "code",
   "execution_count": null,
   "metadata": {
    "id": "x0qPUPgK9pNS"
   },
   "outputs": [],
   "source": []
  },
  {
   "cell_type": "markdown",
   "metadata": {
    "id": "dkdJTcUJOZY4"
   },
   "source": [
    "## 2.- <font color = \"Red\"> EDA </font>\n",
    "\n",
    "**The next questions are for the variables in the dataset**"
   ]
  },
  {
   "cell_type": "markdown",
   "metadata": {
    "id": "py2zP2styEBo"
   },
   "source": [
    "### 2.1.- <font color = \"Blue\"> Graphical Analysis (2 Points) </font> \n",
    "\n",
    "**Plot side by side its histogram and the boxplot. Then answer the following questions:**\n",
    "\n",
    " * **Is the distribution symmetric? Which value of skewness would you expect?**\n",
    " * **Do you detect any outliers? Which value of the excess kurtosis would you expect?**\n",
    " * **Which central tendency and variability measures would you use to describe the distribution?**"
   ]
  },
  {
   "cell_type": "code",
   "execution_count": null,
   "metadata": {
    "id": "wW86R7myWFhU"
   },
   "outputs": [],
   "source": []
  },
  {
   "cell_type": "markdown",
   "metadata": {
    "id": "KYRFTzewSxkn"
   },
   "source": [
    "### 2.2.- <font color = \"Blue\">Quantitative Analysis (2 Points)</font>\n",
    "\n",
    "**Make a summary with ALL the numerical quantities needed to describe the distribution. Then interpret them with respect to your arguments in 2.1. Did your expectations match with the numerical results? Explain.**"
   ]
  },
  {
   "cell_type": "code",
   "execution_count": null,
   "metadata": {
    "id": "8VzScuLaPjjN"
   },
   "outputs": [],
   "source": []
  },
  {
   "cell_type": "markdown",
   "metadata": {
    "id": "nVUYh1gWy_Nq"
   },
   "source": [
    "### 2.3.- <font color = \"Blue\"> Dependency (2 Points)</font>\n",
    "\n",
    "**Analyze from the point of view of association, correlation and relationship the dependency of the Scientific and technical journal articles, variable `STJpapers` (independent) with the Research and development expenditure, variable `RDExpen` (response). Make the proper graph for this analysis.**"
   ]
  },
  {
   "cell_type": "code",
   "execution_count": null,
   "metadata": {
    "id": "8J7xYh_mZDvW"
   },
   "outputs": [],
   "source": []
  },
  {
   "cell_type": "markdown",
   "metadata": {
    "id": "tR6kFzDE9sAE"
   },
   "source": [
    "### 2.4.- <font color = \"Blue\"> Categoricals (2 Points)</font>\n",
    "\n",
    "**Using the split of question 1.5, make a graph that shows the relative frequencies of each category. Discuss it.**"
   ]
  },
  {
   "cell_type": "code",
   "execution_count": null,
   "metadata": {
    "id": "S6yibR__wxv6"
   },
   "outputs": [],
   "source": []
  },
  {
   "cell_type": "markdown",
   "metadata": {
    "id": "z8hJLwDo3_2Y"
   },
   "source": [
    "## 3.- <font color = \"Red\"> Probability </font>\n",
    "\n"
   ]
  },
  {
   "cell_type": "markdown",
   "metadata": {
    "id": "UnBwjcUd4GG3"
   },
   "source": [
    "### 3.1.- <font color = \"Blue\"> Depedency (2 Points) </font> \n",
    "\n",
    "**For this question you need to split the `RDExpen` and `STJpapers` in three levels denoted by `low`, `mid` and `high` (use the own range of the variables). Then, are the events of `high` level in both variables dependent or independent? Why?**\n",
    "\n"
   ]
  },
  {
   "cell_type": "code",
   "execution_count": null,
   "metadata": {
    "id": "MqwLzzJI8Wa7"
   },
   "outputs": [],
   "source": []
  },
  {
   "cell_type": "markdown",
   "metadata": {
    "id": "mY9xBABa4x4I"
   },
   "source": [
    "### 3.2.- <font color = \"Blue\"> Conditional Probability (2 Points) </font>\n",
    "\n",
    "**Find the probability that for any randomly chosen country, if the `RDExpen` is not high, the `STJpapers` is high**"
   ]
  },
  {
   "cell_type": "code",
   "execution_count": null,
   "metadata": {
    "id": "cnB-3eI53_II"
   },
   "outputs": [],
   "source": []
  },
  {
   "cell_type": "markdown",
   "metadata": {
    "id": "slGnNGng5odR"
   },
   "source": [
    "### 3.3.- <font color = \"Blue\"> Expected Value (2 Points) </font> \n",
    "\n",
    "**Assuming that in the world, the research and development expenditure follows a normal distribution with mean 1.5 and standard deviation of 1.1, then find the expected number of countries in the sample that should have an expenditure above 3. Is that number in agreement with what you find in the data? Can you explain?**"
   ]
  },
  {
   "cell_type": "code",
   "execution_count": null,
   "metadata": {
    "id": "8DbZ_vD65n4z"
   },
   "outputs": [],
   "source": []
  }
 ],
 "metadata": {
  "colab": {
   "collapsed_sections": [],
   "name": "Exam I.ipynb",
   "provenance": [
    {
     "file_id": "1PZw1E53hgf2hXKpSXk5ohxedhzibo3mz",
     "timestamp": 1613076450222
    }
   ],
   "toc_visible": true
  },
  "kernelspec": {
   "display_name": "Python 3",
   "language": "python",
   "name": "python3"
  },
  "language_info": {
   "codemirror_mode": {
    "name": "ipython",
    "version": 3
   },
   "file_extension": ".py",
   "mimetype": "text/x-python",
   "name": "python",
   "nbconvert_exporter": "python",
   "pygments_lexer": "ipython3",
   "version": "3.8.10"
  }
 },
 "nbformat": 4,
 "nbformat_minor": 1
}
