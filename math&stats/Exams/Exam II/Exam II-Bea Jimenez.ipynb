{
 "cells": [
  {
   "cell_type": "markdown",
   "metadata": {
    "id": "wTNT78uWIBEf"
   },
   "source": [
    "# <font color = \"slateblue\"> EXAM II </font>\n",
    "#### <font color = \"slateblue\"> Math and Stats</font>\n",
    "#### <font color = \"slateblue\"> Date: 21st, Feb 2021 </font>\n",
    "\n",
    "---\n",
    "\n"
   ]
  },
  {
   "cell_type": "markdown",
   "metadata": {
    "id": "KJCyXQtnIbHE"
   },
   "source": [
    "## <font color = \"limegreen\">Student Data</font>\n",
    "\n",
    "Fill your **NAME** only:\n",
    "\n",
    "#### Student Name: ..........BEA...................\n",
    "\n",
    "---\n"
   ]
  },
  {
   "cell_type": "markdown",
   "metadata": {
    "id": "aH2sF02mIbaW"
   },
   "source": [
    "## <font color = \"limegreen\">Instructions</font>\n",
    "\n",
    "Read carefully these instructions and follow them during your quiz and in your submission.\n",
    "\n",
    " * The exam lasts **1 week**\n",
    " * Read carefully the questions and do not answer before knowing what is asked\n",
    " * Full marks require **full explanations**. Just answering the question is not enough, for example, if one answer is that the type of data is *panel data*, just saying that will not grant you more than the 25% of the available points.\n",
    " * The **answers** must be written right below the questions made in this notebook. Use Code and Text cells as needed\n"
   ]
  },
  {
   "cell_type": "markdown",
   "metadata": {
    "id": "CethReyNCKjw"
   },
   "source": [
    "---\n",
    "\n",
    "## <font color = \"limegreen\"> Packages </font>\n",
    "\n",
    "In the next cell code add **ALL** the modules you will use in your exam: `numpy`, `pandas`,... "
   ]
  },
  {
   "cell_type": "code",
   "execution_count": 1,
   "metadata": {
    "id": "37oQMoOeZIYj"
   },
   "outputs": [],
   "source": [
    "#%load_ext nb_black\n",
    "import numpy as np\n",
    "import pandas as pd\n",
    "import scipy.stats as ss\n",
    "import statsmodels.stats.weightstats as smw\n",
    "import statsmodels.stats.proportion as smp\n",
    "import matplotlib.pyplot as plt\n",
    "import math\n",
    "\n",
    "plt.style.use(\"seaborn\")"
   ]
  },
  {
   "cell_type": "markdown",
   "metadata": {
    "id": "n-BBasPpVw0u"
   },
   "source": [
    "In case you work with colab notebooks, use the following cell to connect to your drive"
   ]
  },
  {
   "cell_type": "code",
   "execution_count": 2,
   "metadata": {
    "id": "dBY9kK8DO027"
   },
   "outputs": [],
   "source": [
    "# not necessary"
   ]
  },
  {
   "cell_type": "markdown",
   "metadata": {
    "id": "25-MIZMOG_S9"
   },
   "source": [
    "---\n",
    "\n",
    "## <font color = \"limegreen\">The Data </font>\n",
    "\n",
    "**The High School ad Beyond study contains a set of 200 observations on high school seniors. The variables we find in the dataset are**\n",
    "\n",
    "<br>\n",
    "\n",
    "| Variable    |           Description           |\n",
    "|-------------|---------------------------------|\n",
    "|  id    | Student ID |\n",
    "|  gender  | Student's gender (female, male) |\n",
    "|  race    | Student's race (african american, asian, hispanic, white) |\n",
    "|  ses  | Socio economic status of student's family (low, middle, high) |\n",
    "| schtyp | Type of school (public, private) | \n",
    "| prog  | Type of program (general, academic, vocational)|\n",
    "| read  | Standardized reading score |\n",
    "| write | Standardized writing score |\n",
    "| math  | Standardized math score |\n",
    "| science | Standardized science score |\n",
    "| socst | Standardized social studies score|\n",
    "\n",
    "<br>\n",
    "\n",
    "**in order to load it, use the next *code cell*, taking into account that it is a .txt file (named `hsb2` which can be found in the folder of datasets). Add in this same code cell a instruction that lets you see the 5 first rows of the dataset.**"
   ]
  },
  {
   "cell_type": "code",
   "execution_count": 3,
   "metadata": {
    "id": "sRIulZuqVazH",
    "scrolled": true
   },
   "outputs": [
    {
     "data": {
      "text/html": [
       "<div>\n",
       "<style scoped>\n",
       "    .dataframe tbody tr th:only-of-type {\n",
       "        vertical-align: middle;\n",
       "    }\n",
       "\n",
       "    .dataframe tbody tr th {\n",
       "        vertical-align: top;\n",
       "    }\n",
       "\n",
       "    .dataframe thead th {\n",
       "        text-align: right;\n",
       "    }\n",
       "</style>\n",
       "<table border=\"1\" class=\"dataframe\">\n",
       "  <thead>\n",
       "    <tr style=\"text-align: right;\">\n",
       "      <th></th>\n",
       "      <th>gender</th>\n",
       "      <th>race</th>\n",
       "      <th>ses</th>\n",
       "      <th>schtyp</th>\n",
       "      <th>prog</th>\n",
       "      <th>read</th>\n",
       "      <th>write</th>\n",
       "      <th>math</th>\n",
       "      <th>science</th>\n",
       "      <th>socst</th>\n",
       "    </tr>\n",
       "    <tr>\n",
       "      <th>id</th>\n",
       "      <th></th>\n",
       "      <th></th>\n",
       "      <th></th>\n",
       "      <th></th>\n",
       "      <th></th>\n",
       "      <th></th>\n",
       "      <th></th>\n",
       "      <th></th>\n",
       "      <th></th>\n",
       "      <th></th>\n",
       "    </tr>\n",
       "  </thead>\n",
       "  <tbody>\n",
       "    <tr>\n",
       "      <th>70</th>\n",
       "      <td>male</td>\n",
       "      <td>white</td>\n",
       "      <td>low</td>\n",
       "      <td>public</td>\n",
       "      <td>general</td>\n",
       "      <td>57</td>\n",
       "      <td>52</td>\n",
       "      <td>41</td>\n",
       "      <td>47</td>\n",
       "      <td>57</td>\n",
       "    </tr>\n",
       "    <tr>\n",
       "      <th>121</th>\n",
       "      <td>female</td>\n",
       "      <td>white</td>\n",
       "      <td>middle</td>\n",
       "      <td>public</td>\n",
       "      <td>vocational</td>\n",
       "      <td>68</td>\n",
       "      <td>59</td>\n",
       "      <td>53</td>\n",
       "      <td>63</td>\n",
       "      <td>61</td>\n",
       "    </tr>\n",
       "    <tr>\n",
       "      <th>86</th>\n",
       "      <td>male</td>\n",
       "      <td>white</td>\n",
       "      <td>high</td>\n",
       "      <td>public</td>\n",
       "      <td>general</td>\n",
       "      <td>44</td>\n",
       "      <td>33</td>\n",
       "      <td>54</td>\n",
       "      <td>58</td>\n",
       "      <td>31</td>\n",
       "    </tr>\n",
       "    <tr>\n",
       "      <th>141</th>\n",
       "      <td>male</td>\n",
       "      <td>white</td>\n",
       "      <td>high</td>\n",
       "      <td>public</td>\n",
       "      <td>vocational</td>\n",
       "      <td>63</td>\n",
       "      <td>44</td>\n",
       "      <td>47</td>\n",
       "      <td>53</td>\n",
       "      <td>56</td>\n",
       "    </tr>\n",
       "    <tr>\n",
       "      <th>172</th>\n",
       "      <td>male</td>\n",
       "      <td>white</td>\n",
       "      <td>middle</td>\n",
       "      <td>public</td>\n",
       "      <td>academic</td>\n",
       "      <td>47</td>\n",
       "      <td>52</td>\n",
       "      <td>57</td>\n",
       "      <td>53</td>\n",
       "      <td>61</td>\n",
       "    </tr>\n",
       "  </tbody>\n",
       "</table>\n",
       "</div>"
      ],
      "text/plain": [
       "     gender   race     ses  schtyp        prog  read  write  math  science  \\\n",
       "id                                                                           \n",
       "70     male  white     low  public     general    57     52    41       47   \n",
       "121  female  white  middle  public  vocational    68     59    53       63   \n",
       "86     male  white    high  public     general    44     33    54       58   \n",
       "141    male  white    high  public  vocational    63     44    47       53   \n",
       "172    male  white  middle  public    academic    47     52    57       53   \n",
       "\n",
       "     socst  \n",
       "id          \n",
       "70      57  \n",
       "121     61  \n",
       "86      31  \n",
       "141     56  \n",
       "172     61  "
      ]
     },
     "execution_count": 3,
     "metadata": {},
     "output_type": "execute_result"
    }
   ],
   "source": [
    "hsb2 = pd.read_csv(\"hsb2.txt\", sep=\"\\t\", index_col=\"id\")\n",
    "hsb2.head()"
   ]
  },
  {
   "cell_type": "code",
   "execution_count": 4,
   "metadata": {},
   "outputs": [
    {
     "name": "stdout",
     "output_type": "stream",
     "text": [
      "We have 200 samples available\n"
     ]
    }
   ],
   "source": [
    "print(\"We have\", hsb2.shape[0], \"samples available\")"
   ]
  },
  {
   "cell_type": "code",
   "execution_count": 5,
   "metadata": {},
   "outputs": [
    {
     "data": {
      "text/html": [
       "<div>\n",
       "<style scoped>\n",
       "    .dataframe tbody tr th:only-of-type {\n",
       "        vertical-align: middle;\n",
       "    }\n",
       "\n",
       "    .dataframe tbody tr th {\n",
       "        vertical-align: top;\n",
       "    }\n",
       "\n",
       "    .dataframe thead th {\n",
       "        text-align: right;\n",
       "    }\n",
       "</style>\n",
       "<table border=\"1\" class=\"dataframe\">\n",
       "  <thead>\n",
       "    <tr style=\"text-align: right;\">\n",
       "      <th></th>\n",
       "      <th>read</th>\n",
       "      <th>write</th>\n",
       "      <th>math</th>\n",
       "      <th>science</th>\n",
       "      <th>socst</th>\n",
       "    </tr>\n",
       "  </thead>\n",
       "  <tbody>\n",
       "    <tr>\n",
       "      <th>count</th>\n",
       "      <td>200.000000</td>\n",
       "      <td>200.000000</td>\n",
       "      <td>200.000000</td>\n",
       "      <td>200.000000</td>\n",
       "      <td>200.000000</td>\n",
       "    </tr>\n",
       "    <tr>\n",
       "      <th>mean</th>\n",
       "      <td>52.230000</td>\n",
       "      <td>52.775000</td>\n",
       "      <td>52.645000</td>\n",
       "      <td>51.850000</td>\n",
       "      <td>52.405000</td>\n",
       "    </tr>\n",
       "    <tr>\n",
       "      <th>std</th>\n",
       "      <td>10.252937</td>\n",
       "      <td>9.478586</td>\n",
       "      <td>9.368448</td>\n",
       "      <td>9.900891</td>\n",
       "      <td>10.735793</td>\n",
       "    </tr>\n",
       "    <tr>\n",
       "      <th>min</th>\n",
       "      <td>28.000000</td>\n",
       "      <td>31.000000</td>\n",
       "      <td>33.000000</td>\n",
       "      <td>26.000000</td>\n",
       "      <td>26.000000</td>\n",
       "    </tr>\n",
       "    <tr>\n",
       "      <th>25%</th>\n",
       "      <td>44.000000</td>\n",
       "      <td>45.750000</td>\n",
       "      <td>45.000000</td>\n",
       "      <td>44.000000</td>\n",
       "      <td>46.000000</td>\n",
       "    </tr>\n",
       "    <tr>\n",
       "      <th>50%</th>\n",
       "      <td>50.000000</td>\n",
       "      <td>54.000000</td>\n",
       "      <td>52.000000</td>\n",
       "      <td>53.000000</td>\n",
       "      <td>52.000000</td>\n",
       "    </tr>\n",
       "    <tr>\n",
       "      <th>75%</th>\n",
       "      <td>60.000000</td>\n",
       "      <td>60.000000</td>\n",
       "      <td>59.000000</td>\n",
       "      <td>58.000000</td>\n",
       "      <td>61.000000</td>\n",
       "    </tr>\n",
       "    <tr>\n",
       "      <th>max</th>\n",
       "      <td>76.000000</td>\n",
       "      <td>67.000000</td>\n",
       "      <td>75.000000</td>\n",
       "      <td>74.000000</td>\n",
       "      <td>71.000000</td>\n",
       "    </tr>\n",
       "  </tbody>\n",
       "</table>\n",
       "</div>"
      ],
      "text/plain": [
       "             read       write        math     science       socst\n",
       "count  200.000000  200.000000  200.000000  200.000000  200.000000\n",
       "mean    52.230000   52.775000   52.645000   51.850000   52.405000\n",
       "std     10.252937    9.478586    9.368448    9.900891   10.735793\n",
       "min     28.000000   31.000000   33.000000   26.000000   26.000000\n",
       "25%     44.000000   45.750000   45.000000   44.000000   46.000000\n",
       "50%     50.000000   54.000000   52.000000   53.000000   52.000000\n",
       "75%     60.000000   60.000000   59.000000   58.000000   61.000000\n",
       "max     76.000000   67.000000   75.000000   74.000000   71.000000"
      ]
     },
     "execution_count": 5,
     "metadata": {},
     "output_type": "execute_result"
    }
   ],
   "source": [
    "hsb2.describe()"
   ]
  },
  {
   "cell_type": "markdown",
   "metadata": {
    "id": "epF8b3oDO79L"
   },
   "source": [
    "\n",
    "---\n",
    "\n",
    "## Questions"
   ]
  },
  {
   "cell_type": "markdown",
   "metadata": {
    "id": "U4rd2VM8QDJ_"
   },
   "source": [
    "## 1.- <font color = \"Red\"> Estimation </font>\n",
    "\n",
    "**In this first part, let's focus in confidence intervals**"
   ]
  },
  {
   "cell_type": "markdown",
   "metadata": {
    "id": "eedtladhPAUo"
   },
   "source": [
    "### 1.1.- <font color = \"Blue\">Average Scores (2 Points)</font>\n",
    "\n",
    "**Find the 95% confidence intervals for the standarized scores of all the variables. Give an interpretation of them.**"
   ]
  },
  {
   "cell_type": "code",
   "execution_count": 6,
   "metadata": {
    "id": "XT80kYg2QrZ9",
    "scrolled": true
   },
   "outputs": [
    {
     "name": "stdout",
     "output_type": "stream",
     "text": [
      "The 95% confidence interval for read is [50.81, 53.65]\n",
      "The 95% confidence interval for write is [51.46, 54.09]\n",
      "The 95% confidence interval for math is [51.35, 53.94]\n",
      "The 95% confidence interval for science is [50.48, 53.22]\n",
      "The 95% confidence interval for socst is [50.92, 53.89]\n"
     ]
    }
   ],
   "source": [
    "# first, we define common values for all the distributions\n",
    "CL = 0.95\n",
    "SL = 1 - CL\n",
    "zcrit = ss.norm.isf(SL / 2) # we compute zcrit using the inverse survival function at alpha/2 \n",
    "                            # because sigmas for our populations are known\n",
    "\n",
    "# then we select the variables we are interested in and create a for loop\n",
    "for var in hsb2.loc[:, \"read\":].columns:\n",
    "    # obtain var information\n",
    "    var_mean = hsb2[var].mean()\n",
    "    var_stdev = hsb2[var].std()\n",
    "    var_n = len(hsb2[var])\n",
    "\n",
    "    # calculate confidence interval\n",
    "    ll = var_mean - zcrit * var_stdev / np.sqrt(var_n)\n",
    "    ul = var_mean + zcrit * var_stdev / np.sqrt(var_n)\n",
    "\n",
    "    # print the results\n",
    "    print(\"The {:.0%} confidence interval for {} is [{:4.2f}, {:4.2f}]\".format(CL,var,ll,ul))"
   ]
  },
  {
   "cell_type": "markdown",
   "metadata": {},
   "source": [
    "The calculated confidence intervals allow us to affirm that we are 95% confident that the actual population mean of each variable will be included in said intervals."
   ]
  },
  {
   "cell_type": "markdown",
   "metadata": {
    "id": "pM8W6oyzPQ8G"
   },
   "source": [
    "### 1.2.- <font color = \"Blue\">Comparison of Populations (1 Point)</font>\n",
    "\n",
    "**Using these single population scores, would you say that there is a significant difference bewteen the average grades in `math` and in `read`? Why?**"
   ]
  },
  {
   "cell_type": "code",
   "execution_count": 7,
   "metadata": {},
   "outputs": [
    {
     "name": "stdout",
     "output_type": "stream",
     "text": [
      "The mean of math is 52.65 and its standard deviation is 9.37\n",
      "The mean of read is 52.23 and its standard deviation is 10.25\n"
     ]
    }
   ],
   "source": [
    "print(\"The mean of math is\",\"{:4.2f}\".format(hsb2[\"math\"].mean()),\n",
    "    \"and its standard deviation is\",\"{:4.2f}\".format(hsb2[\"math\"].std()))\n",
    "print(\"The mean of read is\",\"{:4.2f}\".format(hsb2[\"read\"].mean()),\n",
    "    \"and its standard deviation is\",\"{:4.2f}\".format(hsb2[\"read\"].std()))"
   ]
  },
  {
   "cell_type": "markdown",
   "metadata": {
    "id": "bD807GJdPgvL"
   },
   "source": [
    "Given the fact that both means, standard deviations, and 95% confidence intervals are very close, we could affirm there is no significant difference between both variables."
   ]
  },
  {
   "cell_type": "markdown",
   "metadata": {
    "id": "JweYf5DGhpKE"
   },
   "source": [
    "### 1.3.- <font color = \"Blue\">Comparison of Populations (2 Points)</font>\n",
    "\n",
    "**Using specific methods for two populations, find the 90% confidence interval for the difference in the average grades of `math` and `read`. Is this result in agreement with your previous argument?**"
   ]
  },
  {
   "cell_type": "markdown",
   "metadata": {
    "id": "2UVl7100Rcpq"
   },
   "source": [
    "In order to calculate the difference in grades we create a new variable"
   ]
  },
  {
   "cell_type": "code",
   "execution_count": 8,
   "metadata": {},
   "outputs": [
    {
     "data": {
      "text/plain": [
       "id\n",
       "70    -16\n",
       "121   -15\n",
       "86     10\n",
       "141   -16\n",
       "172    10\n",
       "Name: diff_mr, dtype: int64"
      ]
     },
     "execution_count": 8,
     "metadata": {},
     "output_type": "execute_result"
    }
   ],
   "source": [
    "hsb2[\"diff_mr\"] = hsb2.math - hsb2.read\n",
    "hsb2.diff_mr.head()"
   ]
  },
  {
   "cell_type": "code",
   "execution_count": 9,
   "metadata": {},
   "outputs": [
    {
     "name": "stdout",
     "output_type": "stream",
     "text": [
      "The 90% confidence interval for for the difference is [-0.53, 1.36]\n"
     ]
    }
   ],
   "source": [
    "# instead of using the zcrit formula as before, we are going to use statsmodels now\n",
    "CL = 0.90\n",
    "SL = 1 - CL\n",
    "\n",
    "# we calculate the descriptive stats\n",
    "des = smw.DescrStatsW(hsb2[\"diff_mr\"])\n",
    "\n",
    "# and obtain the lower and upper limits of the confidence interval\n",
    "ll, ul = des.zconfint_mean(SL)  # the number of available samples is > 40 so we use zconfint\n",
    "\n",
    "# print the results\n",
    "print(\"The {:.0%} confidence interval for\".format(CL),\"for the difference is [{:4.2f}, {:4.2f}]\".format(ll, ul))"
   ]
  },
  {
   "cell_type": "markdown",
   "metadata": {},
   "source": [
    "Given the fact that 0 is included in the 90% confidence interval of the difference, we can affirm we are 90% confident there is no significant difference between both variables, which is in line with what we expected in point 1.2."
   ]
  },
  {
   "cell_type": "markdown",
   "metadata": {
    "id": "-DpLLXq6PhVE"
   },
   "source": [
    "### 1.4.- <font color = \"Blue\">Proportions (1 Point)</font>\n",
    "\n",
    "**Find the confidence interval for the proportion of males and of females (separatedly) that failed in `science`**"
   ]
  },
  {
   "cell_type": "markdown",
   "metadata": {
    "id": "Za9s8YHBRr-F"
   },
   "source": [
    "We need to create a dataset with the samples where `science` was failed."
   ]
  },
  {
   "cell_type": "code",
   "execution_count": 10,
   "metadata": {},
   "outputs": [
    {
     "data": {
      "text/html": [
       "<div>\n",
       "<style scoped>\n",
       "    .dataframe tbody tr th:only-of-type {\n",
       "        vertical-align: middle;\n",
       "    }\n",
       "\n",
       "    .dataframe tbody tr th {\n",
       "        vertical-align: top;\n",
       "    }\n",
       "\n",
       "    .dataframe thead th {\n",
       "        text-align: right;\n",
       "    }\n",
       "</style>\n",
       "<table border=\"1\" class=\"dataframe\">\n",
       "  <thead>\n",
       "    <tr style=\"text-align: right;\">\n",
       "      <th></th>\n",
       "      <th>gender</th>\n",
       "      <th>race</th>\n",
       "      <th>ses</th>\n",
       "      <th>schtyp</th>\n",
       "      <th>prog</th>\n",
       "      <th>read</th>\n",
       "      <th>write</th>\n",
       "      <th>math</th>\n",
       "      <th>science</th>\n",
       "      <th>socst</th>\n",
       "      <th>diff_mr</th>\n",
       "    </tr>\n",
       "    <tr>\n",
       "      <th>id</th>\n",
       "      <th></th>\n",
       "      <th></th>\n",
       "      <th></th>\n",
       "      <th></th>\n",
       "      <th></th>\n",
       "      <th></th>\n",
       "      <th></th>\n",
       "      <th></th>\n",
       "      <th></th>\n",
       "      <th></th>\n",
       "      <th></th>\n",
       "    </tr>\n",
       "  </thead>\n",
       "  <tbody>\n",
       "    <tr>\n",
       "      <th>70</th>\n",
       "      <td>male</td>\n",
       "      <td>white</td>\n",
       "      <td>low</td>\n",
       "      <td>public</td>\n",
       "      <td>general</td>\n",
       "      <td>57</td>\n",
       "      <td>52</td>\n",
       "      <td>41</td>\n",
       "      <td>47</td>\n",
       "      <td>57</td>\n",
       "      <td>-16</td>\n",
       "    </tr>\n",
       "    <tr>\n",
       "      <th>11</th>\n",
       "      <td>male</td>\n",
       "      <td>hispanic</td>\n",
       "      <td>middle</td>\n",
       "      <td>public</td>\n",
       "      <td>academic</td>\n",
       "      <td>34</td>\n",
       "      <td>46</td>\n",
       "      <td>45</td>\n",
       "      <td>39</td>\n",
       "      <td>36</td>\n",
       "      <td>11</td>\n",
       "    </tr>\n",
       "    <tr>\n",
       "      <th>38</th>\n",
       "      <td>male</td>\n",
       "      <td>african american</td>\n",
       "      <td>low</td>\n",
       "      <td>public</td>\n",
       "      <td>academic</td>\n",
       "      <td>45</td>\n",
       "      <td>57</td>\n",
       "      <td>50</td>\n",
       "      <td>31</td>\n",
       "      <td>56</td>\n",
       "      <td>5</td>\n",
       "    </tr>\n",
       "    <tr>\n",
       "      <th>12</th>\n",
       "      <td>male</td>\n",
       "      <td>hispanic</td>\n",
       "      <td>middle</td>\n",
       "      <td>public</td>\n",
       "      <td>vocational</td>\n",
       "      <td>37</td>\n",
       "      <td>44</td>\n",
       "      <td>45</td>\n",
       "      <td>39</td>\n",
       "      <td>46</td>\n",
       "      <td>8</td>\n",
       "    </tr>\n",
       "    <tr>\n",
       "      <th>53</th>\n",
       "      <td>male</td>\n",
       "      <td>african american</td>\n",
       "      <td>middle</td>\n",
       "      <td>public</td>\n",
       "      <td>vocational</td>\n",
       "      <td>34</td>\n",
       "      <td>37</td>\n",
       "      <td>46</td>\n",
       "      <td>39</td>\n",
       "      <td>31</td>\n",
       "      <td>12</td>\n",
       "    </tr>\n",
       "  </tbody>\n",
       "</table>\n",
       "</div>"
      ],
      "text/plain": [
       "   gender              race     ses  schtyp        prog  read  write  math  \\\n",
       "id                                                                           \n",
       "70   male             white     low  public     general    57     52    41   \n",
       "11   male          hispanic  middle  public    academic    34     46    45   \n",
       "38   male  african american     low  public    academic    45     57    50   \n",
       "12   male          hispanic  middle  public  vocational    37     44    45   \n",
       "53   male  african american  middle  public  vocational    34     37    46   \n",
       "\n",
       "    science  socst  diff_mr  \n",
       "id                           \n",
       "70       47     57      -16  \n",
       "11       39     36       11  \n",
       "38       31     56        5  \n",
       "12       39     46        8  \n",
       "53       39     31       12  "
      ]
     },
     "execution_count": 10,
     "metadata": {},
     "output_type": "execute_result"
    }
   ],
   "source": [
    "science_fail = hsb2[hsb2[\"science\"] < 50]\n",
    "science_fail.head()"
   ]
  },
  {
   "cell_type": "markdown",
   "metadata": {},
   "source": [
    "We can now compute the required intervals for males and females"
   ]
  },
  {
   "cell_type": "code",
   "execution_count": 12,
   "metadata": {},
   "outputs": [
    {
     "name": "stdout",
     "output_type": "stream",
     "text": [
      "The values for the normality approximation are, for males, 30 and 61.\n",
      "The 95% CI for the proportion of males who failed science is [23.31%, 42.63%] \n",
      "\n",
      "The values for the normality approximation are, for females, 41 and 68.\n",
      "The 95% CI for the proportion of females who failed science is [28.52%, 46.71%] \n",
      "\n"
     ]
    }
   ],
   "source": [
    "# First we set a confidence level \n",
    "CL = 0.95\n",
    "SL = 1 - CL\n",
    "\n",
    "for gender in science_fail.gender.unique():\n",
    "    # we calculate the proportion of failed science vs total attempts for each gender\n",
    "    n_gen = len(hsb2[hsb2.gender == gender].science)  # total number of individuals of the selected gender in our sample\n",
    "    x_gen = len(science_fail[science_fail.gender == gender].science)  # total number of individuals of the selected gender who failed science\n",
    "\n",
    "    # we can now calculate p_hat for each gender\n",
    "    p_hat_gen = x_gen / n_gen\n",
    "\n",
    "    # next we calculate np and nq of the binomial distribution and print them\n",
    "    n_p = n_gen * p_hat_gen\n",
    "    n_q = n_gen * (1 - p_hat_gen)\n",
    "    print(\"The values for the normality approximation are, for {}s, {:2.0f} and {:2.0f}.\".format(gender,n_p,n_q))\n",
    "\n",
    "    # since the calculated values of np and nq are both > 10, we can use the normal approximation to the binomial distribution\n",
    "    \n",
    "    # then we compute zcrit \n",
    "    zcrit = ss.norm.isf(SL / 2)\n",
    "\n",
    "    # and now we can obtain the lower and upper limits of our confidence interval\n",
    "    ll = p_hat_gen - zcrit * math.sqrt(p_hat_gen * (1 - p_hat_gen) / n_gen)\n",
    "    ul = p_hat_gen + zcrit * math.sqrt(p_hat_gen * (1 - p_hat_gen) / n_gen)\n",
    "\n",
    "    print(\"The {:.0%} CI for the proportion of {}s who failed science is [{:.2%}, {:.2%}]\".format(CL, gender, ll, ul),\"\\n\")"
   ]
  },
  {
   "cell_type": "markdown",
   "metadata": {
    "id": "dkdJTcUJOZY4"
   },
   "source": [
    "## 2.- <font color = \"Red\"> Hypothesis Testing </font>\n",
    "\n",
    "**For each of the following questions clearly state the decision scheme you choose and why. Also, before any test, check that the conditions for inference are satisfied.**"
   ]
  },
  {
   "cell_type": "markdown",
   "metadata": {
    "id": "py2zP2styEBo"
   },
   "source": [
    "### 2.1.- <font color = \"Blue\"> First Test (2 Points) </font> \n",
    "\n",
    "**Perform a test to see if the average grade in `math` is above 52 points. What about the average grade in `science`, is it greater than 52?**"
   ]
  },
  {
   "cell_type": "markdown",
   "metadata": {},
   "source": [
    "The conditions of inference for these tests are:\n",
    "- *Independence*: we assume that our sample students were honest and didn't copy\n",
    "- *Normality*: check if we find the following:<ul><li>\n",
    "n > 40 - the number of samples in both `math`and `science` are above 40\n",
    "<li>no extreme outliers - grades are mandatorly between 0 and 100, so there cannot be any values beyond those limits. And anyway, checking max and min on each variable result in values away from the theoretical max and min."
   ]
  },
  {
   "cell_type": "markdown",
   "metadata": {},
   "source": [
    "Our decision scheme is as follows:\n",
    "\\begin{equation}\n",
    "H_0:\\{\\text{average below 52}\\},\\quad H_1:\\{\\text{average above 52}\\}\n",
    "\\end{equation}\n",
    "\n",
    "so we must perform a right-tailed test with $\\mu_0$ = 52:\n",
    "\\begin{equation}\n",
    "H_0:\\{\\mu\\leq 52\\}, \\quad H_1:\\{\\mu > 52\\}\n",
    "\\end{equation}"
   ]
  },
  {
   "cell_type": "code",
   "execution_count": 13,
   "metadata": {
    "id": "6U_kS5tTTF9e",
    "scrolled": true
   },
   "outputs": [
    {
     "name": "stdout",
     "output_type": "stream",
     "text": [
      "z-statistic:  0.97\n",
      "z-critical: 1.64\n",
      "Fail to Reject the NULL hypothesis\n"
     ]
    }
   ],
   "source": [
    "# Data preparation for our test\n",
    "mu0 = 52\n",
    "SL = 0.05\n",
    "n = len(hsb2.math) # >40, therefore we can use the normal approximation with the same standard deviation\n",
    "\n",
    "# Descriptive Stats\n",
    "xmean = hsb2.math.mean()\n",
    "stdev = hsb2.math.std()\n",
    "\n",
    "# Calculate z-statistic and print it\n",
    "zstat = (xmean - mu0)/(stdev/np.sqrt(n))\n",
    "print('z-statistic: ', round(zstat,2))\n",
    "\n",
    "# Calculate z-critical and print it\n",
    "zcrit = ss.norm.isf(SL)\n",
    "print('z-critical:', round(zcrit,2))\n",
    "\n",
    "# Compare both values to perform our test\n",
    "if (zstat > zcrit):\n",
    "  print('Reject the NULL hypothesis')\n",
    "else:\n",
    "  print('Fail to Reject the NULL hypothesis')"
   ]
  },
  {
   "cell_type": "markdown",
   "metadata": {},
   "source": [
    "Since we Fail to Reject the NULL hypothesis, we do not find evidence against $H_0$ for a 5% of significance level. Then we cannot say that the average grade in `math` is above 52"
   ]
  },
  {
   "cell_type": "code",
   "execution_count": 14,
   "metadata": {},
   "outputs": [
    {
     "name": "stdout",
     "output_type": "stream",
     "text": [
      "z-statistic:  -0.21\n",
      "z-critical: 1.64\n",
      "Fail to Reject the NULL hypothesis\n"
     ]
    }
   ],
   "source": [
    "# Regarding science, we are going to use statsmodels for the calculations\n",
    "\n",
    "# Data\n",
    "mu0 = 52\n",
    "SL = 0.05\n",
    "\n",
    "# Descriptive Stats\n",
    "des_f = smw.DescrStatsW(hsb2.science)\n",
    "\n",
    "# Calculate z-statistic and print it\n",
    "zstat, pval = des_f.ztest_mean(value = mu0, alternative='larger') # ztest because n > 40\n",
    "print('z-statistic: ', round(zstat,2))\n",
    "\n",
    "# Calculate z-critical and print it\n",
    "zcrit = ss.norm.isf(SL)\n",
    "print('z-critical:', round(zcrit,2))\n",
    "\n",
    "# Compare both values to perform our test\n",
    "if (zstat > zcrit):\n",
    "  print('Reject the NULL hypothesis')\n",
    "else:\n",
    "  print('Fail to Reject the NULL hypothesis')"
   ]
  },
  {
   "cell_type": "markdown",
   "metadata": {},
   "source": [
    "Again, since we Fail to Reject the NULL hypothesis, we do not find evidence against $H_0$ for a 5% of significance level. Then we cannot say that the average grade in `science` is above 52"
   ]
  },
  {
   "cell_type": "markdown",
   "metadata": {
    "id": "KYRFTzewSxkn"
   },
   "source": [
    "### 2.2.- <font color = \"Blue\">Second Test (2 Points)</font>\n",
    "\n",
    "**Perform a test to see if the average grade in `science` and in `write` is different between males and females (separatedly the different courses)**"
   ]
  },
  {
   "cell_type": "markdown",
   "metadata": {
    "id": "U1h19rnKTikq"
   },
   "source": [
    "The conditions of inference for these tests are:\n",
    "- *Independence*: we assume that our sample students were honest and didn't copy\n",
    "- *Normality*: check if we find the following:<ul><li>\n",
    "n > 40 - the number of samples in both `math`and `science` are above 40\n",
    "<li>no extreme outliers - grades are mandatorly between 0 and 100, so there cannot be any values beyond those limits. And anyway, checking max and min on each variable result in values away from the theoretical max and min.\n"
   ]
  },
  {
   "cell_type": "markdown",
   "metadata": {},
   "source": [
    "Our decision scheme is as follows:\n",
    "\\begin{equation}\n",
    "H_0:\\{\\text{averages are equal}\\},\\quad H_1:\\{\\text{averages are not equal}\\}\n",
    "\\end{equation}\n",
    "\n",
    "so we must perform a two-tailed test:\n",
    "\\begin{equation}\n",
    "H_0:\\{\\mu_1 = \\mu_2\\}, \\quad H_1:\\{\\mu_1 \\neq \\mu_2\\}\n",
    "\\end{equation}\n",
    "\n",
    "which can be written as:\n",
    "\\begin{equation}\n",
    "H_0:\\{\\mu_1 - \\mu_2 = 0\\}, \\quad H_1:\\{\\mu_1 - \\mu_2 \\neq 0\\}\n",
    "\\end{equation}\n"
   ]
  },
  {
   "cell_type": "code",
   "execution_count": null,
   "metadata": {},
   "outputs": [],
   "source": [
    "# Data\n",
    "SL = 0.05\n",
    "\n",
    "# nested for loops to go over variables and genders to compare \n",
    "for var in (\"science\",\"write\"):\n",
    "    subvars = {}\n",
    "\n",
    "    for gender in (\"male\",\"female\"):\n",
    "        subvars[gender] = hsb2.loc[hsb2.gender == gender,var]\n",
    "    \n",
    "    # Test that the two-sided difference in the mean is 0\n",
    "    zstat, pval = smw.ztest(subvars[\"male\"], subvars[\"female\"], value = 0, alternative='two-sided') \n",
    "\n",
    "    print(\"The calculated p-value for {} is {:.4f}, that we compare to the SL and obtain that we must \".format(var,pval),end=\"\")\n",
    "    if (pval < SL):\n",
    "        print(\"REJECT the NULL hypothesis.\")\n",
    "    else:\n",
    "        print(\"FAIL to REJECT the NULL hypothesis.\")"
   ]
  },
  {
   "cell_type": "markdown",
   "metadata": {},
   "source": [
    "We fail to reject the NULL hypothesis for the `science` variable, therefore we do not find evidence against $H_0$ for a 5% of significance level. Then we cannot say that the average grade in `science` for males and females is different.<br>\n",
    "On the contrary, since we reject the NULL hypothesis for the `write` variable, it means that we find evidence against $H_0$ for a 5% of significance level. Then we can say that the average grade in `write` for males and females is different."
   ]
  },
  {
   "cell_type": "markdown",
   "metadata": {
    "id": "nVUYh1gWy_Nq"
   },
   "source": [
    "### 2.3.- <font color = \"Blue\"> Third Test (2 Points)</font>\n",
    "\n",
    "**Perform a test to see if the proportion of students from public schools who passed `socst` is the same as that of those from a private school.**"
   ]
  },
  {
   "cell_type": "markdown",
   "metadata": {},
   "source": [
    "The conditions of inference for these tests are:\n",
    "- *Independence*: we assume that our sample students were honest and didn't copy\n",
    "- *Normality*: check if we find the following:<ul><li>\n",
    "n > 40 - the number of samples in both `math`and `science` are above 40\n",
    "<li>no extreme outliers - grades are mandatorly between 0 and 100, so there cannot be any values beyond those limits. And anyway, checking max and min on each variable result in values away from the theoretical max and min.\n",
    "<li>since we are comparing two populations, we must also check the success-failure condition. See below"
   ]
  },
  {
   "cell_type": "markdown",
   "metadata": {},
   "source": [
    "Our decision scheme is as follows:\n",
    "\\begin{equation}\n",
    "H_0:\\{\\text{proportions are equal}\\},\\quad H_1:\\{\\text{proportions are not equal}\\}\n",
    "\\end{equation}\n",
    "\n",
    "so we must perform a two-tailed test:\n",
    "\\begin{equation}\n",
    "H_0:\\{P_{pub} = P_{pri}\\}, \\quad H_1:\\{P_{pub} \\neq P_{pri}\\}\n",
    "\\end{equation}\n",
    "\n",
    "which can be written as:\n",
    "\\begin{equation}\n",
    "H_0:\\{P_{pub} - P_{pri} = 0\\}, \\quad H_1:\\{P_{pub} - P_{pri} \\neq 0\\}\n",
    "\\end{equation}\n"
   ]
  },
  {
   "cell_type": "code",
   "execution_count": null,
   "metadata": {},
   "outputs": [],
   "source": [
    "# Following the reasoning applied in point 1.4 we first create a dataframe with those \n",
    "# individuals who passed socst, and then calculate proportions\n",
    "socst_pass = hsb2[hsb2[\"socst\"] >= 50]\n",
    "socst_pass.head()"
   ]
  },
  {
   "cell_type": "code",
   "execution_count": null,
   "metadata": {},
   "outputs": [],
   "source": [
    "# Data\n",
    "SL = 0.05\n",
    "\n",
    "n_school = {}\n",
    "x_school = {}\n",
    "# for loop to go over types of schools \n",
    "for school in (\"public\",\"private\"):\n",
    "    # calculate the proportions\n",
    "    n_school[school] = len(hsb2.loc[hsb2.schtyp == school].socst) # total number of individuals of the selected type of school in our sample\n",
    "    x_school[school] = len(socst_pass[socst_pass.schtyp == school].socst) # number of individuals of the selected type of school who passed socst\n",
    "\n",
    "    # we can now calculate p_hat for each type of school\n",
    "    p_hat_school = x_school[school] / n_school[school]\n",
    "\n",
    "    # next we calculate np and nq of the binomial distribution and print them\n",
    "    n_p = n_school[school] * p_hat_school\n",
    "    n_q = n_school[school] * (1 - p_hat_school)\n",
    "    print(\"The values for the normality approximation are, for {} schools, {:.0f} and {:.0f}.\".format(school,n_p,n_q))"
   ]
  },
  {
   "cell_type": "markdown",
   "metadata": {},
   "source": [
    "It seems like we shouldn't go on and use the normal approximation, but since the success-failure condition of np and nq > 10 is a rule of thumb and some textbooks place the threshold at 5, we continue. Also, because if we use the p_pooled proportion now all np and nq are above ten:"
   ]
  },
  {
   "cell_type": "code",
   "execution_count": null,
   "metadata": {},
   "outputs": [],
   "source": [
    "p_pooled = len(socst_pass) / len(hsb2)\n",
    "for school in (\"public\",\"private\"):\n",
    "    n_p = n_school[school] * p_pooled\n",
    "    n_q = n_school[school] * (1 - p_pooled)\n",
    "    print(\"The values for the normality approximation are, for {} schools, using the p-pooled proportion: {:.0f} and {:.0f}.\".format(school,n_p,n_q))"
   ]
  },
  {
   "cell_type": "markdown",
   "metadata": {},
   "source": [
    "We can now go on with confidence that using a normal approximation is correct"
   ]
  },
  {
   "cell_type": "code",
   "execution_count": null,
   "metadata": {
    "id": "7kVad7FXT7a7",
    "scrolled": true
   },
   "outputs": [],
   "source": [
    "n = np.array(list(n_school.values()))\n",
    "x = np.array(list(x_school.values()))\n",
    "    \n",
    "# Test that the two-sided difference in the proportions is 0\n",
    "zstat, pval = smp.proportions_ztest(x, n, value = 0, alternative='two-sided') \n",
    "print(\"\")\n",
    "print(\"The calculated p-value is {:.4f}, that we compare to the SL and obtain that we must \".format(pval),end=\"\")\n",
    "if (pval < SL):\n",
    "    print(\"REJECT the NULL hypothesis.\")\n",
    "else:\n",
    "    print(\"FAIL to REJECT the NULL hypothesis.\")"
   ]
  },
  {
   "cell_type": "markdown",
   "metadata": {},
   "source": [
    "We fail to reject the null hypothesis, therefore we we cannot say that the proportions of students who passed social studies in public and private schools are different."
   ]
  },
  {
   "cell_type": "markdown",
   "metadata": {
    "id": "tR6kFzDE9sAE"
   },
   "source": [
    "### 2.4.- <font color = \"Blue\"> Power (2 Points)</font>\n",
    "\n",
    "**You have already performed a test to compare the grades in `science` between males and females. Whatever your previous result, you know that an average difference of 3 points may be indicative of a case to analyse deeply. Then find the probability that you detect a difference of 3 points from your sample in favor a males in case this difference actually exists.**"
   ]
  },
  {
   "cell_type": "markdown",
   "metadata": {},
   "source": [
    "For this averages of two population comparison we are going to make some assumptions for the null hypothesys:\n",
    "- both populations are of the same size\n",
    "- both pupulations have the same mean\n",
    "- both populations have the same standard deviation\n",
    "\n",
    "so that we can simplify our hypothesis testing."
   ]
  },
  {
   "cell_type": "markdown",
   "metadata": {},
   "source": [
    "Our decision scheme is as follows:\n",
    "\\begin{equation}\n",
    "H_0:\\{\\mu_1 = \\mu_2\\}, \\quad H_1:\\{\\mu_1 \\neq \\mu_2\\}\n",
    "\\end{equation}\n",
    "\n",
    "which can be written as:\n",
    "\\begin{equation}\n",
    "H_0:\\{\\mu_{males} - \\mu_{females} = 0\\}, \\quad H_1:\\{\\mu_{males} - \\mu_{females} = 3\\}\n",
    "\\end{equation}\n"
   ]
  },
  {
   "cell_type": "code",
   "execution_count": 15,
   "metadata": {},
   "outputs": [
    {
     "name": "stdout",
     "output_type": "stream",
     "text": [
      "The probability that if the difference in average were 3 we would detect it is 99.54%\n"
     ]
    }
   ],
   "source": [
    "# significance level\n",
    "SL = 0.05\n",
    "\n",
    "# population means\n",
    "mu0 = 0\n",
    "mu1 = 3\n",
    "\n",
    "# sample values\n",
    "mean = hsb2['science'].mean()\n",
    "stdev = hsb2['science'].std()\n",
    "n = len(hsb2['science'])\n",
    "\n",
    "# critical t\n",
    "tcrit = ss.t.isf(SL, n-1)\n",
    "\n",
    "# effect size\n",
    "delta = mu0 - mu1\n",
    "\n",
    "# beta value\n",
    "beta_val = delta / (stdev/(np.sqrt(n))) + tcrit\n",
    "\n",
    "# power of the test\n",
    "beta = ss.t.cdf(beta_val, n-1)\n",
    "power = 1 - beta\n",
    "\n",
    "# print the output\n",
    "print('The probability that if the difference in average were 3 we would detect it is {:.2%}'.format(power))\n"
   ]
  },
  {
   "cell_type": "markdown",
   "metadata": {
    "id": "WXFlZMZEVIHs"
   },
   "source": [
    "### 2.5.- <font color = \"Blue\"> Sample size (2 Points)</font>\n",
    "\n",
    "**If in the previous question you want that the probability is 99.999% while the significance level is 0.001, what is the sample size you may need?**"
   ]
  },
  {
   "cell_type": "markdown",
   "metadata": {},
   "source": [
    "We maintain our simplification and use the normal approximation for the calculation"
   ]
  },
  {
   "cell_type": "code",
   "execution_count": null,
   "metadata": {
    "id": "a4mI8ZllVWso"
   },
   "outputs": [],
   "source": [
    "# we maintain the significance level and look for the new n\n",
    "searched_power = .999\n",
    "searched_beta = 1 - searched_power\n",
    "\n",
    "A = ss.norm.ppf(searched_beta)\n",
    "\n",
    "# critical z\n",
    "zcrit = ss.norm.isf(SL)\n",
    "\n",
    "# sample size needed\n",
    "new_n = ((A - zcrit) * stdev / delta)**2\n",
    "\n",
    "# print the output\n",
    "print('The sample size needed is {}'.format(int(np.round(new_n,0))))"
   ]
  },
  {
   "cell_type": "code",
   "execution_count": null,
   "metadata": {},
   "outputs": [],
   "source": []
  }
 ],
 "metadata": {
  "colab": {
   "collapsed_sections": [],
   "name": "Exam II.ipynb",
   "provenance": [
    {
     "file_id": "1WEPK6spQ-DyrS9UsoPA5QK_7MKdpV_q3",
     "timestamp": 1613854580243
    },
    {
     "file_id": "1ayAWLvCj4vjPEmwxbP4S_zhiq9kCZSP4",
     "timestamp": 1613566470791
    },
    {
     "file_id": "1PZw1E53hgf2hXKpSXk5ohxedhzibo3mz",
     "timestamp": 1613076450222
    }
   ],
   "toc_visible": true
  },
  "kernelspec": {
   "display_name": "Python 3",
   "language": "python",
   "name": "python3"
  },
  "language_info": {
   "codemirror_mode": {
    "name": "ipython",
    "version": 3
   },
   "file_extension": ".py",
   "mimetype": "text/x-python",
   "name": "python",
   "nbconvert_exporter": "python",
   "pygments_lexer": "ipython3",
   "version": "3.8.10"
  }
 },
 "nbformat": 4,
 "nbformat_minor": 1
}
