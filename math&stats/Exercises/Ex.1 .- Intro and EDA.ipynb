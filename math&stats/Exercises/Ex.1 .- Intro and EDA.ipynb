{
 "cells": [
  {
   "cell_type": "markdown",
   "metadata": {
    "colab_type": "text",
    "id": "G4becJbJzXdo"
   },
   "source": [
    "# Exercises\n",
    "## 1.- Introduction and EDA: Solutions\n",
    "\n",
    "### Prof. Dr.Juanjo Manjarín\n",
    "**Statistics & Data Analysis**\n",
    "\n",
    "\n",
    "---\n"
   ]
  },
  {
   "cell_type": "code",
   "execution_count": 0,
   "metadata": {
    "colab": {},
    "colab_type": "code",
    "id": "TNeWohOVdtvw"
   },
   "outputs": [],
   "source": [
    "import numpy as np\n",
    "import pandas as pd\n",
    "import matplotlib.pyplot as plt\n",
    "\n",
    "plt.style.use(\"seaborn\")"
   ]
  },
  {
   "cell_type": "markdown",
   "metadata": {
    "colab_type": "text",
    "id": "YTjN7NBkz9Oe"
   },
   "source": [
    "## Introduction to Python"
   ]
  },
  {
   "cell_type": "markdown",
   "metadata": {
    "colab_type": "text",
    "id": "onazkon_0AGJ"
   },
   "source": [
    "1. **There is no native function to compute the square root in Python: you need `numpy`. Use the help function if needed to find:**\n",
    "\n",
    " * **The square root of `33`**\n",
    " * **The same as before but round the result to only 2 decimal numbers**\n",
    " * **The square root of the array (3, 5, 9)**\n",
    " * **The same array but rounded to only 3 decimal numbers**\n",
    " \n",
    "**use the function `print` to show the output**"
   ]
  },
  {
   "cell_type": "markdown",
   "metadata": {
    "colab_type": "text",
    "id": "eE5GDMpmeQsh"
   },
   "source": [
    "The function we need is `np.sqrt()` and we can use it as\n",
    "\n",
    "```python\n",
    "np.sqrt(33)\n",
    "np.sqrt(np.array([3, 5, 9]))\n",
    "```\n",
    "\n",
    "to print the output we can use different methods. The `format()` method is probably the best, but it's used in the next exercise, so let's use something else"
   ]
  },
  {
   "cell_type": "code",
   "execution_count": 0,
   "metadata": {
    "colab": {
     "base_uri": "https://localhost:8080/",
     "height": 85
    },
    "colab_type": "code",
    "executionInfo": {
     "elapsed": 1285,
     "status": "ok",
     "timestamp": 1569189341579,
     "user": {
      "displayName": "Kanan Seyidaliyev",
      "photoUrl": "https://lh3.googleusercontent.com/a-/AAuE7mBs2DrV7CbqJ8PYMS02a1JIe2Ep8DM6sOgSWIlF=s64",
      "userId": "05783480717387804389"
     },
     "user_tz": -120
    },
    "id": "MnzzQLXSdwRd",
    "outputId": "ca2d05f2-a576-4871-811c-b6c1a051942d"
   },
   "outputs": [
    {
     "name": "stdout",
     "output_type": "stream",
     "text": [
      "The square root of 33 is:  5.744562646538029\n",
      "The square root of 33 rounded is:  5.74\n",
      "The square root of [3,5,9] is:  [1.73205081 2.23606798 3.        ]\n",
      "The square root of [3,5,9] rounded is:  [1.73 2.24 3.  ]\n"
     ]
    }
   ],
   "source": [
    "print(\"The square root of 33 is: \", np.sqrt(33))\n",
    "print(\"The square root of 33 rounded is: \", np.round(np.sqrt(33),2))\n",
    "print(\"The square root of [3,5,9] is: \", np.sqrt(np.array([3, 5, 9])))\n",
    "print(\"The square root of [3,5,9] rounded is: \", np.round(np.sqrt(np.array([3, 5, 9])),2))"
   ]
  },
  {
   "cell_type": "markdown",
   "metadata": {
    "colab_type": "text",
    "id": "Drckt2WFfJhI"
   },
   "source": [
    "\n",
    "---\n"
   ]
  },
  {
   "cell_type": "markdown",
   "metadata": {
    "colab_type": "text",
    "id": "DExUoGyH1tZH"
   },
   "source": [
    "2. **As it name suggests, the function `format` let's you give some format to the strings to be shown on screen. Take a look at the documentation and**\n",
    "\n",
    " * **Use the substitution fields to fill the gaps with your own data \"My name is ... and this is my ... year in IE\"**\n",
    " * **Explain the result of the following codes:**\n",
    "    * **`\"{:^15.2%}\".format(12.146)`**\n",
    "    * **`\"{:0=#10x}\".format(1324)`**\n",
    "    * **`\"\"{:*>10.2f}\".format(-76.215161)\"`**"
   ]
  },
  {
   "cell_type": "markdown",
   "metadata": {
    "colab_type": "text",
    "id": "c30coLFzf0Sr"
   },
   "source": [
    "for the first question"
   ]
  },
  {
   "cell_type": "code",
   "execution_count": 0,
   "metadata": {
    "colab": {
     "base_uri": "https://localhost:8080/",
     "height": 34
    },
    "colab_type": "code",
    "executionInfo": {
     "elapsed": 541,
     "status": "ok",
     "timestamp": 1569189485844,
     "user": {
      "displayName": "Kanan Seyidaliyev",
      "photoUrl": "https://lh3.googleusercontent.com/a-/AAuE7mBs2DrV7CbqJ8PYMS02a1JIe2Ep8DM6sOgSWIlF=s64",
      "userId": "05783480717387804389"
     },
     "user_tz": -120
    },
    "id": "nmw2pCfHfXTh",
    "outputId": "185515c8-10cf-415e-c018-705e42d85a26"
   },
   "outputs": [
    {
     "name": "stdout",
     "output_type": "stream",
     "text": [
      "My name is Juanjo and this is my 7th year in IE\n"
     ]
    }
   ],
   "source": [
    "print(\"My name is {} and this is my {} year in IE\".format(\"Juanjo\", \"7th\"))"
   ]
  },
  {
   "cell_type": "markdown",
   "metadata": {
    "colab_type": "text",
    "id": "MHLliAqyfpzW"
   },
   "source": [
    "other options may include\n",
    "\n",
    "```python\n",
    "print(\"My name is {name} and this is my {year} year in IE\".format(name = \"Juanjo\", year = \"7th\"))\n",
    "```\n",
    "\n",
    "For the second we have to interpret the symbols, since the general expression could be read as \"given *this* format, write *this* number\", then"
   ]
  },
  {
   "cell_type": "code",
   "execution_count": 0,
   "metadata": {
    "colab": {
     "base_uri": "https://localhost:8080/",
     "height": 34
    },
    "colab_type": "code",
    "executionInfo": {
     "elapsed": 492,
     "status": "ok",
     "timestamp": 1569189505183,
     "user": {
      "displayName": "Kanan Seyidaliyev",
      "photoUrl": "https://lh3.googleusercontent.com/a-/AAuE7mBs2DrV7CbqJ8PYMS02a1JIe2Ep8DM6sOgSWIlF=s64",
      "userId": "05783480717387804389"
     },
     "user_tz": -120
    },
    "id": "1UaQtFdggPaE",
    "outputId": "6fcd640d-8ae7-4ca7-e349-da506963108c"
   },
   "outputs": [
    {
     "data": {
      "text/plain": [
       "'   1214.60%    '"
      ]
     },
     "execution_count": 6,
     "metadata": {
      "tags": []
     },
     "output_type": "execute_result"
    }
   ],
   "source": [
    "\"{:^15.2%}\".format(12.146)"
   ]
  },
  {
   "cell_type": "markdown",
   "metadata": {
    "colab_type": "text",
    "id": "VeB87DlzgQdP"
   },
   "source": [
    "the \"^\" means centered-aligned, the 15 is the number of characters in the string, the 2 is the number of decimals and the \"%\" says that the number is a percentage"
   ]
  },
  {
   "cell_type": "code",
   "execution_count": 0,
   "metadata": {
    "colab": {
     "base_uri": "https://localhost:8080/",
     "height": 34
    },
    "colab_type": "code",
    "executionInfo": {
     "elapsed": 547,
     "status": "ok",
     "timestamp": 1569189542373,
     "user": {
      "displayName": "Kanan Seyidaliyev",
      "photoUrl": "https://lh3.googleusercontent.com/a-/AAuE7mBs2DrV7CbqJ8PYMS02a1JIe2Ep8DM6sOgSWIlF=s64",
      "userId": "05783480717387804389"
     },
     "user_tz": -120
    },
    "id": "7HiTVbQfgPpf",
    "outputId": "73cc347c-60e3-4214-d9af-6c323ad6c222"
   },
   "outputs": [
    {
     "data": {
      "text/plain": [
       "'0x0000052c'"
      ]
     },
     "execution_count": 7,
     "metadata": {
      "tags": []
     },
     "output_type": "execute_result"
    }
   ],
   "source": [
    "\"{:0=#10x}\".format(1324)"
   ]
  },
  {
   "cell_type": "markdown",
   "metadata": {
    "colab_type": "text",
    "id": "gUlwyf1CgR9k"
   },
   "source": [
    "the \"0\" is the filling character, the \"=\" means to fill with 0s after the equality, the \"#\" means to give the numeric format (explicit at the end), the 10 is number of characters in the string, the \"x\" mean hexadecimal with lower case alphabetical characters"
   ]
  },
  {
   "cell_type": "code",
   "execution_count": 0,
   "metadata": {
    "colab": {
     "base_uri": "https://localhost:8080/",
     "height": 35
    },
    "colab_type": "code",
    "executionInfo": {
     "elapsed": 534,
     "status": "ok",
     "timestamp": 1567336025060,
     "user": {
      "displayName": "Juan Jose Manjarin",
      "photoUrl": "",
      "userId": "04910883006985787828"
     },
     "user_tz": -120
    },
    "id": "qxhtKU6dgP0V",
    "outputId": "d6319d83-3c06-40d7-96ff-331f89553b7f"
   },
   "outputs": [
    {
     "data": {
      "text/plain": [
       "'****-76.22'"
      ]
     },
     "execution_count": 8,
     "metadata": {
      "tags": []
     },
     "output_type": "execute_result"
    }
   ],
   "source": [
    "\"{:*>10.2f}\".format(-76.215161)"
   ]
  },
  {
   "cell_type": "markdown",
   "metadata": {
    "colab_type": "text",
    "id": "u-SDL9wTgROD"
   },
   "source": [
    "The \"\\*\" is the filling character, the \">\" means right-aligned, the 2 means two decimal numbers, the \"f\" means floating point number\n",
    "\n",
    "---\n",
    "\n"
   ]
  },
  {
   "cell_type": "markdown",
   "metadata": {
    "colab_type": "text",
    "id": "jlTqa1LY4-Oz"
   },
   "source": [
    "3. **You cannot use the power operation on a list, but you can use it on its individual elements. Then take the list [2, 3, 4] and generate its square without using `numpy`**"
   ]
  },
  {
   "cell_type": "code",
   "execution_count": 0,
   "metadata": {
    "colab": {
     "base_uri": "https://localhost:8080/",
     "height": 51
    },
    "colab_type": "code",
    "executionInfo": {
     "elapsed": 1502,
     "status": "ok",
     "timestamp": 1569189555863,
     "user": {
      "displayName": "Kanan Seyidaliyev",
      "photoUrl": "https://lh3.googleusercontent.com/a-/AAuE7mBs2DrV7CbqJ8PYMS02a1JIe2Ep8DM6sOgSWIlF=s64",
      "userId": "05783480717387804389"
     },
     "user_tz": -120
    },
    "id": "c9poW7T2h39F",
    "outputId": "75ac9656-97d0-48d6-f30a-bfb39b7bba4f"
   },
   "outputs": [
    {
     "name": "stdout",
     "output_type": "stream",
     "text": [
      "The original list is: [2, 3, 4]\n",
      "The power 2 list is: [4, 9, 16]\n"
     ]
    }
   ],
   "source": [
    "mylist = [2, 3, 4]\n",
    "mysquared = [mylist[0]**2, mylist[1]**2, mylist[2]**2]\n",
    "\n",
    "print(\"The original list is: {}\".format(mylist))\n",
    "print(\"The power 2 list is: {}\".format(mysquared))"
   ]
  },
  {
   "cell_type": "markdown",
   "metadata": {
    "colab_type": "text",
    "id": "-EobCjFUh1sg"
   },
   "source": [
    "\n",
    "\n",
    "---\n",
    "\n"
   ]
  },
  {
   "cell_type": "markdown",
   "metadata": {
    "colab_type": "text",
    "id": "FokptmEW6EAV"
   },
   "source": [
    "4. **Import `numpy` with the usual abbreviation and print on screen the version number you are working with**"
   ]
  },
  {
   "cell_type": "markdown",
   "metadata": {
    "colab_type": "text",
    "id": "4ZoASzriiiDq"
   },
   "source": [
    "Since we have already imported `numpy`, let's just see its version"
   ]
  },
  {
   "cell_type": "code",
   "execution_count": 0,
   "metadata": {
    "colab": {
     "base_uri": "https://localhost:8080/",
     "height": 34
    },
    "colab_type": "code",
    "executionInfo": {
     "elapsed": 1278,
     "status": "ok",
     "timestamp": 1569189562570,
     "user": {
      "displayName": "Kanan Seyidaliyev",
      "photoUrl": "https://lh3.googleusercontent.com/a-/AAuE7mBs2DrV7CbqJ8PYMS02a1JIe2Ep8DM6sOgSWIlF=s64",
      "userId": "05783480717387804389"
     },
     "user_tz": -120
    },
    "id": "ktPZ6Yw1imrl",
    "outputId": "bdd65563-62ed-4c02-f958-e1c61bc51ef2"
   },
   "outputs": [
    {
     "name": "stdout",
     "output_type": "stream",
     "text": [
      "1.16.5\n"
     ]
    }
   ],
   "source": [
    "print(np.__version__)"
   ]
  },
  {
   "cell_type": "markdown",
   "metadata": {
    "colab_type": "text",
    "id": "4OZ5an24iyND"
   },
   "source": [
    "\n",
    "\n",
    "---\n",
    "\n"
   ]
  },
  {
   "cell_type": "markdown",
   "metadata": {
    "colab_type": "text",
    "id": "BDMe7N5m6Nwh"
   },
   "source": [
    "5. **Create an array with numbers from 0 to 12**\n",
    "\n",
    " * **if the difference between each value is 1**\n",
    " * **if the difference between each value is 0.1**\n",
    " \n",
    "**what is the length of each array?**"
   ]
  },
  {
   "cell_type": "code",
   "execution_count": 0,
   "metadata": {
    "colab": {
     "base_uri": "https://localhost:8080/",
     "height": 221
    },
    "colab_type": "code",
    "executionInfo": {
     "elapsed": 536,
     "status": "ok",
     "timestamp": 1569189705365,
     "user": {
      "displayName": "Kanan Seyidaliyev",
      "photoUrl": "https://lh3.googleusercontent.com/a-/AAuE7mBs2DrV7CbqJ8PYMS02a1JIe2Ep8DM6sOgSWIlF=s64",
      "userId": "05783480717387804389"
     },
     "user_tz": -120
    },
    "id": "5fCCoqYTi5up",
    "outputId": "b8462cb4-4461-47d6-cfa7-cfee8c7d2012"
   },
   "outputs": [
    {
     "name": "stdout",
     "output_type": "stream",
     "text": [
      "The first array: [ 0  1  2  3  4  5  6  7  8  9 10 11]\n",
      "The lenght of the first array: 12\n",
      "The second array: [ 0.   0.1  0.2  0.3  0.4  0.5  0.6  0.7  0.8  0.9  1.   1.1  1.2  1.3\n",
      "  1.4  1.5  1.6  1.7  1.8  1.9  2.   2.1  2.2  2.3  2.4  2.5  2.6  2.7\n",
      "  2.8  2.9  3.   3.1  3.2  3.3  3.4  3.5  3.6  3.7  3.8  3.9  4.   4.1\n",
      "  4.2  4.3  4.4  4.5  4.6  4.7  4.8  4.9  5.   5.1  5.2  5.3  5.4  5.5\n",
      "  5.6  5.7  5.8  5.9  6.   6.1  6.2  6.3  6.4  6.5  6.6  6.7  6.8  6.9\n",
      "  7.   7.1  7.2  7.3  7.4  7.5  7.6  7.7  7.8  7.9  8.   8.1  8.2  8.3\n",
      "  8.4  8.5  8.6  8.7  8.8  8.9  9.   9.1  9.2  9.3  9.4  9.5  9.6  9.7\n",
      "  9.8  9.9 10.  10.1 10.2 10.3 10.4 10.5 10.6 10.7 10.8 10.9 11.  11.1\n",
      " 11.2 11.3 11.4 11.5 11.6 11.7 11.8 11.9]\n",
      "The length of the second array: 120\n"
     ]
    }
   ],
   "source": [
    "ar1 = np.arange(0, 12, 1)\n",
    "ar2 = np.arange(0, 12, 0.1)\n",
    "\n",
    "print(\"The first array: {}\".format(ar1))\n",
    "print(\"The lenght of the first array: {}\".format(len(ar1)))\n",
    "print(\"The second array: {}\".format(ar2))\n",
    "print(\"The length of the second array: {}\".format(len(ar2)))"
   ]
  },
  {
   "cell_type": "markdown",
   "metadata": {
    "colab_type": "text",
    "id": "fDW-WNHojbD_"
   },
   "source": [
    "\n",
    "\n",
    "---\n",
    "\n"
   ]
  },
  {
   "cell_type": "markdown",
   "metadata": {
    "colab_type": "text",
    "id": "zh_ZFZ6U6EEW"
   },
   "source": [
    "6. **The operator `%` is the *module*, somewhat equivalent to the remainder of a quotient. Then, given the array with numbers from 1 to 10, write another array that contains only its odd numbers**"
   ]
  },
  {
   "cell_type": "code",
   "execution_count": 0,
   "metadata": {
    "colab": {
     "base_uri": "https://localhost:8080/",
     "height": 35
    },
    "colab_type": "code",
    "executionInfo": {
     "elapsed": 577,
     "status": "ok",
     "timestamp": 1567336876706,
     "user": {
      "displayName": "Juan Jose Manjarin",
      "photoUrl": "",
      "userId": "04910883006985787828"
     },
     "user_tz": -120
    },
    "id": "fcttfyB_jfST",
    "outputId": "ff9aff8b-6b92-4e21-f19e-7591878fe5e6"
   },
   "outputs": [
    {
     "data": {
      "text/plain": [
       "array([1, 3, 5, 7, 9])"
      ]
     },
     "execution_count": 20,
     "metadata": {
      "tags": []
     },
     "output_type": "execute_result"
    }
   ],
   "source": [
    "ar1 = np.arange(1, 10, 1)\n",
    "\n",
    "ar1[ar1 % 2 == 1]"
   ]
  },
  {
   "cell_type": "markdown",
   "metadata": {
    "colab_type": "text",
    "id": "gzVKN0mQjw7_"
   },
   "source": [
    "\n",
    "\n",
    "---\n",
    "\n"
   ]
  },
  {
   "cell_type": "markdown",
   "metadata": {
    "colab_type": "text",
    "id": "N0Xar1nJ6eTe"
   },
   "source": [
    "7. **The function `np.where` can be used in many contexts. Take a look at the documentation and given  the following two arrays**\n",
    "\n",
    "\\begin{equation}\n",
    "\\begin{array}{rcl}\n",
    "ar1 & = & [1, 3, 2, 2, 2, 4, 1, 1, 5, 6, 8] \\\\[2ex]\n",
    "ar2 & = & [1, 1, 3, 4, 2, 4, 2, 1, 5, 6, 10]\n",
    "\\end{array} \n",
    "\\end{equation}\n",
    "\n",
    " * **use it to find the array of the common elements of both**\n",
    " * **can you use it to find the array of the different elements of both?**\n",
    " * **use it to create an array such that when both arrays are equal you have a 1 and 0 otherwise**"
   ]
  },
  {
   "cell_type": "code",
   "execution_count": 0,
   "metadata": {
    "colab": {},
    "colab_type": "code",
    "id": "HL9hKpK8j3AQ"
   },
   "outputs": [],
   "source": [
    "ar1 = np.array([1,3,2,2,2,4,1,1,5,6,8])\n",
    "ar2 = np.array([1,1,3,4,2,4,2,1,5,6,10])"
   ]
  },
  {
   "cell_type": "markdown",
   "metadata": {
    "colab_type": "text",
    "id": "Blole8tGkA7u"
   },
   "source": [
    "then the array of the equal elements is"
   ]
  },
  {
   "cell_type": "code",
   "execution_count": 0,
   "metadata": {
    "colab": {
     "base_uri": "https://localhost:8080/",
     "height": 35
    },
    "colab_type": "code",
    "executionInfo": {
     "elapsed": 551,
     "status": "ok",
     "timestamp": 1567336993670,
     "user": {
      "displayName": "Juan Jose Manjarin",
      "photoUrl": "",
      "userId": "04910883006985787828"
     },
     "user_tz": -120
    },
    "id": "5HYetH6bkEqx",
    "outputId": "0f81d183-b21d-4fa1-8068-952bec39596a"
   },
   "outputs": [
    {
     "data": {
      "text/plain": [
       "array([1, 2, 4, 1, 5, 6])"
      ]
     },
     "execution_count": 22,
     "metadata": {
      "tags": []
     },
     "output_type": "execute_result"
    }
   ],
   "source": [
    "ar1[np.where(ar1 == ar2)]"
   ]
  },
  {
   "cell_type": "markdown",
   "metadata": {
    "colab_type": "text",
    "id": "yV4btIOKkJ6f"
   },
   "source": [
    "The second question, as it is, must be answered as **no**, since `np.where` finds the locations where the arrays are not equal, but we should say which of the elements we want to include in the new array.\n",
    "\n",
    "For the last we just do"
   ]
  },
  {
   "cell_type": "code",
   "execution_count": 0,
   "metadata": {
    "colab": {
     "base_uri": "https://localhost:8080/",
     "height": 35
    },
    "colab_type": "code",
    "executionInfo": {
     "elapsed": 541,
     "status": "ok",
     "timestamp": 1567337091551,
     "user": {
      "displayName": "Juan Jose Manjarin",
      "photoUrl": "",
      "userId": "04910883006985787828"
     },
     "user_tz": -120
    },
    "id": "kvWyalfhkZkr",
    "outputId": "926b8c4a-7d7e-4e50-bec5-c3398d2e0325"
   },
   "outputs": [
    {
     "data": {
      "text/plain": [
       "array([1, 0, 0, 0, 1, 1, 0, 1, 1, 1, 0])"
      ]
     },
     "execution_count": 23,
     "metadata": {
      "tags": []
     },
     "output_type": "execute_result"
    }
   ],
   "source": [
    "np.where(ar1 != ar2, 0, 1)"
   ]
  },
  {
   "cell_type": "markdown",
   "metadata": {
    "colab_type": "text",
    "id": "s67TpwUSkZzh"
   },
   "source": [
    "or \n",
    "\n",
    "```python\n",
    "np.where(ar1 == ar2, 1, 0)\n",
    "```\n",
    "\n",
    "---\n",
    "\n"
   ]
  },
  {
   "cell_type": "markdown",
   "metadata": {
    "colab_type": "text",
    "id": "hAlDP64p6eN-"
   },
   "source": [
    "8. **The `zip` function can be used to create a container of different elements. Take a look at the documentation an use it to create a dictionary from a list and an array, both of length 10 (you generate these two elements as you wish)**"
   ]
  },
  {
   "cell_type": "code",
   "execution_count": 0,
   "metadata": {
    "colab": {
     "base_uri": "https://localhost:8080/",
     "height": 202
    },
    "colab_type": "code",
    "executionInfo": {
     "elapsed": 535,
     "status": "ok",
     "timestamp": 1567337303760,
     "user": {
      "displayName": "Juan Jose Manjarin",
      "photoUrl": "",
      "userId": "04910883006985787828"
     },
     "user_tz": -120
    },
    "id": "NG7vbYftktn_",
    "outputId": "16ecbed4-2593-4f0d-ab1e-235b0ebf1dc4"
   },
   "outputs": [
    {
     "data": {
      "text/plain": [
       "{'a': 2,\n",
       " 'b': 3,\n",
       " 'c': 6,\n",
       " 'd': 5,\n",
       " 'e': 1,\n",
       " 'f': 2,\n",
       " 'g': 3,\n",
       " 'h': 3,\n",
       " 'i': 1,\n",
       " 'j': 6}"
      ]
     },
     "execution_count": 27,
     "metadata": {
      "tags": []
     },
     "output_type": "execute_result"
    }
   ],
   "source": [
    "mylist = [\"a\",\"b\",\"c\",\"d\",\"e\",\"f\",\"g\",\"h\", \"i\", \"j\"]\n",
    "myarray = np.random.randint(0,7,10)\n",
    "\n",
    "mydict = dict(zip(mylist, myarray))\n",
    "mydict"
   ]
  },
  {
   "cell_type": "markdown",
   "metadata": {
    "colab_type": "text",
    "id": "7i_NnJfHlXY7"
   },
   "source": [
    "\n",
    "\n",
    "---\n",
    "\n"
   ]
  },
  {
   "cell_type": "markdown",
   "metadata": {
    "colab_type": "text",
    "id": "6YzfQgS3FBlp"
   },
   "source": [
    "## Descriptive Statistics with Pandas"
   ]
  },
  {
   "cell_type": "markdown",
   "metadata": {
    "colab_type": "text",
    "id": "meyy-x0f9pXO"
   },
   "source": [
    "1. **Consider the following dataset**\n",
    "\n",
    "| age | height | weight | gender |\n",
    "|-----|--------|--------|--------|\n",
    "| 15  |   152  |   42   |   f    |\n",
    "| 18  |   177  |   71   |   m    |\n",
    "| 23  |   164  |   53   |   f    |\n",
    "| 43  |   184  |  105   |   m    |\n",
    "| 25  |   175  |   98   |   m    |\n",
    "| 17  |   158  |   47   |   f    |\n",
    "| 35  |   165  |   63   |   f    |\n",
    "| 62  |   171  |   67   |   f    |\n",
    "| 18  |   172  |   65   |   m    |\n",
    "| 21  |   191  |   84   |   m    |\n",
    "| 23  |   171  |   59   |   f    |\n",
    "| 25  |   181  |   73   |   m    |\n",
    "| 31  |   167  |   60   |   f    | \n",
    "\n",
    "then\n",
    "\n",
    "  * **Write it as a `pandas` data frame**\n",
    "  * **Make and explain (to explain them you need to find all the relevant numeric measures and use them together with your graphs) the following plots:**\n",
    "    * **Histogram and boxplot of `height` and `weight` variables**\n",
    "    * **Same but grouped by gender**\n",
    "  * **To study the relation between `heigth` and `weight`**\n",
    "    * **Graph the scatterplot**\n",
    "    * **Graph the scatterplot grouping by gender**\n",
    "    * **Explain in terms of association, correlation and relationship what you see**\n",
    "    * **What linear correlation coefficient may you expect in each case?**\n",
    "    * **Find the linear correlation coefficient and explain if it is in agreement with your expectations**"
   ]
  },
  {
   "cell_type": "markdown",
   "metadata": {
    "colab_type": "text",
    "id": "JvGMmyv2z1GH"
   },
   "source": [
    "The dataframe is"
   ]
  },
  {
   "cell_type": "code",
   "execution_count": 2,
   "metadata": {
    "colab": {
     "base_uri": "https://localhost:8080/",
     "height": 452
    },
    "colab_type": "code",
    "executionInfo": {
     "elapsed": 785,
     "status": "ok",
     "timestamp": 1569229163800,
     "user": {
      "displayName": "Kanan Seyidaliyev",
      "photoUrl": "https://lh3.googleusercontent.com/a-/AAuE7mBs2DrV7CbqJ8PYMS02a1JIe2Ep8DM6sOgSWIlF=s64",
      "userId": "05783480717387804389"
     },
     "user_tz": -120
    },
    "id": "9DhtkgTQnN-V",
    "outputId": "d732f19d-ef8e-4778-f1cd-25caaa174d73"
   },
   "outputs": [
    {
     "data": {
      "text/html": [
       "<div>\n",
       "<style scoped>\n",
       "    .dataframe tbody tr th:only-of-type {\n",
       "        vertical-align: middle;\n",
       "    }\n",
       "\n",
       "    .dataframe tbody tr th {\n",
       "        vertical-align: top;\n",
       "    }\n",
       "\n",
       "    .dataframe thead th {\n",
       "        text-align: right;\n",
       "    }\n",
       "</style>\n",
       "<table border=\"1\" class=\"dataframe\">\n",
       "  <thead>\n",
       "    <tr style=\"text-align: right;\">\n",
       "      <th></th>\n",
       "      <th>age</th>\n",
       "      <th>height</th>\n",
       "      <th>weight</th>\n",
       "      <th>gender</th>\n",
       "    </tr>\n",
       "  </thead>\n",
       "  <tbody>\n",
       "    <tr>\n",
       "      <th>0</th>\n",
       "      <td>15</td>\n",
       "      <td>152</td>\n",
       "      <td>42</td>\n",
       "      <td>f</td>\n",
       "    </tr>\n",
       "    <tr>\n",
       "      <th>1</th>\n",
       "      <td>18</td>\n",
       "      <td>177</td>\n",
       "      <td>71</td>\n",
       "      <td>m</td>\n",
       "    </tr>\n",
       "    <tr>\n",
       "      <th>2</th>\n",
       "      <td>23</td>\n",
       "      <td>164</td>\n",
       "      <td>53</td>\n",
       "      <td>f</td>\n",
       "    </tr>\n",
       "    <tr>\n",
       "      <th>3</th>\n",
       "      <td>43</td>\n",
       "      <td>184</td>\n",
       "      <td>105</td>\n",
       "      <td>m</td>\n",
       "    </tr>\n",
       "    <tr>\n",
       "      <th>4</th>\n",
       "      <td>25</td>\n",
       "      <td>175</td>\n",
       "      <td>98</td>\n",
       "      <td>m</td>\n",
       "    </tr>\n",
       "    <tr>\n",
       "      <th>5</th>\n",
       "      <td>17</td>\n",
       "      <td>158</td>\n",
       "      <td>47</td>\n",
       "      <td>f</td>\n",
       "    </tr>\n",
       "    <tr>\n",
       "      <th>6</th>\n",
       "      <td>35</td>\n",
       "      <td>165</td>\n",
       "      <td>63</td>\n",
       "      <td>f</td>\n",
       "    </tr>\n",
       "    <tr>\n",
       "      <th>7</th>\n",
       "      <td>62</td>\n",
       "      <td>171</td>\n",
       "      <td>67</td>\n",
       "      <td>f</td>\n",
       "    </tr>\n",
       "    <tr>\n",
       "      <th>8</th>\n",
       "      <td>18</td>\n",
       "      <td>172</td>\n",
       "      <td>65</td>\n",
       "      <td>m</td>\n",
       "    </tr>\n",
       "    <tr>\n",
       "      <th>9</th>\n",
       "      <td>21</td>\n",
       "      <td>193</td>\n",
       "      <td>84</td>\n",
       "      <td>m</td>\n",
       "    </tr>\n",
       "    <tr>\n",
       "      <th>10</th>\n",
       "      <td>23</td>\n",
       "      <td>171</td>\n",
       "      <td>59</td>\n",
       "      <td>f</td>\n",
       "    </tr>\n",
       "    <tr>\n",
       "      <th>11</th>\n",
       "      <td>25</td>\n",
       "      <td>181</td>\n",
       "      <td>73</td>\n",
       "      <td>m</td>\n",
       "    </tr>\n",
       "    <tr>\n",
       "      <th>12</th>\n",
       "      <td>31</td>\n",
       "      <td>167</td>\n",
       "      <td>60</td>\n",
       "      <td>f</td>\n",
       "    </tr>\n",
       "  </tbody>\n",
       "</table>\n",
       "</div>"
      ],
      "text/plain": [
       "    age  height  weight gender\n",
       "0    15     152      42      f\n",
       "1    18     177      71      m\n",
       "2    23     164      53      f\n",
       "3    43     184     105      m\n",
       "4    25     175      98      m\n",
       "5    17     158      47      f\n",
       "6    35     165      63      f\n",
       "7    62     171      67      f\n",
       "8    18     172      65      m\n",
       "9    21     193      84      m\n",
       "10   23     171      59      f\n",
       "11   25     181      73      m\n",
       "12   31     167      60      f"
      ]
     },
     "execution_count": 2,
     "metadata": {
      "tags": []
     },
     "output_type": "execute_result"
    }
   ],
   "source": [
    "mydf = pd.DataFrame({\"age\": [15, 18, 23,43, 25, 17, 35, 62, 18, 21, 23, 25, 31],\n",
    "                     \"height\": [152, 177, 164, 184, 175, 158, 165, 171, 172, 193, 171, 181, 167],\n",
    "                     \"weight\": [42, 71, 53, 105, 98, 47, 63, 67, 65, 84, 59, 73, 60],\n",
    "                     \"gender\": [\"f\",\"m\",\"f\",\"m\",\"m\",\"f\",\"f\",\"f\",\"m\",\"m\",\"f\",\"m\",\"f\"]})\n",
    "mydf"
   ]
  },
  {
   "cell_type": "markdown",
   "metadata": {
    "colab_type": "text",
    "id": "qUqxlZHEz3Fk"
   },
   "source": [
    "Now we can plot the **Height distribution** as"
   ]
  },
  {
   "cell_type": "code",
   "execution_count": 3,
   "metadata": {
    "colab": {
     "base_uri": "https://localhost:8080/",
     "height": 408
    },
    "colab_type": "code",
    "executionInfo": {
     "elapsed": 1212,
     "status": "ok",
     "timestamp": 1569229168680,
     "user": {
      "displayName": "Kanan Seyidaliyev",
      "photoUrl": "https://lh3.googleusercontent.com/a-/AAuE7mBs2DrV7CbqJ8PYMS02a1JIe2Ep8DM6sOgSWIlF=s64",
      "userId": "05783480717387804389"
     },
     "user_tz": -120
    },
    "id": "VolYWt13oCKw",
    "outputId": "d07ee3ec-d0c7-49f9-aa24-0dfe8102b8f0"
   },
   "outputs": [
    {
     "data": {
      "image/png": "[encoded data removed]",
      "text/plain": [
       "<Figure size 576x396 with 2 Axes>"
      ]
     },
     "metadata": {
      "tags": []
     },
     "output_type": "display_data"
    }
   ],
   "source": [
    "fig, axes = plt.subplots(nrows=1, ncols=2)\n",
    "\n",
    "plt.suptitle(\"Height Distribution\", size = 20)\n",
    "\n",
    "mydf[\"height\"].hist(ax = axes[0],\n",
    "                    color = \"lightgreen\", \n",
    "                    ec = \"forestgreen\", \n",
    "                    bins = \"rice\")\n",
    "axes[0].set_xlabel(\"Height\")\n",
    "axes[0].set_ylabel(\"Frequency\")\n",
    "\n",
    "\n",
    "mydf[[\"height\"]].plot.box(ax = axes[1],\n",
    "                          patch_artist = True,\n",
    "                          showmeans = True,\n",
    "                          widths = 0.4,\n",
    "                          whis = 1.5,\n",
    "                          labels = [\"Height\"],\n",
    "                          color = {\"boxes\" : \"lightgreen\"},\n",
    "                          flierprops = dict(marker = 'o',\n",
    "                                            markerfacecolor = 'red'))\n",
    "\n",
    "plt.tight_layout(rect=[0, 0, 1, 0.9])\n",
    "plt.show()"
   ]
  },
  {
   "cell_type": "markdown",
   "metadata": {
    "colab_type": "text",
    "id": "beiS8zJkz-QR"
   },
   "source": [
    "We can make a summary using directly the `print` function on the output of the quantities we want (we may use `describe` but it does not return all we may want) "
   ]
  },
  {
   "cell_type": "code",
   "execution_count": 4,
   "metadata": {
    "colab": {
     "base_uri": "https://localhost:8080/",
     "height": 187
    },
    "colab_type": "code",
    "executionInfo": {
     "elapsed": 796,
     "status": "ok",
     "timestamp": 1569229174747,
     "user": {
      "displayName": "Kanan Seyidaliyev",
      "photoUrl": "https://lh3.googleusercontent.com/a-/AAuE7mBs2DrV7CbqJ8PYMS02a1JIe2Ep8DM6sOgSWIlF=s64",
      "userId": "05783480717387804389"
     },
     "user_tz": -120
    },
    "id": "Ytfc3hKg2pzu",
    "outputId": "9ca33d64-1f89-4a6d-dfda-8c718565d4e5"
   },
   "outputs": [
    {
     "name": "stdout",
     "output_type": "stream",
     "text": [
      "Mean:      171.54\n",
      "Median:    171.0\n",
      "St. Dev.:  10.93\n",
      "Q1:        165.0\n",
      "Q3:        177.0\n",
      "IQR:       12.0\n",
      "Skewness:  0.16\n",
      "Kurtosis:  0.23\n",
      "Minimum:   152\n",
      "Maximum:   193\n"
     ]
    }
   ],
   "source": [
    "print(\"{:<10}\".format(\"Mean:\"), np.round(mydf[\"height\"].mean(), 2))\n",
    "print(\"{:<10}\".format(\"Median:\"), np.round(mydf[\"height\"].median(), 2))\n",
    "print(\"{:<10}\".format(\"St. Dev.:\"), np.round(mydf[\"height\"].std(), 2))\n",
    "print(\"{:<10}\".format(\"Q1:\"), np.round(mydf[\"height\"].quantile(0.25), 2))\n",
    "print(\"{:<10}\".format(\"Q3:\"), np.round(mydf[\"height\"].quantile(0.75), 2))\n",
    "print(\"{:<10}\".format(\"IQR:\"), np.round(mydf[\"height\"].quantile(0.75) - mydf[\"height\"].quantile(0.25), 2))\n",
    "print(\"{:<10}\".format(\"Skewness:\"), np.round(mydf[\"height\"].skew(), 2))\n",
    "print(\"{:<10}\".format(\"Kurtosis:\"), np.round(mydf[\"height\"].kurt(), 2))\n",
    "print(\"{:<10}\".format(\"Minimum:\"), mydf[\"height\"].min())\n",
    "print(\"{:<10}\".format(\"Maximum:\"), mydf[\"height\"].max())"
   ]
  },
  {
   "cell_type": "markdown",
   "metadata": {
    "colab_type": "text",
    "id": "MhN2rpZR4O9D"
   },
   "source": [
    "From the graphs and the summary we see that we have a rather symmetric distribution (slightly right-skewed) with almost normal tails (very slightly heavy tails). We do not detect any outliers in the boxplot.\n",
    "\n",
    "The slight right-skewed nature is also reflected in the median been smaller than the mean (remember that this is not a general property but a common feature). Both variabilities are close to each other. Overall, we'd use the combination mean/standard deviation to describe the distribution.\n",
    "\n",
    "Now, for the **Weight distribution** we find"
   ]
  },
  {
   "cell_type": "code",
   "execution_count": 5,
   "metadata": {
    "colab": {
     "base_uri": "https://localhost:8080/",
     "height": 408
    },
    "colab_type": "code",
    "executionInfo": {
     "elapsed": 1327,
     "status": "ok",
     "timestamp": 1569229178744,
     "user": {
      "displayName": "Kanan Seyidaliyev",
      "photoUrl": "https://lh3.googleusercontent.com/a-/AAuE7mBs2DrV7CbqJ8PYMS02a1JIe2Ep8DM6sOgSWIlF=s64",
      "userId": "05783480717387804389"
     },
     "user_tz": -120
    },
    "id": "NUAj8i8oyAA3",
    "outputId": "ddcc469f-4f07-4e35-b778-bd600b816471"
   },
   "outputs": [
    {
     "data": {
      "image/png": "[encoded data removed]",
      "text/plain": [
       "<Figure size 576x396 with 2 Axes>"
      ]
     },
     "metadata": {
      "tags": []
     },
     "output_type": "display_data"
    }
   ],
   "source": [
    "fig, axes = plt.subplots(nrows=1, ncols=2)\n",
    "\n",
    "plt.suptitle(\"Weight Distribution\", size = 20)\n",
    "\n",
    "mydf[\"weight\"].hist(ax = axes[0],\n",
    "                    color = \"deepskyblue\", \n",
    "                    ec = \"royalblue\", \n",
    "                    bins = \"rice\")\n",
    "axes[0].set_xlabel(\"Weight\")\n",
    "axes[0].set_ylabel(\"Frequency\")\n",
    "\n",
    "\n",
    "mydf[[\"weight\"]].plot.box(ax = axes[1],\n",
    "                          patch_artist = True,\n",
    "                          showmeans = True,\n",
    "                          widths = 0.4,\n",
    "                          whis = 1.5,\n",
    "                          labels = [\"Weight\"],\n",
    "                          color = {\"boxes\" : \"deepskyblue\"},\n",
    "                          flierprops = dict(marker = 'o',\n",
    "                                            markerfacecolor = 'red'))\n",
    "\n",
    "plt.tight_layout(rect=[0, 0, 1, 0.9])\n",
    "plt.show()"
   ]
  },
  {
   "cell_type": "markdown",
   "metadata": {
    "colab_type": "text",
    "id": "ofATkheo5NBq"
   },
   "source": [
    "and the summary"
   ]
  },
  {
   "cell_type": "code",
   "execution_count": 6,
   "metadata": {
    "colab": {
     "base_uri": "https://localhost:8080/",
     "height": 187
    },
    "colab_type": "code",
    "executionInfo": {
     "elapsed": 733,
     "status": "ok",
     "timestamp": 1569229181678,
     "user": {
      "displayName": "Kanan Seyidaliyev",
      "photoUrl": "https://lh3.googleusercontent.com/a-/AAuE7mBs2DrV7CbqJ8PYMS02a1JIe2Ep8DM6sOgSWIlF=s64",
      "userId": "05783480717387804389"
     },
     "user_tz": -120
    },
    "id": "Wnwl__sg5PhR",
    "outputId": "88ceecf0-9d22-407b-de07-349b5985afae"
   },
   "outputs": [
    {
     "name": "stdout",
     "output_type": "stream",
     "text": [
      "Mean:      68.23\n",
      "Median:    65.0\n",
      "St. Dev.:  18.44\n",
      "Q1:        59.0\n",
      "Q3:        73.0\n",
      "IQR:       14.0\n",
      "Skewness:  0.75\n",
      "Kurtosis:  0.15\n",
      "Minimum:   42\n",
      "Maximum:   105\n"
     ]
    }
   ],
   "source": [
    "print(\"{:<10}\".format(\"Mean:\"), np.round(mydf[\"weight\"].mean(), 2))\n",
    "print(\"{:<10}\".format(\"Median:\"), np.round(mydf[\"weight\"].median(), 2))\n",
    "print(\"{:<10}\".format(\"St. Dev.:\"), np.round(mydf[\"weight\"].std(), 2))\n",
    "print(\"{:<10}\".format(\"Q1:\"), np.round(mydf[\"weight\"].quantile(0.25), 2))\n",
    "print(\"{:<10}\".format(\"Q3:\"), np.round(mydf[\"weight\"].quantile(0.75), 2))\n",
    "print(\"{:<10}\".format(\"IQR:\"), np.round(mydf[\"weight\"].quantile(0.75) - mydf[\"weight\"].quantile(0.25), 2))\n",
    "print(\"{:<10}\".format(\"Skewness:\"), np.round(mydf[\"weight\"].skew(), 2))\n",
    "print(\"{:<10}\".format(\"Kurtosis:\"), np.round(mydf[\"weight\"].kurt(), 2))\n",
    "print(\"{:<10}\".format(\"Minimum:\"), mydf[\"weight\"].min())\n",
    "print(\"{:<10}\".format(\"Maximum:\"), mydf[\"weight\"].max())"
   ]
  },
  {
   "cell_type": "markdown",
   "metadata": {
    "colab_type": "text",
    "id": "JWzpJjaC5boG"
   },
   "source": [
    "This distribution is right-skewed (seen in the graphs and in the skewness value) which implies that there is a *significant* number of people in the sample with high weight. This could be reflected in heavy tails, however, since there are no observations smaller than `42` the left tail does not contribute, resulting in a small kurtosis value. We find two outliers in the heavy weight regime\n",
    "\n",
    "The difference between mean and median now is bigger than before and this toghether with the skewness we have found may lead us to use the combination median/IQR to better describe this distribution.\n",
    "\n",
    "We leave to the student repeating the process grouping by gender.\n",
    "\n",
    "To study the **relation** between the variables we first find the scatterplots"
   ]
  },
  {
   "cell_type": "code",
   "execution_count": 7,
   "metadata": {
    "colab": {
     "base_uri": "https://localhost:8080/",
     "height": 408
    },
    "colab_type": "code",
    "executionInfo": {
     "elapsed": 1277,
     "status": "ok",
     "timestamp": 1569229187223,
     "user": {
      "displayName": "Kanan Seyidaliyev",
      "photoUrl": "https://lh3.googleusercontent.com/a-/AAuE7mBs2DrV7CbqJ8PYMS02a1JIe2Ep8DM6sOgSWIlF=s64",
      "userId": "05783480717387804389"
     },
     "user_tz": -120
    },
    "id": "fn4_mgpv7NOX",
    "outputId": "4eafe489-3cd2-446f-c66f-e8f726fe5a68"
   },
   "outputs": [
    {
     "data": {
      "image/png": "[encoded data removed]",
      "text/plain": [
       "<Figure size 576x396 with 2 Axes>"
      ]
     },
     "metadata": {
      "tags": []
     },
     "output_type": "display_data"
    }
   ],
   "source": [
    "colors = {\"f\": \"crimson\", \"m\": \"forestgreen\"}\n",
    "\n",
    "plt.suptitle(\"Scatter Plot\", fontsize = 20)\n",
    "\n",
    "plt.subplot2grid((1,2), (0,0))\n",
    "plt.scatter(x = 'height', y = 'weight', data = mydf)\n",
    "plt.xlabel(\"Height\")\n",
    "plt.ylabel(\"Weight\")\n",
    "plt.title(\"All Data\")\n",
    "\n",
    "plt.subplot2grid((1,2), (0,1))\n",
    "plt.scatter(x = 'height', y = 'weight', data = mydf, c = mydf.gender.map(colors))\n",
    "plt.xlabel(\"Height\")\n",
    "plt.ylabel(\"Weight\")\n",
    "plt.title(\"Gender color\")\n",
    "\n",
    "plt.tight_layout(rect = [0, 0, 1, 0.9])\n",
    "plt.show()"
   ]
  },
  {
   "cell_type": "markdown",
   "metadata": {
    "colab_type": "text",
    "id": "pFr4i6zq-_Nx"
   },
   "source": [
    "From the point of view of **association** we see that when the `height` increases, so does the `weight` which implies that there exists a positive association between the variables. We expect a positive covariance.\n",
    "\n",
    "From the point of view of **correlation**, since the points are rather align to a straight line, we expect a strong linear correlation, i.e. a positive value for $r$ and a mid/high value of $r^2$.\n",
    "\n",
    "From the point of view of **relationship** we see the points following a reasonable linear trend, so a description with the functional form of a straight line.\n",
    "\n",
    "Let's compute the values for the covariance and correlation matrices"
   ]
  },
  {
   "cell_type": "code",
   "execution_count": 0,
   "metadata": {
    "colab": {
     "base_uri": "https://localhost:8080/",
     "height": 112
    },
    "colab_type": "code",
    "executionInfo": {
     "elapsed": 546,
     "status": "ok",
     "timestamp": 1567353275808,
     "user": {
      "displayName": "Juan Jose Manjarin",
      "photoUrl": "",
      "userId": "04910883006985787828"
     },
     "user_tz": -120
    },
    "id": "jwYiW2L6h4MV",
    "outputId": "ccef8a95-6125-45b9-d685-e5a9044aed4c"
   },
   "outputs": [
    {
     "data": {
      "text/html": [
       "<div>\n",
       "<style scoped>\n",
       "    .dataframe tbody tr th:only-of-type {\n",
       "        vertical-align: middle;\n",
       "    }\n",
       "\n",
       "    .dataframe tbody tr th {\n",
       "        vertical-align: top;\n",
       "    }\n",
       "\n",
       "    .dataframe thead th {\n",
       "        text-align: right;\n",
       "    }\n",
       "</style>\n",
       "<table border=\"1\" class=\"dataframe\">\n",
       "  <thead>\n",
       "    <tr style=\"text-align: right;\">\n",
       "      <th></th>\n",
       "      <th>height</th>\n",
       "      <th>weight</th>\n",
       "    </tr>\n",
       "  </thead>\n",
       "  <tbody>\n",
       "    <tr>\n",
       "      <th>height</th>\n",
       "      <td>119.435897</td>\n",
       "      <td>162.532051</td>\n",
       "    </tr>\n",
       "    <tr>\n",
       "      <th>weight</th>\n",
       "      <td>162.532051</td>\n",
       "      <td>340.025641</td>\n",
       "    </tr>\n",
       "  </tbody>\n",
       "</table>\n",
       "</div>"
      ],
      "text/plain": [
       "            height      weight\n",
       "height  119.435897  162.532051\n",
       "weight  162.532051  340.025641"
      ]
     },
     "execution_count": 153,
     "metadata": {
      "tags": []
     },
     "output_type": "execute_result"
    }
   ],
   "source": [
    "mydf[[\"height\", \"weight\"]].cov()"
   ]
  },
  {
   "cell_type": "code",
   "execution_count": 0,
   "metadata": {
    "colab": {
     "base_uri": "https://localhost:8080/",
     "height": 112
    },
    "colab_type": "code",
    "executionInfo": {
     "elapsed": 584,
     "status": "ok",
     "timestamp": 1567353286956,
     "user": {
      "displayName": "Juan Jose Manjarin",
      "photoUrl": "",
      "userId": "04910883006985787828"
     },
     "user_tz": -120
    },
    "id": "-8c1orgYiQ9W",
    "outputId": "2fb63647-48e0-4065-88f9-0bdae2753dc2"
   },
   "outputs": [
    {
     "data": {
      "text/html": [
       "<div>\n",
       "<style scoped>\n",
       "    .dataframe tbody tr th:only-of-type {\n",
       "        vertical-align: middle;\n",
       "    }\n",
       "\n",
       "    .dataframe tbody tr th {\n",
       "        vertical-align: top;\n",
       "    }\n",
       "\n",
       "    .dataframe thead th {\n",
       "        text-align: right;\n",
       "    }\n",
       "</style>\n",
       "<table border=\"1\" class=\"dataframe\">\n",
       "  <thead>\n",
       "    <tr style=\"text-align: right;\">\n",
       "      <th></th>\n",
       "      <th>height</th>\n",
       "      <th>weight</th>\n",
       "    </tr>\n",
       "  </thead>\n",
       "  <tbody>\n",
       "    <tr>\n",
       "      <th>height</th>\n",
       "      <td>1.000000</td>\n",
       "      <td>0.806521</td>\n",
       "    </tr>\n",
       "    <tr>\n",
       "      <th>weight</th>\n",
       "      <td>0.806521</td>\n",
       "      <td>1.000000</td>\n",
       "    </tr>\n",
       "  </tbody>\n",
       "</table>\n",
       "</div>"
      ],
      "text/plain": [
       "          height    weight\n",
       "height  1.000000  0.806521\n",
       "weight  0.806521  1.000000"
      ]
     },
     "execution_count": 154,
     "metadata": {
      "tags": []
     },
     "output_type": "execute_result"
    }
   ],
   "source": [
    "mydf[[\"height\", \"weight\"]].corr()"
   ]
  },
  {
   "cell_type": "markdown",
   "metadata": {
    "colab_type": "text",
    "id": "IqbrEPcXiUju"
   },
   "source": [
    "as expected the values of covariance and correlation are in agreement with the explanations above: a linear correlation $r = 0.8065$ and $r^2 = 0.65$ are what we mentioned before"
   ]
  },
  {
   "cell_type": "markdown",
   "metadata": {
    "colab_type": "text",
    "id": "slp0clxY_csX"
   },
   "source": [
    "\n",
    "\n",
    "---\n",
    "\n"
   ]
  },
  {
   "cell_type": "markdown",
   "metadata": {
    "colab_type": "text",
    "id": "dTl9vEEl9pTs"
   },
   "source": [
    "2. **In the following chunk we are generating the data set of 150 families whose monthly expenditure on food is 344 euros with a standard deviation of 15 euros**\n",
    "\n",
    "```python\n",
    "from scipy.stats import norm\n",
    "mydf = pd.DataFrame({\"expend\": norm.rvs(344, 15, 150)})\n",
    "```\n",
    "**then**\n",
    "\n",
    "* **Make a histogram and a boxplot of the distribution**\n",
    "* **Give a summary of its main values**\n",
    "* **Which central tendency would you use to describe it? Why?**\n",
    "* **Which variability measure would you use to describe it? Why?**\n",
    "\n",
    "**Suppose that we add two new observations corresponding to two families whose expenditures are 550 and 760 respectively.**\n",
    "\n",
    "```python\n",
    "n_mydf = pd.DataFrame({\"expend\": np.append(mydf[\"expend\"], [550, 760])})\n",
    "```\n",
    "\n",
    "**Now**\n",
    "\n",
    "* **Make a histogram and a boxplot of the new distribution**\n",
    "* **Give a summary of its main values**\n",
    "* **Which central tendency would you use to describe it now? Why?**\n",
    "* **Which variability measure would you use to describe it now? Why?**"
   ]
  },
  {
   "cell_type": "code",
   "execution_count": 0,
   "metadata": {
    "colab": {},
    "colab_type": "code",
    "id": "8NP_i1aBjFT5"
   },
   "outputs": [],
   "source": [
    "from scipy.stats import norm\n",
    "mydf = pd.DataFrame({\"expend\": norm.rvs(344, 15, 150)})"
   ]
  },
  {
   "cell_type": "markdown",
   "metadata": {
    "colab_type": "text",
    "id": "xmfuucwrjKHW"
   },
   "source": [
    "Let's plot this distribution"
   ]
  },
  {
   "cell_type": "code",
   "execution_count": 0,
   "metadata": {
    "colab": {
     "base_uri": "https://localhost:8080/",
     "height": 369
    },
    "colab_type": "code",
    "executionInfo": {
     "elapsed": 1112,
     "status": "ok",
     "timestamp": 1567356188670,
     "user": {
      "displayName": "Juan Jose Manjarin",
      "photoUrl": "",
      "userId": "04910883006985787828"
     },
     "user_tz": -120
    },
    "id": "_OI4uDKvjL4T",
    "outputId": "66c53578-9659-43b9-bcef-627ecbcf54d6"
   },
   "outputs": [
    {
     "data": {
      "image/png": "[encoded data removed]",
      "text/plain": [
       "<Figure size 720x360 with 2 Axes>"
      ]
     },
     "metadata": {
      "tags": []
     },
     "output_type": "display_data"
    }
   ],
   "source": [
    "xrange = np.arange(300, 400, 0.01)\n",
    "mean = mydf[\"expend\"].mean()\n",
    "sd = mydf[\"expend\"].std()\n",
    "\n",
    "plt.figure(figsize = (10,5))\n",
    "\n",
    "plt.subplot(121)\n",
    "_ = plt.hist(mydf[\"expend\"], color = \"deepskyblue\", ec = \"midnightblue\", density = True)\n",
    "_ = plt.xlabel(\"Expenditure\")\n",
    "_ = plt.plot(xrange, norm.pdf(xrange, mean, sd), color = \"Black\", lw = 1)\n",
    "\n",
    "plt.subplot(122)\n",
    "plt.boxplot(mydf[\"expend\"],\n",
    "            patch_artist = True,\n",
    "            showmeans = True,\n",
    "            widths = 0.5,\n",
    "            whis = 1.5,\n",
    "            labels = [\"Expenditure\"],\n",
    "            boxprops = dict(facecolor = \"deepskyblue\"),\n",
    "            flierprops = dict(marker = 'o',\n",
    "                              markerfacecolor = 'midnightblue'))\n",
    "\n",
    "plt.tight_layout()\n",
    "plt.show()"
   ]
  },
  {
   "cell_type": "markdown",
   "metadata": {
    "colab_type": "text",
    "id": "QoJRxNn8l-Cm"
   },
   "source": [
    "We can use the `describe` function"
   ]
  },
  {
   "cell_type": "code",
   "execution_count": 0,
   "metadata": {
    "colab": {
     "base_uri": "https://localhost:8080/",
     "height": 300
    },
    "colab_type": "code",
    "executionInfo": {
     "elapsed": 629,
     "status": "ok",
     "timestamp": 1567356192491,
     "user": {
      "displayName": "Juan Jose Manjarin",
      "photoUrl": "",
      "userId": "04910883006985787828"
     },
     "user_tz": -120
    },
    "id": "Rxqk_omzmbxu",
    "outputId": "11535876-faea-4359-a387-ea1302b23af6"
   },
   "outputs": [
    {
     "data": {
      "text/html": [
       "<div>\n",
       "<style scoped>\n",
       "    .dataframe tbody tr th:only-of-type {\n",
       "        vertical-align: middle;\n",
       "    }\n",
       "\n",
       "    .dataframe tbody tr th {\n",
       "        vertical-align: top;\n",
       "    }\n",
       "\n",
       "    .dataframe thead th {\n",
       "        text-align: right;\n",
       "    }\n",
       "</style>\n",
       "<table border=\"1\" class=\"dataframe\">\n",
       "  <thead>\n",
       "    <tr style=\"text-align: right;\">\n",
       "      <th></th>\n",
       "      <th>expend</th>\n",
       "    </tr>\n",
       "  </thead>\n",
       "  <tbody>\n",
       "    <tr>\n",
       "      <th>count</th>\n",
       "      <td>150.000000</td>\n",
       "    </tr>\n",
       "    <tr>\n",
       "      <th>mean</th>\n",
       "      <td>344.335631</td>\n",
       "    </tr>\n",
       "    <tr>\n",
       "      <th>std</th>\n",
       "      <td>14.325906</td>\n",
       "    </tr>\n",
       "    <tr>\n",
       "      <th>min</th>\n",
       "      <td>313.993043</td>\n",
       "    </tr>\n",
       "    <tr>\n",
       "      <th>25%</th>\n",
       "      <td>333.812834</td>\n",
       "    </tr>\n",
       "    <tr>\n",
       "      <th>50%</th>\n",
       "      <td>345.428111</td>\n",
       "    </tr>\n",
       "    <tr>\n",
       "      <th>75%</th>\n",
       "      <td>353.990323</td>\n",
       "    </tr>\n",
       "    <tr>\n",
       "      <th>max</th>\n",
       "      <td>378.535522</td>\n",
       "    </tr>\n",
       "  </tbody>\n",
       "</table>\n",
       "</div>"
      ],
      "text/plain": [
       "           expend\n",
       "count  150.000000\n",
       "mean   344.335631\n",
       "std     14.325906\n",
       "min    313.993043\n",
       "25%    333.812834\n",
       "50%    345.428111\n",
       "75%    353.990323\n",
       "max    378.535522"
      ]
     },
     "execution_count": 222,
     "metadata": {
      "tags": []
     },
     "output_type": "execute_result"
    }
   ],
   "source": [
    "mydf.describe()"
   ]
  },
  {
   "cell_type": "markdown",
   "metadata": {
    "colab_type": "text",
    "id": "_UE_En7hm58L"
   },
   "source": [
    "or print our own complete set of values"
   ]
  },
  {
   "cell_type": "code",
   "execution_count": 0,
   "metadata": {
    "colab": {
     "base_uri": "https://localhost:8080/",
     "height": 202
    },
    "colab_type": "code",
    "executionInfo": {
     "elapsed": 734,
     "status": "ok",
     "timestamp": 1567356195451,
     "user": {
      "displayName": "Juan Jose Manjarin",
      "photoUrl": "",
      "userId": "04910883006985787828"
     },
     "user_tz": -120
    },
    "id": "BMAhanqml-OB",
    "outputId": "2158c1d1-4247-437b-b1f4-3d4467eb0f97"
   },
   "outputs": [
    {
     "name": "stdout",
     "output_type": "stream",
     "text": [
      "Mean:      344.34\n",
      "Median:    345.43\n",
      "St. Dev.:  14.33\n",
      "Q1:        333.81\n",
      "Q3:        353.99\n",
      "IQR:       20.18\n",
      "Skewness:  0.02\n",
      "Kurtosis:  -0.61\n",
      "Minimum:   313.99\n",
      "Maximum:   378.54\n"
     ]
    }
   ],
   "source": [
    "print(\"{:<10}\".format(\"Mean:\"), np.round(mydf[\"expend\"].mean(), 2))\n",
    "print(\"{:<10}\".format(\"Median:\"), np.round(mydf[\"expend\"].median(), 2))\n",
    "print(\"{:<10}\".format(\"St. Dev.:\"), np.round(mydf[\"expend\"].std(), 2))\n",
    "print(\"{:<10}\".format(\"Q1:\"), np.round(mydf[\"expend\"].quantile(0.25), 2))\n",
    "print(\"{:<10}\".format(\"Q3:\"), np.round(mydf[\"expend\"].quantile(0.75), 2))\n",
    "print(\"{:<10}\".format(\"IQR:\"), np.round(mydf[\"expend\"].quantile(0.75) - mydf[\"expend\"].quantile(0.25), 2))\n",
    "print(\"{:<10}\".format(\"Skewness:\"), np.round(mydf[\"expend\"].skew(), 2))\n",
    "print(\"{:<10}\".format(\"Kurtosis:\"), np.round(mydf[\"expend\"].kurt(), 2))\n",
    "print(\"{:<10}\".format(\"Minimum:\"), np.round(mydf[\"expend\"].min(), 2))\n",
    "print(\"{:<10}\".format(\"Maximum:\"), np.round(mydf[\"expend\"].max(), 2))"
   ]
  },
  {
   "cell_type": "markdown",
   "metadata": {
    "colab_type": "text",
    "id": "hxid0Jvtncnp"
   },
   "source": [
    "Since the distribution is rather symmetric (almost no skewness and in both graphs we can see it), we will use the **mean**. Now, since we use the mean, we will use the **standard deviation** which is the average distance to the mean.\n",
    "\n",
    "Let's now add the two observations"
   ]
  },
  {
   "cell_type": "code",
   "execution_count": 0,
   "metadata": {
    "colab": {
     "base_uri": "https://localhost:8080/",
     "height": 206
    },
    "colab_type": "code",
    "executionInfo": {
     "elapsed": 635,
     "status": "ok",
     "timestamp": 1567356213369,
     "user": {
      "displayName": "Juan Jose Manjarin",
      "photoUrl": "",
      "userId": "04910883006985787828"
     },
     "user_tz": -120
    },
    "id": "MnA1cZR2n4bx",
    "outputId": "8971ab2e-1125-49f5-fc42-0b3a181e2aff"
   },
   "outputs": [
    {
     "data": {
      "text/html": [
       "<div>\n",
       "<style scoped>\n",
       "    .dataframe tbody tr th:only-of-type {\n",
       "        vertical-align: middle;\n",
       "    }\n",
       "\n",
       "    .dataframe tbody tr th {\n",
       "        vertical-align: top;\n",
       "    }\n",
       "\n",
       "    .dataframe thead th {\n",
       "        text-align: right;\n",
       "    }\n",
       "</style>\n",
       "<table border=\"1\" class=\"dataframe\">\n",
       "  <thead>\n",
       "    <tr style=\"text-align: right;\">\n",
       "      <th></th>\n",
       "      <th>expend</th>\n",
       "    </tr>\n",
       "  </thead>\n",
       "  <tbody>\n",
       "    <tr>\n",
       "      <th>147</th>\n",
       "      <td>334.505629</td>\n",
       "    </tr>\n",
       "    <tr>\n",
       "      <th>148</th>\n",
       "      <td>364.500269</td>\n",
       "    </tr>\n",
       "    <tr>\n",
       "      <th>149</th>\n",
       "      <td>330.575090</td>\n",
       "    </tr>\n",
       "    <tr>\n",
       "      <th>150</th>\n",
       "      <td>550.000000</td>\n",
       "    </tr>\n",
       "    <tr>\n",
       "      <th>151</th>\n",
       "      <td>760.000000</td>\n",
       "    </tr>\n",
       "  </tbody>\n",
       "</table>\n",
       "</div>"
      ],
      "text/plain": [
       "         expend\n",
       "147  334.505629\n",
       "148  364.500269\n",
       "149  330.575090\n",
       "150  550.000000\n",
       "151  760.000000"
      ]
     },
     "execution_count": 225,
     "metadata": {
      "tags": []
     },
     "output_type": "execute_result"
    }
   ],
   "source": [
    "n_mydf = pd.DataFrame({\"expend\": np.append(mydf[\"expend\"], [550, 760])})\n",
    "n_mydf.tail()"
   ]
  },
  {
   "cell_type": "code",
   "execution_count": 0,
   "metadata": {
    "colab": {
     "base_uri": "https://localhost:8080/",
     "height": 369
    },
    "colab_type": "code",
    "executionInfo": {
     "elapsed": 1301,
     "status": "ok",
     "timestamp": 1567356311674,
     "user": {
      "displayName": "Juan Jose Manjarin",
      "photoUrl": "",
      "userId": "04910883006985787828"
     },
     "user_tz": -120
    },
    "id": "Ei4bp5FEpDhl",
    "outputId": "640fb528-ef9b-479e-edeb-3b557f22f725"
   },
   "outputs": [
    {
     "data": {
      "image/png": "[encoded data removed]",
      "text/plain": [
       "<Figure size 720x360 with 2 Axes>"
      ]
     },
     "metadata": {
      "tags": []
     },
     "output_type": "display_data"
    }
   ],
   "source": [
    "xRange = np.arange(300, 760, 0.01)\n",
    "n_mean = n_mydf[\"expend\"].mean()\n",
    "n_sd = n_mydf[\"expend\"].std()\n",
    "\n",
    "plt.figure(figsize = (10,5))\n",
    "\n",
    "plt.subplot(121)\n",
    "_ = plt.hist(n_mydf[\"expend\"], color = \"deepskyblue\", ec = \"midnightblue\", density = True, bins = 30)\n",
    "_ = plt.xlabel(\"Expenditure\")\n",
    "_ = plt.plot(xRange, norm.pdf(xRange, n_mean, n_sd), color = \"Black\", lw = 1)\n",
    "\n",
    "plt.subplot(122)\n",
    "plt.boxplot(n_mydf[\"expend\"],\n",
    "            patch_artist = True,\n",
    "            showmeans = True,\n",
    "            widths = 0.5,\n",
    "            whis = 1.5,\n",
    "            labels = [\"Expenditure\"],\n",
    "            boxprops = dict(facecolor = \"deepskyblue\"),\n",
    "            flierprops = dict(marker = 'o',\n",
    "                              markerfacecolor = 'midnightblue'))\n",
    "\n",
    "plt.tight_layout()\n",
    "plt.show()"
   ]
  },
  {
   "cell_type": "markdown",
   "metadata": {
    "colab_type": "text",
    "id": "jLyK5nJLt7B_"
   },
   "source": [
    "Now the description summary is"
   ]
  },
  {
   "cell_type": "code",
   "execution_count": 0,
   "metadata": {
    "colab": {
     "base_uri": "https://localhost:8080/",
     "height": 300
    },
    "colab_type": "code",
    "executionInfo": {
     "elapsed": 693,
     "status": "ok",
     "timestamp": 1567356354071,
     "user": {
      "displayName": "Juan Jose Manjarin",
      "photoUrl": "",
      "userId": "04910883006985787828"
     },
     "user_tz": -120
    },
    "id": "iSo4m-gCt9yL",
    "outputId": "fe2aa6e6-768b-4a8c-a09a-ef1529c01a33"
   },
   "outputs": [
    {
     "data": {
      "text/html": [
       "<div>\n",
       "<style scoped>\n",
       "    .dataframe tbody tr th:only-of-type {\n",
       "        vertical-align: middle;\n",
       "    }\n",
       "\n",
       "    .dataframe tbody tr th {\n",
       "        vertical-align: top;\n",
       "    }\n",
       "\n",
       "    .dataframe thead th {\n",
       "        text-align: right;\n",
       "    }\n",
       "</style>\n",
       "<table border=\"1\" class=\"dataframe\">\n",
       "  <thead>\n",
       "    <tr style=\"text-align: right;\">\n",
       "      <th></th>\n",
       "      <th>expend</th>\n",
       "    </tr>\n",
       "  </thead>\n",
       "  <tbody>\n",
       "    <tr>\n",
       "      <th>count</th>\n",
       "      <td>152.000000</td>\n",
       "    </tr>\n",
       "    <tr>\n",
       "      <th>mean</th>\n",
       "      <td>348.423320</td>\n",
       "    </tr>\n",
       "    <tr>\n",
       "      <th>std</th>\n",
       "      <td>40.125169</td>\n",
       "    </tr>\n",
       "    <tr>\n",
       "      <th>min</th>\n",
       "      <td>313.993043</td>\n",
       "    </tr>\n",
       "    <tr>\n",
       "      <th>25%</th>\n",
       "      <td>333.859692</td>\n",
       "    </tr>\n",
       "    <tr>\n",
       "      <th>50%</th>\n",
       "      <td>345.774157</td>\n",
       "    </tr>\n",
       "    <tr>\n",
       "      <th>75%</th>\n",
       "      <td>354.704692</td>\n",
       "    </tr>\n",
       "    <tr>\n",
       "      <th>max</th>\n",
       "      <td>760.000000</td>\n",
       "    </tr>\n",
       "  </tbody>\n",
       "</table>\n",
       "</div>"
      ],
      "text/plain": [
       "           expend\n",
       "count  152.000000\n",
       "mean   348.423320\n",
       "std     40.125169\n",
       "min    313.993043\n",
       "25%    333.859692\n",
       "50%    345.774157\n",
       "75%    354.704692\n",
       "max    760.000000"
      ]
     },
     "execution_count": 233,
     "metadata": {
      "tags": []
     },
     "output_type": "execute_result"
    }
   ],
   "source": [
    "n_mydf.describe()"
   ]
  },
  {
   "cell_type": "markdown",
   "metadata": {
    "colab_type": "text",
    "id": "UD67dJAnuA9L"
   },
   "source": [
    "and the full summary"
   ]
  },
  {
   "cell_type": "code",
   "execution_count": 0,
   "metadata": {
    "colab": {
     "base_uri": "https://localhost:8080/",
     "height": 202
    },
    "colab_type": "code",
    "executionInfo": {
     "elapsed": 731,
     "status": "ok",
     "timestamp": 1567356385708,
     "user": {
      "displayName": "Juan Jose Manjarin",
      "photoUrl": "",
      "userId": "04910883006985787828"
     },
     "user_tz": -120
    },
    "id": "kYM0vPMJuCdL",
    "outputId": "7f49557a-c693-465f-8090-1b11ab999746"
   },
   "outputs": [
    {
     "name": "stdout",
     "output_type": "stream",
     "text": [
      "Mean:      348.42\n",
      "Median:    345.77\n",
      "St. Dev.:  40.13\n",
      "Q1:        333.86\n",
      "Q3:        354.7\n",
      "IQR:       20.84\n",
      "Skewness:  8.05\n",
      "Kurtosis:  77.66\n",
      "Minimum:   313.99\n",
      "Maximum:   760.0\n"
     ]
    }
   ],
   "source": [
    "print(\"{:<10}\".format(\"Mean:\"), np.round(n_mydf[\"expend\"].mean(), 2))\n",
    "print(\"{:<10}\".format(\"Median:\"), np.round(n_mydf[\"expend\"].median(), 2))\n",
    "print(\"{:<10}\".format(\"St. Dev.:\"), np.round(n_mydf[\"expend\"].std(), 2))\n",
    "print(\"{:<10}\".format(\"Q1:\"), np.round(n_mydf[\"expend\"].quantile(0.25), 2))\n",
    "print(\"{:<10}\".format(\"Q3:\"), np.round(n_mydf[\"expend\"].quantile(0.75), 2))\n",
    "print(\"{:<10}\".format(\"IQR:\"), np.round(n_mydf[\"expend\"].quantile(0.75) - n_mydf[\"expend\"].quantile(0.25), 2))\n",
    "print(\"{:<10}\".format(\"Skewness:\"), np.round(n_mydf[\"expend\"].skew(), 2))\n",
    "print(\"{:<10}\".format(\"Kurtosis:\"), np.round(n_mydf[\"expend\"].kurt(), 2))\n",
    "print(\"{:<10}\".format(\"Minimum:\"), np.round(n_mydf[\"expend\"].min(), 2))\n",
    "print(\"{:<10}\".format(\"Maximum:\"), np.round(n_mydf[\"expend\"].max(), 2))"
   ]
  },
  {
   "cell_type": "markdown",
   "metadata": {
    "colab_type": "text",
    "id": "6oi6SGbOuP4X"
   },
   "source": [
    "Now both, the graphs and the summaries show that we have a right-skewed distribution in which the mean loses its meaning, then in this case the **median** is the central tendency measure to use. In agreement with this, we must use the **IQR** as variability measure"
   ]
  },
  {
   "cell_type": "markdown",
   "metadata": {
    "colab_type": "text",
    "id": "nIdBV73on4yM"
   },
   "source": [
    "\n",
    "\n",
    "---\n",
    "\n"
   ]
  },
  {
   "cell_type": "markdown",
   "metadata": {
    "colab_type": "text",
    "id": "eLFHe_crFIVH"
   },
   "source": [
    "3. **Tampa Voters**. **910 randomly sampled registered voters from Tampa, FL were asked if they thought workers who have illegally entered the US should be (i) allowed to keep their jobs and apply for US citizenship, (ii) allowed to keep their jobs as temporary guest workers but not allowed to apply for US citizenship, or (iii) lose their jobs and have to leave the country. The results of the survey by political ideology are shown below.**\n",
    "\n",
    "|  |\tConservative\t| Moderate\t| Liberal |\n",
    "|---|--| --| --|\n",
    "| Citizenship\t| 57\t| 120\t| 101 |\n",
    "| Guest |\t121\t| 113\t| 28 |\n",
    "| Leave\t| 179 |\t126 |\t45 |\n",
    "| None\t| 15\t| 4\t| 1|\n",
    "\n",
    "* **What percent of these Tampa, FL voters identify themselves as conservatives?**\n",
    "* **What percent of these Tampa, FL voters are in favor of the citizenship option?**\n",
    "* **What percent of these Tampa, FL voters identify themselves as conservatives and are in favor of the citizenship option?**\n",
    "* **What percent of these Tampa, FL voters who identify themselves as conservatives are in favor of the citizenship option? What percent of moderates and liberal share this view?**\n",
    "* **Do political ideology and views on immigration appear to be independent? Explain your reasoning.**"
   ]
  },
  {
   "cell_type": "markdown",
   "metadata": {
    "colab_type": "text",
    "id": "wUXUHaasu0Ep"
   },
   "source": [
    "\n",
    "\n",
    "---\n",
    "\n"
   ]
  },
  {
   "cell_type": "markdown",
   "metadata": {
    "colab_type": "text",
    "id": "KlcRgNvyFIYt"
   },
   "source": [
    "4.  **The monthly salaries (in hundreds of euros) in a company are given in the table below**\n",
    "\n",
    "||| Observations|||\n",
    "|--|--|--|--|--|\n",
    "| 12 | 12.5 | 15 | 15 | 15.4 | \n",
    "|17.5 |20| 19| 21| 12 |\n",
    "|13| 18| 16 |16| 14|\n",
    "|16.5| 27| 23| 12.5| 14.5|\n",
    "|15 |15 |17 |17| 21|\n",
    "\n",
    "* **Write it as a pandas dataframe**\n",
    "\n",
    "* **Find the mean, the mode, the median, standard deviation, skewness and kurtosis**\n",
    "\n",
    "* **Find all the quartiles $Q_1$, $Q_2$ and $Q_3$**\n",
    "\n",
    "* **Plot its histogram and boxplot. Describe them using the previous values (use annotations and lines in the plots to include the previous numeric information)**\n"
   ]
  },
  {
   "cell_type": "markdown",
   "metadata": {
    "colab_type": "text",
    "id": "Neg3hXstu8TD"
   },
   "source": [
    "\n",
    "\n",
    "---\n",
    "\n"
   ]
  },
  {
   "cell_type": "markdown",
   "metadata": {
    "colab_type": "text",
    "id": "zKTjh60TYAfz"
   },
   "source": [
    "5. **The owner of a shop wants to know if there is a correlation between those customers who buy given amounts of digital photo albums and those who buy the classical photo albums. The dataset they have collected can be described using the following arrays**\n",
    "\n",
    "```python\n",
    "ar1 = np.append(np.repeat(14,21), np.repeat(16,15))\n",
    "ar2 = np.append(np.append(np.repeat(30,12), np.repeat(40,9)), np.append(np.repeat(30,7), np.repeat(40,8)))\n",
    "\n",
    "```\n",
    "\n",
    "**where `ar1` is for the customers who both a digital version while `ar2` is for those who bought a classical one. Then**\n",
    "\n",
    "* **Find the contingency table for this dataset**\n",
    "* **Make a bar plot of the joint distribution**\n",
    "* **Find the covariance matrix**\n",
    "* **Find the correlation matrix**\n",
    "* **Explain the linear correlation coefficient in the context of the problem**"
   ]
  },
  {
   "cell_type": "code",
   "execution_count": 0,
   "metadata": {
    "colab": {},
    "colab_type": "code",
    "id": "fWafHIPyvUVO"
   },
   "outputs": [],
   "source": [
    "ar1 = np.append(np.repeat(14,21), np.repeat(16,15))\n",
    "ar2 = np.append(np.append(np.repeat(30,12), np.repeat(40,9)), np.append(np.repeat(30,7), np.repeat(40,8)))"
   ]
  },
  {
   "cell_type": "markdown",
   "metadata": {
    "colab_type": "text",
    "id": "8yJb3is-va8F"
   },
   "source": [
    "We are going to form a pandas dataframe"
   ]
  },
  {
   "cell_type": "code",
   "execution_count": 0,
   "metadata": {
    "colab": {
     "base_uri": "https://localhost:8080/",
     "height": 206
    },
    "colab_type": "code",
    "executionInfo": {
     "elapsed": 595,
     "status": "ok",
     "timestamp": 1567356844369,
     "user": {
      "displayName": "Juan Jose Manjarin",
      "photoUrl": "",
      "userId": "04910883006985787828"
     },
     "user_tz": -120
    },
    "id": "HacC2FsHvedA",
    "outputId": "7045168d-b355-4eac-d2c0-d693c3e51701"
   },
   "outputs": [
    {
     "data": {
      "text/html": [
       "<div>\n",
       "<style scoped>\n",
       "    .dataframe tbody tr th:only-of-type {\n",
       "        vertical-align: middle;\n",
       "    }\n",
       "\n",
       "    .dataframe tbody tr th {\n",
       "        vertical-align: top;\n",
       "    }\n",
       "\n",
       "    .dataframe thead th {\n",
       "        text-align: right;\n",
       "    }\n",
       "</style>\n",
       "<table border=\"1\" class=\"dataframe\">\n",
       "  <thead>\n",
       "    <tr style=\"text-align: right;\">\n",
       "      <th></th>\n",
       "      <th>digital</th>\n",
       "      <th>classical</th>\n",
       "    </tr>\n",
       "  </thead>\n",
       "  <tbody>\n",
       "    <tr>\n",
       "      <th>0</th>\n",
       "      <td>14</td>\n",
       "      <td>30</td>\n",
       "    </tr>\n",
       "    <tr>\n",
       "      <th>1</th>\n",
       "      <td>14</td>\n",
       "      <td>30</td>\n",
       "    </tr>\n",
       "    <tr>\n",
       "      <th>2</th>\n",
       "      <td>14</td>\n",
       "      <td>30</td>\n",
       "    </tr>\n",
       "    <tr>\n",
       "      <th>3</th>\n",
       "      <td>14</td>\n",
       "      <td>30</td>\n",
       "    </tr>\n",
       "    <tr>\n",
       "      <th>4</th>\n",
       "      <td>14</td>\n",
       "      <td>30</td>\n",
       "    </tr>\n",
       "  </tbody>\n",
       "</table>\n",
       "</div>"
      ],
      "text/plain": [
       "   digital  classical\n",
       "0       14         30\n",
       "1       14         30\n",
       "2       14         30\n",
       "3       14         30\n",
       "4       14         30"
      ]
     },
     "execution_count": 236,
     "metadata": {
      "tags": []
     },
     "output_type": "execute_result"
    }
   ],
   "source": [
    "mydf = pd.DataFrame({\"digital\": ar1, \"classical\": ar2})\n",
    "mydf.head()"
   ]
  },
  {
   "cell_type": "markdown",
   "metadata": {
    "colab_type": "text",
    "id": "JrJS6olnv49f"
   },
   "source": [
    "now the contingency table is"
   ]
  },
  {
   "cell_type": "code",
   "execution_count": 0,
   "metadata": {
    "colab": {
     "base_uri": "https://localhost:8080/",
     "height": 144
    },
    "colab_type": "code",
    "executionInfo": {
     "elapsed": 722,
     "status": "ok",
     "timestamp": 1567356909071,
     "user": {
      "displayName": "Juan Jose Manjarin",
      "photoUrl": "",
      "userId": "04910883006985787828"
     },
     "user_tz": -120
    },
    "id": "cLpK-7Ttv7V1",
    "outputId": "8d99481e-0261-48af-8d3e-7bd27b0be6e8"
   },
   "outputs": [
    {
     "data": {
      "text/html": [
       "<div>\n",
       "<style scoped>\n",
       "    .dataframe tbody tr th:only-of-type {\n",
       "        vertical-align: middle;\n",
       "    }\n",
       "\n",
       "    .dataframe tbody tr th {\n",
       "        vertical-align: top;\n",
       "    }\n",
       "\n",
       "    .dataframe thead th {\n",
       "        text-align: right;\n",
       "    }\n",
       "</style>\n",
       "<table border=\"1\" class=\"dataframe\">\n",
       "  <thead>\n",
       "    <tr style=\"text-align: right;\">\n",
       "      <th>digital</th>\n",
       "      <th>14</th>\n",
       "      <th>16</th>\n",
       "    </tr>\n",
       "    <tr>\n",
       "      <th>classical</th>\n",
       "      <th></th>\n",
       "      <th></th>\n",
       "    </tr>\n",
       "  </thead>\n",
       "  <tbody>\n",
       "    <tr>\n",
       "      <th>30</th>\n",
       "      <td>12</td>\n",
       "      <td>7</td>\n",
       "    </tr>\n",
       "    <tr>\n",
       "      <th>40</th>\n",
       "      <td>9</td>\n",
       "      <td>8</td>\n",
       "    </tr>\n",
       "  </tbody>\n",
       "</table>\n",
       "</div>"
      ],
      "text/plain": [
       "digital    14  16\n",
       "classical        \n",
       "30         12   7\n",
       "40          9   8"
      ]
     },
     "execution_count": 239,
     "metadata": {
      "tags": []
     },
     "output_type": "execute_result"
    }
   ],
   "source": [
    "pd.crosstab(mydf.classical, mydf.digital)"
   ]
  },
  {
   "cell_type": "markdown",
   "metadata": {
    "colab_type": "text",
    "id": "jCpg96KDwLOj"
   },
   "source": [
    "and its barplot simply"
   ]
  },
  {
   "cell_type": "code",
   "execution_count": 0,
   "metadata": {
    "colab": {
     "base_uri": "https://localhost:8080/",
     "height": 405
    },
    "colab_type": "code",
    "executionInfo": {
     "elapsed": 1052,
     "status": "ok",
     "timestamp": 1567357114748,
     "user": {
      "displayName": "Juan Jose Manjarin",
      "photoUrl": "",
      "userId": "04910883006985787828"
     },
     "user_tz": -120
    },
    "id": "cpMo6OW8wNWO",
    "outputId": "5f3ed9ba-9886-42ca-a43d-e7432f2d490c"
   },
   "outputs": [
    {
     "data": {
      "image/png": "[encoded data removed]",
      "text/plain": [
       "<Figure size 576x396 with 2 Axes>"
      ]
     },
     "metadata": {
      "tags": []
     },
     "output_type": "display_data"
    }
   ],
   "source": [
    "labels = [30, 40]\n",
    "\n",
    "fig, axes = plt.subplots(nrows=1, ncols=2)\n",
    "\n",
    "pd.crosstab(mydf.classical, mydf.digital).plot(kind = \"bar\", ax = axes[0])\n",
    "axes[0].set_xticklabels(labels, rotation = 0)\n",
    "axes[0].set_xlabel(\"Classical\")\n",
    "\n",
    "pd.crosstab(mydf.classical, mydf.digital).plot(kind = \"bar\", ax = axes[1], stacked = True)\n",
    "axes[1].set_xticklabels(labels, rotation = 0)\n",
    "axes[1].set_xlabel(\"Classical\")\n",
    "\n",
    "plt.tight_layout()\n",
    "plt.show()"
   ]
  },
  {
   "cell_type": "markdown",
   "metadata": {
    "colab_type": "text",
    "id": "MrOySG5Kw_Ji"
   },
   "source": [
    "To find the correlation and the covariance we do"
   ]
  },
  {
   "cell_type": "code",
   "execution_count": 0,
   "metadata": {
    "colab": {
     "base_uri": "https://localhost:8080/",
     "height": 112
    },
    "colab_type": "code",
    "executionInfo": {
     "elapsed": 675,
     "status": "ok",
     "timestamp": 1567357174186,
     "user": {
      "displayName": "Juan Jose Manjarin",
      "photoUrl": "",
      "userId": "04910883006985787828"
     },
     "user_tz": -120
    },
    "id": "l2n2lVsZxDCA",
    "outputId": "120c30d4-edea-44a5-c032-036f3c0533b8"
   },
   "outputs": [
    {
     "data": {
      "text/html": [
       "<div>\n",
       "<style scoped>\n",
       "    .dataframe tbody tr th:only-of-type {\n",
       "        vertical-align: middle;\n",
       "    }\n",
       "\n",
       "    .dataframe tbody tr th {\n",
       "        vertical-align: top;\n",
       "    }\n",
       "\n",
       "    .dataframe thead th {\n",
       "        text-align: right;\n",
       "    }\n",
       "</style>\n",
       "<table border=\"1\" class=\"dataframe\">\n",
       "  <thead>\n",
       "    <tr style=\"text-align: right;\">\n",
       "      <th></th>\n",
       "      <th>classical</th>\n",
       "      <th>digital</th>\n",
       "    </tr>\n",
       "  </thead>\n",
       "  <tbody>\n",
       "    <tr>\n",
       "      <th>classical</th>\n",
       "      <td>25.634921</td>\n",
       "      <td>0.52381</td>\n",
       "    </tr>\n",
       "    <tr>\n",
       "      <th>digital</th>\n",
       "      <td>0.523810</td>\n",
       "      <td>1.00000</td>\n",
       "    </tr>\n",
       "  </tbody>\n",
       "</table>\n",
       "</div>"
      ],
      "text/plain": [
       "           classical  digital\n",
       "classical  25.634921  0.52381\n",
       "digital     0.523810  1.00000"
      ]
     },
     "execution_count": 245,
     "metadata": {
      "tags": []
     },
     "output_type": "execute_result"
    }
   ],
   "source": [
    "mydf[[\"classical\", \"digital\"]].cov()"
   ]
  },
  {
   "cell_type": "markdown",
   "metadata": {
    "colab_type": "text",
    "id": "wHeWiRVFxLrM"
   },
   "source": [
    "and"
   ]
  },
  {
   "cell_type": "code",
   "execution_count": 0,
   "metadata": {
    "colab": {
     "base_uri": "https://localhost:8080/",
     "height": 112
    },
    "colab_type": "code",
    "executionInfo": {
     "elapsed": 548,
     "status": "ok",
     "timestamp": 1567357191123,
     "user": {
      "displayName": "Juan Jose Manjarin",
      "photoUrl": "",
      "userId": "04910883006985787828"
     },
     "user_tz": -120
    },
    "id": "BS3L_5mJxI_m",
    "outputId": "d69be793-8cfe-46ed-fe37-9682c620c7cc"
   },
   "outputs": [
    {
     "data": {
      "text/html": [
       "<div>\n",
       "<style scoped>\n",
       "    .dataframe tbody tr th:only-of-type {\n",
       "        vertical-align: middle;\n",
       "    }\n",
       "\n",
       "    .dataframe tbody tr th {\n",
       "        vertical-align: top;\n",
       "    }\n",
       "\n",
       "    .dataframe thead th {\n",
       "        text-align: right;\n",
       "    }\n",
       "</style>\n",
       "<table border=\"1\" class=\"dataframe\">\n",
       "  <thead>\n",
       "    <tr style=\"text-align: right;\">\n",
       "      <th></th>\n",
       "      <th>classical</th>\n",
       "      <th>digital</th>\n",
       "    </tr>\n",
       "  </thead>\n",
       "  <tbody>\n",
       "    <tr>\n",
       "      <th>classical</th>\n",
       "      <td>1.000000</td>\n",
       "      <td>0.103456</td>\n",
       "    </tr>\n",
       "    <tr>\n",
       "      <th>digital</th>\n",
       "      <td>0.103456</td>\n",
       "      <td>1.000000</td>\n",
       "    </tr>\n",
       "  </tbody>\n",
       "</table>\n",
       "</div>"
      ],
      "text/plain": [
       "           classical   digital\n",
       "classical   1.000000  0.103456\n",
       "digital     0.103456  1.000000"
      ]
     },
     "execution_count": 246,
     "metadata": {
      "tags": []
     },
     "output_type": "execute_result"
    }
   ],
   "source": [
    "mydf[[\"classical\", \"digital\"]].corr()"
   ]
  },
  {
   "cell_type": "markdown",
   "metadata": {
    "colab_type": "text",
    "id": "Hpzdai6fxOhj"
   },
   "source": [
    "from where we see a very low but positive linear correlation. This implies that there is almost none linear association. Of course this does not imply that there may be another type of relationship."
   ]
  },
  {
   "cell_type": "markdown",
   "metadata": {
    "colab_type": "text",
    "id": "pVmOungJvE0b"
   },
   "source": [
    "\n",
    "\n",
    "---\n",
    "\n"
   ]
  },
  {
   "cell_type": "markdown",
   "metadata": {
    "colab_type": "text",
    "id": "vpzQNgfnFIRa"
   },
   "source": [
    "6. **As the person in charge in a company, you have to evaluate whether or not the advertising campaings you have been developing along this year are truly useful. Considering the 10 shops you have in the corresponding 10 towns (all different), you have collected the data in the table below (all in 1K Euros)**\n",
    "\n",
    "| Town | Proﬁt | Investment |\n",
    "|------|-------|------------|\n",
    "|1 | 55.6 | 32.6 |\n",
    "|2 | 31.7 | 24.1 |\n",
    "|3 | 75.5 | 45.2 |\n",
    "|4 | 36.6 | 34.7 |\n",
    "|5 | 46.2 | 39.5 | \n",
    "|6 | 37.9 | 22.7 |\n",
    "|7 | 46.3 | 34.2 | \n",
    "|8 | 56.3 | 45.3 | \n",
    "|9 | 68.1 | 39.2 | \n",
    "|10| 54.2 | 38.1 |\n",
    "\n",
    "**ﬁnd:**\n",
    "\n",
    "* **The mean proﬁt and the mean investment and the corresponding standard deviations**\n",
    "\n",
    "* **The covariance and the correlation. Explain the meaning of their values.**\n",
    "\n",
    "* **Make a plot that contains the scatterplot and the histograms of both variables**\n",
    "\n",
    "* **As and advanced piece: can you plot in the histogram the regression line? (Annotate it with the equation values)**\n",
    " \n"
   ]
  },
  {
   "cell_type": "markdown",
   "metadata": {
    "colab_type": "text",
    "id": "GjT8vqGdvNC7"
   },
   "source": [
    "\n",
    "\n",
    "---\n",
    "\n"
   ]
  }
 ],
 "metadata": {
  "colab": {
   "collapsed_sections": [],
   "name": "Ex.1 .- Intro and EDA (solutions).ipynb",
   "provenance": [],
   "toc_visible": true
  },
  "kernelspec": {
   "display_name": "Python 3",
   "language": "python",
   "name": "python3"
  },
  "language_info": {
   "codemirror_mode": {
    "name": "ipython",
    "version": 3
   },
   "file_extension": ".py",
   "mimetype": "text/x-python",
   "name": "python",
   "nbconvert_exporter": "python",
   "pygments_lexer": "ipython3",
   "version": "3.8.10"
  }
 },
 "nbformat": 4,
 "nbformat_minor": 1
}
