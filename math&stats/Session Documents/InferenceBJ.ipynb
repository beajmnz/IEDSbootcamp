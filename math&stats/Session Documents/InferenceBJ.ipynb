{
 "cells": [
  {
   "cell_type": "code",
   "execution_count": 7,
   "metadata": {
    "executionInfo": {
     "elapsed": 476,
     "status": "ok",
     "timestamp": 1621517041458,
     "user": {
      "displayName": "Juan Jose Manjarin",
      "photoUrl": "https://lh3.googleusercontent.com/a-/AOh14GgROm1G9L6BfG7PCIlE0tJxJJ2QITgE4QN52iI2=s64",
      "userId": "04910883006985787828"
     },
     "user_tz": -120
    },
    "id": "1DADI5Jl8L6m"
   },
   "outputs": [],
   "source": [
    "# Base ------------------------\n",
    "import numpy as np\n",
    "import pandas as pd\n",
    "import scipy.stats as ss\n",
    "\n",
    "# Inference -------------------\n",
    "import statsmodels.stats.weightstats as smw"
   ]
  },
  {
   "cell_type": "code",
   "execution_count": 5,
   "metadata": {
    "colab": {
     "base_uri": "https://localhost:8080/"
    },
    "executionInfo": {
     "elapsed": 16145,
     "status": "ok",
     "timestamp": 1621517073339,
     "user": {
      "displayName": "Juan Jose Manjarin",
      "photoUrl": "https://lh3.googleusercontent.com/a-/AOh14GgROm1G9L6BfG7PCIlE0tJxJJ2QITgE4QN52iI2=s64",
      "userId": "04910883006985787828"
     },
     "user_tz": -120
    },
    "id": "WZ3CNunB8j1l",
    "outputId": "e803abd5-531a-4606-9557-f1a3741b73e5"
   },
   "outputs": [
    {
     "data": {
      "text/plain": [
       "'C:\\\\Users\\\\Bea\\\\Documents\\\\Python Scripts\\\\math&stats\\\\Session Documents'"
      ]
     },
     "execution_count": 5,
     "metadata": {},
     "output_type": "execute_result"
    }
   ],
   "source": [
    "pwd"
   ]
  },
  {
   "cell_type": "code",
   "execution_count": 8,
   "metadata": {
    "colab": {
     "base_uri": "https://localhost:8080/",
     "height": 206
    },
    "executionInfo": {
     "elapsed": 891,
     "status": "ok",
     "timestamp": 1621517108242,
     "user": {
      "displayName": "Juan Jose Manjarin",
      "photoUrl": "https://lh3.googleusercontent.com/a-/AOh14GgROm1G9L6BfG7PCIlE0tJxJJ2QITgE4QN52iI2=s64",
      "userId": "04910883006985787828"
     },
     "user_tz": -120
    },
    "id": "AFha2rUw80ht",
    "outputId": "d3a55a54-49b7-4b6a-e33b-921ca20c85bc"
   },
   "outputs": [
    {
     "data": {
      "text/html": [
       "<div>\n",
       "<style scoped>\n",
       "    .dataframe tbody tr th:only-of-type {\n",
       "        vertical-align: middle;\n",
       "    }\n",
       "\n",
       "    .dataframe tbody tr th {\n",
       "        vertical-align: top;\n",
       "    }\n",
       "\n",
       "    .dataframe thead th {\n",
       "        text-align: right;\n",
       "    }\n",
       "</style>\n",
       "<table border=\"1\" class=\"dataframe\">\n",
       "  <thead>\n",
       "    <tr style=\"text-align: right;\">\n",
       "      <th></th>\n",
       "      <th>ID</th>\n",
       "      <th>group</th>\n",
       "      <th>prewt</th>\n",
       "      <th>postwt</th>\n",
       "      <th>difwt</th>\n",
       "    </tr>\n",
       "  </thead>\n",
       "  <tbody>\n",
       "    <tr>\n",
       "      <th>0</th>\n",
       "      <td>101</td>\n",
       "      <td>1</td>\n",
       "      <td>80.5</td>\n",
       "      <td>82.2</td>\n",
       "      <td>1.7</td>\n",
       "    </tr>\n",
       "    <tr>\n",
       "      <th>1</th>\n",
       "      <td>201</td>\n",
       "      <td>2</td>\n",
       "      <td>80.7</td>\n",
       "      <td>80.2</td>\n",
       "      <td>-0.5</td>\n",
       "    </tr>\n",
       "    <tr>\n",
       "      <th>2</th>\n",
       "      <td>301</td>\n",
       "      <td>3</td>\n",
       "      <td>83.8</td>\n",
       "      <td>95.2</td>\n",
       "      <td>11.4</td>\n",
       "    </tr>\n",
       "    <tr>\n",
       "      <th>3</th>\n",
       "      <td>102</td>\n",
       "      <td>1</td>\n",
       "      <td>84.9</td>\n",
       "      <td>85.6</td>\n",
       "      <td>0.7</td>\n",
       "    </tr>\n",
       "    <tr>\n",
       "      <th>4</th>\n",
       "      <td>202</td>\n",
       "      <td>2</td>\n",
       "      <td>89.4</td>\n",
       "      <td>80.1</td>\n",
       "      <td>-9.3</td>\n",
       "    </tr>\n",
       "  </tbody>\n",
       "</table>\n",
       "</div>"
      ],
      "text/plain": [
       "    ID  group  prewt  postwt  difwt\n",
       "0  101      1   80.5    82.2    1.7\n",
       "1  201      2   80.7    80.2   -0.5\n",
       "2  301      3   83.8    95.2   11.4\n",
       "3  102      1   84.9    85.6    0.7\n",
       "4  202      2   89.4    80.1   -9.3"
      ]
     },
     "execution_count": 8,
     "metadata": {},
     "output_type": "execute_result"
    }
   ],
   "source": [
    "anorexia = pd.read_excel('../Data Sets/anorexia.xlsx')\n",
    "anorexia.head()"
   ]
  },
  {
   "cell_type": "markdown",
   "metadata": {
    "id": "LKGmA0EE89lr"
   },
   "source": [
    "**Find the 95% confidence interval of the difference in weight for all the treatments. Interpret it**"
   ]
  },
  {
   "cell_type": "code",
   "execution_count": 4,
   "metadata": {
    "colab": {
     "base_uri": "https://localhost:8080/"
    },
    "executionInfo": {
     "elapsed": 455,
     "status": "ok",
     "timestamp": 1621517523616,
     "user": {
      "displayName": "Juan Jose Manjarin",
      "photoUrl": "https://lh3.googleusercontent.com/a-/AOh14GgROm1G9L6BfG7PCIlE0tJxJJ2QITgE4QN52iI2=s64",
      "userId": "04910883006985787828"
     },
     "user_tz": -120
    },
    "id": "lEqwKXNx9FW8",
    "outputId": "d5f0fe25-3814-4939-b418-ba0be7ae224f"
   },
   "outputs": [
    {
     "name": "stdout",
     "output_type": "stream",
     "text": [
      "The 99.0% CI for the average difference in weight is [0.34,5.19]\n"
     ]
    }
   ],
   "source": [
    "# Data ------------------------------------\n",
    "n = anorexia.shape[0]\n",
    "SL = 0.01\n",
    "\n",
    "# Descritipve Stats object ----------------\n",
    "des = smw.DescrStatsW(anorexia['difwt'])\n",
    "\n",
    "# Confidence Interval ---------------------\n",
    "if n > 40:\n",
    "  low, up = des.zconfint_mean(SL)\n",
    "else:\n",
    "  low, up = des.tconfint_mean(SL)\n",
    "\n",
    "print(f'The {1-SL:4.1%} CI for the average difference in weight is [{low:4.2f},{up:4.2f}]')"
   ]
  },
  {
   "cell_type": "code",
   "execution_count": 5,
   "metadata": {},
   "outputs": [
    {
     "name": "stdout",
     "output_type": "stream",
     "text": [
      "-0.74 6.76\n"
     ]
    }
   ],
   "source": [
    "# Data ------------------------------------\n",
    "n1 = anorexia.loc[anorexia.group == 1,:].shape[0]\n",
    "SL1 = 0.01\n",
    "\n",
    "# Descritipve Stats object ----------------\n",
    "des = smw.DescrStatsW(anorexia.loc[anorexia.group == 1,'difwt'])\n",
    "\n",
    "# Confidence Interval ---------------------\n",
    "if n1 > 40:\n",
    "  low, up = des.zconfint_mean(SL1)\n",
    "else:\n",
    "  low, up = des.tconfint_mean(SL1)\n",
    "\n",
    "print(\"{:.2f}\".format(low),\"{:.2f}\".format(up))"
   ]
  },
  {
   "cell_type": "code",
   "execution_count": 6,
   "metadata": {},
   "outputs": [
    {
     "name": "stdout",
     "output_type": "stream",
     "text": [
      "-4.82 3.92\n"
     ]
    }
   ],
   "source": [
    "# Data ------------------------------------\n",
    "n2 = anorexia.loc[anorexia.group == 2,:].shape[0]\n",
    "SL2 = 0.01\n",
    "\n",
    "# Descritipve Stats object ----------------\n",
    "des = smw.DescrStatsW(anorexia.loc[anorexia.group == 2,'difwt'])\n",
    "\n",
    "# Confidence Interval ---------------------\n",
    "if n2 > 40:\n",
    "  low, up = des.zconfint_mean(SL2)\n",
    "else:\n",
    "  low, up = des.tconfint_mean(SL2)\n",
    "\n",
    "print(\"{:.2f}\".format(low),\"{:.2f}\".format(up))"
   ]
  },
  {
   "cell_type": "code",
   "execution_count": 7,
   "metadata": {},
   "outputs": [
    {
     "name": "stdout",
     "output_type": "stream",
     "text": [
      "2.19 12.33\n"
     ]
    }
   ],
   "source": [
    "# Data ------------------------------------\n",
    "n3 = anorexia.loc[anorexia.group == 3,:].shape[0]\n",
    "SL3 = 0.01\n",
    "\n",
    "# Descritipve Stats object ----------------\n",
    "des = smw.DescrStatsW(anorexia.loc[anorexia.group == 3,'difwt'])\n",
    "\n",
    "# Confidence Interval ---------------------\n",
    "if n3 > 40:\n",
    "  low, up = des.zconfint_mean(SL3)\n",
    "else:\n",
    "  low, up = des.tconfint_mean(SL3)\n",
    "\n",
    "print(\"{:.2f}\".format(low),\"{:.2f}\".format(up))"
   ]
  },
  {
   "cell_type": "markdown",
   "metadata": {},
   "source": [
    "Professor's solution:"
   ]
  },
  {
   "cell_type": "code",
   "execution_count": 8,
   "metadata": {},
   "outputs": [
    {
     "name": "stdout",
     "output_type": "stream",
     "text": [
      "The 99% CI for the average difference in weight in group 1 is [-0.74,6.76]\n",
      "The 99% CI for the average difference in weight in group 2 is [-4.82,3.92]\n",
      "The 99% CI for the average difference in weight in group 3 is [2.19,12.33]\n"
     ]
    }
   ],
   "source": [
    "SL = .01 # significance level\n",
    "groups = anorexia.group.unique()\n",
    "\n",
    "for group in groups:\n",
    "    # Descritipve Stats object ----------------\n",
    "    des = smw.DescrStatsW(anorexia.loc[anorexia.group == group,'difwt'])\n",
    "    n = anorexia.loc[anorexia.group == group,:].shape[0]\n",
    "\n",
    "    # Confidence Interval ---------------------\n",
    "    if n > 40:\n",
    "      low, up = des.zconfint_mean(SL)\n",
    "    else:\n",
    "      low, up = des.tconfint_mean(SL)\n",
    "    \n",
    "    print(f'The {1-SL:.0%} CI for the average difference in weight in group {group} is [{low:4.2f},{up:4.2f}]')"
   ]
  },
  {
   "cell_type": "markdown",
   "metadata": {},
   "source": [
    "\\begin{equation}\n",
    "H_0, \\quad H_1\n",
    "\\end{equation}"
   ]
  },
  {
   "cell_type": "markdown",
   "metadata": {},
   "source": [
    "**Test if for all the groups (separatedly) the average weight after the treatment is increased and then find the probability that if the increase (or decrease in the corresponding case) is of one unit, you may detect it from your sample.**"
   ]
  },
  {
   "cell_type": "code",
   "execution_count": 21,
   "metadata": {},
   "outputs": [
    {
     "name": "stdout",
     "output_type": "stream",
     "text": [
      "For group 1 : alpha: 5.00% p-value: 1.75%  reject H0\n",
      "For group 2 : alpha: 5.00% p-value: 61.18%  fail to reject H0\n",
      "For group 3 : alpha: 5.00% p-value: 0.04%  reject H0\n"
     ]
    }
   ],
   "source": [
    "mu0 = 0\n",
    "SL = .05\n",
    "groups = anorexia.group.unique()\n",
    "\n",
    "for group in groups:\n",
    "    # Descritipve Stats object ----------------\n",
    "    des = smw.DescrStatsW(anorexia.loc[anorexia.group == group,'difwt'])\n",
    "    n = anorexia.loc[anorexia.group == group,'difwt'].shape[0]\n",
    "\n",
    "    # Confidence Interval ---------------------\n",
    "    if n > 40:\n",
    "      zstat, pval = des.ztest_mean(mu0, alternative = 'larger')\n",
    "    else:\n",
    "      tstat, pval, dof = des.ttest_mean(mu0, alternative = 'larger')\n",
    "    \n",
    "    if pval < SL:\n",
    "      print(\"For group\",group,':',f'alpha: {SL:4.2%}',f'p-value: {pval:4.2%}',' reject H0')\n",
    "    else:\n",
    "      print(\"For group\",group,':',f'alpha: {SL:4.2%}',f'p-value: {pval:4.2%}',' fail to reject H0')"
   ]
  },
  {
   "cell_type": "code",
   "execution_count": 22,
   "metadata": {},
   "outputs": [
    {
     "name": "stdout",
     "output_type": "stream",
     "text": [
      "For group 1 the probability is 17.73%\n",
      "For group 2 the probability is 15.30%\n",
      "For group 3 the probability is 13.72%\n"
     ]
    }
   ],
   "source": [
    "from statsmodels.stats.power import TTestPower # There is no normal distribution here\n",
    "\n",
    "power = TTestPower()\n",
    "# Data ---------------------------\n",
    "SL = 0.05\n",
    "mu0 = 0\n",
    "mu1 = 1\n",
    "\n",
    "groups = anorexia.group.unique()\n",
    "\n",
    "for group in groups:\n",
    "    # Descritipve Stats object ----------------\n",
    "    std = anorexia.loc[anorexia.group == group,'difwt'].std()\n",
    "    n = anorexia.loc[anorexia.group == group,'difwt'].shape[0]\n",
    "   \n",
    "    # ------------------------\n",
    "    prob = power.solve_power(effect_size = (mu0-mu1)/std,\n",
    "                  nobs = n,\n",
    "                  alpha = SL,\n",
    "                  alternative = 'smaller')\n",
    "    print(\"For group\",group,'the probability is',\"{:.2%}\".format(prob))"
   ]
  },
  {
   "cell_type": "code",
   "execution_count": null,
   "metadata": {},
   "outputs": [],
   "source": []
  }
 ],
 "metadata": {
  "colab": {
   "authorship_tag": "ABX9TyPQQkxiQXVEN3H56jRUOnpb",
   "collapsed_sections": [],
   "name": "Inference.ipynb",
   "provenance": []
  },
  "kernelspec": {
   "display_name": "Python 3",
   "language": "python",
   "name": "python3"
  },
  "language_info": {
   "codemirror_mode": {
    "name": "ipython",
    "version": 3
   },
   "file_extension": ".py",
   "mimetype": "text/x-python",
   "name": "python",
   "nbconvert_exporter": "python",
   "pygments_lexer": "ipython3",
   "version": "3.8.10"
  }
 },
 "nbformat": 4,
 "nbformat_minor": 1
}
