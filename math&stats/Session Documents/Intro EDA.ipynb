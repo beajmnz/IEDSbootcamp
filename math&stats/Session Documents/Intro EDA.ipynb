{
 "cells": [
  {
   "cell_type": "code",
   "execution_count": 1,
   "metadata": {
    "executionInfo": {
     "elapsed": 959,
     "status": "ok",
     "timestamp": 1620828847655,
     "user": {
      "displayName": "Juan Jose Manjarin",
      "photoUrl": "https://lh3.googleusercontent.com/a-/AOh14GgROm1G9L6BfG7PCIlE0tJxJJ2QITgE4QN52iI2=s64",
      "userId": "04910883006985787828"
     },
     "user_tz": -120
    },
    "id": "QKrmCrNk6skM"
   },
   "outputs": [],
   "source": [
    "# Base -----------------------------------\n",
    "import numpy as np\n",
    "import pandas as pd\n",
    "\n",
    "# Viz ------------------------------------\n",
    "import matplotlib.pyplot as plt\n",
    "plt.style.use('seaborn')"
   ]
  },
  {
   "cell_type": "code",
   "execution_count": 2,
   "metadata": {
    "colab": {
     "base_uri": "https://localhost:8080/"
    },
    "executionInfo": {
     "elapsed": 24829,
     "status": "ok",
     "timestamp": 1620828932426,
     "user": {
      "displayName": "Juan Jose Manjarin",
      "photoUrl": "https://lh3.googleusercontent.com/a-/AOh14GgROm1G9L6BfG7PCIlE0tJxJJ2QITgE4QN52iI2=s64",
      "userId": "04910883006985787828"
     },
     "user_tz": -120
    },
    "id": "UYFkZNbv7dfs",
    "outputId": "64f19fe6-56f0-4e1b-9498-96f0291153a9"
   },
   "outputs": [
    {
     "name": "stdout",
     "output_type": "stream",
     "text": [
      "Mounted at IEXL\n"
     ]
    }
   ],
   "source": [
    "from google.colab import drive\n",
    "drive.mount('IEXL')"
   ]
  },
  {
   "cell_type": "code",
   "execution_count": 5,
   "metadata": {
    "colab": {
     "base_uri": "https://localhost:8080/",
     "height": 206
    },
    "executionInfo": {
     "elapsed": 551,
     "status": "ok",
     "timestamp": 1620829047554,
     "user": {
      "displayName": "Juan Jose Manjarin",
      "photoUrl": "https://lh3.googleusercontent.com/a-/AOh14GgROm1G9L6BfG7PCIlE0tJxJJ2QITgE4QN52iI2=s64",
      "userId": "04910883006985787828"
     },
     "user_tz": -120
    },
    "id": "ZxQ2m6VR7629",
    "outputId": "b1aa5dcd-3454-44f8-cab4-06697b23e2b8"
   },
   "outputs": [
    {
     "data": {
      "text/html": [
       "<div>\n",
       "<style scoped>\n",
       "    .dataframe tbody tr th:only-of-type {\n",
       "        vertical-align: middle;\n",
       "    }\n",
       "\n",
       "    .dataframe tbody tr th {\n",
       "        vertical-align: top;\n",
       "    }\n",
       "\n",
       "    .dataframe thead th {\n",
       "        text-align: right;\n",
       "    }\n",
       "</style>\n",
       "<table border=\"1\" class=\"dataframe\">\n",
       "  <thead>\n",
       "    <tr style=\"text-align: right;\">\n",
       "      <th></th>\n",
       "      <th>score</th>\n",
       "      <th>fatheriq</th>\n",
       "      <th>motheriq</th>\n",
       "      <th>speak</th>\n",
       "      <th>count</th>\n",
       "      <th>read</th>\n",
       "      <th>edutv</th>\n",
       "      <th>cartoons</th>\n",
       "    </tr>\n",
       "  </thead>\n",
       "  <tbody>\n",
       "    <tr>\n",
       "      <th>0</th>\n",
       "      <td>159</td>\n",
       "      <td>115</td>\n",
       "      <td>117</td>\n",
       "      <td>18</td>\n",
       "      <td>26</td>\n",
       "      <td>1.9</td>\n",
       "      <td>3.00</td>\n",
       "      <td>2.00</td>\n",
       "    </tr>\n",
       "    <tr>\n",
       "      <th>1</th>\n",
       "      <td>164</td>\n",
       "      <td>117</td>\n",
       "      <td>113</td>\n",
       "      <td>20</td>\n",
       "      <td>37</td>\n",
       "      <td>2.5</td>\n",
       "      <td>1.75</td>\n",
       "      <td>3.25</td>\n",
       "    </tr>\n",
       "    <tr>\n",
       "      <th>2</th>\n",
       "      <td>154</td>\n",
       "      <td>115</td>\n",
       "      <td>118</td>\n",
       "      <td>20</td>\n",
       "      <td>32</td>\n",
       "      <td>2.2</td>\n",
       "      <td>2.75</td>\n",
       "      <td>2.50</td>\n",
       "    </tr>\n",
       "    <tr>\n",
       "      <th>3</th>\n",
       "      <td>157</td>\n",
       "      <td>113</td>\n",
       "      <td>131</td>\n",
       "      <td>12</td>\n",
       "      <td>24</td>\n",
       "      <td>1.7</td>\n",
       "      <td>2.75</td>\n",
       "      <td>2.25</td>\n",
       "    </tr>\n",
       "    <tr>\n",
       "      <th>4</th>\n",
       "      <td>156</td>\n",
       "      <td>110</td>\n",
       "      <td>109</td>\n",
       "      <td>17</td>\n",
       "      <td>34</td>\n",
       "      <td>2.2</td>\n",
       "      <td>2.25</td>\n",
       "      <td>2.50</td>\n",
       "    </tr>\n",
       "  </tbody>\n",
       "</table>\n",
       "</div>"
      ],
      "text/plain": [
       "   score  fatheriq  motheriq  speak  count  read  edutv  cartoons\n",
       "0    159       115       117     18     26   1.9   3.00      2.00\n",
       "1    164       117       113     20     37   2.5   1.75      3.25\n",
       "2    154       115       118     20     32   2.2   2.75      2.50\n",
       "3    157       113       131     12     24   1.7   2.75      2.25\n",
       "4    156       110       109     17     34   2.2   2.25      2.50"
      ]
     },
     "execution_count": 5,
     "metadata": {
      "tags": []
     },
     "output_type": "execute_result"
    }
   ],
   "source": [
    "gifted = pd.read_csv('/content/IEXL/MyDrive/IEXL - Bootcamp - Math&Stats/Data Sets/gifted.csv')\n",
    "gifted.head(5)"
   ]
  },
  {
   "cell_type": "code",
   "execution_count": 15,
   "metadata": {
    "executionInfo": {
     "elapsed": 556,
     "status": "ok",
     "timestamp": 1620829430675,
     "user": {
      "displayName": "Juan Jose Manjarin",
      "photoUrl": "https://lh3.googleusercontent.com/a-/AOh14GgROm1G9L6BfG7PCIlE0tJxJJ2QITgE4QN52iI2=s64",
      "userId": "04910883006985787828"
     },
     "user_tz": -120
    },
    "id": "qKf1cvqN8d99"
   },
   "outputs": [],
   "source": [
    "mean = gifted['score'].mean()\n",
    "median = gifted['score'].median()\n",
    "mode = gifted['score'].mode()\n",
    "stdev = gifted['score'].std()\n",
    "ske = gifted['score'].skew()\n",
    "kur = gifted['score'].kurt()"
   ]
  },
  {
   "cell_type": "code",
   "execution_count": 22,
   "metadata": {
    "colab": {
     "base_uri": "https://localhost:8080/"
    },
    "executionInfo": {
     "elapsed": 527,
     "status": "ok",
     "timestamp": 1620829617990,
     "user": {
      "displayName": "Juan Jose Manjarin",
      "photoUrl": "https://lh3.googleusercontent.com/a-/AOh14GgROm1G9L6BfG7PCIlE0tJxJJ2QITgE4QN52iI2=s64",
      "userId": "04910883006985787828"
     },
     "user_tz": -120
    },
    "id": "YDXxvQoj9nc6",
    "outputId": "2e98e7cb-a546-415e-925e-0b62fd36b00b"
   },
   "outputs": [
    {
     "name": "stdout",
     "output_type": "stream",
     "text": [
      "CENTRAL TENDENCY\n",
      "--------------------\n",
      "Mean:               159.14\n"
     ]
    }
   ],
   "source": [
    "print('CENTRAL TENDENCY')\n",
    "print('-'*20)\n",
    "print(f'Mean: {mean:20.2f}')"
   ]
  },
  {
   "cell_type": "code",
   "execution_count": 23,
   "metadata": {
    "colab": {
     "base_uri": "https://localhost:8080/"
    },
    "executionInfo": {
     "elapsed": 749,
     "status": "ok",
     "timestamp": 1620829801322,
     "user": {
      "displayName": "Juan Jose Manjarin",
      "photoUrl": "https://lh3.googleusercontent.com/a-/AOh14GgROm1G9L6BfG7PCIlE0tJxJJ2QITgE4QN52iI2=s64",
      "userId": "04910883006985787828"
     },
     "user_tz": -120
    },
    "id": "luZtp_-_-B6C",
    "outputId": "df8fa79f-ef9f-4685-964f-92a913cbf768"
   },
   "outputs": [
    {
     "data": {
      "text/plain": [
       "count    36.000000\n",
       "mean     18.000000\n",
       "std       3.224903\n",
       "min      10.000000\n",
       "25%      17.000000\n",
       "50%      18.000000\n",
       "75%      20.000000\n",
       "max      23.000000\n",
       "Name: speak, dtype: float64"
      ]
     },
     "execution_count": 23,
     "metadata": {
      "tags": []
     },
     "output_type": "execute_result"
    }
   ],
   "source": [
    "gifted['speak'].describe()"
   ]
  },
  {
   "cell_type": "code",
   "execution_count": 24,
   "metadata": {
    "colab": {
     "base_uri": "https://localhost:8080/",
     "height": 206
    },
    "executionInfo": {
     "elapsed": 890,
     "status": "ok",
     "timestamp": 1620829825327,
     "user": {
      "displayName": "Juan Jose Manjarin",
      "photoUrl": "https://lh3.googleusercontent.com/a-/AOh14GgROm1G9L6BfG7PCIlE0tJxJJ2QITgE4QN52iI2=s64",
      "userId": "04910883006985787828"
     },
     "user_tz": -120
    },
    "id": "lw2vOfyq-dZl",
    "outputId": "e29eebce-fdae-4a1e-f5bd-a64449d9dd81"
   },
   "outputs": [
    {
     "data": {
      "text/html": [
       "<div>\n",
       "<style scoped>\n",
       "    .dataframe tbody tr th:only-of-type {\n",
       "        vertical-align: middle;\n",
       "    }\n",
       "\n",
       "    .dataframe tbody tr th {\n",
       "        vertical-align: top;\n",
       "    }\n",
       "\n",
       "    .dataframe thead th {\n",
       "        text-align: right;\n",
       "    }\n",
       "</style>\n",
       "<table border=\"1\" class=\"dataframe\">\n",
       "  <thead>\n",
       "    <tr style=\"text-align: right;\">\n",
       "      <th></th>\n",
       "      <th>score</th>\n",
       "      <th>fatheriq</th>\n",
       "      <th>motheriq</th>\n",
       "      <th>speak</th>\n",
       "      <th>count</th>\n",
       "      <th>read</th>\n",
       "      <th>edutv</th>\n",
       "      <th>cartoons</th>\n",
       "      <th>cat_speak</th>\n",
       "    </tr>\n",
       "  </thead>\n",
       "  <tbody>\n",
       "    <tr>\n",
       "      <th>0</th>\n",
       "      <td>159</td>\n",
       "      <td>115</td>\n",
       "      <td>117</td>\n",
       "      <td>18</td>\n",
       "      <td>26</td>\n",
       "      <td>1.9</td>\n",
       "      <td>3.00</td>\n",
       "      <td>2.00</td>\n",
       "      <td>long</td>\n",
       "    </tr>\n",
       "    <tr>\n",
       "      <th>1</th>\n",
       "      <td>164</td>\n",
       "      <td>117</td>\n",
       "      <td>113</td>\n",
       "      <td>20</td>\n",
       "      <td>37</td>\n",
       "      <td>2.5</td>\n",
       "      <td>1.75</td>\n",
       "      <td>3.25</td>\n",
       "      <td>long</td>\n",
       "    </tr>\n",
       "    <tr>\n",
       "      <th>2</th>\n",
       "      <td>154</td>\n",
       "      <td>115</td>\n",
       "      <td>118</td>\n",
       "      <td>20</td>\n",
       "      <td>32</td>\n",
       "      <td>2.2</td>\n",
       "      <td>2.75</td>\n",
       "      <td>2.50</td>\n",
       "      <td>long</td>\n",
       "    </tr>\n",
       "    <tr>\n",
       "      <th>3</th>\n",
       "      <td>157</td>\n",
       "      <td>113</td>\n",
       "      <td>131</td>\n",
       "      <td>12</td>\n",
       "      <td>24</td>\n",
       "      <td>1.7</td>\n",
       "      <td>2.75</td>\n",
       "      <td>2.25</td>\n",
       "      <td>short</td>\n",
       "    </tr>\n",
       "    <tr>\n",
       "      <th>4</th>\n",
       "      <td>156</td>\n",
       "      <td>110</td>\n",
       "      <td>109</td>\n",
       "      <td>17</td>\n",
       "      <td>34</td>\n",
       "      <td>2.2</td>\n",
       "      <td>2.25</td>\n",
       "      <td>2.50</td>\n",
       "      <td>short</td>\n",
       "    </tr>\n",
       "  </tbody>\n",
       "</table>\n",
       "</div>"
      ],
      "text/plain": [
       "   score  fatheriq  motheriq  speak  count  read  edutv  cartoons cat_speak\n",
       "0    159       115       117     18     26   1.9   3.00      2.00      long\n",
       "1    164       117       113     20     37   2.5   1.75      3.25      long\n",
       "2    154       115       118     20     32   2.2   2.75      2.50      long\n",
       "3    157       113       131     12     24   1.7   2.75      2.25     short\n",
       "4    156       110       109     17     34   2.2   2.25      2.50     short"
      ]
     },
     "execution_count": 24,
     "metadata": {
      "tags": []
     },
     "output_type": "execute_result"
    }
   ],
   "source": [
    "# Create a categorical Variable np.where(cond, True, False)\n",
    "gifted['cat_speak'] = np.where( gifted['speak'] >= 18, 'long', 'short')\n",
    "gifted.head()"
   ]
  },
  {
   "cell_type": "code",
   "execution_count": 27,
   "metadata": {
    "colab": {
     "base_uri": "https://localhost:8080/",
     "height": 175
    },
    "executionInfo": {
     "elapsed": 525,
     "status": "ok",
     "timestamp": 1620829904804,
     "user": {
      "displayName": "Juan Jose Manjarin",
      "photoUrl": "https://lh3.googleusercontent.com/a-/AOh14GgROm1G9L6BfG7PCIlE0tJxJJ2QITgE4QN52iI2=s64",
      "userId": "04910883006985787828"
     },
     "user_tz": -120
    },
    "id": "9siYsNX-_K1Q",
    "outputId": "c602aa7c-08b8-41e9-9c02-ba44f667559d"
   },
   "outputs": [
    {
     "data": {
      "text/html": [
       "<div>\n",
       "<style scoped>\n",
       "    .dataframe tbody tr th:only-of-type {\n",
       "        vertical-align: middle;\n",
       "    }\n",
       "\n",
       "    .dataframe tbody tr th {\n",
       "        vertical-align: top;\n",
       "    }\n",
       "\n",
       "    .dataframe thead tr th {\n",
       "        text-align: left;\n",
       "    }\n",
       "\n",
       "    .dataframe thead tr:last-of-type th {\n",
       "        text-align: right;\n",
       "    }\n",
       "</style>\n",
       "<table border=\"1\" class=\"dataframe\">\n",
       "  <thead>\n",
       "    <tr>\n",
       "      <th></th>\n",
       "      <th colspan=\"8\" halign=\"left\">fatheriq</th>\n",
       "    </tr>\n",
       "    <tr>\n",
       "      <th></th>\n",
       "      <th>count</th>\n",
       "      <th>mean</th>\n",
       "      <th>std</th>\n",
       "      <th>min</th>\n",
       "      <th>25%</th>\n",
       "      <th>50%</th>\n",
       "      <th>75%</th>\n",
       "      <th>max</th>\n",
       "    </tr>\n",
       "    <tr>\n",
       "      <th>cat_speak</th>\n",
       "      <th></th>\n",
       "      <th></th>\n",
       "      <th></th>\n",
       "      <th></th>\n",
       "      <th></th>\n",
       "      <th></th>\n",
       "      <th></th>\n",
       "      <th></th>\n",
       "    </tr>\n",
       "  </thead>\n",
       "  <tbody>\n",
       "    <tr>\n",
       "      <th>long</th>\n",
       "      <td>23.0</td>\n",
       "      <td>115.043478</td>\n",
       "      <td>3.211885</td>\n",
       "      <td>111.0</td>\n",
       "      <td>112.0</td>\n",
       "      <td>115.0</td>\n",
       "      <td>117.0</td>\n",
       "      <td>122.0</td>\n",
       "    </tr>\n",
       "    <tr>\n",
       "      <th>short</th>\n",
       "      <td>13.0</td>\n",
       "      <td>114.307692</td>\n",
       "      <td>4.008005</td>\n",
       "      <td>110.0</td>\n",
       "      <td>112.0</td>\n",
       "      <td>114.0</td>\n",
       "      <td>115.0</td>\n",
       "      <td>126.0</td>\n",
       "    </tr>\n",
       "  </tbody>\n",
       "</table>\n",
       "</div>"
      ],
      "text/plain": [
       "          fatheriq                                                         \n",
       "             count        mean       std    min    25%    50%    75%    max\n",
       "cat_speak                                                                  \n",
       "long          23.0  115.043478  3.211885  111.0  112.0  115.0  117.0  122.0\n",
       "short         13.0  114.307692  4.008005  110.0  112.0  114.0  115.0  126.0"
      ]
     },
     "execution_count": 27,
     "metadata": {
      "tags": []
     },
     "output_type": "execute_result"
    }
   ],
   "source": [
    "gifted[['cat_speak', 'fatheriq']].groupby('cat_speak').describe()"
   ]
  }
 ],
 "metadata": {
  "colab": {
   "authorship_tag": "ABX9TyMdOcUS943SHP/V0Pajfg09",
   "collapsed_sections": [],
   "name": "Intro EDA.ipynb",
   "provenance": []
  },
  "kernelspec": {
   "display_name": "Python 3",
   "language": "python",
   "name": "python3"
  },
  "language_info": {
   "codemirror_mode": {
    "name": "ipython",
    "version": 3
   },
   "file_extension": ".py",
   "mimetype": "text/x-python",
   "name": "python",
   "nbconvert_exporter": "python",
   "pygments_lexer": "ipython3",
   "version": "3.8.10"
  }
 },
 "nbformat": 4,
 "nbformat_minor": 1
}
