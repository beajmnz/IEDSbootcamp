{
 "cells": [
  {
   "cell_type": "markdown",
   "metadata": {},
   "source": [
    "# <font color = \"Blue\"> Bootcamp PreWork </font>\n",
    "**Math & Stats**\n",
    "**2020, Sep.**\n",
    "\n",
    "In Python we need to load a set of basic modules"
   ]
  },
  {
   "cell_type": "code",
   "execution_count": 1,
   "metadata": {},
   "outputs": [],
   "source": [
    "import pandas as pd\n",
    "import numpy as np\n",
    "import matplotlib.pyplot as plt\n",
    "import scipy.stats as ss\n",
    "\n",
    "plt.style.use('seaborn')"
   ]
  },
  {
   "cell_type": "markdown",
   "metadata": {},
   "source": [
    "Then we create a pandas DataFrame using the constructor as"
   ]
  },
  {
   "cell_type": "code",
   "execution_count": 2,
   "metadata": {},
   "outputs": [
    {
     "data": {
      "text/html": [
       "<div>\n",
       "<style scoped>\n",
       "    .dataframe tbody tr th:only-of-type {\n",
       "        vertical-align: middle;\n",
       "    }\n",
       "\n",
       "    .dataframe tbody tr th {\n",
       "        vertical-align: top;\n",
       "    }\n",
       "\n",
       "    .dataframe thead th {\n",
       "        text-align: right;\n",
       "    }\n",
       "</style>\n",
       "<table border=\"1\" class=\"dataframe\">\n",
       "  <thead>\n",
       "    <tr style=\"text-align: right;\">\n",
       "      <th></th>\n",
       "      <th>values</th>\n",
       "    </tr>\n",
       "  </thead>\n",
       "  <tbody>\n",
       "    <tr>\n",
       "      <th>0</th>\n",
       "      <td>6</td>\n",
       "    </tr>\n",
       "    <tr>\n",
       "      <th>1</th>\n",
       "      <td>20</td>\n",
       "    </tr>\n",
       "    <tr>\n",
       "      <th>2</th>\n",
       "      <td>28</td>\n",
       "    </tr>\n",
       "    <tr>\n",
       "      <th>3</th>\n",
       "      <td>16</td>\n",
       "    </tr>\n",
       "    <tr>\n",
       "      <th>4</th>\n",
       "      <td>16</td>\n",
       "    </tr>\n",
       "  </tbody>\n",
       "</table>\n",
       "</div>"
      ],
      "text/plain": [
       "   values\n",
       "0       6\n",
       "1      20\n",
       "2      28\n",
       "3      16\n",
       "4      16"
      ]
     },
     "execution_count": 2,
     "metadata": {},
     "output_type": "execute_result"
    }
   ],
   "source": [
    "mydf = pd.DataFrame({'values': [6, 20, 28, 16, 16, 17, 1, 17, 11, 13, 7, 13, 16, \n",
    "                                8, 10, 9, 4, 9, 6, 13, 11, 12, 10, 3, 12, 19, 10, \n",
    "                                15, 11, 11, 17, 20, 8, 6, 3, 20, 19, 3, 19, 20]})\n",
    "mydf.head()"
   ]
  },
  {
   "cell_type": "markdown",
   "metadata": {},
   "source": [
    "The quantities needed to perform a basic EDA can be found using the methods of the DataFrame structure. See, however, that we have used `ss.iqr()` instead of the `quantile()` method of pandas just because it is a single function"
   ]
  },
  {
   "cell_type": "code",
   "execution_count": 3,
   "metadata": {
    "scrolled": true
   },
   "outputs": [
    {
     "name": "stdout",
     "output_type": "stream",
     "text": [
      "CENTRAL TENDENCY MEASURES\n",
      " Mean:                12.22\n",
      " Median:              11.5\n",
      " Mode:                [11, 20] \n",
      "\n",
      " VARIABILITY MEASURES\n",
      " Standard Deviation:  6.032\n",
      " IQR:                 9.0 \n",
      "\n",
      " SHAPE MEASURES\n",
      " Skewness:            0.2212\n",
      " Kurtosis:            -0.2301\n",
      "\n"
     ]
    }
   ],
   "source": [
    "mean = mydf['values'].mean()\n",
    "median = mydf['values'].median()\n",
    "mode = mydf['values'].mode()\n",
    "sd = mydf['values'].std()\n",
    "iqr = ss.iqr(mydf['values'])\n",
    "skew = mydf['values'].skew()\n",
    "kurto = mydf['values'].kurt()\n",
    "\n",
    "print('CENTRAL TENDENCY MEASURES\\n',\n",
    "     '{:<20}'.format('Mean:'), '{:<4.4}\\n'.format(mean),\n",
    "     '{:<20}'.format('Median:'), '{:<4.4}\\n'.format(median),\n",
    "     '{:<20}'.format('Mode:'), [mode[i] for i in range(len(mode))], '\\n\\n',\n",
    "     'VARIABILITY MEASURES\\n',\n",
    "     '{:<20}'.format('Standard Deviation:'), '{:<4.4}\\n'.format(sd),\n",
    "     '{:<20}'.format('IQR:'), '{:<4.4}\\n\\n'.format(iqr),\n",
    "      'SHAPE MEASURES\\n',\n",
    "     '{:<20}'.format('Skewness:'), '{:<4.4}\\n'.format(skew),\n",
    "     '{:<20}'.format('Kurtosis:'), '{:<4.4}\\n'.format(kurto),\n",
    "     )"
   ]
  },
  {
   "cell_type": "markdown",
   "metadata": {},
   "source": [
    "### Frequency Distribution\n",
    "\n",
    "In order to find the **frequency distribution** we can use the `np.histogram()` function which returns two numpy arrays, one with the **frequencies** and another with the **lowest boundaries** of the classes.\n",
    "\n",
    "In the following chunk we generate a DataFrame with that information and add a third column with the **Class Marks**, i.e. the midpoints of each class"
   ]
  },
  {
   "cell_type": "code",
   "execution_count": 4,
   "metadata": {},
   "outputs": [
    {
     "data": {
      "text/html": [
       "<div>\n",
       "<style scoped>\n",
       "    .dataframe tbody tr th:only-of-type {\n",
       "        vertical-align: middle;\n",
       "    }\n",
       "\n",
       "    .dataframe tbody tr th {\n",
       "        vertical-align: top;\n",
       "    }\n",
       "\n",
       "    .dataframe thead th {\n",
       "        text-align: right;\n",
       "    }\n",
       "</style>\n",
       "<table border=\"1\" class=\"dataframe\">\n",
       "  <thead>\n",
       "    <tr style=\"text-align: right;\">\n",
       "      <th></th>\n",
       "      <th>LBound</th>\n",
       "      <th>CMarks</th>\n",
       "      <th>Freqs</th>\n",
       "    </tr>\n",
       "  </thead>\n",
       "  <tbody>\n",
       "    <tr>\n",
       "      <th>0</th>\n",
       "      <td>1.000000</td>\n",
       "      <td>2.928571</td>\n",
       "      <td>5</td>\n",
       "    </tr>\n",
       "    <tr>\n",
       "      <th>1</th>\n",
       "      <td>4.857143</td>\n",
       "      <td>6.785714</td>\n",
       "      <td>6</td>\n",
       "    </tr>\n",
       "    <tr>\n",
       "      <th>2</th>\n",
       "      <td>8.714286</td>\n",
       "      <td>10.642857</td>\n",
       "      <td>11</td>\n",
       "    </tr>\n",
       "    <tr>\n",
       "      <th>3</th>\n",
       "      <td>12.571429</td>\n",
       "      <td>14.500000</td>\n",
       "      <td>7</td>\n",
       "    </tr>\n",
       "    <tr>\n",
       "      <th>4</th>\n",
       "      <td>16.428571</td>\n",
       "      <td>18.357143</td>\n",
       "      <td>10</td>\n",
       "    </tr>\n",
       "    <tr>\n",
       "      <th>5</th>\n",
       "      <td>20.285714</td>\n",
       "      <td>22.214286</td>\n",
       "      <td>0</td>\n",
       "    </tr>\n",
       "    <tr>\n",
       "      <th>6</th>\n",
       "      <td>24.142857</td>\n",
       "      <td>26.071429</td>\n",
       "      <td>1</td>\n",
       "    </tr>\n",
       "  </tbody>\n",
       "</table>\n",
       "</div>"
      ],
      "text/plain": [
       "      LBound     CMarks  Freqs\n",
       "0   1.000000   2.928571      5\n",
       "1   4.857143   6.785714      6\n",
       "2   8.714286  10.642857     11\n",
       "3  12.571429  14.500000      7\n",
       "4  16.428571  18.357143     10\n",
       "5  20.285714  22.214286      0\n",
       "6  24.142857  26.071429      1"
      ]
     },
     "execution_count": 4,
     "metadata": {},
     "output_type": "execute_result"
    }
   ],
   "source": [
    "freqs, bounds = np.histogram(mydf['values'], bins = 7)\n",
    "\n",
    "cmarks = np.empty(len(freqs))\n",
    "for i in range(len(bounds)-1):\n",
    "    cmarks[i] = (bounds[i]+bounds[i+1])/2\n",
    "\n",
    "\n",
    "freq_dist = pd.DataFrame({'LBound': np.delete(bounds, -1),\n",
    "                          'CMarks': cmarks,\n",
    "                          'Freqs': freqs})\n",
    "freq_dist"
   ]
  },
  {
   "cell_type": "markdown",
   "metadata": {},
   "source": [
    "The easiest way to make a graphical representation is using `matplotlib` by means of its `pyplot` module. In this case we have to be explicit with the different options for the grid of plots, which can be done using the `subplot2grid()` function. Apart from that, we use the `hist()` and `boxplot()` functions of `pyplot` "
   ]
  },
  {
   "cell_type": "code",
   "execution_count": 5,
   "metadata": {},
   "outputs": [
    {
     "data": {
      "image/png": "[encoded data removed]",
      "text/plain": [
       "<Figure size 864x360 with 2 Axes>"
      ]
     },
     "metadata": {
      "needs_background": "light"
     },
     "output_type": "display_data"
    }
   ],
   "source": [
    "plt.figure(figsize = (12,5))\n",
    "plt.suptitle(\"Graphic EDA\", fontsize = 20)\n",
    "\n",
    "plt.subplot2grid((1,2), (0,0))\n",
    "plt.hist(mydf['values'],\n",
    "         color = 'lightgreen',\n",
    "         ec = 'darkgreen',\n",
    "         #density = True,\n",
    "         bins = 7)\n",
    "\n",
    "plt.vlines(x=mean, ymin=0, ymax= 11, label='mean', color='red')\n",
    "plt.vlines(x=median, ymin=0, ymax= 11, label='median', color='blue')\n",
    "\n",
    "plt.title('Histogram', fontsize = 17)\n",
    "plt.xlabel('Values', fontsize = 15)\n",
    "plt.ylabel('Density', fontsize = 15)\n",
    "plt.legend(loc = 'best')\n",
    "\n",
    "plt.subplot2grid((1,2), (0,1))\n",
    "plt.boxplot(mydf['values'],\n",
    "            patch_artist = True,\n",
    "            showmeans = True,\n",
    "            widths = 0.6,\n",
    "            whis = 1.5,\n",
    "            labels = [\"Variable 1\"],\n",
    "            boxprops = dict(facecolor = 'lightgreen'),\n",
    "            flierprops = dict(marker = 'o',\n",
    "                              markerfacecolor = 'red'))\n",
    "plt.title('Boxplot', fontsize = 17)\n",
    "\n",
    "plt.tight_layout(rect = (0, 0, 1, 0.94))\n",
    "plt.show()"
   ]
  },
  {
   "cell_type": "markdown",
   "metadata": {},
   "source": [
    "#### Approximated Values\n",
    "\n",
    "We talk about approximated values for this grouped type of data. To find them we need the cumulative frequencies, which can be found with the `cumsum()` function"
   ]
  },
  {
   "cell_type": "code",
   "execution_count": 6,
   "metadata": {},
   "outputs": [
    {
     "data": {
      "text/html": [
       "<div>\n",
       "<style scoped>\n",
       "    .dataframe tbody tr th:only-of-type {\n",
       "        vertical-align: middle;\n",
       "    }\n",
       "\n",
       "    .dataframe tbody tr th {\n",
       "        vertical-align: top;\n",
       "    }\n",
       "\n",
       "    .dataframe thead th {\n",
       "        text-align: right;\n",
       "    }\n",
       "</style>\n",
       "<table border=\"1\" class=\"dataframe\">\n",
       "  <thead>\n",
       "    <tr style=\"text-align: right;\">\n",
       "      <th></th>\n",
       "      <th>LBound</th>\n",
       "      <th>CMarks</th>\n",
       "      <th>Freqs</th>\n",
       "      <th>CFreqs</th>\n",
       "    </tr>\n",
       "  </thead>\n",
       "  <tbody>\n",
       "    <tr>\n",
       "      <th>0</th>\n",
       "      <td>1.000000</td>\n",
       "      <td>2.928571</td>\n",
       "      <td>5</td>\n",
       "      <td>5</td>\n",
       "    </tr>\n",
       "    <tr>\n",
       "      <th>1</th>\n",
       "      <td>4.857143</td>\n",
       "      <td>6.785714</td>\n",
       "      <td>6</td>\n",
       "      <td>11</td>\n",
       "    </tr>\n",
       "    <tr>\n",
       "      <th>2</th>\n",
       "      <td>8.714286</td>\n",
       "      <td>10.642857</td>\n",
       "      <td>11</td>\n",
       "      <td>22</td>\n",
       "    </tr>\n",
       "    <tr>\n",
       "      <th>3</th>\n",
       "      <td>12.571429</td>\n",
       "      <td>14.500000</td>\n",
       "      <td>7</td>\n",
       "      <td>29</td>\n",
       "    </tr>\n",
       "    <tr>\n",
       "      <th>4</th>\n",
       "      <td>16.428571</td>\n",
       "      <td>18.357143</td>\n",
       "      <td>10</td>\n",
       "      <td>39</td>\n",
       "    </tr>\n",
       "    <tr>\n",
       "      <th>5</th>\n",
       "      <td>20.285714</td>\n",
       "      <td>22.214286</td>\n",
       "      <td>0</td>\n",
       "      <td>39</td>\n",
       "    </tr>\n",
       "    <tr>\n",
       "      <th>6</th>\n",
       "      <td>24.142857</td>\n",
       "      <td>26.071429</td>\n",
       "      <td>1</td>\n",
       "      <td>40</td>\n",
       "    </tr>\n",
       "  </tbody>\n",
       "</table>\n",
       "</div>"
      ],
      "text/plain": [
       "      LBound     CMarks  Freqs  CFreqs\n",
       "0   1.000000   2.928571      5       5\n",
       "1   4.857143   6.785714      6      11\n",
       "2   8.714286  10.642857     11      22\n",
       "3  12.571429  14.500000      7      29\n",
       "4  16.428571  18.357143     10      39\n",
       "5  20.285714  22.214286      0      39\n",
       "6  24.142857  26.071429      1      40"
      ]
     },
     "execution_count": 6,
     "metadata": {},
     "output_type": "execute_result"
    }
   ],
   "source": [
    "freq_dist['CFreqs'] = freq_dist['Freqs'].cumsum()\n",
    "freq_dist"
   ]
  },
  {
   "cell_type": "markdown",
   "metadata": {},
   "source": [
    "Following the same steps as in R, let's find the **approximated median**"
   ]
  },
  {
   "cell_type": "code",
   "execution_count": 7,
   "metadata": {},
   "outputs": [],
   "source": [
    "n = np.sum(freq_dist['Freqs'])\n",
    "cm_index = np.array(np.where(freq_dist['CFreqs'] <= n/2))[0][-1] + 1\n",
    "\n",
    "xi = freq_dist['LBound'][cm_index]\n",
    "ki = freq_dist['CFreqs'][cm_index]\n",
    "ni = freq_dist['Freqs'][cm_index]\n",
    "wi = freq_dist['LBound'][1] - freq_dist['LBound'][0]\n",
    "\n",
    "app_median = xi + wi*(n/2-ki)/ni"
   ]
  },
  {
   "cell_type": "markdown",
   "metadata": {},
   "source": [
    "and the **approximated mode**"
   ]
  },
  {
   "cell_type": "code",
   "execution_count": 8,
   "metadata": {},
   "outputs": [],
   "source": [
    "m_freq = max(freq_dist['Freqs'])\n",
    "mod_index = freq_dist.index[freq_dist['Freqs'] == m_freq][0]\n",
    "\n",
    "xi_m = freq_dist['LBound'][mod_index]\n",
    "Dl = m_freq - freq_dist['Freqs'][mod_index -1]\n",
    "Du = m_freq - freq_dist['Freqs'][mod_index + 1]\n",
    "\n",
    "app_mode = xi_m + wi*(Dl/(Dl+Du))"
   ]
  },
  {
   "cell_type": "markdown",
   "metadata": {},
   "source": [
    "Now we can find all the other values just using the **class marks** and the **frequencies**. The results are"
   ]
  },
  {
   "cell_type": "code",
   "execution_count": 9,
   "metadata": {},
   "outputs": [
    {
     "name": "stdout",
     "output_type": "stream",
     "text": [
      "CENTRAL TENDENCY MEASURES\n",
      " Approx. Mean:             12.09\n",
      " Approx. Median:           8.013\n",
      " Approx. Mode:             10.86\n",
      " \n",
      "VARIABILITY MEASURES\n",
      " Approx. St. Deviation:    5.478\n",
      " \n",
      "SHAPE MEASURES\n",
      " Approx. Skewness:         0.2817\n",
      " Approx. Kurtosis:         -1.386\n",
      "\n"
     ]
    }
   ],
   "source": [
    "app_mean = np.sum(freq_dist.CMarks * freq_dist.Freqs)/n\n",
    "app_sd = np.sqrt(np.sum(freq_dist.Freqs*(freq_dist.CMarks - app_mean)**2)/n-1)\n",
    "app_skew = np.sqrt(np.sum(freq_dist.Freqs*(freq_dist.CMarks - app_mean)**3)/(app_sd**3*n))\n",
    "app_kurto = np.sqrt(np.sum(freq_dist.Freqs*(freq_dist.CMarks - app_mean)**4)/(app_sd**4*n))-3\n",
    "\n",
    "print('CENTRAL TENDENCY MEASURES\\n',\n",
    "     '{:<25}'.format('Approx. Mean:'), '{:<4.4}\\n'.format(app_mean),\n",
    "     '{:<25}'.format('Approx. Median:'), '{:<4.4}\\n'.format(app_median),\n",
    "     '{:<25}'.format('Approx. Mode:'), '{:<4.4}\\n'.format(app_mode),\n",
    "     '\\nVARIABILITY MEASURES\\n',\n",
    "     '{:<25}'.format('Approx. St. Deviation:'), '{:<4.4}\\n'.format(app_sd),\n",
    "#     '{:<20}'.format('IQR:'), '{:<4.4}\\n\\n'.format(app_iqr),\n",
    "      '\\nSHAPE MEASURES\\n',\n",
    "     '{:<25}'.format('Approx. Skewness:'), '{:<4.4}\\n'.format(app_skew),\n",
    "     '{:<25}'.format('Approx. Kurtosis:'), '{:<4.4}\\n'.format(app_kurto),\n",
    "     )"
   ]
  },
  {
   "cell_type": "markdown",
   "metadata": {},
   "source": [
    "To plot the total and relative frequencies we use the `subplot2grid()` function again. However, we need to add the relative frequencies to the DataFrame, then"
   ]
  },
  {
   "cell_type": "code",
   "execution_count": 10,
   "metadata": {},
   "outputs": [
    {
     "data": {
      "text/html": [
       "<div>\n",
       "<style scoped>\n",
       "    .dataframe tbody tr th:only-of-type {\n",
       "        vertical-align: middle;\n",
       "    }\n",
       "\n",
       "    .dataframe tbody tr th {\n",
       "        vertical-align: top;\n",
       "    }\n",
       "\n",
       "    .dataframe thead th {\n",
       "        text-align: right;\n",
       "    }\n",
       "</style>\n",
       "<table border=\"1\" class=\"dataframe\">\n",
       "  <thead>\n",
       "    <tr style=\"text-align: right;\">\n",
       "      <th></th>\n",
       "      <th>LBound</th>\n",
       "      <th>CMarks</th>\n",
       "      <th>Freqs</th>\n",
       "      <th>CFreqs</th>\n",
       "      <th>RFreqs</th>\n",
       "      <th>CRFreqs</th>\n",
       "    </tr>\n",
       "  </thead>\n",
       "  <tbody>\n",
       "    <tr>\n",
       "      <th>0</th>\n",
       "      <td>1.000000</td>\n",
       "      <td>2.928571</td>\n",
       "      <td>5</td>\n",
       "      <td>5</td>\n",
       "      <td>0.125</td>\n",
       "      <td>0.125</td>\n",
       "    </tr>\n",
       "    <tr>\n",
       "      <th>1</th>\n",
       "      <td>4.857143</td>\n",
       "      <td>6.785714</td>\n",
       "      <td>6</td>\n",
       "      <td>11</td>\n",
       "      <td>0.150</td>\n",
       "      <td>0.275</td>\n",
       "    </tr>\n",
       "    <tr>\n",
       "      <th>2</th>\n",
       "      <td>8.714286</td>\n",
       "      <td>10.642857</td>\n",
       "      <td>11</td>\n",
       "      <td>22</td>\n",
       "      <td>0.275</td>\n",
       "      <td>0.550</td>\n",
       "    </tr>\n",
       "    <tr>\n",
       "      <th>3</th>\n",
       "      <td>12.571429</td>\n",
       "      <td>14.500000</td>\n",
       "      <td>7</td>\n",
       "      <td>29</td>\n",
       "      <td>0.175</td>\n",
       "      <td>0.725</td>\n",
       "    </tr>\n",
       "    <tr>\n",
       "      <th>4</th>\n",
       "      <td>16.428571</td>\n",
       "      <td>18.357143</td>\n",
       "      <td>10</td>\n",
       "      <td>39</td>\n",
       "      <td>0.250</td>\n",
       "      <td>0.975</td>\n",
       "    </tr>\n",
       "    <tr>\n",
       "      <th>5</th>\n",
       "      <td>20.285714</td>\n",
       "      <td>22.214286</td>\n",
       "      <td>0</td>\n",
       "      <td>39</td>\n",
       "      <td>0.000</td>\n",
       "      <td>0.975</td>\n",
       "    </tr>\n",
       "    <tr>\n",
       "      <th>6</th>\n",
       "      <td>24.142857</td>\n",
       "      <td>26.071429</td>\n",
       "      <td>1</td>\n",
       "      <td>40</td>\n",
       "      <td>0.025</td>\n",
       "      <td>1.000</td>\n",
       "    </tr>\n",
       "  </tbody>\n",
       "</table>\n",
       "</div>"
      ],
      "text/plain": [
       "      LBound     CMarks  Freqs  CFreqs  RFreqs  CRFreqs\n",
       "0   1.000000   2.928571      5       5   0.125    0.125\n",
       "1   4.857143   6.785714      6      11   0.150    0.275\n",
       "2   8.714286  10.642857     11      22   0.275    0.550\n",
       "3  12.571429  14.500000      7      29   0.175    0.725\n",
       "4  16.428571  18.357143     10      39   0.250    0.975\n",
       "5  20.285714  22.214286      0      39   0.000    0.975\n",
       "6  24.142857  26.071429      1      40   0.025    1.000"
      ]
     },
     "execution_count": 10,
     "metadata": {},
     "output_type": "execute_result"
    }
   ],
   "source": [
    "freq_dist['RFreqs'] = freq_dist['Freqs']/n\n",
    "freq_dist['CRFreqs'] = freq_dist['CFreqs']/n\n",
    "freq_dist"
   ]
  },
  {
   "cell_type": "markdown",
   "metadata": {},
   "source": [
    "In Python we have a problem with the density option in the Histogram: it does not return the relative frequencies but the `density` which is taken as the relative frequency divided by the bin width! So be careful with this option. In this case we will solve it using a **barplot** and adjusting the space inbetween the bars by means of their width."
   ]
  },
  {
   "cell_type": "code",
   "execution_count": 11,
   "metadata": {},
   "outputs": [
    {
     "data": {
      "image/png": "[encoded data removed]",
      "text/plain": [
       "<Figure size 864x360 with 2 Axes>"
      ]
     },
     "metadata": {
      "needs_background": "light"
     },
     "output_type": "display_data"
    }
   ],
   "source": [
    "plt.figure(figsize = (12,5))\n",
    "plt.suptitle(\"Frequencies\", fontsize = 20)\n",
    "\n",
    "plt.subplot2grid((1,2), (0,0))\n",
    "plt.hist(mydf['values'],\n",
    "         color = 'lightgreen',\n",
    "         ec = 'darkgreen',\n",
    "         bins = 7)\n",
    "\n",
    "plt.title('Total Frequency', fontsize = 17)\n",
    "plt.xlabel('Values', fontsize = 15)\n",
    "plt.ylabel('Frequency', fontsize = 15)\n",
    "\n",
    "plt.plot(freq_dist.CMarks, freq_dist.CFreqs, marker = 'o', ls = 'dashed', color = 'red')\n",
    "\n",
    "plt.subplot2grid((1,2), (0,1))\n",
    "w = freq_dist.CMarks[1]-freq_dist.CMarks[0]\n",
    "plt.bar(freq_dist['CMarks'], freq_dist['RFreqs'], \n",
    "        width = w, \n",
    "        ec ='Darkblue', \n",
    "        color = 'lightblue')\n",
    "\n",
    "plt.title('Relative Frequency', fontsize = 17)\n",
    "plt.xlabel('Values', fontsize = 15)\n",
    "plt.ylabel('Density', fontsize = 15)\n",
    "\n",
    "plt.plot(freq_dist.CMarks, freq_dist.CRFreqs, marker = 'o', ls = 'dashed', color = 'red')\n",
    "\n",
    "plt.tight_layout(rect = (0, 0, 1, 0.94))\n",
    "plt.show()"
   ]
  }
 ],
 "metadata": {
  "kernelspec": {
   "display_name": "Python 3",
   "language": "python",
   "name": "python3"
  },
  "language_info": {
   "codemirror_mode": {
    "name": "ipython",
    "version": 3
   },
   "file_extension": ".py",
   "mimetype": "text/x-python",
   "name": "python",
   "nbconvert_exporter": "python",
   "pygments_lexer": "ipython3",
   "version": "3.8.10"
  }
 },
 "nbformat": 4,
 "nbformat_minor": 2
}
