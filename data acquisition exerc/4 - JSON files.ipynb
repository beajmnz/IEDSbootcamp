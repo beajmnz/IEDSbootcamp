{
 "cells": [
  {
   "cell_type": "markdown",
   "id": "sized-equipment",
   "metadata": {},
   "source": [
    "# JSON files"
   ]
  },
  {
   "cell_type": "markdown",
   "id": "behind-persian",
   "metadata": {},
   "source": [
    "## Import statements"
   ]
  },
  {
   "cell_type": "code",
   "execution_count": 2,
   "id": "accessible-placement",
   "metadata": {},
   "outputs": [],
   "source": [
    "import json\n",
    "import pandas as pd\n",
    "import pathlib\n",
    "import pprint"
   ]
  },
  {
   "cell_type": "code",
   "execution_count": 3,
   "id": "organized-pitch",
   "metadata": {},
   "outputs": [
    {
     "data": {
      "text/plain": [
       "<module 'json' from 'C:\\\\Users\\\\Bea\\\\anaconda3\\\\lib\\\\json\\\\__init__.py'>"
      ]
     },
     "execution_count": 3,
     "metadata": {},
     "output_type": "execute_result"
    }
   ],
   "source": [
    "json"
   ]
  },
  {
   "cell_type": "markdown",
   "id": "reserved-cylinder",
   "metadata": {},
   "source": [
    "## Setup"
   ]
  },
  {
   "cell_type": "markdown",
   "id": "corrected-transaction",
   "metadata": {},
   "source": [
    "The files for this class are stored in the `data/json` directory:"
   ]
  },
  {
   "cell_type": "code",
   "execution_count": 5,
   "id": "injured-france",
   "metadata": {},
   "outputs": [],
   "source": [
    "directory = pathlib.Path(\"data\") / \"json\""
   ]
  },
  {
   "cell_type": "markdown",
   "id": "outer-microwave",
   "metadata": {},
   "source": [
    "## Preamble: JSON"
   ]
  },
  {
   "cell_type": "markdown",
   "id": "reasonable-peter",
   "metadata": {},
   "source": [
    "### From Python to JSON"
   ]
  },
  {
   "cell_type": "code",
   "execution_count": 45,
   "id": "functional-obligation",
   "metadata": {},
   "outputs": [],
   "source": [
    "python_object = {\n",
    "    \"integer\": 1,\n",
    "    \"float\": 2.3,\n",
    "    \"string\": \"Madrid\",\n",
    "    \"list\": [\"NYC\", \"SF\", \"DC\"],\n",
    "    \"boolean\": True,\n",
    "    \"none\": None,\n",
    "}"
   ]
  },
  {
   "cell_type": "code",
   "execution_count": 46,
   "id": "piano-ballot",
   "metadata": {},
   "outputs": [
    {
     "data": {
      "text/plain": [
       "{'integer': 1,\n",
       " 'float': 2.3,\n",
       " 'string': 'Madrid',\n",
       " 'list': ['NYC', 'SF', 'DC'],\n",
       " 'boolean': True,\n",
       " 'none': None}"
      ]
     },
     "execution_count": 46,
     "metadata": {},
     "output_type": "execute_result"
    }
   ],
   "source": [
    "python_object"
   ]
  },
  {
   "cell_type": "code",
   "execution_count": 47,
   "id": "falling-margin",
   "metadata": {},
   "outputs": [
    {
     "data": {
      "text/plain": [
       "dict"
      ]
     },
     "execution_count": 47,
     "metadata": {},
     "output_type": "execute_result"
    }
   ],
   "source": [
    "type(python_object)"
   ]
  },
  {
   "cell_type": "code",
   "execution_count": 48,
   "id": "guided-ranking",
   "metadata": {},
   "outputs": [],
   "source": [
    "json_object = json.dumps(python_object)"
   ]
  },
  {
   "cell_type": "code",
   "execution_count": 49,
   "id": "suspected-commodity",
   "metadata": {},
   "outputs": [
    {
     "name": "stdout",
     "output_type": "stream",
     "text": [
      "{\"integer\": 1, \"float\": 2.3, \"string\": \"Madrid\", \"list\": [\"NYC\", \"SF\", \"DC\"], \"boolean\": true, \"none\": null}\n"
     ]
    }
   ],
   "source": [
    "print(json_object)"
   ]
  },
  {
   "cell_type": "code",
   "execution_count": 50,
   "id": "maritime-irrigation",
   "metadata": {},
   "outputs": [
    {
     "data": {
      "text/plain": [
       "str"
      ]
     },
     "execution_count": 50,
     "metadata": {},
     "output_type": "execute_result"
    }
   ],
   "source": [
    "type(json_object)"
   ]
  },
  {
   "cell_type": "code",
   "execution_count": 51,
   "id": "billion-company",
   "metadata": {},
   "outputs": [
    {
     "data": {
      "text/plain": [
       "'Madrid'"
      ]
     },
     "execution_count": 51,
     "metadata": {},
     "output_type": "execute_result"
    }
   ],
   "source": [
    "python_object[\"string\"]"
   ]
  },
  {
   "cell_type": "code",
   "execution_count": 52,
   "id": "orange-cement",
   "metadata": {
    "tags": [
     "raises-error"
    ]
   },
   "outputs": [
    {
     "ename": "TypeError",
     "evalue": "string indices must be integers",
     "output_type": "error",
     "traceback": [
      "\u001b[1;31m---------------------------------------------------------------------------\u001b[0m",
      "\u001b[1;31mTypeError\u001b[0m                                 Traceback (most recent call last)",
      "\u001b[1;32m<ipython-input-52-8234ec57fd54>\u001b[0m in \u001b[0;36m<module>\u001b[1;34m\u001b[0m\n\u001b[0;32m      1\u001b[0m \u001b[1;31m# Raises an error, because it is not possible to manipulate a JSON object directly:\u001b[0m\u001b[1;33m\u001b[0m\u001b[1;33m\u001b[0m\u001b[1;33m\u001b[0m\u001b[0m\n\u001b[1;32m----> 2\u001b[1;33m \u001b[0mjson_object\u001b[0m\u001b[1;33m[\u001b[0m\u001b[1;34m\"string\"\u001b[0m\u001b[1;33m]\u001b[0m\u001b[1;33m\u001b[0m\u001b[1;33m\u001b[0m\u001b[0m\n\u001b[0m",
      "\u001b[1;31mTypeError\u001b[0m: string indices must be integers"
     ]
    }
   ],
   "source": [
    "# Raises an error, because it is not possible to manipulate a JSON object directly:\n",
    "json_object[\"string\"]"
   ]
  },
  {
   "cell_type": "markdown",
   "id": "ancient-marine",
   "metadata": {},
   "source": [
    "### From JSON to Python"
   ]
  },
  {
   "cell_type": "code",
   "execution_count": null,
   "id": "collected-packaging",
   "metadata": {},
   "outputs": [],
   "source": [
    "python_object_bis = json.loads(json_object)"
   ]
  },
  {
   "cell_type": "code",
   "execution_count": null,
   "id": "formed-magic",
   "metadata": {},
   "outputs": [],
   "source": [
    "python_object_bis"
   ]
  },
  {
   "cell_type": "code",
   "execution_count": null,
   "id": "olympic-personality",
   "metadata": {},
   "outputs": [],
   "source": [
    "python_object == python_object_bis"
   ]
  },
  {
   "cell_type": "markdown",
   "id": "negative-finance",
   "metadata": {},
   "source": [
    "### Displaying Python"
   ]
  },
  {
   "cell_type": "code",
   "execution_count": null,
   "id": "steady-workshop",
   "metadata": {},
   "outputs": [],
   "source": [
    "python_object"
   ]
  },
  {
   "cell_type": "code",
   "execution_count": null,
   "id": "mature-transportation",
   "metadata": {},
   "outputs": [],
   "source": [
    "pprint.pprint(python_object)"
   ]
  },
  {
   "cell_type": "code",
   "execution_count": null,
   "id": "sexual-milan",
   "metadata": {},
   "outputs": [],
   "source": [
    "pprint.pprint(python_object, sort_dicts=False)"
   ]
  },
  {
   "cell_type": "code",
   "execution_count": null,
   "id": "vocal-skirt",
   "metadata": {},
   "outputs": [],
   "source": [
    "def print_python(python_object):\n",
    "    pprint.pprint(python_object, sort_dicts=False)"
   ]
  },
  {
   "cell_type": "code",
   "execution_count": null,
   "id": "helpful-guide",
   "metadata": {},
   "outputs": [],
   "source": [
    "print_python(python_object)"
   ]
  },
  {
   "cell_type": "markdown",
   "id": "marine-israel",
   "metadata": {},
   "source": [
    "### Displaying JSON"
   ]
  },
  {
   "cell_type": "code",
   "execution_count": null,
   "id": "suspected-profit",
   "metadata": {},
   "outputs": [],
   "source": [
    "print(json_object)"
   ]
  },
  {
   "cell_type": "code",
   "execution_count": null,
   "id": "racial-backup",
   "metadata": {},
   "outputs": [],
   "source": [
    "print(json.dumps(json.loads(json_object), indent=4))"
   ]
  },
  {
   "cell_type": "code",
   "execution_count": null,
   "id": "requested-strand",
   "metadata": {},
   "outputs": [],
   "source": [
    "def print_json(json_object):\n",
    "    print(json.dumps(json.loads(json_object), indent=4))"
   ]
  },
  {
   "cell_type": "code",
   "execution_count": null,
   "id": "classified-judgment",
   "metadata": {},
   "outputs": [],
   "source": [
    "print_json(json_object)"
   ]
  },
  {
   "cell_type": "markdown",
   "id": "seasonal-organ",
   "metadata": {},
   "source": [
    "### From a dataframe to JSON"
   ]
  },
  {
   "cell_type": "code",
   "execution_count": null,
   "id": "mathematical-culture",
   "metadata": {},
   "outputs": [],
   "source": [
    "filename = \"demo-0.csv\"\n",
    "file = directory / filename"
   ]
  },
  {
   "cell_type": "code",
   "execution_count": null,
   "id": "precise-childhood",
   "metadata": {},
   "outputs": [],
   "source": [
    "df = pd.read_csv(file)"
   ]
  },
  {
   "cell_type": "markdown",
   "id": "published-camping",
   "metadata": {},
   "source": [
    "**Question:** How to represent this dataframe in JSON?"
   ]
  },
  {
   "cell_type": "code",
   "execution_count": null,
   "id": "attended-peace",
   "metadata": {},
   "outputs": [],
   "source": [
    "df"
   ]
  },
  {
   "cell_type": "markdown",
   "id": "still-kelly",
   "metadata": {},
   "source": [
    "...\n",
    "\n",
    "...\n",
    "\n",
    "...\n",
    "\n",
    "...\n",
    "\n",
    "...\n",
    "\n",
    "...\n",
    "\n",
    "...\n",
    "\n",
    "...\n",
    "\n",
    "...\n",
    "\n",
    "..."
   ]
  },
  {
   "cell_type": "code",
   "execution_count": null,
   "id": "nasty-theater",
   "metadata": {},
   "outputs": [],
   "source": [
    "df.to_json()"
   ]
  },
  {
   "cell_type": "code",
   "execution_count": null,
   "id": "permanent-paintball",
   "metadata": {},
   "outputs": [],
   "source": [
    "print_json(df.to_json())"
   ]
  },
  {
   "cell_type": "code",
   "execution_count": null,
   "id": "perfect-tumor",
   "metadata": {},
   "outputs": [],
   "source": [
    "print_json(df.to_json(orient=\"columns\"))"
   ]
  },
  {
   "cell_type": "code",
   "execution_count": null,
   "id": "attended-population",
   "metadata": {},
   "outputs": [],
   "source": [
    "print_json(df.to_json(orient=\"index\"))"
   ]
  },
  {
   "cell_type": "code",
   "execution_count": null,
   "id": "returning-volunteer",
   "metadata": {},
   "outputs": [],
   "source": [
    "print_json(df.to_json(orient=\"records\"))"
   ]
  },
  {
   "cell_type": "code",
   "execution_count": null,
   "id": "stainless-ethiopia",
   "metadata": {},
   "outputs": [],
   "source": [
    "print_json(df.to_json(orient=\"values\"))"
   ]
  },
  {
   "cell_type": "code",
   "execution_count": null,
   "id": "personalized-behavior",
   "metadata": {},
   "outputs": [],
   "source": [
    "print_json(df.to_json(orient=\"split\"))"
   ]
  },
  {
   "cell_type": "code",
   "execution_count": null,
   "id": "changing-career",
   "metadata": {},
   "outputs": [],
   "source": [
    "print_json(df.to_json(orient=\"table\"))"
   ]
  },
  {
   "cell_type": "markdown",
   "id": "seeing-auckland",
   "metadata": {},
   "source": [
    "### From JSON to a dataframe"
   ]
  },
  {
   "cell_type": "markdown",
   "id": "conventional-detroit",
   "metadata": {},
   "source": [
    "Question: How to import this JSON object in a dataframe?!?"
   ]
  },
  {
   "cell_type": "code",
   "execution_count": null,
   "id": "dressed-madagascar",
   "metadata": {},
   "outputs": [],
   "source": [
    "print_json(json_object)"
   ]
  },
  {
   "cell_type": "markdown",
   "id": "comparative-pittsburgh",
   "metadata": {},
   "source": [
    "...\n",
    "\n",
    "...\n",
    "\n",
    "...\n",
    "\n",
    "...\n",
    "\n",
    "...\n",
    "\n",
    "...\n",
    "\n",
    "...\n",
    "\n",
    "...\n",
    "\n",
    "...\n",
    "\n",
    "..."
   ]
  },
  {
   "cell_type": "markdown",
   "id": "allied-sodium",
   "metadata": {},
   "source": [
    "## Demo 1: Import a simple JSON file"
   ]
  },
  {
   "cell_type": "markdown",
   "id": "silent-philip",
   "metadata": {},
   "source": [
    "### Import the JSON file into a dataframe"
   ]
  },
  {
   "cell_type": "code",
   "execution_count": null,
   "id": "welsh-catholic",
   "metadata": {},
   "outputs": [],
   "source": [
    "filename = \"demo-1.json\"\n",
    "file = directory / filename"
   ]
  },
  {
   "cell_type": "markdown",
   "id": "9ed86485",
   "metadata": {},
   "source": [
    "Import the JSON file into a dataframe:"
   ]
  },
  {
   "cell_type": "code",
   "execution_count": null,
   "id": "peripheral-certification",
   "metadata": {},
   "outputs": [],
   "source": [
    "df = pd.read_json(file)"
   ]
  },
  {
   "cell_type": "code",
   "execution_count": null,
   "id": "laughing-cloud",
   "metadata": {},
   "outputs": [],
   "source": [
    "df"
   ]
  },
  {
   "cell_type": "markdown",
   "id": "analyzed-fusion",
   "metadata": {},
   "source": [
    "## Exercise 1"
   ]
  },
  {
   "cell_type": "markdown",
   "id": "neutral-iceland",
   "metadata": {},
   "source": [
    "The dataset for this exercise is the `pu2018_schema.json` file taken from the [Survey of Income and Program Participation (SIPP) survey](https://www.census.gov/programs-surveys/sipp/about.html) from the US census."
   ]
  },
  {
   "cell_type": "markdown",
   "id": "ordered-differential",
   "metadata": {},
   "source": [
    "* https://www2.census.gov/programs-surveys/sipp/data/datasets/2018/sipp_python_input_example.py\n",
    "* https://www2.census.gov/programs-surveys/sipp/data/datasets/2018/pu2018_schema.json\n",
    "* https://www2.census.gov/programs-surveys/sipp/data/datasets/2018/pu2018_csv.zip"
   ]
  },
  {
   "cell_type": "code",
   "execution_count": null,
   "id": "yellow-collectible",
   "metadata": {
    "tags": [
     "no-replacement"
    ]
   },
   "outputs": [],
   "source": [
    "filename = \"exercise-1.json\"\n",
    "file = directory / filename"
   ]
  },
  {
   "cell_type": "markdown",
   "id": "531c258c",
   "metadata": {},
   "source": [
    "Import the JSON file into a dataframe named `df`:"
   ]
  },
  {
   "cell_type": "code",
   "execution_count": null,
   "id": "serial-collapse",
   "metadata": {},
   "outputs": [],
   "source": [
    "df = pd.read_json(file)"
   ]
  },
  {
   "cell_type": "markdown",
   "id": "27eea4a7",
   "metadata": {},
   "source": [
    "Check the first 5 rows of the dataframe:"
   ]
  },
  {
   "cell_type": "code",
   "execution_count": null,
   "id": "valuable-viking",
   "metadata": {},
   "outputs": [],
   "source": [
    "df.head()"
   ]
  },
  {
   "cell_type": "markdown",
   "id": "packed-manhattan",
   "metadata": {},
   "source": [
    "## Demo 2: Import a JSON file requiring normalization"
   ]
  },
  {
   "cell_type": "markdown",
   "id": "colonial-adult",
   "metadata": {},
   "source": [
    "### Import the JSON file into a dataframe"
   ]
  },
  {
   "cell_type": "code",
   "execution_count": null,
   "id": "median-acquisition",
   "metadata": {},
   "outputs": [],
   "source": [
    "filename = \"demo-2a.json\"\n",
    "file = directory / filename"
   ]
  },
  {
   "cell_type": "code",
   "execution_count": null,
   "id": "great-debut",
   "metadata": {},
   "outputs": [],
   "source": [
    "! cat {file}"
   ]
  },
  {
   "cell_type": "code",
   "execution_count": null,
   "id": "temporal-cooper",
   "metadata": {},
   "outputs": [],
   "source": [
    "df = pd.read_json(file)"
   ]
  },
  {
   "cell_type": "code",
   "execution_count": null,
   "id": "ranging-treasure",
   "metadata": {},
   "outputs": [],
   "source": [
    "df"
   ]
  },
  {
   "cell_type": "code",
   "execution_count": null,
   "id": "difficult-confirmation",
   "metadata": {},
   "outputs": [],
   "source": [
    "with open(file) as f:\n",
    "    python_object = json.load(f)"
   ]
  },
  {
   "cell_type": "code",
   "execution_count": null,
   "id": "indoor-breed",
   "metadata": {},
   "outputs": [],
   "source": [
    "print_python(python_object)"
   ]
  },
  {
   "cell_type": "code",
   "execution_count": null,
   "id": "fatty-philippines",
   "metadata": {},
   "outputs": [],
   "source": [
    "type(python_object)"
   ]
  },
  {
   "cell_type": "code",
   "execution_count": null,
   "id": "numeric-calvin",
   "metadata": {},
   "outputs": [],
   "source": [
    "df = pd.json_normalize(python_object)"
   ]
  },
  {
   "cell_type": "code",
   "execution_count": null,
   "id": "impaired-poker",
   "metadata": {},
   "outputs": [],
   "source": [
    "df"
   ]
  },
  {
   "cell_type": "code",
   "execution_count": null,
   "id": "sunrise-quilt",
   "metadata": {},
   "outputs": [],
   "source": [
    "filename = \"demo-2b.json\"\n",
    "file = directory / filename"
   ]
  },
  {
   "cell_type": "code",
   "execution_count": null,
   "id": "lightweight-capability",
   "metadata": {},
   "outputs": [],
   "source": [
    "! cat {file}"
   ]
  },
  {
   "cell_type": "code",
   "execution_count": null,
   "id": "ordinary-overhead",
   "metadata": {},
   "outputs": [],
   "source": [
    "df = pd.read_json(file)"
   ]
  },
  {
   "cell_type": "code",
   "execution_count": null,
   "id": "serial-division",
   "metadata": {},
   "outputs": [],
   "source": [
    "df"
   ]
  },
  {
   "cell_type": "code",
   "execution_count": null,
   "id": "satisfied-delta",
   "metadata": {},
   "outputs": [],
   "source": [
    "with open(file) as f:\n",
    "    python_object = json.load(f)"
   ]
  },
  {
   "cell_type": "code",
   "execution_count": null,
   "id": "operating-salvation",
   "metadata": {},
   "outputs": [],
   "source": [
    "print_python(python_object)"
   ]
  },
  {
   "cell_type": "code",
   "execution_count": null,
   "id": "unlike-oregon",
   "metadata": {},
   "outputs": [],
   "source": [
    "type(python_object)"
   ]
  },
  {
   "cell_type": "code",
   "execution_count": null,
   "id": "fuzzy-display",
   "metadata": {},
   "outputs": [],
   "source": [
    "df = pd.json_normalize(python_object)"
   ]
  },
  {
   "cell_type": "code",
   "execution_count": null,
   "id": "swiss-chorus",
   "metadata": {},
   "outputs": [],
   "source": [
    "df"
   ]
  },
  {
   "cell_type": "code",
   "execution_count": null,
   "id": "according-equipment",
   "metadata": {},
   "outputs": [],
   "source": [
    "filename = \"demo-2c.json\"\n",
    "file = directory / filename"
   ]
  },
  {
   "cell_type": "code",
   "execution_count": null,
   "id": "dutch-poster",
   "metadata": {},
   "outputs": [],
   "source": [
    "! cat {file}"
   ]
  },
  {
   "cell_type": "code",
   "execution_count": null,
   "id": "accessory-shade",
   "metadata": {},
   "outputs": [],
   "source": [
    "df = pd.read_json(file)"
   ]
  },
  {
   "cell_type": "code",
   "execution_count": null,
   "id": "rational-cleaning",
   "metadata": {},
   "outputs": [],
   "source": [
    "df"
   ]
  },
  {
   "cell_type": "code",
   "execution_count": null,
   "id": "postal-enemy",
   "metadata": {},
   "outputs": [],
   "source": [
    "with open(file) as f:\n",
    "    python_object = json.load(f)"
   ]
  },
  {
   "cell_type": "code",
   "execution_count": null,
   "id": "infectious-richardson",
   "metadata": {},
   "outputs": [],
   "source": [
    "print_python(python_object)"
   ]
  },
  {
   "cell_type": "code",
   "execution_count": null,
   "id": "sustained-driving",
   "metadata": {},
   "outputs": [],
   "source": [
    "type(python_object)"
   ]
  },
  {
   "cell_type": "code",
   "execution_count": null,
   "id": "inclusive-senegal",
   "metadata": {},
   "outputs": [],
   "source": [
    "df = pd.json_normalize(python_object)"
   ]
  },
  {
   "cell_type": "code",
   "execution_count": null,
   "id": "convinced-yield",
   "metadata": {},
   "outputs": [],
   "source": [
    "df"
   ]
  },
  {
   "cell_type": "code",
   "execution_count": null,
   "id": "compressed-custody",
   "metadata": {},
   "outputs": [],
   "source": [
    "df_teachers = pd.json_normalize(python_object, record_path=\"Teachers\")"
   ]
  },
  {
   "cell_type": "code",
   "execution_count": null,
   "id": "cognitive-panama",
   "metadata": {},
   "outputs": [],
   "source": [
    "df_teachers"
   ]
  },
  {
   "cell_type": "code",
   "execution_count": null,
   "id": "mounted-school",
   "metadata": {},
   "outputs": [],
   "source": [
    "df_teachers = pd.json_normalize(python_object, record_path=\"Teachers\", meta=[\"Name\"])"
   ]
  },
  {
   "cell_type": "code",
   "execution_count": null,
   "id": "outer-break",
   "metadata": {},
   "outputs": [],
   "source": [
    "df_teachers"
   ]
  },
  {
   "cell_type": "markdown",
   "id": "portable-particle",
   "metadata": {},
   "source": [
    "**Typical steps to read a JSON file:**\n",
    "* Try to import the JSON file without any normalization\n",
    "```python\n",
    "pd.read_json(file)\n",
    "```\n",
    "* Import the JSON file into a python object  \n",
    "```python\n",
    "with open(file) as f:\n",
    "    python_object = json.load(f)\n",
    "```\n",
    "* Explore the python object to identify a list with the data rows\n",
    "* Use `pd.json_normalize(python_object)` to create a dataframe"
   ]
  },
  {
   "cell_type": "code",
   "execution_count": null,
   "id": "physical-positive",
   "metadata": {},
   "outputs": [],
   "source": [
    "python_object = {\n",
    "    \"metadata\": {\"Creator\": \"JC\", \"Data\": \"2 June 2021\"},\n",
    "    \"license\": \"Creative Commons\",\n",
    "    \"data\": [\n",
    "        {\"Country\": \"Spain\", \"Capital\": \"Madrid\"},\n",
    "        {\"Country\": \"France\", \"Capital\": \"Paris\"},\n",
    "        {\"Country\": \"Germany\", \"Capital\": \"Berlin\"},\n",
    "    ],\n",
    "}"
   ]
  },
  {
   "cell_type": "code",
   "execution_count": null,
   "id": "romantic-allowance",
   "metadata": {},
   "outputs": [],
   "source": [
    "type(python_object)"
   ]
  },
  {
   "cell_type": "code",
   "execution_count": null,
   "id": "level-cricket",
   "metadata": {},
   "outputs": [],
   "source": [
    "python_object.keys()"
   ]
  },
  {
   "cell_type": "code",
   "execution_count": null,
   "id": "bronze-chuck",
   "metadata": {},
   "outputs": [],
   "source": [
    "type(python_object[\"data\"])"
   ]
  },
  {
   "cell_type": "code",
   "execution_count": null,
   "id": "pediatric-animation",
   "metadata": {},
   "outputs": [],
   "source": [
    "len(python_object[\"data\"])"
   ]
  },
  {
   "cell_type": "code",
   "execution_count": null,
   "id": "ranking-implementation",
   "metadata": {},
   "outputs": [],
   "source": [
    "python_object"
   ]
  },
  {
   "cell_type": "code",
   "execution_count": null,
   "id": "revolutionary-closer",
   "metadata": {},
   "outputs": [],
   "source": [
    "python_object[\"data\"]"
   ]
  },
  {
   "cell_type": "code",
   "execution_count": null,
   "id": "after-blair",
   "metadata": {},
   "outputs": [],
   "source": [
    "python_object[\"data\"][0]"
   ]
  },
  {
   "cell_type": "markdown",
   "id": "organic-boulder",
   "metadata": {},
   "source": [
    "## Exercise 2"
   ]
  },
  {
   "cell_type": "markdown",
   "id": "based-municipality",
   "metadata": {},
   "source": [
    "The dataset for this exercise is a subset of the  `complete.json` file (limited to the year 2020) of the [NYC Philharmonic list of concerts](https://github.com/nyphilarchive/PerformanceHistory)."
   ]
  },
  {
   "cell_type": "code",
   "execution_count": 53,
   "id": "canadian-morgan",
   "metadata": {
    "tags": [
     "no-replacement"
    ]
   },
   "outputs": [],
   "source": [
    "filename = \"exercise-2.json\"\n",
    "file = directory / filename"
   ]
  },
  {
   "cell_type": "markdown",
   "id": "72e29174",
   "metadata": {},
   "source": [
    "Try to import the JSON file into a dataframe named `df` using the simplest approach:"
   ]
  },
  {
   "cell_type": "code",
   "execution_count": 54,
   "id": "phantom-melissa",
   "metadata": {},
   "outputs": [],
   "source": [
    "df = pd.read_json(file)"
   ]
  },
  {
   "cell_type": "markdown",
   "id": "2e765b23",
   "metadata": {},
   "source": [
    "Check the first 5 rows of the dataframe:"
   ]
  },
  {
   "cell_type": "code",
   "execution_count": 55,
   "id": "endangered-number",
   "metadata": {},
   "outputs": [
    {
     "data": {
      "text/html": [
       "<div>\n",
       "<style scoped>\n",
       "    .dataframe tbody tr th:only-of-type {\n",
       "        vertical-align: middle;\n",
       "    }\n",
       "\n",
       "    .dataframe tbody tr th {\n",
       "        vertical-align: top;\n",
       "    }\n",
       "\n",
       "    .dataframe thead th {\n",
       "        text-align: right;\n",
       "    }\n",
       "</style>\n",
       "<table border=\"1\" class=\"dataframe\">\n",
       "  <thead>\n",
       "    <tr style=\"text-align: right;\">\n",
       "      <th></th>\n",
       "      <th>programs</th>\n",
       "    </tr>\n",
       "  </thead>\n",
       "  <tbody>\n",
       "    <tr>\n",
       "      <th>0</th>\n",
       "      <td>{'id': '5ebddf26-57c1-4bda-ad6e-ed4be67d1033-0...</td>\n",
       "    </tr>\n",
       "    <tr>\n",
       "      <th>1</th>\n",
       "      <td>{'id': '14d63c8b-4cbb-4910-a0dc-b5d40cd43d70-0...</td>\n",
       "    </tr>\n",
       "    <tr>\n",
       "      <th>2</th>\n",
       "      <td>{'id': 'cfb75df5-e9b7-4494-8538-8312e2520a36-0...</td>\n",
       "    </tr>\n",
       "    <tr>\n",
       "      <th>3</th>\n",
       "      <td>{'id': '7b3da945-828b-4f45-9bb5-3d0dc5f83b4b-0...</td>\n",
       "    </tr>\n",
       "    <tr>\n",
       "      <th>4</th>\n",
       "      <td>{'id': '5080686d-665c-40ca-9504-27ac66929e52-0...</td>\n",
       "    </tr>\n",
       "  </tbody>\n",
       "</table>\n",
       "</div>"
      ],
      "text/plain": [
       "                                            programs\n",
       "0  {'id': '5ebddf26-57c1-4bda-ad6e-ed4be67d1033-0...\n",
       "1  {'id': '14d63c8b-4cbb-4910-a0dc-b5d40cd43d70-0...\n",
       "2  {'id': 'cfb75df5-e9b7-4494-8538-8312e2520a36-0...\n",
       "3  {'id': '7b3da945-828b-4f45-9bb5-3d0dc5f83b4b-0...\n",
       "4  {'id': '5080686d-665c-40ca-9504-27ac66929e52-0..."
      ]
     },
     "execution_count": 55,
     "metadata": {},
     "output_type": "execute_result"
    }
   ],
   "source": [
    "df.head()"
   ]
  },
  {
   "cell_type": "markdown",
   "id": "107da923",
   "metadata": {},
   "source": [
    "Turn the JSON file into a Python object:"
   ]
  },
  {
   "cell_type": "code",
   "execution_count": 56,
   "id": "spectacular-replacement",
   "metadata": {},
   "outputs": [],
   "source": [
    "with open(file) as f:\n",
    "    python_object = json.load(f)"
   ]
  },
  {
   "cell_type": "markdown",
   "id": "f3b9ca93",
   "metadata": {},
   "source": [
    "Search and **identify a list of programs** inside this Python object.  \n",
    "Check the type of this Python object:"
   ]
  },
  {
   "cell_type": "code",
   "execution_count": 57,
   "id": "meaningful-qatar",
   "metadata": {},
   "outputs": [
    {
     "data": {
      "text/plain": [
       "dict"
      ]
     },
     "execution_count": 57,
     "metadata": {},
     "output_type": "execute_result"
    }
   ],
   "source": [
    "type(python_object)"
   ]
  },
  {
   "cell_type": "markdown",
   "id": "46348e4e",
   "metadata": {},
   "source": [
    "If it is a dictionary, check its keys; if it is a list, check its length:"
   ]
  },
  {
   "cell_type": "code",
   "execution_count": 59,
   "id": "intelligent-determination",
   "metadata": {},
   "outputs": [
    {
     "data": {
      "text/plain": [
       "dict_keys(['programs'])"
      ]
     },
     "execution_count": 59,
     "metadata": {},
     "output_type": "execute_result"
    }
   ],
   "source": [
    "python_object.keys()"
   ]
  },
  {
   "cell_type": "markdown",
   "id": "f58f3ae1",
   "metadata": {},
   "source": [
    "Check the type of an element inside (either using a key identified above if it is a dictionary, or using an index if it is a list):"
   ]
  },
  {
   "cell_type": "code",
   "execution_count": 61,
   "id": "floating-decline",
   "metadata": {},
   "outputs": [
    {
     "data": {
      "text/plain": [
       "list"
      ]
     },
     "execution_count": 61,
     "metadata": {},
     "output_type": "execute_result"
    }
   ],
   "source": [
    "type(python_object[\"programs\"])"
   ]
  },
  {
   "cell_type": "markdown",
   "id": "be5c747b",
   "metadata": {},
   "source": [
    "Once a list has been found, check the first element of the list:"
   ]
  },
  {
   "cell_type": "code",
   "execution_count": 62,
   "id": "4d6ceb86",
   "metadata": {},
   "outputs": [
    {
     "data": {
      "text/plain": [
       "{'id': '5ebddf26-57c1-4bda-ad6e-ed4be67d1033-0.1',\n",
       " 'programID': '14353',\n",
       " 'orchestra': 'New York Philharmonic',\n",
       " 'season': '2019-20',\n",
       " 'concerts': [{'eventType': 'Non-Subscription',\n",
       "   'Location': 'Manhattan, NY',\n",
       "   'Venue': 'David Geffen Hall',\n",
       "   'Date': '2019-09-11T04:00:00Z',\n",
       "   'Time': '7:30PM'},\n",
       "  {'eventType': 'Non-Subscription',\n",
       "   'Location': 'Manhattan, NY',\n",
       "   'Venue': 'David Geffen Hall',\n",
       "   'Date': '2019-09-12T04:00:00Z',\n",
       "   'Time': '7:30PM'}],\n",
       " 'works': [{'ID': '12860*',\n",
       "   'composerName': 'Williams,  John',\n",
       "   'workTitle': 'CLOSE ENOUNTERS OF THE THIRD KIND - LIVE TO FILM',\n",
       "   'conductorName': 'Kaufman, Richard',\n",
       "   'soloists': [{'soloistName': 'Musica Sacra',\n",
       "     'soloistInstrument': 'Chorus',\n",
       "     'soloistRoles': 'S'}]},\n",
       "  {'ID': '0*', 'interval': 'Intermission', 'soloists': []}]}"
      ]
     },
     "execution_count": 62,
     "metadata": {},
     "output_type": "execute_result"
    }
   ],
   "source": [
    "python_object[\"programs\"][0]"
   ]
  },
  {
   "cell_type": "markdown",
   "id": "d45e742f",
   "metadata": {},
   "source": [
    "Once a list has been found, import it into a dataframe named `df`:"
   ]
  },
  {
   "cell_type": "code",
   "execution_count": 63,
   "id": "sorted-softball",
   "metadata": {},
   "outputs": [],
   "source": [
    "df = pd.json_normalize(python_object[\"programs\"])"
   ]
  },
  {
   "cell_type": "markdown",
   "id": "11ccdeee",
   "metadata": {},
   "source": [
    "Check the first 5 rows of the dataframe:"
   ]
  },
  {
   "cell_type": "code",
   "execution_count": 64,
   "id": "invalid-classics",
   "metadata": {},
   "outputs": [
    {
     "data": {
      "text/html": [
       "<div>\n",
       "<style scoped>\n",
       "    .dataframe tbody tr th:only-of-type {\n",
       "        vertical-align: middle;\n",
       "    }\n",
       "\n",
       "    .dataframe tbody tr th {\n",
       "        vertical-align: top;\n",
       "    }\n",
       "\n",
       "    .dataframe thead th {\n",
       "        text-align: right;\n",
       "    }\n",
       "</style>\n",
       "<table border=\"1\" class=\"dataframe\">\n",
       "  <thead>\n",
       "    <tr style=\"text-align: right;\">\n",
       "      <th></th>\n",
       "      <th>id</th>\n",
       "      <th>programID</th>\n",
       "      <th>orchestra</th>\n",
       "      <th>season</th>\n",
       "      <th>concerts</th>\n",
       "      <th>works</th>\n",
       "    </tr>\n",
       "  </thead>\n",
       "  <tbody>\n",
       "    <tr>\n",
       "      <th>0</th>\n",
       "      <td>5ebddf26-57c1-4bda-ad6e-ed4be67d1033-0.1</td>\n",
       "      <td>14353</td>\n",
       "      <td>New York Philharmonic</td>\n",
       "      <td>2019-20</td>\n",
       "      <td>[{'eventType': 'Non-Subscription', 'Location':...</td>\n",
       "      <td>[{'ID': '12860*', 'composerName': 'Williams,  ...</td>\n",
       "    </tr>\n",
       "    <tr>\n",
       "      <th>1</th>\n",
       "      <td>14d63c8b-4cbb-4910-a0dc-b5d40cd43d70-0.1</td>\n",
       "      <td>14354</td>\n",
       "      <td>New York Philharmonic</td>\n",
       "      <td>2019-20</td>\n",
       "      <td>[{'eventType': 'Non-Subscription', 'Location':...</td>\n",
       "      <td>[{'ID': '12888*', 'composerName': 'Herrmann,  ...</td>\n",
       "    </tr>\n",
       "    <tr>\n",
       "      <th>2</th>\n",
       "      <td>cfb75df5-e9b7-4494-8538-8312e2520a36-0.1</td>\n",
       "      <td>14318</td>\n",
       "      <td>New York Philharmonic</td>\n",
       "      <td>2019-20</td>\n",
       "      <td>[{'eventType': 'Subscription Season', 'Locatio...</td>\n",
       "      <td>[{'ID': '3965*', 'composerName': 'Anthem,', 'w...</td>\n",
       "    </tr>\n",
       "    <tr>\n",
       "      <th>3</th>\n",
       "      <td>7b3da945-828b-4f45-9bb5-3d0dc5f83b4b-0.1</td>\n",
       "      <td>14539</td>\n",
       "      <td>New York Philharmonic</td>\n",
       "      <td>2019-20</td>\n",
       "      <td>[{'eventType': 'Subscription Season', 'Locatio...</td>\n",
       "      <td>[{'ID': '12856*', 'composerName': 'Glass,  Phi...</td>\n",
       "    </tr>\n",
       "    <tr>\n",
       "      <th>4</th>\n",
       "      <td>5080686d-665c-40ca-9504-27ac66929e52-0.1</td>\n",
       "      <td>14319</td>\n",
       "      <td>New York Philharmonic</td>\n",
       "      <td>2019-20</td>\n",
       "      <td>[{'eventType': 'Subscription Season', 'Locatio...</td>\n",
       "      <td>[{'ID': '12995*5', 'composerName': 'Schoenberg...</td>\n",
       "    </tr>\n",
       "  </tbody>\n",
       "</table>\n",
       "</div>"
      ],
      "text/plain": [
       "                                         id programID              orchestra  \\\n",
       "0  5ebddf26-57c1-4bda-ad6e-ed4be67d1033-0.1     14353  New York Philharmonic   \n",
       "1  14d63c8b-4cbb-4910-a0dc-b5d40cd43d70-0.1     14354  New York Philharmonic   \n",
       "2  cfb75df5-e9b7-4494-8538-8312e2520a36-0.1     14318  New York Philharmonic   \n",
       "3  7b3da945-828b-4f45-9bb5-3d0dc5f83b4b-0.1     14539  New York Philharmonic   \n",
       "4  5080686d-665c-40ca-9504-27ac66929e52-0.1     14319  New York Philharmonic   \n",
       "\n",
       "    season                                           concerts  \\\n",
       "0  2019-20  [{'eventType': 'Non-Subscription', 'Location':...   \n",
       "1  2019-20  [{'eventType': 'Non-Subscription', 'Location':...   \n",
       "2  2019-20  [{'eventType': 'Subscription Season', 'Locatio...   \n",
       "3  2019-20  [{'eventType': 'Subscription Season', 'Locatio...   \n",
       "4  2019-20  [{'eventType': 'Subscription Season', 'Locatio...   \n",
       "\n",
       "                                               works  \n",
       "0  [{'ID': '12860*', 'composerName': 'Williams,  ...  \n",
       "1  [{'ID': '12888*', 'composerName': 'Herrmann,  ...  \n",
       "2  [{'ID': '3965*', 'composerName': 'Anthem,', 'w...  \n",
       "3  [{'ID': '12856*', 'composerName': 'Glass,  Phi...  \n",
       "4  [{'ID': '12995*5', 'composerName': 'Schoenberg...  "
      ]
     },
     "execution_count": 64,
     "metadata": {},
     "output_type": "execute_result"
    }
   ],
   "source": [
    "df.head()"
   ]
  },
  {
   "cell_type": "markdown",
   "id": "99fb2362",
   "metadata": {},
   "source": [
    "The `df` dataframe looks good, but it contains several columns whose elements are lists (e.g. the `concerts` column).  \n",
    "Import the different elements from the `works` column into another dataframe named `df_works`:"
   ]
  },
  {
   "cell_type": "code",
   "execution_count": 65,
   "id": "exceptional-german",
   "metadata": {},
   "outputs": [],
   "source": [
    "df_works = pd.json_normalize(python_object[\"programs\"], record_path=\"works\")"
   ]
  },
  {
   "cell_type": "markdown",
   "id": "5b3eb1a1",
   "metadata": {},
   "source": [
    "Check the **last 5 rows** of the dataframe:"
   ]
  },
  {
   "cell_type": "code",
   "execution_count": 66,
   "id": "saved-queen",
   "metadata": {},
   "outputs": [
    {
     "data": {
      "text/html": [
       "<div>\n",
       "<style scoped>\n",
       "    .dataframe tbody tr th:only-of-type {\n",
       "        vertical-align: middle;\n",
       "    }\n",
       "\n",
       "    .dataframe tbody tr th {\n",
       "        vertical-align: top;\n",
       "    }\n",
       "\n",
       "    .dataframe thead th {\n",
       "        text-align: right;\n",
       "    }\n",
       "</style>\n",
       "<table border=\"1\" class=\"dataframe\">\n",
       "  <thead>\n",
       "    <tr style=\"text-align: right;\">\n",
       "      <th></th>\n",
       "      <th>ID</th>\n",
       "      <th>composerName</th>\n",
       "      <th>workTitle</th>\n",
       "      <th>conductorName</th>\n",
       "      <th>soloists</th>\n",
       "      <th>interval</th>\n",
       "      <th>movement</th>\n",
       "      <th>movement._</th>\n",
       "      <th>movement.em</th>\n",
       "    </tr>\n",
       "  </thead>\n",
       "  <tbody>\n",
       "    <tr>\n",
       "      <th>359</th>\n",
       "      <td>0*</td>\n",
       "      <td>NaN</td>\n",
       "      <td>NaN</td>\n",
       "      <td>NaN</td>\n",
       "      <td>[]</td>\n",
       "      <td>Intermission</td>\n",
       "      <td>NaN</td>\n",
       "      <td>NaN</td>\n",
       "      <td>NaN</td>\n",
       "    </tr>\n",
       "    <tr>\n",
       "      <th>360</th>\n",
       "      <td>1490*</td>\n",
       "      <td>Ravel,  Maurice</td>\n",
       "      <td>SHEHERAZADE</td>\n",
       "      <td>Langree [Langrée], Louis</td>\n",
       "      <td>[{'soloistName': 'Leonard, Isabel', 'soloistIn...</td>\n",
       "      <td>NaN</td>\n",
       "      <td>NaN</td>\n",
       "      <td>NaN</td>\n",
       "      <td>NaN</td>\n",
       "    </tr>\n",
       "    <tr>\n",
       "      <th>361</th>\n",
       "      <td>53102*</td>\n",
       "      <td>Scriabin,  Alexander</td>\n",
       "      <td>SYMPHONY NO. 4, \"LE POEME D'EXTASE,\" OP. 54</td>\n",
       "      <td>Langree [Langrée], Louis</td>\n",
       "      <td>[]</td>\n",
       "      <td>NaN</td>\n",
       "      <td>NaN</td>\n",
       "      <td>NaN</td>\n",
       "      <td>NaN</td>\n",
       "    </tr>\n",
       "    <tr>\n",
       "      <th>362</th>\n",
       "      <td>12880*</td>\n",
       "      <td>LeFrak,  Karen</td>\n",
       "      <td>SLEEPOVER AT THE MUSEUM</td>\n",
       "      <td>Bahl, Ankush Kumar</td>\n",
       "      <td>[{'soloistName': 'Bernstein, Jamie', 'soloistI...</td>\n",
       "      <td>NaN</td>\n",
       "      <td>NaN</td>\n",
       "      <td>NaN</td>\n",
       "      <td>NaN</td>\n",
       "    </tr>\n",
       "    <tr>\n",
       "      <th>363</th>\n",
       "      <td>51779*</td>\n",
       "      <td>Saint-Saens [Saint-Saëns],  Camille</td>\n",
       "      <td>CARNIVAL OF THE ANIMALS</td>\n",
       "      <td>Bahl, Ankush Kumar</td>\n",
       "      <td>[{'soloistName': 'Huebner, Eric', 'soloistInst...</td>\n",
       "      <td>NaN</td>\n",
       "      <td>NaN</td>\n",
       "      <td>NaN</td>\n",
       "      <td>NaN</td>\n",
       "    </tr>\n",
       "  </tbody>\n",
       "</table>\n",
       "</div>"
      ],
      "text/plain": [
       "         ID                         composerName  \\\n",
       "359      0*                                  NaN   \n",
       "360   1490*                      Ravel,  Maurice   \n",
       "361  53102*                 Scriabin,  Alexander   \n",
       "362  12880*                       LeFrak,  Karen   \n",
       "363  51779*  Saint-Saens [Saint-Saëns],  Camille   \n",
       "\n",
       "                                       workTitle             conductorName  \\\n",
       "359                                          NaN                       NaN   \n",
       "360                                  SHEHERAZADE  Langree [Langrée], Louis   \n",
       "361  SYMPHONY NO. 4, \"LE POEME D'EXTASE,\" OP. 54  Langree [Langrée], Louis   \n",
       "362                      SLEEPOVER AT THE MUSEUM        Bahl, Ankush Kumar   \n",
       "363                      CARNIVAL OF THE ANIMALS        Bahl, Ankush Kumar   \n",
       "\n",
       "                                              soloists      interval movement  \\\n",
       "359                                                 []  Intermission      NaN   \n",
       "360  [{'soloistName': 'Leonard, Isabel', 'soloistIn...           NaN      NaN   \n",
       "361                                                 []           NaN      NaN   \n",
       "362  [{'soloistName': 'Bernstein, Jamie', 'soloistI...           NaN      NaN   \n",
       "363  [{'soloistName': 'Huebner, Eric', 'soloistInst...           NaN      NaN   \n",
       "\n",
       "    movement._ movement.em  \n",
       "359        NaN         NaN  \n",
       "360        NaN         NaN  \n",
       "361        NaN         NaN  \n",
       "362        NaN         NaN  \n",
       "363        NaN         NaN  "
      ]
     },
     "execution_count": 66,
     "metadata": {},
     "output_type": "execute_result"
    }
   ],
   "source": [
    "df_works.tail()"
   ]
  },
  {
   "cell_type": "markdown",
   "id": "b58c21f4",
   "metadata": {},
   "source": [
    "The `df_works` dataframe looks good, but it would be nicer to maintain some information from the original `df` dataframe.  \n",
    "Import the different elements from the `works` again, making sure to preserve the `programID` and `orchestra` columns from the original data:"
   ]
  },
  {
   "cell_type": "code",
   "execution_count": 67,
   "id": "saving-proposition",
   "metadata": {},
   "outputs": [],
   "source": [
    "df_works = pd.json_normalize(python_object[\"programs\"], record_path=\"works\", meta=[\"programID\",\"orchestra\"])"
   ]
  },
  {
   "cell_type": "markdown",
   "id": "8fbbc47c",
   "metadata": {},
   "source": [
    "Check the **last 5 rows** of the dataframe:"
   ]
  },
  {
   "cell_type": "code",
   "execution_count": 68,
   "id": "aggregate-agenda",
   "metadata": {},
   "outputs": [
    {
     "data": {
      "text/html": [
       "<div>\n",
       "<style scoped>\n",
       "    .dataframe tbody tr th:only-of-type {\n",
       "        vertical-align: middle;\n",
       "    }\n",
       "\n",
       "    .dataframe tbody tr th {\n",
       "        vertical-align: top;\n",
       "    }\n",
       "\n",
       "    .dataframe thead th {\n",
       "        text-align: right;\n",
       "    }\n",
       "</style>\n",
       "<table border=\"1\" class=\"dataframe\">\n",
       "  <thead>\n",
       "    <tr style=\"text-align: right;\">\n",
       "      <th></th>\n",
       "      <th>ID</th>\n",
       "      <th>composerName</th>\n",
       "      <th>workTitle</th>\n",
       "      <th>conductorName</th>\n",
       "      <th>soloists</th>\n",
       "      <th>interval</th>\n",
       "      <th>movement</th>\n",
       "      <th>movement._</th>\n",
       "      <th>movement.em</th>\n",
       "      <th>programID</th>\n",
       "      <th>orchestra</th>\n",
       "    </tr>\n",
       "  </thead>\n",
       "  <tbody>\n",
       "    <tr>\n",
       "      <th>359</th>\n",
       "      <td>0*</td>\n",
       "      <td>NaN</td>\n",
       "      <td>NaN</td>\n",
       "      <td>NaN</td>\n",
       "      <td>[]</td>\n",
       "      <td>Intermission</td>\n",
       "      <td>NaN</td>\n",
       "      <td>NaN</td>\n",
       "      <td>NaN</td>\n",
       "      <td>14380</td>\n",
       "      <td>New York Philharmonic</td>\n",
       "    </tr>\n",
       "    <tr>\n",
       "      <th>360</th>\n",
       "      <td>1490*</td>\n",
       "      <td>Ravel,  Maurice</td>\n",
       "      <td>SHEHERAZADE</td>\n",
       "      <td>Langree [Langrée], Louis</td>\n",
       "      <td>[{'soloistName': 'Leonard, Isabel', 'soloistIn...</td>\n",
       "      <td>NaN</td>\n",
       "      <td>NaN</td>\n",
       "      <td>NaN</td>\n",
       "      <td>NaN</td>\n",
       "      <td>14380</td>\n",
       "      <td>New York Philharmonic</td>\n",
       "    </tr>\n",
       "    <tr>\n",
       "      <th>361</th>\n",
       "      <td>53102*</td>\n",
       "      <td>Scriabin,  Alexander</td>\n",
       "      <td>SYMPHONY NO. 4, \"LE POEME D'EXTASE,\" OP. 54</td>\n",
       "      <td>Langree [Langrée], Louis</td>\n",
       "      <td>[]</td>\n",
       "      <td>NaN</td>\n",
       "      <td>NaN</td>\n",
       "      <td>NaN</td>\n",
       "      <td>NaN</td>\n",
       "      <td>14380</td>\n",
       "      <td>New York Philharmonic</td>\n",
       "    </tr>\n",
       "    <tr>\n",
       "      <th>362</th>\n",
       "      <td>12880*</td>\n",
       "      <td>LeFrak,  Karen</td>\n",
       "      <td>SLEEPOVER AT THE MUSEUM</td>\n",
       "      <td>Bahl, Ankush Kumar</td>\n",
       "      <td>[{'soloistName': 'Bernstein, Jamie', 'soloistI...</td>\n",
       "      <td>NaN</td>\n",
       "      <td>NaN</td>\n",
       "      <td>NaN</td>\n",
       "      <td>NaN</td>\n",
       "      <td>14379</td>\n",
       "      <td>New York Philharmonic</td>\n",
       "    </tr>\n",
       "    <tr>\n",
       "      <th>363</th>\n",
       "      <td>51779*</td>\n",
       "      <td>Saint-Saens [Saint-Saëns],  Camille</td>\n",
       "      <td>CARNIVAL OF THE ANIMALS</td>\n",
       "      <td>Bahl, Ankush Kumar</td>\n",
       "      <td>[{'soloistName': 'Huebner, Eric', 'soloistInst...</td>\n",
       "      <td>NaN</td>\n",
       "      <td>NaN</td>\n",
       "      <td>NaN</td>\n",
       "      <td>NaN</td>\n",
       "      <td>14379</td>\n",
       "      <td>New York Philharmonic</td>\n",
       "    </tr>\n",
       "  </tbody>\n",
       "</table>\n",
       "</div>"
      ],
      "text/plain": [
       "         ID                         composerName  \\\n",
       "359      0*                                  NaN   \n",
       "360   1490*                      Ravel,  Maurice   \n",
       "361  53102*                 Scriabin,  Alexander   \n",
       "362  12880*                       LeFrak,  Karen   \n",
       "363  51779*  Saint-Saens [Saint-Saëns],  Camille   \n",
       "\n",
       "                                       workTitle             conductorName  \\\n",
       "359                                          NaN                       NaN   \n",
       "360                                  SHEHERAZADE  Langree [Langrée], Louis   \n",
       "361  SYMPHONY NO. 4, \"LE POEME D'EXTASE,\" OP. 54  Langree [Langrée], Louis   \n",
       "362                      SLEEPOVER AT THE MUSEUM        Bahl, Ankush Kumar   \n",
       "363                      CARNIVAL OF THE ANIMALS        Bahl, Ankush Kumar   \n",
       "\n",
       "                                              soloists      interval movement  \\\n",
       "359                                                 []  Intermission      NaN   \n",
       "360  [{'soloistName': 'Leonard, Isabel', 'soloistIn...           NaN      NaN   \n",
       "361                                                 []           NaN      NaN   \n",
       "362  [{'soloistName': 'Bernstein, Jamie', 'soloistI...           NaN      NaN   \n",
       "363  [{'soloistName': 'Huebner, Eric', 'soloistInst...           NaN      NaN   \n",
       "\n",
       "    movement._ movement.em programID              orchestra  \n",
       "359        NaN         NaN     14380  New York Philharmonic  \n",
       "360        NaN         NaN     14380  New York Philharmonic  \n",
       "361        NaN         NaN     14380  New York Philharmonic  \n",
       "362        NaN         NaN     14379  New York Philharmonic  \n",
       "363        NaN         NaN     14379  New York Philharmonic  "
      ]
     },
     "execution_count": 68,
     "metadata": {},
     "output_type": "execute_result"
    }
   ],
   "source": [
    "df_works.tail()"
   ]
  },
  {
   "cell_type": "markdown",
   "id": "634325bc",
   "metadata": {},
   "source": [
    "<div class=\"alert alert-info\">\n",
    "\n",
    "<b>Note:</b> Who was the conductor who directed Maurice Ravel's Sheherazade piece at the NYC Philharmonic?\n",
    "\n",
    "</div>"
   ]
  },
  {
   "cell_type": "markdown",
   "id": "involved-smile",
   "metadata": {},
   "source": [
    "## Exercise 3"
   ]
  },
  {
   "cell_type": "markdown",
   "id": "rising-gallery",
   "metadata": {},
   "source": [
    "The dataset for this exercise is the `station_information.json` file of the [NYC CitiBike system](https://www.citibikenyc.com/). https://gbfs.citibikenyc.com/gbfs/en/station_information.json"
   ]
  },
  {
   "cell_type": "code",
   "execution_count": 6,
   "id": "antique-bumper",
   "metadata": {
    "tags": [
     "no-replacement"
    ]
   },
   "outputs": [],
   "source": [
    "filename = \"exercise-3.json\"\n",
    "file = directory / filename"
   ]
  },
  {
   "cell_type": "markdown",
   "id": "820986a7",
   "metadata": {},
   "source": [
    "Try to import the JSON file into a dataframe named `df` using the simplest approach:"
   ]
  },
  {
   "cell_type": "code",
   "execution_count": 7,
   "id": "injured-nightlife",
   "metadata": {},
   "outputs": [],
   "source": [
    "df = pd.read_json(file)"
   ]
  },
  {
   "cell_type": "markdown",
   "id": "e7c03087",
   "metadata": {},
   "source": [
    "Check the first 5 rows of the dataframe:"
   ]
  },
  {
   "cell_type": "code",
   "execution_count": 8,
   "id": "liked-permission",
   "metadata": {},
   "outputs": [
    {
     "data": {
      "text/html": [
       "<div>\n",
       "<style scoped>\n",
       "    .dataframe tbody tr th:only-of-type {\n",
       "        vertical-align: middle;\n",
       "    }\n",
       "\n",
       "    .dataframe tbody tr th {\n",
       "        vertical-align: top;\n",
       "    }\n",
       "\n",
       "    .dataframe thead th {\n",
       "        text-align: right;\n",
       "    }\n",
       "</style>\n",
       "<table border=\"1\" class=\"dataframe\">\n",
       "  <thead>\n",
       "    <tr style=\"text-align: right;\">\n",
       "      <th></th>\n",
       "      <th>data</th>\n",
       "      <th>last_updated</th>\n",
       "      <th>ttl</th>\n",
       "    </tr>\n",
       "  </thead>\n",
       "  <tbody>\n",
       "    <tr>\n",
       "      <th>stations</th>\n",
       "      <td>[{'lon': -73.99392888, 'capacity': 55, 'statio...</td>\n",
       "      <td>1615296230</td>\n",
       "      <td>5</td>\n",
       "    </tr>\n",
       "  </tbody>\n",
       "</table>\n",
       "</div>"
      ],
      "text/plain": [
       "                                                       data  last_updated  ttl\n",
       "stations  [{'lon': -73.99392888, 'capacity': 55, 'statio...    1615296230    5"
      ]
     },
     "execution_count": 8,
     "metadata": {},
     "output_type": "execute_result"
    }
   ],
   "source": [
    "df.head()"
   ]
  },
  {
   "cell_type": "markdown",
   "id": "a2d1d4e6",
   "metadata": {},
   "source": [
    "Turn the JSON file into a Python object:"
   ]
  },
  {
   "cell_type": "code",
   "execution_count": 9,
   "id": "threaded-alaska",
   "metadata": {},
   "outputs": [],
   "source": [
    "with open(file) as f:\n",
    "    python_object = json.load(f)"
   ]
  },
  {
   "cell_type": "markdown",
   "id": "7c32157a",
   "metadata": {},
   "source": [
    "Search and **identify a list of stations** inside this Python object.  \n",
    "Check the type of this Python object:"
   ]
  },
  {
   "cell_type": "code",
   "execution_count": 10,
   "id": "pediatric-twenty",
   "metadata": {},
   "outputs": [
    {
     "data": {
      "text/plain": [
       "dict"
      ]
     },
     "execution_count": 10,
     "metadata": {},
     "output_type": "execute_result"
    }
   ],
   "source": [
    "type(python_object)"
   ]
  },
  {
   "cell_type": "markdown",
   "id": "9c664a88",
   "metadata": {},
   "source": [
    "If it is a dictionary, check its keys; if it is a list, check its length:"
   ]
  },
  {
   "cell_type": "code",
   "execution_count": 12,
   "id": "revised-suite",
   "metadata": {},
   "outputs": [
    {
     "data": {
      "text/plain": [
       "dict_keys(['data', 'last_updated', 'ttl'])"
      ]
     },
     "execution_count": 12,
     "metadata": {},
     "output_type": "execute_result"
    }
   ],
   "source": [
    "python_object.keys()"
   ]
  },
  {
   "cell_type": "markdown",
   "id": "356496f7",
   "metadata": {},
   "source": [
    "Check the type of an element inside (either using a key identified above if it is a dictionary, or using an index if it is a list):"
   ]
  },
  {
   "cell_type": "code",
   "execution_count": 14,
   "id": "educated-roots",
   "metadata": {},
   "outputs": [
    {
     "data": {
      "text/plain": [
       "dict"
      ]
     },
     "execution_count": 14,
     "metadata": {},
     "output_type": "execute_result"
    }
   ],
   "source": [
    "type(python_object[\"data\"])"
   ]
  },
  {
   "cell_type": "markdown",
   "id": "e7c46ed2",
   "metadata": {},
   "source": [
    "Repeat this process until identifying a **list of stations**:"
   ]
  },
  {
   "cell_type": "code",
   "execution_count": 28,
   "id": "hired-residence",
   "metadata": {},
   "outputs": [],
   "source": [
    "df_stations = pd.json_normalize(python_object[\"data\"][\"stations\"])"
   ]
  },
  {
   "cell_type": "code",
   "execution_count": 29,
   "id": "reliable-transfer",
   "metadata": {},
   "outputs": [
    {
     "data": {
      "text/html": [
       "<div>\n",
       "<style scoped>\n",
       "    .dataframe tbody tr th:only-of-type {\n",
       "        vertical-align: middle;\n",
       "    }\n",
       "\n",
       "    .dataframe tbody tr th {\n",
       "        vertical-align: top;\n",
       "    }\n",
       "\n",
       "    .dataframe thead th {\n",
       "        text-align: right;\n",
       "    }\n",
       "</style>\n",
       "<table border=\"1\" class=\"dataframe\">\n",
       "  <thead>\n",
       "    <tr style=\"text-align: right;\">\n",
       "      <th></th>\n",
       "      <th>lon</th>\n",
       "      <th>capacity</th>\n",
       "      <th>station_id</th>\n",
       "      <th>eightd_has_key_dispenser</th>\n",
       "      <th>has_kiosk</th>\n",
       "      <th>lat</th>\n",
       "      <th>legacy_id</th>\n",
       "      <th>rental_methods</th>\n",
       "      <th>region_id</th>\n",
       "      <th>short_name</th>\n",
       "      <th>station_type</th>\n",
       "      <th>external_id</th>\n",
       "      <th>name</th>\n",
       "      <th>electric_bike_surcharge_waiver</th>\n",
       "      <th>eightd_station_services</th>\n",
       "      <th>rental_uris.ios</th>\n",
       "      <th>rental_uris.android</th>\n",
       "    </tr>\n",
       "  </thead>\n",
       "  <tbody>\n",
       "    <tr>\n",
       "      <th>0</th>\n",
       "      <td>-73.993929</td>\n",
       "      <td>55</td>\n",
       "      <td>72</td>\n",
       "      <td>False</td>\n",
       "      <td>True</td>\n",
       "      <td>40.767272</td>\n",
       "      <td>72</td>\n",
       "      <td>[KEY, CREDITCARD]</td>\n",
       "      <td>71</td>\n",
       "      <td>6926.01</td>\n",
       "      <td>classic</td>\n",
       "      <td>66db237e-0aca-11e7-82f6-3863bb44ef7c</td>\n",
       "      <td>W 52 St &amp; 11 Ave</td>\n",
       "      <td>False</td>\n",
       "      <td>[]</td>\n",
       "      <td>https://bkn.lft.to/lastmile_qr_scan</td>\n",
       "      <td>https://bkn.lft.to/lastmile_qr_scan</td>\n",
       "    </tr>\n",
       "    <tr>\n",
       "      <th>1</th>\n",
       "      <td>-74.006667</td>\n",
       "      <td>33</td>\n",
       "      <td>79</td>\n",
       "      <td>False</td>\n",
       "      <td>True</td>\n",
       "      <td>40.719116</td>\n",
       "      <td>79</td>\n",
       "      <td>[KEY, CREDITCARD]</td>\n",
       "      <td>71</td>\n",
       "      <td>5430.08</td>\n",
       "      <td>classic</td>\n",
       "      <td>66db269c-0aca-11e7-82f6-3863bb44ef7c</td>\n",
       "      <td>Franklin St &amp; W Broadway</td>\n",
       "      <td>False</td>\n",
       "      <td>[]</td>\n",
       "      <td>https://bkn.lft.to/lastmile_qr_scan</td>\n",
       "      <td>https://bkn.lft.to/lastmile_qr_scan</td>\n",
       "    </tr>\n",
       "    <tr>\n",
       "      <th>2</th>\n",
       "      <td>-74.000165</td>\n",
       "      <td>27</td>\n",
       "      <td>82</td>\n",
       "      <td>False</td>\n",
       "      <td>True</td>\n",
       "      <td>40.711174</td>\n",
       "      <td>82</td>\n",
       "      <td>[KEY, CREDITCARD]</td>\n",
       "      <td>71</td>\n",
       "      <td>5167.06</td>\n",
       "      <td>classic</td>\n",
       "      <td>66db277a-0aca-11e7-82f6-3863bb44ef7c</td>\n",
       "      <td>St James Pl &amp; Pearl St</td>\n",
       "      <td>False</td>\n",
       "      <td>[]</td>\n",
       "      <td>https://bkn.lft.to/lastmile_qr_scan</td>\n",
       "      <td>https://bkn.lft.to/lastmile_qr_scan</td>\n",
       "    </tr>\n",
       "    <tr>\n",
       "      <th>3</th>\n",
       "      <td>-73.976323</td>\n",
       "      <td>62</td>\n",
       "      <td>83</td>\n",
       "      <td>False</td>\n",
       "      <td>True</td>\n",
       "      <td>40.683826</td>\n",
       "      <td>83</td>\n",
       "      <td>[KEY, CREDITCARD]</td>\n",
       "      <td>71</td>\n",
       "      <td>4354.07</td>\n",
       "      <td>classic</td>\n",
       "      <td>66db281e-0aca-11e7-82f6-3863bb44ef7c</td>\n",
       "      <td>Atlantic Ave &amp; Fort Greene Pl</td>\n",
       "      <td>False</td>\n",
       "      <td>[]</td>\n",
       "      <td>https://bkn.lft.to/lastmile_qr_scan</td>\n",
       "      <td>https://bkn.lft.to/lastmile_qr_scan</td>\n",
       "    </tr>\n",
       "    <tr>\n",
       "      <th>4</th>\n",
       "      <td>-74.001497</td>\n",
       "      <td>50</td>\n",
       "      <td>116</td>\n",
       "      <td>False</td>\n",
       "      <td>True</td>\n",
       "      <td>40.741776</td>\n",
       "      <td>116</td>\n",
       "      <td>[KEY, CREDITCARD]</td>\n",
       "      <td>71</td>\n",
       "      <td>6148.02</td>\n",
       "      <td>classic</td>\n",
       "      <td>66db28b5-0aca-11e7-82f6-3863bb44ef7c</td>\n",
       "      <td>W 17 St &amp; 8 Ave</td>\n",
       "      <td>False</td>\n",
       "      <td>[]</td>\n",
       "      <td>https://bkn.lft.to/lastmile_qr_scan</td>\n",
       "      <td>https://bkn.lft.to/lastmile_qr_scan</td>\n",
       "    </tr>\n",
       "  </tbody>\n",
       "</table>\n",
       "</div>"
      ],
      "text/plain": [
       "         lon  capacity station_id  eightd_has_key_dispenser  has_kiosk  \\\n",
       "0 -73.993929        55         72                     False       True   \n",
       "1 -74.006667        33         79                     False       True   \n",
       "2 -74.000165        27         82                     False       True   \n",
       "3 -73.976323        62         83                     False       True   \n",
       "4 -74.001497        50        116                     False       True   \n",
       "\n",
       "         lat legacy_id     rental_methods region_id short_name station_type  \\\n",
       "0  40.767272        72  [KEY, CREDITCARD]        71    6926.01      classic   \n",
       "1  40.719116        79  [KEY, CREDITCARD]        71    5430.08      classic   \n",
       "2  40.711174        82  [KEY, CREDITCARD]        71    5167.06      classic   \n",
       "3  40.683826        83  [KEY, CREDITCARD]        71    4354.07      classic   \n",
       "4  40.741776       116  [KEY, CREDITCARD]        71    6148.02      classic   \n",
       "\n",
       "                            external_id                           name  \\\n",
       "0  66db237e-0aca-11e7-82f6-3863bb44ef7c               W 52 St & 11 Ave   \n",
       "1  66db269c-0aca-11e7-82f6-3863bb44ef7c       Franklin St & W Broadway   \n",
       "2  66db277a-0aca-11e7-82f6-3863bb44ef7c         St James Pl & Pearl St   \n",
       "3  66db281e-0aca-11e7-82f6-3863bb44ef7c  Atlantic Ave & Fort Greene Pl   \n",
       "4  66db28b5-0aca-11e7-82f6-3863bb44ef7c                W 17 St & 8 Ave   \n",
       "\n",
       "   electric_bike_surcharge_waiver eightd_station_services  \\\n",
       "0                           False                      []   \n",
       "1                           False                      []   \n",
       "2                           False                      []   \n",
       "3                           False                      []   \n",
       "4                           False                      []   \n",
       "\n",
       "                       rental_uris.ios                  rental_uris.android  \n",
       "0  https://bkn.lft.to/lastmile_qr_scan  https://bkn.lft.to/lastmile_qr_scan  \n",
       "1  https://bkn.lft.to/lastmile_qr_scan  https://bkn.lft.to/lastmile_qr_scan  \n",
       "2  https://bkn.lft.to/lastmile_qr_scan  https://bkn.lft.to/lastmile_qr_scan  \n",
       "3  https://bkn.lft.to/lastmile_qr_scan  https://bkn.lft.to/lastmile_qr_scan  \n",
       "4  https://bkn.lft.to/lastmile_qr_scan  https://bkn.lft.to/lastmile_qr_scan  "
      ]
     },
     "execution_count": 29,
     "metadata": {},
     "output_type": "execute_result"
    }
   ],
   "source": [
    "df_stations.head()"
   ]
  },
  {
   "cell_type": "code",
   "execution_count": 18,
   "id": "fleet-insider",
   "metadata": {},
   "outputs": [],
   "source": []
  },
  {
   "cell_type": "markdown",
   "id": "65080255",
   "metadata": {},
   "source": [
    "Once a list has been found, check the first element of the list:"
   ]
  },
  {
   "cell_type": "code",
   "execution_count": 31,
   "id": "alpine-wilson",
   "metadata": {},
   "outputs": [
    {
     "ename": "KeyError",
     "evalue": "0",
     "output_type": "error",
     "traceback": [
      "\u001b[1;31m---------------------------------------------------------------------------\u001b[0m",
      "\u001b[1;31mKeyError\u001b[0m                                  Traceback (most recent call last)",
      "\u001b[1;32m~\\anaconda3\\lib\\site-packages\\pandas\\core\\indexes\\base.py\u001b[0m in \u001b[0;36mget_loc\u001b[1;34m(self, key, method, tolerance)\u001b[0m\n\u001b[0;32m   3079\u001b[0m             \u001b[1;32mtry\u001b[0m\u001b[1;33m:\u001b[0m\u001b[1;33m\u001b[0m\u001b[1;33m\u001b[0m\u001b[0m\n\u001b[1;32m-> 3080\u001b[1;33m                 \u001b[1;32mreturn\u001b[0m \u001b[0mself\u001b[0m\u001b[1;33m.\u001b[0m\u001b[0m_engine\u001b[0m\u001b[1;33m.\u001b[0m\u001b[0mget_loc\u001b[0m\u001b[1;33m(\u001b[0m\u001b[0mcasted_key\u001b[0m\u001b[1;33m)\u001b[0m\u001b[1;33m\u001b[0m\u001b[1;33m\u001b[0m\u001b[0m\n\u001b[0m\u001b[0;32m   3081\u001b[0m             \u001b[1;32mexcept\u001b[0m \u001b[0mKeyError\u001b[0m \u001b[1;32mas\u001b[0m \u001b[0merr\u001b[0m\u001b[1;33m:\u001b[0m\u001b[1;33m\u001b[0m\u001b[1;33m\u001b[0m\u001b[0m\n",
      "\u001b[1;32mpandas\\_libs\\index.pyx\u001b[0m in \u001b[0;36mpandas._libs.index.IndexEngine.get_loc\u001b[1;34m()\u001b[0m\n",
      "\u001b[1;32mpandas\\_libs\\index.pyx\u001b[0m in \u001b[0;36mpandas._libs.index.IndexEngine.get_loc\u001b[1;34m()\u001b[0m\n",
      "\u001b[1;32mpandas\\_libs\\hashtable_class_helper.pxi\u001b[0m in \u001b[0;36mpandas._libs.hashtable.PyObjectHashTable.get_item\u001b[1;34m()\u001b[0m\n",
      "\u001b[1;32mpandas\\_libs\\hashtable_class_helper.pxi\u001b[0m in \u001b[0;36mpandas._libs.hashtable.PyObjectHashTable.get_item\u001b[1;34m()\u001b[0m\n",
      "\u001b[1;31mKeyError\u001b[0m: 0",
      "\nThe above exception was the direct cause of the following exception:\n",
      "\u001b[1;31mKeyError\u001b[0m                                  Traceback (most recent call last)",
      "\u001b[1;32m<ipython-input-31-7f236c16e282>\u001b[0m in \u001b[0;36m<module>\u001b[1;34m\u001b[0m\n\u001b[1;32m----> 1\u001b[1;33m \u001b[0mdf_stations\u001b[0m\u001b[1;33m[\u001b[0m\u001b[1;36m0\u001b[0m\u001b[1;33m]\u001b[0m\u001b[1;33m\u001b[0m\u001b[1;33m\u001b[0m\u001b[0m\n\u001b[0m",
      "\u001b[1;32m~\\anaconda3\\lib\\site-packages\\pandas\\core\\frame.py\u001b[0m in \u001b[0;36m__getitem__\u001b[1;34m(self, key)\u001b[0m\n\u001b[0;32m   3022\u001b[0m             \u001b[1;32mif\u001b[0m \u001b[0mself\u001b[0m\u001b[1;33m.\u001b[0m\u001b[0mcolumns\u001b[0m\u001b[1;33m.\u001b[0m\u001b[0mnlevels\u001b[0m \u001b[1;33m>\u001b[0m \u001b[1;36m1\u001b[0m\u001b[1;33m:\u001b[0m\u001b[1;33m\u001b[0m\u001b[1;33m\u001b[0m\u001b[0m\n\u001b[0;32m   3023\u001b[0m                 \u001b[1;32mreturn\u001b[0m \u001b[0mself\u001b[0m\u001b[1;33m.\u001b[0m\u001b[0m_getitem_multilevel\u001b[0m\u001b[1;33m(\u001b[0m\u001b[0mkey\u001b[0m\u001b[1;33m)\u001b[0m\u001b[1;33m\u001b[0m\u001b[1;33m\u001b[0m\u001b[0m\n\u001b[1;32m-> 3024\u001b[1;33m             \u001b[0mindexer\u001b[0m \u001b[1;33m=\u001b[0m \u001b[0mself\u001b[0m\u001b[1;33m.\u001b[0m\u001b[0mcolumns\u001b[0m\u001b[1;33m.\u001b[0m\u001b[0mget_loc\u001b[0m\u001b[1;33m(\u001b[0m\u001b[0mkey\u001b[0m\u001b[1;33m)\u001b[0m\u001b[1;33m\u001b[0m\u001b[1;33m\u001b[0m\u001b[0m\n\u001b[0m\u001b[0;32m   3025\u001b[0m             \u001b[1;32mif\u001b[0m \u001b[0mis_integer\u001b[0m\u001b[1;33m(\u001b[0m\u001b[0mindexer\u001b[0m\u001b[1;33m)\u001b[0m\u001b[1;33m:\u001b[0m\u001b[1;33m\u001b[0m\u001b[1;33m\u001b[0m\u001b[0m\n\u001b[0;32m   3026\u001b[0m                 \u001b[0mindexer\u001b[0m \u001b[1;33m=\u001b[0m \u001b[1;33m[\u001b[0m\u001b[0mindexer\u001b[0m\u001b[1;33m]\u001b[0m\u001b[1;33m\u001b[0m\u001b[1;33m\u001b[0m\u001b[0m\n",
      "\u001b[1;32m~\\anaconda3\\lib\\site-packages\\pandas\\core\\indexes\\base.py\u001b[0m in \u001b[0;36mget_loc\u001b[1;34m(self, key, method, tolerance)\u001b[0m\n\u001b[0;32m   3080\u001b[0m                 \u001b[1;32mreturn\u001b[0m \u001b[0mself\u001b[0m\u001b[1;33m.\u001b[0m\u001b[0m_engine\u001b[0m\u001b[1;33m.\u001b[0m\u001b[0mget_loc\u001b[0m\u001b[1;33m(\u001b[0m\u001b[0mcasted_key\u001b[0m\u001b[1;33m)\u001b[0m\u001b[1;33m\u001b[0m\u001b[1;33m\u001b[0m\u001b[0m\n\u001b[0;32m   3081\u001b[0m             \u001b[1;32mexcept\u001b[0m \u001b[0mKeyError\u001b[0m \u001b[1;32mas\u001b[0m \u001b[0merr\u001b[0m\u001b[1;33m:\u001b[0m\u001b[1;33m\u001b[0m\u001b[1;33m\u001b[0m\u001b[0m\n\u001b[1;32m-> 3082\u001b[1;33m                 \u001b[1;32mraise\u001b[0m \u001b[0mKeyError\u001b[0m\u001b[1;33m(\u001b[0m\u001b[0mkey\u001b[0m\u001b[1;33m)\u001b[0m \u001b[1;32mfrom\u001b[0m \u001b[0merr\u001b[0m\u001b[1;33m\u001b[0m\u001b[1;33m\u001b[0m\u001b[0m\n\u001b[0m\u001b[0;32m   3083\u001b[0m \u001b[1;33m\u001b[0m\u001b[0m\n\u001b[0;32m   3084\u001b[0m         \u001b[1;32mif\u001b[0m \u001b[0mtolerance\u001b[0m \u001b[1;32mis\u001b[0m \u001b[1;32mnot\u001b[0m \u001b[1;32mNone\u001b[0m\u001b[1;33m:\u001b[0m\u001b[1;33m\u001b[0m\u001b[1;33m\u001b[0m\u001b[0m\n",
      "\u001b[1;31mKeyError\u001b[0m: 0"
     ]
    }
   ],
   "source": [
    "df_stations[0]"
   ]
  },
  {
   "cell_type": "markdown",
   "id": "37f3e979",
   "metadata": {},
   "source": [
    "Once a list has been found, import it into a dataframe named `df`:"
   ]
  },
  {
   "cell_type": "code",
   "execution_count": null,
   "id": "authorized-dispute",
   "metadata": {},
   "outputs": [],
   "source": []
  },
  {
   "cell_type": "markdown",
   "id": "99863617",
   "metadata": {},
   "source": [
    "Check the first 5 rows of the dataframe:"
   ]
  },
  {
   "cell_type": "code",
   "execution_count": 20,
   "id": "white-serum",
   "metadata": {},
   "outputs": [
    {
     "data": {
      "text/html": [
       "<div>\n",
       "<style scoped>\n",
       "    .dataframe tbody tr th:only-of-type {\n",
       "        vertical-align: middle;\n",
       "    }\n",
       "\n",
       "    .dataframe tbody tr th {\n",
       "        vertical-align: top;\n",
       "    }\n",
       "\n",
       "    .dataframe thead th {\n",
       "        text-align: right;\n",
       "    }\n",
       "</style>\n",
       "<table border=\"1\" class=\"dataframe\">\n",
       "  <thead>\n",
       "    <tr style=\"text-align: right;\">\n",
       "      <th></th>\n",
       "      <th>lon</th>\n",
       "      <th>capacity</th>\n",
       "      <th>station_id</th>\n",
       "      <th>eightd_has_key_dispenser</th>\n",
       "      <th>has_kiosk</th>\n",
       "      <th>lat</th>\n",
       "      <th>legacy_id</th>\n",
       "      <th>rental_methods</th>\n",
       "      <th>region_id</th>\n",
       "      <th>short_name</th>\n",
       "      <th>station_type</th>\n",
       "      <th>external_id</th>\n",
       "      <th>name</th>\n",
       "      <th>electric_bike_surcharge_waiver</th>\n",
       "      <th>eightd_station_services</th>\n",
       "      <th>rental_uris.ios</th>\n",
       "      <th>rental_uris.android</th>\n",
       "    </tr>\n",
       "  </thead>\n",
       "  <tbody>\n",
       "    <tr>\n",
       "      <th>0</th>\n",
       "      <td>-73.993929</td>\n",
       "      <td>55</td>\n",
       "      <td>72</td>\n",
       "      <td>False</td>\n",
       "      <td>True</td>\n",
       "      <td>40.767272</td>\n",
       "      <td>72</td>\n",
       "      <td>[KEY, CREDITCARD]</td>\n",
       "      <td>71</td>\n",
       "      <td>6926.01</td>\n",
       "      <td>classic</td>\n",
       "      <td>66db237e-0aca-11e7-82f6-3863bb44ef7c</td>\n",
       "      <td>W 52 St &amp; 11 Ave</td>\n",
       "      <td>False</td>\n",
       "      <td>[]</td>\n",
       "      <td>https://bkn.lft.to/lastmile_qr_scan</td>\n",
       "      <td>https://bkn.lft.to/lastmile_qr_scan</td>\n",
       "    </tr>\n",
       "    <tr>\n",
       "      <th>1</th>\n",
       "      <td>-74.006667</td>\n",
       "      <td>33</td>\n",
       "      <td>79</td>\n",
       "      <td>False</td>\n",
       "      <td>True</td>\n",
       "      <td>40.719116</td>\n",
       "      <td>79</td>\n",
       "      <td>[KEY, CREDITCARD]</td>\n",
       "      <td>71</td>\n",
       "      <td>5430.08</td>\n",
       "      <td>classic</td>\n",
       "      <td>66db269c-0aca-11e7-82f6-3863bb44ef7c</td>\n",
       "      <td>Franklin St &amp; W Broadway</td>\n",
       "      <td>False</td>\n",
       "      <td>[]</td>\n",
       "      <td>https://bkn.lft.to/lastmile_qr_scan</td>\n",
       "      <td>https://bkn.lft.to/lastmile_qr_scan</td>\n",
       "    </tr>\n",
       "    <tr>\n",
       "      <th>2</th>\n",
       "      <td>-74.000165</td>\n",
       "      <td>27</td>\n",
       "      <td>82</td>\n",
       "      <td>False</td>\n",
       "      <td>True</td>\n",
       "      <td>40.711174</td>\n",
       "      <td>82</td>\n",
       "      <td>[KEY, CREDITCARD]</td>\n",
       "      <td>71</td>\n",
       "      <td>5167.06</td>\n",
       "      <td>classic</td>\n",
       "      <td>66db277a-0aca-11e7-82f6-3863bb44ef7c</td>\n",
       "      <td>St James Pl &amp; Pearl St</td>\n",
       "      <td>False</td>\n",
       "      <td>[]</td>\n",
       "      <td>https://bkn.lft.to/lastmile_qr_scan</td>\n",
       "      <td>https://bkn.lft.to/lastmile_qr_scan</td>\n",
       "    </tr>\n",
       "    <tr>\n",
       "      <th>3</th>\n",
       "      <td>-73.976323</td>\n",
       "      <td>62</td>\n",
       "      <td>83</td>\n",
       "      <td>False</td>\n",
       "      <td>True</td>\n",
       "      <td>40.683826</td>\n",
       "      <td>83</td>\n",
       "      <td>[KEY, CREDITCARD]</td>\n",
       "      <td>71</td>\n",
       "      <td>4354.07</td>\n",
       "      <td>classic</td>\n",
       "      <td>66db281e-0aca-11e7-82f6-3863bb44ef7c</td>\n",
       "      <td>Atlantic Ave &amp; Fort Greene Pl</td>\n",
       "      <td>False</td>\n",
       "      <td>[]</td>\n",
       "      <td>https://bkn.lft.to/lastmile_qr_scan</td>\n",
       "      <td>https://bkn.lft.to/lastmile_qr_scan</td>\n",
       "    </tr>\n",
       "    <tr>\n",
       "      <th>4</th>\n",
       "      <td>-74.001497</td>\n",
       "      <td>50</td>\n",
       "      <td>116</td>\n",
       "      <td>False</td>\n",
       "      <td>True</td>\n",
       "      <td>40.741776</td>\n",
       "      <td>116</td>\n",
       "      <td>[KEY, CREDITCARD]</td>\n",
       "      <td>71</td>\n",
       "      <td>6148.02</td>\n",
       "      <td>classic</td>\n",
       "      <td>66db28b5-0aca-11e7-82f6-3863bb44ef7c</td>\n",
       "      <td>W 17 St &amp; 8 Ave</td>\n",
       "      <td>False</td>\n",
       "      <td>[]</td>\n",
       "      <td>https://bkn.lft.to/lastmile_qr_scan</td>\n",
       "      <td>https://bkn.lft.to/lastmile_qr_scan</td>\n",
       "    </tr>\n",
       "  </tbody>\n",
       "</table>\n",
       "</div>"
      ],
      "text/plain": [
       "         lon  capacity station_id  eightd_has_key_dispenser  has_kiosk  \\\n",
       "0 -73.993929        55         72                     False       True   \n",
       "1 -74.006667        33         79                     False       True   \n",
       "2 -74.000165        27         82                     False       True   \n",
       "3 -73.976323        62         83                     False       True   \n",
       "4 -74.001497        50        116                     False       True   \n",
       "\n",
       "         lat legacy_id     rental_methods region_id short_name station_type  \\\n",
       "0  40.767272        72  [KEY, CREDITCARD]        71    6926.01      classic   \n",
       "1  40.719116        79  [KEY, CREDITCARD]        71    5430.08      classic   \n",
       "2  40.711174        82  [KEY, CREDITCARD]        71    5167.06      classic   \n",
       "3  40.683826        83  [KEY, CREDITCARD]        71    4354.07      classic   \n",
       "4  40.741776       116  [KEY, CREDITCARD]        71    6148.02      classic   \n",
       "\n",
       "                            external_id                           name  \\\n",
       "0  66db237e-0aca-11e7-82f6-3863bb44ef7c               W 52 St & 11 Ave   \n",
       "1  66db269c-0aca-11e7-82f6-3863bb44ef7c       Franklin St & W Broadway   \n",
       "2  66db277a-0aca-11e7-82f6-3863bb44ef7c         St James Pl & Pearl St   \n",
       "3  66db281e-0aca-11e7-82f6-3863bb44ef7c  Atlantic Ave & Fort Greene Pl   \n",
       "4  66db28b5-0aca-11e7-82f6-3863bb44ef7c                W 17 St & 8 Ave   \n",
       "\n",
       "   electric_bike_surcharge_waiver eightd_station_services  \\\n",
       "0                           False                      []   \n",
       "1                           False                      []   \n",
       "2                           False                      []   \n",
       "3                           False                      []   \n",
       "4                           False                      []   \n",
       "\n",
       "                       rental_uris.ios                  rental_uris.android  \n",
       "0  https://bkn.lft.to/lastmile_qr_scan  https://bkn.lft.to/lastmile_qr_scan  \n",
       "1  https://bkn.lft.to/lastmile_qr_scan  https://bkn.lft.to/lastmile_qr_scan  \n",
       "2  https://bkn.lft.to/lastmile_qr_scan  https://bkn.lft.to/lastmile_qr_scan  \n",
       "3  https://bkn.lft.to/lastmile_qr_scan  https://bkn.lft.to/lastmile_qr_scan  \n",
       "4  https://bkn.lft.to/lastmile_qr_scan  https://bkn.lft.to/lastmile_qr_scan  "
      ]
     },
     "execution_count": 20,
     "metadata": {},
     "output_type": "execute_result"
    }
   ],
   "source": [
    "df_stations.head()"
   ]
  },
  {
   "cell_type": "markdown",
   "id": "51f9dc58",
   "metadata": {},
   "source": [
    "The `df` dataframe looks good, but it contains a column (`rental_methods`) whose elements are lists.  \n",
    "Import the different elements from the `rental_methods` column into another dataframe named `df_rental`:"
   ]
  },
  {
   "cell_type": "code",
   "execution_count": 21,
   "id": "advanced-sympathy",
   "metadata": {},
   "outputs": [
    {
     "ename": "AttributeError",
     "evalue": "'list' object has no attribute 'values'",
     "output_type": "error",
     "traceback": [
      "\u001b[1;31m---------------------------------------------------------------------------\u001b[0m",
      "\u001b[1;31mAttributeError\u001b[0m                            Traceback (most recent call last)",
      "\u001b[1;32m<ipython-input-21-ed20bcb1a368>\u001b[0m in \u001b[0;36m<module>\u001b[1;34m\u001b[0m\n\u001b[1;32m----> 1\u001b[1;33m \u001b[0mdf_rental\u001b[0m \u001b[1;33m=\u001b[0m \u001b[0mpd\u001b[0m\u001b[1;33m.\u001b[0m\u001b[0mjson_normalize\u001b[0m\u001b[1;33m(\u001b[0m\u001b[0mdf_stations\u001b[0m\u001b[1;33m[\u001b[0m\u001b[1;34m\"rental_methods\"\u001b[0m\u001b[1;33m]\u001b[0m\u001b[1;33m)\u001b[0m\u001b[1;33m\u001b[0m\u001b[1;33m\u001b[0m\u001b[0m\n\u001b[0m",
      "\u001b[1;32m~\\anaconda3\\lib\\site-packages\\pandas\\io\\json\\_normalize.py\u001b[0m in \u001b[0;36m_json_normalize\u001b[1;34m(data, record_path, meta, meta_prefix, record_prefix, errors, sep, max_level)\u001b[0m\n\u001b[0;32m    268\u001b[0m \u001b[1;33m\u001b[0m\u001b[0m\n\u001b[0;32m    269\u001b[0m     \u001b[1;32mif\u001b[0m \u001b[0mrecord_path\u001b[0m \u001b[1;32mis\u001b[0m \u001b[1;32mNone\u001b[0m\u001b[1;33m:\u001b[0m\u001b[1;33m\u001b[0m\u001b[1;33m\u001b[0m\u001b[0m\n\u001b[1;32m--> 270\u001b[1;33m         \u001b[1;32mif\u001b[0m \u001b[0many\u001b[0m\u001b[1;33m(\u001b[0m\u001b[1;33m[\u001b[0m\u001b[0misinstance\u001b[0m\u001b[1;33m(\u001b[0m\u001b[0mx\u001b[0m\u001b[1;33m,\u001b[0m \u001b[0mdict\u001b[0m\u001b[1;33m)\u001b[0m \u001b[1;32mfor\u001b[0m \u001b[0mx\u001b[0m \u001b[1;32min\u001b[0m \u001b[0my\u001b[0m\u001b[1;33m.\u001b[0m\u001b[0mvalues\u001b[0m\u001b[1;33m(\u001b[0m\u001b[1;33m)\u001b[0m\u001b[1;33m]\u001b[0m \u001b[1;32mfor\u001b[0m \u001b[0my\u001b[0m \u001b[1;32min\u001b[0m \u001b[0mdata\u001b[0m\u001b[1;33m)\u001b[0m\u001b[1;33m:\u001b[0m\u001b[1;33m\u001b[0m\u001b[1;33m\u001b[0m\u001b[0m\n\u001b[0m\u001b[0;32m    271\u001b[0m             \u001b[1;31m# naive normalization, this is idempotent for flat records\u001b[0m\u001b[1;33m\u001b[0m\u001b[1;33m\u001b[0m\u001b[1;33m\u001b[0m\u001b[0m\n\u001b[0;32m    272\u001b[0m             \u001b[1;31m# and potentially will inflate the data considerably for\u001b[0m\u001b[1;33m\u001b[0m\u001b[1;33m\u001b[0m\u001b[1;33m\u001b[0m\u001b[0m\n",
      "\u001b[1;32m~\\anaconda3\\lib\\site-packages\\pandas\\io\\json\\_normalize.py\u001b[0m in \u001b[0;36m<genexpr>\u001b[1;34m(.0)\u001b[0m\n\u001b[0;32m    268\u001b[0m \u001b[1;33m\u001b[0m\u001b[0m\n\u001b[0;32m    269\u001b[0m     \u001b[1;32mif\u001b[0m \u001b[0mrecord_path\u001b[0m \u001b[1;32mis\u001b[0m \u001b[1;32mNone\u001b[0m\u001b[1;33m:\u001b[0m\u001b[1;33m\u001b[0m\u001b[1;33m\u001b[0m\u001b[0m\n\u001b[1;32m--> 270\u001b[1;33m         \u001b[1;32mif\u001b[0m \u001b[0many\u001b[0m\u001b[1;33m(\u001b[0m\u001b[1;33m[\u001b[0m\u001b[0misinstance\u001b[0m\u001b[1;33m(\u001b[0m\u001b[0mx\u001b[0m\u001b[1;33m,\u001b[0m \u001b[0mdict\u001b[0m\u001b[1;33m)\u001b[0m \u001b[1;32mfor\u001b[0m \u001b[0mx\u001b[0m \u001b[1;32min\u001b[0m \u001b[0my\u001b[0m\u001b[1;33m.\u001b[0m\u001b[0mvalues\u001b[0m\u001b[1;33m(\u001b[0m\u001b[1;33m)\u001b[0m\u001b[1;33m]\u001b[0m \u001b[1;32mfor\u001b[0m \u001b[0my\u001b[0m \u001b[1;32min\u001b[0m \u001b[0mdata\u001b[0m\u001b[1;33m)\u001b[0m\u001b[1;33m:\u001b[0m\u001b[1;33m\u001b[0m\u001b[1;33m\u001b[0m\u001b[0m\n\u001b[0m\u001b[0;32m    271\u001b[0m             \u001b[1;31m# naive normalization, this is idempotent for flat records\u001b[0m\u001b[1;33m\u001b[0m\u001b[1;33m\u001b[0m\u001b[1;33m\u001b[0m\u001b[0m\n\u001b[0;32m    272\u001b[0m             \u001b[1;31m# and potentially will inflate the data considerably for\u001b[0m\u001b[1;33m\u001b[0m\u001b[1;33m\u001b[0m\u001b[1;33m\u001b[0m\u001b[0m\n",
      "\u001b[1;31mAttributeError\u001b[0m: 'list' object has no attribute 'values'"
     ]
    }
   ],
   "source": [
    "df_rental = pd.json_normalize(df_stations[\"rental_methods\"])"
   ]
  },
  {
   "cell_type": "markdown",
   "id": "a4ac4231",
   "metadata": {},
   "source": [
    "Check the first 5 rows of the dataframe:"
   ]
  },
  {
   "cell_type": "code",
   "execution_count": null,
   "id": "incorporate-wrong",
   "metadata": {},
   "outputs": [],
   "source": []
  },
  {
   "cell_type": "markdown",
   "id": "56646382",
   "metadata": {},
   "source": [
    "The `df_rental` dataframe looks good, but it would be nicer to maintain some information from the original `df` dataframe.  \n",
    "Import the different elements from the `rental_methods` again, making sure to preserve the `station_id` column from the original data:"
   ]
  },
  {
   "cell_type": "code",
   "execution_count": null,
   "id": "three-sunrise",
   "metadata": {},
   "outputs": [],
   "source": []
  },
  {
   "cell_type": "markdown",
   "id": "6494cad1",
   "metadata": {},
   "source": [
    "Check the first 5 rows of the dataframe:"
   ]
  },
  {
   "cell_type": "code",
   "execution_count": null,
   "id": "polish-corpus",
   "metadata": {},
   "outputs": [],
   "source": []
  },
  {
   "cell_type": "markdown",
   "id": "9a223884",
   "metadata": {},
   "source": [
    "Find out how many stations accept credit cards as payment method, and how many accept a key:"
   ]
  },
  {
   "cell_type": "code",
   "execution_count": null,
   "id": "a9843740",
   "metadata": {},
   "outputs": [],
   "source": []
  }
 ],
 "metadata": {
  "kernelspec": {
   "display_name": "Python 3",
   "language": "python",
   "name": "python3"
  },
  "language_info": {
   "codemirror_mode": {
    "name": "ipython",
    "version": 3
   },
   "file_extension": ".py",
   "mimetype": "text/x-python",
   "name": "python",
   "nbconvert_exporter": "python",
   "pygments_lexer": "ipython3",
   "version": "3.8.10"
  }
 },
 "nbformat": 4,
 "nbformat_minor": 5
}
