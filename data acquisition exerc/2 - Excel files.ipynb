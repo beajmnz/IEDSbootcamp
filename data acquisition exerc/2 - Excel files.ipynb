{
 "cells": [
  {
   "cell_type": "markdown",
   "id": "accurate-logic",
   "metadata": {},
   "source": [
    "# Excel files"
   ]
  },
  {
   "cell_type": "markdown",
   "id": "effective-aurora",
   "metadata": {},
   "source": [
    "## Import statements"
   ]
  },
  {
   "cell_type": "code",
   "execution_count": 1,
   "id": "orange-owner",
   "metadata": {},
   "outputs": [],
   "source": [
    "import pandas as pd\n",
    "import pathlib"
   ]
  },
  {
   "cell_type": "markdown",
   "id": "pharmaceutical-sleeve",
   "metadata": {},
   "source": [
    "## Excel-specific package"
   ]
  },
  {
   "cell_type": "markdown",
   "id": "parental-austria",
   "metadata": {},
   "source": [
    "To handle Excel files, additional packages (such as `openpyxl` or `xlrd`) are needed:"
   ]
  },
  {
   "cell_type": "code",
   "execution_count": 2,
   "id": "lesser-consensus",
   "metadata": {},
   "outputs": [],
   "source": [
    "# For old-style Excel files (.xls):\n",
    "import xlrd"
   ]
  },
  {
   "cell_type": "code",
   "execution_count": 3,
   "id": "complimentary-mercury",
   "metadata": {},
   "outputs": [],
   "source": [
    "# For new-style Excel files (.xlsx):\n",
    "import openpyxl"
   ]
  },
  {
   "cell_type": "markdown",
   "id": "explicit-enforcement",
   "metadata": {},
   "source": [
    "## Setup"
   ]
  },
  {
   "cell_type": "markdown",
   "id": "worth-visiting",
   "metadata": {},
   "source": [
    "The files for this class are stored in the `data/excel` directory:"
   ]
  },
  {
   "cell_type": "code",
   "execution_count": 4,
   "id": "heard-amsterdam",
   "metadata": {},
   "outputs": [],
   "source": [
    "directory = pathlib.Path(\"data\") / \"excel\""
   ]
  },
  {
   "cell_type": "markdown",
   "id": "protected-secondary",
   "metadata": {},
   "source": [
    "## Demo 1: Import an Excel file"
   ]
  },
  {
   "cell_type": "markdown",
   "id": "advisory-section",
   "metadata": {},
   "source": [
    "### Import the Excel file into a dataframe"
   ]
  },
  {
   "cell_type": "code",
   "execution_count": 8,
   "id": "hindu-toyota",
   "metadata": {},
   "outputs": [],
   "source": [
    "# Pick either the .xls or the .xlsx file:\n",
    "#filename = \"demo-1.xls\"\n",
    "filename = \"demo-1.xlsx\"\n",
    "file = directory / filename"
   ]
  },
  {
   "cell_type": "code",
   "execution_count": 9,
   "id": "massive-lover",
   "metadata": {},
   "outputs": [],
   "source": [
    "df = pd.read_excel(file)"
   ]
  },
  {
   "cell_type": "code",
   "execution_count": 10,
   "id": "annoying-shepherd",
   "metadata": {},
   "outputs": [
    {
     "data": {
      "text/html": [
       "<div>\n",
       "<style scoped>\n",
       "    .dataframe tbody tr th:only-of-type {\n",
       "        vertical-align: middle;\n",
       "    }\n",
       "\n",
       "    .dataframe tbody tr th {\n",
       "        vertical-align: top;\n",
       "    }\n",
       "\n",
       "    .dataframe thead th {\n",
       "        text-align: right;\n",
       "    }\n",
       "</style>\n",
       "<table border=\"1\" class=\"dataframe\">\n",
       "  <thead>\n",
       "    <tr style=\"text-align: right;\">\n",
       "      <th></th>\n",
       "      <th>Country</th>\n",
       "      <th>Capital</th>\n",
       "    </tr>\n",
       "  </thead>\n",
       "  <tbody>\n",
       "    <tr>\n",
       "      <th>0</th>\n",
       "      <td>Spain</td>\n",
       "      <td>Madrid</td>\n",
       "    </tr>\n",
       "    <tr>\n",
       "      <th>1</th>\n",
       "      <td>France</td>\n",
       "      <td>Paris</td>\n",
       "    </tr>\n",
       "    <tr>\n",
       "      <th>2</th>\n",
       "      <td>Germany</td>\n",
       "      <td>Berlin</td>\n",
       "    </tr>\n",
       "  </tbody>\n",
       "</table>\n",
       "</div>"
      ],
      "text/plain": [
       "   Country Capital\n",
       "0    Spain  Madrid\n",
       "1   France   Paris\n",
       "2  Germany  Berlin"
      ]
     },
     "execution_count": 10,
     "metadata": {},
     "output_type": "execute_result"
    }
   ],
   "source": [
    "df"
   ]
  },
  {
   "cell_type": "markdown",
   "id": "known-input",
   "metadata": {},
   "source": [
    "## Exercise 1"
   ]
  },
  {
   "cell_type": "markdown",
   "id": "rising-calendar",
   "metadata": {},
   "source": [
    "The dataset for this exercise are the `Presidents.xls` and `Presidents.xlsx` files taken from the [DePaul University Quantitative Reasoning Center](https://qrc.depaul.edu/)."
   ]
  },
  {
   "cell_type": "code",
   "execution_count": 11,
   "id": "hearing-celtic",
   "metadata": {
    "tags": [
     "no-replacement"
    ]
   },
   "outputs": [],
   "source": [
    "# Pick either the .xls or the .xlsx file:\n",
    "filename = \"exercise-1.xls\"\n",
    "#filename = \"exercise-1.xlsx\"\n",
    "file = directory / filename"
   ]
  },
  {
   "cell_type": "markdown",
   "id": "e2650107",
   "metadata": {},
   "source": [
    "Import the file into a DataFrame:"
   ]
  },
  {
   "cell_type": "code",
   "execution_count": 12,
   "id": "underlying-corpus",
   "metadata": {},
   "outputs": [],
   "source": [
    "ex1 = pd.read_excel(file)"
   ]
  },
  {
   "cell_type": "markdown",
   "id": "3512827e",
   "metadata": {},
   "source": [
    "Check the first 5 rows of the DataFrame:"
   ]
  },
  {
   "cell_type": "code",
   "execution_count": 13,
   "id": "juvenile-consideration",
   "metadata": {
    "scrolled": true
   },
   "outputs": [
    {
     "data": {
      "text/html": [
       "<div>\n",
       "<style scoped>\n",
       "    .dataframe tbody tr th:only-of-type {\n",
       "        vertical-align: middle;\n",
       "    }\n",
       "\n",
       "    .dataframe tbody tr th {\n",
       "        vertical-align: top;\n",
       "    }\n",
       "\n",
       "    .dataframe thead th {\n",
       "        text-align: right;\n",
       "    }\n",
       "</style>\n",
       "<table border=\"1\" class=\"dataframe\">\n",
       "  <thead>\n",
       "    <tr style=\"text-align: right;\">\n",
       "      <th></th>\n",
       "      <th>President</th>\n",
       "      <th>Years in office</th>\n",
       "      <th>Year first inaugurated</th>\n",
       "      <th>Age at inauguration</th>\n",
       "      <th>State elected from</th>\n",
       "      <th># of electoral votes</th>\n",
       "      <th># of popular votes</th>\n",
       "      <th>National total votes</th>\n",
       "      <th>Total electoral votes</th>\n",
       "      <th>Rating points</th>\n",
       "      <th>Political Party</th>\n",
       "      <th>Occupation</th>\n",
       "      <th>College</th>\n",
       "      <th>% electoral</th>\n",
       "      <th>% popular</th>\n",
       "    </tr>\n",
       "  </thead>\n",
       "  <tbody>\n",
       "    <tr>\n",
       "      <th>0</th>\n",
       "      <td>George Washington</td>\n",
       "      <td>8.0</td>\n",
       "      <td>1789</td>\n",
       "      <td>57</td>\n",
       "      <td>Virginia</td>\n",
       "      <td>69</td>\n",
       "      <td>NA()</td>\n",
       "      <td>NA()</td>\n",
       "      <td>69</td>\n",
       "      <td>842.0</td>\n",
       "      <td>None</td>\n",
       "      <td>Planter</td>\n",
       "      <td>None</td>\n",
       "      <td>100.000000</td>\n",
       "      <td>NA()</td>\n",
       "    </tr>\n",
       "    <tr>\n",
       "      <th>1</th>\n",
       "      <td>John Adams</td>\n",
       "      <td>4.0</td>\n",
       "      <td>1797</td>\n",
       "      <td>61</td>\n",
       "      <td>Massachusetts</td>\n",
       "      <td>132</td>\n",
       "      <td>NA()</td>\n",
       "      <td>NA()</td>\n",
       "      <td>139</td>\n",
       "      <td>598.0</td>\n",
       "      <td>Federalist</td>\n",
       "      <td>Lawyer</td>\n",
       "      <td>Harvard</td>\n",
       "      <td>94.964029</td>\n",
       "      <td>NA()</td>\n",
       "    </tr>\n",
       "    <tr>\n",
       "      <th>2</th>\n",
       "      <td>Thomas Jefferson</td>\n",
       "      <td>8.0</td>\n",
       "      <td>1801</td>\n",
       "      <td>57</td>\n",
       "      <td>Virginia</td>\n",
       "      <td>73</td>\n",
       "      <td>NA()</td>\n",
       "      <td>NA()</td>\n",
       "      <td>137</td>\n",
       "      <td>711.0</td>\n",
       "      <td>Democratic-Republican</td>\n",
       "      <td>Planter, Lawyer</td>\n",
       "      <td>William and Mary</td>\n",
       "      <td>53.284672</td>\n",
       "      <td>NA()</td>\n",
       "    </tr>\n",
       "    <tr>\n",
       "      <th>3</th>\n",
       "      <td>James Madison</td>\n",
       "      <td>8.0</td>\n",
       "      <td>1809</td>\n",
       "      <td>57</td>\n",
       "      <td>Virginia</td>\n",
       "      <td>122</td>\n",
       "      <td>NA()</td>\n",
       "      <td>NA()</td>\n",
       "      <td>176</td>\n",
       "      <td>567.0</td>\n",
       "      <td>Democratic-Republican</td>\n",
       "      <td>Lawyer</td>\n",
       "      <td>Princeton</td>\n",
       "      <td>69.318182</td>\n",
       "      <td>NA()</td>\n",
       "    </tr>\n",
       "    <tr>\n",
       "      <th>4</th>\n",
       "      <td>James Monroe</td>\n",
       "      <td>8.0</td>\n",
       "      <td>1817</td>\n",
       "      <td>58</td>\n",
       "      <td>Virginia</td>\n",
       "      <td>183</td>\n",
       "      <td>NA()</td>\n",
       "      <td>NA()</td>\n",
       "      <td>221</td>\n",
       "      <td>602.0</td>\n",
       "      <td>Democratic-Republican</td>\n",
       "      <td>Lawyer</td>\n",
       "      <td>William and Mary</td>\n",
       "      <td>82.805430</td>\n",
       "      <td>NA()</td>\n",
       "    </tr>\n",
       "  </tbody>\n",
       "</table>\n",
       "</div>"
      ],
      "text/plain": [
       "           President  Years in office  Year first inaugurated  \\\n",
       "0  George Washington              8.0                    1789   \n",
       "1         John Adams              4.0                    1797   \n",
       "2   Thomas Jefferson              8.0                    1801   \n",
       "3      James Madison              8.0                    1809   \n",
       "4       James Monroe              8.0                    1817   \n",
       "\n",
       "   Age at inauguration State elected from  # of electoral votes  \\\n",
       "0                   57           Virginia                    69   \n",
       "1                   61      Massachusetts                   132   \n",
       "2                   57           Virginia                    73   \n",
       "3                   57           Virginia                   122   \n",
       "4                   58           Virginia                   183   \n",
       "\n",
       "  # of popular votes National total votes  Total electoral votes  \\\n",
       "0               NA()                 NA()                     69   \n",
       "1               NA()                 NA()                    139   \n",
       "2               NA()                 NA()                    137   \n",
       "3               NA()                 NA()                    176   \n",
       "4               NA()                 NA()                    221   \n",
       "\n",
       "   Rating points        Political Party       Occupation           College  \\\n",
       "0          842.0                   None          Planter              None   \n",
       "1          598.0             Federalist           Lawyer           Harvard   \n",
       "2          711.0  Democratic-Republican  Planter, Lawyer  William and Mary   \n",
       "3          567.0  Democratic-Republican           Lawyer         Princeton   \n",
       "4          602.0  Democratic-Republican           Lawyer  William and Mary   \n",
       "\n",
       "   % electoral % popular  \n",
       "0   100.000000      NA()  \n",
       "1    94.964029      NA()  \n",
       "2    53.284672      NA()  \n",
       "3    69.318182      NA()  \n",
       "4    82.805430      NA()  "
      ]
     },
     "execution_count": 13,
     "metadata": {},
     "output_type": "execute_result"
    }
   ],
   "source": [
    "ex1.head()"
   ]
  },
  {
   "cell_type": "code",
   "execution_count": 17,
   "id": "3be70ad0",
   "metadata": {},
   "outputs": [
    {
     "name": "stdout",
     "output_type": "stream",
     "text": [
      "(35, 15)\n"
     ]
    },
    {
     "data": {
      "text/plain": [
       "President                  object\n",
       "Years in office           float64\n",
       "Year first inaugurated      int64\n",
       "Age at inauguration         int64\n",
       "State elected from         object\n",
       "# of electoral votes        int64\n",
       "# of popular votes         object\n",
       "National total votes       object\n",
       "Total electoral votes       int64\n",
       "Rating points             float64\n",
       "Political Party            object\n",
       "Occupation                 object\n",
       "College                    object\n",
       "% electoral               float64\n",
       "% popular                  object\n",
       "dtype: object"
      ]
     },
     "execution_count": 17,
     "metadata": {},
     "output_type": "execute_result"
    }
   ],
   "source": [
    "print(ex1.shape)\n",
    "ex1.dtypes"
   ]
  },
  {
   "cell_type": "markdown",
   "id": "crude-smoke",
   "metadata": {},
   "source": [
    "## Demo 2: Import specific sheets from an Excel file"
   ]
  },
  {
   "cell_type": "markdown",
   "id": "liberal-arkansas",
   "metadata": {},
   "source": [
    "### List all the sheet names"
   ]
  },
  {
   "cell_type": "code",
   "execution_count": 19,
   "id": "needed-skating",
   "metadata": {},
   "outputs": [],
   "source": [
    "# Pick either the .xls or the .xlsx file:\n",
    "filename = \"demo-1.xls\"\n",
    "#filename = \"demo-1.xlsx\"\n",
    "file = directory / filename"
   ]
  },
  {
   "cell_type": "code",
   "execution_count": 20,
   "id": "swedish-consensus",
   "metadata": {},
   "outputs": [],
   "source": [
    "excel_file = pd.ExcelFile(file)"
   ]
  },
  {
   "cell_type": "code",
   "execution_count": 21,
   "id": "missing-national",
   "metadata": {},
   "outputs": [
    {
     "name": "stdout",
     "output_type": "stream",
     "text": [
      "['Capitals', 'Populations']\n"
     ]
    }
   ],
   "source": [
    "print(excel_file.sheet_names)"
   ]
  },
  {
   "cell_type": "markdown",
   "id": "million-migration",
   "metadata": {},
   "source": [
    "### Import a specific sheet from the Excel file into a dataframe"
   ]
  },
  {
   "cell_type": "code",
   "execution_count": 22,
   "id": "diverse-clinton",
   "metadata": {},
   "outputs": [],
   "source": [
    "# Pick either the .xls or the .xlsx file:\n",
    "filename = \"demo-1.xls\"\n",
    "#filename = \"demo-1.xlsx\"\n",
    "file = directory / filename"
   ]
  },
  {
   "cell_type": "code",
   "execution_count": 23,
   "id": "split-fundamentals",
   "metadata": {},
   "outputs": [],
   "source": [
    "df = pd.read_excel(file, sheet_name=\"Populations\")"
   ]
  },
  {
   "cell_type": "code",
   "execution_count": 24,
   "id": "varied-handle",
   "metadata": {},
   "outputs": [
    {
     "data": {
      "text/html": [
       "<div>\n",
       "<style scoped>\n",
       "    .dataframe tbody tr th:only-of-type {\n",
       "        vertical-align: middle;\n",
       "    }\n",
       "\n",
       "    .dataframe tbody tr th {\n",
       "        vertical-align: top;\n",
       "    }\n",
       "\n",
       "    .dataframe thead th {\n",
       "        text-align: right;\n",
       "    }\n",
       "</style>\n",
       "<table border=\"1\" class=\"dataframe\">\n",
       "  <thead>\n",
       "    <tr style=\"text-align: right;\">\n",
       "      <th></th>\n",
       "      <th>Country</th>\n",
       "      <th>Population</th>\n",
       "    </tr>\n",
       "  </thead>\n",
       "  <tbody>\n",
       "    <tr>\n",
       "      <th>0</th>\n",
       "      <td>Spain</td>\n",
       "      <td>47332614</td>\n",
       "    </tr>\n",
       "    <tr>\n",
       "      <th>1</th>\n",
       "      <td>France</td>\n",
       "      <td>67320216</td>\n",
       "    </tr>\n",
       "    <tr>\n",
       "      <th>2</th>\n",
       "      <td>Germany</td>\n",
       "      <td>83166711</td>\n",
       "    </tr>\n",
       "  </tbody>\n",
       "</table>\n",
       "</div>"
      ],
      "text/plain": [
       "   Country  Population\n",
       "0    Spain    47332614\n",
       "1   France    67320216\n",
       "2  Germany    83166711"
      ]
     },
     "execution_count": 24,
     "metadata": {},
     "output_type": "execute_result"
    }
   ],
   "source": [
    "df"
   ]
  },
  {
   "cell_type": "markdown",
   "id": "current-matrix",
   "metadata": {},
   "source": [
    "## Exercise 2"
   ]
  },
  {
   "cell_type": "markdown",
   "id": "final-landing",
   "metadata": {},
   "source": [
    "The dataset for this exercise are the same `Presidents.xls` and `Presidents.xlsx` files as for Exercise 1."
   ]
  },
  {
   "cell_type": "code",
   "execution_count": 25,
   "id": "toxic-security",
   "metadata": {
    "tags": [
     "no-replacement"
    ]
   },
   "outputs": [],
   "source": [
    "# Pick either the .xls or the .xlsx file:\n",
    "filename = \"exercise-1.xls\"\n",
    "#filename = \"exercise-1.xlsx\"\n",
    "file = directory / filename"
   ]
  },
  {
   "cell_type": "markdown",
   "id": "acdcabbf",
   "metadata": {},
   "source": [
    "List all the sheet names:"
   ]
  },
  {
   "cell_type": "code",
   "execution_count": 26,
   "id": "allied-interest",
   "metadata": {},
   "outputs": [],
   "source": [
    "excel_file = pd.ExcelFile(file)"
   ]
  },
  {
   "cell_type": "code",
   "execution_count": 27,
   "id": "connected-mobility",
   "metadata": {},
   "outputs": [
    {
     "name": "stdout",
     "output_type": "stream",
     "text": [
      "['Elected presidents', 'Popularly elected presidents', 'Master', 'Occupations', 'States']\n"
     ]
    }
   ],
   "source": [
    "print(excel_file.sheet_names)"
   ]
  },
  {
   "cell_type": "markdown",
   "id": "6ac7a0fa",
   "metadata": {},
   "source": [
    "Import the \"States\" sheet from the file into a DataFrame:"
   ]
  },
  {
   "cell_type": "code",
   "execution_count": 28,
   "id": "considered-jacksonville",
   "metadata": {},
   "outputs": [],
   "source": [
    "ex1 = pd.read_excel(file, sheet_name=\"States\")"
   ]
  },
  {
   "cell_type": "markdown",
   "id": "a1d8c35a",
   "metadata": {},
   "source": [
    "Check the first 5 rows of the DataFrame:"
   ]
  },
  {
   "cell_type": "code",
   "execution_count": 29,
   "id": "linear-permission",
   "metadata": {},
   "outputs": [
    {
     "data": {
      "text/html": [
       "<div>\n",
       "<style scoped>\n",
       "    .dataframe tbody tr th:only-of-type {\n",
       "        vertical-align: middle;\n",
       "    }\n",
       "\n",
       "    .dataframe tbody tr th {\n",
       "        vertical-align: top;\n",
       "    }\n",
       "\n",
       "    .dataframe thead th {\n",
       "        text-align: right;\n",
       "    }\n",
       "</style>\n",
       "<table border=\"1\" class=\"dataframe\">\n",
       "  <thead>\n",
       "    <tr style=\"text-align: right;\">\n",
       "      <th></th>\n",
       "      <th>State</th>\n",
       "      <th>No. of Presidents</th>\n",
       "    </tr>\n",
       "  </thead>\n",
       "  <tbody>\n",
       "    <tr>\n",
       "      <th>0</th>\n",
       "      <td>NaN</td>\n",
       "      <td>NaN</td>\n",
       "    </tr>\n",
       "    <tr>\n",
       "      <th>1</th>\n",
       "      <td>Alabama</td>\n",
       "      <td>0.0</td>\n",
       "    </tr>\n",
       "    <tr>\n",
       "      <th>2</th>\n",
       "      <td>Alaska</td>\n",
       "      <td>0.0</td>\n",
       "    </tr>\n",
       "    <tr>\n",
       "      <th>3</th>\n",
       "      <td>Arizona</td>\n",
       "      <td>0.0</td>\n",
       "    </tr>\n",
       "    <tr>\n",
       "      <th>4</th>\n",
       "      <td>Arkansas</td>\n",
       "      <td>1.0</td>\n",
       "    </tr>\n",
       "  </tbody>\n",
       "</table>\n",
       "</div>"
      ],
      "text/plain": [
       "      State  No. of Presidents\n",
       "0       NaN                NaN\n",
       "1   Alabama                0.0\n",
       "2    Alaska                0.0\n",
       "3   Arizona                0.0\n",
       "4  Arkansas                1.0"
      ]
     },
     "execution_count": 29,
     "metadata": {},
     "output_type": "execute_result"
    }
   ],
   "source": [
    "ex1.head()"
   ]
  },
  {
   "cell_type": "markdown",
   "id": "better-antarctica",
   "metadata": {},
   "source": [
    "Skip the empty row (Hint: check the documentation of `pd.read_excel`):"
   ]
  },
  {
   "cell_type": "code",
   "execution_count": 44,
   "id": "false-trinity",
   "metadata": {},
   "outputs": [],
   "source": [
    "ex1 = pd.read_excel(file, sheet_name=\"States\",header=0, skiprows=[1])"
   ]
  },
  {
   "cell_type": "markdown",
   "id": "b050964d",
   "metadata": {},
   "source": [
    "Check the first 5 rows of the DataFrame:"
   ]
  },
  {
   "cell_type": "code",
   "execution_count": 45,
   "id": "atlantic-agriculture",
   "metadata": {},
   "outputs": [
    {
     "data": {
      "text/html": [
       "<div>\n",
       "<style scoped>\n",
       "    .dataframe tbody tr th:only-of-type {\n",
       "        vertical-align: middle;\n",
       "    }\n",
       "\n",
       "    .dataframe tbody tr th {\n",
       "        vertical-align: top;\n",
       "    }\n",
       "\n",
       "    .dataframe thead th {\n",
       "        text-align: right;\n",
       "    }\n",
       "</style>\n",
       "<table border=\"1\" class=\"dataframe\">\n",
       "  <thead>\n",
       "    <tr style=\"text-align: right;\">\n",
       "      <th></th>\n",
       "      <th>State</th>\n",
       "      <th>No. of Presidents</th>\n",
       "    </tr>\n",
       "  </thead>\n",
       "  <tbody>\n",
       "    <tr>\n",
       "      <th>0</th>\n",
       "      <td>Alabama</td>\n",
       "      <td>0</td>\n",
       "    </tr>\n",
       "    <tr>\n",
       "      <th>1</th>\n",
       "      <td>Alaska</td>\n",
       "      <td>0</td>\n",
       "    </tr>\n",
       "    <tr>\n",
       "      <th>2</th>\n",
       "      <td>Arizona</td>\n",
       "      <td>0</td>\n",
       "    </tr>\n",
       "    <tr>\n",
       "      <th>3</th>\n",
       "      <td>Arkansas</td>\n",
       "      <td>1</td>\n",
       "    </tr>\n",
       "    <tr>\n",
       "      <th>4</th>\n",
       "      <td>California</td>\n",
       "      <td>2</td>\n",
       "    </tr>\n",
       "  </tbody>\n",
       "</table>\n",
       "</div>"
      ],
      "text/plain": [
       "        State  No. of Presidents\n",
       "0     Alabama                  0\n",
       "1      Alaska                  0\n",
       "2     Arizona                  0\n",
       "3    Arkansas                  1\n",
       "4  California                  2"
      ]
     },
     "execution_count": 45,
     "metadata": {},
     "output_type": "execute_result"
    }
   ],
   "source": [
    "ex1.head()"
   ]
  },
  {
   "cell_type": "markdown",
   "id": "75d36eee",
   "metadata": {},
   "source": [
    "Order the DataFrame by decreasing number of presidents:"
   ]
  },
  {
   "cell_type": "code",
   "execution_count": 48,
   "id": "consolidated-reverse",
   "metadata": {},
   "outputs": [
    {
     "data": {
      "text/html": [
       "<div>\n",
       "<style scoped>\n",
       "    .dataframe tbody tr th:only-of-type {\n",
       "        vertical-align: middle;\n",
       "    }\n",
       "\n",
       "    .dataframe tbody tr th {\n",
       "        vertical-align: top;\n",
       "    }\n",
       "\n",
       "    .dataframe thead th {\n",
       "        text-align: right;\n",
       "    }\n",
       "</style>\n",
       "<table border=\"1\" class=\"dataframe\">\n",
       "  <thead>\n",
       "    <tr style=\"text-align: right;\">\n",
       "      <th></th>\n",
       "      <th>State</th>\n",
       "      <th>No. of Presidents</th>\n",
       "    </tr>\n",
       "  </thead>\n",
       "  <tbody>\n",
       "    <tr>\n",
       "      <th>31</th>\n",
       "      <td>New York</td>\n",
       "      <td>9</td>\n",
       "    </tr>\n",
       "    <tr>\n",
       "      <th>34</th>\n",
       "      <td>Ohio</td>\n",
       "      <td>6</td>\n",
       "    </tr>\n",
       "    <tr>\n",
       "      <th>45</th>\n",
       "      <td>Virginia</td>\n",
       "      <td>5</td>\n",
       "    </tr>\n",
       "    <tr>\n",
       "      <th>20</th>\n",
       "      <td>Massachusetts</td>\n",
       "      <td>4</td>\n",
       "    </tr>\n",
       "    <tr>\n",
       "      <th>42</th>\n",
       "      <td>Texas</td>\n",
       "      <td>3</td>\n",
       "    </tr>\n",
       "  </tbody>\n",
       "</table>\n",
       "</div>"
      ],
      "text/plain": [
       "            State  No. of Presidents\n",
       "31       New York                  9\n",
       "34           Ohio                  6\n",
       "45       Virginia                  5\n",
       "20  Massachusetts                  4\n",
       "42          Texas                  3"
      ]
     },
     "execution_count": 48,
     "metadata": {},
     "output_type": "execute_result"
    }
   ],
   "source": [
    "ex1.sort_values(by=\"No. of Presidents\",ascending=False).head()"
   ]
  },
  {
   "cell_type": "markdown",
   "id": "other-murder",
   "metadata": {},
   "source": [
    "## Demo 3: Export data to an Excel file"
   ]
  },
  {
   "cell_type": "markdown",
   "id": "asian-trailer",
   "metadata": {},
   "source": [
    "### Export the dataframe into an Excel file"
   ]
  },
  {
   "cell_type": "code",
   "execution_count": 49,
   "id": "standing-vaccine",
   "metadata": {},
   "outputs": [],
   "source": [
    "# Pick either the .xls or the .xlsx file:\n",
    "filename = \"demo-3.xls\"\n",
    "#filename = \"demo-3.xlsx\"\n",
    "file = directory / filename"
   ]
  },
  {
   "cell_type": "code",
   "execution_count": 50,
   "id": "seven-hardware",
   "metadata": {},
   "outputs": [],
   "source": [
    "demo_3 = pd.DataFrame(\n",
    "    {\n",
    "        \"Country\": [\"Spain\", \"France\", \"Germany\"],\n",
    "        \"Capital\": [\"Madrid\", \"Paris\", \"Berlin\"],\n",
    "    }\n",
    ")"
   ]
  },
  {
   "cell_type": "code",
   "execution_count": 51,
   "id": "gentle-disposal",
   "metadata": {},
   "outputs": [
    {
     "data": {
      "text/html": [
       "<div>\n",
       "<style scoped>\n",
       "    .dataframe tbody tr th:only-of-type {\n",
       "        vertical-align: middle;\n",
       "    }\n",
       "\n",
       "    .dataframe tbody tr th {\n",
       "        vertical-align: top;\n",
       "    }\n",
       "\n",
       "    .dataframe thead th {\n",
       "        text-align: right;\n",
       "    }\n",
       "</style>\n",
       "<table border=\"1\" class=\"dataframe\">\n",
       "  <thead>\n",
       "    <tr style=\"text-align: right;\">\n",
       "      <th></th>\n",
       "      <th>Country</th>\n",
       "      <th>Capital</th>\n",
       "    </tr>\n",
       "  </thead>\n",
       "  <tbody>\n",
       "    <tr>\n",
       "      <th>0</th>\n",
       "      <td>Spain</td>\n",
       "      <td>Madrid</td>\n",
       "    </tr>\n",
       "    <tr>\n",
       "      <th>1</th>\n",
       "      <td>France</td>\n",
       "      <td>Paris</td>\n",
       "    </tr>\n",
       "    <tr>\n",
       "      <th>2</th>\n",
       "      <td>Germany</td>\n",
       "      <td>Berlin</td>\n",
       "    </tr>\n",
       "  </tbody>\n",
       "</table>\n",
       "</div>"
      ],
      "text/plain": [
       "   Country Capital\n",
       "0    Spain  Madrid\n",
       "1   France   Paris\n",
       "2  Germany  Berlin"
      ]
     },
     "execution_count": 51,
     "metadata": {},
     "output_type": "execute_result"
    }
   ],
   "source": [
    "demo_3"
   ]
  },
  {
   "cell_type": "code",
   "execution_count": 52,
   "id": "taken-leisure",
   "metadata": {
    "tags": [
     "no-execution"
    ]
   },
   "outputs": [],
   "source": [
    "demo_3.to_excel(file, index=False, sheet_name=\"Capitals\")"
   ]
  },
  {
   "cell_type": "markdown",
   "id": "circular-newman",
   "metadata": {},
   "source": [
    "## Exercise 3"
   ]
  },
  {
   "cell_type": "markdown",
   "id": "moved-arkansas",
   "metadata": {},
   "source": [
    "The dataset for this exercise are the same `Presidents.xls` and `Presidents.xlsx` files as for Exercise 1."
   ]
  },
  {
   "cell_type": "code",
   "execution_count": 53,
   "id": "handy-twins",
   "metadata": {
    "tags": [
     "no-replacement"
    ]
   },
   "outputs": [],
   "source": [
    "# Pick either the .xls or the .xlsx file:\n",
    "input_filename = \"exercise-1.xls\"\n",
    "#input_filename = \"exercise-1.xlsx\"\n",
    "input_file = directory / input_filename"
   ]
  },
  {
   "cell_type": "code",
   "execution_count": 54,
   "id": "final-series",
   "metadata": {
    "tags": [
     "no-replacement"
    ]
   },
   "outputs": [],
   "source": [
    "# Pick either the .xls or the .xlsx file:\n",
    "output_filename = \"exercise-3.xls\"\n",
    "#output_filename = \"exercise-3.xlsx\"\n",
    "output_file = directory / output_filename"
   ]
  },
  {
   "cell_type": "markdown",
   "id": "8beb2c7a",
   "metadata": {},
   "source": [
    "Import the \"Popularly elected presidents\" sheet from the `input_file` into a DataFrame:"
   ]
  },
  {
   "cell_type": "code",
   "execution_count": null,
   "id": "piano-bowling",
   "metadata": {},
   "outputs": [],
   "source": []
  },
  {
   "cell_type": "markdown",
   "id": "3d8e85aa",
   "metadata": {},
   "source": [
    "Keep only the \"President\" and \"Year first inaugurated\" columns:"
   ]
  },
  {
   "cell_type": "code",
   "execution_count": null,
   "id": "dense-helena",
   "metadata": {},
   "outputs": [],
   "source": []
  },
  {
   "cell_type": "markdown",
   "id": "45194c81",
   "metadata": {},
   "source": [
    "Check the first 5 rows of the DataFrame:"
   ]
  },
  {
   "cell_type": "code",
   "execution_count": null,
   "id": "roman-framework",
   "metadata": {},
   "outputs": [],
   "source": []
  },
  {
   "cell_type": "markdown",
   "id": "087701ed",
   "metadata": {},
   "source": [
    "Save the data into the `output_file` as an Excel file, in a sheet named \"USA presidents\":"
   ]
  },
  {
   "cell_type": "code",
   "execution_count": null,
   "id": "roman-conviction",
   "metadata": {
    "tags": [
     "no-execution"
    ]
   },
   "outputs": [],
   "source": []
  },
  {
   "cell_type": "markdown",
   "id": "cb52fdfb",
   "metadata": {},
   "source": [
    "Read the data back into a DataFrame:"
   ]
  },
  {
   "cell_type": "code",
   "execution_count": null,
   "id": "caring-karaoke",
   "metadata": {
    "tags": [
     "no-execution"
    ]
   },
   "outputs": [],
   "source": []
  },
  {
   "cell_type": "markdown",
   "id": "77cfa7e3",
   "metadata": {},
   "source": [
    "Check the first 5 rows of the DataFrame:"
   ]
  },
  {
   "cell_type": "code",
   "execution_count": null,
   "id": "recent-horizon",
   "metadata": {
    "tags": [
     "no-execution"
    ]
   },
   "outputs": [],
   "source": []
  }
 ],
 "metadata": {
  "kernelspec": {
   "display_name": "Python 3",
   "language": "python",
   "name": "python3"
  },
  "language_info": {
   "codemirror_mode": {
    "name": "ipython",
    "version": 3
   },
   "file_extension": ".py",
   "mimetype": "text/x-python",
   "name": "python",
   "nbconvert_exporter": "python",
   "pygments_lexer": "ipython3",
   "version": "3.8.10"
  }
 },
 "nbformat": 4,
 "nbformat_minor": 5
}
