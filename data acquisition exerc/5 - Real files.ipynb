{
 "cells": [
  {
   "cell_type": "markdown",
   "id": "destroyed-detection",
   "metadata": {},
   "source": [
    "# Real files"
   ]
  },
  {
   "cell_type": "markdown",
   "id": "driven-engagement",
   "metadata": {},
   "source": [
    "## Import statements"
   ]
  },
  {
   "cell_type": "code",
   "execution_count": 1,
   "id": "polish-palestinian",
   "metadata": {},
   "outputs": [],
   "source": [
    "import json\n",
    "import pandas as pd\n",
    "import pathlib"
   ]
  },
  {
   "cell_type": "markdown",
   "id": "complex-mailman",
   "metadata": {},
   "source": [
    "## Setup"
   ]
  },
  {
   "cell_type": "markdown",
   "id": "pacific-watts",
   "metadata": {},
   "source": [
    "The files for this class are stored in the `data/real` directory:"
   ]
  },
  {
   "cell_type": "code",
   "execution_count": 2,
   "id": "aquatic-plaintiff",
   "metadata": {},
   "outputs": [],
   "source": [
    "directory = pathlib.Path(\"data\") / \"real\""
   ]
  },
  {
   "cell_type": "markdown",
   "id": "a1816391",
   "metadata": {},
   "source": [
    "## Exercise 1 – World Bank"
   ]
  },
  {
   "cell_type": "markdown",
   "id": "6cf53dba",
   "metadata": {},
   "source": [
    "The dataset for this exercise is the population of Spain, taken from the Work Bank."
   ]
  },
  {
   "cell_type": "markdown",
   "id": "6ff785f7",
   "metadata": {},
   "source": [
    "Explore the World Bank API:\n",
    "* Information about Spain: http://api.worldbank.org/v2/country/es\n",
    "* Results as JSON: http://api.worldbank.org/v2/country/es?format=json\n",
    "* Information about Belgium: http://api.worldbank.org/v2/country/be?format=json\n",
    "* Information about Spain & Belgium: http://api.worldbank.org/v2/country/es;be?format=json\n",
    "* Information about all countries: http://api.worldbank.org/v2/country/all?format=json\n",
    "* Population: https://data.worldbank.org/indicator/SP.POP.TOTL\n",
    "* Population in Spain (1971-2020): http://api.worldbank.org/v2/country/es/indicator/SP.POP.TOTL?format=json\n",
    "* Population in Spain (before 1971): http://api.worldbank.org/v2/country/es/indicator/SP.POP.TOTL?format=json&page=2\n",
    "* Population in Spain (complete): http://api.worldbank.org/v2/country/es/indicator/SP.POP.TOTL?format=json&per_page=100\n",
    "\n",
    "Guide for the World Bank API: https://datahelpdesk.worldbank.org/knowledgebase/articles/898581-api-basic-call-structures"
   ]
  },
  {
   "cell_type": "markdown",
   "id": "bbaee658",
   "metadata": {},
   "source": [
    "### Skeleton"
   ]
  },
  {
   "cell_type": "markdown",
   "id": "eca29fd7",
   "metadata": {},
   "source": [
    "Suggested steps:\n",
    "* Try to import the JSON data with `pd.read_json()`\n",
    "* In case of failure, turn the JSON file into a python object:\n",
    "```python\n",
    "with open(file) as f:\n",
    "    python_object = json.load(f)\n",
    "```\n",
    "* Explore the python object to identify a list that would be suitable as rows in the dataframe\n",
    "* [Advanced] Plot the population of Spain as a function of the year"
   ]
  },
  {
   "cell_type": "code",
   "execution_count": 3,
   "id": "020ae18b",
   "metadata": {
    "tags": [
     "no-replacement"
    ]
   },
   "outputs": [],
   "source": [
    "filename = \"exercise-1.json\"\n",
    "file = directory / filename"
   ]
  },
  {
   "cell_type": "markdown",
   "id": "abf3062e",
   "metadata": {},
   "source": [
    "Try to import the JSON file into a dataframe named `df` using the simplest approach:"
   ]
  },
  {
   "cell_type": "code",
   "execution_count": 40,
   "id": "629707be",
   "metadata": {
    "tags": [
     "raises-error"
    ]
   },
   "outputs": [
    {
     "ename": "AttributeError",
     "evalue": "'list' object has no attribute 'keys'",
     "output_type": "error",
     "traceback": [
      "\u001b[1;31m---------------------------------------------------------------------------\u001b[0m",
      "\u001b[1;31mAttributeError\u001b[0m                            Traceback (most recent call last)",
      "\u001b[1;32m<ipython-input-40-c97d7355d470>\u001b[0m in \u001b[0;36m<module>\u001b[1;34m\u001b[0m\n\u001b[0;32m      1\u001b[0m \u001b[1;31m#Raises an error because the file has a weird format\u001b[0m\u001b[1;33m\u001b[0m\u001b[1;33m\u001b[0m\u001b[1;33m\u001b[0m\u001b[0m\n\u001b[1;32m----> 2\u001b[1;33m \u001b[0mdf\u001b[0m \u001b[1;33m=\u001b[0m \u001b[0mpd\u001b[0m\u001b[1;33m.\u001b[0m\u001b[0mread_json\u001b[0m\u001b[1;33m(\u001b[0m\u001b[0mfile\u001b[0m\u001b[1;33m)\u001b[0m\u001b[1;33m\u001b[0m\u001b[1;33m\u001b[0m\u001b[0m\n\u001b[0m",
      "\u001b[1;32m~\\anaconda3\\lib\\site-packages\\pandas\\util\\_decorators.py\u001b[0m in \u001b[0;36mwrapper\u001b[1;34m(*args, **kwargs)\u001b[0m\n\u001b[0;32m    197\u001b[0m                 \u001b[1;32melse\u001b[0m\u001b[1;33m:\u001b[0m\u001b[1;33m\u001b[0m\u001b[1;33m\u001b[0m\u001b[0m\n\u001b[0;32m    198\u001b[0m                     \u001b[0mkwargs\u001b[0m\u001b[1;33m[\u001b[0m\u001b[0mnew_arg_name\u001b[0m\u001b[1;33m]\u001b[0m \u001b[1;33m=\u001b[0m \u001b[0mnew_arg_value\u001b[0m\u001b[1;33m\u001b[0m\u001b[1;33m\u001b[0m\u001b[0m\n\u001b[1;32m--> 199\u001b[1;33m             \u001b[1;32mreturn\u001b[0m \u001b[0mfunc\u001b[0m\u001b[1;33m(\u001b[0m\u001b[1;33m*\u001b[0m\u001b[0margs\u001b[0m\u001b[1;33m,\u001b[0m \u001b[1;33m**\u001b[0m\u001b[0mkwargs\u001b[0m\u001b[1;33m)\u001b[0m\u001b[1;33m\u001b[0m\u001b[1;33m\u001b[0m\u001b[0m\n\u001b[0m\u001b[0;32m    200\u001b[0m \u001b[1;33m\u001b[0m\u001b[0m\n\u001b[0;32m    201\u001b[0m         \u001b[1;32mreturn\u001b[0m \u001b[0mcast\u001b[0m\u001b[1;33m(\u001b[0m\u001b[0mF\u001b[0m\u001b[1;33m,\u001b[0m \u001b[0mwrapper\u001b[0m\u001b[1;33m)\u001b[0m\u001b[1;33m\u001b[0m\u001b[1;33m\u001b[0m\u001b[0m\n",
      "\u001b[1;32m~\\anaconda3\\lib\\site-packages\\pandas\\util\\_decorators.py\u001b[0m in \u001b[0;36mwrapper\u001b[1;34m(*args, **kwargs)\u001b[0m\n\u001b[0;32m    297\u001b[0m                 )\n\u001b[0;32m    298\u001b[0m                 \u001b[0mwarnings\u001b[0m\u001b[1;33m.\u001b[0m\u001b[0mwarn\u001b[0m\u001b[1;33m(\u001b[0m\u001b[0mmsg\u001b[0m\u001b[1;33m,\u001b[0m \u001b[0mFutureWarning\u001b[0m\u001b[1;33m,\u001b[0m \u001b[0mstacklevel\u001b[0m\u001b[1;33m=\u001b[0m\u001b[0mstacklevel\u001b[0m\u001b[1;33m)\u001b[0m\u001b[1;33m\u001b[0m\u001b[1;33m\u001b[0m\u001b[0m\n\u001b[1;32m--> 299\u001b[1;33m             \u001b[1;32mreturn\u001b[0m \u001b[0mfunc\u001b[0m\u001b[1;33m(\u001b[0m\u001b[1;33m*\u001b[0m\u001b[0margs\u001b[0m\u001b[1;33m,\u001b[0m \u001b[1;33m**\u001b[0m\u001b[0mkwargs\u001b[0m\u001b[1;33m)\u001b[0m\u001b[1;33m\u001b[0m\u001b[1;33m\u001b[0m\u001b[0m\n\u001b[0m\u001b[0;32m    300\u001b[0m \u001b[1;33m\u001b[0m\u001b[0m\n\u001b[0;32m    301\u001b[0m         \u001b[1;32mreturn\u001b[0m \u001b[0mwrapper\u001b[0m\u001b[1;33m\u001b[0m\u001b[1;33m\u001b[0m\u001b[0m\n",
      "\u001b[1;32m~\\anaconda3\\lib\\site-packages\\pandas\\io\\json\\_json.py\u001b[0m in \u001b[0;36mread_json\u001b[1;34m(path_or_buf, orient, typ, dtype, convert_axes, convert_dates, keep_default_dates, numpy, precise_float, date_unit, encoding, lines, chunksize, compression, nrows, storage_options)\u001b[0m\n\u001b[0;32m    561\u001b[0m \u001b[1;33m\u001b[0m\u001b[0m\n\u001b[0;32m    562\u001b[0m     \u001b[1;32mwith\u001b[0m \u001b[0mjson_reader\u001b[0m\u001b[1;33m:\u001b[0m\u001b[1;33m\u001b[0m\u001b[1;33m\u001b[0m\u001b[0m\n\u001b[1;32m--> 563\u001b[1;33m         \u001b[1;32mreturn\u001b[0m \u001b[0mjson_reader\u001b[0m\u001b[1;33m.\u001b[0m\u001b[0mread\u001b[0m\u001b[1;33m(\u001b[0m\u001b[1;33m)\u001b[0m\u001b[1;33m\u001b[0m\u001b[1;33m\u001b[0m\u001b[0m\n\u001b[0m\u001b[0;32m    564\u001b[0m \u001b[1;33m\u001b[0m\u001b[0m\n\u001b[0;32m    565\u001b[0m \u001b[1;33m\u001b[0m\u001b[0m\n",
      "\u001b[1;32m~\\anaconda3\\lib\\site-packages\\pandas\\io\\json\\_json.py\u001b[0m in \u001b[0;36mread\u001b[1;34m(self)\u001b[0m\n\u001b[0;32m    692\u001b[0m                 \u001b[0mobj\u001b[0m \u001b[1;33m=\u001b[0m \u001b[0mself\u001b[0m\u001b[1;33m.\u001b[0m\u001b[0m_get_object_parser\u001b[0m\u001b[1;33m(\u001b[0m\u001b[0mself\u001b[0m\u001b[1;33m.\u001b[0m\u001b[0m_combine_lines\u001b[0m\u001b[1;33m(\u001b[0m\u001b[0mdata_lines\u001b[0m\u001b[1;33m)\u001b[0m\u001b[1;33m)\u001b[0m\u001b[1;33m\u001b[0m\u001b[1;33m\u001b[0m\u001b[0m\n\u001b[0;32m    693\u001b[0m         \u001b[1;32melse\u001b[0m\u001b[1;33m:\u001b[0m\u001b[1;33m\u001b[0m\u001b[1;33m\u001b[0m\u001b[0m\n\u001b[1;32m--> 694\u001b[1;33m             \u001b[0mobj\u001b[0m \u001b[1;33m=\u001b[0m \u001b[0mself\u001b[0m\u001b[1;33m.\u001b[0m\u001b[0m_get_object_parser\u001b[0m\u001b[1;33m(\u001b[0m\u001b[0mself\u001b[0m\u001b[1;33m.\u001b[0m\u001b[0mdata\u001b[0m\u001b[1;33m)\u001b[0m\u001b[1;33m\u001b[0m\u001b[1;33m\u001b[0m\u001b[0m\n\u001b[0m\u001b[0;32m    695\u001b[0m         \u001b[0mself\u001b[0m\u001b[1;33m.\u001b[0m\u001b[0mclose\u001b[0m\u001b[1;33m(\u001b[0m\u001b[1;33m)\u001b[0m\u001b[1;33m\u001b[0m\u001b[1;33m\u001b[0m\u001b[0m\n\u001b[0;32m    696\u001b[0m         \u001b[1;32mreturn\u001b[0m \u001b[0mobj\u001b[0m\u001b[1;33m\u001b[0m\u001b[1;33m\u001b[0m\u001b[0m\n",
      "\u001b[1;32m~\\anaconda3\\lib\\site-packages\\pandas\\io\\json\\_json.py\u001b[0m in \u001b[0;36m_get_object_parser\u001b[1;34m(self, json)\u001b[0m\n\u001b[0;32m    714\u001b[0m         \u001b[0mobj\u001b[0m \u001b[1;33m=\u001b[0m \u001b[1;32mNone\u001b[0m\u001b[1;33m\u001b[0m\u001b[1;33m\u001b[0m\u001b[0m\n\u001b[0;32m    715\u001b[0m         \u001b[1;32mif\u001b[0m \u001b[0mtyp\u001b[0m \u001b[1;33m==\u001b[0m \u001b[1;34m\"frame\"\u001b[0m\u001b[1;33m:\u001b[0m\u001b[1;33m\u001b[0m\u001b[1;33m\u001b[0m\u001b[0m\n\u001b[1;32m--> 716\u001b[1;33m             \u001b[0mobj\u001b[0m \u001b[1;33m=\u001b[0m \u001b[0mFrameParser\u001b[0m\u001b[1;33m(\u001b[0m\u001b[0mjson\u001b[0m\u001b[1;33m,\u001b[0m \u001b[1;33m**\u001b[0m\u001b[0mkwargs\u001b[0m\u001b[1;33m)\u001b[0m\u001b[1;33m.\u001b[0m\u001b[0mparse\u001b[0m\u001b[1;33m(\u001b[0m\u001b[1;33m)\u001b[0m\u001b[1;33m\u001b[0m\u001b[1;33m\u001b[0m\u001b[0m\n\u001b[0m\u001b[0;32m    717\u001b[0m \u001b[1;33m\u001b[0m\u001b[0m\n\u001b[0;32m    718\u001b[0m         \u001b[1;32mif\u001b[0m \u001b[0mtyp\u001b[0m \u001b[1;33m==\u001b[0m \u001b[1;34m\"series\"\u001b[0m \u001b[1;32mor\u001b[0m \u001b[0mobj\u001b[0m \u001b[1;32mis\u001b[0m \u001b[1;32mNone\u001b[0m\u001b[1;33m:\u001b[0m\u001b[1;33m\u001b[0m\u001b[1;33m\u001b[0m\u001b[0m\n",
      "\u001b[1;32m~\\anaconda3\\lib\\site-packages\\pandas\\io\\json\\_json.py\u001b[0m in \u001b[0;36mparse\u001b[1;34m(self)\u001b[0m\n\u001b[0;32m    829\u001b[0m \u001b[1;33m\u001b[0m\u001b[0m\n\u001b[0;32m    830\u001b[0m         \u001b[1;32melse\u001b[0m\u001b[1;33m:\u001b[0m\u001b[1;33m\u001b[0m\u001b[1;33m\u001b[0m\u001b[0m\n\u001b[1;32m--> 831\u001b[1;33m             \u001b[0mself\u001b[0m\u001b[1;33m.\u001b[0m\u001b[0m_parse_no_numpy\u001b[0m\u001b[1;33m(\u001b[0m\u001b[1;33m)\u001b[0m\u001b[1;33m\u001b[0m\u001b[1;33m\u001b[0m\u001b[0m\n\u001b[0m\u001b[0;32m    832\u001b[0m \u001b[1;33m\u001b[0m\u001b[0m\n\u001b[0;32m    833\u001b[0m         \u001b[1;32mif\u001b[0m \u001b[0mself\u001b[0m\u001b[1;33m.\u001b[0m\u001b[0mobj\u001b[0m \u001b[1;32mis\u001b[0m \u001b[1;32mNone\u001b[0m\u001b[1;33m:\u001b[0m\u001b[1;33m\u001b[0m\u001b[1;33m\u001b[0m\u001b[0m\n",
      "\u001b[1;32m~\\anaconda3\\lib\\site-packages\\pandas\\io\\json\\_json.py\u001b[0m in \u001b[0;36m_parse_no_numpy\u001b[1;34m(self)\u001b[0m\n\u001b[0;32m   1076\u001b[0m \u001b[1;33m\u001b[0m\u001b[0m\n\u001b[0;32m   1077\u001b[0m         \u001b[1;32mif\u001b[0m \u001b[0morient\u001b[0m \u001b[1;33m==\u001b[0m \u001b[1;34m\"columns\"\u001b[0m\u001b[1;33m:\u001b[0m\u001b[1;33m\u001b[0m\u001b[1;33m\u001b[0m\u001b[0m\n\u001b[1;32m-> 1078\u001b[1;33m             self.obj = DataFrame(\n\u001b[0m\u001b[0;32m   1079\u001b[0m                 \u001b[0mloads\u001b[0m\u001b[1;33m(\u001b[0m\u001b[0mjson\u001b[0m\u001b[1;33m,\u001b[0m \u001b[0mprecise_float\u001b[0m\u001b[1;33m=\u001b[0m\u001b[0mself\u001b[0m\u001b[1;33m.\u001b[0m\u001b[0mprecise_float\u001b[0m\u001b[1;33m)\u001b[0m\u001b[1;33m,\u001b[0m \u001b[0mdtype\u001b[0m\u001b[1;33m=\u001b[0m\u001b[1;32mNone\u001b[0m\u001b[1;33m\u001b[0m\u001b[1;33m\u001b[0m\u001b[0m\n\u001b[0;32m   1080\u001b[0m             )\n",
      "\u001b[1;32m~\\anaconda3\\lib\\site-packages\\pandas\\core\\frame.py\u001b[0m in \u001b[0;36m__init__\u001b[1;34m(self, data, index, columns, dtype, copy)\u001b[0m\n\u001b[0;32m    568\u001b[0m                     \u001b[1;32mif\u001b[0m \u001b[0mis_named_tuple\u001b[0m\u001b[1;33m(\u001b[0m\u001b[0mdata\u001b[0m\u001b[1;33m[\u001b[0m\u001b[1;36m0\u001b[0m\u001b[1;33m]\u001b[0m\u001b[1;33m)\u001b[0m \u001b[1;32mand\u001b[0m \u001b[0mcolumns\u001b[0m \u001b[1;32mis\u001b[0m \u001b[1;32mNone\u001b[0m\u001b[1;33m:\u001b[0m\u001b[1;33m\u001b[0m\u001b[1;33m\u001b[0m\u001b[0m\n\u001b[0;32m    569\u001b[0m                         \u001b[0mcolumns\u001b[0m \u001b[1;33m=\u001b[0m \u001b[0mdata\u001b[0m\u001b[1;33m[\u001b[0m\u001b[1;36m0\u001b[0m\u001b[1;33m]\u001b[0m\u001b[1;33m.\u001b[0m\u001b[0m_fields\u001b[0m\u001b[1;33m\u001b[0m\u001b[1;33m\u001b[0m\u001b[0m\n\u001b[1;32m--> 570\u001b[1;33m                     \u001b[0marrays\u001b[0m\u001b[1;33m,\u001b[0m \u001b[0mcolumns\u001b[0m \u001b[1;33m=\u001b[0m \u001b[0mto_arrays\u001b[0m\u001b[1;33m(\u001b[0m\u001b[0mdata\u001b[0m\u001b[1;33m,\u001b[0m \u001b[0mcolumns\u001b[0m\u001b[1;33m,\u001b[0m \u001b[0mdtype\u001b[0m\u001b[1;33m=\u001b[0m\u001b[0mdtype\u001b[0m\u001b[1;33m)\u001b[0m\u001b[1;33m\u001b[0m\u001b[1;33m\u001b[0m\u001b[0m\n\u001b[0m\u001b[0;32m    571\u001b[0m                     \u001b[0mcolumns\u001b[0m \u001b[1;33m=\u001b[0m \u001b[0mensure_index\u001b[0m\u001b[1;33m(\u001b[0m\u001b[0mcolumns\u001b[0m\u001b[1;33m)\u001b[0m\u001b[1;33m\u001b[0m\u001b[1;33m\u001b[0m\u001b[0m\n\u001b[0;32m    572\u001b[0m \u001b[1;33m\u001b[0m\u001b[0m\n",
      "\u001b[1;32m~\\anaconda3\\lib\\site-packages\\pandas\\core\\internals\\construction.py\u001b[0m in \u001b[0;36mto_arrays\u001b[1;34m(data, columns, coerce_float, dtype)\u001b[0m\n\u001b[0;32m    528\u001b[0m         \u001b[1;32mreturn\u001b[0m \u001b[0m_list_to_arrays\u001b[0m\u001b[1;33m(\u001b[0m\u001b[0mdata\u001b[0m\u001b[1;33m,\u001b[0m \u001b[0mcolumns\u001b[0m\u001b[1;33m,\u001b[0m \u001b[0mcoerce_float\u001b[0m\u001b[1;33m=\u001b[0m\u001b[0mcoerce_float\u001b[0m\u001b[1;33m,\u001b[0m \u001b[0mdtype\u001b[0m\u001b[1;33m=\u001b[0m\u001b[0mdtype\u001b[0m\u001b[1;33m)\u001b[0m\u001b[1;33m\u001b[0m\u001b[1;33m\u001b[0m\u001b[0m\n\u001b[0;32m    529\u001b[0m     \u001b[1;32melif\u001b[0m \u001b[0misinstance\u001b[0m\u001b[1;33m(\u001b[0m\u001b[0mdata\u001b[0m\u001b[1;33m[\u001b[0m\u001b[1;36m0\u001b[0m\u001b[1;33m]\u001b[0m\u001b[1;33m,\u001b[0m \u001b[0mabc\u001b[0m\u001b[1;33m.\u001b[0m\u001b[0mMapping\u001b[0m\u001b[1;33m)\u001b[0m\u001b[1;33m:\u001b[0m\u001b[1;33m\u001b[0m\u001b[1;33m\u001b[0m\u001b[0m\n\u001b[1;32m--> 530\u001b[1;33m         return _list_of_dict_to_arrays(\n\u001b[0m\u001b[0;32m    531\u001b[0m             \u001b[0mdata\u001b[0m\u001b[1;33m,\u001b[0m \u001b[0mcolumns\u001b[0m\u001b[1;33m,\u001b[0m \u001b[0mcoerce_float\u001b[0m\u001b[1;33m=\u001b[0m\u001b[0mcoerce_float\u001b[0m\u001b[1;33m,\u001b[0m \u001b[0mdtype\u001b[0m\u001b[1;33m=\u001b[0m\u001b[0mdtype\u001b[0m\u001b[1;33m\u001b[0m\u001b[1;33m\u001b[0m\u001b[0m\n\u001b[0;32m    532\u001b[0m         )\n",
      "\u001b[1;32m~\\anaconda3\\lib\\site-packages\\pandas\\core\\internals\\construction.py\u001b[0m in \u001b[0;36m_list_of_dict_to_arrays\u001b[1;34m(data, columns, coerce_float, dtype)\u001b[0m\n\u001b[0;32m    641\u001b[0m         \u001b[0mgen\u001b[0m \u001b[1;33m=\u001b[0m \u001b[1;33m(\u001b[0m\u001b[0mlist\u001b[0m\u001b[1;33m(\u001b[0m\u001b[0mx\u001b[0m\u001b[1;33m.\u001b[0m\u001b[0mkeys\u001b[0m\u001b[1;33m(\u001b[0m\u001b[1;33m)\u001b[0m\u001b[1;33m)\u001b[0m \u001b[1;32mfor\u001b[0m \u001b[0mx\u001b[0m \u001b[1;32min\u001b[0m \u001b[0mdata\u001b[0m\u001b[1;33m)\u001b[0m\u001b[1;33m\u001b[0m\u001b[1;33m\u001b[0m\u001b[0m\n\u001b[0;32m    642\u001b[0m         \u001b[0msort\u001b[0m \u001b[1;33m=\u001b[0m \u001b[1;32mnot\u001b[0m \u001b[0many\u001b[0m\u001b[1;33m(\u001b[0m\u001b[0misinstance\u001b[0m\u001b[1;33m(\u001b[0m\u001b[0md\u001b[0m\u001b[1;33m,\u001b[0m \u001b[0mdict\u001b[0m\u001b[1;33m)\u001b[0m \u001b[1;32mfor\u001b[0m \u001b[0md\u001b[0m \u001b[1;32min\u001b[0m \u001b[0mdata\u001b[0m\u001b[1;33m)\u001b[0m\u001b[1;33m\u001b[0m\u001b[1;33m\u001b[0m\u001b[0m\n\u001b[1;32m--> 643\u001b[1;33m         \u001b[0mcolumns\u001b[0m \u001b[1;33m=\u001b[0m \u001b[0mlib\u001b[0m\u001b[1;33m.\u001b[0m\u001b[0mfast_unique_multiple_list_gen\u001b[0m\u001b[1;33m(\u001b[0m\u001b[0mgen\u001b[0m\u001b[1;33m,\u001b[0m \u001b[0msort\u001b[0m\u001b[1;33m=\u001b[0m\u001b[0msort\u001b[0m\u001b[1;33m)\u001b[0m\u001b[1;33m\u001b[0m\u001b[1;33m\u001b[0m\u001b[0m\n\u001b[0m\u001b[0;32m    644\u001b[0m \u001b[1;33m\u001b[0m\u001b[0m\n\u001b[0;32m    645\u001b[0m     \u001b[1;31m# assure that they are of the base dict class and not of derived\u001b[0m\u001b[1;33m\u001b[0m\u001b[1;33m\u001b[0m\u001b[1;33m\u001b[0m\u001b[0m\n",
      "\u001b[1;32mpandas\\_libs\\lib.pyx\u001b[0m in \u001b[0;36mpandas._libs.lib.fast_unique_multiple_list_gen\u001b[1;34m()\u001b[0m\n",
      "\u001b[1;32m~\\anaconda3\\lib\\site-packages\\pandas\\core\\internals\\construction.py\u001b[0m in \u001b[0;36m<genexpr>\u001b[1;34m(.0)\u001b[0m\n\u001b[0;32m    639\u001b[0m     \"\"\"\n\u001b[0;32m    640\u001b[0m     \u001b[1;32mif\u001b[0m \u001b[0mcolumns\u001b[0m \u001b[1;32mis\u001b[0m \u001b[1;32mNone\u001b[0m\u001b[1;33m:\u001b[0m\u001b[1;33m\u001b[0m\u001b[1;33m\u001b[0m\u001b[0m\n\u001b[1;32m--> 641\u001b[1;33m         \u001b[0mgen\u001b[0m \u001b[1;33m=\u001b[0m \u001b[1;33m(\u001b[0m\u001b[0mlist\u001b[0m\u001b[1;33m(\u001b[0m\u001b[0mx\u001b[0m\u001b[1;33m.\u001b[0m\u001b[0mkeys\u001b[0m\u001b[1;33m(\u001b[0m\u001b[1;33m)\u001b[0m\u001b[1;33m)\u001b[0m \u001b[1;32mfor\u001b[0m \u001b[0mx\u001b[0m \u001b[1;32min\u001b[0m \u001b[0mdata\u001b[0m\u001b[1;33m)\u001b[0m\u001b[1;33m\u001b[0m\u001b[1;33m\u001b[0m\u001b[0m\n\u001b[0m\u001b[0;32m    642\u001b[0m         \u001b[0msort\u001b[0m \u001b[1;33m=\u001b[0m \u001b[1;32mnot\u001b[0m \u001b[0many\u001b[0m\u001b[1;33m(\u001b[0m\u001b[0misinstance\u001b[0m\u001b[1;33m(\u001b[0m\u001b[0md\u001b[0m\u001b[1;33m,\u001b[0m \u001b[0mdict\u001b[0m\u001b[1;33m)\u001b[0m \u001b[1;32mfor\u001b[0m \u001b[0md\u001b[0m \u001b[1;32min\u001b[0m \u001b[0mdata\u001b[0m\u001b[1;33m)\u001b[0m\u001b[1;33m\u001b[0m\u001b[1;33m\u001b[0m\u001b[0m\n\u001b[0;32m    643\u001b[0m         \u001b[0mcolumns\u001b[0m \u001b[1;33m=\u001b[0m \u001b[0mlib\u001b[0m\u001b[1;33m.\u001b[0m\u001b[0mfast_unique_multiple_list_gen\u001b[0m\u001b[1;33m(\u001b[0m\u001b[0mgen\u001b[0m\u001b[1;33m,\u001b[0m \u001b[0msort\u001b[0m\u001b[1;33m=\u001b[0m\u001b[0msort\u001b[0m\u001b[1;33m)\u001b[0m\u001b[1;33m\u001b[0m\u001b[1;33m\u001b[0m\u001b[0m\n",
      "\u001b[1;31mAttributeError\u001b[0m: 'list' object has no attribute 'keys'"
     ]
    }
   ],
   "source": [
    "#Raises an error because the file has a weird format\n",
    "df = pd.read_json(file)"
   ]
  },
  {
   "cell_type": "markdown",
   "id": "c6fe2a5f",
   "metadata": {},
   "source": [
    "Turn the JSON file into a Python object:"
   ]
  },
  {
   "cell_type": "code",
   "execution_count": 5,
   "id": "54c00ee9",
   "metadata": {},
   "outputs": [],
   "source": [
    "with open(file) as f:\n",
    "    python_object = json.load(f)"
   ]
  },
  {
   "cell_type": "markdown",
   "id": "022bab1a",
   "metadata": {},
   "source": [
    "Search and **identify a list of populations** inside this Python object.  \n",
    "Check the type of this Python object:"
   ]
  },
  {
   "cell_type": "code",
   "execution_count": 9,
   "id": "1bb2b7a3",
   "metadata": {},
   "outputs": [
    {
     "data": {
      "text/plain": [
       "list"
      ]
     },
     "execution_count": 9,
     "metadata": {},
     "output_type": "execute_result"
    }
   ],
   "source": [
    "type(python_object)"
   ]
  },
  {
   "cell_type": "markdown",
   "id": "049a1824",
   "metadata": {},
   "source": [
    "If it is a dictionary, check its keys; if it is a list, check its length:"
   ]
  },
  {
   "cell_type": "code",
   "execution_count": 22,
   "id": "440d5798",
   "metadata": {},
   "outputs": [
    {
     "data": {
      "text/plain": [
       "2"
      ]
     },
     "execution_count": 22,
     "metadata": {},
     "output_type": "execute_result"
    }
   ],
   "source": [
    "len(python_object)"
   ]
  },
  {
   "cell_type": "markdown",
   "id": "e5a815c9",
   "metadata": {},
   "source": [
    "This object only has 2 elements, so cannot be the list of populations since 1971... **keep diving to find a promising list!**"
   ]
  },
  {
   "cell_type": "code",
   "execution_count": 25,
   "id": "5d3e28f8",
   "metadata": {
    "tags": [
     "ellipsis"
    ]
   },
   "outputs": [
    {
     "data": {
      "text/plain": [
       "{'page': 1,\n",
       " 'pages': 1,\n",
       " 'per_page': 100,\n",
       " 'total': 61,\n",
       " 'sourceid': '2',\n",
       " 'lastupdated': '2021-02-17'}"
      ]
     },
     "execution_count": 25,
     "metadata": {},
     "output_type": "execute_result"
    }
   ],
   "source": [
    "python_object[0]"
   ]
  },
  {
   "cell_type": "code",
   "execution_count": 26,
   "id": "e13b8910",
   "metadata": {
    "tags": [
     "ellipsis"
    ]
   },
   "outputs": [
    {
     "data": {
      "text/plain": [
       "[{'indicator': {'id': 'SP.POP.TOTL', 'value': 'Population, total'},\n",
       "  'country': {'id': 'ES', 'value': 'Spain'},\n",
       "  'countryiso3code': 'ESP',\n",
       "  'date': '2020',\n",
       "  'value': None,\n",
       "  'unit': '',\n",
       "  'obs_status': '',\n",
       "  'decimal': 0},\n",
       " {'indicator': {'id': 'SP.POP.TOTL', 'value': 'Population, total'},\n",
       "  'country': {'id': 'ES', 'value': 'Spain'},\n",
       "  'countryiso3code': 'ESP',\n",
       "  'date': '2019',\n",
       "  'value': 47076781,\n",
       "  'unit': '',\n",
       "  'obs_status': '',\n",
       "  'decimal': 0},\n",
       " {'indicator': {'id': 'SP.POP.TOTL', 'value': 'Population, total'},\n",
       "  'country': {'id': 'ES', 'value': 'Spain'},\n",
       "  'countryiso3code': 'ESP',\n",
       "  'date': '2018',\n",
       "  'value': 46797754,\n",
       "  'unit': '',\n",
       "  'obs_status': '',\n",
       "  'decimal': 0},\n",
       " {'indicator': {'id': 'SP.POP.TOTL', 'value': 'Population, total'},\n",
       "  'country': {'id': 'ES', 'value': 'Spain'},\n",
       "  'countryiso3code': 'ESP',\n",
       "  'date': '2017',\n",
       "  'value': 46593236,\n",
       "  'unit': '',\n",
       "  'obs_status': '',\n",
       "  'decimal': 0},\n",
       " {'indicator': {'id': 'SP.POP.TOTL', 'value': 'Population, total'},\n",
       "  'country': {'id': 'ES', 'value': 'Spain'},\n",
       "  'countryiso3code': 'ESP',\n",
       "  'date': '2016',\n",
       "  'value': 46484062,\n",
       "  'unit': '',\n",
       "  'obs_status': '',\n",
       "  'decimal': 0},\n",
       " {'indicator': {'id': 'SP.POP.TOTL', 'value': 'Population, total'},\n",
       "  'country': {'id': 'ES', 'value': 'Spain'},\n",
       "  'countryiso3code': 'ESP',\n",
       "  'date': '2015',\n",
       "  'value': 46444832,\n",
       "  'unit': '',\n",
       "  'obs_status': '',\n",
       "  'decimal': 0},\n",
       " {'indicator': {'id': 'SP.POP.TOTL', 'value': 'Population, total'},\n",
       "  'country': {'id': 'ES', 'value': 'Spain'},\n",
       "  'countryiso3code': 'ESP',\n",
       "  'date': '2014',\n",
       "  'value': 46480882,\n",
       "  'unit': '',\n",
       "  'obs_status': '',\n",
       "  'decimal': 0},\n",
       " {'indicator': {'id': 'SP.POP.TOTL', 'value': 'Population, total'},\n",
       "  'country': {'id': 'ES', 'value': 'Spain'},\n",
       "  'countryiso3code': 'ESP',\n",
       "  'date': '2013',\n",
       "  'value': 46620045,\n",
       "  'unit': '',\n",
       "  'obs_status': '',\n",
       "  'decimal': 0},\n",
       " {'indicator': {'id': 'SP.POP.TOTL', 'value': 'Population, total'},\n",
       "  'country': {'id': 'ES', 'value': 'Spain'},\n",
       "  'countryiso3code': 'ESP',\n",
       "  'date': '2012',\n",
       "  'value': 46773055,\n",
       "  'unit': '',\n",
       "  'obs_status': '',\n",
       "  'decimal': 0},\n",
       " {'indicator': {'id': 'SP.POP.TOTL', 'value': 'Population, total'},\n",
       "  'country': {'id': 'ES', 'value': 'Spain'},\n",
       "  'countryiso3code': 'ESP',\n",
       "  'date': '2011',\n",
       "  'value': 46742697,\n",
       "  'unit': '',\n",
       "  'obs_status': '',\n",
       "  'decimal': 0},\n",
       " {'indicator': {'id': 'SP.POP.TOTL', 'value': 'Population, total'},\n",
       "  'country': {'id': 'ES', 'value': 'Spain'},\n",
       "  'countryiso3code': 'ESP',\n",
       "  'date': '2010',\n",
       "  'value': 46576897,\n",
       "  'unit': '',\n",
       "  'obs_status': '',\n",
       "  'decimal': 0},\n",
       " {'indicator': {'id': 'SP.POP.TOTL', 'value': 'Population, total'},\n",
       "  'country': {'id': 'ES', 'value': 'Spain'},\n",
       "  'countryiso3code': 'ESP',\n",
       "  'date': '2009',\n",
       "  'value': 46362946,\n",
       "  'unit': '',\n",
       "  'obs_status': '',\n",
       "  'decimal': 0},\n",
       " {'indicator': {'id': 'SP.POP.TOTL', 'value': 'Population, total'},\n",
       "  'country': {'id': 'ES', 'value': 'Spain'},\n",
       "  'countryiso3code': 'ESP',\n",
       "  'date': '2008',\n",
       "  'value': 45954106,\n",
       "  'unit': '',\n",
       "  'obs_status': '',\n",
       "  'decimal': 0},\n",
       " {'indicator': {'id': 'SP.POP.TOTL', 'value': 'Population, total'},\n",
       "  'country': {'id': 'ES', 'value': 'Spain'},\n",
       "  'countryiso3code': 'ESP',\n",
       "  'date': '2007',\n",
       "  'value': 45226803,\n",
       "  'unit': '',\n",
       "  'obs_status': '',\n",
       "  'decimal': 0},\n",
       " {'indicator': {'id': 'SP.POP.TOTL', 'value': 'Population, total'},\n",
       "  'country': {'id': 'ES', 'value': 'Spain'},\n",
       "  'countryiso3code': 'ESP',\n",
       "  'date': '2006',\n",
       "  'value': 44397319,\n",
       "  'unit': '',\n",
       "  'obs_status': '',\n",
       "  'decimal': 0},\n",
       " {'indicator': {'id': 'SP.POP.TOTL', 'value': 'Population, total'},\n",
       "  'country': {'id': 'ES', 'value': 'Spain'},\n",
       "  'countryiso3code': 'ESP',\n",
       "  'date': '2005',\n",
       "  'value': 43653155,\n",
       "  'unit': '',\n",
       "  'obs_status': '',\n",
       "  'decimal': 0},\n",
       " {'indicator': {'id': 'SP.POP.TOTL', 'value': 'Population, total'},\n",
       "  'country': {'id': 'ES', 'value': 'Spain'},\n",
       "  'countryiso3code': 'ESP',\n",
       "  'date': '2004',\n",
       "  'value': 42921895,\n",
       "  'unit': '',\n",
       "  'obs_status': '',\n",
       "  'decimal': 0},\n",
       " {'indicator': {'id': 'SP.POP.TOTL', 'value': 'Population, total'},\n",
       "  'country': {'id': 'ES', 'value': 'Spain'},\n",
       "  'countryiso3code': 'ESP',\n",
       "  'date': '2003',\n",
       "  'value': 42187645,\n",
       "  'unit': '',\n",
       "  'obs_status': '',\n",
       "  'decimal': 0},\n",
       " {'indicator': {'id': 'SP.POP.TOTL', 'value': 'Population, total'},\n",
       "  'country': {'id': 'ES', 'value': 'Spain'},\n",
       "  'countryiso3code': 'ESP',\n",
       "  'date': '2002',\n",
       "  'value': 41431558,\n",
       "  'unit': '',\n",
       "  'obs_status': '',\n",
       "  'decimal': 0},\n",
       " {'indicator': {'id': 'SP.POP.TOTL', 'value': 'Population, total'},\n",
       "  'country': {'id': 'ES', 'value': 'Spain'},\n",
       "  'countryiso3code': 'ESP',\n",
       "  'date': '2001',\n",
       "  'value': 40850412,\n",
       "  'unit': '',\n",
       "  'obs_status': '',\n",
       "  'decimal': 0},\n",
       " {'indicator': {'id': 'SP.POP.TOTL', 'value': 'Population, total'},\n",
       "  'country': {'id': 'ES', 'value': 'Spain'},\n",
       "  'countryiso3code': 'ESP',\n",
       "  'date': '2000',\n",
       "  'value': 40567864,\n",
       "  'unit': '',\n",
       "  'obs_status': '',\n",
       "  'decimal': 0},\n",
       " {'indicator': {'id': 'SP.POP.TOTL', 'value': 'Population, total'},\n",
       "  'country': {'id': 'ES', 'value': 'Spain'},\n",
       "  'countryiso3code': 'ESP',\n",
       "  'date': '1999',\n",
       "  'value': 40386875,\n",
       "  'unit': '',\n",
       "  'obs_status': '',\n",
       "  'decimal': 0},\n",
       " {'indicator': {'id': 'SP.POP.TOTL', 'value': 'Population, total'},\n",
       "  'country': {'id': 'ES', 'value': 'Spain'},\n",
       "  'countryiso3code': 'ESP',\n",
       "  'date': '1998',\n",
       "  'value': 40223509,\n",
       "  'unit': '',\n",
       "  'obs_status': '',\n",
       "  'decimal': 0},\n",
       " {'indicator': {'id': 'SP.POP.TOTL', 'value': 'Population, total'},\n",
       "  'country': {'id': 'ES', 'value': 'Spain'},\n",
       "  'countryiso3code': 'ESP',\n",
       "  'date': '1997',\n",
       "  'value': 40057389,\n",
       "  'unit': '',\n",
       "  'obs_status': '',\n",
       "  'decimal': 0},\n",
       " {'indicator': {'id': 'SP.POP.TOTL', 'value': 'Population, total'},\n",
       "  'country': {'id': 'ES', 'value': 'Spain'},\n",
       "  'countryiso3code': 'ESP',\n",
       "  'date': '1996',\n",
       "  'value': 39889852,\n",
       "  'unit': '',\n",
       "  'obs_status': '',\n",
       "  'decimal': 0},\n",
       " {'indicator': {'id': 'SP.POP.TOTL', 'value': 'Population, total'},\n",
       "  'country': {'id': 'ES', 'value': 'Spain'},\n",
       "  'countryiso3code': 'ESP',\n",
       "  'date': '1995',\n",
       "  'value': 39724050,\n",
       "  'unit': '',\n",
       "  'obs_status': '',\n",
       "  'decimal': 0},\n",
       " {'indicator': {'id': 'SP.POP.TOTL', 'value': 'Population, total'},\n",
       "  'country': {'id': 'ES', 'value': 'Spain'},\n",
       "  'countryiso3code': 'ESP',\n",
       "  'date': '1994',\n",
       "  'value': 39549108,\n",
       "  'unit': '',\n",
       "  'obs_status': '',\n",
       "  'decimal': 0},\n",
       " {'indicator': {'id': 'SP.POP.TOTL', 'value': 'Population, total'},\n",
       "  'country': {'id': 'ES', 'value': 'Spain'},\n",
       "  'countryiso3code': 'ESP',\n",
       "  'date': '1993',\n",
       "  'value': 39361262,\n",
       "  'unit': '',\n",
       "  'obs_status': '',\n",
       "  'decimal': 0},\n",
       " {'indicator': {'id': 'SP.POP.TOTL', 'value': 'Population, total'},\n",
       "  'country': {'id': 'ES', 'value': 'Spain'},\n",
       "  'countryiso3code': 'ESP',\n",
       "  'date': '1992',\n",
       "  'value': 39157685,\n",
       "  'unit': '',\n",
       "  'obs_status': '',\n",
       "  'decimal': 0},\n",
       " {'indicator': {'id': 'SP.POP.TOTL', 'value': 'Population, total'},\n",
       "  'country': {'id': 'ES', 'value': 'Spain'},\n",
       "  'countryiso3code': 'ESP',\n",
       "  'date': '1991',\n",
       "  'value': 38966376,\n",
       "  'unit': '',\n",
       "  'obs_status': '',\n",
       "  'decimal': 0},\n",
       " {'indicator': {'id': 'SP.POP.TOTL', 'value': 'Population, total'},\n",
       "  'country': {'id': 'ES', 'value': 'Spain'},\n",
       "  'countryiso3code': 'ESP',\n",
       "  'date': '1990',\n",
       "  'value': 38867322,\n",
       "  'unit': '',\n",
       "  'obs_status': '',\n",
       "  'decimal': 0},\n",
       " {'indicator': {'id': 'SP.POP.TOTL', 'value': 'Population, total'},\n",
       "  'country': {'id': 'ES', 'value': 'Spain'},\n",
       "  'countryiso3code': 'ESP',\n",
       "  'date': '1989',\n",
       "  'value': 38827764,\n",
       "  'unit': '',\n",
       "  'obs_status': '',\n",
       "  'decimal': 0},\n",
       " {'indicator': {'id': 'SP.POP.TOTL', 'value': 'Population, total'},\n",
       "  'country': {'id': 'ES', 'value': 'Spain'},\n",
       "  'countryiso3code': 'ESP',\n",
       "  'date': '1988',\n",
       "  'value': 38766939,\n",
       "  'unit': '',\n",
       "  'obs_status': '',\n",
       "  'decimal': 0},\n",
       " {'indicator': {'id': 'SP.POP.TOTL', 'value': 'Population, total'},\n",
       "  'country': {'id': 'ES', 'value': 'Spain'},\n",
       "  'countryiso3code': 'ESP',\n",
       "  'date': '1987',\n",
       "  'value': 38684815,\n",
       "  'unit': '',\n",
       "  'obs_status': '',\n",
       "  'decimal': 0},\n",
       " {'indicator': {'id': 'SP.POP.TOTL', 'value': 'Population, total'},\n",
       "  'country': {'id': 'ES', 'value': 'Spain'},\n",
       "  'countryiso3code': 'ESP',\n",
       "  'date': '1986',\n",
       "  'value': 38584624,\n",
       "  'unit': '',\n",
       "  'obs_status': '',\n",
       "  'decimal': 0},\n",
       " {'indicator': {'id': 'SP.POP.TOTL', 'value': 'Population, total'},\n",
       "  'country': {'id': 'ES', 'value': 'Spain'},\n",
       "  'countryiso3code': 'ESP',\n",
       "  'date': '1985',\n",
       "  'value': 38469512,\n",
       "  'unit': '',\n",
       "  'obs_status': '',\n",
       "  'decimal': 0},\n",
       " {'indicator': {'id': 'SP.POP.TOTL', 'value': 'Population, total'},\n",
       "  'country': {'id': 'ES', 'value': 'Spain'},\n",
       "  'countryiso3code': 'ESP',\n",
       "  'date': '1984',\n",
       "  'value': 38330364,\n",
       "  'unit': '',\n",
       "  'obs_status': '',\n",
       "  'decimal': 0},\n",
       " {'indicator': {'id': 'SP.POP.TOTL', 'value': 'Population, total'},\n",
       "  'country': {'id': 'ES', 'value': 'Spain'},\n",
       "  'countryiso3code': 'ESP',\n",
       "  'date': '1983',\n",
       "  'value': 38171525,\n",
       "  'unit': '',\n",
       "  'obs_status': '',\n",
       "  'decimal': 0},\n",
       " {'indicator': {'id': 'SP.POP.TOTL', 'value': 'Population, total'},\n",
       "  'country': {'id': 'ES', 'value': 'Spain'},\n",
       "  'countryiso3code': 'ESP',\n",
       "  'date': '1982',\n",
       "  'value': 37986012,\n",
       "  'unit': '',\n",
       "  'obs_status': '',\n",
       "  'decimal': 0},\n",
       " {'indicator': {'id': 'SP.POP.TOTL', 'value': 'Population, total'},\n",
       "  'country': {'id': 'ES', 'value': 'Spain'},\n",
       "  'countryiso3code': 'ESP',\n",
       "  'date': '1981',\n",
       "  'value': 37758631,\n",
       "  'unit': '',\n",
       "  'obs_status': '',\n",
       "  'decimal': 0},\n",
       " {'indicator': {'id': 'SP.POP.TOTL', 'value': 'Population, total'},\n",
       "  'country': {'id': 'ES', 'value': 'Spain'},\n",
       "  'countryiso3code': 'ESP',\n",
       "  'date': '1980',\n",
       "  'value': 37491165,\n",
       "  'unit': '',\n",
       "  'obs_status': '',\n",
       "  'decimal': 0},\n",
       " {'indicator': {'id': 'SP.POP.TOTL', 'value': 'Population, total'},\n",
       "  'country': {'id': 'ES', 'value': 'Spain'},\n",
       "  'countryiso3code': 'ESP',\n",
       "  'date': '1979',\n",
       "  'value': 37191330,\n",
       "  'unit': '',\n",
       "  'obs_status': '',\n",
       "  'decimal': 0},\n",
       " {'indicator': {'id': 'SP.POP.TOTL', 'value': 'Population, total'},\n",
       "  'country': {'id': 'ES', 'value': 'Spain'},\n",
       "  'countryiso3code': 'ESP',\n",
       "  'date': '1978',\n",
       "  'value': 36864898,\n",
       "  'unit': '',\n",
       "  'obs_status': '',\n",
       "  'decimal': 0},\n",
       " {'indicator': {'id': 'SP.POP.TOTL', 'value': 'Population, total'},\n",
       "  'country': {'id': 'ES', 'value': 'Spain'},\n",
       "  'countryiso3code': 'ESP',\n",
       "  'date': '1977',\n",
       "  'value': 36511638,\n",
       "  'unit': '',\n",
       "  'obs_status': '',\n",
       "  'decimal': 0},\n",
       " {'indicator': {'id': 'SP.POP.TOTL', 'value': 'Population, total'},\n",
       "  'country': {'id': 'ES', 'value': 'Spain'},\n",
       "  'countryiso3code': 'ESP',\n",
       "  'date': '1976',\n",
       "  'value': 36137812,\n",
       "  'unit': '',\n",
       "  'obs_status': '',\n",
       "  'decimal': 0},\n",
       " {'indicator': {'id': 'SP.POP.TOTL', 'value': 'Population, total'},\n",
       "  'country': {'id': 'ES', 'value': 'Spain'},\n",
       "  'countryiso3code': 'ESP',\n",
       "  'date': '1975',\n",
       "  'value': 35757900,\n",
       "  'unit': '',\n",
       "  'obs_status': '',\n",
       "  'decimal': 0},\n",
       " {'indicator': {'id': 'SP.POP.TOTL', 'value': 'Population, total'},\n",
       "  'country': {'id': 'ES', 'value': 'Spain'},\n",
       "  'countryiso3code': 'ESP',\n",
       "  'date': '1974',\n",
       "  'value': 35373335,\n",
       "  'unit': '',\n",
       "  'obs_status': '',\n",
       "  'decimal': 0},\n",
       " {'indicator': {'id': 'SP.POP.TOTL', 'value': 'Population, total'},\n",
       "  'country': {'id': 'ES', 'value': 'Spain'},\n",
       "  'countryiso3code': 'ESP',\n",
       "  'date': '1973',\n",
       "  'value': 34988947,\n",
       "  'unit': '',\n",
       "  'obs_status': '',\n",
       "  'decimal': 0},\n",
       " {'indicator': {'id': 'SP.POP.TOTL', 'value': 'Population, total'},\n",
       "  'country': {'id': 'ES', 'value': 'Spain'},\n",
       "  'countryiso3code': 'ESP',\n",
       "  'date': '1972',\n",
       "  'value': 34604469,\n",
       "  'unit': '',\n",
       "  'obs_status': '',\n",
       "  'decimal': 0},\n",
       " {'indicator': {'id': 'SP.POP.TOTL', 'value': 'Population, total'},\n",
       "  'country': {'id': 'ES', 'value': 'Spain'},\n",
       "  'countryiso3code': 'ESP',\n",
       "  'date': '1971',\n",
       "  'value': 34224490,\n",
       "  'unit': '',\n",
       "  'obs_status': '',\n",
       "  'decimal': 0},\n",
       " {'indicator': {'id': 'SP.POP.TOTL', 'value': 'Population, total'},\n",
       "  'country': {'id': 'ES', 'value': 'Spain'},\n",
       "  'countryiso3code': 'ESP',\n",
       "  'date': '1970',\n",
       "  'value': 33814531,\n",
       "  'unit': '',\n",
       "  'obs_status': '',\n",
       "  'decimal': 0},\n",
       " {'indicator': {'id': 'SP.POP.TOTL', 'value': 'Population, total'},\n",
       "  'country': {'id': 'ES', 'value': 'Spain'},\n",
       "  'countryiso3code': 'ESP',\n",
       "  'date': '1969',\n",
       "  'value': 33441054,\n",
       "  'unit': '',\n",
       "  'obs_status': '',\n",
       "  'decimal': 0},\n",
       " {'indicator': {'id': 'SP.POP.TOTL', 'value': 'Population, total'},\n",
       "  'country': {'id': 'ES', 'value': 'Spain'},\n",
       "  'countryiso3code': 'ESP',\n",
       "  'date': '1968',\n",
       "  'value': 33113134,\n",
       "  'unit': '',\n",
       "  'obs_status': '',\n",
       "  'decimal': 0},\n",
       " {'indicator': {'id': 'SP.POP.TOTL', 'value': 'Population, total'},\n",
       "  'country': {'id': 'ES', 'value': 'Spain'},\n",
       "  'countryiso3code': 'ESP',\n",
       "  'date': '1967',\n",
       "  'value': 32682947,\n",
       "  'unit': '',\n",
       "  'obs_status': '',\n",
       "  'decimal': 0},\n",
       " {'indicator': {'id': 'SP.POP.TOTL', 'value': 'Population, total'},\n",
       "  'country': {'id': 'ES', 'value': 'Spain'},\n",
       "  'countryiso3code': 'ESP',\n",
       "  'date': '1966',\n",
       "  'value': 32283194,\n",
       "  'unit': '',\n",
       "  'obs_status': '',\n",
       "  'decimal': 0},\n",
       " {'indicator': {'id': 'SP.POP.TOTL', 'value': 'Population, total'},\n",
       "  'country': {'id': 'ES', 'value': 'Spain'},\n",
       "  'countryiso3code': 'ESP',\n",
       "  'date': '1965',\n",
       "  'value': 31954292,\n",
       "  'unit': '',\n",
       "  'obs_status': '',\n",
       "  'decimal': 0},\n",
       " {'indicator': {'id': 'SP.POP.TOTL', 'value': 'Population, total'},\n",
       "  'country': {'id': 'ES', 'value': 'Spain'},\n",
       "  'countryiso3code': 'ESP',\n",
       "  'date': '1964',\n",
       "  'value': 31609195,\n",
       "  'unit': '',\n",
       "  'obs_status': '',\n",
       "  'decimal': 0},\n",
       " {'indicator': {'id': 'SP.POP.TOTL', 'value': 'Population, total'},\n",
       "  'country': {'id': 'ES', 'value': 'Spain'},\n",
       "  'countryiso3code': 'ESP',\n",
       "  'date': '1963',\n",
       "  'value': 31296651,\n",
       "  'unit': '',\n",
       "  'obs_status': '',\n",
       "  'decimal': 0},\n",
       " {'indicator': {'id': 'SP.POP.TOTL', 'value': 'Population, total'},\n",
       "  'country': {'id': 'ES', 'value': 'Spain'},\n",
       "  'countryiso3code': 'ESP',\n",
       "  'date': '1962',\n",
       "  'value': 31023366,\n",
       "  'unit': '',\n",
       "  'obs_status': '',\n",
       "  'decimal': 0},\n",
       " {'indicator': {'id': 'SP.POP.TOTL', 'value': 'Population, total'},\n",
       "  'country': {'id': 'ES', 'value': 'Spain'},\n",
       "  'countryiso3code': 'ESP',\n",
       "  'date': '1961',\n",
       "  'value': 30739250,\n",
       "  'unit': '',\n",
       "  'obs_status': '',\n",
       "  'decimal': 0},\n",
       " {'indicator': {'id': 'SP.POP.TOTL', 'value': 'Population, total'},\n",
       "  'country': {'id': 'ES', 'value': 'Spain'},\n",
       "  'countryiso3code': 'ESP',\n",
       "  'date': '1960',\n",
       "  'value': 30455000,\n",
       "  'unit': '',\n",
       "  'obs_status': '',\n",
       "  'decimal': 0}]"
      ]
     },
     "execution_count": 26,
     "metadata": {},
     "output_type": "execute_result"
    }
   ],
   "source": [
    "python_object[1]"
   ]
  },
  {
   "cell_type": "code",
   "execution_count": null,
   "id": "998e1fe4",
   "metadata": {
    "tags": [
     "ellipsis"
    ]
   },
   "outputs": [],
   "source": []
  },
  {
   "cell_type": "code",
   "execution_count": null,
   "id": "7cf5ba0a",
   "metadata": {
    "tags": [
     "ellipsis"
    ]
   },
   "outputs": [],
   "source": [
    "..."
   ]
  },
  {
   "cell_type": "code",
   "execution_count": null,
   "id": "0f9c01e3",
   "metadata": {
    "tags": [
     "ellipsis"
    ]
   },
   "outputs": [],
   "source": [
    "..."
   ]
  },
  {
   "cell_type": "code",
   "execution_count": null,
   "id": "a3b04a83",
   "metadata": {
    "tags": [
     "ellipsis"
    ]
   },
   "outputs": [],
   "source": [
    "..."
   ]
  },
  {
   "cell_type": "code",
   "execution_count": null,
   "id": "9da06d49",
   "metadata": {
    "tags": [
     "ellipsis"
    ]
   },
   "outputs": [],
   "source": [
    "..."
   ]
  },
  {
   "cell_type": "markdown",
   "id": "4927b919",
   "metadata": {},
   "source": [
    "Once a list has been found, import it into a dataframe named `df`:"
   ]
  },
  {
   "cell_type": "code",
   "execution_count": 27,
   "id": "bbbf4ac0",
   "metadata": {},
   "outputs": [],
   "source": [
    "df = pd.json_normalize(python_object[1])"
   ]
  },
  {
   "cell_type": "markdown",
   "id": "8b70df2e",
   "metadata": {},
   "source": [
    "Check the first 5 rows of the dataframe:"
   ]
  },
  {
   "cell_type": "code",
   "execution_count": 28,
   "id": "766b381e",
   "metadata": {
    "scrolled": true
   },
   "outputs": [
    {
     "data": {
      "text/html": [
       "<div>\n",
       "<style scoped>\n",
       "    .dataframe tbody tr th:only-of-type {\n",
       "        vertical-align: middle;\n",
       "    }\n",
       "\n",
       "    .dataframe tbody tr th {\n",
       "        vertical-align: top;\n",
       "    }\n",
       "\n",
       "    .dataframe thead th {\n",
       "        text-align: right;\n",
       "    }\n",
       "</style>\n",
       "<table border=\"1\" class=\"dataframe\">\n",
       "  <thead>\n",
       "    <tr style=\"text-align: right;\">\n",
       "      <th></th>\n",
       "      <th>countryiso3code</th>\n",
       "      <th>date</th>\n",
       "      <th>value</th>\n",
       "      <th>unit</th>\n",
       "      <th>obs_status</th>\n",
       "      <th>decimal</th>\n",
       "      <th>indicator.id</th>\n",
       "      <th>indicator.value</th>\n",
       "      <th>country.id</th>\n",
       "      <th>country.value</th>\n",
       "    </tr>\n",
       "  </thead>\n",
       "  <tbody>\n",
       "    <tr>\n",
       "      <th>0</th>\n",
       "      <td>ESP</td>\n",
       "      <td>2020</td>\n",
       "      <td>NaN</td>\n",
       "      <td></td>\n",
       "      <td></td>\n",
       "      <td>0</td>\n",
       "      <td>SP.POP.TOTL</td>\n",
       "      <td>Population, total</td>\n",
       "      <td>ES</td>\n",
       "      <td>Spain</td>\n",
       "    </tr>\n",
       "    <tr>\n",
       "      <th>1</th>\n",
       "      <td>ESP</td>\n",
       "      <td>2019</td>\n",
       "      <td>47076781.0</td>\n",
       "      <td></td>\n",
       "      <td></td>\n",
       "      <td>0</td>\n",
       "      <td>SP.POP.TOTL</td>\n",
       "      <td>Population, total</td>\n",
       "      <td>ES</td>\n",
       "      <td>Spain</td>\n",
       "    </tr>\n",
       "    <tr>\n",
       "      <th>2</th>\n",
       "      <td>ESP</td>\n",
       "      <td>2018</td>\n",
       "      <td>46797754.0</td>\n",
       "      <td></td>\n",
       "      <td></td>\n",
       "      <td>0</td>\n",
       "      <td>SP.POP.TOTL</td>\n",
       "      <td>Population, total</td>\n",
       "      <td>ES</td>\n",
       "      <td>Spain</td>\n",
       "    </tr>\n",
       "    <tr>\n",
       "      <th>3</th>\n",
       "      <td>ESP</td>\n",
       "      <td>2017</td>\n",
       "      <td>46593236.0</td>\n",
       "      <td></td>\n",
       "      <td></td>\n",
       "      <td>0</td>\n",
       "      <td>SP.POP.TOTL</td>\n",
       "      <td>Population, total</td>\n",
       "      <td>ES</td>\n",
       "      <td>Spain</td>\n",
       "    </tr>\n",
       "    <tr>\n",
       "      <th>4</th>\n",
       "      <td>ESP</td>\n",
       "      <td>2016</td>\n",
       "      <td>46484062.0</td>\n",
       "      <td></td>\n",
       "      <td></td>\n",
       "      <td>0</td>\n",
       "      <td>SP.POP.TOTL</td>\n",
       "      <td>Population, total</td>\n",
       "      <td>ES</td>\n",
       "      <td>Spain</td>\n",
       "    </tr>\n",
       "  </tbody>\n",
       "</table>\n",
       "</div>"
      ],
      "text/plain": [
       "  countryiso3code  date       value unit obs_status  decimal indicator.id  \\\n",
       "0             ESP  2020         NaN                        0  SP.POP.TOTL   \n",
       "1             ESP  2019  47076781.0                        0  SP.POP.TOTL   \n",
       "2             ESP  2018  46797754.0                        0  SP.POP.TOTL   \n",
       "3             ESP  2017  46593236.0                        0  SP.POP.TOTL   \n",
       "4             ESP  2016  46484062.0                        0  SP.POP.TOTL   \n",
       "\n",
       "     indicator.value country.id country.value  \n",
       "0  Population, total         ES         Spain  \n",
       "1  Population, total         ES         Spain  \n",
       "2  Population, total         ES         Spain  \n",
       "3  Population, total         ES         Spain  \n",
       "4  Population, total         ES         Spain  "
      ]
     },
     "execution_count": 28,
     "metadata": {},
     "output_type": "execute_result"
    }
   ],
   "source": [
    "df.head()"
   ]
  },
  {
   "cell_type": "markdown",
   "id": "928dafb1",
   "metadata": {},
   "source": [
    "Check the data types of the columns:"
   ]
  },
  {
   "cell_type": "code",
   "execution_count": 29,
   "id": "c0c89373",
   "metadata": {},
   "outputs": [
    {
     "data": {
      "text/plain": [
       "countryiso3code     object\n",
       "date                object\n",
       "value              float64\n",
       "unit                object\n",
       "obs_status          object\n",
       "decimal              int64\n",
       "indicator.id        object\n",
       "indicator.value     object\n",
       "country.id          object\n",
       "country.value       object\n",
       "dtype: object"
      ]
     },
     "execution_count": 29,
     "metadata": {},
     "output_type": "execute_result"
    }
   ],
   "source": [
    "df.dtypes"
   ]
  },
  {
   "cell_type": "markdown",
   "id": "ce8b11f0",
   "metadata": {},
   "source": [
    "When using `.plot()`, the index will be used for the X-axis, and the column for the Y-axis."
   ]
  },
  {
   "cell_type": "markdown",
   "id": "c1e2f43d",
   "metadata": {},
   "source": [
    "Set the `date` column to be the index of the dataframe:"
   ]
  },
  {
   "cell_type": "code",
   "execution_count": 34,
   "id": "240ee505",
   "metadata": {},
   "outputs": [],
   "source": [
    "df.set_index(\"date\", inplace=True)"
   ]
  },
  {
   "cell_type": "markdown",
   "id": "f061dc62",
   "metadata": {},
   "source": [
    "Check the first 5 rows of the dataframe:"
   ]
  },
  {
   "cell_type": "code",
   "execution_count": 35,
   "id": "4f572b38",
   "metadata": {},
   "outputs": [
    {
     "data": {
      "text/html": [
       "<div>\n",
       "<style scoped>\n",
       "    .dataframe tbody tr th:only-of-type {\n",
       "        vertical-align: middle;\n",
       "    }\n",
       "\n",
       "    .dataframe tbody tr th {\n",
       "        vertical-align: top;\n",
       "    }\n",
       "\n",
       "    .dataframe thead th {\n",
       "        text-align: right;\n",
       "    }\n",
       "</style>\n",
       "<table border=\"1\" class=\"dataframe\">\n",
       "  <thead>\n",
       "    <tr style=\"text-align: right;\">\n",
       "      <th></th>\n",
       "      <th>countryiso3code</th>\n",
       "      <th>value</th>\n",
       "      <th>unit</th>\n",
       "      <th>obs_status</th>\n",
       "      <th>decimal</th>\n",
       "      <th>indicator.id</th>\n",
       "      <th>indicator.value</th>\n",
       "      <th>country.id</th>\n",
       "      <th>country.value</th>\n",
       "    </tr>\n",
       "    <tr>\n",
       "      <th>date</th>\n",
       "      <th></th>\n",
       "      <th></th>\n",
       "      <th></th>\n",
       "      <th></th>\n",
       "      <th></th>\n",
       "      <th></th>\n",
       "      <th></th>\n",
       "      <th></th>\n",
       "      <th></th>\n",
       "    </tr>\n",
       "  </thead>\n",
       "  <tbody>\n",
       "    <tr>\n",
       "      <th>2020</th>\n",
       "      <td>ESP</td>\n",
       "      <td>NaN</td>\n",
       "      <td></td>\n",
       "      <td></td>\n",
       "      <td>0</td>\n",
       "      <td>SP.POP.TOTL</td>\n",
       "      <td>Population, total</td>\n",
       "      <td>ES</td>\n",
       "      <td>Spain</td>\n",
       "    </tr>\n",
       "    <tr>\n",
       "      <th>2019</th>\n",
       "      <td>ESP</td>\n",
       "      <td>47076781.0</td>\n",
       "      <td></td>\n",
       "      <td></td>\n",
       "      <td>0</td>\n",
       "      <td>SP.POP.TOTL</td>\n",
       "      <td>Population, total</td>\n",
       "      <td>ES</td>\n",
       "      <td>Spain</td>\n",
       "    </tr>\n",
       "    <tr>\n",
       "      <th>2018</th>\n",
       "      <td>ESP</td>\n",
       "      <td>46797754.0</td>\n",
       "      <td></td>\n",
       "      <td></td>\n",
       "      <td>0</td>\n",
       "      <td>SP.POP.TOTL</td>\n",
       "      <td>Population, total</td>\n",
       "      <td>ES</td>\n",
       "      <td>Spain</td>\n",
       "    </tr>\n",
       "    <tr>\n",
       "      <th>2017</th>\n",
       "      <td>ESP</td>\n",
       "      <td>46593236.0</td>\n",
       "      <td></td>\n",
       "      <td></td>\n",
       "      <td>0</td>\n",
       "      <td>SP.POP.TOTL</td>\n",
       "      <td>Population, total</td>\n",
       "      <td>ES</td>\n",
       "      <td>Spain</td>\n",
       "    </tr>\n",
       "    <tr>\n",
       "      <th>2016</th>\n",
       "      <td>ESP</td>\n",
       "      <td>46484062.0</td>\n",
       "      <td></td>\n",
       "      <td></td>\n",
       "      <td>0</td>\n",
       "      <td>SP.POP.TOTL</td>\n",
       "      <td>Population, total</td>\n",
       "      <td>ES</td>\n",
       "      <td>Spain</td>\n",
       "    </tr>\n",
       "  </tbody>\n",
       "</table>\n",
       "</div>"
      ],
      "text/plain": [
       "     countryiso3code       value unit obs_status  decimal indicator.id  \\\n",
       "date                                                                     \n",
       "2020             ESP         NaN                        0  SP.POP.TOTL   \n",
       "2019             ESP  47076781.0                        0  SP.POP.TOTL   \n",
       "2018             ESP  46797754.0                        0  SP.POP.TOTL   \n",
       "2017             ESP  46593236.0                        0  SP.POP.TOTL   \n",
       "2016             ESP  46484062.0                        0  SP.POP.TOTL   \n",
       "\n",
       "        indicator.value country.id country.value  \n",
       "date                                              \n",
       "2020  Population, total         ES         Spain  \n",
       "2019  Population, total         ES         Spain  \n",
       "2018  Population, total         ES         Spain  \n",
       "2017  Population, total         ES         Spain  \n",
       "2016  Population, total         ES         Spain  "
      ]
     },
     "execution_count": 35,
     "metadata": {},
     "output_type": "execute_result"
    }
   ],
   "source": [
    "df.head()"
   ]
  },
  {
   "cell_type": "markdown",
   "id": "8ba73b09",
   "metadata": {},
   "source": [
    "Check the `value` column:"
   ]
  },
  {
   "cell_type": "code",
   "execution_count": 36,
   "id": "a1800262",
   "metadata": {},
   "outputs": [
    {
     "data": {
      "text/plain": [
       "date\n",
       "2020           NaN\n",
       "2019    47076781.0\n",
       "2018    46797754.0\n",
       "2017    46593236.0\n",
       "2016    46484062.0\n",
       "           ...    \n",
       "1964    31609195.0\n",
       "1963    31296651.0\n",
       "1962    31023366.0\n",
       "1961    30739250.0\n",
       "1960    30455000.0\n",
       "Name: value, Length: 61, dtype: float64"
      ]
     },
     "execution_count": 36,
     "metadata": {},
     "output_type": "execute_result"
    }
   ],
   "source": [
    "df.value"
   ]
  },
  {
   "cell_type": "markdown",
   "id": "eaab81e2",
   "metadata": {},
   "source": [
    "Order the `value` column by the index:"
   ]
  },
  {
   "cell_type": "code",
   "execution_count": 38,
   "id": "90782f85",
   "metadata": {},
   "outputs": [],
   "source": [
    "df.sort_index(inplace=True)"
   ]
  },
  {
   "cell_type": "markdown",
   "id": "f221b0cd",
   "metadata": {},
   "source": [
    "Plot the `value` column (ordered by its index) using `.plot()`:"
   ]
  },
  {
   "cell_type": "code",
   "execution_count": 39,
   "id": "4a088f52",
   "metadata": {},
   "outputs": [
    {
     "data": {
      "text/plain": [
       "<AxesSubplot:xlabel='date'>"
      ]
     },
     "execution_count": 39,
     "metadata": {},
     "output_type": "execute_result"
    },
    {
     "data": {
      "image/png": "[encoded data removed]",
      "text/plain": [
       "<Figure size 432x288 with 1 Axes>"
      ]
     },
     "metadata": {
      "needs_background": "light"
     },
     "output_type": "display_data"
    }
   ],
   "source": [
    "df.value.plot()"
   ]
  },
  {
   "cell_type": "markdown",
   "id": "60a3c1e7",
   "metadata": {},
   "source": [
    "## Exercise 2 – ECDC"
   ]
  },
  {
   "cell_type": "markdown",
   "id": "e1cc64c6",
   "metadata": {},
   "source": [
    "The dataset for this exercise is the [COVID-19 vaccination in the EU/EEA](https://www.ecdc.europa.eu/en/publications-data/data-covid-19-vaccination-eu-eea) data from the [European Centre for Disease Prevention and Control](https://www.ecdc.europa.eu/en)."
   ]
  },
  {
   "cell_type": "code",
   "execution_count": null,
   "id": "abd6c844",
   "metadata": {
    "tags": [
     "no-replacement"
    ]
   },
   "outputs": [],
   "source": [
    "filename = \"exercise-2.csv\"\n",
    "file = directory / filename"
   ]
  },
  {
   "cell_type": "markdown",
   "id": "8e791afa",
   "metadata": {},
   "source": [
    "Import the CSV file into a dataframe:"
   ]
  },
  {
   "cell_type": "code",
   "execution_count": null,
   "id": "f1509c58",
   "metadata": {},
   "outputs": [],
   "source": []
  },
  {
   "cell_type": "markdown",
   "id": "e37be5d7",
   "metadata": {},
   "source": [
    "Check the first 5 rows of the dataframe:"
   ]
  },
  {
   "cell_type": "code",
   "execution_count": null,
   "id": "582fa38b",
   "metadata": {},
   "outputs": [],
   "source": []
  },
  {
   "cell_type": "markdown",
   "id": "988ac1b3",
   "metadata": {},
   "source": [
    "Check the shape of the dataframe:"
   ]
  },
  {
   "cell_type": "code",
   "execution_count": null,
   "id": "f8c11c8a",
   "metadata": {},
   "outputs": [],
   "source": []
  },
  {
   "cell_type": "markdown",
   "id": "e4495e7b",
   "metadata": {},
   "source": [
    "A handful of countries (e.g. Finland, Poland) are reporting values at the country-level, but also at the regional level.  \n",
    "Keep only the rows at country level (to avoid having to deal with different Denominator values later):"
   ]
  },
  {
   "cell_type": "code",
   "execution_count": null,
   "id": "18ed3bc6",
   "metadata": {
    "tags": [
     "no-replacement"
    ]
   },
   "outputs": [],
   "source": [
    "country_codes = df[\"ReportingCountry\"].unique()"
   ]
  },
  {
   "cell_type": "code",
   "execution_count": null,
   "id": "32af7e72",
   "metadata": {
    "tags": [
     "no-replacement"
    ]
   },
   "outputs": [],
   "source": [
    "df = df.loc[df[\"Region\"].isin(country_codes)]"
   ]
  },
  {
   "cell_type": "markdown",
   "id": "432e450d",
   "metadata": {},
   "source": [
    "Delete the `YearWeekISO`, `FirstDoseRefused`, `UnknownDose`, `NumberDosesReceived`, `Region`, and `Population` columns:"
   ]
  },
  {
   "cell_type": "code",
   "execution_count": null,
   "id": "1949d260",
   "metadata": {
    "tags": [
     "no-replacement"
    ]
   },
   "outputs": [],
   "source": [
    "columns = [\n",
    "    \"YearWeekISO\",\n",
    "    \"FirstDoseRefused\",\n",
    "    \"UnknownDose\",\n",
    "    \"NumberDosesReceived\",\n",
    "    \"Region\",\n",
    "    \"Population\",\n",
    "]"
   ]
  },
  {
   "cell_type": "code",
   "execution_count": null,
   "id": "0bf88115",
   "metadata": {},
   "outputs": [],
   "source": []
  },
  {
   "cell_type": "markdown",
   "id": "c995a1d0",
   "metadata": {},
   "source": [
    "Check the first 5 rows of the dataframe:"
   ]
  },
  {
   "cell_type": "code",
   "execution_count": null,
   "id": "8073e293",
   "metadata": {},
   "outputs": [],
   "source": []
  },
  {
   "cell_type": "markdown",
   "id": "c0ed06e2",
   "metadata": {},
   "source": [
    "Keep only rows where the `TargetGroup` column is `ALL`:"
   ]
  },
  {
   "cell_type": "code",
   "execution_count": null,
   "id": "98b5abed",
   "metadata": {},
   "outputs": [],
   "source": []
  },
  {
   "cell_type": "markdown",
   "id": "ddade9a3",
   "metadata": {},
   "source": [
    "Check the shape of the dataframe:"
   ]
  },
  {
   "cell_type": "code",
   "execution_count": null,
   "id": "7433eef1",
   "metadata": {},
   "outputs": [],
   "source": []
  },
  {
   "cell_type": "markdown",
   "id": "eed44704",
   "metadata": {},
   "source": [
    "Check the first 5 rows of the dataframe:"
   ]
  },
  {
   "cell_type": "code",
   "execution_count": null,
   "id": "f933ac50",
   "metadata": {},
   "outputs": [],
   "source": []
  },
  {
   "cell_type": "markdown",
   "id": "69f99daa",
   "metadata": {},
   "source": [
    "Check the column data types:"
   ]
  },
  {
   "cell_type": "code",
   "execution_count": null,
   "id": "9f6d6f78",
   "metadata": {},
   "outputs": [],
   "source": []
  },
  {
   "cell_type": "markdown",
   "id": "8b2861fb",
   "metadata": {},
   "source": [
    "Turn the `Denominator` column into integers:"
   ]
  },
  {
   "cell_type": "code",
   "execution_count": null,
   "id": "0ee055e4",
   "metadata": {},
   "outputs": [],
   "source": []
  },
  {
   "cell_type": "markdown",
   "id": "5f5a92de",
   "metadata": {},
   "source": [
    "Turn the `ReportingCountry`, `TargetGroup`, and `Vaccine` columns into categoricals:"
   ]
  },
  {
   "cell_type": "code",
   "execution_count": null,
   "id": "025ba696",
   "metadata": {},
   "outputs": [],
   "source": []
  },
  {
   "cell_type": "markdown",
   "id": "87f8d182",
   "metadata": {},
   "source": [
    "Check the corrected column data types:"
   ]
  },
  {
   "cell_type": "code",
   "execution_count": null,
   "id": "f1d70f60",
   "metadata": {},
   "outputs": [],
   "source": []
  },
  {
   "cell_type": "markdown",
   "id": "284cb13a",
   "metadata": {},
   "source": [
    "Rename vaccines:"
   ]
  },
  {
   "cell_type": "code",
   "execution_count": null,
   "id": "087787fb",
   "metadata": {
    "tags": [
     "no-replacement"
    ]
   },
   "outputs": [],
   "source": [
    "vaccines = {\n",
    "    \"COM\": \"Pfizer\",\n",
    "    \"MOD\": \"Moderna\",\n",
    "    \"AZ\": \"AstraZeneca\",\n",
    "    \"JANSS\": \"Janssen\",\n",
    "    \"SPU\": \"Sputnik\",\n",
    "    \"BECNBG\": \"CNBG\",\n",
    "    \"UNK\": \"Unknown\",\n",
    "}"
   ]
  },
  {
   "cell_type": "code",
   "execution_count": null,
   "id": "68d16074",
   "metadata": {
    "tags": [
     "no-replacement"
    ]
   },
   "outputs": [],
   "source": [
    "df[\"Vaccine\"] = df[\"Vaccine\"].cat.rename_categories(vaccines)"
   ]
  },
  {
   "cell_type": "markdown",
   "id": "7f1f0eaa",
   "metadata": {},
   "source": [
    "Rename countries:"
   ]
  },
  {
   "cell_type": "code",
   "execution_count": 52,
   "id": "ffe58b97",
   "metadata": {
    "tags": [
     "no-replacement"
    ]
   },
   "outputs": [],
   "source": [
    "countries = {\n",
    "    \"AT\": \"Austria\",\n",
    "    \"BE\": \"Belgium\",\n",
    "    \"BG\": \"Bulgaria\",\n",
    "    \"HR\": \"Croatia\",\n",
    "    \"CY\": \"Cyprus\",\n",
    "    \"CZ\": \"Czechia\",\n",
    "    \"DK\": \"Denmark\",\n",
    "    \"EE\": \"Estonia\",\n",
    "    \"FI\": \"Finland\",\n",
    "    \"FR\": \"France\",\n",
    "    \"DE\": \"Germany\",\n",
    "    \"EL\": \"Greece\",\n",
    "    \"HU\": \"Hungary\",\n",
    "    \"IS\": \"Iceland\",\n",
    "    \"IE\": \"Ireland\",\n",
    "    \"IT\": \"Italy\",\n",
    "    \"LV\": \"Latvia\",\n",
    "    \"LI\": \"Liechtenstein\",\n",
    "    \"LT\": \"Lithuania\",\n",
    "    \"LU\": \"Luxembourg\",\n",
    "    \"MT\": \"Malta\",\n",
    "    \"NL\": \"Netherlands\",\n",
    "    \"NO\": \"Norway\",\n",
    "    \"PL\": \"Poland\",\n",
    "    \"PT\": \"Portugal\",\n",
    "    \"RO\": \"Romania\",\n",
    "    \"SK\": \"Slovakia\",\n",
    "    \"SI\": \"Slovenia\",\n",
    "    \"ES\": \"Spain\",\n",
    "    \"SE\": \"Sweden\",\n",
    "}"
   ]
  },
  {
   "cell_type": "code",
   "execution_count": null,
   "id": "a6ede0d3",
   "metadata": {
    "tags": [
     "no-replacement"
    ]
   },
   "outputs": [],
   "source": [
    "df[\"ReportingCountry\"] = df[\"ReportingCountry\"].cat.rename_categories(countries)"
   ]
  },
  {
   "cell_type": "markdown",
   "id": "b328a67a",
   "metadata": {},
   "source": [
    "Check the first 5 rows of the dataframe:"
   ]
  },
  {
   "cell_type": "code",
   "execution_count": null,
   "id": "e2c3d861",
   "metadata": {},
   "outputs": [],
   "source": []
  },
  {
   "cell_type": "markdown",
   "id": "20d04b83",
   "metadata": {},
   "source": [
    "Create a new dataframe named `doses` with the cumulated number of doses per country (keeping the first value from the `Denominator` column):"
   ]
  },
  {
   "cell_type": "code",
   "execution_count": null,
   "id": "5ae74556",
   "metadata": {},
   "outputs": [],
   "source": []
  },
  {
   "cell_type": "markdown",
   "id": "6971dec6",
   "metadata": {},
   "source": [
    "Check the first 5 rows of the `doses` dataframe:"
   ]
  },
  {
   "cell_type": "code",
   "execution_count": null,
   "id": "348f5d95",
   "metadata": {},
   "outputs": [],
   "source": []
  },
  {
   "cell_type": "markdown",
   "id": "c3e490ad",
   "metadata": {},
   "source": [
    "Create new `FirstDosePercentage` and `SecondDosePercentage` columns expressed as percentages (leveraging the `Denominator` column):"
   ]
  },
  {
   "cell_type": "code",
   "execution_count": null,
   "id": "d294ef02",
   "metadata": {},
   "outputs": [],
   "source": []
  },
  {
   "cell_type": "markdown",
   "id": "7eb80b5b",
   "metadata": {},
   "source": [
    "## Bonus: Downloading data with `requests`"
   ]
  },
  {
   "cell_type": "code",
   "execution_count": 41,
   "id": "5361c98f",
   "metadata": {},
   "outputs": [],
   "source": [
    "import requests"
   ]
  },
  {
   "cell_type": "markdown",
   "id": "3d2ebec7",
   "metadata": {},
   "source": [
    "Define the location and filename to store the data:"
   ]
  },
  {
   "cell_type": "code",
   "execution_count": 42,
   "id": "2a07d8c2",
   "metadata": {},
   "outputs": [],
   "source": [
    "filename = \"vaccination.csv\"\n",
    "file = directory / filename"
   ]
  },
  {
   "cell_type": "markdown",
   "id": "5e042de3",
   "metadata": {},
   "source": [
    "Define the URL:"
   ]
  },
  {
   "cell_type": "code",
   "execution_count": 43,
   "id": "3784db20",
   "metadata": {},
   "outputs": [],
   "source": [
    "url = \"https://opendata.ecdc.europa.eu/covid19/vaccine_tracker/csv/data.csv\""
   ]
  },
  {
   "cell_type": "markdown",
   "id": "fed0a8aa",
   "metadata": {},
   "source": [
    "Download the data:"
   ]
  },
  {
   "cell_type": "code",
   "execution_count": 44,
   "id": "0fe9e7c1",
   "metadata": {},
   "outputs": [],
   "source": [
    "response = requests.get(url)"
   ]
  },
  {
   "cell_type": "markdown",
   "id": "2767db79",
   "metadata": {},
   "source": [
    "Check that the connection was succesful:"
   ]
  },
  {
   "cell_type": "code",
   "execution_count": 45,
   "id": "f1b41488",
   "metadata": {},
   "outputs": [],
   "source": [
    "response.raise_for_status()"
   ]
  },
  {
   "cell_type": "markdown",
   "id": "5e2b3e97",
   "metadata": {},
   "source": [
    "Save the data locally:"
   ]
  },
  {
   "cell_type": "code",
   "execution_count": 46,
   "id": "b6c9202b",
   "metadata": {
    "tags": [
     "no-execution"
    ]
   },
   "outputs": [],
   "source": [
    "with open(file, \"wb\") as file_descriptor:\n",
    "    for chunk in response.iter_content(chunk_size=128):\n",
    "        file_descriptor.write(chunk)"
   ]
  },
  {
   "cell_type": "markdown",
   "id": "6b519c5b",
   "metadata": {},
   "source": [
    "## Bonus: `geopandas`"
   ]
  },
  {
   "cell_type": "code",
   "execution_count": 47,
   "id": "bc7f8829",
   "metadata": {},
   "outputs": [],
   "source": [
    "import geopandas"
   ]
  },
  {
   "cell_type": "code",
   "execution_count": 48,
   "id": "3bf84ff2",
   "metadata": {},
   "outputs": [],
   "source": [
    "%matplotlib inline\n",
    "import matplotlib.pyplot as plt"
   ]
  },
  {
   "cell_type": "markdown",
   "id": "53d9ae4b",
   "metadata": {},
   "source": [
    "Get the data for a World map:"
   ]
  },
  {
   "cell_type": "code",
   "execution_count": 49,
   "id": "f397fe53",
   "metadata": {},
   "outputs": [],
   "source": [
    "world = geopandas.read_file(geopandas.datasets.get_path(\"naturalearth_lowres\"))"
   ]
  },
  {
   "cell_type": "markdown",
   "id": "1d8907cd",
   "metadata": {},
   "source": [
    "Plot the map (without data):"
   ]
  },
  {
   "cell_type": "code",
   "execution_count": 50,
   "id": "69e22cdd",
   "metadata": {},
   "outputs": [
    {
     "data": {
      "text/plain": [
       "<AxesSubplot:>"
      ]
     },
     "execution_count": 50,
     "metadata": {},
     "output_type": "execute_result"
    },
    {
     "data": {
      "image/png": "[encoded data removed]",
      "text/plain": [
       "<Figure size 432x288 with 1 Axes>"
      ]
     },
     "metadata": {
      "needs_background": "light"
     },
     "output_type": "display_data"
    }
   ],
   "source": [
    "world.plot()"
   ]
  },
  {
   "cell_type": "markdown",
   "id": "d1e0e0b8",
   "metadata": {},
   "source": [
    "Select EU countries:"
   ]
  },
  {
   "cell_type": "code",
   "execution_count": 53,
   "id": "bb205522",
   "metadata": {},
   "outputs": [],
   "source": [
    "europe = world[world[\"name\"].isin(countries.values())]"
   ]
  },
  {
   "cell_type": "markdown",
   "id": "af4132ce",
   "metadata": {},
   "source": [
    "Plot the map (without data):"
   ]
  },
  {
   "cell_type": "code",
   "execution_count": 54,
   "id": "0c914c38",
   "metadata": {},
   "outputs": [
    {
     "data": {
      "text/plain": [
       "<AxesSubplot:>"
      ]
     },
     "execution_count": 54,
     "metadata": {},
     "output_type": "execute_result"
    },
    {
     "data": {
      "image/png": "[encoded data removed]",
      "text/plain": [
       "<Figure size 432x288 with 1 Axes>"
      ]
     },
     "metadata": {
      "needs_background": "light"
     },
     "output_type": "display_data"
    }
   ],
   "source": [
    "europe.plot()"
   ]
  },
  {
   "cell_type": "markdown",
   "id": "8248d490",
   "metadata": {},
   "source": [
    "Merge the doses data with the map data:"
   ]
  },
  {
   "cell_type": "code",
   "execution_count": 55,
   "id": "c53816dc",
   "metadata": {},
   "outputs": [
    {
     "ename": "NameError",
     "evalue": "name 'doses' is not defined",
     "output_type": "error",
     "traceback": [
      "\u001b[1;31m---------------------------------------------------------------------------\u001b[0m",
      "\u001b[1;31mNameError\u001b[0m                                 Traceback (most recent call last)",
      "\u001b[1;32m<ipython-input-55-998afe61d7b7>\u001b[0m in \u001b[0;36m<module>\u001b[1;34m\u001b[0m\n\u001b[1;32m----> 1\u001b[1;33m \u001b[0mpercentages_df\u001b[0m \u001b[1;33m=\u001b[0m \u001b[0mpd\u001b[0m\u001b[1;33m.\u001b[0m\u001b[0mmerge\u001b[0m\u001b[1;33m(\u001b[0m\u001b[0meurope\u001b[0m\u001b[1;33m,\u001b[0m \u001b[0mdoses\u001b[0m\u001b[1;33m,\u001b[0m \u001b[0mleft_on\u001b[0m\u001b[1;33m=\u001b[0m\u001b[1;34m\"name\"\u001b[0m\u001b[1;33m,\u001b[0m \u001b[0mright_index\u001b[0m\u001b[1;33m=\u001b[0m\u001b[1;32mTrue\u001b[0m\u001b[1;33m)\u001b[0m\u001b[1;33m\u001b[0m\u001b[1;33m\u001b[0m\u001b[0m\n\u001b[0m",
      "\u001b[1;31mNameError\u001b[0m: name 'doses' is not defined"
     ]
    }
   ],
   "source": [
    "percentages_df = pd.merge(europe, doses, left_on=\"name\", right_index=True)"
   ]
  },
  {
   "cell_type": "markdown",
   "id": "b19213be",
   "metadata": {},
   "source": [
    "Plot the map (with data):"
   ]
  },
  {
   "cell_type": "code",
   "execution_count": null,
   "id": "46803639",
   "metadata": {},
   "outputs": [],
   "source": [
    "percentages_df.plot(column=\"FirstDosePercentage\")"
   ]
  },
  {
   "cell_type": "markdown",
   "id": "ebf1a6e8",
   "metadata": {},
   "source": [
    "Customize the map:"
   ]
  },
  {
   "cell_type": "code",
   "execution_count": null,
   "id": "a5fb3a4d",
   "metadata": {},
   "outputs": [],
   "source": [
    "fig, ax = plt.subplots(figsize=(15, 10))\n",
    "\n",
    "# Plot the percentages on the map:\n",
    "percentages_df.plot(ax=ax, column=\"FirstDosePercentage\", legend=True)\n",
    "\n",
    "# Configure the plot:\n",
    "ax.set_title(\"COVID-19 Vaccination percentages (ECDC)\", fontsize=20)\n",
    "ax.set_axis_off()\n",
    "ax.axis(\"equal\")\n",
    "ax.set_xlim(-30)\n",
    "ax.set_ylim(30)"
   ]
  },
  {
   "cell_type": "markdown",
   "id": "cdfb4fc4",
   "metadata": {},
   "source": [
    "Save the figure:"
   ]
  },
  {
   "cell_type": "code",
   "execution_count": null,
   "id": "51d10bc6",
   "metadata": {
    "tags": [
     "no-execution"
    ]
   },
   "outputs": [],
   "source": [
    "fig.savefig(directory / \"Vaccination-EU.pdf\")"
   ]
  }
 ],
 "metadata": {
  "kernelspec": {
   "display_name": "Python 3",
   "language": "python",
   "name": "python3"
  },
  "language_info": {
   "codemirror_mode": {
    "name": "ipython",
    "version": 3
   },
   "file_extension": ".py",
   "mimetype": "text/x-python",
   "name": "python",
   "nbconvert_exporter": "python",
   "pygments_lexer": "ipython3",
   "version": "3.8.10"
  }
 },
 "nbformat": 4,
 "nbformat_minor": 5
}
