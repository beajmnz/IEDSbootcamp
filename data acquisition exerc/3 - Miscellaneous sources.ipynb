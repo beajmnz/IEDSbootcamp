{
 "cells": [
  {
   "cell_type": "markdown",
   "id": "sized-equipment",
   "metadata": {},
   "source": [
    "# Miscellaneous sources"
   ]
  },
  {
   "cell_type": "markdown",
   "id": "behind-persian",
   "metadata": {},
   "source": [
    "## Import statements"
   ]
  },
  {
   "cell_type": "code",
   "execution_count": 1,
   "id": "accessible-placement",
   "metadata": {},
   "outputs": [],
   "source": [
    "import pandas as pd\n",
    "import pathlib"
   ]
  },
  {
   "cell_type": "markdown",
   "id": "fuzzy-adoption",
   "metadata": {},
   "source": [
    "## HTML-specific package"
   ]
  },
  {
   "cell_type": "markdown",
   "id": "thorough-sharing",
   "metadata": {},
   "source": [
    "To handle HTML pages, an additional package (`lxml`) is needed:"
   ]
  },
  {
   "cell_type": "code",
   "execution_count": 2,
   "id": "straight-cathedral",
   "metadata": {},
   "outputs": [],
   "source": [
    "import lxml"
   ]
  },
  {
   "cell_type": "markdown",
   "id": "reserved-cylinder",
   "metadata": {},
   "source": [
    "## Setup"
   ]
  },
  {
   "cell_type": "markdown",
   "id": "corrected-transaction",
   "metadata": {},
   "source": [
    "The files for this class are stored in the `data/misc` directory:"
   ]
  },
  {
   "cell_type": "code",
   "execution_count": 3,
   "id": "injured-france",
   "metadata": {},
   "outputs": [],
   "source": [
    "directory = pathlib.Path(\"data\") / \"misc\""
   ]
  },
  {
   "cell_type": "markdown",
   "id": "outer-microwave",
   "metadata": {},
   "source": [
    "## Demo 1: Import data from a table in a webpage"
   ]
  },
  {
   "cell_type": "markdown",
   "id": "settled-ghana",
   "metadata": {},
   "source": [
    "The URL for this demo is the [Comunidad autónoma](https://es.wikipedia.org/wiki/Comunidad_aut%C3%B3noma) page on [Wikipedia](https://es.wikipedia.org)"
   ]
  },
  {
   "cell_type": "markdown",
   "id": "exclusive-brunswick",
   "metadata": {},
   "source": [
    "### Import all tables from a webpage into a list of dataframes"
   ]
  },
  {
   "cell_type": "code",
   "execution_count": 4,
   "id": "final-wichita",
   "metadata": {},
   "outputs": [],
   "source": [
    "url = \"https://es.wikipedia.org/wiki/Comunidad_aut%C3%B3noma\""
   ]
  },
  {
   "cell_type": "code",
   "execution_count": 5,
   "id": "funded-triumph",
   "metadata": {},
   "outputs": [],
   "source": [
    "df_list = pd.read_html(url)"
   ]
  },
  {
   "cell_type": "code",
   "execution_count": 6,
   "id": "digital-tamil",
   "metadata": {},
   "outputs": [
    {
     "data": {
      "text/plain": [
       "list"
      ]
     },
     "execution_count": 6,
     "metadata": {},
     "output_type": "execute_result"
    }
   ],
   "source": [
    "type(df_list)"
   ]
  },
  {
   "cell_type": "code",
   "execution_count": 7,
   "id": "similar-screw",
   "metadata": {},
   "outputs": [
    {
     "data": {
      "text/plain": [
       "12"
      ]
     },
     "execution_count": 7,
     "metadata": {},
     "output_type": "execute_result"
    }
   ],
   "source": [
    "len(df_list)"
   ]
  },
  {
   "cell_type": "code",
   "execution_count": 8,
   "id": "innovative-greenhouse",
   "metadata": {},
   "outputs": [
    {
     "data": {
      "text/html": [
       "<div>\n",
       "<style scoped>\n",
       "    .dataframe tbody tr th:only-of-type {\n",
       "        vertical-align: middle;\n",
       "    }\n",
       "\n",
       "    .dataframe tbody tr th {\n",
       "        vertical-align: top;\n",
       "    }\n",
       "\n",
       "    .dataframe thead th {\n",
       "        text-align: right;\n",
       "    }\n",
       "</style>\n",
       "<table border=\"1\" class=\"dataframe\">\n",
       "  <thead>\n",
       "    <tr style=\"text-align: right;\">\n",
       "      <th></th>\n",
       "      <th>0</th>\n",
       "    </tr>\n",
       "  </thead>\n",
       "  <tbody>\n",
       "    <tr>\n",
       "      <th>0</th>\n",
       "      <td>Galicia Asturias Cantabria PaísVasco Navarra L...</td>\n",
       "    </tr>\n",
       "    <tr>\n",
       "      <th>1</th>\n",
       "      <td>Comunidades autónomas de España.</td>\n",
       "    </tr>\n",
       "  </tbody>\n",
       "</table>\n",
       "</div>"
      ],
      "text/plain": [
       "                                                   0\n",
       "0  Galicia Asturias Cantabria PaísVasco Navarra L...\n",
       "1                   Comunidades autónomas de España."
      ]
     },
     "execution_count": 8,
     "metadata": {},
     "output_type": "execute_result"
    }
   ],
   "source": [
    "df = df_list[0]\n",
    "df.head()"
   ]
  },
  {
   "cell_type": "code",
   "execution_count": 9,
   "id": "awful-google",
   "metadata": {},
   "outputs": [
    {
     "data": {
      "text/html": [
       "<div>\n",
       "<style scoped>\n",
       "    .dataframe tbody tr th:only-of-type {\n",
       "        vertical-align: middle;\n",
       "    }\n",
       "\n",
       "    .dataframe tbody tr th {\n",
       "        vertical-align: top;\n",
       "    }\n",
       "\n",
       "    .dataframe thead th {\n",
       "        text-align: right;\n",
       "    }\n",
       "</style>\n",
       "<table border=\"1\" class=\"dataframe\">\n",
       "  <thead>\n",
       "    <tr style=\"text-align: right;\">\n",
       "      <th></th>\n",
       "      <th>0</th>\n",
       "    </tr>\n",
       "  </thead>\n",
       "  <tbody>\n",
       "    <tr>\n",
       "      <th>0</th>\n",
       "      <td>C LU O S BI SS NA HU L GI B T CS PM V A MU Z T...</td>\n",
       "    </tr>\n",
       "    <tr>\n",
       "      <th>1</th>\n",
       "      <td>Provincias de España identificadas según el es...</td>\n",
       "    </tr>\n",
       "  </tbody>\n",
       "</table>\n",
       "</div>"
      ],
      "text/plain": [
       "                                                   0\n",
       "0  C LU O S BI SS NA HU L GI B T CS PM V A MU Z T...\n",
       "1  Provincias de España identificadas según el es..."
      ]
     },
     "execution_count": 9,
     "metadata": {},
     "output_type": "execute_result"
    }
   ],
   "source": [
    "df = df_list[1]\n",
    "df.head()"
   ]
  },
  {
   "cell_type": "code",
   "execution_count": 10,
   "id": "organizational-amazon",
   "metadata": {},
   "outputs": [
    {
     "data": {
      "text/html": [
       "<div>\n",
       "<style scoped>\n",
       "    .dataframe tbody tr th:only-of-type {\n",
       "        vertical-align: middle;\n",
       "    }\n",
       "\n",
       "    .dataframe tbody tr th {\n",
       "        vertical-align: top;\n",
       "    }\n",
       "\n",
       "    .dataframe thead th {\n",
       "        text-align: right;\n",
       "    }\n",
       "</style>\n",
       "<table border=\"1\" class=\"dataframe\">\n",
       "  <thead>\n",
       "    <tr style=\"text-align: right;\">\n",
       "      <th></th>\n",
       "      <th>Bandera</th>\n",
       "      <th>Escudo</th>\n",
       "      <th>Comunidadautónoma</th>\n",
       "      <th>Provincias</th>\n",
       "      <th>Capital provincial</th>\n",
       "      <th>Capital de la CCAA</th>\n",
       "      <th>Estatuto de Autonomía</th>\n",
       "      <th>Localización</th>\n",
       "    </tr>\n",
       "  </thead>\n",
       "  <tbody>\n",
       "    <tr>\n",
       "      <th>0</th>\n",
       "      <td>NaN</td>\n",
       "      <td>NaN</td>\n",
       "      <td>Andalucía[6]​</td>\n",
       "      <td>Almería</td>\n",
       "      <td>Almería</td>\n",
       "      <td>Sevilla</td>\n",
       "      <td>2007 (en sustitución del anterior Estatuto, de...</td>\n",
       "      <td>NaN</td>\n",
       "    </tr>\n",
       "    <tr>\n",
       "      <th>1</th>\n",
       "      <td>NaN</td>\n",
       "      <td>NaN</td>\n",
       "      <td>Andalucía[6]​</td>\n",
       "      <td>Cádiz</td>\n",
       "      <td>Cádiz</td>\n",
       "      <td>Sevilla</td>\n",
       "      <td>2007 (en sustitución del anterior Estatuto, de...</td>\n",
       "      <td>NaN</td>\n",
       "    </tr>\n",
       "    <tr>\n",
       "      <th>2</th>\n",
       "      <td>NaN</td>\n",
       "      <td>NaN</td>\n",
       "      <td>Andalucía[6]​</td>\n",
       "      <td>Córdoba</td>\n",
       "      <td>Córdoba</td>\n",
       "      <td>Sevilla</td>\n",
       "      <td>2007 (en sustitución del anterior Estatuto, de...</td>\n",
       "      <td>NaN</td>\n",
       "    </tr>\n",
       "    <tr>\n",
       "      <th>3</th>\n",
       "      <td>NaN</td>\n",
       "      <td>NaN</td>\n",
       "      <td>Andalucía[6]​</td>\n",
       "      <td>Granada</td>\n",
       "      <td>Granada</td>\n",
       "      <td>Sevilla</td>\n",
       "      <td>2007 (en sustitución del anterior Estatuto, de...</td>\n",
       "      <td>NaN</td>\n",
       "    </tr>\n",
       "    <tr>\n",
       "      <th>4</th>\n",
       "      <td>NaN</td>\n",
       "      <td>NaN</td>\n",
       "      <td>Andalucía[6]​</td>\n",
       "      <td>Huelva</td>\n",
       "      <td>Huelva</td>\n",
       "      <td>Sevilla</td>\n",
       "      <td>2007 (en sustitución del anterior Estatuto, de...</td>\n",
       "      <td>NaN</td>\n",
       "    </tr>\n",
       "  </tbody>\n",
       "</table>\n",
       "</div>"
      ],
      "text/plain": [
       "  Bandera Escudo Comunidadautónoma Provincias Capital provincial  \\\n",
       "0     NaN    NaN     Andalucía[6]​    Almería            Almería   \n",
       "1     NaN    NaN     Andalucía[6]​      Cádiz              Cádiz   \n",
       "2     NaN    NaN     Andalucía[6]​    Córdoba            Córdoba   \n",
       "3     NaN    NaN     Andalucía[6]​    Granada            Granada   \n",
       "4     NaN    NaN     Andalucía[6]​     Huelva             Huelva   \n",
       "\n",
       "  Capital de la CCAA                              Estatuto de Autonomía  \\\n",
       "0            Sevilla  2007 (en sustitución del anterior Estatuto, de...   \n",
       "1            Sevilla  2007 (en sustitución del anterior Estatuto, de...   \n",
       "2            Sevilla  2007 (en sustitución del anterior Estatuto, de...   \n",
       "3            Sevilla  2007 (en sustitución del anterior Estatuto, de...   \n",
       "4            Sevilla  2007 (en sustitución del anterior Estatuto, de...   \n",
       "\n",
       "  Localización  \n",
       "0          NaN  \n",
       "1          NaN  \n",
       "2          NaN  \n",
       "3          NaN  \n",
       "4          NaN  "
      ]
     },
     "execution_count": 10,
     "metadata": {},
     "output_type": "execute_result"
    }
   ],
   "source": [
    "df = df_list[2]\n",
    "df.head()"
   ]
  },
  {
   "cell_type": "code",
   "execution_count": 11,
   "id": "acoustic-platinum",
   "metadata": {},
   "outputs": [
    {
     "data": {
      "text/html": [
       "<div>\n",
       "<style scoped>\n",
       "    .dataframe tbody tr th:only-of-type {\n",
       "        vertical-align: middle;\n",
       "    }\n",
       "\n",
       "    .dataframe tbody tr th {\n",
       "        vertical-align: top;\n",
       "    }\n",
       "\n",
       "    .dataframe thead th {\n",
       "        text-align: right;\n",
       "    }\n",
       "</style>\n",
       "<table border=\"1\" class=\"dataframe\">\n",
       "  <thead>\n",
       "    <tr style=\"text-align: right;\">\n",
       "      <th></th>\n",
       "      <th>Comunidad o ciudad autónoma</th>\n",
       "      <th>Comunidad o ciudad autónoma.1</th>\n",
       "      <th>Superficie (km²)</th>\n",
       "      <th>Porcentaje</th>\n",
       "    </tr>\n",
       "  </thead>\n",
       "  <tbody>\n",
       "    <tr>\n",
       "      <th>0</th>\n",
       "      <td>1</td>\n",
       "      <td>Castilla y León</td>\n",
       "      <td>94 226</td>\n",
       "      <td>18,6 %</td>\n",
       "    </tr>\n",
       "    <tr>\n",
       "      <th>1</th>\n",
       "      <td>2</td>\n",
       "      <td>Andalucía</td>\n",
       "      <td>87 268</td>\n",
       "      <td>17,2 %</td>\n",
       "    </tr>\n",
       "    <tr>\n",
       "      <th>2</th>\n",
       "      <td>3</td>\n",
       "      <td>Castilla-La Mancha</td>\n",
       "      <td>79 463</td>\n",
       "      <td>15,7 %</td>\n",
       "    </tr>\n",
       "    <tr>\n",
       "      <th>3</th>\n",
       "      <td>4</td>\n",
       "      <td>Aragón</td>\n",
       "      <td>47 719</td>\n",
       "      <td>9,4 %</td>\n",
       "    </tr>\n",
       "    <tr>\n",
       "      <th>4</th>\n",
       "      <td>5</td>\n",
       "      <td>Extremadura</td>\n",
       "      <td>41 635</td>\n",
       "      <td>8,2 %</td>\n",
       "    </tr>\n",
       "  </tbody>\n",
       "</table>\n",
       "</div>"
      ],
      "text/plain": [
       "  Comunidad o ciudad autónoma Comunidad o ciudad autónoma.1 Superficie (km²)  \\\n",
       "0                           1               Castilla y León           94 226   \n",
       "1                           2                     Andalucía           87 268   \n",
       "2                           3            Castilla-La Mancha           79 463   \n",
       "3                           4                        Aragón           47 719   \n",
       "4                           5                   Extremadura           41 635   \n",
       "\n",
       "  Porcentaje  \n",
       "0     18,6 %  \n",
       "1     17,2 %  \n",
       "2     15,7 %  \n",
       "3      9,4 %  \n",
       "4      8,2 %  "
      ]
     },
     "execution_count": 11,
     "metadata": {},
     "output_type": "execute_result"
    }
   ],
   "source": [
    "df = df_list[3]\n",
    "df.head()"
   ]
  },
  {
   "cell_type": "code",
   "execution_count": 12,
   "id": "outstanding-identity",
   "metadata": {},
   "outputs": [
    {
     "data": {
      "text/html": [
       "<div>\n",
       "<style scoped>\n",
       "    .dataframe tbody tr th:only-of-type {\n",
       "        vertical-align: middle;\n",
       "    }\n",
       "\n",
       "    .dataframe tbody tr th {\n",
       "        vertical-align: top;\n",
       "    }\n",
       "\n",
       "    .dataframe thead th {\n",
       "        text-align: right;\n",
       "    }\n",
       "</style>\n",
       "<table border=\"1\" class=\"dataframe\">\n",
       "  <thead>\n",
       "    <tr style=\"text-align: right;\">\n",
       "      <th></th>\n",
       "      <th>Posición</th>\n",
       "      <th>Nombre</th>\n",
       "      <th>Población(hab.)</th>\n",
       "      <th>%</th>\n",
       "      <th>Densidad(hab./km²)</th>\n",
       "    </tr>\n",
       "  </thead>\n",
       "  <tbody>\n",
       "    <tr>\n",
       "      <th>0</th>\n",
       "      <td>1</td>\n",
       "      <td>Andalucía</td>\n",
       "      <td>8 379 248</td>\n",
       "      <td>1799</td>\n",
       "      <td>9602</td>\n",
       "    </tr>\n",
       "    <tr>\n",
       "      <th>1</th>\n",
       "      <td>2</td>\n",
       "      <td>Cataluña</td>\n",
       "      <td>7 596 131</td>\n",
       "      <td>1622</td>\n",
       "      <td>23533</td>\n",
       "    </tr>\n",
       "    <tr>\n",
       "      <th>2</th>\n",
       "      <td>3</td>\n",
       "      <td>Comunidad de Madrid</td>\n",
       "      <td>6 576 009</td>\n",
       "      <td>1397</td>\n",
       "      <td>81117</td>\n",
       "    </tr>\n",
       "    <tr>\n",
       "      <th>3</th>\n",
       "      <td>4</td>\n",
       "      <td>Comunidad Valenciana</td>\n",
       "      <td>4 959 243</td>\n",
       "      <td>1061</td>\n",
       "      <td>21249</td>\n",
       "    </tr>\n",
       "    <tr>\n",
       "      <th>4</th>\n",
       "      <td>5</td>\n",
       "      <td>Galicia</td>\n",
       "      <td>2 700 970</td>\n",
       "      <td>582</td>\n",
       "      <td>9158</td>\n",
       "    </tr>\n",
       "  </tbody>\n",
       "</table>\n",
       "</div>"
      ],
      "text/plain": [
       "  Posición                Nombre Población(hab.)     %  Densidad(hab./km²)\n",
       "0        1             Andalucía       8 379 248  1799                9602\n",
       "1        2              Cataluña       7 596 131  1622               23533\n",
       "2        3   Comunidad de Madrid       6 576 009  1397               81117\n",
       "3        4  Comunidad Valenciana       4 959 243  1061               21249\n",
       "4        5               Galicia       2 700 970   582                9158"
      ]
     },
     "execution_count": 12,
     "metadata": {},
     "output_type": "execute_result"
    }
   ],
   "source": [
    "df = df_list[4]\n",
    "df.head()"
   ]
  },
  {
   "cell_type": "markdown",
   "id": "interim-injury",
   "metadata": {},
   "source": [
    "## Exercise 1"
   ]
  },
  {
   "cell_type": "markdown",
   "id": "compressed-charter",
   "metadata": {},
   "source": [
    "The URL for this exercise is the [Timeline of programming languages](https://en.wikipedia.org/wiki/Timeline_of_programming_languages) page from [Wikipedia](https://en.wikipedia.org/)."
   ]
  },
  {
   "cell_type": "code",
   "execution_count": 18,
   "id": "young-cotton",
   "metadata": {
    "tags": [
     "no-replacement"
    ]
   },
   "outputs": [],
   "source": [
    "url = \"https://en.wikipedia.org/wiki/Timeline_of_programming_languages\""
   ]
  },
  {
   "cell_type": "markdown",
   "id": "d9200798",
   "metadata": {},
   "source": [
    "Import the list of DataFrames from the `url`:"
   ]
  },
  {
   "cell_type": "code",
   "execution_count": 19,
   "id": "confident-cloud",
   "metadata": {},
   "outputs": [],
   "source": [
    "list_of_tables = pd.read_html(url)"
   ]
  },
  {
   "cell_type": "code",
   "execution_count": 20,
   "id": "billion-excellence",
   "metadata": {},
   "outputs": [
    {
     "data": {
      "text/plain": [
       "list"
      ]
     },
     "execution_count": 20,
     "metadata": {},
     "output_type": "execute_result"
    }
   ],
   "source": [
    "type(list_of_tables)"
   ]
  },
  {
   "cell_type": "markdown",
   "id": "45a862f3",
   "metadata": {},
   "source": [
    "Check the number of items in the list of DataFrames:"
   ]
  },
  {
   "cell_type": "code",
   "execution_count": 21,
   "id": "satisfied-rapid",
   "metadata": {},
   "outputs": [
    {
     "data": {
      "text/plain": [
       "15"
      ]
     },
     "execution_count": 21,
     "metadata": {},
     "output_type": "execute_result"
    }
   ],
   "source": [
    "len(list_of_tables)"
   ]
  },
  {
   "cell_type": "markdown",
   "id": "a79cf890",
   "metadata": {},
   "source": [
    "Identify the table with programming languages from the 1990s:"
   ]
  },
  {
   "cell_type": "code",
   "execution_count": 29,
   "id": "latter-combination",
   "metadata": {},
   "outputs": [
    {
     "data": {
      "text/html": [
       "<div>\n",
       "<style scoped>\n",
       "    .dataframe tbody tr th:only-of-type {\n",
       "        vertical-align: middle;\n",
       "    }\n",
       "\n",
       "    .dataframe tbody tr th {\n",
       "        vertical-align: top;\n",
       "    }\n",
       "\n",
       "    .dataframe thead th {\n",
       "        text-align: right;\n",
       "    }\n",
       "</style>\n",
       "<table border=\"1\" class=\"dataframe\">\n",
       "  <thead>\n",
       "    <tr style=\"text-align: right;\">\n",
       "      <th></th>\n",
       "      <th>Year</th>\n",
       "      <th>Name</th>\n",
       "      <th>Chief developer, company</th>\n",
       "      <th>Predecessor(s)</th>\n",
       "    </tr>\n",
       "  </thead>\n",
       "  <tbody>\n",
       "    <tr>\n",
       "      <th>0</th>\n",
       "      <td>1990</td>\n",
       "      <td>Sather</td>\n",
       "      <td>Steve Omohundro</td>\n",
       "      <td>Eiffel</td>\n",
       "    </tr>\n",
       "    <tr>\n",
       "      <th>1</th>\n",
       "      <td>1990</td>\n",
       "      <td>AMOS BASIC</td>\n",
       "      <td>François Lionet and Constantin Sotiropoulos</td>\n",
       "      <td>STOS BASIC</td>\n",
       "    </tr>\n",
       "    <tr>\n",
       "      <th>2</th>\n",
       "      <td>1990</td>\n",
       "      <td>AMPL</td>\n",
       "      <td>Robert Fourer, David Gay and Brian Kernighan a...</td>\n",
       "      <td>NaN</td>\n",
       "    </tr>\n",
       "    <tr>\n",
       "      <th>3</th>\n",
       "      <td>1990</td>\n",
       "      <td>Object Oberon</td>\n",
       "      <td>H Mössenböck, J Templ, R Griesemer</td>\n",
       "      <td>Oberon</td>\n",
       "    </tr>\n",
       "    <tr>\n",
       "      <th>4</th>\n",
       "      <td>1990</td>\n",
       "      <td>J</td>\n",
       "      <td>Kenneth E. Iverson, Roger Hui at Iverson Software</td>\n",
       "      <td>APL, FP</td>\n",
       "    </tr>\n",
       "  </tbody>\n",
       "</table>\n",
       "</div>"
      ],
      "text/plain": [
       "   Year           Name                           Chief developer, company  \\\n",
       "0  1990         Sather                                    Steve Omohundro   \n",
       "1  1990     AMOS BASIC        François Lionet and Constantin Sotiropoulos   \n",
       "2  1990           AMPL  Robert Fourer, David Gay and Brian Kernighan a...   \n",
       "3  1990  Object Oberon                 H Mössenböck, J Templ, R Griesemer   \n",
       "4  1990              J  Kenneth E. Iverson, Roger Hui at Iverson Software   \n",
       "\n",
       "  Predecessor(s)  \n",
       "0         Eiffel  \n",
       "1     STOS BASIC  \n",
       "2            NaN  \n",
       "3         Oberon  \n",
       "4        APL, FP  "
      ]
     },
     "execution_count": 29,
     "metadata": {},
     "output_type": "execute_result"
    }
   ],
   "source": [
    "list_of_tables[9].head()"
   ]
  },
  {
   "cell_type": "markdown",
   "id": "24d1f2ac",
   "metadata": {},
   "source": [
    "Check the first 5 rows of the DataFrame:"
   ]
  },
  {
   "cell_type": "code",
   "execution_count": 31,
   "id": "greenhouse-satellite",
   "metadata": {},
   "outputs": [],
   "source": [
    "prog_lang = list_of_tables[9]"
   ]
  },
  {
   "cell_type": "markdown",
   "id": "3f003268",
   "metadata": {},
   "source": [
    "Select the row(s) for which the \"Name\" column is equal to \"Python\":"
   ]
  },
  {
   "cell_type": "code",
   "execution_count": 35,
   "id": "assured-recommendation",
   "metadata": {},
   "outputs": [
    {
     "data": {
      "text/html": [
       "<div>\n",
       "<style scoped>\n",
       "    .dataframe tbody tr th:only-of-type {\n",
       "        vertical-align: middle;\n",
       "    }\n",
       "\n",
       "    .dataframe tbody tr th {\n",
       "        vertical-align: top;\n",
       "    }\n",
       "\n",
       "    .dataframe thead th {\n",
       "        text-align: right;\n",
       "    }\n",
       "</style>\n",
       "<table border=\"1\" class=\"dataframe\">\n",
       "  <thead>\n",
       "    <tr style=\"text-align: right;\">\n",
       "      <th></th>\n",
       "      <th>Year</th>\n",
       "      <th>Name</th>\n",
       "      <th>Chief developer, company</th>\n",
       "      <th>Predecessor(s)</th>\n",
       "    </tr>\n",
       "  </thead>\n",
       "  <tbody>\n",
       "    <tr>\n",
       "      <th>12</th>\n",
       "      <td>1991</td>\n",
       "      <td>Python</td>\n",
       "      <td>Guido van Rossum</td>\n",
       "      <td>ABC, C</td>\n",
       "    </tr>\n",
       "  </tbody>\n",
       "</table>\n",
       "</div>"
      ],
      "text/plain": [
       "    Year    Name Chief developer, company Predecessor(s)\n",
       "12  1991  Python         Guido van Rossum         ABC, C"
      ]
     },
     "execution_count": 35,
     "metadata": {},
     "output_type": "execute_result"
    }
   ],
   "source": [
    "prog_lang.loc[prog_lang[\"Name\"]==\"Python\",:]"
   ]
  },
  {
   "cell_type": "markdown",
   "id": "scenic-community",
   "metadata": {},
   "source": [
    "## Demo 2: Import data from a specific table in a webpage"
   ]
  },
  {
   "cell_type": "markdown",
   "id": "nonprofit-amendment",
   "metadata": {},
   "source": [
    "The URL for this demo is the [Comunidad autónoma](https://es.wikipedia.org/wiki/Comunidad_aut%C3%B3noma) page on [Wikipedia](https://es.wikipedia.org)"
   ]
  },
  {
   "cell_type": "code",
   "execution_count": 36,
   "id": "august-question",
   "metadata": {},
   "outputs": [],
   "source": [
    "url = \"https://es.wikipedia.org/wiki/Comunidad_aut%C3%B3noma\""
   ]
  },
  {
   "cell_type": "markdown",
   "id": "attended-omega",
   "metadata": {},
   "source": [
    "Import a subset of tables matching \"Población\" from a webpage into a list of dataframes"
   ]
  },
  {
   "cell_type": "code",
   "execution_count": 37,
   "id": "basic-thesis",
   "metadata": {},
   "outputs": [],
   "source": [
    "df_list = pd.read_html(url, match=\"Población\")"
   ]
  },
  {
   "cell_type": "code",
   "execution_count": 38,
   "id": "competitive-richmond",
   "metadata": {},
   "outputs": [
    {
     "data": {
      "text/plain": [
       "list"
      ]
     },
     "execution_count": 38,
     "metadata": {},
     "output_type": "execute_result"
    }
   ],
   "source": [
    "type(df_list)"
   ]
  },
  {
   "cell_type": "code",
   "execution_count": 39,
   "id": "precious-border",
   "metadata": {},
   "outputs": [
    {
     "data": {
      "text/plain": [
       "1"
      ]
     },
     "execution_count": 39,
     "metadata": {},
     "output_type": "execute_result"
    }
   ],
   "source": [
    "len(df_list)"
   ]
  },
  {
   "cell_type": "code",
   "execution_count": 40,
   "id": "ambient-percentage",
   "metadata": {},
   "outputs": [
    {
     "data": {
      "text/html": [
       "<div>\n",
       "<style scoped>\n",
       "    .dataframe tbody tr th:only-of-type {\n",
       "        vertical-align: middle;\n",
       "    }\n",
       "\n",
       "    .dataframe tbody tr th {\n",
       "        vertical-align: top;\n",
       "    }\n",
       "\n",
       "    .dataframe thead th {\n",
       "        text-align: right;\n",
       "    }\n",
       "</style>\n",
       "<table border=\"1\" class=\"dataframe\">\n",
       "  <thead>\n",
       "    <tr style=\"text-align: right;\">\n",
       "      <th></th>\n",
       "      <th>Posición</th>\n",
       "      <th>Nombre</th>\n",
       "      <th>Población(hab.)</th>\n",
       "      <th>%</th>\n",
       "      <th>Densidad(hab./km²)</th>\n",
       "    </tr>\n",
       "  </thead>\n",
       "  <tbody>\n",
       "    <tr>\n",
       "      <th>0</th>\n",
       "      <td>1</td>\n",
       "      <td>Andalucía</td>\n",
       "      <td>8 379 248</td>\n",
       "      <td>1799</td>\n",
       "      <td>9602</td>\n",
       "    </tr>\n",
       "    <tr>\n",
       "      <th>1</th>\n",
       "      <td>2</td>\n",
       "      <td>Cataluña</td>\n",
       "      <td>7 596 131</td>\n",
       "      <td>1622</td>\n",
       "      <td>23533</td>\n",
       "    </tr>\n",
       "    <tr>\n",
       "      <th>2</th>\n",
       "      <td>3</td>\n",
       "      <td>Comunidad de Madrid</td>\n",
       "      <td>6 576 009</td>\n",
       "      <td>1397</td>\n",
       "      <td>81117</td>\n",
       "    </tr>\n",
       "    <tr>\n",
       "      <th>3</th>\n",
       "      <td>4</td>\n",
       "      <td>Comunidad Valenciana</td>\n",
       "      <td>4 959 243</td>\n",
       "      <td>1061</td>\n",
       "      <td>21249</td>\n",
       "    </tr>\n",
       "    <tr>\n",
       "      <th>4</th>\n",
       "      <td>5</td>\n",
       "      <td>Galicia</td>\n",
       "      <td>2 700 970</td>\n",
       "      <td>582</td>\n",
       "      <td>9158</td>\n",
       "    </tr>\n",
       "  </tbody>\n",
       "</table>\n",
       "</div>"
      ],
      "text/plain": [
       "  Posición                Nombre Población(hab.)     %  Densidad(hab./km²)\n",
       "0        1             Andalucía       8 379 248  1799                9602\n",
       "1        2              Cataluña       7 596 131  1622               23533\n",
       "2        3   Comunidad de Madrid       6 576 009  1397               81117\n",
       "3        4  Comunidad Valenciana       4 959 243  1061               21249\n",
       "4        5               Galicia       2 700 970   582                9158"
      ]
     },
     "execution_count": 40,
     "metadata": {},
     "output_type": "execute_result"
    }
   ],
   "source": [
    "df = df_list[0]\n",
    "df.head()"
   ]
  },
  {
   "cell_type": "code",
   "execution_count": 41,
   "id": "empirical-column",
   "metadata": {
    "tags": [
     "raises-error"
    ]
   },
   "outputs": [
    {
     "ename": "ValueError",
     "evalue": "No tables found matching pattern 'población'",
     "output_type": "error",
     "traceback": [
      "\u001b[1;31m---------------------------------------------------------------------------\u001b[0m",
      "\u001b[1;31mValueError\u001b[0m                                Traceback (most recent call last)",
      "\u001b[1;32m<ipython-input-41-30334fbbb864>\u001b[0m in \u001b[0;36m<module>\u001b[1;34m\u001b[0m\n\u001b[0;32m      1\u001b[0m \u001b[1;31m# Raises an error, because the case is incorrect:\u001b[0m\u001b[1;33m\u001b[0m\u001b[1;33m\u001b[0m\u001b[1;33m\u001b[0m\u001b[0m\n\u001b[1;32m----> 2\u001b[1;33m \u001b[0mdf_list\u001b[0m \u001b[1;33m=\u001b[0m \u001b[0mpd\u001b[0m\u001b[1;33m.\u001b[0m\u001b[0mread_html\u001b[0m\u001b[1;33m(\u001b[0m\u001b[0murl\u001b[0m\u001b[1;33m,\u001b[0m \u001b[0mmatch\u001b[0m\u001b[1;33m=\u001b[0m\u001b[1;34m\"población\"\u001b[0m\u001b[1;33m)\u001b[0m\u001b[1;33m\u001b[0m\u001b[1;33m\u001b[0m\u001b[0m\n\u001b[0m",
      "\u001b[1;32m~\\anaconda3\\lib\\site-packages\\pandas\\util\\_decorators.py\u001b[0m in \u001b[0;36mwrapper\u001b[1;34m(*args, **kwargs)\u001b[0m\n\u001b[0;32m    297\u001b[0m                 )\n\u001b[0;32m    298\u001b[0m                 \u001b[0mwarnings\u001b[0m\u001b[1;33m.\u001b[0m\u001b[0mwarn\u001b[0m\u001b[1;33m(\u001b[0m\u001b[0mmsg\u001b[0m\u001b[1;33m,\u001b[0m \u001b[0mFutureWarning\u001b[0m\u001b[1;33m,\u001b[0m \u001b[0mstacklevel\u001b[0m\u001b[1;33m=\u001b[0m\u001b[0mstacklevel\u001b[0m\u001b[1;33m)\u001b[0m\u001b[1;33m\u001b[0m\u001b[1;33m\u001b[0m\u001b[0m\n\u001b[1;32m--> 299\u001b[1;33m             \u001b[1;32mreturn\u001b[0m \u001b[0mfunc\u001b[0m\u001b[1;33m(\u001b[0m\u001b[1;33m*\u001b[0m\u001b[0margs\u001b[0m\u001b[1;33m,\u001b[0m \u001b[1;33m**\u001b[0m\u001b[0mkwargs\u001b[0m\u001b[1;33m)\u001b[0m\u001b[1;33m\u001b[0m\u001b[1;33m\u001b[0m\u001b[0m\n\u001b[0m\u001b[0;32m    300\u001b[0m \u001b[1;33m\u001b[0m\u001b[0m\n\u001b[0;32m    301\u001b[0m         \u001b[1;32mreturn\u001b[0m \u001b[0mwrapper\u001b[0m\u001b[1;33m\u001b[0m\u001b[1;33m\u001b[0m\u001b[0m\n",
      "\u001b[1;32m~\\anaconda3\\lib\\site-packages\\pandas\\io\\html.py\u001b[0m in \u001b[0;36mread_html\u001b[1;34m(io, match, flavor, header, index_col, skiprows, attrs, parse_dates, thousands, encoding, decimal, converters, na_values, keep_default_na, displayed_only)\u001b[0m\n\u001b[0;32m   1083\u001b[0m     \u001b[0mio\u001b[0m \u001b[1;33m=\u001b[0m \u001b[0mstringify_path\u001b[0m\u001b[1;33m(\u001b[0m\u001b[0mio\u001b[0m\u001b[1;33m)\u001b[0m\u001b[1;33m\u001b[0m\u001b[1;33m\u001b[0m\u001b[0m\n\u001b[0;32m   1084\u001b[0m \u001b[1;33m\u001b[0m\u001b[0m\n\u001b[1;32m-> 1085\u001b[1;33m     return _parse(\n\u001b[0m\u001b[0;32m   1086\u001b[0m         \u001b[0mflavor\u001b[0m\u001b[1;33m=\u001b[0m\u001b[0mflavor\u001b[0m\u001b[1;33m,\u001b[0m\u001b[1;33m\u001b[0m\u001b[1;33m\u001b[0m\u001b[0m\n\u001b[0;32m   1087\u001b[0m         \u001b[0mio\u001b[0m\u001b[1;33m=\u001b[0m\u001b[0mio\u001b[0m\u001b[1;33m,\u001b[0m\u001b[1;33m\u001b[0m\u001b[1;33m\u001b[0m\u001b[0m\n",
      "\u001b[1;32m~\\anaconda3\\lib\\site-packages\\pandas\\io\\html.py\u001b[0m in \u001b[0;36m_parse\u001b[1;34m(flavor, io, match, attrs, encoding, displayed_only, **kwargs)\u001b[0m\n\u001b[0;32m    911\u001b[0m     \u001b[1;32melse\u001b[0m\u001b[1;33m:\u001b[0m\u001b[1;33m\u001b[0m\u001b[1;33m\u001b[0m\u001b[0m\n\u001b[0;32m    912\u001b[0m         \u001b[1;32massert\u001b[0m \u001b[0mretained\u001b[0m \u001b[1;32mis\u001b[0m \u001b[1;32mnot\u001b[0m \u001b[1;32mNone\u001b[0m  \u001b[1;31m# for mypy\u001b[0m\u001b[1;33m\u001b[0m\u001b[1;33m\u001b[0m\u001b[0m\n\u001b[1;32m--> 913\u001b[1;33m         \u001b[1;32mraise\u001b[0m \u001b[0mretained\u001b[0m\u001b[1;33m\u001b[0m\u001b[1;33m\u001b[0m\u001b[0m\n\u001b[0m\u001b[0;32m    914\u001b[0m \u001b[1;33m\u001b[0m\u001b[0m\n\u001b[0;32m    915\u001b[0m     \u001b[0mret\u001b[0m \u001b[1;33m=\u001b[0m \u001b[1;33m[\u001b[0m\u001b[1;33m]\u001b[0m\u001b[1;33m\u001b[0m\u001b[1;33m\u001b[0m\u001b[0m\n",
      "\u001b[1;32m~\\anaconda3\\lib\\site-packages\\pandas\\io\\html.py\u001b[0m in \u001b[0;36m_parse\u001b[1;34m(flavor, io, match, attrs, encoding, displayed_only, **kwargs)\u001b[0m\n\u001b[0;32m    891\u001b[0m \u001b[1;33m\u001b[0m\u001b[0m\n\u001b[0;32m    892\u001b[0m         \u001b[1;32mtry\u001b[0m\u001b[1;33m:\u001b[0m\u001b[1;33m\u001b[0m\u001b[1;33m\u001b[0m\u001b[0m\n\u001b[1;32m--> 893\u001b[1;33m             \u001b[0mtables\u001b[0m \u001b[1;33m=\u001b[0m \u001b[0mp\u001b[0m\u001b[1;33m.\u001b[0m\u001b[0mparse_tables\u001b[0m\u001b[1;33m(\u001b[0m\u001b[1;33m)\u001b[0m\u001b[1;33m\u001b[0m\u001b[1;33m\u001b[0m\u001b[0m\n\u001b[0m\u001b[0;32m    894\u001b[0m         \u001b[1;32mexcept\u001b[0m \u001b[0mValueError\u001b[0m \u001b[1;32mas\u001b[0m \u001b[0mcaught\u001b[0m\u001b[1;33m:\u001b[0m\u001b[1;33m\u001b[0m\u001b[1;33m\u001b[0m\u001b[0m\n\u001b[0;32m    895\u001b[0m             \u001b[1;31m# if `io` is an io-like object, check if it's seekable\u001b[0m\u001b[1;33m\u001b[0m\u001b[1;33m\u001b[0m\u001b[1;33m\u001b[0m\u001b[0m\n",
      "\u001b[1;32m~\\anaconda3\\lib\\site-packages\\pandas\\io\\html.py\u001b[0m in \u001b[0;36mparse_tables\u001b[1;34m(self)\u001b[0m\n\u001b[0;32m    211\u001b[0m         \u001b[0mlist\u001b[0m \u001b[0mof\u001b[0m \u001b[0mparsed\u001b[0m \u001b[1;33m(\u001b[0m\u001b[0mheader\u001b[0m\u001b[1;33m,\u001b[0m \u001b[0mbody\u001b[0m\u001b[1;33m,\u001b[0m \u001b[0mfooter\u001b[0m\u001b[1;33m)\u001b[0m \u001b[0mtuples\u001b[0m \u001b[1;32mfrom\u001b[0m \u001b[0mtables\u001b[0m\u001b[1;33m.\u001b[0m\u001b[1;33m\u001b[0m\u001b[1;33m\u001b[0m\u001b[0m\n\u001b[0;32m    212\u001b[0m         \"\"\"\n\u001b[1;32m--> 213\u001b[1;33m         \u001b[0mtables\u001b[0m \u001b[1;33m=\u001b[0m \u001b[0mself\u001b[0m\u001b[1;33m.\u001b[0m\u001b[0m_parse_tables\u001b[0m\u001b[1;33m(\u001b[0m\u001b[0mself\u001b[0m\u001b[1;33m.\u001b[0m\u001b[0m_build_doc\u001b[0m\u001b[1;33m(\u001b[0m\u001b[1;33m)\u001b[0m\u001b[1;33m,\u001b[0m \u001b[0mself\u001b[0m\u001b[1;33m.\u001b[0m\u001b[0mmatch\u001b[0m\u001b[1;33m,\u001b[0m \u001b[0mself\u001b[0m\u001b[1;33m.\u001b[0m\u001b[0mattrs\u001b[0m\u001b[1;33m)\u001b[0m\u001b[1;33m\u001b[0m\u001b[1;33m\u001b[0m\u001b[0m\n\u001b[0m\u001b[0;32m    214\u001b[0m         \u001b[1;32mreturn\u001b[0m \u001b[1;33m(\u001b[0m\u001b[0mself\u001b[0m\u001b[1;33m.\u001b[0m\u001b[0m_parse_thead_tbody_tfoot\u001b[0m\u001b[1;33m(\u001b[0m\u001b[0mtable\u001b[0m\u001b[1;33m)\u001b[0m \u001b[1;32mfor\u001b[0m \u001b[0mtable\u001b[0m \u001b[1;32min\u001b[0m \u001b[0mtables\u001b[0m\u001b[1;33m)\u001b[0m\u001b[1;33m\u001b[0m\u001b[1;33m\u001b[0m\u001b[0m\n\u001b[0;32m    215\u001b[0m \u001b[1;33m\u001b[0m\u001b[0m\n",
      "\u001b[1;32m~\\anaconda3\\lib\\site-packages\\pandas\\io\\html.py\u001b[0m in \u001b[0;36m_parse_tables\u001b[1;34m(self, doc, match, attrs)\u001b[0m\n\u001b[0;32m    557\u001b[0m \u001b[1;33m\u001b[0m\u001b[0m\n\u001b[0;32m    558\u001b[0m         \u001b[1;32mif\u001b[0m \u001b[1;32mnot\u001b[0m \u001b[0mresult\u001b[0m\u001b[1;33m:\u001b[0m\u001b[1;33m\u001b[0m\u001b[1;33m\u001b[0m\u001b[0m\n\u001b[1;32m--> 559\u001b[1;33m             \u001b[1;32mraise\u001b[0m \u001b[0mValueError\u001b[0m\u001b[1;33m(\u001b[0m\u001b[1;34mf\"No tables found matching pattern {repr(match.pattern)}\"\u001b[0m\u001b[1;33m)\u001b[0m\u001b[1;33m\u001b[0m\u001b[1;33m\u001b[0m\u001b[0m\n\u001b[0m\u001b[0;32m    560\u001b[0m         \u001b[1;32mreturn\u001b[0m \u001b[0mresult\u001b[0m\u001b[1;33m\u001b[0m\u001b[1;33m\u001b[0m\u001b[0m\n\u001b[0;32m    561\u001b[0m \u001b[1;33m\u001b[0m\u001b[0m\n",
      "\u001b[1;31mValueError\u001b[0m: No tables found matching pattern 'población'"
     ]
    }
   ],
   "source": [
    "# Raises an error, because the case is incorrect:\n",
    "df_list = pd.read_html(url, match=\"población\")"
   ]
  },
  {
   "cell_type": "markdown",
   "id": "narrative-massage",
   "metadata": {},
   "source": [
    "## Exercise 2"
   ]
  },
  {
   "cell_type": "markdown",
   "id": "quiet-trout",
   "metadata": {},
   "source": [
    "The URL for this exercise is the [Economy of Spain](https://en.wikipedia.org/wiki/Economy_of_Spain) page from [Wikipedia](https://en.wikipedia.org/)."
   ]
  },
  {
   "cell_type": "code",
   "execution_count": 42,
   "id": "federal-science",
   "metadata": {
    "tags": [
     "no-replacement"
    ]
   },
   "outputs": [],
   "source": [
    "url = \"https://en.wikipedia.org/wiki/Economy_of_Spain\""
   ]
  },
  {
   "cell_type": "markdown",
   "id": "9c8116d6",
   "metadata": {},
   "source": [
    "Import a list of DataFrames containing \"Government debt\" from the `url`:"
   ]
  },
  {
   "cell_type": "code",
   "execution_count": 43,
   "id": "minute-occasion",
   "metadata": {},
   "outputs": [],
   "source": [
    "lists = pd.read_html(url, match=\"Government debt\")"
   ]
  },
  {
   "cell_type": "code",
   "execution_count": 44,
   "id": "attended-offense",
   "metadata": {},
   "outputs": [
    {
     "data": {
      "text/plain": [
       "list"
      ]
     },
     "execution_count": 44,
     "metadata": {},
     "output_type": "execute_result"
    }
   ],
   "source": [
    "type(lists)"
   ]
  },
  {
   "cell_type": "markdown",
   "id": "ecbab224",
   "metadata": {},
   "source": [
    "Check the number of items in the list of DataFrames:"
   ]
  },
  {
   "cell_type": "code",
   "execution_count": 45,
   "id": "bacterial-train",
   "metadata": {},
   "outputs": [
    {
     "data": {
      "text/plain": [
       "1"
      ]
     },
     "execution_count": 45,
     "metadata": {},
     "output_type": "execute_result"
    }
   ],
   "source": [
    "len(lists)"
   ]
  },
  {
   "cell_type": "markdown",
   "id": "d4f1116e",
   "metadata": {},
   "source": [
    "Identify the table of interest:"
   ]
  },
  {
   "cell_type": "code",
   "execution_count": 46,
   "id": "secure-retro",
   "metadata": {},
   "outputs": [],
   "source": [
    "my_list = lists[0]"
   ]
  },
  {
   "cell_type": "markdown",
   "id": "039bd0bd",
   "metadata": {},
   "source": [
    "Check the first 5 rows of the DataFrame:"
   ]
  },
  {
   "cell_type": "code",
   "execution_count": 47,
   "id": "decent-exposure",
   "metadata": {},
   "outputs": [
    {
     "data": {
      "text/html": [
       "<div>\n",
       "<style scoped>\n",
       "    .dataframe tbody tr th:only-of-type {\n",
       "        vertical-align: middle;\n",
       "    }\n",
       "\n",
       "    .dataframe tbody tr th {\n",
       "        vertical-align: top;\n",
       "    }\n",
       "\n",
       "    .dataframe thead th {\n",
       "        text-align: right;\n",
       "    }\n",
       "</style>\n",
       "<table border=\"1\" class=\"dataframe\">\n",
       "  <thead>\n",
       "    <tr style=\"text-align: right;\">\n",
       "      <th></th>\n",
       "      <th>Year</th>\n",
       "      <th>GDP(in bil. euro)</th>\n",
       "      <th>GDP per capita(in euro)</th>\n",
       "      <th>GDP growth(real)</th>\n",
       "      <th>Inflation rate(in percent)</th>\n",
       "      <th>Unemployment (in percent)</th>\n",
       "      <th>Government debt(in % of GDP)</th>\n",
       "    </tr>\n",
       "  </thead>\n",
       "  <tbody>\n",
       "    <tr>\n",
       "      <th>0</th>\n",
       "      <td>1980</td>\n",
       "      <td>99.0</td>\n",
       "      <td>2627</td>\n",
       "      <td>1.2%</td>\n",
       "      <td>15.6%</td>\n",
       "      <td>11.0%</td>\n",
       "      <td>16.6%</td>\n",
       "    </tr>\n",
       "    <tr>\n",
       "      <th>1</th>\n",
       "      <td>1981</td>\n",
       "      <td>112.8</td>\n",
       "      <td>2967</td>\n",
       "      <td>−0.4%</td>\n",
       "      <td>14.5%</td>\n",
       "      <td>13.8%</td>\n",
       "      <td>20.0%</td>\n",
       "    </tr>\n",
       "    <tr>\n",
       "      <th>2</th>\n",
       "      <td>1982</td>\n",
       "      <td>129.6</td>\n",
       "      <td>3390</td>\n",
       "      <td>1.2%</td>\n",
       "      <td>14.4%</td>\n",
       "      <td>15.8%</td>\n",
       "      <td>25.1%</td>\n",
       "    </tr>\n",
       "    <tr>\n",
       "      <th>3</th>\n",
       "      <td>1983</td>\n",
       "      <td>147.9</td>\n",
       "      <td>3851</td>\n",
       "      <td>1,7%</td>\n",
       "      <td>12,2%</td>\n",
       "      <td>17,2%</td>\n",
       "      <td>30,3%</td>\n",
       "    </tr>\n",
       "    <tr>\n",
       "      <th>4</th>\n",
       "      <td>1984</td>\n",
       "      <td>165.7</td>\n",
       "      <td>4299</td>\n",
       "      <td>1.7%</td>\n",
       "      <td>11.3%</td>\n",
       "      <td>19.9%</td>\n",
       "      <td>37.1%</td>\n",
       "    </tr>\n",
       "  </tbody>\n",
       "</table>\n",
       "</div>"
      ],
      "text/plain": [
       "   Year  GDP(in bil. euro)  GDP per capita(in euro) GDP growth(real)  \\\n",
       "0  1980               99.0                     2627             1.2%   \n",
       "1  1981              112.8                     2967            −0.4%   \n",
       "2  1982              129.6                     3390             1.2%   \n",
       "3  1983              147.9                     3851             1,7%   \n",
       "4  1984              165.7                     4299             1.7%   \n",
       "\n",
       "  Inflation rate(in percent) Unemployment (in percent)  \\\n",
       "0                      15.6%                     11.0%   \n",
       "1                      14.5%                     13.8%   \n",
       "2                      14.4%                     15.8%   \n",
       "3                      12,2%                     17,2%   \n",
       "4                      11.3%                     19.9%   \n",
       "\n",
       "  Government debt(in % of GDP)  \n",
       "0                        16.6%  \n",
       "1                        20.0%  \n",
       "2                        25.1%  \n",
       "3                        30,3%  \n",
       "4                        37.1%  "
      ]
     },
     "execution_count": 47,
     "metadata": {},
     "output_type": "execute_result"
    }
   ],
   "source": [
    "my_list.head()"
   ]
  },
  {
   "cell_type": "markdown",
   "id": "b6be58f9",
   "metadata": {},
   "source": [
    "### Bonus: Plot the debt vs the year"
   ]
  },
  {
   "cell_type": "markdown",
   "id": "ab9f03cd",
   "metadata": {},
   "source": [
    "Set the \"Year\" column to be the index:"
   ]
  },
  {
   "cell_type": "code",
   "execution_count": null,
   "id": "sudden-watch",
   "metadata": {},
   "outputs": [],
   "source": []
  },
  {
   "cell_type": "code",
   "execution_count": null,
   "id": "frozen-midwest",
   "metadata": {},
   "outputs": [],
   "source": []
  },
  {
   "cell_type": "code",
   "execution_count": null,
   "id": "korean-plaza",
   "metadata": {
    "tags": [
     "raises-error"
    ]
   },
   "outputs": [],
   "source": []
  },
  {
   "cell_type": "code",
   "execution_count": null,
   "id": "muslim-journal",
   "metadata": {},
   "outputs": [],
   "source": []
  },
  {
   "cell_type": "code",
   "execution_count": null,
   "id": "sustainable-savage",
   "metadata": {},
   "outputs": [],
   "source": []
  },
  {
   "cell_type": "code",
   "execution_count": null,
   "id": "thick-brunswick",
   "metadata": {},
   "outputs": [],
   "source": []
  },
  {
   "cell_type": "code",
   "execution_count": null,
   "id": "immediate-bridge",
   "metadata": {},
   "outputs": [],
   "source": []
  },
  {
   "cell_type": "code",
   "execution_count": null,
   "id": "mature-insulin",
   "metadata": {
    "tags": [
     "raises-error"
    ]
   },
   "outputs": [],
   "source": []
  },
  {
   "cell_type": "code",
   "execution_count": null,
   "id": "national-translation",
   "metadata": {},
   "outputs": [],
   "source": []
  },
  {
   "cell_type": "code",
   "execution_count": null,
   "id": "cloudy-technician",
   "metadata": {
    "tags": [
     "raises-error"
    ]
   },
   "outputs": [],
   "source": []
  },
  {
   "cell_type": "code",
   "execution_count": null,
   "id": "mediterranean-breeding",
   "metadata": {},
   "outputs": [],
   "source": []
  },
  {
   "cell_type": "code",
   "execution_count": null,
   "id": "major-basic",
   "metadata": {
    "tags": [
     "raises-error"
    ]
   },
   "outputs": [],
   "source": []
  },
  {
   "cell_type": "code",
   "execution_count": null,
   "id": "patent-interim",
   "metadata": {},
   "outputs": [],
   "source": []
  },
  {
   "cell_type": "code",
   "execution_count": null,
   "id": "exposed-quilt",
   "metadata": {},
   "outputs": [],
   "source": []
  },
  {
   "cell_type": "code",
   "execution_count": null,
   "id": "be2f96a6",
   "metadata": {},
   "outputs": [],
   "source": []
  },
  {
   "cell_type": "markdown",
   "id": "straight-mixture",
   "metadata": {},
   "source": [
    "## Demo 3: Import data from the clipboard"
   ]
  },
  {
   "cell_type": "markdown",
   "id": "commercial-power",
   "metadata": {},
   "source": [
    "### Import data from the clipboard into a dataframe"
   ]
  },
  {
   "cell_type": "code",
   "execution_count": 52,
   "id": "fantastic-biology",
   "metadata": {},
   "outputs": [],
   "source": [
    "filename = \"demo-3.csv\"\n",
    "file = directory / filename"
   ]
  },
  {
   "cell_type": "markdown",
   "id": "65c3405b",
   "metadata": {},
   "source": [
    "**Open the text file and select some lines:**"
   ]
  },
  {
   "cell_type": "code",
   "execution_count": 53,
   "id": "expired-gauge",
   "metadata": {
    "tags": [
     "no-execution"
    ]
   },
   "outputs": [],
   "source": [
    "! explorer {file}"
   ]
  },
  {
   "cell_type": "code",
   "execution_count": 54,
   "id": "passive-trace",
   "metadata": {
    "tags": [
     "no-execution"
    ]
   },
   "outputs": [],
   "source": [
    "df = pd.read_clipboard()"
   ]
  },
  {
   "cell_type": "code",
   "execution_count": 55,
   "id": "determined-cooperation",
   "metadata": {
    "tags": [
     "no-execution"
    ]
   },
   "outputs": [
    {
     "data": {
      "text/html": [
       "<div>\n",
       "<style scoped>\n",
       "    .dataframe tbody tr th:only-of-type {\n",
       "        vertical-align: middle;\n",
       "    }\n",
       "\n",
       "    .dataframe tbody tr th {\n",
       "        vertical-align: top;\n",
       "    }\n",
       "\n",
       "    .dataframe thead th {\n",
       "        text-align: right;\n",
       "    }\n",
       "</style>\n",
       "<table border=\"1\" class=\"dataframe\">\n",
       "  <thead>\n",
       "    <tr style=\"text-align: right;\">\n",
       "      <th></th>\n",
       "      <th>Country,Capital</th>\n",
       "    </tr>\n",
       "  </thead>\n",
       "  <tbody>\n",
       "    <tr>\n",
       "      <th>0</th>\n",
       "      <td>Spain,Madrid</td>\n",
       "    </tr>\n",
       "    <tr>\n",
       "      <th>1</th>\n",
       "      <td>France,Paris</td>\n",
       "    </tr>\n",
       "    <tr>\n",
       "      <th>2</th>\n",
       "      <td>Germany,Berlin</td>\n",
       "    </tr>\n",
       "  </tbody>\n",
       "</table>\n",
       "</div>"
      ],
      "text/plain": [
       "  Country,Capital\n",
       "0    Spain,Madrid\n",
       "1    France,Paris\n",
       "2  Germany,Berlin"
      ]
     },
     "execution_count": 55,
     "metadata": {},
     "output_type": "execute_result"
    }
   ],
   "source": [
    "df"
   ]
  },
  {
   "cell_type": "code",
   "execution_count": 56,
   "id": "chicken-leonard",
   "metadata": {
    "tags": [
     "no-execution"
    ]
   },
   "outputs": [],
   "source": [
    "df = pd.read_clipboard(sep=\",\")"
   ]
  },
  {
   "cell_type": "code",
   "execution_count": 57,
   "id": "sweet-harmony",
   "metadata": {
    "tags": [
     "no-execution"
    ]
   },
   "outputs": [
    {
     "data": {
      "text/html": [
       "<div>\n",
       "<style scoped>\n",
       "    .dataframe tbody tr th:only-of-type {\n",
       "        vertical-align: middle;\n",
       "    }\n",
       "\n",
       "    .dataframe tbody tr th {\n",
       "        vertical-align: top;\n",
       "    }\n",
       "\n",
       "    .dataframe thead th {\n",
       "        text-align: right;\n",
       "    }\n",
       "</style>\n",
       "<table border=\"1\" class=\"dataframe\">\n",
       "  <thead>\n",
       "    <tr style=\"text-align: right;\">\n",
       "      <th></th>\n",
       "      <th>Country</th>\n",
       "      <th>Capital</th>\n",
       "    </tr>\n",
       "  </thead>\n",
       "  <tbody>\n",
       "    <tr>\n",
       "      <th>0</th>\n",
       "      <td>Spain</td>\n",
       "      <td>Madrid</td>\n",
       "    </tr>\n",
       "    <tr>\n",
       "      <th>1</th>\n",
       "      <td>France</td>\n",
       "      <td>Paris</td>\n",
       "    </tr>\n",
       "    <tr>\n",
       "      <th>2</th>\n",
       "      <td>Germany</td>\n",
       "      <td>Berlin</td>\n",
       "    </tr>\n",
       "  </tbody>\n",
       "</table>\n",
       "</div>"
      ],
      "text/plain": [
       "   Country Capital\n",
       "0    Spain  Madrid\n",
       "1   France   Paris\n",
       "2  Germany  Berlin"
      ]
     },
     "execution_count": 57,
     "metadata": {},
     "output_type": "execute_result"
    }
   ],
   "source": [
    "df"
   ]
  },
  {
   "cell_type": "markdown",
   "id": "addressed-stick",
   "metadata": {},
   "source": [
    "## Exercise 3"
   ]
  },
  {
   "cell_type": "markdown",
   "id": "exclusive-tattoo",
   "metadata": {},
   "source": [
    "The dataset for this exercise is taken from the [List of European Union member states by population](https://en.wikipedia.org/wiki/List_of_European_Union_member_states_by_population) page on [Wikipedia](https://en.wikipedia.org)."
   ]
  },
  {
   "cell_type": "code",
   "execution_count": 59,
   "id": "alpha-management",
   "metadata": {},
   "outputs": [],
   "source": [
    "filename = \"exercise-3.csv\"\n",
    "file = directory / filename"
   ]
  },
  {
   "cell_type": "markdown",
   "id": "083f5913",
   "metadata": {},
   "source": [
    "**Open the exercise-3.csv file with a text editor, then  copy the 3 most populated EU countries in the clipboard**"
   ]
  },
  {
   "cell_type": "code",
   "execution_count": 65,
   "id": "digital-apartment",
   "metadata": {
    "tags": [
     "no-execution",
     "no-replacement"
    ]
   },
   "outputs": [],
   "source": [
    "! explorer {file}"
   ]
  },
  {
   "cell_type": "markdown",
   "id": "d0e2e22d",
   "metadata": {},
   "source": [
    "Import the data from the clipboard:"
   ]
  },
  {
   "cell_type": "code",
   "execution_count": 69,
   "id": "young-lecture",
   "metadata": {
    "tags": [
     "no-execution"
    ]
   },
   "outputs": [],
   "source": [
    "df = pd.read_clipboard(sep='\\t')"
   ]
  },
  {
   "cell_type": "markdown",
   "id": "6781bd49",
   "metadata": {},
   "source": [
    "Check the first 5 rows of the DataFrame:"
   ]
  },
  {
   "cell_type": "code",
   "execution_count": 70,
   "id": "arabic-debut",
   "metadata": {
    "tags": [
     "no-execution"
    ]
   },
   "outputs": [
    {
     "data": {
      "text/html": [
       "<div>\n",
       "<style scoped>\n",
       "    .dataframe tbody tr th:only-of-type {\n",
       "        vertical-align: middle;\n",
       "    }\n",
       "\n",
       "    .dataframe tbody tr th {\n",
       "        vertical-align: top;\n",
       "    }\n",
       "\n",
       "    .dataframe thead th {\n",
       "        text-align: right;\n",
       "    }\n",
       "</style>\n",
       "<table border=\"1\" class=\"dataframe\">\n",
       "  <thead>\n",
       "    <tr style=\"text-align: right;\">\n",
       "      <th></th>\n",
       "      <th>Country</th>\n",
       "      <th>Population</th>\n",
       "    </tr>\n",
       "  </thead>\n",
       "  <tbody>\n",
       "    <tr>\n",
       "      <th>0</th>\n",
       "      <td>Germany</td>\n",
       "      <td>83166711</td>\n",
       "    </tr>\n",
       "    <tr>\n",
       "      <th>1</th>\n",
       "      <td>France</td>\n",
       "      <td>67098824</td>\n",
       "    </tr>\n",
       "    <tr>\n",
       "      <th>2</th>\n",
       "      <td>Italy</td>\n",
       "      <td>60244639</td>\n",
       "    </tr>\n",
       "    <tr>\n",
       "      <th>3</th>\n",
       "      <td>Spain</td>\n",
       "      <td>47329981</td>\n",
       "    </tr>\n",
       "    <tr>\n",
       "      <th>4</th>\n",
       "      <td>Poland</td>\n",
       "      <td>37958138</td>\n",
       "    </tr>\n",
       "  </tbody>\n",
       "</table>\n",
       "</div>"
      ],
      "text/plain": [
       "   Country  Population\n",
       "0  Germany    83166711\n",
       "1   France    67098824\n",
       "2    Italy    60244639\n",
       "3    Spain    47329981\n",
       "4   Poland    37958138"
      ]
     },
     "execution_count": 70,
     "metadata": {},
     "output_type": "execute_result"
    }
   ],
   "source": [
    "df.head()"
   ]
  },
  {
   "cell_type": "markdown",
   "id": "happy-institution",
   "metadata": {},
   "source": [
    "## Demo 4: Import data from a PDF file"
   ]
  },
  {
   "cell_type": "markdown",
   "id": "aboriginal-thread",
   "metadata": {},
   "source": [
    "The PDF for this demo is the [Informe diario de situación COVID-19 del 7 de marzo 2021](https://www.comunidad.madrid/sites/default/files/doc/sanidad/210307_cam_covid19.pdf) from the [Coronavirus page](https://www.comunidad.madrid/servicios/salud/coronavirus) provided by the Comunidad de Madrid."
   ]
  },
  {
   "cell_type": "code",
   "execution_count": null,
   "id": "composite-nigeria",
   "metadata": {},
   "outputs": [],
   "source": [
    "filename = \"demo-4.pdf\"\n",
    "file = directory / filename"
   ]
  },
  {
   "cell_type": "markdown",
   "id": "0818eaa8",
   "metadata": {},
   "source": [
    "**Open the PDF file, and use Tabula to extract data from some tables:**"
   ]
  },
  {
   "cell_type": "code",
   "execution_count": null,
   "id": "lesser-chess",
   "metadata": {
    "tags": [
     "no-execution"
    ]
   },
   "outputs": [],
   "source": [
    "! open {file}"
   ]
  },
  {
   "cell_type": "markdown",
   "id": "ahead-cholesterol",
   "metadata": {},
   "source": [
    "Use [Tabula](http://127.0.0.1:8080) to extract tables from the PDF file."
   ]
  },
  {
   "cell_type": "markdown",
   "id": "configured-slovak",
   "metadata": {},
   "source": [
    "[Example of Tabula usage by journalists](https://github.com/nytimes/gunsales):\n",
    "> Statistical analysis of monthly background checks of gun purchases,  \n",
    "> for the New York Times story [*What Drives Gun Sales: Terrorism,\n",
    "Obama and Calls for Restrictions*](http://www.nytimes.com/interactive/2015/12/10/us/gun-sales-terrorism-obama-restrictions.html?).\n",
    "\n",
    "> The source data comes from the [FBI's National Instant Criminal Background Check System](https://www.fbi.gov/about-us/cjis/nics)  \n",
    "> and was converted from the original [PDF format](https://www.fbi.gov/file-repository/nics_firearm_checks_-_month_year_by_state_type.pdf) to CSV using [Tabula](http://tabula.technology/).\n"
   ]
  }
 ],
 "metadata": {
  "kernelspec": {
   "display_name": "Python 3",
   "language": "python",
   "name": "python3"
  },
  "language_info": {
   "codemirror_mode": {
    "name": "ipython",
    "version": 3
   },
   "file_extension": ".py",
   "mimetype": "text/x-python",
   "name": "python",
   "nbconvert_exporter": "python",
   "pygments_lexer": "ipython3",
   "version": "3.8.10"
  }
 },
 "nbformat": 4,
 "nbformat_minor": 5
}
